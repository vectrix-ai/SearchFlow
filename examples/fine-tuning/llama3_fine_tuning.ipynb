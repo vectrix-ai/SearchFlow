{
 "cells": [
  {
   "cell_type": "markdown",
   "metadata": {},
   "source": [
    "# Llama 3 Fine-Tuning 🦙⚙️\n",
    "\n",
    "## Prompt Structure\n",
    "https://llama.meta.com/docs/model-cards-and-prompt-formats/meta-llama-3\n",
    "\n",
    "Special Tokens used with Meta Llama 3\n",
    " - **<|begin_of_text|>**: This is equivalent to the BOS token\n",
    " - **<|eot_id|>**: This signifies the end of the message in a turn.\n",
    " - **<|start_header_id|>{role}<|end_header_id|>**: These tokens enclose the role for a particular message. The possible roles can be: system, user, assistant.\n",
    "- **<|end_of_text|>**: This is equivalent to the EOS token. On generating this token, Llama 3 will cease to generate more tokens.\n",
    "A prompt should contain a single system message, can contain multiple alternating user and assistant messages, and always ends with the last user message followed by the assistant header.\n",
    "\n",
    "### Example:\n",
    "\n",
    "```json\n",
    "<|begin_of_text|> // Specifies the start of the prompt\n",
    "<|start_header_id|>user<|end_header_id|> // pecifies the role for the following message i.e. “user” or “assistant”\n",
    "\n",
    "This is a user message<|eot_id|> // Specifies the end of the message\n",
    "\n",
    "<|start_header_id|>assistant<|end_header_id|>\n",
    "\n",
    "This is the assistant response<|eot_id|>\n",
    "```\n",
    "\n",
    "### Converting the example to JSONL format\n",
    "```jsonl\n",
    "{\"prompt\": \"<start_header_id>system<end_header_id>\\nYou are a helpful assistant.<eot_id><start_header_id>user<end_header_id>\\nWhat is the capital of France?<eot_id><start_header_id>assistant<end_header_id>\", \"completion\": \" Paris is the capital of France.<eot_id>\"}\n",
    "\n",
    "{\"prompt\": \"<start_header_id>system<end_header_id>\\nYou are a helpful assistant.<eot_id><start_header_id>user<end_header_id>\\nWhat is the largest mammal?<eot_id><start_header_id>assistant<end_header_id>\", \"completion\": \" The blue whale is the largest mammal, and in fact the largest animal that has ever lived. Adult blue whales can reach lengths of over 100 feet and weigh over 200 tons.<eot_id>\"}\n",
    "\n",
    "{\"prompt\": \"<start_header_id>system<end_header_id>\\nYou are a helpful assistant.<eot_id><start_header_id>user<end_header_id>\\nWhat year did World War 2 end?<eot_id><start_header_id>assistant<end_header_id>\", \"completion\": \" World War 2 ended in 1945. Germany surrendered in May 1945 after the Soviet capture of Berlin. Japan surrendered in August 1945 following the atomic bombings of Hiroshima and Nagasaki.<eot_id>\"}\n",
    "```"
   ]
  },
  {
   "cell_type": "code",
   "execution_count": null,
   "metadata": {},
   "outputs": [],
   "source": [
    "import "
   ]
  }
 ],
 "metadata": {
  "language_info": {
   "name": "python"
  }
 },
 "nbformat": 4,
 "nbformat_minor": 2
}
