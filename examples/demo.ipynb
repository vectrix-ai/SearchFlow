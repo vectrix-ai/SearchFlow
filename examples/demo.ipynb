{
 "cells": [
  {
   "cell_type": "code",
   "execution_count": 2,
   "metadata": {},
   "outputs": [],
   "source": [
    "from dotenv import load_dotenv\n",
    "load_dotenv()\n",
    "import os\n",
    "\n",
    "import warnings\n",
    "warnings.simplefilter(\"ignore\", ResourceWarning)"
   ]
  },
  {
   "cell_type": "markdown",
   "metadata": {},
   "source": [
    "# Vectrix Demo 👨🏻‍💻\n",
    "This notebook demonstrates the functions for importing data from various sources. \n",
    "Loading it into a VectorStore, and then using it to answer questions with a Retrieval Augemented Reasoning  🦜🔗 LangGraph.\n",
    "\n",
    "## Creating a new project\n",
    "\n"
   ]
  },
  {
   "cell_type": "code",
   "execution_count": 1,
   "metadata": {},
   "outputs": [
    {
     "name": "stdout",
     "output_type": "stream",
     "text": [
      "[{'url': 'https://www.vectrix.ai/', 'uuid': 'd74613d5-4cb4-4e74-b886-93d5db7b1308', 'title': 'Vectrix - SLM Training & AI Solutions', 'language': None, 'source_type': 'webpage', 'source_format': 'html'}, {'url': 'https://www.vectrix.ai/blog-post/are-llm-benchmarks-and-leaderboards-just-marketing-tools', 'uuid': 'd4b0a47c-9503-42dc-8b86-7e9560518eb7', 'title': 'Are LLM Benchmarks and Leaderboards Just Marketing Tools?', 'language': None, 'source_type': 'webpage', 'source_format': 'html'}, {'url': 'https://www.vectrix.ai/offerings', 'uuid': '02c40731-7c71-44c1-a621-b5dedee02aa1', 'title': 'Vectrix Offerings - SLM Training & AI Solutions', 'language': None, 'source_type': 'webpage', 'source_format': 'html'}, {'url': 'https://www.vectrix.ai/blog-post/google-deepminds-searchless-chess-engine---part-1', 'uuid': 'abab98d0-dadb-41dc-adce-b80c29c3c625', 'title': 'Google DeepMind’s Searchless Chess Engine - Part 1', 'language': None, 'source_type': 'webpage', 'source_format': 'html'}, {'url': 'https://www.vectrix.ai/blog', 'uuid': '4b549f1c-ed42-467f-8e7a-d511afa32f3a', 'title': 'Vectrix - Blog', 'language': None, 'source_type': 'webpage', 'source_format': 'html'}, {'url': 'https://www.vectrix.ai/career', 'uuid': '8650d3fe-1591-47bc-9760-3e1bdd534f3f', 'title': 'Vectrix - Career', 'language': None, 'source_type': 'webpage', 'source_format': 'html'}, {'url': 'https://www.vectrix.ai/blog-post/understanding-large-and-small-language-models-key-differences-and-applications', 'uuid': 'c1dcc58f-8bc0-46df-8cc4-5fb5adccd1a0', 'title': 'Understanding Large and Small Language Models: Key Differences and Applications', 'language': None, 'source_type': 'webpage', 'source_format': 'html'}, {'url': 'https://www.vectrix.ai/contact-us', 'uuid': '04a8bf98-1dd2-463f-9d20-ae8d8ebb9ed1', 'title': 'Vectrix - Contact Us', 'language': None, 'source_type': 'webpage', 'source_format': 'html'}, {'url': 'https://www.vectrix.ai/platform', 'uuid': '56ba3446-2ffd-4622-8190-500c19187de6', 'title': 'Vectrix - Platform', 'language': None, 'source_type': 'webpage', 'source_format': 'html'}, {'url': 'https://www.vectrix.ai/blog-post/advanced-applications-and-future-trends-in-entity-analysis', 'uuid': 'd7025a48-6da3-43a1-abf4-0986d8b14604', 'title': 'Advanced Applications and Future Trends in Entity Analysis', 'language': None, 'source_type': 'webpage', 'source_format': 'html'}, {'url': 'https://www.vectrix.ai/offerings/projects', 'uuid': 'c8889d48-243f-4a1a-b038-9de934f09918', 'title': 'Projects', 'language': None, 'source_type': 'webpage', 'source_format': 'html'}, {'url': 'https://www.vectrix.ai/offerings/chat-ui', 'uuid': 'f3197f3c-1bfb-40e7-8983-cbd57679328e', 'title': 'Vectrix Chat', 'language': None, 'source_type': 'webpage', 'source_format': 'html'}, {'url': 'https://www.vectrix.ai/about-us', 'uuid': 'b75f90ad-9df6-42b9-8a0d-1bb7616f272b', 'title': 'Vectrix - About Us', 'language': None, 'source_type': 'webpage', 'source_format': 'html'}, {'url': 'https://www.vectrix.ai/blog-post/your-ai-might-be-misleading-you-understanding-the-dual-nature-of-llm-outputs', 'uuid': 'ba597196-50d1-4fcb-9d8e-8bdc0b9b960b', 'title': 'Your AI Might Be Misleading You: Understanding the Dual Nature of LLM Outputs', 'language': None, 'source_type': 'webpage', 'source_format': 'html'}, {'url': 'https://www.vectrix.ai/offerings/advice', 'uuid': '77541738-4a8c-4b87-ba72-758dc34cee8f', 'title': 'Advice', 'language': None, 'source_type': 'webpage', 'source_format': 'html'}, {'url': 'https://www.vectrix.ai/blog-post/image-extraction-with-langchain-and-gemini', 'uuid': '1aa07c84-6e08-4690-9caa-85c5c364dffb', 'title': 'Image Extraction with Langchain and Gemini', 'language': None, 'source_type': 'webpage', 'source_format': 'html'}, {'url': 'https://www.vectrix.ai/blog-post/the-basics-of-entity-analysis-beyond-just-identifying-names', 'uuid': '76317cf6-ee1e-4527-af72-6d4aab3be4ed', 'title': 'The Basics of Entity Analysis: Beyond Just Identifying Names', 'language': None, 'source_type': 'webpage', 'source_format': 'html'}, {'url': 'https://www.vectrix.ai/job-list/internship', 'uuid': 'b8d03d5e-98b3-4523-aa19-852313284cae', 'title': 'Job Description', 'language': None, 'source_type': 'webpage', 'source_format': 'html'}, {'url': 'https://www.vectrix.ai/job-list/software-engineer-front-end', 'uuid': '93ae4c53-9475-4f4b-8f36-63e30b613caa', 'title': 'Job Description', 'language': None, 'source_type': 'webpage', 'source_format': 'html'}, {'url': 'https://www.vectrix.ai/job-list/junior-ai-researcher', 'uuid': '0180a3cf-ea4a-4b44-9608-3936dc6c903c', 'title': 'Job Description', 'language': None, 'source_type': 'webpage', 'source_format': 'html'}, {'url': 'https://www.vectrix.ai/job-list/open-application---create-your-own-dream-job', 'uuid': '80b66679-6c0f-4bd6-96b1-fd1f759e46e4', 'title': 'Job Description', 'language': None, 'source_type': 'webpage', 'source_format': 'html'}]\n"
     ]
    }
   ],
   "source": [
    "from vectrix.db import DB\n",
    "db = DB()\n",
    "print(db.get_collection_metdata(\"Vectrix\"))"
   ]
  },
  {
   "cell_type": "code",
   "execution_count": 1,
   "metadata": {},
   "outputs": [
    {
     "ename": "TypeError",
     "evalue": "DB.__init__() missing 1 required positional argument: 'project_name'",
     "output_type": "error",
     "traceback": [
      "\u001b[0;31m---------------------------------------------------------------------------\u001b[0m",
      "\u001b[0;31mTypeError\u001b[0m                                 Traceback (most recent call last)",
      "Cell \u001b[0;32mIn[1], line 3\u001b[0m\n\u001b[1;32m      1\u001b[0m \u001b[38;5;28;01mfrom\u001b[39;00m \u001b[38;5;21;01mvectrix\u001b[39;00m\u001b[38;5;21;01m.\u001b[39;00m\u001b[38;5;21;01mdb\u001b[39;00m \u001b[38;5;28;01mimport\u001b[39;00m DB\n\u001b[0;32m----> 3\u001b[0m db \u001b[38;5;241m=\u001b[39m \u001b[43mDB\u001b[49m\u001b[43m(\u001b[49m\u001b[43m)\u001b[49m\n\u001b[1;32m      4\u001b[0m db\u001b[38;5;241m.\u001b[39mcreate_project(\u001b[38;5;124m\"\u001b[39m\u001b[38;5;124mVectrix\u001b[39m\u001b[38;5;124m\"\u001b[39m, description\u001b[38;5;241m=\u001b[39m\u001b[38;5;124m\"\u001b[39m\u001b[38;5;124mDemo project for Vectrix\u001b[39m\u001b[38;5;124m\"\u001b[39m)\n",
      "\u001b[0;31mTypeError\u001b[0m: DB.__init__() missing 1 required positional argument: 'project_name'"
     ]
    }
   ],
   "source": [
    "from vectrix.db import DB\n",
    "\n",
    "db = DB()\n",
    "db.create_project(\"Vectrix\", description=\"Demo project for Vectrix\")"
   ]
  },
  {
   "cell_type": "code",
   "execution_count": null,
   "metadata": {},
   "outputs": [],
   "source": [
    "db.remove_project(\"Vectrix\")"
   ]
  },
  {
   "cell_type": "markdown",
   "metadata": {},
   "source": [
    "## Importing Data\n",
    "### 1. From a URL 🔗\n",
    "\n",
    "**Web Crawling and Data Extraction Example**<>\n",
    "\n",
    "This cell demonstrates the process of crawling a website, chunking the extracted content, and performing Named Entity Recognition (NER) using the Vectrix library.\n",
    "\n",
    "#### Steps:\n",
    "\n",
    "1. **Web Crawling**: \n",
    "   - Uses `vectrix.Crawler` to extract pages from \"https://vectrix.ai\"\n",
    "   - Limits the crawl to a maximum of 20 pages\n",
    "\n",
    "2. **Content Chunking**:\n",
    "   - Utilizes `vectrix.Webchunker` to break down the extracted content\n",
    "   - Chunks are created with a size of 500 characters and an overlap of 50 characters\n",
    "\n",
    "3. **Named Entity Recognition**:\n",
    "   - Employs `vectrix.Extract` with the 'Replicate' model\n",
    "   - Uses the 'meta/meta-llama-3-70b-instruct' model for entity extraction\n",
    "\n",
    "This example showcases a typical workflow for web data extraction and processing using the Vectrix library."
   ]
  },
  {
   "cell_type": "code",
   "execution_count": 3,
   "metadata": {},
   "outputs": [
    {
     "name": "stderr",
     "output_type": "stream",
     "text": [
      "\u001b[31m2024-08-18 18:23:38,203 - trafilatura.downloads - ERROR - not a 200 response: 404 for URL https://www.vectrix.ai/robots.txt\u001b[0m\n",
      "\u001b[31m2024-08-18 18:23:38,203 - trafilatura.downloads - ERROR - not a 200 response: 404 for URL https://www.vectrix.ai/robots.txt\u001b[0m\n",
      "\u001b[31m2024-08-18 18:23:38,203 - trafilatura.downloads - ERROR - not a 200 response: 404 for URL https://www.vectrix.ai/robots.txt\u001b[0m\n",
      "\u001b[31m2024-08-18 18:23:38,511 - trafilatura.downloads - ERROR - not a 200 response: 404 for URL https://www.vectrix.ai/robots.txt\u001b[0m\n",
      "\u001b[31m2024-08-18 18:23:38,511 - trafilatura.downloads - ERROR - not a 200 response: 404 for URL https://www.vectrix.ai/robots.txt\u001b[0m\n",
      "\u001b[31m2024-08-18 18:23:38,511 - trafilatura.downloads - ERROR - not a 200 response: 404 for URL https://www.vectrix.ai/robots.txt\u001b[0m\n",
      "\u001b[33m2024-08-18 18:23:38,555 - courlan.urlstore - WARNING - Discarding URL: /blog-post/google-deepminds-searchless-chess-engine---part-1\u001b[0m\n",
      "\u001b[33m2024-08-18 18:23:38,555 - courlan.urlstore - WARNING - Discarding URL: /blog-post/google-deepminds-searchless-chess-engine---part-1\u001b[0m\n",
      "\u001b[33m2024-08-18 18:23:38,555 - courlan.urlstore - WARNING - Discarding URL: /blog-post/google-deepminds-searchless-chess-engine---part-1\u001b[0m\n",
      "\u001b[33m2024-08-18 18:23:39,601 - courlan.urlstore - WARNING - Discarding URL: /blog\u001b[0m\n",
      "\u001b[33m2024-08-18 18:23:39,601 - courlan.urlstore - WARNING - Discarding URL: /blog\u001b[0m\n",
      "\u001b[33m2024-08-18 18:23:39,601 - courlan.urlstore - WARNING - Discarding URL: /blog\u001b[0m\n",
      "\u001b[33m2024-08-18 18:23:40,654 - courlan.urlstore - WARNING - Discarding URL: /offerings\u001b[0m\n",
      "\u001b[33m2024-08-18 18:23:40,654 - courlan.urlstore - WARNING - Discarding URL: /offerings\u001b[0m\n",
      "\u001b[33m2024-08-18 18:23:40,654 - courlan.urlstore - WARNING - Discarding URL: /offerings\u001b[0m\n",
      "\u001b[33m2024-08-18 18:23:41,715 - courlan.urlstore - WARNING - Discarding URL: /blog-post/understanding-large-and-small-language-models-key-differences-and-applications\u001b[0m\n",
      "\u001b[33m2024-08-18 18:23:41,715 - courlan.urlstore - WARNING - Discarding URL: /blog-post/understanding-large-and-small-language-models-key-differences-and-applications\u001b[0m\n",
      "\u001b[33m2024-08-18 18:23:41,715 - courlan.urlstore - WARNING - Discarding URL: /blog-post/understanding-large-and-small-language-models-key-differences-and-applications\u001b[0m\n",
      "\u001b[33m2024-08-18 18:23:42,769 - courlan.urlstore - WARNING - Discarding URL: /about-us\u001b[0m\n",
      "\u001b[33m2024-08-18 18:23:42,769 - courlan.urlstore - WARNING - Discarding URL: /about-us\u001b[0m\n",
      "\u001b[33m2024-08-18 18:23:42,769 - courlan.urlstore - WARNING - Discarding URL: /about-us\u001b[0m\n",
      "\u001b[33m2024-08-18 18:23:43,822 - courlan.urlstore - WARNING - Discarding URL: /platform\u001b[0m\n",
      "\u001b[33m2024-08-18 18:23:43,822 - courlan.urlstore - WARNING - Discarding URL: /platform\u001b[0m\n",
      "\u001b[33m2024-08-18 18:23:43,822 - courlan.urlstore - WARNING - Discarding URL: /platform\u001b[0m\n",
      "\u001b[33m2024-08-18 18:23:44,874 - courlan.urlstore - WARNING - Discarding URL: /blog-post/your-ai-might-be-misleading-you-understanding-the-dual-nature-of-llm-outputs\u001b[0m\n",
      "\u001b[33m2024-08-18 18:23:44,874 - courlan.urlstore - WARNING - Discarding URL: /blog-post/your-ai-might-be-misleading-you-understanding-the-dual-nature-of-llm-outputs\u001b[0m\n",
      "\u001b[33m2024-08-18 18:23:44,874 - courlan.urlstore - WARNING - Discarding URL: /blog-post/your-ai-might-be-misleading-you-understanding-the-dual-nature-of-llm-outputs\u001b[0m\n",
      "\u001b[33m2024-08-18 18:23:45,926 - courlan.urlstore - WARNING - Discarding URL: /career\u001b[0m\n",
      "\u001b[33m2024-08-18 18:23:45,926 - courlan.urlstore - WARNING - Discarding URL: /career\u001b[0m\n",
      "\u001b[33m2024-08-18 18:23:45,926 - courlan.urlstore - WARNING - Discarding URL: /career\u001b[0m\n",
      "\u001b[33m2024-08-18 18:23:46,978 - courlan.urlstore - WARNING - Discarding URL: /blog-post/are-llm-benchmarks-and-leaderboards-just-marketing-tools\u001b[0m\n",
      "\u001b[33m2024-08-18 18:23:46,978 - courlan.urlstore - WARNING - Discarding URL: /blog-post/are-llm-benchmarks-and-leaderboards-just-marketing-tools\u001b[0m\n",
      "\u001b[33m2024-08-18 18:23:46,978 - courlan.urlstore - WARNING - Discarding URL: /blog-post/are-llm-benchmarks-and-leaderboards-just-marketing-tools\u001b[0m\n",
      "\u001b[33m2024-08-18 18:23:48,053 - courlan.urlstore - WARNING - Discarding URL: /contact-us\u001b[0m\n",
      "\u001b[33m2024-08-18 18:23:48,053 - courlan.urlstore - WARNING - Discarding URL: /contact-us\u001b[0m\n",
      "\u001b[33m2024-08-18 18:23:48,053 - courlan.urlstore - WARNING - Discarding URL: /contact-us\u001b[0m\n",
      "\u001b[33m2024-08-18 18:23:49,103 - courlan.urlstore - WARNING - Discarding URL: /blog-post/image-extraction-with-langchain-and-gemini\u001b[0m\n",
      "\u001b[33m2024-08-18 18:23:49,103 - courlan.urlstore - WARNING - Discarding URL: /blog-post/image-extraction-with-langchain-and-gemini\u001b[0m\n",
      "\u001b[33m2024-08-18 18:23:49,103 - courlan.urlstore - WARNING - Discarding URL: /blog-post/image-extraction-with-langchain-and-gemini\u001b[0m\n",
      "\u001b[33m2024-08-18 18:23:50,159 - courlan.urlstore - WARNING - Discarding URL: /blog-post/the-basics-of-entity-analysis-beyond-just-identifying-names\u001b[0m\n",
      "\u001b[33m2024-08-18 18:23:50,159 - courlan.urlstore - WARNING - Discarding URL: /blog-post/the-basics-of-entity-analysis-beyond-just-identifying-names\u001b[0m\n",
      "\u001b[33m2024-08-18 18:23:50,159 - courlan.urlstore - WARNING - Discarding URL: /blog-post/the-basics-of-entity-analysis-beyond-just-identifying-names\u001b[0m\n",
      "\u001b[33m2024-08-18 18:23:51,215 - courlan.urlstore - WARNING - Discarding URL: /blog-post/advanced-applications-and-future-trends-in-entity-analysis\u001b[0m\n",
      "\u001b[33m2024-08-18 18:23:51,215 - courlan.urlstore - WARNING - Discarding URL: /blog-post/advanced-applications-and-future-trends-in-entity-analysis\u001b[0m\n",
      "\u001b[33m2024-08-18 18:23:51,215 - courlan.urlstore - WARNING - Discarding URL: /blog-post/advanced-applications-and-future-trends-in-entity-analysis\u001b[0m\n",
      "\u001b[33m2024-08-18 18:23:52,268 - courlan.urlstore - WARNING - Discarding URL: /offerings/chat-ui\u001b[0m\n",
      "\u001b[33m2024-08-18 18:23:52,268 - courlan.urlstore - WARNING - Discarding URL: /offerings/chat-ui\u001b[0m\n",
      "\u001b[33m2024-08-18 18:23:52,268 - courlan.urlstore - WARNING - Discarding URL: /offerings/chat-ui\u001b[0m\n",
      "\u001b[33m2024-08-18 18:23:53,322 - courlan.urlstore - WARNING - Discarding URL: /offerings/advice\u001b[0m\n",
      "\u001b[33m2024-08-18 18:23:53,322 - courlan.urlstore - WARNING - Discarding URL: /offerings/advice\u001b[0m\n",
      "\u001b[33m2024-08-18 18:23:53,322 - courlan.urlstore - WARNING - Discarding URL: /offerings/advice\u001b[0m\n",
      "\u001b[33m2024-08-18 18:23:54,387 - courlan.urlstore - WARNING - Discarding URL: /offerings/projects\u001b[0m\n",
      "\u001b[33m2024-08-18 18:23:54,387 - courlan.urlstore - WARNING - Discarding URL: /offerings/projects\u001b[0m\n",
      "\u001b[33m2024-08-18 18:23:54,387 - courlan.urlstore - WARNING - Discarding URL: /offerings/projects\u001b[0m\n",
      "\u001b[33m2024-08-18 18:23:55,454 - courlan.urlstore - WARNING - Discarding URL: /job-list/open-application---create-your-own-dream-job\u001b[0m\n",
      "\u001b[33m2024-08-18 18:23:55,454 - courlan.urlstore - WARNING - Discarding URL: /job-list/open-application---create-your-own-dream-job\u001b[0m\n",
      "\u001b[33m2024-08-18 18:23:55,454 - courlan.urlstore - WARNING - Discarding URL: /job-list/open-application---create-your-own-dream-job\u001b[0m\n",
      "\u001b[33m2024-08-18 18:23:56,512 - courlan.urlstore - WARNING - Discarding URL: /job-list/junior-ai-researcher\u001b[0m\n",
      "\u001b[33m2024-08-18 18:23:56,512 - courlan.urlstore - WARNING - Discarding URL: /job-list/junior-ai-researcher\u001b[0m\n",
      "\u001b[33m2024-08-18 18:23:56,512 - courlan.urlstore - WARNING - Discarding URL: /job-list/junior-ai-researcher\u001b[0m\n",
      "\u001b[33m2024-08-18 18:23:57,571 - courlan.urlstore - WARNING - Discarding URL: /job-list/internship\u001b[0m\n",
      "\u001b[33m2024-08-18 18:23:57,571 - courlan.urlstore - WARNING - Discarding URL: /job-list/internship\u001b[0m\n",
      "\u001b[33m2024-08-18 18:23:57,571 - courlan.urlstore - WARNING - Discarding URL: /job-list/internship\u001b[0m\n",
      "\u001b[33m2024-08-18 18:23:58,635 - courlan.urlstore - WARNING - Discarding URL: /job-list/software-engineer-front-end\u001b[0m\n",
      "\u001b[33m2024-08-18 18:23:58,635 - courlan.urlstore - WARNING - Discarding URL: /job-list/software-engineer-front-end\u001b[0m\n",
      "\u001b[33m2024-08-18 18:23:58,635 - courlan.urlstore - WARNING - Discarding URL: /job-list/software-engineer-front-end\u001b[0m\n"
     ]
    }
   ],
   "source": [
    "from vectrix.importers import WebScraper\n",
    "\n",
    "scraper = WebScraper(\"https://www.vectrix.ai/\")\n",
    "all_links = scraper.get_all_links()"
   ]
  },
  {
   "cell_type": "code",
   "execution_count": 4,
   "metadata": {},
   "outputs": [
    {
     "data": {
      "text/plain": [
       "21"
      ]
     },
     "execution_count": 4,
     "metadata": {},
     "output_type": "execute_result"
    }
   ],
   "source": [
    "web_pages = scraper.get_all_pages(all_links)\n",
    "len(web_pages)"
   ]
  },
  {
   "cell_type": "code",
   "execution_count": 5,
   "metadata": {},
   "outputs": [
    {
     "name": "stdout",
     "output_type": "stream",
     "text": [
      "Before chunking we had 21 and after chunking 21\n"
     ]
    }
   ],
   "source": [
    "from vectrix.importers import chunk_content\n",
    "chunked_webpages = chunk_content(web_pages)\n",
    "\n",
    "\n",
    "print(f\"Before chunking we had {len(web_pages)} and after chunking {len(chunked_webpages)}\")"
   ]
  },
  {
   "cell_type": "markdown",
   "metadata": {},
   "source": [
    "## Adding the data to a VectorStore"
   ]
  },
  {
   "cell_type": "code",
   "execution_count": 6,
   "metadata": {},
   "outputs": [
    {
     "name": "stderr",
     "output_type": "stream",
     "text": [
      "\u001b[33m2024-08-18 18:25:01,703 - langchain_cohere.utils - WARNING - Retrying langchain_cohere.embeddings.CohereEmbeddings.embed_with_retry.<locals>._embed_with_retry in 4.0 seconds as it raised InternalServerError: status_code: 500, body: {'message': 'internal server error, this has been reported to our developers. id 34560669-33e7-4d6c-a360-64cc3482bff5'}.\u001b[0m\n",
      "\u001b[33m2024-08-18 18:25:01,703 - langchain_cohere.utils - WARNING - Retrying langchain_cohere.embeddings.CohereEmbeddings.embed_with_retry.<locals>._embed_with_retry in 4.0 seconds as it raised InternalServerError: status_code: 500, body: {'message': 'internal server error, this has been reported to our developers. id 34560669-33e7-4d6c-a360-64cc3482bff5'}.\u001b[0m\n",
      "\u001b[33m2024-08-18 18:25:01,703 - langchain_cohere.utils - WARNING - Retrying langchain_cohere.embeddings.CohereEmbeddings.embed_with_retry.<locals>._embed_with_retry in 4.0 seconds as it raised InternalServerError: status_code: 500, body: {'message': 'internal server error, this has been reported to our developers. id 34560669-33e7-4d6c-a360-64cc3482bff5'}.\u001b[0m\n"
     ]
    }
   ],
   "source": [
    "db.add_documents(chunked_webpages, \"Vectrix\")"
   ]
  },
  {
   "cell_type": "code",
   "execution_count": 1,
   "metadata": {},
   "outputs": [
    {
     "ename": "NameError",
     "evalue": "name 'db' is not defined",
     "output_type": "error",
     "traceback": [
      "\u001b[0;31m---------------------------------------------------------------------------\u001b[0m",
      "\u001b[0;31mNameError\u001b[0m                                 Traceback (most recent call last)",
      "Cell \u001b[0;32mIn[1], line 1\u001b[0m\n\u001b[0;32m----> 1\u001b[0m \u001b[38;5;28mprint\u001b[39m(\u001b[43mdb\u001b[49m\u001b[38;5;241m.\u001b[39msimilarity_search(\u001b[38;5;124m\"\u001b[39m\u001b[38;5;124mVectrix\u001b[39m\u001b[38;5;124m\"\u001b[39m, \u001b[38;5;124m\"\u001b[39m\u001b[38;5;124mWhen was Vectrix founded?\u001b[39m\u001b[38;5;124m\"\u001b[39m, \u001b[38;5;241m1\u001b[39m))\n",
      "\u001b[0;31mNameError\u001b[0m: name 'db' is not defined"
     ]
    }
   ],
   "source": [
    "print(db.similarity_search(\"Vectrix\", \"When was Vectrix founded?\", 1))"
   ]
  },
  {
   "cell_type": "markdown",
   "metadata": {},
   "source": [
    "### From OneDrive ☁\n",
    "We can also connect with a OneDrive folder and download the information from there. After this process we can add the information to our Vector store in the same way. This way we can extract various kinds of documents like PDF, World, PowerPoint ...\n",
    "\n",
    "Downloads files from OneDrive, processes them with Unstructured, and stores in Weaviate.\n",
    "\n",
    "Steps:\n",
    "1. Connect to OneDrive using Azure credentials\n",
    "2. List and download all files\n",
    "3. Process files with Unstructured importer\n",
    "4. Add processed documents to Weaviate vector store\n",
    "5. Close OneDrive connection\n",
    "\n",
    "Requirements:\n",
    "- vectrix library (OneDrive connector, Unstructured importer)\n",
    "- Weaviate client\n",
    "- Azure credentials as environment variables (AZURE_CLIENT_ID, AZURE_CLIENT_SECRET)\n",
    "\n",
    "Note: Close OneDrive connection before uploading to vector store."
   ]
  },
  {
   "cell_type": "code",
   "execution_count": null,
   "metadata": {},
   "outputs": [],
   "source": [
    "from vectrix.connectors.onedrive import OneDrive\n",
    "from vectrix.importers.unstructured import Unstructured\n",
    "\n",
    "drive = OneDrive(azure_client_id = os.environ.get('AZURE_CLIENT_ID'), azure_client_secret = os.environ.get('AZURE_CLIENT_SECRET'))\n",
    "\n",
    "drive.list_files()"
   ]
  },
  {
   "cell_type": "code",
   "execution_count": null,
   "metadata": {},
   "outputs": [],
   "source": [
    "# Download all files in the drive, returns a list of downloaded files\n",
    "downloaded_files = drive.download_files()\n",
    "print(downloaded_files)\n",
    "\n",
    "# Process teh documents using unstructured (we can't load RAW PDF files into a Vector store)\n",
    "importer = Unstructured()\n",
    "documents = importer.process_files(downloaded_files)\n",
    "\n",
    "# Add the documents to the Vector store\n",
    "weaviate = Weaviate()\n",
    "weaviate.set_colleciton('Vectrix')\n",
    "weaviate.add_data(documents)\n",
    "\n",
    "# Close the drive, do this BEFORE you want to upload the files to a vector store\n",
    "drive.close()"
   ]
  }
 ],
 "metadata": {
  "kernelspec": {
   "display_name": ".venv",
   "language": "python",
   "name": "python3"
  },
  "language_info": {
   "codemirror_mode": {
    "name": "ipython",
    "version": 3
   },
   "file_extension": ".py",
   "mimetype": "text/x-python",
   "name": "python",
   "nbconvert_exporter": "python",
   "pygments_lexer": "ipython3",
   "version": "3.12.4"
  }
 },
 "nbformat": 4,
 "nbformat_minor": 2
}
