{
 "cells": [
  {
   "cell_type": "code",
   "execution_count": 2,
   "metadata": {},
   "outputs": [],
   "source": [
    "from dotenv import load_dotenv\n",
    "load_dotenv()\n",
    "\n",
    "import warnings\n",
    "warnings.simplefilter(\"ignore\", ResourceWarning)"
   ]
  },
  {
   "cell_type": "markdown",
   "metadata": {},
   "source": [
    "# SearchFlow Demo 👨🏻‍💻\n",
    "This notebook demonstrates the functions for importing data from various sources. \n",
    "Loading it into a VectorStore, and then using it to answer questions with a Retrieval Augemented Reasoning  🦜🔗 LangGraph.\n",
    "\n",
    "## Creating a new project\n",
    "\n"
   ]
  },
  {
   "cell_type": "code",
   "execution_count": 4,
   "metadata": {},
   "outputs": [
    {
     "name": "stdout",
     "output_type": "stream",
     "text": [
      "['Test']\n"
     ]
    },
    {
     "data": {
      "text/plain": [
       "'Vectrix'"
      ]
     },
     "execution_count": 4,
     "metadata": {},
     "output_type": "execute_result"
    }
   ],
   "source": [
    "from searchflow.db import DB\n",
    "db = DB()\n",
    "\n",
    "print(db.list_projects())\n",
    "db.create_project(\"Vectrix\", description=\"This is a test project\")"
   ]
  },
  {
   "cell_type": "code",
   "execution_count": 5,
   "metadata": {},
   "outputs": [
    {
     "name": "stdout",
     "output_type": "stream",
     "text": [
      "['Test', 'Vectrix']\n"
     ]
    }
   ],
   "source": [
    "print(db.list_projects())"
   ]
  },
  {
   "cell_type": "code",
   "execution_count": null,
   "metadata": {},
   "outputs": [],
   "source": [
    "db.remove_project(\"Test\")"
   ]
  },
  {
   "cell_type": "markdown",
   "metadata": {},
   "source": [
    "## Importing Data\n",
    "### 1. From a URL 🔗\n",
    "\n",
    "**Web Crawling and Data Extraction Example**\n"
   ]
  },
  {
   "cell_type": "code",
   "execution_count": 6,
   "metadata": {},
   "outputs": [
    {
     "name": "stderr",
     "output_type": "stream",
     "text": [
      "/Users/ben/GitHub/searchflow/.venv/lib/python3.12/site-packages/langsmith/client.py:5434: LangChainBetaWarning: The function `loads` is in beta. It is actively being worked on, so the API may change.\n",
      "  prompt = loads(json.dumps(prompt_object.manifest))\n",
      "ERROR:trafilatura.downloads:not a 200 response: 404 for URL https://vectrix.ai/robots.txt\n"
     ]
    }
   ],
   "source": [
    "from searchflow.importers import WebScraper\n",
    "\n",
    "scraper = WebScraper(project_name='Vectrix', db=db)\n",
    "scraper.get_all_links(\"https://vectrix.ai\")"
   ]
  },
  {
   "cell_type": "code",
   "execution_count": null,
   "metadata": {},
   "outputs": [],
   "source": [
    "from searchflow.importers import WebScraper\n",
    "\n",
    "scraper = WebScraper(project_name='Vectrix', db=db)\n",
    "scraper.full_import(\"https://dataframe.be\", max_pages=100)"
   ]
  },
  {
   "cell_type": "code",
   "execution_count": 7,
   "metadata": {},
   "outputs": [
    {
     "name": "stdout",
     "output_type": "stream",
     "text": [
      "[{'url': 'https://vectrix.ai/', 'base_url': 'https://vectrix.ai'}, {'url': 'https://vectrix.ai/career', 'base_url': 'https://vectrix.ai'}, {'url': 'https://vectrix.ai/offerings/chat-ui', 'base_url': 'https://vectrix.ai'}, {'url': 'https://vectrix.ai/blog-post/understanding-large-and-small-language-models-key-differences-and-applications', 'base_url': 'https://vectrix.ai'}, {'url': 'https://vectrix.ai/blog-post/google-deepminds-searchless-chess-engine---part-1', 'base_url': 'https://vectrix.ai'}, {'url': 'https://vectrix.ai/blog-post/are-llm-benchmarks-and-leaderboards-just-marketing-tools', 'base_url': 'https://vectrix.ai'}, {'url': 'https://vectrix.ai/about-us', 'base_url': 'https://vectrix.ai'}, {'url': 'https://vectrix.ai/blog-post/your-ai-might-be-misleading-you-understanding-the-dual-nature-of-llm-outputs', 'base_url': 'https://vectrix.ai'}, {'url': 'https://vectrix.ai/offerings/advice', 'base_url': 'https://vectrix.ai'}, {'url': 'https://vectrix.ai/blog', 'base_url': 'https://vectrix.ai'}, {'url': 'https://vectrix.ai/contact-us', 'base_url': 'https://vectrix.ai'}, {'url': 'https://vectrix.ai/privacy-policy', 'base_url': 'https://vectrix.ai'}, {'url': 'https://vectrix.ai/offerings/projects', 'base_url': 'https://vectrix.ai'}, {'url': 'https://vectrix.ai/offerings/products', 'base_url': 'https://vectrix.ai'}, {'url': 'https://vectrix.ai/offerings', 'base_url': 'https://vectrix.ai'}, {'url': 'https://vectrix.ai/job-list/open-application---create-your-own-dream-job', 'base_url': 'https://vectrix.ai'}, {'url': 'https://vectrix.ai/job-list/junior-ai-researcher', 'base_url': 'https://vectrix.ai'}, {'url': 'https://vectrix.ai/job-list/internship', 'base_url': 'https://vectrix.ai'}, {'url': 'https://vectrix.ai/job-list/software-engineer-front-end', 'base_url': 'https://vectrix.ai'}, {'url': 'https://vectrix.ai/blog-post/advanced-applications-and-future-trends-in-entity-analysis', 'base_url': 'https://vectrix.ai'}, {'url': 'https://vectrix.ai/blog-post/image-extraction-with-langchain-and-gemini', 'base_url': 'https://vectrix.ai'}, {'url': 'https://vectrix.ai/blog-post/the-basics-of-entity-analysis-beyond-just-identifying-names', 'base_url': 'https://vectrix.ai'}]\n"
     ]
    }
   ],
   "source": [
    "print(db.get_links_to_confirm(\"Vectrix\"))"
   ]
  },
  {
   "cell_type": "code",
   "execution_count": null,
   "metadata": {},
   "outputs": [],
   "source": [
    "db.add_links_to_index(links=[\"https://langchain-ai.github.io/langgraph/reference/graphs/\"],base_url=\"https://langchain-ai.github.io/langgraph/reference/graphs/\", project_name=\"Test\", status=\"Confirm page import\")"
   ]
  },
  {
   "cell_type": "code",
   "execution_count": 10,
   "metadata": {},
   "outputs": [
    {
     "name": "stdout",
     "output_type": "stream",
     "text": [
      "[{'project_name': 'Vectrix', 'status': 'Indexed', 'base_url': 'https://vectrix.ai', 'last_update': datetime.datetime(2024, 9, 12, 12, 45, 44, 656497, tzinfo=datetime.timezone.utc)}]\n"
     ]
    }
   ],
   "source": [
    "print(db.get_indexing_status(\"Vectrix\"))"
   ]
  },
  {
   "cell_type": "code",
   "execution_count": 9,
   "metadata": {},
   "outputs": [
    {
     "name": "stdout",
     "output_type": "stream",
     "text": [
      "Already downloaded 0\n",
      "To download ['https://vectrix.ai/', 'https://vectrix.ai/career', 'https://vectrix.ai/offerings/chat-ui', 'https://vectrix.ai/blog-post/understanding-large-and-small-language-models-key-differences-and-applications', 'https://vectrix.ai/blog-post/google-deepminds-searchless-chess-engine---part-1', 'https://vectrix.ai/blog-post/are-llm-benchmarks-and-leaderboards-just-marketing-tools', 'https://vectrix.ai/about-us', 'https://vectrix.ai/blog-post/your-ai-might-be-misleading-you-understanding-the-dual-nature-of-llm-outputs', 'https://vectrix.ai/offerings/advice', 'https://vectrix.ai/blog', 'https://vectrix.ai/contact-us', 'https://vectrix.ai/privacy-policy', 'https://vectrix.ai/offerings/projects', 'https://vectrix.ai/offerings/products', 'https://vectrix.ai/offerings', 'https://vectrix.ai/job-list/open-application---create-your-own-dream-job', 'https://vectrix.ai/job-list/junior-ai-researcher', 'https://vectrix.ai/job-list/internship', 'https://vectrix.ai/job-list/software-engineer-front-end', 'https://vectrix.ai/blog-post/advanced-applications-and-future-trends-in-entity-analysis', 'https://vectrix.ai/blog-post/image-extraction-with-langchain-and-gemini', 'https://vectrix.ai/blog-post/the-basics-of-entity-analysis-beyond-just-identifying-names']\n"
     ]
    }
   ],
   "source": [
    "from searchflow.importers import WebScraper\n",
    "\n",
    "scraper = WebScraper(project_name='Test', db=db)\n",
    "\n",
    "confirmed_links = [link['url'] for link in db.get_links_to_confirm(\"Vectrix\")]\n",
    "scraper.download_pages(confirmed_links, project_name=\"Vectrix\")"
   ]
  },
  {
   "cell_type": "markdown",
   "metadata": {},
   "source": [
    "### 2. Upload files ⬆️\n",
    "You can also upload files and add them to the vector store, Vectrix will automaticly detect the file type extract the text and chunk the content into blocks."
   ]
  },
  {
   "cell_type": "code",
   "execution_count": null,
   "metadata": {},
   "outputs": [],
   "source": [
    "from searchflow.importers import Files\n",
    "file = './files/pdf_with_scannedtext.pdf'\n",
    "\n",
    "# Load bytes data\n",
    "with open(file, \"rb\") as f:\n",
    "    bytes_data = f.read()\n",
    "\n",
    "files = Files()\n",
    "files.upload_file(\n",
    "    document_data=[(bytes_data, \"test.pdf\")],\n",
    "    project_name=\"Test\",\n",
    "    inference_type=\"local\"\n",
    ")"
   ]
  },
  {
   "cell_type": "code",
   "execution_count": null,
   "metadata": {},
   "outputs": [],
   "source": [
    "# List files\n",
    "db.list_files(\"Vectrix\")"
   ]
  },
  {
   "cell_type": "code",
   "execution_count": null,
   "metadata": {},
   "outputs": [],
   "source": [
    "# Remove a file\n",
    "db.remove_file(\"Test\", \"test.pdf\")"
   ]
  },
  {
   "cell_type": "markdown",
   "metadata": {},
   "source": [
    "### 3. Chrome Plugin 🦊"
   ]
  },
  {
   "cell_type": "code",
   "execution_count": null,
   "metadata": {},
   "outputs": [],
   "source": [
    "# Launch the FastAPI server\n",
    "#!python src/searchflow/api.py\n",
    "\n"
   ]
  }
 ],
 "metadata": {
  "kernelspec": {
   "display_name": ".venv",
   "language": "python",
   "name": "python3"
  },
  "language_info": {
   "codemirror_mode": {
    "name": "ipython",
    "version": 3
   },
   "file_extension": ".py",
   "mimetype": "text/x-python",
   "name": "python",
   "nbconvert_exporter": "python",
   "pygments_lexer": "ipython3",
   "version": "3.12.5"
  }
 },
 "nbformat": 4,
 "nbformat_minor": 2
}
