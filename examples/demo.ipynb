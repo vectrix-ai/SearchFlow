{
 "cells": [
  {
   "cell_type": "code",
   "execution_count": 1,
   "metadata": {},
   "outputs": [
    {
     "name": "stderr",
     "output_type": "stream",
     "text": [
      "USER_AGENT environment variable not set, consider setting it to identify your requests.\n"
     ]
    }
   ],
   "source": [
    "from dotenv import load_dotenv\n",
    "load_dotenv()\n",
    "import vectrix\n",
    "import os\n",
    "import logging\n",
    "logging.basicConfig(level=logging.INFO)"
   ]
  },
  {
   "cell_type": "markdown",
   "metadata": {},
   "source": [
    "# Vectrix Demo 👨🏻‍💻\n",
    "This notebook demonstrates the functions for importing data from various sources. \n",
    "Loading it into a VectorStore, and then using it to answer questions with a Retrieval Augemented Reasoning  🦜🔗 LangGraph.\n",
    "\n",
    "## Importing Data\n",
    "### 1. From a URL 🔗\n",
    "\n",
    "**Web Crawling and Data Extraction Example**\n",
    "\n",
    "This cell demonstrates the process of crawling a website, chunking the extracted content, and performing Named Entity Recognition (NER) using the Vectrix library.\n",
    "\n",
    "#### Steps:\n",
    "\n",
    "1. **Web Crawling**: \n",
    "   - Uses `vectrix.Crawler` to extract pages from \"https://vectrix.ai\"\n",
    "   - Limits the crawl to a maximum of 20 pages\n",
    "\n",
    "2. **Content Chunking**:\n",
    "   - Utilizes `vectrix.Webchunker` to break down the extracted content\n",
    "   - Chunks are created with a size of 500 characters and an overlap of 50 characters\n",
    "\n",
    "3. **Named Entity Recognition**:\n",
    "   - Employs `vectrix.Extract` with the 'Replicate' model\n",
    "   - Uses the 'meta/meta-llama-3-70b-instruct' model for entity extraction\n",
    "\n",
    "This example showcases a typical workflow for web data extraction and processing using the Vectrix library.\n"
   ]
  },
  {
   "cell_type": "code",
   "execution_count": 2,
   "metadata": {},
   "outputs": [
    {
     "name": "stderr",
     "output_type": "stream",
     "text": [
      "Fetching pages: 100%|##########| 1/1 [00:01<00:00,  1.17s/it]\n",
      "/Users/ben/GitHub/vectrix/.venv/lib/python3.12/site-packages/bs4/builder/__init__.py:295: ResourceWarning: unclosed <socket.socket fd=83, family=2, type=1, proto=6, laddr=('10.52.13.250', 51185), raddr=('99.83.190.102', 443)>\n",
      "  def _replace_cdata_list_attribute_values(self, tag_name, attrs):\n",
      "ResourceWarning: Enable tracemalloc to get the object allocation traceback\n",
      "/opt/homebrew/Cellar/python@3.12/3.12.4/Frameworks/Python.framework/Versions/3.12/lib/python3.12/asyncio/selector_events.py:879: ResourceWarning: unclosed transport <_SelectorSocketTransport fd=83>\n",
      "  _warn(f\"unclosed transport {self!r}\", ResourceWarning, source=self)\n",
      "ResourceWarning: Enable tracemalloc to get the object allocation traceback\n",
      "/Users/ben/GitHub/vectrix/.venv/lib/python3.12/site-packages/bs4/builder/__init__.py:295: ResourceWarning: unclosed <socket.socket fd=84, family=2, type=1, proto=6, laddr=('10.52.13.250', 51186), raddr=('34.249.200.254', 443)>\n",
      "  def _replace_cdata_list_attribute_values(self, tag_name, attrs):\n",
      "ResourceWarning: Enable tracemalloc to get the object allocation traceback\n",
      "/opt/homebrew/Cellar/python@3.12/3.12.4/Frameworks/Python.framework/Versions/3.12/lib/python3.12/asyncio/selector_events.py:879: ResourceWarning: unclosed transport <_SelectorSocketTransport fd=84>\n",
      "  _warn(f\"unclosed transport {self!r}\", ResourceWarning, source=self)\n",
      "ResourceWarning: Enable tracemalloc to get the object allocation traceback\n",
      "Fetching pages: 100%|##########| 10/10 [00:03<00:00,  2.51it/s]\n",
      "/Users/ben/GitHub/vectrix/.venv/lib/python3.12/site-packages/bs4/builder/__init__.py:295: ResourceWarning: unclosed <socket.socket fd=86, family=2, type=1, proto=6, laddr=('10.52.13.250', 51207), raddr=('34.249.200.254', 443)>\n",
      "  def _replace_cdata_list_attribute_values(self, tag_name, attrs):\n",
      "ResourceWarning: Enable tracemalloc to get the object allocation traceback\n",
      "/opt/homebrew/Cellar/python@3.12/3.12.4/Frameworks/Python.framework/Versions/3.12/lib/python3.12/asyncio/selector_events.py:879: ResourceWarning: unclosed transport <_SelectorSocketTransport fd=86>\n",
      "  _warn(f\"unclosed transport {self!r}\", ResourceWarning, source=self)\n",
      "ResourceWarning: Enable tracemalloc to get the object allocation traceback\n",
      "/opt/homebrew/Cellar/python@3.12/3.12.4/Frameworks/Python.framework/Versions/3.12/lib/python3.12/asyncio/selector_events.py:879: ResourceWarning: unclosed transport <_SelectorSocketTransport fd=88>\n",
      "  _warn(f\"unclosed transport {self!r}\", ResourceWarning, source=self)\n",
      "ResourceWarning: Enable tracemalloc to get the object allocation traceback\n",
      "Fetching pages: 100%|##########| 9/9 [00:04<00:00,  2.09it/s]\n",
      "/Users/ben/GitHub/vectrix/.venv/lib/python3.12/site-packages/bs4/element.py:1199: ResourceWarning: unclosed <socket.socket fd=77, family=2, type=1, proto=6, laddr=('10.52.13.250', 51223), raddr=('99.83.190.102', 443)>\n",
      "  def __init__(self, parser=None, builder=None, name=None, namespace=None,\n",
      "ResourceWarning: Enable tracemalloc to get the object allocation traceback\n",
      "/opt/homebrew/Cellar/python@3.12/3.12.4/Frameworks/Python.framework/Versions/3.12/lib/python3.12/asyncio/selector_events.py:879: ResourceWarning: unclosed transport <_SelectorSocketTransport fd=77>\n",
      "  _warn(f\"unclosed transport {self!r}\", ResourceWarning, source=self)\n",
      "ResourceWarning: Enable tracemalloc to get the object allocation traceback\n",
      "/Users/ben/GitHub/vectrix/.venv/lib/python3.12/site-packages/bs4/element.py:1199: ResourceWarning: unclosed <socket.socket fd=79, family=2, type=1, proto=6, laddr=('10.52.13.250', 51225), raddr=('34.249.200.254', 443)>\n",
      "  def __init__(self, parser=None, builder=None, name=None, namespace=None,\n",
      "ResourceWarning: Enable tracemalloc to get the object allocation traceback\n",
      "/opt/homebrew/Cellar/python@3.12/3.12.4/Frameworks/Python.framework/Versions/3.12/lib/python3.12/asyncio/selector_events.py:879: ResourceWarning: unclosed transport <_SelectorSocketTransport fd=79>\n",
      "  _warn(f\"unclosed transport {self!r}\", ResourceWarning, source=self)\n",
      "ResourceWarning: Enable tracemalloc to get the object allocation traceback\n"
     ]
    },
    {
     "name": "stdout",
     "output_type": "stream",
     "text": [
      "Extracted 20 pages\n"
     ]
    },
    {
     "name": "stderr",
     "output_type": "stream",
     "text": [
      "Extracting entities:   0%|          | 0/25 [00:00<?, ?it/s]/opt/homebrew/Cellar/python@3.12/3.12.4/Frameworks/Python.framework/Versions/3.12/lib/python3.12/threading.py:299: ResourceWarning: unclosed <ssl.SSLSocket fd=73, family=2, type=1, proto=0, laddr=('10.52.13.250', 51227), raddr=('104.26.5.130', 443)>\n",
      "  def __enter__(self):\n",
      "ResourceWarning: Enable tracemalloc to get the object allocation traceback\n",
      "/opt/homebrew/Cellar/python@3.12/3.12.4/Frameworks/Python.framework/Versions/3.12/lib/python3.12/threading.py:299: ResourceWarning: unclosed <ssl.SSLSocket fd=77, family=2, type=1, proto=0, laddr=('10.52.13.250', 51229), raddr=('104.26.5.130', 443)>\n",
      "  def __enter__(self):\n",
      "ResourceWarning: Enable tracemalloc to get the object allocation traceback\n",
      "/Users/ben/GitHub/vectrix/.venv/lib/python3.12/site-packages/httpcore/_synchronization.py:266: ResourceWarning: unclosed <ssl.SSLSocket fd=79, family=2, type=1, proto=0, laddr=('10.52.13.250', 51231), raddr=('104.26.5.130', 443)>\n",
      "  def __enter__(self) -> \"ThreadLock\":\n",
      "ResourceWarning: Enable tracemalloc to get the object allocation traceback\n",
      "/Users/ben/GitHub/vectrix/.venv/lib/python3.12/site-packages/httpcore/_synchronization.py:266: ResourceWarning: unclosed <ssl.SSLSocket fd=75, family=2, type=1, proto=0, laddr=('10.52.13.250', 51230), raddr=('104.26.5.130', 443)>\n",
      "  def __enter__(self) -> \"ThreadLock\":\n",
      "ResourceWarning: Enable tracemalloc to get the object allocation traceback\n",
      "Extracting entities: 100%|██████████| 25/25 [05:36<00:00, 13.44s/it]"
     ]
    },
    {
     "name": "stdout",
     "output_type": "stream",
     "text": [
      "An error occurred: Prediction timed out.\n",
      "Example CHUNK: \n",
      "page_content='Image Extraction with Langchain and Gemini Ben Selleslagh In today's digital landscape, businesses are constantly seeking ways to optimize their online presence and streamline their operations. One powerful tool that's gaining traction is AI-powered image metadata extraction. At Vectrix, we've implemented this technology for a major online retailer, processing thousands of product images to enhance user experience and boost SEO rankings. What is Image Metadata Extraction? Image metadata extraction is the process of using artificial intelligence to analyze images and generate structured data about their content. This can include descriptions, colors, attributes, and even SEO-friendly hashtags. By leveraging advanced machine learning models, we can automatically extract valuable information from visual content, turning images into a rich source of data. The Business Benefits - Enhanced SEO: By generating rich, varied descriptions for images, you can significantly improve your search engine rankings. This increased visibility can drive more organic traffic to your site. - Improved User Experience: Detailed product descriptions help customers find exactly what they're looking for. This can lead to higher conversion rates and increased customer satisfaction. - Efficiency: Automate the tedious task of manually tagging and describing large image collections. This saves time and resources, allowing your team to focus on more strategic tasks. - Consistency: Ensure all your product images have uniformly high-quality descriptions. This consistency enhances your brand image and customer trust. - Data-Driven Insights: The extracted metadata can provide valuable insights into your product catalog, helping inform inventory decisions and marketing strategies. Our Approach: Leveraging Langchain and Gemini At Vectrix, we've developed a cutting-edge solution using Langchain and the multi-modal LLM Gemini-Flash-1.5. This powerful combination allows us to: - Process images at scale: Handle thousands of images quickly and efficiently. - Generate structured data outputs: Create consistent, formatted data that can be easily integrated into existing systems. - Ensure variety in descriptions for SEO purposes: Use advanced techniques to generate unique descriptions, boosting SEO effectiveness. Our approach combines the flexibility of Langchain's workflow management with the advanced image understanding capabilities of Gemini-Flash-1.5. This allows us to create customized solutions that meet the specific needs of each business. Real-World Application We applied this technology to a large online retailer's product catalog. The results were impressive: - Thousands of product images processed quickly and efficiently - Rich, varied descriptions generated for each product - Significant improvements in search visibility and user engagement - 30% increase in organic traffic to product pages - 15%' metadata={'source': 'https://vectrix.ai/blog-post/image-extraction-with-langchain-and-gemini', 'title': 'Image Metadata Extraction with Langchain & Gemini', 'description': 'Learn how to use Langchain and Gemini-Flash-1.5 for AI-powered image metadata extraction. Discover benefits like enhanced SEO, improved user experience, and efficiency. Read more now!', 'language': 'en', 'uuid': 'c626cd57-c4d6-4182-b979-a334606b64ce', 'NER': {'entity_list': [{'entity_type': 'person', 'entity_name': 'Ben Selleslagh'}, {'entity_type': 'organization', 'entity_name': 'Vectrix'}, {'entity_type': 'technology', 'entity_name': 'Langchain'}, {'entity_type': 'technology', 'entity_name': 'Gemini-Flash-1.5'}], 'language': 'English', 'category': 'AI and Technology'}}\n"
     ]
    },
    {
     "name": "stderr",
     "output_type": "stream",
     "text": [
      "\n"
     ]
    }
   ],
   "source": [
    "# Extracting data from a URL\n",
    "\n",
    "crawler = vectrix.Crawler(\"https://vectrix.ai\")\n",
    "site_pages = crawler.extract()\n",
    "\n",
    "print(f\"Extracted {len(site_pages)} pages\")\n",
    "\n",
    "# Chunk the data\n",
    "chunker = vectrix.Webchunker(site_pages)\n",
    "chunks = chunker.chunk_content(chunk_size=500, chunk_overlap=50)\n",
    "\n",
    "# Extract NER info (Named Entities)\n",
    "extractor = vectrix.Extract('Replicate', 'meta/meta-llama-3-70b-instruct')\n",
    "results = extractor.extract(chunks)\n",
    "\n",
    "print(\"Example CHUNK: \")\n",
    "print(chunks[1])"
   ]
  },
  {
   "cell_type": "markdown",
   "metadata": {},
   "source": [
    "#### Adding Data to Vector Store using Weaviate\n",
    "\n",
    "This code demonstrates how to add extracted web data to a Weaviate vector store using the Vectrix library.\n",
    "\n",
    "**Steps**:\n",
    "\n",
    "1. **Import and Instantiate Weaviate**:\n",
    "   - Import necessary modules from Vectrix\n",
    "   - Create a Weaviate instance\n",
    "\n",
    "2. **Create a Collection**:\n",
    "   - Set up a new collection named 'Vectrix'\n",
    "   - Use a local Ollama model for embeddings\n",
    "   - Specify the model name and URL\n",
    "\n",
    "3. **Prepare Data for Vectorization**:\n",
    "   - Create `VectorDocument` objects for each extracted result\n",
    "   - Include metadata such as title, URL, content, type, and NER information\n",
    "\n",
    "4. **Add Data to Vector Store**:\n",
    "   - Use `weaviate.add_data()` to insert the prepared documents\n",
    "\n",
    "5. **Perform a Test Query**:\n",
    "   - Get a retriever from the Weaviate instance\n",
    "   - Execute a sample query to verify functionality\n",
    "\n",
    "**Note:**\n",
    "- You can remove a collection using `weaviate.remove_collection(\"Vectrix\")`\n",
    "- This example uses a local Ollama model, but you can use any compatible embedding model\n",
    "\n",
    "This code showcases the process of storing and querying vectorized web data using Weaviate and Vectrix, enabling efficient semantic search and retrieval.\n"
   ]
  },
  {
   "cell_type": "code",
   "execution_count": 3,
   "metadata": {},
   "outputs": [
    {
     "name": "stderr",
     "output_type": "stream",
     "text": [
      "WARNING: All log messages before absl::InitializeLog() is called are written to STDERR\n",
      "I0000 00:00:1722528514.449570 1395484 config.cc:230] gRPC experiments enabled: call_status_override_on_cancellation, event_engine_dns, event_engine_listener, http2_stats_fix, monitoring_experiment, pick_first_new, trace_record_callops, work_serializer_clears_time_cache\n"
     ]
    },
    {
     "data": {
      "text/plain": [
       "[Document(metadata={'title': 'Open Application - Create Your Dream Job at Vectrix', 'url': 'https://vectrix.ai/job-list/open-application---create-your-own-dream-job', 'type': 'webpage', 'uuid': 'ed329d5a-748b-4621-af2d-c9c2e59a091b', 'score': 0.9064587950706482}, page_content=\"About Vectrix At Vectrix, we train and validate private Small Language Models (SLMs) on business data, ensuring accuracy, explainability, and security. Based in Antwerp, our flexible platform offers DIY tools and expert collaboration, leveraging Retrieval Augmented Reasoning (RAR) for precise, contextually relevant answers. Join our innovative team and shape your career in a dynamic environment. At Vectrix, you’ll make a real impact and grow your skills in a supportive setting. Ready to advance AI with us? Apply now! Position Overview We are growing rapidly and our hiring plans are expanding just as quickly. We are looking for highly motivated team members who want to help build one of the leading companies in AI. If you're passionate about AI and haven't seen a role on our job board that matches your career aspirations, we still want to hear from you! Feel free to submit an open application and create your dream job at Vectrix. What We Offer - A stimulating work environment in the heart of Antwerp. - The opportunity to be part of a pioneering team in AI. - Access to state-of-the-art technology and resources. - A platform to grow your skills and career in the AI domain. - Competitive salary and benefits.\"),\n",
       " Document(metadata={'title': 'Senior Front-End Software Engineer at Vectrix', 'url': 'https://vectrix.ai/job-list/software-engineer-front-end', 'type': 'webpage', 'uuid': '0cf63894-7da2-4cd5-9438-9a164483f421', 'score': 0.7749330401420593}, page_content='About Vectrix At Vectrix, we train and validate private Small Language Models (SLMs) on business data, ensuring accuracy, explainability, and security. Based in Antwerp, our flexible platform offers DIY tools and expert collaboration, leveraging Retrieval Augmented Reasoning (RAR) for precise, contextually relevant answers. Join our innovative team and shape your career in a dynamic environment. At Vectrix, you’ll make a real impact and grow your skills in a supportive setting. Ready to advance AI with us? Apply now! Position Overview We are eager to welcome a seasoned and proficient Senior Front-end Software Engineer to our dynamic team. This role is designed for professionals who are passionate about web technology and are looking to play a key role in crafting the future of user interfaces in AI-driven systems. Key Responsibilities - Lead the development and design of advanced, user-centric front-end interfaces for our AI solutions. - Utilize and master the latest web technologies and frameworks to create responsive, high-performing applications. - Uphold superior graphic standards and ensure brand consistency across our digital platforms. - Collaborate closely with back-end developers to integrate AI features, ensuring an optimal user experience. - Oversee code reviews, stay abreast of front-end development trends, and drive innovation for continual enhancements. Qualifications - Bachelor’s or Master’s degree in Computer Science, Web Development, or a related field, with significant professional experience. - Expertise in front-end languages and frameworks, such as HTML, CSS, JavaScript, and advanced knowledge of React or Angular. - Proven track record in building and managing responsive web applications, with an emphasis on aesthetic and functional design. - Proficiency in version control tools like Git and experience with agile development processes. - Exceptional problem-solving skills, a user-focused approach to solutions, and leadership abilities in a collaborative team setting. What We Offer - A stimulating work environment in the heart of Antwerp. - The opportunity to be part of a pioneering team in AI. - Access to state-of-the-art technology and resources. - A platform to grow your skills and career in the AI domain. - Competitive salary and benefits.')]"
      ]
     },
     "execution_count": 3,
     "metadata": {},
     "output_type": "execute_result"
    }
   ],
   "source": [
    "from vectrix.db import Weaviate\n",
    "from vectrix.models.documents import VectorDocument\n",
    "\n",
    "# Instantiation of the Vector store\n",
    "weaviate = Weaviate()\n",
    "\n",
    "weaviate.remove_collection(\"Vectrix\")\n",
    "\n",
    "# Create a new collection to store the documents (you can also append them to an existsing one)\n",
    "weaviate.create_collection(name='Vectrix', \n",
    "                           embedding_model='Ollama', # For this example we use a local Ollama model, but you can use any other model \n",
    "                           model_name=\"mxbai-embed-large:335m\",\n",
    "                           model_url=\"http://host.docker.internal:11434\") # Ollama URL\n",
    "\n",
    "data_to_vectorize = []\n",
    "\n",
    "\n",
    "# Now let's add our downloaded webpages to the Vector store.\n",
    "for result in results:\n",
    "    data_to_vectorize.append(\n",
    "        VectorDocument(\n",
    "            title=result.metadata[\"title\"],\n",
    "            url=result.metadata[\"source\"],\n",
    "            content=result.page_content,\n",
    "            type=\"webpage\",\n",
    "            NER=str(result.metadata[\"NER\"]),\n",
    "        )\n",
    "    )\n",
    "\n",
    "weaviate.add_data(data_to_vectorize)\n",
    "\n",
    "\n",
    "# Perform a quick search to see if it works\n",
    "retriever = weaviate.get_retriever()\n",
    "retriever.invoke('Who are the Vectrix founders ?')"
   ]
  },
  {
   "cell_type": "markdown",
   "metadata": {},
   "source": [
    "### From OneDrive ☁\n",
    "We can also connect with a OneDrive folder and download the information from there. After this process we can add the information to our Vector store in the same way. This way we can extract various kinds of documents like PDF, World, PowerPoint ...\n",
    "\n",
    "Downloads files from OneDrive, processes them with Unstructured, and stores in Weaviate.\n",
    "\n",
    "Steps:\n",
    "1. Connect to OneDrive using Azure credentials\n",
    "2. List and download all files\n",
    "3. Process files with Unstructured importer\n",
    "4. Add processed documents to Weaviate vector store\n",
    "5. Close OneDrive connection\n",
    "\n",
    "Requirements:\n",
    "- vectrix library (OneDrive connector, Unstructured importer)\n",
    "- Weaviate client\n",
    "- Azure credentials as environment variables (AZURE_CLIENT_ID, AZURE_CLIENT_SECRET)\n",
    "\n",
    "Note: Close OneDrive connection before uploading to vector store."
   ]
  },
  {
   "cell_type": "code",
   "execution_count": null,
   "metadata": {},
   "outputs": [],
   "source": [
    "from vectrix.connectors.onedrive import OneDrive\n",
    "from vectrix.importers.unstructured import Unstructured\n",
    "\n",
    "drive = OneDrive(azure_client_id = os.environ.get('AZURE_CLIENT_ID'), azure_client_secret = os.environ.get('AZURE_CLIENT_SECRET'))\n",
    "\n",
    "drive.list_files()"
   ]
  },
  {
   "cell_type": "code",
   "execution_count": null,
   "metadata": {},
   "outputs": [],
   "source": [
    "# Download all files in the drive, returns a list of downloaded files\n",
    "downloaded_files = drive.download_files()\n",
    "print(downloaded_files)\n",
    "\n",
    "# Process teh documents using unstructured (we can't load RAW PDF files into a Vector store)\n",
    "importer = Unstructured()\n",
    "documents = importer.process_files(downloaded_files)\n",
    "\n",
    "# Add the documents to the Vector store\n",
    "weaviate = Weaviate()\n",
    "weaviate.set_colleciton('Vectrix')\n",
    "weaviate.add_data(documents)\n",
    "\n",
    "# Close the drive, do this BEFORE you want to upload the files to a vector store\n",
    "drive.close()"
   ]
  }
 ],
 "metadata": {
  "kernelspec": {
   "display_name": ".venv",
   "language": "python",
   "name": "python3"
  },
  "language_info": {
   "codemirror_mode": {
    "name": "ipython",
    "version": 3
   },
   "file_extension": ".py",
   "mimetype": "text/x-python",
   "name": "python",
   "nbconvert_exporter": "python",
   "pygments_lexer": "ipython3",
   "version": "3.12.4"
  }
 },
 "nbformat": 4,
 "nbformat_minor": 2
}
