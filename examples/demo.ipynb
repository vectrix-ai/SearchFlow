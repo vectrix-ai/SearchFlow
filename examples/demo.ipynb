{
 "cells": [
  {
   "cell_type": "code",
   "execution_count": 1,
   "metadata": {},
   "outputs": [],
   "source": [
    "from dotenv import load_dotenv\n",
    "load_dotenv()\n",
    "\n",
    "import warnings\n",
    "warnings.simplefilter(\"ignore\", ResourceWarning)"
   ]
  },
  {
   "cell_type": "markdown",
   "metadata": {},
   "source": [
    "# SearchFlow Demo 👨🏻‍💻\n",
    "This notebook demonstrates the functions for importing data from various sources. \n",
    "Loading it into a VectorStore, and then using it to answer questions with a Retrieval Augemented Reasoning  🦜🔗 LangGraph.\n",
    "\n",
    "## Creating a new project\n",
    "\n"
   ]
  },
  {
   "cell_type": "code",
   "execution_count": 5,
   "metadata": {},
   "outputs": [
    {
     "name": "stdout",
     "output_type": "stream",
     "text": [
      "[]\n"
     ]
    },
    {
     "data": {
      "text/plain": [
       "'Test'"
      ]
     },
     "execution_count": 5,
     "metadata": {},
     "output_type": "execute_result"
    }
   ],
   "source": [
    "from searchflow.db import DB\n",
    "db = DB()\n",
    "\n",
    "print(db.list_projects())\n",
    "db.create_project(\"Test\", description=\"This is a test project\")"
   ]
  },
  {
   "cell_type": "code",
   "execution_count": 4,
   "metadata": {},
   "outputs": [
    {
     "data": {
      "text/plain": [
       "True"
      ]
     },
     "execution_count": 4,
     "metadata": {},
     "output_type": "execute_result"
    }
   ],
   "source": [
    "db.remove_project(\"Test\")"
   ]
  },
  {
   "cell_type": "markdown",
   "metadata": {},
   "source": [
    "## Importing Data\n",
    "### 1. From a URL 🔗\n",
    "\n",
    "**Web Crawling and Data Extraction Example**\n"
   ]
  },
  {
   "cell_type": "code",
   "execution_count": null,
   "metadata": {},
   "outputs": [],
   "source": [
    "from searchflow.importers import WebScraper\n",
    "\n",
    "scraper = WebScraper(project_name='Test', db=db)\n",
    "scraper.get_all_links(\"https://vectrix.ai\")"
   ]
  },
  {
   "cell_type": "code",
   "execution_count": null,
   "metadata": {},
   "outputs": [],
   "source": [
    "from searchflow.importers import WebScraper\n",
    "\n",
    "scraper = WebScraper(project_name='Test', db=db)\n",
    "scraper.full_import(\"https://dataframe.be\", max_pages=100)"
   ]
  },
  {
   "cell_type": "code",
   "execution_count": null,
   "metadata": {},
   "outputs": [],
   "source": [
    "print(db.get_links_to_confirm(\"Test\"))"
   ]
  },
  {
   "cell_type": "code",
   "execution_count": null,
   "metadata": {},
   "outputs": [],
   "source": [
    "db.add_links_to_index(links=[\"https://langchain-ai.github.io/langgraph/reference/graphs/\"],base_url=\"https://langchain-ai.github.io/langgraph/reference/graphs/\", project_name=\"Test\", status=\"Confirm page import\")"
   ]
  },
  {
   "cell_type": "code",
   "execution_count": null,
   "metadata": {},
   "outputs": [],
   "source": [
    "print(db.get_indexing_status(\"Test\"))"
   ]
  },
  {
   "cell_type": "code",
   "execution_count": null,
   "metadata": {},
   "outputs": [],
   "source": [
    "from searchflow.importers import WebScraper\n",
    "\n",
    "scraper = WebScraper(project_name='Test', db=db)\n",
    "\n",
    "confirmed_links = [link['url'] for link in db.get_links_to_confirm(\"Test\")]\n",
    "scraper.download_pages(confirmed_links, project_name=\"Test\")"
   ]
  },
  {
   "cell_type": "markdown",
   "metadata": {},
   "source": [
    "### 2. Upload files ⬆️\n",
    "You can also upload files and add them to the vector store, Vectrix will automaticly detect the file type extract the text and chunk the content into blocks."
   ]
  },
  {
   "cell_type": "code",
   "execution_count": 8,
   "metadata": {},
   "outputs": [
    {
     "name": "stderr",
     "output_type": "stream",
     "text": [
      "\u001b[32m2024-09-03 17:52:34,360 - Files - INFO - Processing files locally\u001b[0m\n",
      "\u001b[32m2024-09-03 17:52:34,909 - Files - INFO - Processing file 1 of 1\u001b[0m\n",
      "\u001b[32m2024-09-03 17:52:34,960 - Files - INFO - Uploaded test.pdf to object storage\u001b[0m\n",
      "\u001b[32m2024-09-03 17:53:00,509 - Files - INFO - Chunked the document into 1 parts\u001b[0m\n"
     ]
    }
   ],
   "source": [
    "from searchflow.importers import Files\n",
    "file = './files/pdf_with_scannedtext.pdf'\n",
    "\n",
    "# Load bytes data\n",
    "with open(file, \"rb\") as f:\n",
    "    bytes_data = f.read()\n",
    "\n",
    "files = Files()\n",
    "files.upload_file(\n",
    "    document_data=[(bytes_data, \"test.pdf\")],\n",
    "    project_name=\"Test\",\n",
    "    inference_type=\"local\"\n",
    ")"
   ]
  },
  {
   "cell_type": "code",
   "execution_count": null,
   "metadata": {},
   "outputs": [],
   "source": [
    "# Remove a file\n",
    "db.remove_file(\"Test\", \"test.pdf\")"
   ]
  },
  {
   "cell_type": "markdown",
   "metadata": {},
   "source": [
    "### 3. Chrome Plugin 🦊"
   ]
  },
  {
   "cell_type": "code",
   "execution_count": null,
   "metadata": {},
   "outputs": [],
   "source": [
    "# Launch the FastAPI server\n",
    "#!python src/searchflow/api.py\n",
    "\n"
   ]
  }
 ],
 "metadata": {
  "kernelspec": {
   "display_name": ".venv",
   "language": "python",
   "name": "python3"
  },
  "language_info": {
   "codemirror_mode": {
    "name": "ipython",
    "version": 3
   },
   "file_extension": ".py",
   "mimetype": "text/x-python",
   "name": "python",
   "nbconvert_exporter": "python",
   "pygments_lexer": "ipython3",
   "version": "3.12.5"
  }
 },
 "nbformat": 4,
 "nbformat_minor": 2
}
