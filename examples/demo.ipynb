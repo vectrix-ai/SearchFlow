{
 "cells": [
  {
   "cell_type": "code",
   "execution_count": 1,
   "metadata": {},
   "outputs": [],
   "source": [
    "from dotenv import load_dotenv\n",
    "load_dotenv()\n",
    "import os\n",
    "import logging\n",
    "logging.basicConfig(level=logging.INFO)\n",
    "\n",
    "import warnings\n",
    "warnings.simplefilter(\"ignore\", ResourceWarning)"
   ]
  },
  {
   "cell_type": "markdown",
   "metadata": {},
   "source": [
    "# Vectrix Demo 👨🏻‍💻\n",
    "This notebook demonstrates the functions for importing data from various sources. \n",
    "Loading it into a VectorStore, and then using it to answer questions with a Retrieval Augemented Reasoning  🦜🔗 LangGraph.\n",
    "\n",
    "## Importing Data\n",
    "### 1. From a URL 🔗\n",
    "\n",
    "**Web Crawling and Data Extraction Example**\n",
    "\n",
    "This cell demonstrates the process of crawling a website, chunking the extracted content, and performing Named Entity Recognition (NER) using the Vectrix library.\n",
    "\n",
    "#### Steps:\n",
    "\n",
    "1. **Web Crawling**: \n",
    "   - Uses `vectrix.Crawler` to extract pages from \"https://vectrix.ai\"\n",
    "   - Limits the crawl to a maximum of 20 pages\n",
    "\n",
    "2. **Content Chunking**:\n",
    "   - Utilizes `vectrix.Webchunker` to break down the extracted content\n",
    "   - Chunks are created with a size of 500 characters and an overlap of 50 characters\n",
    "\n",
    "3. **Named Entity Recognition**:\n",
    "   - Employs `vectrix.Extract` with the 'Replicate' model\n",
    "   - Uses the 'meta/meta-llama-3-70b-instruct' model for entity extraction\n",
    "\n",
    "This example showcases a typical workflow for web data extraction and processing using the Vectrix library.\n"
   ]
  },
  {
   "cell_type": "code",
   "execution_count": 2,
   "metadata": {},
   "outputs": [
    {
     "name": "stderr",
     "output_type": "stream",
     "text": [
      "WARNING:langchain_community.utils.user_agent:USER_AGENT environment variable not set, consider setting it to identify your requests.\n",
      "INFO:vectrix.importers.webscraper:Starting extraction pipeline for site: elmos.be\n",
      "Fetching pages: 100%|##########| 1/1 [00:00<00:00, 10.09it/s]\n",
      "/Users/ben/GitHub/vectrix/.venv/lib/python3.12/site-packages/bs4/builder/_htmlparser.py:134: ResourceWarning: unclosed <socket.socket fd=81, family=2, type=1, proto=6, laddr=('10.52.13.79', 60598), raddr=('5.134.4.204', 443)>\n",
      "  attrvalue = '\"\"'\n",
      "ResourceWarning: Enable tracemalloc to get the object allocation traceback\n",
      "/opt/homebrew/Cellar/python@3.12/3.12.4/Frameworks/Python.framework/Versions/3.12/lib/python3.12/asyncio/selector_events.py:879: ResourceWarning: unclosed transport <_SelectorSocketTransport fd=81>\n",
      "  _warn(f\"unclosed transport {self!r}\", ResourceWarning, source=self)\n",
      "ResourceWarning: Enable tracemalloc to get the object allocation traceback\n",
      "INFO:vectrix.importers.webscraper:Visiting the following links: ['https://www.elmos.be/contacteer-ons', 'https://www.elmos.be/vind-it-talent', 'https://www.elmos.be/content-hub', 'https://www.elmos.be', 'https://www.elmos.be/opleidingen/masterclasses-voor-iters', 'https://www.elmos.be/over-ons/het-team-van-elmos-it-consultancy', 'https://www.elmos.be/cookie-policy', 'https://www.elmos.be/over-ons/elmos-group', 'https://www.elmos.be/vind-een-job', 'https://www.elmos.be/opleidingen/stageplaatsen-voor-it-studenten-bij-elmos-it-consultancy', 'https://www.elmos.be/onze-jobs/test-automation-engineer', 'https://www.elmos.be/onze-jobs/elmosdata-data-engineerarchitect-infrastructure-specialist', 'https://www.elmos.be/onze-jobs/elmosdata-bi-cognos-developer', 'https://www.elmos.be/over-elmos-it-consultancybedrijf-mechelen', 'https://www.elmos.be/vind-een-job/it-consultancy-jobs', 'https://www.elmos.be/vind-talent/onze-aanpak', 'https://www.elmos.be/vind-talent/expertises', 'https://www.elmos.be/onze-jobs/data-modeling-specialist', 'https://www.elmos.be/referenties', 'https://www.elmos.be/expertises/development', 'https://www.elmos.be/opleidingen', 'https://www.elmos.be/expertises/data', 'https://www.elmos.be/opleidingen/competence-centers/competence-center-analyse-pm', 'https://www.elmos.be/privacy-policy', 'https://www.elmos.be/opleidingen/competence-centers', 'https://www.elmos.be/content-hub/elmosespresso-5-wat-maakt-jouw-bedrijf-een-great-place-work', 'https://www.elmos.be/content-hub/spill-bits-4-hoe-efficient-kan-ai-ons-werk-maken', 'https://www.elmos.be/opleidingen/masterclasses/masterclass-functionele-analyse', 'https://www.elmos.be/vind-een-job/spontane-sollicitatie', 'https://www.elmos.be/opleidingen/competence-centers/competence-center-development', 'https://www.elmos.be/vind-een-job/werken-bij-elmos', 'https://www.elmos.be/over-ons/onze-sfeer', 'https://www.elmos.be/opleidingen/competence-centers/competence-center-data', 'https://www.elmos.be/content-hub/pieter-maakt-carriereswitch-van-leraar-lo-naar-net-developer', 'https://www.elmos.be/onze-jobs/mainframe-engineer', 'https://www.elmos.be/expertises/analyse-en-projectmanagement']\n",
      "Fetching pages: 100%|##########| 36/36 [00:01<00:00, 24.49it/s]\n",
      "/Users/ben/GitHub/vectrix/.venv/lib/python3.12/site-packages/bs4/builder/__init__.py:321: ResourceWarning: unclosed <socket.socket fd=85, family=2, type=1, proto=6, laddr=('10.52.13.79', 60635), raddr=('5.134.4.204', 443)>\n",
      "  values = nonwhitespace_re.findall(value)\n",
      "ResourceWarning: Enable tracemalloc to get the object allocation traceback\n",
      "/opt/homebrew/Cellar/python@3.12/3.12.4/Frameworks/Python.framework/Versions/3.12/lib/python3.12/asyncio/selector_events.py:879: ResourceWarning: unclosed transport <_SelectorSocketTransport fd=85>\n",
      "  _warn(f\"unclosed transport {self!r}\", ResourceWarning, source=self)\n",
      "ResourceWarning: Enable tracemalloc to get the object allocation traceback\n",
      "INFO:vectrix.importers.webscraper:Number of pages processed: 36\n",
      "INFO:vectrix.importers.webscraper:Number of links to visit: 61\n",
      "INFO:vectrix.importers.webscraper:Visiting the following links: ['https://www.elmos.be/referenties/wolters-kluwer-over-elmos-it-consultancy', 'https://www.elmos.be/contact', 'https://www.elmos.be/content-hub/een-nieuwe-ceo-een-nieuw-hoofdstuk-bij-elmos', 'https://www.elmos.be/content-hub/spill-bits-1-een-impactvolle-belgische-startup-lanceren-dat-nog-mogelijk', 'https://www.elmos.be/content-hub/elmosespresso-4-help-waarom-raak-ik-mijn-focus-kwijt', 'https://www.elmos.be/content-hub/hoe-maakt-bpmn-jouw-it-project-beter', 'https://www.elmos.be/content-hub/spill-bits-2-kunnen-we-onze-gezondheid-hacken-met-technologie', 'https://www.elmos.be/content-hub/elmos-espresso-2-jouw-onboarding-wel-zo-effectief-als-je-denkt', 'https://www.elmos.be/content-hub/impact-van-ai-door-de-ogen-van-journalist-tim-verheyden', 'https://www.elmos.be/content-hub/digitale-transformatie-de-haven-van-antwerpen-met-nxtport', 'https://www.elmos.be/content-hub/elmosespresso-3-maakt-een-gezonde-levensstijl-je-echt-gelukkiger-je-job', 'https://www.elmos.be/stagiair-business-analyst', 'https://www.elmos.be/stagiair-full-stack-net-developer', 'https://www.elmos.be/stagiair-data-analist-data-engineer', 'https://www.elmos.be/onze-jobs/test-automation-engineer/solliciteren', 'https://www.elmos.be/onze-jobs/elmosdata-data-engineerarchitect-infrastructure-specialist/solliciteren', 'https://www.elmos.be/onze-jobs/elmosdata-bi-cognos-developer/solliciteren', 'https://www.elmos.be/onze-jobs/senior-java-developer', 'https://www.elmos.be/onze-jobs/senior-functioneel-analist-met-technische-interesse-net', 'https://www.elmos.be/onze-jobs/backend-java-developer', 'https://www.elmos.be/onze-jobs/elmosdata-senior-azure-cloud-engineer-cloud-team-lead', 'https://www.elmos.be/onze-jobs/backend-net-developer', 'https://www.elmos.be/onze-jobs/data-modeling-specialist/solliciteren', 'https://www.elmos.be/referenties/elmos-helpt-vma-met-asset-management-tool', 'https://www.elmos.be/referenties/elmos-helpt-sd-worx-bij-ontwikkeling-van-volledig-modulaire-payrolltool', 'https://www.elmos.be/referenties/elmos-bouwt-digitale-planningstool-voor-hrb', 'https://www.elmos.be/referenties/elmos-preferred-partner-van-sd-worx', 'https://www.elmos.be/referenties/de-uitdagingen-van-michel-head-it-transformation-bij-nn', 'https://www.elmos.be/referenties/sofie-werkt-elmos-developer-bij-sport-vlaanderen', 'https://www.elmos.be/referenties/elmos-helpt-vma-met-asset-management-tool', 'https://www.elmos.be/referenties/elmos-bouwt-digitale-planningstool-voor-hrb', 'https://www.elmos.be/functioneel-analist', 'https://www.elmos.be/business-analist', 'https://www.elmos.be/project-manager', 'https://www.elmos.be/content-hub/elmosespresso-4-help-waarom-raak-ik-mijn-focus-kwijt', 'https://www.elmos.be/content-hub/elmos-espresso-2-jouw-onboarding-wel-zo-effectief-als-je-denkt', 'https://www.linkedin.com/shareArticle?mini=true&url=https://www.elmos.be/content-hub/elmosespresso-5-wat-maakt-jouw-bedrijf-een-great-place-work', 'https://www.facebook.com/sharer/sharer.php?u=https://www.elmos.be/content-hub/elmosespresso-5-wat-maakt-jouw-bedrijf-een-great-place-work', 'https://www.elmos.be/content-hub/elmosespresso-3-maakt-een-gezonde-levensstijl-je-echt-gelukkiger-je-job', 'https://www.elmos.be/content-hub/de-toekomst-van-data-de-essentiele-data-functies-2023', 'https://www.facebook.com/sharer/sharer.php?u=https://www.elmos.be/content-hub/spill-bits-4-hoe-efficient-kan-ai-ons-werk-maken', 'https://www.elmos.be/content-hub/it-wereld-continu-beweging-hoe-blijf-je-bij', 'https://www.linkedin.com/shareArticle?mini=true&url=https://www.elmos.be/content-hub/spill-bits-4-hoe-efficient-kan-ai-ons-werk-maken', 'https://www.elmos.be/content-hub/spill-bits-2-kunnen-we-onze-gezondheid-hacken-met-technologie', 'https://www.elmos.be/back-end-developer', 'https://www.elmos.be/opleidingen/masterclasses/masterclass-development', 'https://www.elmos.be/front-end-developer', 'https://www.elmos.be/full-stack-developer', 'https://www.elmos.be/onze-jobs/recruitment-talent-specialist', 'https://www.elmos.be/data-architect', 'https://www.elmos.be/data-engineer', 'https://www.elmos.be/data-analist', 'https://www.elmos.be/opleidingen/masterclasses/masterclass-data', 'https://www.elmos.be/content-hub/spill-bits-1-een-impactvolle-belgische-startup-lanceren-dat-nog-mogelijk', 'https://www.linkedin.com/shareArticle?mini=true&url=https://www.elmos.be/content-hub/pieter-maakt-carriereswitch-van-leraar-lo-naar-net-developer', 'https://www.elmos.be/content-hub/impact-van-ai-door-de-ogen-van-journalist-tim-verheyden', 'https://www.elmos.be/content-hub/young-potentials-lanceren-succesvolle-applicatie-stoelendans', 'https://www.facebook.com/sharer/sharer.php?u=https://www.elmos.be/content-hub/pieter-maakt-carriereswitch-van-leraar-lo-naar-net-developer', 'https://www.elmos.be/onze-jobs/mainframe-engineer/solliciteren', 'https://www.elmos.be/referenties/elmos-helpt-vma-met-asset-management-tool', 'https://www.elmos.be/referenties/elmos-bouwt-digitale-planningstool-voor-hrb']\n",
      "Fetching pages: 100%|##########| 61/61 [00:03<00:00, 17.53it/s]\n",
      "/Users/ben/GitHub/vectrix/.venv/lib/python3.12/site-packages/bs4/element.py:1199: ResourceWarning: unclosed <socket.socket fd=91, family=2, type=1, proto=6, laddr=('10.52.13.79', 60701), raddr=('5.134.4.204', 443)>\n",
      "  def __init__(self, parser=None, builder=None, name=None, namespace=None,\n",
      "ResourceWarning: Enable tracemalloc to get the object allocation traceback\n",
      "/opt/homebrew/Cellar/python@3.12/3.12.4/Frameworks/Python.framework/Versions/3.12/lib/python3.12/asyncio/selector_events.py:879: ResourceWarning: unclosed transport <_SelectorSocketTransport fd=91>\n",
      "  _warn(f\"unclosed transport {self!r}\", ResourceWarning, source=self)\n",
      "ResourceWarning: Enable tracemalloc to get the object allocation traceback\n",
      "/opt/homebrew/Cellar/python@3.12/3.12.4/Frameworks/Python.framework/Versions/3.12/lib/python3.12/asyncio/selector_events.py:879: ResourceWarning: unclosed transport <_SelectorSocketTransport fd=90>\n",
      "  _warn(f\"unclosed transport {self!r}\", ResourceWarning, source=self)\n",
      "ResourceWarning: Enable tracemalloc to get the object allocation traceback\n",
      "/opt/homebrew/Cellar/python@3.12/3.12.4/Frameworks/Python.framework/Versions/3.12/lib/python3.12/asyncio/selector_events.py:879: ResourceWarning: unclosed transport <_SelectorSocketTransport fd=86>\n",
      "  _warn(f\"unclosed transport {self!r}\", ResourceWarning, source=self)\n",
      "ResourceWarning: Enable tracemalloc to get the object allocation traceback\n",
      "/opt/homebrew/Cellar/python@3.12/3.12.4/Frameworks/Python.framework/Versions/3.12/lib/python3.12/asyncio/selector_events.py:879: ResourceWarning: unclosed transport <_SelectorSocketTransport fd=87>\n",
      "  _warn(f\"unclosed transport {self!r}\", ResourceWarning, source=self)\n",
      "ResourceWarning: Enable tracemalloc to get the object allocation traceback\n",
      "INFO:vectrix.importers.webscraper:Number of pages processed: 97\n",
      "INFO:vectrix.importers.webscraper:Number of links to visit: 59\n",
      "INFO:vectrix.importers.webscraper:Visiting the following links: ['https://www.elmos.be/node/15', 'https://www.elmos.be/content-hub/de-ultieme-gids-voor-business-analyse-van-user-stories-tot-wireframing', 'https://www.elmos.be/content-hub/hoe-elmos-de-unieke-behoeften-van-arcelormittal-belgium-begrijpt', 'https://www.elmos.be/content-hub/2023-het-keerpunt-technologie-feit-fictie', 'https://www.elmos.be/content-hub/code-carriere-cultuur-een-nieuwe-generatie-developers', 'https://www.elmos.be/onze-jobs/senior-java-developer/solliciteren', 'https://www.elmos.be/onze-jobs/senior-functioneel-analist-met-technische-interesse-net/solliciteren', 'https://www.elmos.be/onze-jobs/backend-java-developer/solliciteren', 'https://www.elmos.be/onze-jobs/elmosdata-senior-azure-cloud-engineer-cloud-team-lead/solliciteren', 'https://www.elmos.be/onze-jobs/backend-net-developer/solliciteren', 'https://www.elmos.be/node/15', 'https://www.elmos.be/node/15', 'https://www.elmos.be/node/15', 'https://www.elmos.be/node/15', 'https://www.elmos.be/node/15', 'https://www.elmos.be/node/15', 'https://www.elmos.be/node/15', 'https://www.elmos.be/node/15', 'https://www.elmos.be/legal/user-agreement?trk=d_checkpoint_lg_consumerLogin_ft_user_agreement', 'https://www.elmos.be/legal/cookie-policy', 'https://www.elmos.be/legal/privacy-policy?trk=d_checkpoint_lg_consumerLogin_ft_privacy_policy', 'https://www.elmos.be/legal/cookie-policy?trk=d_checkpoint_lg_consumerLogin_ft_cookie_policy', 'https://www.elmos.be/legal/copyright-policy?trk=d_checkpoint_lg_consumerLogin_ft_copyright_policy', 'https://www.elmos.be/legal/privacy-policy', 'https://www.elmos.be/signup/cold-join?session_redirect=https%3A%2F%2Fwww.linkedin.com%2FshareArticle%3Fmini%3Dtrue%26url%3Dhttps%3A%2F%2Fwww.elmos.be%2Fcontent-hub%2Felmosespresso-5-wat-maakt-jouw-bedrijf-een-great-place-work', 'https://www.elmos.be/help/linkedin?trk=d_checkpoint_lg_consumerLogin_ft_send_feedback&lang=en', 'https://www.elmos.be/checkpoint/rp/request-password-reset?session_redirect=https%3A%2F%2Fwww%2Elinkedin%2Ecom%2FshareArticle%3Fmini%3Dtrue%26url%3Dhttps%3A%2F%2Fwww%2Eelmos%2Ebe%2Fcontent-hub%2Felmosespresso-5-wat-maakt-jouw-bedrijf-een-great-place-work', 'https://www.elmos.be/legal/user-agreement', 'https://www.elmos.be/help/linkedin/answer/34593?lang=en&trk=d_checkpoint_lg_consumerLogin_ft_community_guidelines', 'https://www.elmos.be/language/?n=%2Fcookie%2Fconsent_prompt%2F%3Fnext_uri%3Dhttps%253A%252F%252Fm.facebook.com%252Flogin.php%253Fskip_api_login%253D1%2526api_key%253D966242223397117%2526signed_next%253D1%2526next%253Dhttps%25253A%25252F%25252Fm.facebook.com%25252Fsharer%25252Fsharer.php%25253Fu%25253Dhttps%2525253A%2525252F%2525252Fwww.elmos.be%2525252Fcontent-hub%2525252Felmosespresso-5-wat-maakt-jouw-bedrijf-een-great-place-work%2526cancel_url%253Dhttps%25253A%25252F%25252Fm.facebook.com%25252Fdialog%25252Fclose_window%25252F%25253Fapp_id%25253D966242223397117%252526connect%25253D0%252523_%25253D_%2526display%253Dtouch%2526locale%253Den_US&locale2=en_US', 'https://www.elmos.be/language/?n=%2Fcookie%2Fconsent_prompt%2F%3Fnext_uri%3Dhttps%253A%252F%252Fm.facebook.com%252Flogin.php%253Fskip_api_login%253D1%2526api_key%253D966242223397117%2526signed_next%253D1%2526next%253Dhttps%25253A%25252F%25252Fm.facebook.com%25252Fsharer%25252Fsharer.php%25253Fu%25253Dhttps%2525253A%2525252F%2525252Fwww.elmos.be%2525252Fcontent-hub%2525252Fspill-bits-4-hoe-efficient-kan-ai-ons-werk-maken%2526cancel_url%253Dhttps%25253A%25252F%25252Fm.facebook.com%25252Fdialog%25252Fclose_window%25252F%25253Fapp_id%25253D966242223397117%252526connect%25253D0%252523_%25253D_%2526display%253Dtouch%2526locale%253Den_US&locale2=en_US', 'https://www.elmos.be/content-hub/2023-het-keerpunt-technologie-feit-fictie', 'https://www.elmos.be/legal/user-agreement?trk=d_checkpoint_lg_consumerLogin_ft_user_agreement', 'https://www.elmos.be/legal/cookie-policy', 'https://www.elmos.be/checkpoint/rp/request-password-reset?session_redirect=https%3A%2F%2Fwww%2Elinkedin%2Ecom%2FshareArticle%3Fmini%3Dtrue%26url%3Dhttps%3A%2F%2Fwww%2Eelmos%2Ebe%2Fcontent-hub%2Fspill-bits-4-hoe-efficient-kan-ai-ons-werk-maken', 'https://www.elmos.be/legal/privacy-policy?trk=d_checkpoint_lg_consumerLogin_ft_privacy_policy', 'https://www.elmos.be/legal/cookie-policy?trk=d_checkpoint_lg_consumerLogin_ft_cookie_policy', 'https://www.elmos.be/legal/copyright-policy?trk=d_checkpoint_lg_consumerLogin_ft_copyright_policy', 'https://www.elmos.be/legal/privacy-policy', 'https://www.elmos.be/help/linkedin?trk=d_checkpoint_lg_consumerLogin_ft_send_feedback&lang=en', 'https://www.elmos.be/signup/cold-join?session_redirect=https%3A%2F%2Fwww.linkedin.com%2FshareArticle%3Fmini%3Dtrue%26url%3Dhttps%3A%2F%2Fwww.elmos.be%2Fcontent-hub%2Fspill-bits-4-hoe-efficient-kan-ai-ons-werk-maken', 'https://www.elmos.be/legal/user-agreement', 'https://www.elmos.be/help/linkedin/answer/34593?lang=en&trk=d_checkpoint_lg_consumerLogin_ft_community_guidelines', 'https://www.elmos.be/onze-jobs/recruitment-talent-specialist/solliciteren', 'https://www.elmos.be/checkpoint/rp/request-password-reset?session_redirect=https%3A%2F%2Fwww%2Elinkedin%2Ecom%2FshareArticle%3Fmini%3Dtrue%26url%3Dhttps%3A%2F%2Fwww%2Eelmos%2Ebe%2Fcontent-hub%2Fpieter-maakt-carriereswitch-van-leraar-lo-naar-net-developer', 'https://www.elmos.be/legal/user-agreement?trk=d_checkpoint_lg_consumerLogin_ft_user_agreement', 'https://www.elmos.be/legal/cookie-policy', 'https://www.elmos.be/signup/cold-join?session_redirect=https%3A%2F%2Fwww.linkedin.com%2FshareArticle%3Fmini%3Dtrue%26url%3Dhttps%3A%2F%2Fwww.elmos.be%2Fcontent-hub%2Fpieter-maakt-carriereswitch-van-leraar-lo-naar-net-developer', 'https://www.elmos.be/legal/privacy-policy?trk=d_checkpoint_lg_consumerLogin_ft_privacy_policy', 'https://www.elmos.be/legal/cookie-policy?trk=d_checkpoint_lg_consumerLogin_ft_cookie_policy', 'https://www.elmos.be/legal/copyright-policy?trk=d_checkpoint_lg_consumerLogin_ft_copyright_policy', 'https://www.elmos.be/legal/privacy-policy', 'https://www.elmos.be/help/linkedin?trk=d_checkpoint_lg_consumerLogin_ft_send_feedback&lang=en', 'https://www.elmos.be/legal/user-agreement', 'https://www.elmos.be/help/linkedin/answer/34593?lang=en&trk=d_checkpoint_lg_consumerLogin_ft_community_guidelines', 'https://www.elmos.be/nieuws/it-wereld-continu-beweging-hoe-blijf-je-bij', 'https://www.elmos.be/language/?n=%2Fcookie%2Fconsent_prompt%2F%3Fnext_uri%3Dhttps%253A%252F%252Fm.facebook.com%252Flogin.php%253Fskip_api_login%253D1%2526api_key%253D966242223397117%2526signed_next%253D1%2526next%253Dhttps%25253A%25252F%25252Fm.facebook.com%25252Fsharer%25252Fsharer.php%25253Fu%25253Dhttps%2525253A%2525252F%2525252Fwww.elmos.be%2525252Fcontent-hub%2525252Fpieter-maakt-carriereswitch-van-leraar-lo-naar-net-developer%2526cancel_url%253Dhttps%25253A%25252F%25252Fm.facebook.com%25252Fdialog%25252Fclose_window%25252F%25253Fapp_id%25253D966242223397117%252526connect%25253D0%252523_%25253D_%2526display%253Dtouch%2526locale%253Den_US&locale2=en_US', 'https://www.elmos.be/node/15', 'https://www.elmos.be/node/15']\n",
      "Fetching pages: 100%|##########| 59/59 [00:03<00:00, 14.88it/s]\n",
      "/Users/ben/GitHub/vectrix/.venv/lib/python3.12/site-packages/bs4/element.py:1199: ResourceWarning: unclosed <socket.socket fd=77, family=2, type=1, proto=6, laddr=('10.52.13.79', 60761), raddr=('5.134.4.204', 443)>\n",
      "  def __init__(self, parser=None, builder=None, name=None, namespace=None,\n",
      "ResourceWarning: Enable tracemalloc to get the object allocation traceback\n",
      "/opt/homebrew/Cellar/python@3.12/3.12.4/Frameworks/Python.framework/Versions/3.12/lib/python3.12/asyncio/selector_events.py:879: ResourceWarning: unclosed transport <_SelectorSocketTransport fd=77>\n",
      "  _warn(f\"unclosed transport {self!r}\", ResourceWarning, source=self)\n",
      "ResourceWarning: Enable tracemalloc to get the object allocation traceback\n",
      "INFO:vectrix.importers.webscraper:Number of pages processed: 156\n",
      "INFO:vectrix.importers.webscraper:Number of links to visit: 1\n",
      "INFO:vectrix.importers.webscraper:Visiting the following links: ['https://www.elmos.be/nieuws/hoe-elmos-de-unieke-behoeften-van-arcelormittal-belgium-begrijpt']\n",
      "Fetching pages: 100%|##########| 1/1 [00:00<00:00,  7.14it/s]\n",
      "/Users/ben/GitHub/vectrix/.venv/lib/python3.12/site-packages/bs4/builder/__init__.py:295: ResourceWarning: unclosed <socket.socket fd=81, family=2, type=1, proto=6, laddr=('10.52.13.79', 60762), raddr=('5.134.4.204', 443)>\n",
      "  def _replace_cdata_list_attribute_values(self, tag_name, attrs):\n",
      "ResourceWarning: Enable tracemalloc to get the object allocation traceback\n",
      "INFO:vectrix.importers.webscraper:Number of pages processed: 157\n",
      "INFO:vectrix.importers.webscraper:Number of links to visit: 0\n"
     ]
    },
    {
     "ename": "KeyError",
     "evalue": "'description'",
     "output_type": "error",
     "traceback": [
      "\u001b[0;31m---------------------------------------------------------------------------\u001b[0m",
      "\u001b[0;31mKeyError\u001b[0m                                  Traceback (most recent call last)",
      "Cell \u001b[0;32mIn[2], line 5\u001b[0m\n\u001b[1;32m      2\u001b[0m \u001b[38;5;28;01mfrom\u001b[39;00m \u001b[38;5;21;01mvectrix\u001b[39;00m\u001b[38;5;21;01m.\u001b[39;00m\u001b[38;5;21;01mimporters\u001b[39;00m \u001b[38;5;28;01mimport\u001b[39;00m WebCrawler, ChunkData\n\u001b[1;32m      4\u001b[0m crawler \u001b[38;5;241m=\u001b[39m  WebCrawler(\u001b[38;5;124m\"\u001b[39m\u001b[38;5;124mhttps://www.elmos.be\u001b[39m\u001b[38;5;124m\"\u001b[39m)\n\u001b[0;32m----> 5\u001b[0m extracted_pages \u001b[38;5;241m=\u001b[39m \u001b[43mcrawler\u001b[49m\u001b[38;5;241;43m.\u001b[39;49m\u001b[43mextract\u001b[49m\u001b[43m(\u001b[49m\u001b[43m)\u001b[49m\n\u001b[1;32m      7\u001b[0m \u001b[38;5;28mprint\u001b[39m(\u001b[38;5;124mf\u001b[39m\u001b[38;5;124m\"\u001b[39m\u001b[38;5;124mExtracted \u001b[39m\u001b[38;5;132;01m{\u001b[39;00m\u001b[38;5;28mlen\u001b[39m(extracted_pages)\u001b[38;5;132;01m}\u001b[39;00m\u001b[38;5;124m pages\u001b[39m\u001b[38;5;124m\"\u001b[39m)\n\u001b[1;32m      9\u001b[0m \u001b[38;5;66;03m# Chunk the data\u001b[39;00m\n",
      "File \u001b[0;32m~/GitHub/vectrix/src/vectrix/importers/webscraper.py:172\u001b[0m, in \u001b[0;36mWebCrawler.extract\u001b[0;34m(self)\u001b[0m\n\u001b[1;32m    156\u001b[0m \u001b[38;5;66;03m# Apply the excract method to each element of the list\u001b[39;00m\n\u001b[1;32m    157\u001b[0m \n\u001b[1;32m    158\u001b[0m \n\u001b[1;32m    159\u001b[0m \u001b[38;5;66;03m#docs = [Document(page_content=doc)]\u001b[39;00m\n\u001b[1;32m    162\u001b[0m docs_transformed \u001b[38;5;241m=\u001b[39m [{\u001b[38;5;124m\"\u001b[39m\u001b[38;5;124mmetadata\u001b[39m\u001b[38;5;124m\"\u001b[39m: doc\u001b[38;5;241m.\u001b[39mmetadata,\n\u001b[1;32m    163\u001b[0m                      \u001b[38;5;124m\"\u001b[39m\u001b[38;5;124mcontent\u001b[39m\u001b[38;5;124m\"\u001b[39m: json\u001b[38;5;241m.\u001b[39mloads(trafilatura_extract(doc\u001b[38;5;241m.\u001b[39mpage_content, output_format\u001b[38;5;241m=\u001b[39m\u001b[38;5;124m\"\u001b[39m\u001b[38;5;124mjson\u001b[39m\u001b[38;5;124m\"\u001b[39m, include_comments\u001b[38;5;241m=\u001b[39m\u001b[38;5;28;01mFalse\u001b[39;00m))} \u001b[38;5;28;01mfor\u001b[39;00m doc \u001b[38;5;129;01min\u001b[39;00m processed_pages]\n\u001b[1;32m    168\u001b[0m docs_transformed \u001b[38;5;241m=\u001b[39m [Document(page_content\u001b[38;5;241m=\u001b[39mdoc[\u001b[38;5;124m\"\u001b[39m\u001b[38;5;124mcontent\u001b[39m\u001b[38;5;124m\"\u001b[39m][\u001b[38;5;124m\"\u001b[39m\u001b[38;5;124mtext\u001b[39m\u001b[38;5;124m\"\u001b[39m],\n\u001b[1;32m    169\u001b[0m                              metadata\u001b[38;5;241m=\u001b[39m{\n\u001b[1;32m    170\u001b[0m                                  \u001b[38;5;124m\"\u001b[39m\u001b[38;5;124murl\u001b[39m\u001b[38;5;124m\"\u001b[39m: doc[\u001b[38;5;124m\"\u001b[39m\u001b[38;5;124mmetadata\u001b[39m\u001b[38;5;124m\"\u001b[39m][\u001b[38;5;124m\"\u001b[39m\u001b[38;5;124msource\u001b[39m\u001b[38;5;124m\"\u001b[39m],\n\u001b[1;32m    171\u001b[0m                                  \u001b[38;5;124m\"\u001b[39m\u001b[38;5;124mtitle\u001b[39m\u001b[38;5;124m\"\u001b[39m: doc[\u001b[38;5;124m\"\u001b[39m\u001b[38;5;124mmetadata\u001b[39m\u001b[38;5;124m\"\u001b[39m][\u001b[38;5;124m\"\u001b[39m\u001b[38;5;124mtitle\u001b[39m\u001b[38;5;124m\"\u001b[39m],\n\u001b[0;32m--> 172\u001b[0m                                  \u001b[38;5;124m\"\u001b[39m\u001b[38;5;124mdescription\u001b[39m\u001b[38;5;124m\"\u001b[39m: \u001b[43mdoc\u001b[49m\u001b[43m[\u001b[49m\u001b[38;5;124;43m\"\u001b[39;49m\u001b[38;5;124;43mmetadata\u001b[39;49m\u001b[38;5;124;43m\"\u001b[39;49m\u001b[43m]\u001b[49m\u001b[43m[\u001b[49m\u001b[38;5;124;43m\"\u001b[39;49m\u001b[38;5;124;43mdescription\u001b[39;49m\u001b[38;5;124;43m\"\u001b[39;49m\u001b[43m]\u001b[49m,\n\u001b[1;32m    173\u001b[0m                                  \u001b[38;5;124m\"\u001b[39m\u001b[38;5;124mlanguage\u001b[39m\u001b[38;5;124m\"\u001b[39m : doc[\u001b[38;5;124m\"\u001b[39m\u001b[38;5;124mmetadata\u001b[39m\u001b[38;5;124m\"\u001b[39m][\u001b[38;5;124m\"\u001b[39m\u001b[38;5;124mlanguage\u001b[39m\u001b[38;5;124m\"\u001b[39m],\n\u001b[1;32m    174\u001b[0m                                  \u001b[38;5;124m\"\u001b[39m\u001b[38;5;124mextraction_ts\u001b[39m\u001b[38;5;124m\"\u001b[39m : datetime\u001b[38;5;241m.\u001b[39mdatetime\u001b[38;5;241m.\u001b[39mnow()\u001b[38;5;241m.\u001b[39mstrftime(\u001b[38;5;124m\"\u001b[39m\u001b[38;5;124m%\u001b[39m\u001b[38;5;124mY-\u001b[39m\u001b[38;5;124m%\u001b[39m\u001b[38;5;124mm-\u001b[39m\u001b[38;5;132;01m%d\u001b[39;00m\u001b[38;5;124m \u001b[39m\u001b[38;5;124m%\u001b[39m\u001b[38;5;124mH:\u001b[39m\u001b[38;5;124m%\u001b[39m\u001b[38;5;124mM:\u001b[39m\u001b[38;5;124m%\u001b[39m\u001b[38;5;124mS\u001b[39m\u001b[38;5;124m\"\u001b[39m),\n\u001b[1;32m    175\u001b[0m                                  \u001b[38;5;124m\"\u001b[39m\u001b[38;5;124msource_type\u001b[39m\u001b[38;5;124m\"\u001b[39m : \u001b[38;5;124m\"\u001b[39m\u001b[38;5;124mwebscrape\u001b[39m\u001b[38;5;124m\"\u001b[39m,\n\u001b[1;32m    176\u001b[0m                                  \u001b[38;5;124m\"\u001b[39m\u001b[38;5;124msource_format\u001b[39m\u001b[38;5;124m\"\u001b[39m : \u001b[38;5;124m\"\u001b[39m\u001b[38;5;124mHTML\u001b[39m\u001b[38;5;124m\"\u001b[39m\n\u001b[1;32m    177\u001b[0m                              }) \u001b[38;5;28;01mfor\u001b[39;00m doc \u001b[38;5;129;01min\u001b[39;00m docs_transformed]\n\u001b[1;32m    179\u001b[0m \u001b[38;5;28;01mreturn\u001b[39;00m docs_transformed\n",
      "\u001b[0;31mKeyError\u001b[0m: 'description'"
     ]
    }
   ],
   "source": [
    "# Extracting data from a URL\n",
    "from vectrix.importers import WebCrawler, ChunkData\n",
    "\n",
    "crawler =  WebCrawler(\"https://www.elmos.be\")\n",
    "extracted_pages = crawler.extract()\n",
    "\n",
    "print(f\"Extracted {len(extracted_pages)} pages\")\n",
    "\n",
    "# Chunk the data\n",
    "\n",
    "chunked_webdata = ChunkData.chunk_content(extracted_pages, chunk_size=500, chunk_overlap=50)\n",
    "\n",
    "print(\"Example CHUNK: \")\n",
    "print(chunked_webdata[1])"
   ]
  },
  {
   "cell_type": "code",
   "execution_count": null,
   "metadata": {},
   "outputs": [],
   "source": [
    "extracted_pages"
   ]
  },
  {
   "cell_type": "code",
   "execution_count": null,
   "metadata": {},
   "outputs": [],
   "source": [
    "from vectrix import Weaviate\n",
    "\n",
    "weaviate = Weaviate()\n",
    "weaviate.set_colleciton(\"Vectrix\")\n",
    "\n",
    "response = weaviate.list_metadata()\n",
    "print(response)"
   ]
  },
  {
   "cell_type": "markdown",
   "metadata": {},
   "source": [
    "#### Adding Data to Vector Store using Weaviate\n",
    "\n",
    "This code demonstrates how to add extracted web data to a Weaviate vector store using the Vectrix library.\n",
    "\n",
    "**Steps**:\n",
    "\n",
    "1. **Import and Instantiate Weaviate**:\n",
    "   - Import necessary modules from Vectrix\n",
    "   - Create a Weaviate instance\n",
    "\n",
    "2. **Create a Collection**:\n",
    "   - Set up a new collection named 'Vectrix'\n",
    "   - Use a local Ollama model for embeddings\n",
    "   - Specify the model name and URL\n",
    "\n",
    "3. **Prepare Data for Vectorization**:\n",
    "   - Create `VectorDocument` objects for each extracted result\n",
    "   - Include metadata such as title, URL, content, type, and NER information\n",
    "\n",
    "4. **Add Data to Vector Store**:\n",
    "   - Use `weaviate.add_data()` to insert the prepared documents\n",
    "\n",
    "5. **Perform a Test Query**:\n",
    "   - Get a retriever from the Weaviate instance\n",
    "   - Execute a sample query to verify functionality\n",
    "\n",
    "**Note:**\n",
    "- You can remove a collection using `weaviate.remove_collection(\"Vectrix\")`\n",
    "- This example uses a local Ollama model, but you can use any compatible embedding model\n",
    "\n",
    "This code showcases the process of storing and querying vectorized web data using Weaviate and Vectrix, enabling efficient semantic search and retrieval.\n"
   ]
  },
  {
   "cell_type": "code",
   "execution_count": null,
   "metadata": {},
   "outputs": [],
   "source": [
    "from vectrix.db import Weaviate\n",
    "\n",
    "# Instantiation of the Vector store\n",
    "weaviate = Weaviate()"
   ]
  },
  {
   "cell_type": "code",
   "execution_count": null,
   "metadata": {},
   "outputs": [],
   "source": [
    "from vectrix.db import Weaviate\n",
    "\n",
    "# Instantiation of the Vector store\n",
    "weaviate = Weaviate()\n",
    "\n",
    "weaviate.remove_collection(\"Vectrix\")\n",
    "\n",
    "# Create a new collection to store the documents (you can also append them to an existsing one)\n",
    "weaviate.create_collection(name='Vectrix', \n",
    "                           embedding_model='Ollama', # For this example we use a local Ollama model, but you can use any other model \n",
    "                           model_name=\"mxbai-embed-large:335m\",\n",
    "                           model_url=\"http://host.docker.internal:11434\") # Ollama Embeddings model URL\n",
    "\n",
    "\n",
    "weaviate.add_data(chunked_webdata)\n",
    "\n",
    "\n",
    "# Perform a quick search to see if it works\n",
    "retriever = weaviate.get_retriever()\n",
    "retriever.invoke('Who are the Vectrix founders ?')"
   ]
  },
  {
   "cell_type": "code",
   "execution_count": null,
   "metadata": {},
   "outputs": [],
   "source": [
    "weaviate.set_colleciton('Vectrix')\n",
    "retriever = weaviate.get_retriever()\n",
    "retriever.invoke('Who are the Vectrix founders ?')"
   ]
  },
  {
   "cell_type": "markdown",
   "metadata": {},
   "source": []
  },
  {
   "cell_type": "markdown",
   "metadata": {},
   "source": [
    "### From OneDrive ☁\n",
    "We can also connect with a OneDrive folder and download the information from there. After this process we can add the information to our Vector store in the same way. This way we can extract various kinds of documents like PDF, World, PowerPoint ...\n",
    "\n",
    "Downloads files from OneDrive, processes them with Unstructured, and stores in Weaviate.\n",
    "\n",
    "Steps:\n",
    "1. Connect to OneDrive using Azure credentials\n",
    "2. List and download all files\n",
    "3. Process files with Unstructured importer\n",
    "4. Add processed documents to Weaviate vector store\n",
    "5. Close OneDrive connection\n",
    "\n",
    "Requirements:\n",
    "- vectrix library (OneDrive connector, Unstructured importer)\n",
    "- Weaviate client\n",
    "- Azure credentials as environment variables (AZURE_CLIENT_ID, AZURE_CLIENT_SECRET)\n",
    "\n",
    "Note: Close OneDrive connection before uploading to vector store."
   ]
  },
  {
   "cell_type": "code",
   "execution_count": null,
   "metadata": {},
   "outputs": [],
   "source": [
    "from vectrix.connectors.onedrive import OneDrive\n",
    "from vectrix.importers.unstructured import Unstructured\n",
    "\n",
    "drive = OneDrive(azure_client_id = os.environ.get('AZURE_CLIENT_ID'), azure_client_secret = os.environ.get('AZURE_CLIENT_SECRET'))\n",
    "\n",
    "drive.list_files()"
   ]
  },
  {
   "cell_type": "code",
   "execution_count": null,
   "metadata": {},
   "outputs": [],
   "source": [
    "# Download all files in the drive, returns a list of downloaded files\n",
    "downloaded_files = drive.download_files()\n",
    "print(downloaded_files)\n",
    "\n",
    "# Process teh documents using unstructured (we can't load RAW PDF files into a Vector store)\n",
    "importer = Unstructured()\n",
    "documents = importer.process_files(downloaded_files)\n",
    "\n",
    "# Add the documents to the Vector store\n",
    "weaviate = Weaviate()\n",
    "weaviate.set_colleciton('Vectrix')\n",
    "weaviate.add_data(documents)\n",
    "\n",
    "# Close the drive, do this BEFORE you want to upload the files to a vector store\n",
    "drive.close()"
   ]
  }
 ],
 "metadata": {
  "kernelspec": {
   "display_name": ".venv",
   "language": "python",
   "name": "python3"
  },
  "language_info": {
   "codemirror_mode": {
    "name": "ipython",
    "version": 3
   },
   "file_extension": ".py",
   "mimetype": "text/x-python",
   "name": "python",
   "nbconvert_exporter": "python",
   "pygments_lexer": "ipython3",
   "version": "3.12.4"
  }
 },
 "nbformat": 4,
 "nbformat_minor": 2
}
