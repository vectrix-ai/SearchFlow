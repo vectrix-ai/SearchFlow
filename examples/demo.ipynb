{
 "cells": [
  {
   "cell_type": "code",
   "execution_count": 1,
   "metadata": {},
   "outputs": [],
   "source": [
    "from dotenv import load_dotenv\n",
    "load_dotenv()\n",
    "\n",
    "import warnings\n",
    "warnings.simplefilter(\"ignore\", ResourceWarning)"
   ]
  },
  {
   "cell_type": "markdown",
   "metadata": {},
   "source": [
    "# Vectrix Demo 👨🏻‍💻\n",
    "This notebook demonstrates the functions for importing data from various sources. \n",
    "Loading it into a VectorStore, and then using it to answer questions with a Retrieval Augemented Reasoning  🦜🔗 LangGraph.\n",
    "\n",
    "## Creating a new project\n",
    "\n"
   ]
  },
  {
   "cell_type": "code",
   "execution_count": 4,
   "metadata": {},
   "outputs": [
    {
     "name": "stderr",
     "output_type": "stream",
     "text": [
      "\u001b[32m2024-08-26 13:26:35,884 - DB - INFO - Added new project: Test\u001b[0m\n"
     ]
    },
    {
     "name": "stdout",
     "output_type": "stream",
     "text": [
      "[]\n"
     ]
    },
    {
     "data": {
      "text/plain": [
       "6"
      ]
     },
     "execution_count": 4,
     "metadata": {},
     "output_type": "execute_result"
    }
   ],
   "source": [
    "from vectrix import DB\n",
    "db = DB()\n",
    "\n",
    "print(db.list_projects())\n",
    "db.create_project(\"Test\", description=\"This is a test project\")"
   ]
  },
  {
   "cell_type": "code",
   "execution_count": 3,
   "metadata": {},
   "outputs": [
    {
     "name": "stderr",
     "output_type": "stream",
     "text": [
      "\u001b[32m2024-08-26 13:26:34,150 - DB - INFO - Removed project: Test\u001b[0m\n"
     ]
    },
    {
     "data": {
      "text/plain": [
       "True"
      ]
     },
     "execution_count": 3,
     "metadata": {},
     "output_type": "execute_result"
    }
   ],
   "source": [
    "db.remove_project(\"Test\")"
   ]
  },
  {
   "cell_type": "markdown",
   "metadata": {},
   "source": [
    "## Importing Data\n",
    "### 1. From a URL 🔗\n",
    "\n",
    "**Web Crawling and Data Extraction Example**\n"
   ]
  },
  {
   "cell_type": "code",
   "execution_count": 1,
   "metadata": {},
   "outputs": [
    {
     "name": "stderr",
     "output_type": "stream",
     "text": [
      "\u001b[32m2024-08-26 13:28:16,114 - DB - INFO - Setting/updating scrape status for project: Test\u001b[0m\n",
      "\u001b[32m2024-08-26 13:28:16,117 - DB - INFO - Created new status for base URL: https://example.com/\u001b[0m\n"
     ]
    },
    {
     "name": "stdout",
     "output_type": "stream",
     "text": [
      "Set/updated scrape status for base URL: https://example.com/\n"
     ]
    },
    {
     "name": "stderr",
     "output_type": "stream",
     "text": [
      "ERROR:trafilatura.downloads:not a 200 response: 404 for URL https://example.com/robots.txt\n",
      "\u001b[32m2024-08-26 13:28:16,697 - DB - INFO - Adding links to confirm for base URL: https://example.com/\u001b[0m\n",
      "INFO:DB:Adding links to confirm for base URL: https://example.com/\n",
      "\u001b[32m2024-08-26 13:28:16,705 - DB - INFO - Setting/updating scrape status for project: Test\u001b[0m\n",
      "INFO:DB:Setting/updating scrape status for project: Test\n",
      "\u001b[32m2024-08-26 13:28:16,708 - DB - INFO - Updated existing status for base URL: https://example.com/\u001b[0m\n",
      "INFO:DB:Updated existing status for base URL: https://example.com/\n"
     ]
    },
    {
     "name": "stdout",
     "output_type": "stream",
     "text": [
      "Added links to confirm for base URL: https://example.com/\n",
      "Set/updated scrape status for base URL: https://example.com/\n"
     ]
    }
   ],
   "source": [
    "from vectrix.importers import WebScraper\n",
    "\n",
    "scraper = WebScraper(project_name='Test')\n",
    "all_links = scraper.get_all_links(\"https://example.com/\")"
   ]
  },
  {
   "cell_type": "code",
   "execution_count": 2,
   "metadata": {},
   "outputs": [
    {
     "name": "stderr",
     "output_type": "stream",
     "text": [
      "\u001b[32m2024-08-26 13:28:24,477 - DB - INFO - Setting/updating scrape status for project: Test\u001b[0m\n",
      "INFO:DB:Setting/updating scrape status for project: Test\n",
      "\u001b[32m2024-08-26 13:28:24,479 - DB - INFO - Updated existing status for base URL: None\u001b[0m\n",
      "INFO:DB:Updated existing status for base URL: None\n",
      "\u001b[32m2024-08-26 13:28:24,481 - DB - INFO - Removing uploaded links for project name: Test\u001b[0m\n",
      "INFO:DB:Removing uploaded links for project name: Test\n"
     ]
    },
    {
     "name": "stdout",
     "output_type": "stream",
     "text": [
      "Set/updated scrape status for base URL: None\n",
      "Removed uploaded links for base URL: Test\n"
     ]
    },
    {
     "name": "stderr",
     "output_type": "stream",
     "text": [
      "\u001b[32m2024-08-26 13:28:24,994 - DB - INFO - Setting/updating scrape status for project: Test\u001b[0m\n",
      "INFO:DB:Setting/updating scrape status for project: Test\n",
      "\u001b[32m2024-08-26 13:28:24,996 - DB - INFO - Updated existing status for base URL: None\u001b[0m\n",
      "INFO:DB:Updated existing status for base URL: None\n"
     ]
    },
    {
     "name": "stdout",
     "output_type": "stream",
     "text": [
      "Set/updated scrape status for base URL: None\n"
     ]
    }
   ],
   "source": [
    "scraper.download_pages(all_links, project_name=\"Test\")"
   ]
  },
  {
   "cell_type": "markdown",
   "metadata": {},
   "source": [
    "### 2. Upload files ⬆️\n",
    "You can also upload files and add them to the vector store, Vectrix will automaticly detect the file type extract the text and chunk the content into blocks."
   ]
  },
  {
   "cell_type": "code",
   "execution_count": null,
   "metadata": {},
   "outputs": [],
   "source": [
    "from vectrix.importers import Files\n",
    "files = Files()\n",
    "\n",
    "files.upload_file(\n",
    "    document_paths=[\"./files/pdf_with_scannedtext.pdf\"],\n",
    "    project_name=\"Test\"\n",
    ")"
   ]
  },
  {
   "cell_type": "code",
   "execution_count": null,
   "metadata": {},
   "outputs": [],
   "source": [
    "files = db.list_files(\"Test\")\n",
    "print(files)"
   ]
  },
  {
   "cell_type": "code",
   "execution_count": null,
   "metadata": {},
   "outputs": [],
   "source": [
    "db.remove_file(project_name=\"Test\", file_name=\"pdf_with_scannedtext.pdf\")"
   ]
  }
 ],
 "metadata": {
  "kernelspec": {
   "display_name": ".venv",
   "language": "python",
   "name": "python3"
  },
  "language_info": {
   "codemirror_mode": {
    "name": "ipython",
    "version": 3
   },
   "file_extension": ".py",
   "mimetype": "text/x-python",
   "name": "python",
   "nbconvert_exporter": "python",
   "pygments_lexer": "ipython3",
   "version": "3.12.4"
  }
 },
 "nbformat": 4,
 "nbformat_minor": 2
}
