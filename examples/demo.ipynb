{
 "cells": [
  {
   "cell_type": "code",
   "execution_count": 1,
   "metadata": {},
   "outputs": [],
   "source": [
    "from dotenv import load_dotenv\n",
    "load_dotenv()\n",
    "\n",
    "import warnings\n",
    "warnings.simplefilter(\"ignore\", ResourceWarning)"
   ]
  },
  {
   "cell_type": "markdown",
   "metadata": {},
   "source": [
    "# Vectrix Demo 👨🏻‍💻\n",
    "This notebook demonstrates the functions for importing data from various sources. \n",
    "Loading it into a VectorStore, and then using it to answer questions with a Retrieval Augemented Reasoning  🦜🔗 LangGraph.\n",
    "\n",
    "## Creating a new project\n",
    "\n"
   ]
  },
  {
   "cell_type": "code",
   "execution_count": 4,
   "metadata": {},
   "outputs": [
    {
     "name": "stderr",
     "output_type": "stream",
     "text": [
      "\u001b[32m2024-08-28 00:27:27,496 - DB - INFO - Added new project: Test\u001b[0m\n"
     ]
    },
    {
     "name": "stdout",
     "output_type": "stream",
     "text": [
      "[]\n"
     ]
    },
    {
     "data": {
      "text/plain": [
       "9"
      ]
     },
     "execution_count": 4,
     "metadata": {},
     "output_type": "execute_result"
    }
   ],
   "source": [
    "from vectrix import DB\n",
    "db = DB()\n",
    "\n",
    "print(db.list_projects())\n",
    "db.create_project(\"Test\", description=\"This is a test project\")"
   ]
  },
  {
   "cell_type": "code",
   "execution_count": 3,
   "metadata": {},
   "outputs": [
    {
     "name": "stderr",
     "output_type": "stream",
     "text": [
      "\u001b[32m2024-08-28 00:27:26,068 - DB - INFO - Removed project: Test\u001b[0m\n"
     ]
    },
    {
     "data": {
      "text/plain": [
       "True"
      ]
     },
     "execution_count": 3,
     "metadata": {},
     "output_type": "execute_result"
    }
   ],
   "source": [
    "db.remove_project(\"Test\")"
   ]
  },
  {
   "cell_type": "markdown",
   "metadata": {},
   "source": [
    "## Importing Data\n",
    "### 1. From a URL 🔗\n",
    "\n",
    "**Web Crawling and Data Extraction Example**\n"
   ]
  },
  {
   "cell_type": "code",
   "execution_count": 5,
   "metadata": {},
   "outputs": [
    {
     "name": "stderr",
     "output_type": "stream",
     "text": [
      "\u001b[32m2024-08-28 00:27:30,302 - DB - INFO - Adding links to confirm for base URL: https://vectrix.ai/\u001b[0m\n"
     ]
    },
    {
     "name": "stdout",
     "output_type": "stream",
     "text": [
      "Added links to confirm for base URL: https://vectrix.ai/\n"
     ]
    },
    {
     "name": "stderr",
     "output_type": "stream",
     "text": [
      "ERROR:trafilatura.downloads:not a 200 response: 404 for URL https://vectrix.ai/robots.txt\n",
      "\u001b[32m2024-08-28 00:27:54,835 - DB - INFO - Updated indexed link status: https://vectrix.ai/\u001b[0m\n",
      "INFO:DB:Updated indexed link status: https://vectrix.ai/\n",
      "\u001b[32m2024-08-28 00:27:54,836 - DB - INFO - Adding links to confirm for base URL: https://vectrix.ai/\u001b[0m\n",
      "INFO:DB:Adding links to confirm for base URL: https://vectrix.ai/\n"
     ]
    },
    {
     "name": "stdout",
     "output_type": "stream",
     "text": [
      "Added links to confirm for base URL: https://vectrix.ai/\n"
     ]
    }
   ],
   "source": [
    "from vectrix.importers import WebScraper\n",
    "\n",
    "scraper = WebScraper(project_name='Test')\n",
    "scraper.get_all_links(\"https://vectrix.ai/\")"
   ]
  },
  {
   "cell_type": "code",
   "execution_count": 16,
   "metadata": {},
   "outputs": [
    {
     "name": "stderr",
     "output_type": "stream",
     "text": [
      "\u001b[32m2024-08-28 00:31:19,243 - DB - INFO - Getting links to confirm for project: Test\u001b[0m\n",
      "INFO:DB:Getting links to confirm for project: Test\n"
     ]
    },
    {
     "name": "stdout",
     "output_type": "stream",
     "text": [
      "[]\n"
     ]
    }
   ],
   "source": [
    "print(db.get_links_to_confirm(\"Test\"))"
   ]
  },
  {
   "cell_type": "code",
   "execution_count": 11,
   "metadata": {},
   "outputs": [
    {
     "name": "stderr",
     "output_type": "stream",
     "text": [
      "\u001b[32m2024-08-28 00:30:29,205 - DB - INFO - Adding links to confirm for base URL: https://langchain-ai.github.io/langgraph/reference/graphs/\u001b[0m\n",
      "INFO:DB:Adding links to confirm for base URL: https://langchain-ai.github.io/langgraph/reference/graphs/\n"
     ]
    },
    {
     "name": "stdout",
     "output_type": "stream",
     "text": [
      "Added links to confirm for base URL: https://langchain-ai.github.io/langgraph/reference/graphs/\n"
     ]
    }
   ],
   "source": [
    "db.add_links_to_index(links=[\"https://langchain-ai.github.io/langgraph/reference/graphs/\"],base_url=\"https://langchain-ai.github.io/langgraph/reference/graphs/\", project_name=\"Test\", status=\"Confirm page import\")"
   ]
  },
  {
   "cell_type": "code",
   "execution_count": 15,
   "metadata": {},
   "outputs": [
    {
     "name": "stderr",
     "output_type": "stream",
     "text": [
      "\u001b[32m2024-08-28 00:31:06,510 - DB - INFO - Getting scrape status for project: Test\u001b[0m\n",
      "INFO:DB:Getting scrape status for project: Test\n"
     ]
    },
    {
     "name": "stdout",
     "output_type": "stream",
     "text": [
      "[{'project_name': 'Test', 'status': 'Indexed', 'base_url': 'https://vectrix.ai/', 'last_update': datetime.datetime(2024, 8, 27, 22, 28, 23, 228971, tzinfo=datetime.timezone.utc)}, {'project_name': 'Test', 'status': 'Indexed', 'base_url': 'https://langchain-ai.github.io/langgraph/reference/graphs/', 'last_update': datetime.datetime(2024, 8, 27, 22, 30, 55, 733013, tzinfo=datetime.timezone.utc)}]\n"
     ]
    }
   ],
   "source": [
    "print(db.get_indexing_status(\"Test\"))"
   ]
  },
  {
   "cell_type": "code",
   "execution_count": 14,
   "metadata": {},
   "outputs": [
    {
     "name": "stderr",
     "output_type": "stream",
     "text": [
      "\u001b[32m2024-08-28 00:30:51,472 - DB - INFO - Getting links to confirm for project: Test\u001b[0m\n",
      "INFO:DB:Getting links to confirm for project: Test\n"
     ]
    },
    {
     "name": "stdout",
     "output_type": "stream",
     "text": [
      "Already downloaded 21\n",
      "To download ['https://langchain-ai.github.io/langgraph/reference/graphs/']\n"
     ]
    },
    {
     "name": "stderr",
     "output_type": "stream",
     "text": [
      "\u001b[32m2024-08-28 00:30:55,733 - DB - INFO - Updated indexed link status: https://langchain-ai.github.io/langgraph/reference/graphs/\u001b[0m\n",
      "INFO:DB:Updated indexed link status: https://langchain-ai.github.io/langgraph/reference/graphs/\n"
     ]
    }
   ],
   "source": [
    "confirmed_links = [link['url'] for link in db.get_links_to_confirm(\"Test\")]\n",
    "scraper.download_pages(confirmed_links, project_name=\"Test\")"
   ]
  },
  {
   "cell_type": "markdown",
   "metadata": {},
   "source": [
    "### 2. Upload files ⬆️\n",
    "You can also upload files and add them to the vector store, Vectrix will automaticly detect the file type extract the text and chunk the content into blocks."
   ]
  },
  {
   "cell_type": "code",
   "execution_count": null,
   "metadata": {},
   "outputs": [],
   "source": [
    "from vectrix.importers import Files\n",
    "files = Files()\n",
    "\n",
    "files.upload_file(\n",
    "    document_paths=[\"./files/pdf_with_scannedtext.pdf\"],\n",
    "    project_name=\"Test\"\n",
    ")"
   ]
  },
  {
   "cell_type": "code",
   "execution_count": null,
   "metadata": {},
   "outputs": [],
   "source": [
    "files = db.list_files(\"Test\")\n",
    "print(files)"
   ]
  },
  {
   "cell_type": "code",
   "execution_count": null,
   "metadata": {},
   "outputs": [],
   "source": [
    "db.remove_file(project_name=\"Test\", file_name=\"pdf_with_scannedtext.pdf\")"
   ]
  }
 ],
 "metadata": {
  "kernelspec": {
   "display_name": ".venv",
   "language": "python",
   "name": "python3"
  },
  "language_info": {
   "codemirror_mode": {
    "name": "ipython",
    "version": 3
   },
   "file_extension": ".py",
   "mimetype": "text/x-python",
   "name": "python",
   "nbconvert_exporter": "python",
   "pygments_lexer": "ipython3",
   "version": "3.12.4"
  }
 },
 "nbformat": 4,
 "nbformat_minor": 2
}
