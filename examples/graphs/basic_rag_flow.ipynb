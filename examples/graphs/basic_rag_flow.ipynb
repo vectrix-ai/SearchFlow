{
 "cells": [
  {
   "cell_type": "markdown",
   "metadata": {},
   "source": [
    "# CRAG-ReAct: Intelligent Retrieval & Reasoning\n",
    "## Robust Retrieval-Augmented Generation with Step-by-Step Reasoning\n",
    "\n",
    "Welcome to this Jupyter notebook exploring cutting-edge techniques in artificial intelligence. We'll be diving into a powerful combination of two advanced approaches:\n",
    "\n",
    "1. **Corrective Retrieval Augmented Generation (CRAG)**\n",
    "2. **Reasoning+Acting (ReAct)**\n",
    "\n",
    "![Local image](./assets/RAG.png \"Flow Diagram\")\n",
    "\n",
    "Let's get started!\n",
    "\n",
    "<small>\n",
    "\n",
    "**SOURCES:**\n",
    "\n",
    "[The paper](https://arxiv.org/abs/2210.03629) introduces ReAct, an approach that combines reasoning traces and task-specific actions in large language models (LLMs) to enhance their problem-solving capabilities. ReAct demonstrates improved performance, interpretability, and trustworthiness across various tasks, including question answering, fact verification, and interactive decision making, by allowing LLMs to generate reasoning steps and actions in an interleaved manner while interacting with external sources.\n",
    "\n",
    "\n",
    "[The Corrective Retrieval Augmented Generation (CRAG)](https://arxiv.org/abs/2401.15884) is a proposed approach to improve the robustness of language model generation by incorporating a lightweight retrieval evaluator, large-scale web searches, and a decompose-then-recompose algorithm for retrieved documents. CRAG aims to enhance the performance of RAG-based approaches by assessing retrieval quality, augmenting results with web searches when necessary, and selectively focusing on key information while filtering out irrelevant content.\n",
    "</small>\n"
   ]
  },
  {
   "cell_type": "code",
   "execution_count": 1,
   "metadata": {},
   "outputs": [
    {
     "name": "stderr",
     "output_type": "stream",
     "text": [
      "USER_AGENT environment variable not set, consider setting it to identify your requests.\n",
      "WARNING: All log messages before absl::InitializeLog() is called are written to STDERR\n",
      "I0000 00:00:1722429540.878135  622201 config.cc:230] gRPC experiments enabled: call_status_override_on_cancellation, event_engine_dns, event_engine_listener, http2_stats_fix, monitoring_experiment, pick_first_new, trace_record_callops, work_serializer_clears_time_cache\n"
     ]
    },
    {
     "data": {
      "image/jpeg": "[encoded data removed]",
      "text/plain": [
       "<IPython.core.display.Image object>"
      ]
     },
     "metadata": {},
     "output_type": "display_data"
    },
    {
     "name": "stderr",
     "output_type": "stream",
     "text": [
      "/Users/ben/GitHub/vectrix/.venv/lib/python3.12/site-packages/langchain_core/_api/beta_decorator.py:87: LangChainBetaWarning: This API is in beta and may change in the future.\n",
      "  warn_beta(\n",
      "I0000 00:00:1722429542.365559  623585 work_stealing_thread_pool.cc:320] WorkStealingThreadPoolImpl::PrepareFork\n"
     ]
    },
    {
     "name": "stdout",
     "output_type": "stream",
     "text": [
      "{'run_id': 'efdb82e3-3100-4291-8f10-080ffe0bdce1', 'type': 'progress', 'status': 'transform_query'}\n",
      "{'run_id': '02ed3c17-aab0-4317-8dfa-03ccfdded2a0', 'type': 'progress', 'status': 'retrieve'}\n"
     ]
    },
    {
     "name": "stderr",
     "output_type": "stream",
     "text": [
      "I0000 00:00:1722429553.972871  622201 work_stealing_thread_pool.cc:320] WorkStealingThreadPoolImpl::PrepareFork\n"
     ]
    },
    {
     "name": "stdout",
     "output_type": "stream",
     "text": [
      "{'run_id': '1d2ccd6b-d934-4be2-8651-64a8bad74fcc', 'type': 'progress', 'status': 'generate_response'}\n",
      "{'run_id': '1d2ccd6b-d934-4be2-8651-64a8bad74fcc', 'type': 'response', 'chunk_content': 'Ben'}\n",
      "{'run_id': '1d2ccd6b-d934-4be2-8651-64a8bad74fcc', 'type': 'response', 'chunk_content': ' Selleslag'}\n",
      "{'run_id': '1d2ccd6b-d934-4be2-8651-64a8bad74fcc', 'type': 'response', 'chunk_content': 'h is a C'}\n",
      "{'run_id': '1d2ccd6b-d934-4be2-8651-64a8bad74fcc', 'type': 'response', 'chunk_content': 'o-'}\n",
      "{'run_id': '1d2ccd6b-d934-4be2-8651-64a8bad74fcc', 'type': 'response', 'chunk_content': 'Founder at V'}\n",
      "{'run_id': '1d2ccd6b-d934-4be2-8651-64a8bad74fcc', 'type': 'response', 'chunk_content': 'ectr'}\n",
      "{'run_id': '1d2ccd6b-d934-4be2-8651-64a8bad74fcc', 'type': 'response', 'chunk_content': 'ix. He has a'}\n",
      "{'run_id': '1d2ccd6b-d934-4be2-8651-64a8bad74fcc', 'type': 'response', 'chunk_content': ' b'}\n",
      "{'run_id': '1d2ccd6b-d934-4be2-8651-64a8bad74fcc', 'type': 'response', 'chunk_content': 'ackgrou'}\n",
      "{'run_id': '1d2ccd6b-d934-4be2-8651-64a8bad74fcc', 'type': 'response', 'chunk_content': 'nd as '}\n",
      "{'run_id': '1d2ccd6b-d934-4be2-8651-64a8bad74fcc', 'type': 'response', 'chunk_content': 'a d'}\n",
      "{'run_id': '1d2ccd6b-d934-4be2-8651-64a8bad74fcc', 'type': 'response', 'chunk_content': 'ata professi'}\n",
      "{'run_id': '1d2ccd6b-d934-4be2-8651-64a8bad74fcc', 'type': 'response', 'chunk_content': 'onal wit'}\n",
      "{'run_id': '1d2ccd6b-d934-4be2-8651-64a8bad74fcc', 'type': 'response', 'chunk_content': 'h experien'}\n",
      "{'run_id': '1d2ccd6b-d934-4be2-8651-64a8bad74fcc', 'type': 'response', 'chunk_content': 'ce in bank'}\n",
      "{'run_id': '1d2ccd6b-d934-4be2-8651-64a8bad74fcc', 'type': 'response', 'chunk_content': 'ing, gover'}\n",
      "{'run_id': '1d2ccd6b-d934-4be2-8651-64a8bad74fcc', 'type': 'response', 'chunk_content': 'nment, an'}\n",
      "{'run_id': '1d2ccd6b-d934-4be2-8651-64a8bad74fcc', 'type': 'response', 'chunk_content': 'd media '}\n",
      "{'run_id': '1d2ccd6b-d934-4be2-8651-64a8bad74fcc', 'type': 'response', 'chunk_content': 'sectors.'}\n",
      "{'run_id': '1d2ccd6b-d934-4be2-8651-64a8bad74fcc', 'type': 'response', 'chunk_content': ' Ben is skil'}\n",
      "{'run_id': '1d2ccd6b-d934-4be2-8651-64a8bad74fcc', 'type': 'response', 'chunk_content': 'led in'}\n",
      "{'run_id': '1d2ccd6b-d934-4be2-8651-64a8bad74fcc', 'type': 'response', 'chunk_content': ' creating '}\n",
      "{'run_id': '1d2ccd6b-d934-4be2-8651-64a8bad74fcc', 'type': 'response', 'chunk_content': 'and i'}\n",
      "{'run_id': '1d2ccd6b-d934-4be2-8651-64a8bad74fcc', 'type': 'response', 'chunk_content': 'mple'}\n",
      "{'run_id': '1d2ccd6b-d934-4be2-8651-64a8bad74fcc', 'type': 'response', 'chunk_content': 'ment'}\n",
      "{'run_id': '1d2ccd6b-d934-4be2-8651-64a8bad74fcc', 'type': 'response', 'chunk_content': 'ing data-'}\n",
      "{'run_id': '1d2ccd6b-d934-4be2-8651-64a8bad74fcc', 'type': 'response', 'chunk_content': 'drive'}\n",
      "{'run_id': '1d2ccd6b-d934-4be2-8651-64a8bad74fcc', 'type': 'response', 'chunk_content': 'n strategies'}\n",
      "{'run_id': '1d2ccd6b-d934-4be2-8651-64a8bad74fcc', 'type': 'response', 'chunk_content': ' that align '}\n",
      "{'run_id': '1d2ccd6b-d934-4be2-8651-64a8bad74fcc', 'type': 'response', 'chunk_content': 'with'}\n",
      "{'run_id': '1d2ccd6b-d934-4be2-8651-64a8bad74fcc', 'type': 'response', 'chunk_content': ' busi'}\n",
      "{'run_id': '1d2ccd6b-d934-4be2-8651-64a8bad74fcc', 'type': 'response', 'chunk_content': 'ness obje'}\n",
      "{'run_id': '1d2ccd6b-d934-4be2-8651-64a8bad74fcc', 'type': 'response', 'chunk_content': 'ctives. He '}\n",
      "{'run_id': '1d2ccd6b-d934-4be2-8651-64a8bad74fcc', 'type': 'response', 'chunk_content': 'is also an '}\n",
      "{'run_id': '1d2ccd6b-d934-4be2-8651-64a8bad74fcc', 'type': 'response', 'chunk_content': 'expert '}\n",
      "{'run_id': '1d2ccd6b-d934-4be2-8651-64a8bad74fcc', 'type': 'response', 'chunk_content': 'in Go'}\n",
      "{'run_id': '1d2ccd6b-d934-4be2-8651-64a8bad74fcc', 'type': 'response', 'chunk_content': 'ogle C'}\n",
      "{'run_id': '1d2ccd6b-d934-4be2-8651-64a8bad74fcc', 'type': 'response', 'chunk_content': 'lou'}\n",
      "{'run_id': '1d2ccd6b-d934-4be2-8651-64a8bad74fcc', 'type': 'response', 'chunk_content': 'd techn'}\n",
      "{'run_id': '1d2ccd6b-d934-4be2-8651-64a8bad74fcc', 'type': 'response', 'chunk_content': 'ology, w'}\n",
      "{'run_id': '1d2ccd6b-d934-4be2-8651-64a8bad74fcc', 'type': 'response', 'chunk_content': 'hich he u'}\n",
      "{'run_id': '1d2ccd6b-d934-4be2-8651-64a8bad74fcc', 'type': 'response', 'chunk_content': 'ses to b'}\n",
      "{'run_id': '1d2ccd6b-d934-4be2-8651-64a8bad74fcc', 'type': 'response', 'chunk_content': 'uild scala'}\n",
      "{'run_id': '1d2ccd6b-d934-4be2-8651-64a8bad74fcc', 'type': 'response', 'chunk_content': 'ble '}\n",
      "{'run_id': '1d2ccd6b-d934-4be2-8651-64a8bad74fcc', 'type': 'response', 'chunk_content': 'and efficie'}\n",
      "{'run_id': '1d2ccd6b-d934-4be2-8651-64a8bad74fcc', 'type': 'response', 'chunk_content': 'nt '}\n",
      "{'run_id': '1d2ccd6b-d934-4be2-8651-64a8bad74fcc', 'type': 'response', 'chunk_content': 'data ar'}\n",
      "{'run_id': '1d2ccd6b-d934-4be2-8651-64a8bad74fcc', 'type': 'response', 'chunk_content': 'chitectures.'}\n",
      "{'run_id': '1d2ccd6b-d934-4be2-8651-64a8bad74fcc', 'type': 'response', 'chunk_content': ' At Vectrix,'}\n",
      "{'run_id': '1d2ccd6b-d934-4be2-8651-64a8bad74fcc', 'type': 'response', 'chunk_content': ' Ben'}\n",
      "{'run_id': '1d2ccd6b-d934-4be2-8651-64a8bad74fcc', 'type': 'response', 'chunk_content': ' applies hi'}\n",
      "{'run_id': '1d2ccd6b-d934-4be2-8651-64a8bad74fcc', 'type': 'response', 'chunk_content': 's exp'}\n",
      "{'run_id': '1d2ccd6b-d934-4be2-8651-64a8bad74fcc', 'type': 'response', 'chunk_content': 'ertise to in'}\n",
      "{'run_id': '1d2ccd6b-d934-4be2-8651-64a8bad74fcc', 'type': 'response', 'chunk_content': 'novate and'}\n",
      "{'run_id': '1d2ccd6b-d934-4be2-8651-64a8bad74fcc', 'type': 'response', 'chunk_content': ' dri'}\n",
      "{'run_id': '1d2ccd6b-d934-4be2-8651-64a8bad74fcc', 'type': 'response', 'chunk_content': 've data and '}\n",
      "{'run_id': '1d2ccd6b-d934-4be2-8651-64a8bad74fcc', 'type': 'response', 'chunk_content': 'AI solution'}\n",
      "{'run_id': '1d2ccd6b-d934-4be2-8651-64a8bad74fcc', 'type': 'response', 'chunk_content': 's,'}\n",
      "{'run_id': '1d2ccd6b-d934-4be2-8651-64a8bad74fcc', 'type': 'response', 'chunk_content': ' focusing on'}\n",
      "{'run_id': '1d2ccd6b-d934-4be2-8651-64a8bad74fcc', 'type': 'response', 'chunk_content': ' eff'}\n",
      "{'run_id': '1d2ccd6b-d934-4be2-8651-64a8bad74fcc', 'type': 'response', 'chunk_content': 'ic'}\n",
      "{'run_id': '1d2ccd6b-d934-4be2-8651-64a8bad74fcc', 'type': 'response', 'chunk_content': 'iency an'}\n",
      "{'run_id': '1d2ccd6b-d934-4be2-8651-64a8bad74fcc', 'type': 'response', 'chunk_content': 'd scal'}\n",
      "{'run_id': '1d2ccd6b-d934-4be2-8651-64a8bad74fcc', 'type': 'response', 'chunk_content': 'ability to'}\n",
      "{'run_id': '1d2ccd6b-d934-4be2-8651-64a8bad74fcc', 'type': 'response', 'chunk_content': ' keep the c'}\n",
      "{'run_id': '1d2ccd6b-d934-4be2-8651-64a8bad74fcc', 'type': 'response', 'chunk_content': 'ompany at th'}\n",
      "{'run_id': '1d2ccd6b-d934-4be2-8651-64a8bad74fcc', 'type': 'response', 'chunk_content': 'e foref'}\n",
      "{'run_id': '1d2ccd6b-d934-4be2-8651-64a8bad74fcc', 'type': 'response', 'chunk_content': 'ron'}\n",
      "{'run_id': '1d2ccd6b-d934-4be2-8651-64a8bad74fcc', 'type': 'response', 'chunk_content': 't of AI te'}\n",
      "{'run_id': '1d2ccd6b-d934-4be2-8651-64a8bad74fcc', 'type': 'response', 'chunk_content': 'chno'}\n",
      "{'run_id': '1d2ccd6b-d934-4be2-8651-64a8bad74fcc', 'type': 'response', 'chunk_content': 'logy.\"'}\n",
      "{'run_id': '1d2ccd6b-d934-4be2-8651-64a8bad74fcc', 'type': 'response', 'chunk_content': ', '}\n",
      "{'run_id': '9ac61486-10b4-4df9-9b0e-42e6a47f13b8', 'type': 'final_output', 'sources': {'answer': 'Ben Selleslagh is a Co-Founder at Vectrix. He has a background as a data professional with experience in banking, government, and media sectors. Ben is skilled in creating and implementing data-driven strategies that align with business objectives. He is also an expert in Google Cloud technology, which he uses to build scalable and efficient data architectures. At Vectrix, Ben applies his expertise to innovate and drive data and AI solutions, focusing on efficiency and scalability to keep the company at the forefront of AI technology.', 'references': [{'text': \"Meet Ben, a pivotal player and Co-Founder at Vectrix. With a rich background as a data professional, Ben brings his diverse experience from banking, government, and media sectors into the mix. He's skilled in crafting and executing data-driven strategies that sync perfectly with business goals. His expertise in Google Cloud technology makes him a wizard at building scalable and efficient data architectures. At Vectrix, Ben applies his know-how to innovate and drive our data and AI solutions, always with an eye on efficiency and scalability, ensuring that we stay at the forefront of AI technology.\", 'url': 'https://vectrix.ai/about-us'}]}, 'trace_url': 'https://smith.langchain.com/o/54c78040-f950-5b89-abc5-cfa91689e091/projects/p/bf7ed177-a4bd-4c11-a006-a4a78adf2610/r/9ac61486-10b4-4df9-9b0e-42e6a47f13b8?trace_id=c64d363e-4360-4e24-a2ad-1b58327dc7df&start_time=2024-07-31T12:39:02.136663'}\n"
     ]
    }
   ],
   "source": [
    "from dotenv import load_dotenv\n",
    "load_dotenv()\n",
    "import os\n",
    "from IPython.display import Image, display\n",
    "from psycopg_pool import AsyncConnectionPool\n",
    "from langchain_core.messages import HumanMessage\n",
    "import uuid\n",
    "from vectrix.graphs.basic_rag import RAGWorkflowGraph\n",
    "from vectrix.streaming.processor import StreamProcessor\n",
    "from vectrix.db.checkpointer import PostgresSaver\n",
    "\n",
    "# Hide the rescources warning\n",
    "import warnings\n",
    "warnings.simplefilter(\"ignore\", ResourceWarning)\n",
    "\n",
    "os.environ[\"LANGCHAIN_TRACING_V2\"] = \"true\"\n",
    "\n",
    "# Enable langsmith tracing\n",
    "DB_URI = os.getenv(\"DB_URI\")\n",
    "\n",
    "# Open a connection pool\n",
    "# Create the pool without opening it\n",
    "pool = AsyncConnectionPool(\n",
    "    conninfo=DB_URI,\n",
    "    max_size=20,\n",
    "    open=False  # This prevents the pool from opening in the constructor\n",
    ")\n",
    "\n",
    "# Explicitly open the pool\n",
    "await pool.open()\n",
    "\n",
    "checkpointer = PostgresSaver(async_connection=pool)\n",
    "await checkpointer.acreate_tables(pool)\n",
    "\n",
    "# Create the config and a random thread it\n",
    "config = {\"configurable\": {\"thread_id\": str(uuid.uuid4())}}\n",
    "\n",
    "# Instatiate the graph \n",
    "demo_graph = RAGWorkflowGraph(DB_URI=DB_URI)\n",
    "graph = demo_graph.create_graph(checkpointer=checkpointer)\n",
    "\n",
    "# Display the graph\n",
    "display(Image(graph.get_graph().draw_mermaid_png()))\n",
    "\n",
    "# Set the input message\n",
    "input = HumanMessage(content=\"Who is Ben Selleslagh?\")\n",
    "\n",
    "# Instanitate the stream processor\n",
    "stream_processor = StreamProcessor(config)\n",
    "\n",
    "# Run the stream and print the chunks\n",
    "async for chunk in stream_processor.process_stream(graph, input):\n",
    "    print(chunk)"
   ]
  }
 ],
 "metadata": {
  "kernelspec": {
   "display_name": ".venv",
   "language": "python",
   "name": "python3"
  },
  "language_info": {
   "codemirror_mode": {
    "name": "ipython",
    "version": 3
   },
   "file_extension": ".py",
   "mimetype": "text/x-python",
   "name": "python",
   "nbconvert_exporter": "python",
   "pygments_lexer": "ipython3",
   "version": "3.12.4"
  }
 },
 "nbformat": 4,
 "nbformat_minor": 2
}
