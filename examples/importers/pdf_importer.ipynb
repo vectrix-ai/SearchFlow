{
 "cells": [
  {
   "cell_type": "markdown",
   "metadata": {},
   "source": [
    "# PDF Importing 📄\n",
    "In this notebook we will focus on importing PDF files into the Vector database.\n",
    "We will focus on impoting documents from local storage, Google Drive and Microsoft OneDrive."
   ]
  },
  {
   "cell_type": "markdown",
   "metadata": {},
   "source": [
    "## Importing PDFs with Unstructured, that are 100% text-based"
   ]
  },
  {
   "cell_type": "code",
   "execution_count": 5,
   "metadata": {},
   "outputs": [],
   "source": [
    "from unstructured.partition.auto import partition\n",
    "from unstructured.cleaners.core import clean\n",
    "from unstructured.chunking.basic import chunk_elements"
   ]
  },
  {
   "cell_type": "code",
   "execution_count": null,
   "metadata": {},
   "outputs": [],
   "source": [
    "elements = partition(\"./documents/pdf_with_extractabletext.pdf\")\n",
    "chunks = chunk_elements(elements, max_characters=1000)"
   ]
  },
  {
   "cell_type": "code",
   "execution_count": null,
   "metadata": {},
   "outputs": [],
   "source": [
    "for chunk in chunks:\n",
    "    print('---')\n",
    "    print(clean(chunk.text))"
   ]
  },
  {
   "cell_type": "code",
   "execution_count": null,
   "metadata": {},
   "outputs": [],
   "source": [
    "print(\"\\n\\n\".join([str(el) for el in elements]))"
   ]
  },
  {
   "cell_type": "markdown",
   "metadata": {},
   "source": [
    "## Importing scanned PDF-files\n",
    "\n",
    "Installation of poppler needed\n",
    "```\n",
    "brew install poppler\n",
    "brew install libmagic\n",
    "```"
   ]
  },
  {
   "cell_type": "code",
   "execution_count": 4,
   "metadata": {},
   "outputs": [],
   "source": [
    "from unstructured.partition.auto import partition"
   ]
  },
  {
   "cell_type": "code",
   "execution_count": null,
   "metadata": {},
   "outputs": [],
   "source": [
    "elements = partition(\"./documents/scan_example.pdf\")"
   ]
  },
  {
   "cell_type": "code",
   "execution_count": null,
   "metadata": {},
   "outputs": [],
   "source": [
    "print(\"\\n\\n\".join([str(el) for el in elements]))"
   ]
  },
  {
   "cell_type": "markdown",
   "metadata": {},
   "source": [
    "## Extracting PDF-files with images"
   ]
  },
  {
   "cell_type": "code",
   "execution_count": null,
   "metadata": {},
   "outputs": [],
   "source": [
    "from unstructured.partition.pdf import partition_pdf\n",
    "\n",
    "elements = partition_pdf(\n",
    "    filename=\"./documents/pdf_with_images.pdf\",                  # mandatory\n",
    "    strategy=\"hi_res\",                                     # mandatory to use ``hi_res`` strategy\n",
    "    extract_images_in_pdf=True,                            # mandatory to set as ``True``\n",
    "    extract_image_block_types=[\"Image\", \"Table\"],          # optional\n",
    "    extract_image_block_to_payload=False,                  # optional\n",
    "    extract_image_block_output_dir=\"./documents/images/\",  # optional - only works when ``extract_image_block_to_payload=False``\n",
    "    )"
   ]
  },
  {
   "cell_type": "code",
   "execution_count": null,
   "metadata": {},
   "outputs": [],
   "source": [
    "print(\"\\n\\n\".join([str(el) for el in elements]))"
   ]
  },
  {
   "cell_type": "markdown",
   "metadata": {},
   "source": [
    "## Extracting PDF-files with tables"
   ]
  },
  {
   "cell_type": "code",
   "execution_count": null,
   "metadata": {},
   "outputs": [],
   "source": [
    "from unstructured.partition.pdf import partition_pdf\n",
    "\n",
    "fname = \"./documents/pdf_with_tables.pdf\"\n",
    "\n",
    "elements = partition_pdf(filename=fname,\n",
    "                         infer_table_structure=True,\n",
    "                         strategy='hi_res',\n",
    "           )\n",
    "\n",
    "tables = [el for el in elements if el.category == \"Table\"]\n",
    "\n",
    "print(tables[0].text)\n",
    "from IPython.display import HTML, display\n",
    "\n",
    "# Assuming tables[0].metadata.text_as_html contains the HTML table string\n",
    "html_table = tables[0].metadata.text_as_html\n",
    "\n",
    "# Display the HTML table\n",
    "display(HTML(html_table))"
   ]
  }
 ],
 "metadata": {
  "kernelspec": {
   "display_name": ".venv",
   "language": "python",
   "name": "python3"
  },
  "language_info": {
   "codemirror_mode": {
    "name": "ipython",
    "version": 3
   },
   "file_extension": ".py",
   "mimetype": "text/x-python",
   "name": "python",
   "nbconvert_exporter": "python",
   "pygments_lexer": "ipython3",
   "version": "3.12.4"
  }
 },
 "nbformat": 4,
 "nbformat_minor": 2
}
