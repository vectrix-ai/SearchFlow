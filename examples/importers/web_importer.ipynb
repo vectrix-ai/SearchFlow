{
 "cells": [
  {
   "cell_type": "code",
   "execution_count": 1,
   "metadata": {},
   "outputs": [
    {
     "data": {
      "text/plain": [
       "True"
      ]
     },
     "execution_count": 1,
     "metadata": {},
     "output_type": "execute_result"
    }
   ],
   "source": [
    "from dotenv import load_dotenv\n",
    "load_dotenv()"
   ]
  },
  {
   "cell_type": "markdown",
   "metadata": {},
   "source": [
    "# Web Page Indexing and Vectorization 👀\n",
    "\n",
    "This Jupyter notebook contains a script that performs indexing and vectorization of web page contents. The primary purpose of this script is to crawl through a specified web page, extract the textual contents, and subsequently store these contents as vector objects in a database.\n",
    "\n",
    "The vectorized information can then be utilized in a Retrieval-Augmented Generation (RAG) flow to answer questions using a Language Model (LLM). This process enables the creation of a more context-aware and responsive system, capable of providing detailed responses based on the indexed and vectorized information from the web page.\n",
    "\n",
    "The notebook is structured in a step-by-step manner, guiding you through the process of web page crawling, text extraction, vectorization, and storage in a database. Each step is accompanied by detailed explanations and code snippets to provide a comprehensive understanding of the process."
   ]
  },
  {
   "cell_type": "markdown",
   "metadata": {},
   "source": [
    "## Web Crawler and Content Extractor\n",
    "\n",
    "This code implements a web crawler and content extractor that:\n",
    "\n",
    "1. Extracts URLs from the given HTML content, filtering for the same domain and validating the URLs. ✅\n",
    "2. Crawls a website starting from a given URL, iteratively processing and extracting links from each page. ✅\n",
    "3. Returns a mist of HTML documents extracted from the website ✅\n",
    "\n",
    "The code displays the source URL of each processed page and the total number of pages in the extracted content."
   ]
  },
  {
   "cell_type": "code",
   "execution_count": 16,
   "metadata": {},
   "outputs": [
    {
     "name": "stderr",
     "output_type": "stream",
     "text": [
      "\u001b[32m2024-08-13 12:27:41,017 - root - INFO - followed homepage redirect: /collections/all\u001b[0m\n",
      "\u001b[32m2024-08-13 12:27:41,017 - root - INFO - followed homepage redirect: /collections/all\u001b[0m\n",
      "\u001b[32m2024-08-13 12:27:41,017 - root - INFO - followed homepage redirect: /collections/all\u001b[0m\n",
      "\u001b[32m2024-08-13 12:27:41,017 - root - INFO - followed homepage redirect: /collections/all\u001b[0m\n",
      "\u001b[32m2024-08-13 12:27:41,017 - root - INFO - followed homepage redirect: /collections/all\u001b[0m\n",
      "\u001b[32m2024-08-13 12:27:41,017 - root - INFO - followed homepage redirect: /collections/all\u001b[0m\n",
      "\u001b[32m2024-08-13 12:27:41,028 - root - INFO - Starting to scrape 50 links\u001b[0m\n",
      "\u001b[32m2024-08-13 12:27:41,028 - root - INFO - Starting to scrape 50 links\u001b[0m\n",
      "\u001b[32m2024-08-13 12:27:41,028 - root - INFO - Starting to scrape 50 links\u001b[0m\n",
      "\u001b[32m2024-08-13 12:27:41,028 - root - INFO - Starting to scrape 50 links\u001b[0m\n",
      "\u001b[32m2024-08-13 12:27:41,028 - root - INFO - Starting to scrape 50 links\u001b[0m\n",
      "\u001b[32m2024-08-13 12:27:41,028 - root - INFO - Starting to scrape 50 links\u001b[0m\n",
      "\u001b[33m2024-08-13 12:27:42,694 - courlan.urlstore - WARNING - Discarding URL: /pages/warranty-policy\u001b[0m\n",
      "\u001b[33m2024-08-13 12:27:42,694 - courlan.urlstore - WARNING - Discarding URL: /pages/warranty-policy\u001b[0m\n",
      "\u001b[33m2024-08-13 12:27:42,694 - courlan.urlstore - WARNING - Discarding URL: /pages/warranty-policy\u001b[0m\n",
      "\u001b[33m2024-08-13 12:27:42,694 - courlan.urlstore - WARNING - Discarding URL: /pages/warranty-policy\u001b[0m\n",
      "\u001b[33m2024-08-13 12:27:42,694 - courlan.urlstore - WARNING - Discarding URL: /pages/warranty-policy\u001b[0m\n",
      "\u001b[33m2024-08-13 12:27:42,694 - courlan.urlstore - WARNING - Discarding URL: /pages/warranty-policy\u001b[0m\n",
      "\u001b[32m2024-08-13 12:27:42,703 - courlan.core - INFO - 28 links found – 24 valid links\u001b[0m\n",
      "\u001b[32m2024-08-13 12:27:42,703 - courlan.core - INFO - 28 links found – 24 valid links\u001b[0m\n",
      "\u001b[32m2024-08-13 12:27:42,703 - courlan.core - INFO - 28 links found – 24 valid links\u001b[0m\n",
      "\u001b[32m2024-08-13 12:27:42,703 - courlan.core - INFO - 28 links found – 24 valid links\u001b[0m\n",
      "\u001b[32m2024-08-13 12:27:42,703 - courlan.core - INFO - 28 links found – 24 valid links\u001b[0m\n",
      "\u001b[32m2024-08-13 12:27:42,703 - courlan.core - INFO - 28 links found – 24 valid links\u001b[0m\n",
      "\u001b[33m2024-08-13 12:27:43,893 - courlan.urlstore - WARNING - Discarding URL: /collections/kinetic-collection\u001b[0m\n",
      "\u001b[33m2024-08-13 12:27:43,893 - courlan.urlstore - WARNING - Discarding URL: /collections/kinetic-collection\u001b[0m\n",
      "\u001b[33m2024-08-13 12:27:43,893 - courlan.urlstore - WARNING - Discarding URL: /collections/kinetic-collection\u001b[0m\n",
      "\u001b[33m2024-08-13 12:27:43,893 - courlan.urlstore - WARNING - Discarding URL: /collections/kinetic-collection\u001b[0m\n",
      "\u001b[33m2024-08-13 12:27:43,893 - courlan.urlstore - WARNING - Discarding URL: /collections/kinetic-collection\u001b[0m\n",
      "\u001b[33m2024-08-13 12:27:43,893 - courlan.urlstore - WARNING - Discarding URL: /collections/kinetic-collection\u001b[0m\n",
      "\u001b[32m2024-08-13 12:27:43,903 - courlan.core - INFO - 35 links found – 32 valid links\u001b[0m\n",
      "\u001b[32m2024-08-13 12:27:43,903 - courlan.core - INFO - 35 links found – 32 valid links\u001b[0m\n",
      "\u001b[32m2024-08-13 12:27:43,903 - courlan.core - INFO - 35 links found – 32 valid links\u001b[0m\n",
      "\u001b[32m2024-08-13 12:27:43,903 - courlan.core - INFO - 35 links found – 32 valid links\u001b[0m\n",
      "\u001b[32m2024-08-13 12:27:43,903 - courlan.core - INFO - 35 links found – 32 valid links\u001b[0m\n",
      "\u001b[32m2024-08-13 12:27:43,903 - courlan.core - INFO - 35 links found – 32 valid links\u001b[0m\n",
      "\u001b[33m2024-08-13 12:27:46,106 - courlan.urlstore - WARNING - Discarding URL: /pages/careers\u001b[0m\n",
      "\u001b[33m2024-08-13 12:27:46,106 - courlan.urlstore - WARNING - Discarding URL: /pages/careers\u001b[0m\n",
      "\u001b[33m2024-08-13 12:27:46,106 - courlan.urlstore - WARNING - Discarding URL: /pages/careers\u001b[0m\n",
      "\u001b[33m2024-08-13 12:27:46,106 - courlan.urlstore - WARNING - Discarding URL: /pages/careers\u001b[0m\n",
      "\u001b[33m2024-08-13 12:27:46,106 - courlan.urlstore - WARNING - Discarding URL: /pages/careers\u001b[0m\n",
      "\u001b[33m2024-08-13 12:27:46,106 - courlan.urlstore - WARNING - Discarding URL: /pages/careers\u001b[0m\n",
      "\u001b[32m2024-08-13 12:27:46,119 - courlan.core - INFO - 33 links found – 30 valid links\u001b[0m\n",
      "\u001b[32m2024-08-13 12:27:46,119 - courlan.core - INFO - 33 links found – 30 valid links\u001b[0m\n",
      "\u001b[32m2024-08-13 12:27:46,119 - courlan.core - INFO - 33 links found – 30 valid links\u001b[0m\n",
      "\u001b[32m2024-08-13 12:27:46,119 - courlan.core - INFO - 33 links found – 30 valid links\u001b[0m\n",
      "\u001b[32m2024-08-13 12:27:46,119 - courlan.core - INFO - 33 links found – 30 valid links\u001b[0m\n",
      "\u001b[32m2024-08-13 12:27:46,119 - courlan.core - INFO - 33 links found – 30 valid links\u001b[0m\n",
      "\u001b[33m2024-08-13 12:27:48,338 - courlan.urlstore - WARNING - Discarding URL: /pages/earplugs-for-events\u001b[0m\n",
      "\u001b[33m2024-08-13 12:27:48,338 - courlan.urlstore - WARNING - Discarding URL: /pages/earplugs-for-events\u001b[0m\n",
      "\u001b[33m2024-08-13 12:27:48,338 - courlan.urlstore - WARNING - Discarding URL: /pages/earplugs-for-events\u001b[0m\n",
      "\u001b[33m2024-08-13 12:27:48,338 - courlan.urlstore - WARNING - Discarding URL: /pages/earplugs-for-events\u001b[0m\n",
      "\u001b[33m2024-08-13 12:27:48,338 - courlan.urlstore - WARNING - Discarding URL: /pages/earplugs-for-events\u001b[0m\n",
      "\u001b[33m2024-08-13 12:27:48,338 - courlan.urlstore - WARNING - Discarding URL: /pages/earplugs-for-events\u001b[0m\n",
      "\u001b[32m2024-08-13 12:27:48,349 - courlan.core - INFO - 38 links found – 30 valid links\u001b[0m\n",
      "\u001b[32m2024-08-13 12:27:48,349 - courlan.core - INFO - 38 links found – 30 valid links\u001b[0m\n",
      "\u001b[32m2024-08-13 12:27:48,349 - courlan.core - INFO - 38 links found – 30 valid links\u001b[0m\n",
      "\u001b[32m2024-08-13 12:27:48,349 - courlan.core - INFO - 38 links found – 30 valid links\u001b[0m\n",
      "\u001b[32m2024-08-13 12:27:48,349 - courlan.core - INFO - 38 links found – 30 valid links\u001b[0m\n",
      "\u001b[32m2024-08-13 12:27:48,349 - courlan.core - INFO - 38 links found – 30 valid links\u001b[0m\n",
      "\u001b[33m2024-08-13 12:27:50,840 - courlan.urlstore - WARNING - Discarding URL: /products/carry-case-black\u001b[0m\n",
      "\u001b[33m2024-08-13 12:27:50,840 - courlan.urlstore - WARNING - Discarding URL: /products/carry-case-black\u001b[0m\n",
      "\u001b[33m2024-08-13 12:27:50,840 - courlan.urlstore - WARNING - Discarding URL: /products/carry-case-black\u001b[0m\n",
      "\u001b[33m2024-08-13 12:27:50,840 - courlan.urlstore - WARNING - Discarding URL: /products/carry-case-black\u001b[0m\n",
      "\u001b[33m2024-08-13 12:27:50,840 - courlan.urlstore - WARNING - Discarding URL: /products/carry-case-black\u001b[0m\n",
      "\u001b[33m2024-08-13 12:27:50,840 - courlan.urlstore - WARNING - Discarding URL: /products/carry-case-black\u001b[0m\n",
      "\u001b[32m2024-08-13 12:27:50,854 - courlan.core - INFO - 29 links found – 25 valid links\u001b[0m\n",
      "\u001b[32m2024-08-13 12:27:50,854 - courlan.core - INFO - 29 links found – 25 valid links\u001b[0m\n",
      "\u001b[32m2024-08-13 12:27:50,854 - courlan.core - INFO - 29 links found – 25 valid links\u001b[0m\n",
      "\u001b[32m2024-08-13 12:27:50,854 - courlan.core - INFO - 29 links found – 25 valid links\u001b[0m\n",
      "\u001b[32m2024-08-13 12:27:50,854 - courlan.core - INFO - 29 links found – 25 valid links\u001b[0m\n",
      "\u001b[32m2024-08-13 12:27:50,854 - courlan.core - INFO - 29 links found – 25 valid links\u001b[0m\n",
      "\u001b[33m2024-08-13 12:27:53,338 - courlan.urlstore - WARNING - Discarding URL: /blogs/press-corner\u001b[0m\n",
      "\u001b[33m2024-08-13 12:27:53,338 - courlan.urlstore - WARNING - Discarding URL: /blogs/press-corner\u001b[0m\n",
      "\u001b[33m2024-08-13 12:27:53,338 - courlan.urlstore - WARNING - Discarding URL: /blogs/press-corner\u001b[0m\n",
      "\u001b[33m2024-08-13 12:27:53,338 - courlan.urlstore - WARNING - Discarding URL: /blogs/press-corner\u001b[0m\n",
      "\u001b[33m2024-08-13 12:27:53,338 - courlan.urlstore - WARNING - Discarding URL: /blogs/press-corner\u001b[0m\n",
      "\u001b[33m2024-08-13 12:27:53,338 - courlan.urlstore - WARNING - Discarding URL: /blogs/press-corner\u001b[0m\n",
      "\u001b[32m2024-08-13 12:27:53,353 - courlan.core - INFO - 38 links found – 26 valid links\u001b[0m\n",
      "\u001b[32m2024-08-13 12:27:53,353 - courlan.core - INFO - 38 links found – 26 valid links\u001b[0m\n",
      "\u001b[32m2024-08-13 12:27:53,353 - courlan.core - INFO - 38 links found – 26 valid links\u001b[0m\n",
      "\u001b[32m2024-08-13 12:27:53,353 - courlan.core - INFO - 38 links found – 26 valid links\u001b[0m\n",
      "\u001b[32m2024-08-13 12:27:53,353 - courlan.core - INFO - 38 links found – 26 valid links\u001b[0m\n",
      "\u001b[32m2024-08-13 12:27:53,353 - courlan.core - INFO - 38 links found – 26 valid links\u001b[0m\n",
      "\u001b[33m2024-08-13 12:27:55,953 - courlan.urlstore - WARNING - Discarding URL: /products/engage-plus\u001b[0m\n",
      "\u001b[33m2024-08-13 12:27:55,953 - courlan.urlstore - WARNING - Discarding URL: /products/engage-plus\u001b[0m\n",
      "\u001b[33m2024-08-13 12:27:55,953 - courlan.urlstore - WARNING - Discarding URL: /products/engage-plus\u001b[0m\n",
      "\u001b[33m2024-08-13 12:27:55,953 - courlan.urlstore - WARNING - Discarding URL: /products/engage-plus\u001b[0m\n",
      "\u001b[33m2024-08-13 12:27:55,953 - courlan.urlstore - WARNING - Discarding URL: /products/engage-plus\u001b[0m\n",
      "\u001b[33m2024-08-13 12:27:55,953 - courlan.urlstore - WARNING - Discarding URL: /products/engage-plus\u001b[0m\n",
      "\u001b[32m2024-08-13 12:27:55,963 - courlan.core - INFO - 36 links found – 24 valid links\u001b[0m\n",
      "\u001b[32m2024-08-13 12:27:55,963 - courlan.core - INFO - 36 links found – 24 valid links\u001b[0m\n",
      "\u001b[32m2024-08-13 12:27:55,963 - courlan.core - INFO - 36 links found – 24 valid links\u001b[0m\n",
      "\u001b[32m2024-08-13 12:27:55,963 - courlan.core - INFO - 36 links found – 24 valid links\u001b[0m\n",
      "\u001b[32m2024-08-13 12:27:55,963 - courlan.core - INFO - 36 links found – 24 valid links\u001b[0m\n",
      "\u001b[32m2024-08-13 12:27:55,963 - courlan.core - INFO - 36 links found – 24 valid links\u001b[0m\n",
      "\u001b[32m2024-08-13 12:27:57,145 - urllib3.poolmanager - INFO - Redirecting https://www.loopearplugs.com/products/experience1 -> https://www.loopearplugs.com/products/experience\u001b[0m\n",
      "\u001b[32m2024-08-13 12:27:57,145 - urllib3.poolmanager - INFO - Redirecting https://www.loopearplugs.com/products/experience1 -> https://www.loopearplugs.com/products/experience\u001b[0m\n",
      "\u001b[32m2024-08-13 12:27:57,145 - urllib3.poolmanager - INFO - Redirecting https://www.loopearplugs.com/products/experience1 -> https://www.loopearplugs.com/products/experience\u001b[0m\n",
      "\u001b[32m2024-08-13 12:27:57,145 - urllib3.poolmanager - INFO - Redirecting https://www.loopearplugs.com/products/experience1 -> https://www.loopearplugs.com/products/experience\u001b[0m\n",
      "\u001b[32m2024-08-13 12:27:57,145 - urllib3.poolmanager - INFO - Redirecting https://www.loopearplugs.com/products/experience1 -> https://www.loopearplugs.com/products/experience\u001b[0m\n",
      "\u001b[32m2024-08-13 12:27:57,145 - urllib3.poolmanager - INFO - Redirecting https://www.loopearplugs.com/products/experience1 -> https://www.loopearplugs.com/products/experience\u001b[0m\n",
      "\u001b[33m2024-08-13 12:27:57,451 - courlan.urlstore - WARNING - Discarding URL: /products/experience\u001b[0m\n",
      "\u001b[33m2024-08-13 12:27:57,451 - courlan.urlstore - WARNING - Discarding URL: /products/experience\u001b[0m\n",
      "\u001b[33m2024-08-13 12:27:57,451 - courlan.urlstore - WARNING - Discarding URL: /products/experience\u001b[0m\n",
      "\u001b[33m2024-08-13 12:27:57,451 - courlan.urlstore - WARNING - Discarding URL: /products/experience\u001b[0m\n",
      "\u001b[33m2024-08-13 12:27:57,451 - courlan.urlstore - WARNING - Discarding URL: /products/experience\u001b[0m\n",
      "\u001b[33m2024-08-13 12:27:57,451 - courlan.urlstore - WARNING - Discarding URL: /products/experience\u001b[0m\n",
      "\u001b[32m2024-08-13 12:27:57,466 - courlan.core - INFO - 40 links found – 25 valid links\u001b[0m\n",
      "\u001b[32m2024-08-13 12:27:57,466 - courlan.core - INFO - 40 links found – 25 valid links\u001b[0m\n",
      "\u001b[32m2024-08-13 12:27:57,466 - courlan.core - INFO - 40 links found – 25 valid links\u001b[0m\n",
      "\u001b[32m2024-08-13 12:27:57,466 - courlan.core - INFO - 40 links found – 25 valid links\u001b[0m\n",
      "\u001b[32m2024-08-13 12:27:57,466 - courlan.core - INFO - 40 links found – 25 valid links\u001b[0m\n",
      "\u001b[32m2024-08-13 12:27:57,466 - courlan.core - INFO - 40 links found – 25 valid links\u001b[0m\n",
      "\u001b[33m2024-08-13 12:27:59,795 - courlan.urlstore - WARNING - Discarding URL: /pages/earplugs-for-traveling\u001b[0m\n",
      "\u001b[33m2024-08-13 12:27:59,795 - courlan.urlstore - WARNING - Discarding URL: /pages/earplugs-for-traveling\u001b[0m\n",
      "\u001b[33m2024-08-13 12:27:59,795 - courlan.urlstore - WARNING - Discarding URL: /pages/earplugs-for-traveling\u001b[0m\n",
      "\u001b[33m2024-08-13 12:27:59,795 - courlan.urlstore - WARNING - Discarding URL: /pages/earplugs-for-traveling\u001b[0m\n",
      "\u001b[33m2024-08-13 12:27:59,795 - courlan.urlstore - WARNING - Discarding URL: /pages/earplugs-for-traveling\u001b[0m\n",
      "\u001b[33m2024-08-13 12:27:59,795 - courlan.urlstore - WARNING - Discarding URL: /pages/earplugs-for-traveling\u001b[0m\n",
      "\u001b[32m2024-08-13 12:27:59,807 - courlan.core - INFO - 37 links found – 26 valid links\u001b[0m\n",
      "\u001b[32m2024-08-13 12:27:59,807 - courlan.core - INFO - 37 links found – 26 valid links\u001b[0m\n",
      "\u001b[32m2024-08-13 12:27:59,807 - courlan.core - INFO - 37 links found – 26 valid links\u001b[0m\n",
      "\u001b[32m2024-08-13 12:27:59,807 - courlan.core - INFO - 37 links found – 26 valid links\u001b[0m\n",
      "\u001b[32m2024-08-13 12:27:59,807 - courlan.core - INFO - 37 links found – 26 valid links\u001b[0m\n",
      "\u001b[32m2024-08-13 12:27:59,807 - courlan.core - INFO - 37 links found – 26 valid links\u001b[0m\n",
      "\u001b[33m2024-08-13 12:28:02,252 - courlan.urlstore - WARNING - Discarding URL: /pages/affiliate-program\u001b[0m\n",
      "\u001b[33m2024-08-13 12:28:02,252 - courlan.urlstore - WARNING - Discarding URL: /pages/affiliate-program\u001b[0m\n",
      "\u001b[33m2024-08-13 12:28:02,252 - courlan.urlstore - WARNING - Discarding URL: /pages/affiliate-program\u001b[0m\n",
      "\u001b[33m2024-08-13 12:28:02,252 - courlan.urlstore - WARNING - Discarding URL: /pages/affiliate-program\u001b[0m\n",
      "\u001b[33m2024-08-13 12:28:02,252 - courlan.urlstore - WARNING - Discarding URL: /pages/affiliate-program\u001b[0m\n",
      "\u001b[33m2024-08-13 12:28:02,252 - courlan.urlstore - WARNING - Discarding URL: /pages/affiliate-program\u001b[0m\n",
      "\u001b[32m2024-08-13 12:28:02,264 - courlan.core - INFO - 27 links found – 23 valid links\u001b[0m\n",
      "\u001b[32m2024-08-13 12:28:02,264 - courlan.core - INFO - 27 links found – 23 valid links\u001b[0m\n",
      "\u001b[32m2024-08-13 12:28:02,264 - courlan.core - INFO - 27 links found – 23 valid links\u001b[0m\n",
      "\u001b[32m2024-08-13 12:28:02,264 - courlan.core - INFO - 27 links found – 23 valid links\u001b[0m\n",
      "\u001b[32m2024-08-13 12:28:02,264 - courlan.core - INFO - 27 links found – 23 valid links\u001b[0m\n",
      "\u001b[32m2024-08-13 12:28:02,264 - courlan.core - INFO - 27 links found – 23 valid links\u001b[0m\n",
      "\u001b[33m2024-08-13 12:28:04,599 - courlan.urlstore - WARNING - Discarding URL: /pages/earplugs-for-parenting\u001b[0m\n",
      "\u001b[33m2024-08-13 12:28:04,599 - courlan.urlstore - WARNING - Discarding URL: /pages/earplugs-for-parenting\u001b[0m\n",
      "\u001b[33m2024-08-13 12:28:04,599 - courlan.urlstore - WARNING - Discarding URL: /pages/earplugs-for-parenting\u001b[0m\n",
      "\u001b[33m2024-08-13 12:28:04,599 - courlan.urlstore - WARNING - Discarding URL: /pages/earplugs-for-parenting\u001b[0m\n",
      "\u001b[33m2024-08-13 12:28:04,599 - courlan.urlstore - WARNING - Discarding URL: /pages/earplugs-for-parenting\u001b[0m\n",
      "\u001b[33m2024-08-13 12:28:04,599 - courlan.urlstore - WARNING - Discarding URL: /pages/earplugs-for-parenting\u001b[0m\n",
      "\u001b[32m2024-08-13 12:28:04,610 - courlan.core - INFO - 30 links found – 26 valid links\u001b[0m\n",
      "\u001b[32m2024-08-13 12:28:04,610 - courlan.core - INFO - 30 links found – 26 valid links\u001b[0m\n",
      "\u001b[32m2024-08-13 12:28:04,610 - courlan.core - INFO - 30 links found – 26 valid links\u001b[0m\n",
      "\u001b[32m2024-08-13 12:28:04,610 - courlan.core - INFO - 30 links found – 26 valid links\u001b[0m\n",
      "\u001b[32m2024-08-13 12:28:04,610 - courlan.core - INFO - 30 links found – 26 valid links\u001b[0m\n",
      "\u001b[32m2024-08-13 12:28:04,610 - courlan.core - INFO - 30 links found – 26 valid links\u001b[0m\n",
      "\u001b[33m2024-08-13 12:28:05,833 - courlan.urlstore - WARNING - Discarding URL: /collections/accessories\u001b[0m\n",
      "\u001b[33m2024-08-13 12:28:05,833 - courlan.urlstore - WARNING - Discarding URL: /collections/accessories\u001b[0m\n",
      "\u001b[33m2024-08-13 12:28:05,833 - courlan.urlstore - WARNING - Discarding URL: /collections/accessories\u001b[0m\n",
      "\u001b[33m2024-08-13 12:28:05,833 - courlan.urlstore - WARNING - Discarding URL: /collections/accessories\u001b[0m\n",
      "\u001b[33m2024-08-13 12:28:05,833 - courlan.urlstore - WARNING - Discarding URL: /collections/accessories\u001b[0m\n",
      "\u001b[33m2024-08-13 12:28:05,833 - courlan.urlstore - WARNING - Discarding URL: /collections/accessories\u001b[0m\n",
      "\u001b[32m2024-08-13 12:28:05,845 - courlan.core - INFO - 38 links found – 35 valid links\u001b[0m\n",
      "\u001b[32m2024-08-13 12:28:05,845 - courlan.core - INFO - 38 links found – 35 valid links\u001b[0m\n",
      "\u001b[32m2024-08-13 12:28:05,845 - courlan.core - INFO - 38 links found – 35 valid links\u001b[0m\n",
      "\u001b[32m2024-08-13 12:28:05,845 - courlan.core - INFO - 38 links found – 35 valid links\u001b[0m\n",
      "\u001b[32m2024-08-13 12:28:05,845 - courlan.core - INFO - 38 links found – 35 valid links\u001b[0m\n",
      "\u001b[32m2024-08-13 12:28:05,845 - courlan.core - INFO - 38 links found – 35 valid links\u001b[0m\n",
      "\u001b[33m2024-08-13 12:28:08,128 - courlan.urlstore - WARNING - Discarding URL: /pages/gifts-for-adhd\u001b[0m\n",
      "\u001b[33m2024-08-13 12:28:08,128 - courlan.urlstore - WARNING - Discarding URL: /pages/gifts-for-adhd\u001b[0m\n",
      "\u001b[33m2024-08-13 12:28:08,128 - courlan.urlstore - WARNING - Discarding URL: /pages/gifts-for-adhd\u001b[0m\n",
      "\u001b[33m2024-08-13 12:28:08,128 - courlan.urlstore - WARNING - Discarding URL: /pages/gifts-for-adhd\u001b[0m\n",
      "\u001b[33m2024-08-13 12:28:08,128 - courlan.urlstore - WARNING - Discarding URL: /pages/gifts-for-adhd\u001b[0m\n",
      "\u001b[33m2024-08-13 12:28:08,128 - courlan.urlstore - WARNING - Discarding URL: /pages/gifts-for-adhd\u001b[0m\n",
      "\u001b[32m2024-08-13 12:28:08,140 - courlan.core - INFO - 32 links found – 27 valid links\u001b[0m\n",
      "\u001b[32m2024-08-13 12:28:08,140 - courlan.core - INFO - 32 links found – 27 valid links\u001b[0m\n",
      "\u001b[32m2024-08-13 12:28:08,140 - courlan.core - INFO - 32 links found – 27 valid links\u001b[0m\n",
      "\u001b[32m2024-08-13 12:28:08,140 - courlan.core - INFO - 32 links found – 27 valid links\u001b[0m\n",
      "\u001b[32m2024-08-13 12:28:08,140 - courlan.core - INFO - 32 links found – 27 valid links\u001b[0m\n",
      "\u001b[32m2024-08-13 12:28:08,140 - courlan.core - INFO - 32 links found – 27 valid links\u001b[0m\n",
      "\u001b[33m2024-08-13 12:28:09,335 - courlan.urlstore - WARNING - Discarding URL: /products/quiet-plus\u001b[0m\n",
      "\u001b[33m2024-08-13 12:28:09,335 - courlan.urlstore - WARNING - Discarding URL: /products/quiet-plus\u001b[0m\n",
      "\u001b[33m2024-08-13 12:28:09,335 - courlan.urlstore - WARNING - Discarding URL: /products/quiet-plus\u001b[0m\n",
      "\u001b[33m2024-08-13 12:28:09,335 - courlan.urlstore - WARNING - Discarding URL: /products/quiet-plus\u001b[0m\n",
      "\u001b[33m2024-08-13 12:28:09,335 - courlan.urlstore - WARNING - Discarding URL: /products/quiet-plus\u001b[0m\n",
      "\u001b[33m2024-08-13 12:28:09,335 - courlan.urlstore - WARNING - Discarding URL: /products/quiet-plus\u001b[0m\n",
      "\u001b[32m2024-08-13 12:28:09,345 - courlan.core - INFO - 35 links found – 23 valid links\u001b[0m\n",
      "\u001b[32m2024-08-13 12:28:09,345 - courlan.core - INFO - 35 links found – 23 valid links\u001b[0m\n",
      "\u001b[32m2024-08-13 12:28:09,345 - courlan.core - INFO - 35 links found – 23 valid links\u001b[0m\n",
      "\u001b[32m2024-08-13 12:28:09,345 - courlan.core - INFO - 35 links found – 23 valid links\u001b[0m\n",
      "\u001b[32m2024-08-13 12:28:09,345 - courlan.core - INFO - 35 links found – 23 valid links\u001b[0m\n",
      "\u001b[32m2024-08-13 12:28:09,345 - courlan.core - INFO - 35 links found – 23 valid links\u001b[0m\n",
      "\u001b[33m2024-08-13 12:28:11,605 - courlan.urlstore - WARNING - Discarding URL: /pages/gifts-for-autism\u001b[0m\n",
      "\u001b[33m2024-08-13 12:28:11,605 - courlan.urlstore - WARNING - Discarding URL: /pages/gifts-for-autism\u001b[0m\n",
      "\u001b[33m2024-08-13 12:28:11,605 - courlan.urlstore - WARNING - Discarding URL: /pages/gifts-for-autism\u001b[0m\n",
      "\u001b[33m2024-08-13 12:28:11,605 - courlan.urlstore - WARNING - Discarding URL: /pages/gifts-for-autism\u001b[0m\n",
      "\u001b[33m2024-08-13 12:28:11,605 - courlan.urlstore - WARNING - Discarding URL: /pages/gifts-for-autism\u001b[0m\n",
      "\u001b[33m2024-08-13 12:28:11,605 - courlan.urlstore - WARNING - Discarding URL: /pages/gifts-for-autism\u001b[0m\n",
      "\u001b[32m2024-08-13 12:28:11,617 - courlan.core - INFO - 31 links found – 27 valid links\u001b[0m\n",
      "\u001b[32m2024-08-13 12:28:11,617 - courlan.core - INFO - 31 links found – 27 valid links\u001b[0m\n",
      "\u001b[32m2024-08-13 12:28:11,617 - courlan.core - INFO - 31 links found – 27 valid links\u001b[0m\n",
      "\u001b[32m2024-08-13 12:28:11,617 - courlan.core - INFO - 31 links found – 27 valid links\u001b[0m\n",
      "\u001b[32m2024-08-13 12:28:11,617 - courlan.core - INFO - 31 links found – 27 valid links\u001b[0m\n",
      "\u001b[32m2024-08-13 12:28:11,617 - courlan.core - INFO - 31 links found – 27 valid links\u001b[0m\n",
      "\u001b[32m2024-08-13 12:28:12,818 - urllib3.poolmanager - INFO - Redirecting https://www.loopearplugs.com/products/engage1 -> https://www.loopearplugs.com/products/engage\u001b[0m\n",
      "\u001b[32m2024-08-13 12:28:12,818 - urllib3.poolmanager - INFO - Redirecting https://www.loopearplugs.com/products/engage1 -> https://www.loopearplugs.com/products/engage\u001b[0m\n",
      "\u001b[32m2024-08-13 12:28:12,818 - urllib3.poolmanager - INFO - Redirecting https://www.loopearplugs.com/products/engage1 -> https://www.loopearplugs.com/products/engage\u001b[0m\n",
      "\u001b[32m2024-08-13 12:28:12,818 - urllib3.poolmanager - INFO - Redirecting https://www.loopearplugs.com/products/engage1 -> https://www.loopearplugs.com/products/engage\u001b[0m\n",
      "\u001b[32m2024-08-13 12:28:12,818 - urllib3.poolmanager - INFO - Redirecting https://www.loopearplugs.com/products/engage1 -> https://www.loopearplugs.com/products/engage\u001b[0m\n",
      "\u001b[32m2024-08-13 12:28:12,818 - urllib3.poolmanager - INFO - Redirecting https://www.loopearplugs.com/products/engage1 -> https://www.loopearplugs.com/products/engage\u001b[0m\n",
      "\u001b[33m2024-08-13 12:28:14,167 - courlan.urlstore - WARNING - Discarding URL: /products/engage\u001b[0m\n",
      "\u001b[33m2024-08-13 12:28:14,167 - courlan.urlstore - WARNING - Discarding URL: /products/engage\u001b[0m\n",
      "\u001b[33m2024-08-13 12:28:14,167 - courlan.urlstore - WARNING - Discarding URL: /products/engage\u001b[0m\n",
      "\u001b[33m2024-08-13 12:28:14,167 - courlan.urlstore - WARNING - Discarding URL: /products/engage\u001b[0m\n",
      "\u001b[33m2024-08-13 12:28:14,167 - courlan.urlstore - WARNING - Discarding URL: /products/engage\u001b[0m\n",
      "\u001b[33m2024-08-13 12:28:14,167 - courlan.urlstore - WARNING - Discarding URL: /products/engage\u001b[0m\n",
      "\u001b[32m2024-08-13 12:28:14,179 - courlan.core - INFO - 38 links found – 24 valid links\u001b[0m\n",
      "\u001b[32m2024-08-13 12:28:14,179 - courlan.core - INFO - 38 links found – 24 valid links\u001b[0m\n",
      "\u001b[32m2024-08-13 12:28:14,179 - courlan.core - INFO - 38 links found – 24 valid links\u001b[0m\n",
      "\u001b[32m2024-08-13 12:28:14,179 - courlan.core - INFO - 38 links found – 24 valid links\u001b[0m\n",
      "\u001b[32m2024-08-13 12:28:14,179 - courlan.core - INFO - 38 links found – 24 valid links\u001b[0m\n",
      "\u001b[32m2024-08-13 12:28:14,179 - courlan.core - INFO - 38 links found – 24 valid links\u001b[0m\n",
      "\u001b[33m2024-08-13 12:28:15,368 - courlan.urlstore - WARNING - Discarding URL: /products/experience\u001b[0m\n",
      "\u001b[33m2024-08-13 12:28:15,368 - courlan.urlstore - WARNING - Discarding URL: /products/experience\u001b[0m\n",
      "\u001b[33m2024-08-13 12:28:15,368 - courlan.urlstore - WARNING - Discarding URL: /products/experience\u001b[0m\n",
      "\u001b[33m2024-08-13 12:28:15,368 - courlan.urlstore - WARNING - Discarding URL: /products/experience\u001b[0m\n",
      "\u001b[33m2024-08-13 12:28:15,368 - courlan.urlstore - WARNING - Discarding URL: /products/experience\u001b[0m\n",
      "\u001b[33m2024-08-13 12:28:15,368 - courlan.urlstore - WARNING - Discarding URL: /products/experience\u001b[0m\n",
      "\u001b[32m2024-08-13 12:28:15,374 - courlan.core - INFO - 40 links found – 25 valid links\u001b[0m\n",
      "\u001b[32m2024-08-13 12:28:15,374 - courlan.core - INFO - 40 links found – 25 valid links\u001b[0m\n",
      "\u001b[32m2024-08-13 12:28:15,374 - courlan.core - INFO - 40 links found – 25 valid links\u001b[0m\n",
      "\u001b[32m2024-08-13 12:28:15,374 - courlan.core - INFO - 40 links found – 25 valid links\u001b[0m\n",
      "\u001b[32m2024-08-13 12:28:15,374 - courlan.core - INFO - 40 links found – 25 valid links\u001b[0m\n",
      "\u001b[32m2024-08-13 12:28:15,374 - courlan.core - INFO - 40 links found – 25 valid links\u001b[0m\n",
      "\u001b[33m2024-08-13 12:28:17,653 - courlan.urlstore - WARNING - Discarding URL: /learnMoreURL%28product%29\u001b[0m\n",
      "\u001b[33m2024-08-13 12:28:17,653 - courlan.urlstore - WARNING - Discarding URL: /learnMoreURL%28product%29\u001b[0m\n",
      "\u001b[33m2024-08-13 12:28:17,653 - courlan.urlstore - WARNING - Discarding URL: /learnMoreURL%28product%29\u001b[0m\n",
      "\u001b[33m2024-08-13 12:28:17,653 - courlan.urlstore - WARNING - Discarding URL: /learnMoreURL%28product%29\u001b[0m\n",
      "\u001b[33m2024-08-13 12:28:17,653 - courlan.urlstore - WARNING - Discarding URL: /learnMoreURL%28product%29\u001b[0m\n",
      "\u001b[33m2024-08-13 12:28:17,653 - courlan.urlstore - WARNING - Discarding URL: /learnMoreURL%28product%29\u001b[0m\n",
      "\u001b[32m2024-08-13 12:28:17,665 - courlan.core - INFO - 26 links found – 23 valid links\u001b[0m\n",
      "\u001b[32m2024-08-13 12:28:17,665 - courlan.core - INFO - 26 links found – 23 valid links\u001b[0m\n",
      "\u001b[32m2024-08-13 12:28:17,665 - courlan.core - INFO - 26 links found – 23 valid links\u001b[0m\n",
      "\u001b[32m2024-08-13 12:28:17,665 - courlan.core - INFO - 26 links found – 23 valid links\u001b[0m\n",
      "\u001b[32m2024-08-13 12:28:17,665 - courlan.core - INFO - 26 links found – 23 valid links\u001b[0m\n",
      "\u001b[32m2024-08-13 12:28:17,665 - courlan.core - INFO - 26 links found – 23 valid links\u001b[0m\n",
      "\u001b[33m2024-08-13 12:28:19,752 - courlan.urlstore - WARNING - Discarding URL: /pages/quiz\u001b[0m\n",
      "\u001b[33m2024-08-13 12:28:19,752 - courlan.urlstore - WARNING - Discarding URL: /pages/quiz\u001b[0m\n",
      "\u001b[33m2024-08-13 12:28:19,752 - courlan.urlstore - WARNING - Discarding URL: /pages/quiz\u001b[0m\n",
      "\u001b[33m2024-08-13 12:28:19,752 - courlan.urlstore - WARNING - Discarding URL: /pages/quiz\u001b[0m\n",
      "\u001b[33m2024-08-13 12:28:19,752 - courlan.urlstore - WARNING - Discarding URL: /pages/quiz\u001b[0m\n",
      "\u001b[33m2024-08-13 12:28:19,752 - courlan.urlstore - WARNING - Discarding URL: /pages/quiz\u001b[0m\n",
      "\u001b[32m2024-08-13 12:28:19,764 - courlan.core - INFO - 26 links found – 23 valid links\u001b[0m\n",
      "\u001b[32m2024-08-13 12:28:19,764 - courlan.core - INFO - 26 links found – 23 valid links\u001b[0m\n",
      "\u001b[32m2024-08-13 12:28:19,764 - courlan.core - INFO - 26 links found – 23 valid links\u001b[0m\n",
      "\u001b[32m2024-08-13 12:28:19,764 - courlan.core - INFO - 26 links found – 23 valid links\u001b[0m\n",
      "\u001b[32m2024-08-13 12:28:19,764 - courlan.core - INFO - 26 links found – 23 valid links\u001b[0m\n",
      "\u001b[32m2024-08-13 12:28:19,764 - courlan.core - INFO - 26 links found – 23 valid links\u001b[0m\n",
      "\u001b[33m2024-08-13 12:28:20,959 - courlan.urlstore - WARNING - Discarding URL: /collections/bundles\u001b[0m\n",
      "\u001b[33m2024-08-13 12:28:20,959 - courlan.urlstore - WARNING - Discarding URL: /collections/bundles\u001b[0m\n",
      "\u001b[33m2024-08-13 12:28:20,959 - courlan.urlstore - WARNING - Discarding URL: /collections/bundles\u001b[0m\n",
      "\u001b[33m2024-08-13 12:28:20,959 - courlan.urlstore - WARNING - Discarding URL: /collections/bundles\u001b[0m\n",
      "\u001b[33m2024-08-13 12:28:20,959 - courlan.urlstore - WARNING - Discarding URL: /collections/bundles\u001b[0m\n",
      "\u001b[33m2024-08-13 12:28:20,959 - courlan.urlstore - WARNING - Discarding URL: /collections/bundles\u001b[0m\n",
      "\u001b[32m2024-08-13 12:28:20,972 - courlan.core - INFO - 29 links found – 26 valid links\u001b[0m\n",
      "\u001b[32m2024-08-13 12:28:20,972 - courlan.core - INFO - 29 links found – 26 valid links\u001b[0m\n",
      "\u001b[32m2024-08-13 12:28:20,972 - courlan.core - INFO - 29 links found – 26 valid links\u001b[0m\n",
      "\u001b[32m2024-08-13 12:28:20,972 - courlan.core - INFO - 29 links found – 26 valid links\u001b[0m\n",
      "\u001b[32m2024-08-13 12:28:20,972 - courlan.core - INFO - 29 links found – 26 valid links\u001b[0m\n",
      "\u001b[32m2024-08-13 12:28:20,972 - courlan.core - INFO - 29 links found – 26 valid links\u001b[0m\n",
      "\u001b[33m2024-08-13 12:28:22,162 - courlan.urlstore - WARNING - Discarding URL: /products/switch\u001b[0m\n",
      "\u001b[33m2024-08-13 12:28:22,162 - courlan.urlstore - WARNING - Discarding URL: /products/switch\u001b[0m\n",
      "\u001b[33m2024-08-13 12:28:22,162 - courlan.urlstore - WARNING - Discarding URL: /products/switch\u001b[0m\n",
      "\u001b[33m2024-08-13 12:28:22,162 - courlan.urlstore - WARNING - Discarding URL: /products/switch\u001b[0m\n",
      "\u001b[33m2024-08-13 12:28:22,162 - courlan.urlstore - WARNING - Discarding URL: /products/switch\u001b[0m\n",
      "\u001b[33m2024-08-13 12:28:22,162 - courlan.urlstore - WARNING - Discarding URL: /products/switch\u001b[0m\n",
      "\u001b[32m2024-08-13 12:28:22,169 - courlan.core - INFO - 43 links found – 26 valid links\u001b[0m\n",
      "\u001b[32m2024-08-13 12:28:22,169 - courlan.core - INFO - 43 links found – 26 valid links\u001b[0m\n",
      "\u001b[32m2024-08-13 12:28:22,169 - courlan.core - INFO - 43 links found – 26 valid links\u001b[0m\n",
      "\u001b[32m2024-08-13 12:28:22,169 - courlan.core - INFO - 43 links found – 26 valid links\u001b[0m\n",
      "\u001b[32m2024-08-13 12:28:22,169 - courlan.core - INFO - 43 links found – 26 valid links\u001b[0m\n",
      "\u001b[32m2024-08-13 12:28:22,169 - courlan.core - INFO - 43 links found – 26 valid links\u001b[0m\n",
      "\u001b[33m2024-08-13 12:28:23,744 - courlan.urlstore - WARNING - Discarding URL: /itemURL%28item%29\u001b[0m\n",
      "\u001b[33m2024-08-13 12:28:23,744 - courlan.urlstore - WARNING - Discarding URL: /itemURL%28item%29\u001b[0m\n",
      "\u001b[33m2024-08-13 12:28:23,744 - courlan.urlstore - WARNING - Discarding URL: /itemURL%28item%29\u001b[0m\n",
      "\u001b[33m2024-08-13 12:28:23,744 - courlan.urlstore - WARNING - Discarding URL: /itemURL%28item%29\u001b[0m\n",
      "\u001b[33m2024-08-13 12:28:23,744 - courlan.urlstore - WARNING - Discarding URL: /itemURL%28item%29\u001b[0m\n",
      "\u001b[33m2024-08-13 12:28:23,744 - courlan.urlstore - WARNING - Discarding URL: /itemURL%28item%29\u001b[0m\n",
      "\u001b[32m2024-08-13 12:28:23,753 - courlan.core - INFO - 26 links found – 23 valid links\u001b[0m\n",
      "\u001b[32m2024-08-13 12:28:23,753 - courlan.core - INFO - 26 links found – 23 valid links\u001b[0m\n",
      "\u001b[32m2024-08-13 12:28:23,753 - courlan.core - INFO - 26 links found – 23 valid links\u001b[0m\n",
      "\u001b[32m2024-08-13 12:28:23,753 - courlan.core - INFO - 26 links found – 23 valid links\u001b[0m\n",
      "\u001b[32m2024-08-13 12:28:23,753 - courlan.core - INFO - 26 links found – 23 valid links\u001b[0m\n",
      "\u001b[32m2024-08-13 12:28:23,753 - courlan.core - INFO - 26 links found – 23 valid links\u001b[0m\n",
      "\u001b[33m2024-08-13 12:28:25,923 - courlan.urlstore - WARNING - Discarding URL: /pages/returns\u001b[0m\n",
      "\u001b[33m2024-08-13 12:28:25,923 - courlan.urlstore - WARNING - Discarding URL: /pages/returns\u001b[0m\n",
      "\u001b[33m2024-08-13 12:28:25,923 - courlan.urlstore - WARNING - Discarding URL: /pages/returns\u001b[0m\n",
      "\u001b[33m2024-08-13 12:28:25,923 - courlan.urlstore - WARNING - Discarding URL: /pages/returns\u001b[0m\n",
      "\u001b[33m2024-08-13 12:28:25,923 - courlan.urlstore - WARNING - Discarding URL: /pages/returns\u001b[0m\n",
      "\u001b[33m2024-08-13 12:28:25,923 - courlan.urlstore - WARNING - Discarding URL: /pages/returns\u001b[0m\n",
      "\u001b[32m2024-08-13 12:28:25,935 - courlan.core - INFO - 28 links found – 24 valid links\u001b[0m\n",
      "\u001b[32m2024-08-13 12:28:25,935 - courlan.core - INFO - 28 links found – 24 valid links\u001b[0m\n",
      "\u001b[32m2024-08-13 12:28:25,935 - courlan.core - INFO - 28 links found – 24 valid links\u001b[0m\n",
      "\u001b[32m2024-08-13 12:28:25,935 - courlan.core - INFO - 28 links found – 24 valid links\u001b[0m\n",
      "\u001b[32m2024-08-13 12:28:25,935 - courlan.core - INFO - 28 links found – 24 valid links\u001b[0m\n",
      "\u001b[32m2024-08-13 12:28:25,935 - courlan.core - INFO - 28 links found – 24 valid links\u001b[0m\n",
      "\u001b[33m2024-08-13 12:28:27,128 - courlan.urlstore - WARNING - Discarding URL: /products/quiet\u001b[0m\n",
      "\u001b[33m2024-08-13 12:28:27,128 - courlan.urlstore - WARNING - Discarding URL: /products/quiet\u001b[0m\n",
      "\u001b[33m2024-08-13 12:28:27,128 - courlan.urlstore - WARNING - Discarding URL: /products/quiet\u001b[0m\n",
      "\u001b[33m2024-08-13 12:28:27,128 - courlan.urlstore - WARNING - Discarding URL: /products/quiet\u001b[0m\n",
      "\u001b[33m2024-08-13 12:28:27,128 - courlan.urlstore - WARNING - Discarding URL: /products/quiet\u001b[0m\n",
      "\u001b[33m2024-08-13 12:28:27,128 - courlan.urlstore - WARNING - Discarding URL: /products/quiet\u001b[0m\n",
      "\u001b[32m2024-08-13 12:28:27,135 - courlan.core - INFO - 38 links found – 24 valid links\u001b[0m\n",
      "\u001b[32m2024-08-13 12:28:27,135 - courlan.core - INFO - 38 links found – 24 valid links\u001b[0m\n",
      "\u001b[32m2024-08-13 12:28:27,135 - courlan.core - INFO - 38 links found – 24 valid links\u001b[0m\n",
      "\u001b[32m2024-08-13 12:28:27,135 - courlan.core - INFO - 38 links found – 24 valid links\u001b[0m\n",
      "\u001b[32m2024-08-13 12:28:27,135 - courlan.core - INFO - 38 links found – 24 valid links\u001b[0m\n",
      "\u001b[32m2024-08-13 12:28:27,135 - courlan.core - INFO - 38 links found – 24 valid links\u001b[0m\n",
      "\u001b[33m2024-08-13 12:28:29,224 - courlan.urlstore - WARNING - Discarding URL: /pages/compare-loop-earplugs\u001b[0m\n",
      "\u001b[33m2024-08-13 12:28:29,224 - courlan.urlstore - WARNING - Discarding URL: /pages/compare-loop-earplugs\u001b[0m\n",
      "\u001b[33m2024-08-13 12:28:29,224 - courlan.urlstore - WARNING - Discarding URL: /pages/compare-loop-earplugs\u001b[0m\n",
      "\u001b[33m2024-08-13 12:28:29,224 - courlan.urlstore - WARNING - Discarding URL: /pages/compare-loop-earplugs\u001b[0m\n",
      "\u001b[33m2024-08-13 12:28:29,224 - courlan.urlstore - WARNING - Discarding URL: /pages/compare-loop-earplugs\u001b[0m\n",
      "\u001b[33m2024-08-13 12:28:29,224 - courlan.urlstore - WARNING - Discarding URL: /pages/compare-loop-earplugs\u001b[0m\n",
      "\u001b[32m2024-08-13 12:28:29,231 - courlan.core - INFO - 26 links found – 23 valid links\u001b[0m\n",
      "\u001b[32m2024-08-13 12:28:29,231 - courlan.core - INFO - 26 links found – 23 valid links\u001b[0m\n",
      "\u001b[32m2024-08-13 12:28:29,231 - courlan.core - INFO - 26 links found – 23 valid links\u001b[0m\n",
      "\u001b[32m2024-08-13 12:28:29,231 - courlan.core - INFO - 26 links found – 23 valid links\u001b[0m\n",
      "\u001b[32m2024-08-13 12:28:29,231 - courlan.core - INFO - 26 links found – 23 valid links\u001b[0m\n",
      "\u001b[32m2024-08-13 12:28:29,231 - courlan.core - INFO - 26 links found – 23 valid links\u001b[0m\n",
      "\u001b[33m2024-08-13 12:28:31,979 - courlan.urlstore - WARNING - Discarding URL: /blogs/blog\u001b[0m\n",
      "\u001b[33m2024-08-13 12:28:31,979 - courlan.urlstore - WARNING - Discarding URL: /blogs/blog\u001b[0m\n",
      "\u001b[33m2024-08-13 12:28:31,979 - courlan.urlstore - WARNING - Discarding URL: /blogs/blog\u001b[0m\n",
      "\u001b[33m2024-08-13 12:28:31,979 - courlan.urlstore - WARNING - Discarding URL: /blogs/blog\u001b[0m\n",
      "\u001b[33m2024-08-13 12:28:31,979 - courlan.urlstore - WARNING - Discarding URL: /blogs/blog\u001b[0m\n",
      "\u001b[33m2024-08-13 12:28:31,979 - courlan.urlstore - WARNING - Discarding URL: /blogs/blog\u001b[0m\n",
      "\u001b[32m2024-08-13 12:28:31,988 - courlan.core - INFO - 215 links found – 212 valid links\u001b[0m\n",
      "\u001b[32m2024-08-13 12:28:31,988 - courlan.core - INFO - 215 links found – 212 valid links\u001b[0m\n",
      "\u001b[32m2024-08-13 12:28:31,988 - courlan.core - INFO - 215 links found – 212 valid links\u001b[0m\n",
      "\u001b[32m2024-08-13 12:28:31,988 - courlan.core - INFO - 215 links found – 212 valid links\u001b[0m\n",
      "\u001b[32m2024-08-13 12:28:31,988 - courlan.core - INFO - 215 links found – 212 valid links\u001b[0m\n",
      "\u001b[32m2024-08-13 12:28:31,988 - courlan.core - INFO - 215 links found – 212 valid links\u001b[0m\n",
      "\u001b[33m2024-08-13 12:28:33,182 - courlan.urlstore - WARNING - Discarding URL: /products/engage\u001b[0m\n",
      "\u001b[33m2024-08-13 12:28:33,182 - courlan.urlstore - WARNING - Discarding URL: /products/engage\u001b[0m\n",
      "\u001b[33m2024-08-13 12:28:33,182 - courlan.urlstore - WARNING - Discarding URL: /products/engage\u001b[0m\n",
      "\u001b[33m2024-08-13 12:28:33,182 - courlan.urlstore - WARNING - Discarding URL: /products/engage\u001b[0m\n",
      "\u001b[33m2024-08-13 12:28:33,182 - courlan.urlstore - WARNING - Discarding URL: /products/engage\u001b[0m\n",
      "\u001b[33m2024-08-13 12:28:33,182 - courlan.urlstore - WARNING - Discarding URL: /products/engage\u001b[0m\n",
      "\u001b[32m2024-08-13 12:28:33,187 - courlan.core - INFO - 38 links found – 24 valid links\u001b[0m\n",
      "\u001b[32m2024-08-13 12:28:33,187 - courlan.core - INFO - 38 links found – 24 valid links\u001b[0m\n",
      "\u001b[32m2024-08-13 12:28:33,187 - courlan.core - INFO - 38 links found – 24 valid links\u001b[0m\n",
      "\u001b[32m2024-08-13 12:28:33,187 - courlan.core - INFO - 38 links found – 24 valid links\u001b[0m\n",
      "\u001b[32m2024-08-13 12:28:33,187 - courlan.core - INFO - 38 links found – 24 valid links\u001b[0m\n",
      "\u001b[32m2024-08-13 12:28:33,187 - courlan.core - INFO - 38 links found – 24 valid links\u001b[0m\n",
      "\u001b[33m2024-08-13 12:28:35,526 - courlan.urlstore - WARNING - Discarding URL: /pages/cookie-policy\u001b[0m\n",
      "\u001b[33m2024-08-13 12:28:35,526 - courlan.urlstore - WARNING - Discarding URL: /pages/cookie-policy\u001b[0m\n",
      "\u001b[33m2024-08-13 12:28:35,526 - courlan.urlstore - WARNING - Discarding URL: /pages/cookie-policy\u001b[0m\n",
      "\u001b[33m2024-08-13 12:28:35,526 - courlan.urlstore - WARNING - Discarding URL: /pages/cookie-policy\u001b[0m\n",
      "\u001b[33m2024-08-13 12:28:35,526 - courlan.urlstore - WARNING - Discarding URL: /pages/cookie-policy\u001b[0m\n",
      "\u001b[33m2024-08-13 12:28:35,526 - courlan.urlstore - WARNING - Discarding URL: /pages/cookie-policy\u001b[0m\n",
      "\u001b[32m2024-08-13 12:28:35,531 - courlan.core - INFO - 37 links found – 24 valid links\u001b[0m\n",
      "\u001b[32m2024-08-13 12:28:35,531 - courlan.core - INFO - 37 links found – 24 valid links\u001b[0m\n",
      "\u001b[32m2024-08-13 12:28:35,531 - courlan.core - INFO - 37 links found – 24 valid links\u001b[0m\n",
      "\u001b[32m2024-08-13 12:28:35,531 - courlan.core - INFO - 37 links found – 24 valid links\u001b[0m\n",
      "\u001b[32m2024-08-13 12:28:35,531 - courlan.core - INFO - 37 links found – 24 valid links\u001b[0m\n",
      "\u001b[32m2024-08-13 12:28:35,531 - courlan.core - INFO - 37 links found – 24 valid links\u001b[0m\n",
      "\u001b[33m2024-08-13 12:28:37,689 - courlan.urlstore - WARNING - Discarding URL: /pages/start\u001b[0m\n",
      "\u001b[33m2024-08-13 12:28:37,689 - courlan.urlstore - WARNING - Discarding URL: /pages/start\u001b[0m\n",
      "\u001b[33m2024-08-13 12:28:37,689 - courlan.urlstore - WARNING - Discarding URL: /pages/start\u001b[0m\n",
      "\u001b[33m2024-08-13 12:28:37,689 - courlan.urlstore - WARNING - Discarding URL: /pages/start\u001b[0m\n",
      "\u001b[33m2024-08-13 12:28:37,689 - courlan.urlstore - WARNING - Discarding URL: /pages/start\u001b[0m\n",
      "\u001b[33m2024-08-13 12:28:37,689 - courlan.urlstore - WARNING - Discarding URL: /pages/start\u001b[0m\n",
      "\u001b[32m2024-08-13 12:28:37,700 - courlan.core - INFO - 26 links found – 23 valid links\u001b[0m\n",
      "\u001b[32m2024-08-13 12:28:37,700 - courlan.core - INFO - 26 links found – 23 valid links\u001b[0m\n",
      "\u001b[32m2024-08-13 12:28:37,700 - courlan.core - INFO - 26 links found – 23 valid links\u001b[0m\n",
      "\u001b[32m2024-08-13 12:28:37,700 - courlan.core - INFO - 26 links found – 23 valid links\u001b[0m\n",
      "\u001b[32m2024-08-13 12:28:37,700 - courlan.core - INFO - 26 links found – 23 valid links\u001b[0m\n",
      "\u001b[32m2024-08-13 12:28:37,700 - courlan.core - INFO - 26 links found – 23 valid links\u001b[0m\n",
      "\u001b[32m2024-08-13 12:28:38,885 - urllib3.poolmanager - INFO - Redirecting https://www.loopearplugs.com/products/engage-plus1 -> https://www.loopearplugs.com/products/engage-plus\u001b[0m\n",
      "\u001b[32m2024-08-13 12:28:38,885 - urllib3.poolmanager - INFO - Redirecting https://www.loopearplugs.com/products/engage-plus1 -> https://www.loopearplugs.com/products/engage-plus\u001b[0m\n",
      "\u001b[32m2024-08-13 12:28:38,885 - urllib3.poolmanager - INFO - Redirecting https://www.loopearplugs.com/products/engage-plus1 -> https://www.loopearplugs.com/products/engage-plus\u001b[0m\n",
      "\u001b[32m2024-08-13 12:28:38,885 - urllib3.poolmanager - INFO - Redirecting https://www.loopearplugs.com/products/engage-plus1 -> https://www.loopearplugs.com/products/engage-plus\u001b[0m\n",
      "\u001b[32m2024-08-13 12:28:38,885 - urllib3.poolmanager - INFO - Redirecting https://www.loopearplugs.com/products/engage-plus1 -> https://www.loopearplugs.com/products/engage-plus\u001b[0m\n",
      "\u001b[32m2024-08-13 12:28:38,885 - urllib3.poolmanager - INFO - Redirecting https://www.loopearplugs.com/products/engage-plus1 -> https://www.loopearplugs.com/products/engage-plus\u001b[0m\n",
      "\u001b[33m2024-08-13 12:28:39,073 - courlan.urlstore - WARNING - Discarding URL: /products/engage-plus\u001b[0m\n",
      "\u001b[33m2024-08-13 12:28:39,073 - courlan.urlstore - WARNING - Discarding URL: /products/engage-plus\u001b[0m\n",
      "\u001b[33m2024-08-13 12:28:39,073 - courlan.urlstore - WARNING - Discarding URL: /products/engage-plus\u001b[0m\n",
      "\u001b[33m2024-08-13 12:28:39,073 - courlan.urlstore - WARNING - Discarding URL: /products/engage-plus\u001b[0m\n",
      "\u001b[33m2024-08-13 12:28:39,073 - courlan.urlstore - WARNING - Discarding URL: /products/engage-plus\u001b[0m\n",
      "\u001b[33m2024-08-13 12:28:39,073 - courlan.urlstore - WARNING - Discarding URL: /products/engage-plus\u001b[0m\n",
      "\u001b[32m2024-08-13 12:28:39,083 - courlan.core - INFO - 36 links found – 24 valid links\u001b[0m\n",
      "\u001b[32m2024-08-13 12:28:39,083 - courlan.core - INFO - 36 links found – 24 valid links\u001b[0m\n",
      "\u001b[32m2024-08-13 12:28:39,083 - courlan.core - INFO - 36 links found – 24 valid links\u001b[0m\n",
      "\u001b[32m2024-08-13 12:28:39,083 - courlan.core - INFO - 36 links found – 24 valid links\u001b[0m\n",
      "\u001b[32m2024-08-13 12:28:39,083 - courlan.core - INFO - 36 links found – 24 valid links\u001b[0m\n",
      "\u001b[32m2024-08-13 12:28:39,083 - courlan.core - INFO - 36 links found – 24 valid links\u001b[0m\n",
      "\u001b[32m2024-08-13 12:28:40,274 - urllib3.poolmanager - INFO - Redirecting https://www.loopearplugs.com/products/experience-plus1 -> https://www.loopearplugs.com/products/experience-plus\u001b[0m\n",
      "\u001b[32m2024-08-13 12:28:40,274 - urllib3.poolmanager - INFO - Redirecting https://www.loopearplugs.com/products/experience-plus1 -> https://www.loopearplugs.com/products/experience-plus\u001b[0m\n",
      "\u001b[32m2024-08-13 12:28:40,274 - urllib3.poolmanager - INFO - Redirecting https://www.loopearplugs.com/products/experience-plus1 -> https://www.loopearplugs.com/products/experience-plus\u001b[0m\n",
      "\u001b[32m2024-08-13 12:28:40,274 - urllib3.poolmanager - INFO - Redirecting https://www.loopearplugs.com/products/experience-plus1 -> https://www.loopearplugs.com/products/experience-plus\u001b[0m\n",
      "\u001b[32m2024-08-13 12:28:40,274 - urllib3.poolmanager - INFO - Redirecting https://www.loopearplugs.com/products/experience-plus1 -> https://www.loopearplugs.com/products/experience-plus\u001b[0m\n",
      "\u001b[32m2024-08-13 12:28:40,274 - urllib3.poolmanager - INFO - Redirecting https://www.loopearplugs.com/products/experience-plus1 -> https://www.loopearplugs.com/products/experience-plus\u001b[0m\n",
      "\u001b[33m2024-08-13 12:28:40,473 - courlan.urlstore - WARNING - Discarding URL: /products/experience-plus\u001b[0m\n",
      "\u001b[33m2024-08-13 12:28:40,473 - courlan.urlstore - WARNING - Discarding URL: /products/experience-plus\u001b[0m\n",
      "\u001b[33m2024-08-13 12:28:40,473 - courlan.urlstore - WARNING - Discarding URL: /products/experience-plus\u001b[0m\n",
      "\u001b[33m2024-08-13 12:28:40,473 - courlan.urlstore - WARNING - Discarding URL: /products/experience-plus\u001b[0m\n",
      "\u001b[33m2024-08-13 12:28:40,473 - courlan.urlstore - WARNING - Discarding URL: /products/experience-plus\u001b[0m\n",
      "\u001b[33m2024-08-13 12:28:40,473 - courlan.urlstore - WARNING - Discarding URL: /products/experience-plus\u001b[0m\n",
      "\u001b[32m2024-08-13 12:28:40,483 - courlan.core - INFO - 36 links found – 24 valid links\u001b[0m\n",
      "\u001b[32m2024-08-13 12:28:40,483 - courlan.core - INFO - 36 links found – 24 valid links\u001b[0m\n",
      "\u001b[32m2024-08-13 12:28:40,483 - courlan.core - INFO - 36 links found – 24 valid links\u001b[0m\n",
      "\u001b[32m2024-08-13 12:28:40,483 - courlan.core - INFO - 36 links found – 24 valid links\u001b[0m\n",
      "\u001b[32m2024-08-13 12:28:40,483 - courlan.core - INFO - 36 links found – 24 valid links\u001b[0m\n",
      "\u001b[32m2024-08-13 12:28:40,483 - courlan.core - INFO - 36 links found – 24 valid links\u001b[0m\n",
      "\u001b[33m2024-08-13 12:28:42,822 - courlan.urlstore - WARNING - Discarding URL: /%5C\u001b[0m\n",
      "\u001b[33m2024-08-13 12:28:42,822 - courlan.urlstore - WARNING - Discarding URL: /%5C\u001b[0m\n",
      "\u001b[33m2024-08-13 12:28:42,822 - courlan.urlstore - WARNING - Discarding URL: /%5C\u001b[0m\n",
      "\u001b[33m2024-08-13 12:28:42,822 - courlan.urlstore - WARNING - Discarding URL: /%5C\u001b[0m\n",
      "\u001b[33m2024-08-13 12:28:42,822 - courlan.urlstore - WARNING - Discarding URL: /%5C\u001b[0m\n",
      "\u001b[33m2024-08-13 12:28:42,822 - courlan.urlstore - WARNING - Discarding URL: /%5C\u001b[0m\n",
      "\u001b[32m2024-08-13 12:28:42,827 - courlan.core - INFO - 26 links found – 23 valid links\u001b[0m\n",
      "\u001b[32m2024-08-13 12:28:42,827 - courlan.core - INFO - 26 links found – 23 valid links\u001b[0m\n",
      "\u001b[32m2024-08-13 12:28:42,827 - courlan.core - INFO - 26 links found – 23 valid links\u001b[0m\n",
      "\u001b[32m2024-08-13 12:28:42,827 - courlan.core - INFO - 26 links found – 23 valid links\u001b[0m\n",
      "\u001b[32m2024-08-13 12:28:42,827 - courlan.core - INFO - 26 links found – 23 valid links\u001b[0m\n",
      "\u001b[32m2024-08-13 12:28:42,827 - courlan.core - INFO - 26 links found – 23 valid links\u001b[0m\n",
      "\u001b[33m2024-08-13 12:28:45,200 - courlan.urlstore - WARNING - Discarding URL: /products/engage-kids\u001b[0m\n",
      "\u001b[33m2024-08-13 12:28:45,200 - courlan.urlstore - WARNING - Discarding URL: /products/engage-kids\u001b[0m\n",
      "\u001b[33m2024-08-13 12:28:45,200 - courlan.urlstore - WARNING - Discarding URL: /products/engage-kids\u001b[0m\n",
      "\u001b[33m2024-08-13 12:28:45,200 - courlan.urlstore - WARNING - Discarding URL: /products/engage-kids\u001b[0m\n",
      "\u001b[33m2024-08-13 12:28:45,200 - courlan.urlstore - WARNING - Discarding URL: /products/engage-kids\u001b[0m\n",
      "\u001b[33m2024-08-13 12:28:45,200 - courlan.urlstore - WARNING - Discarding URL: /products/engage-kids\u001b[0m\n",
      "\u001b[32m2024-08-13 12:28:45,214 - courlan.core - INFO - 34 links found – 24 valid links\u001b[0m\n",
      "\u001b[32m2024-08-13 12:28:45,214 - courlan.core - INFO - 34 links found – 24 valid links\u001b[0m\n",
      "\u001b[32m2024-08-13 12:28:45,214 - courlan.core - INFO - 34 links found – 24 valid links\u001b[0m\n",
      "\u001b[32m2024-08-13 12:28:45,214 - courlan.core - INFO - 34 links found – 24 valid links\u001b[0m\n",
      "\u001b[32m2024-08-13 12:28:45,214 - courlan.core - INFO - 34 links found – 24 valid links\u001b[0m\n",
      "\u001b[32m2024-08-13 12:28:45,214 - courlan.core - INFO - 34 links found – 24 valid links\u001b[0m\n",
      "\u001b[33m2024-08-13 12:28:47,325 - courlan.urlstore - WARNING - Discarding URL: /pages/community\u001b[0m\n",
      "\u001b[33m2024-08-13 12:28:47,325 - courlan.urlstore - WARNING - Discarding URL: /pages/community\u001b[0m\n",
      "\u001b[33m2024-08-13 12:28:47,325 - courlan.urlstore - WARNING - Discarding URL: /pages/community\u001b[0m\n",
      "\u001b[33m2024-08-13 12:28:47,325 - courlan.urlstore - WARNING - Discarding URL: /pages/community\u001b[0m\n",
      "\u001b[33m2024-08-13 12:28:47,325 - courlan.urlstore - WARNING - Discarding URL: /pages/community\u001b[0m\n",
      "\u001b[33m2024-08-13 12:28:47,325 - courlan.urlstore - WARNING - Discarding URL: /pages/community\u001b[0m\n",
      "\u001b[32m2024-08-13 12:28:47,332 - courlan.core - INFO - 27 links found – 23 valid links\u001b[0m\n",
      "\u001b[32m2024-08-13 12:28:47,332 - courlan.core - INFO - 27 links found – 23 valid links\u001b[0m\n",
      "\u001b[32m2024-08-13 12:28:47,332 - courlan.core - INFO - 27 links found – 23 valid links\u001b[0m\n",
      "\u001b[32m2024-08-13 12:28:47,332 - courlan.core - INFO - 27 links found – 23 valid links\u001b[0m\n",
      "\u001b[32m2024-08-13 12:28:47,332 - courlan.core - INFO - 27 links found – 23 valid links\u001b[0m\n",
      "\u001b[32m2024-08-13 12:28:47,332 - courlan.core - INFO - 27 links found – 23 valid links\u001b[0m\n",
      "\u001b[33m2024-08-13 12:28:49,432 - courlan.urlstore - WARNING - Discarding URL: /pages/earplugs-for-sleeping\u001b[0m\n",
      "\u001b[33m2024-08-13 12:28:49,432 - courlan.urlstore - WARNING - Discarding URL: /pages/earplugs-for-sleeping\u001b[0m\n",
      "\u001b[33m2024-08-13 12:28:49,432 - courlan.urlstore - WARNING - Discarding URL: /pages/earplugs-for-sleeping\u001b[0m\n",
      "\u001b[33m2024-08-13 12:28:49,432 - courlan.urlstore - WARNING - Discarding URL: /pages/earplugs-for-sleeping\u001b[0m\n",
      "\u001b[33m2024-08-13 12:28:49,432 - courlan.urlstore - WARNING - Discarding URL: /pages/earplugs-for-sleeping\u001b[0m\n",
      "\u001b[33m2024-08-13 12:28:49,432 - courlan.urlstore - WARNING - Discarding URL: /pages/earplugs-for-sleeping\u001b[0m\n",
      "\u001b[32m2024-08-13 12:28:49,443 - courlan.core - INFO - 33 links found – 27 valid links\u001b[0m\n",
      "\u001b[32m2024-08-13 12:28:49,443 - courlan.core - INFO - 33 links found – 27 valid links\u001b[0m\n",
      "\u001b[32m2024-08-13 12:28:49,443 - courlan.core - INFO - 33 links found – 27 valid links\u001b[0m\n",
      "\u001b[32m2024-08-13 12:28:49,443 - courlan.core - INFO - 33 links found – 27 valid links\u001b[0m\n",
      "\u001b[32m2024-08-13 12:28:49,443 - courlan.core - INFO - 33 links found – 27 valid links\u001b[0m\n",
      "\u001b[32m2024-08-13 12:28:49,443 - courlan.core - INFO - 33 links found – 27 valid links\u001b[0m\n",
      "\u001b[33m2024-08-13 12:28:51,543 - courlan.urlstore - WARNING - Discarding URL: /products/tomorrowland\u001b[0m\n",
      "\u001b[33m2024-08-13 12:28:51,543 - courlan.urlstore - WARNING - Discarding URL: /products/tomorrowland\u001b[0m\n",
      "\u001b[33m2024-08-13 12:28:51,543 - courlan.urlstore - WARNING - Discarding URL: /products/tomorrowland\u001b[0m\n",
      "\u001b[33m2024-08-13 12:28:51,543 - courlan.urlstore - WARNING - Discarding URL: /products/tomorrowland\u001b[0m\n",
      "\u001b[33m2024-08-13 12:28:51,543 - courlan.urlstore - WARNING - Discarding URL: /products/tomorrowland\u001b[0m\n",
      "\u001b[33m2024-08-13 12:28:51,543 - courlan.urlstore - WARNING - Discarding URL: /products/tomorrowland\u001b[0m\n",
      "\u001b[32m2024-08-13 12:28:51,554 - courlan.core - INFO - 77 links found – 42 valid links\u001b[0m\n",
      "\u001b[32m2024-08-13 12:28:51,554 - courlan.core - INFO - 77 links found – 42 valid links\u001b[0m\n",
      "\u001b[32m2024-08-13 12:28:51,554 - courlan.core - INFO - 77 links found – 42 valid links\u001b[0m\n",
      "\u001b[32m2024-08-13 12:28:51,554 - courlan.core - INFO - 77 links found – 42 valid links\u001b[0m\n",
      "\u001b[32m2024-08-13 12:28:51,554 - courlan.core - INFO - 77 links found – 42 valid links\u001b[0m\n",
      "\u001b[32m2024-08-13 12:28:51,554 - courlan.core - INFO - 77 links found – 42 valid links\u001b[0m\n",
      "\u001b[33m2024-08-13 12:28:52,744 - courlan.urlstore - WARNING - Discarding URL: /collections/best-sellers\u001b[0m\n",
      "\u001b[33m2024-08-13 12:28:52,744 - courlan.urlstore - WARNING - Discarding URL: /collections/best-sellers\u001b[0m\n",
      "\u001b[33m2024-08-13 12:28:52,744 - courlan.urlstore - WARNING - Discarding URL: /collections/best-sellers\u001b[0m\n",
      "\u001b[33m2024-08-13 12:28:52,744 - courlan.urlstore - WARNING - Discarding URL: /collections/best-sellers\u001b[0m\n",
      "\u001b[33m2024-08-13 12:28:52,744 - courlan.urlstore - WARNING - Discarding URL: /collections/best-sellers\u001b[0m\n",
      "\u001b[33m2024-08-13 12:28:52,744 - courlan.urlstore - WARNING - Discarding URL: /collections/best-sellers\u001b[0m\n",
      "\u001b[32m2024-08-13 12:28:52,752 - courlan.core - INFO - 29 links found – 26 valid links\u001b[0m\n",
      "\u001b[32m2024-08-13 12:28:52,752 - courlan.core - INFO - 29 links found – 26 valid links\u001b[0m\n",
      "\u001b[32m2024-08-13 12:28:52,752 - courlan.core - INFO - 29 links found – 26 valid links\u001b[0m\n",
      "\u001b[32m2024-08-13 12:28:52,752 - courlan.core - INFO - 29 links found – 26 valid links\u001b[0m\n",
      "\u001b[32m2024-08-13 12:28:52,752 - courlan.core - INFO - 29 links found – 26 valid links\u001b[0m\n",
      "\u001b[32m2024-08-13 12:28:52,752 - courlan.core - INFO - 29 links found – 26 valid links\u001b[0m\n",
      "\u001b[33m2024-08-13 12:28:54,993 - courlan.urlstore - WARNING - Discarding URL: /pages/earplugs-for-autism\u001b[0m\n",
      "\u001b[33m2024-08-13 12:28:54,993 - courlan.urlstore - WARNING - Discarding URL: /pages/earplugs-for-autism\u001b[0m\n",
      "\u001b[33m2024-08-13 12:28:54,993 - courlan.urlstore - WARNING - Discarding URL: /pages/earplugs-for-autism\u001b[0m\n",
      "\u001b[33m2024-08-13 12:28:54,993 - courlan.urlstore - WARNING - Discarding URL: /pages/earplugs-for-autism\u001b[0m\n",
      "\u001b[33m2024-08-13 12:28:54,993 - courlan.urlstore - WARNING - Discarding URL: /pages/earplugs-for-autism\u001b[0m\n",
      "\u001b[33m2024-08-13 12:28:54,993 - courlan.urlstore - WARNING - Discarding URL: /pages/earplugs-for-autism\u001b[0m\n",
      "\u001b[32m2024-08-13 12:28:55,002 - courlan.core - INFO - 34 links found – 27 valid links\u001b[0m\n",
      "\u001b[32m2024-08-13 12:28:55,002 - courlan.core - INFO - 34 links found – 27 valid links\u001b[0m\n",
      "\u001b[32m2024-08-13 12:28:55,002 - courlan.core - INFO - 34 links found – 27 valid links\u001b[0m\n",
      "\u001b[32m2024-08-13 12:28:55,002 - courlan.core - INFO - 34 links found – 27 valid links\u001b[0m\n",
      "\u001b[32m2024-08-13 12:28:55,002 - courlan.core - INFO - 34 links found – 27 valid links\u001b[0m\n",
      "\u001b[32m2024-08-13 12:28:55,002 - courlan.core - INFO - 34 links found – 27 valid links\u001b[0m\n",
      "\u001b[33m2024-08-13 12:28:57,796 - courlan.urlstore - WARNING - Discarding URL: /blogs/blog/how-to-deal-with-misophonia-at-work\u001b[0m\n",
      "\u001b[33m2024-08-13 12:28:57,796 - courlan.urlstore - WARNING - Discarding URL: /blogs/blog/how-to-deal-with-misophonia-at-work\u001b[0m\n",
      "\u001b[33m2024-08-13 12:28:57,796 - courlan.urlstore - WARNING - Discarding URL: /blogs/blog/how-to-deal-with-misophonia-at-work\u001b[0m\n",
      "\u001b[33m2024-08-13 12:28:57,796 - courlan.urlstore - WARNING - Discarding URL: /blogs/blog/how-to-deal-with-misophonia-at-work\u001b[0m\n",
      "\u001b[33m2024-08-13 12:28:57,796 - courlan.urlstore - WARNING - Discarding URL: /blogs/blog/how-to-deal-with-misophonia-at-work\u001b[0m\n",
      "\u001b[33m2024-08-13 12:28:57,796 - courlan.urlstore - WARNING - Discarding URL: /blogs/blog/how-to-deal-with-misophonia-at-work\u001b[0m\n",
      "\u001b[32m2024-08-13 12:28:57,804 - courlan.core - INFO - 56 links found – 52 valid links\u001b[0m\n",
      "\u001b[32m2024-08-13 12:28:57,804 - courlan.core - INFO - 56 links found – 52 valid links\u001b[0m\n",
      "\u001b[32m2024-08-13 12:28:57,804 - courlan.core - INFO - 56 links found – 52 valid links\u001b[0m\n",
      "\u001b[32m2024-08-13 12:28:57,804 - courlan.core - INFO - 56 links found – 52 valid links\u001b[0m\n",
      "\u001b[32m2024-08-13 12:28:57,804 - courlan.core - INFO - 56 links found – 52 valid links\u001b[0m\n",
      "\u001b[32m2024-08-13 12:28:57,804 - courlan.core - INFO - 56 links found – 52 valid links\u001b[0m\n",
      "\u001b[33m2024-08-13 12:28:59,968 - courlan.urlstore - WARNING - Discarding URL: /blogs/blog/how-to-deal-with-sensory-overload\u001b[0m\n",
      "\u001b[33m2024-08-13 12:28:59,968 - courlan.urlstore - WARNING - Discarding URL: /blogs/blog/how-to-deal-with-sensory-overload\u001b[0m\n",
      "\u001b[33m2024-08-13 12:28:59,968 - courlan.urlstore - WARNING - Discarding URL: /blogs/blog/how-to-deal-with-sensory-overload\u001b[0m\n",
      "\u001b[33m2024-08-13 12:28:59,968 - courlan.urlstore - WARNING - Discarding URL: /blogs/blog/how-to-deal-with-sensory-overload\u001b[0m\n",
      "\u001b[33m2024-08-13 12:28:59,968 - courlan.urlstore - WARNING - Discarding URL: /blogs/blog/how-to-deal-with-sensory-overload\u001b[0m\n",
      "\u001b[33m2024-08-13 12:28:59,968 - courlan.urlstore - WARNING - Discarding URL: /blogs/blog/how-to-deal-with-sensory-overload\u001b[0m\n",
      "\u001b[32m2024-08-13 12:28:59,977 - courlan.core - INFO - 44 links found – 32 valid links\u001b[0m\n",
      "\u001b[32m2024-08-13 12:28:59,977 - courlan.core - INFO - 44 links found – 32 valid links\u001b[0m\n",
      "\u001b[32m2024-08-13 12:28:59,977 - courlan.core - INFO - 44 links found – 32 valid links\u001b[0m\n",
      "\u001b[32m2024-08-13 12:28:59,977 - courlan.core - INFO - 44 links found – 32 valid links\u001b[0m\n",
      "\u001b[32m2024-08-13 12:28:59,977 - courlan.core - INFO - 44 links found – 32 valid links\u001b[0m\n",
      "\u001b[32m2024-08-13 12:28:59,977 - courlan.core - INFO - 44 links found – 32 valid links\u001b[0m\n",
      "\u001b[33m2024-08-13 12:29:02,194 - courlan.urlstore - WARNING - Discarding URL: /blogs/blog/noise-sensitivity-anxiety\u001b[0m\n",
      "\u001b[33m2024-08-13 12:29:02,194 - courlan.urlstore - WARNING - Discarding URL: /blogs/blog/noise-sensitivity-anxiety\u001b[0m\n",
      "\u001b[33m2024-08-13 12:29:02,194 - courlan.urlstore - WARNING - Discarding URL: /blogs/blog/noise-sensitivity-anxiety\u001b[0m\n",
      "\u001b[33m2024-08-13 12:29:02,194 - courlan.urlstore - WARNING - Discarding URL: /blogs/blog/noise-sensitivity-anxiety\u001b[0m\n",
      "\u001b[33m2024-08-13 12:29:02,194 - courlan.urlstore - WARNING - Discarding URL: /blogs/blog/noise-sensitivity-anxiety\u001b[0m\n",
      "\u001b[33m2024-08-13 12:29:02,194 - courlan.urlstore - WARNING - Discarding URL: /blogs/blog/noise-sensitivity-anxiety\u001b[0m\n",
      "\u001b[32m2024-08-13 12:29:02,201 - courlan.core - INFO - 38 links found – 30 valid links\u001b[0m\n",
      "\u001b[32m2024-08-13 12:29:02,201 - courlan.core - INFO - 38 links found – 30 valid links\u001b[0m\n",
      "\u001b[32m2024-08-13 12:29:02,201 - courlan.core - INFO - 38 links found – 30 valid links\u001b[0m\n",
      "\u001b[32m2024-08-13 12:29:02,201 - courlan.core - INFO - 38 links found – 30 valid links\u001b[0m\n",
      "\u001b[32m2024-08-13 12:29:02,201 - courlan.core - INFO - 38 links found – 30 valid links\u001b[0m\n",
      "\u001b[32m2024-08-13 12:29:02,201 - courlan.core - INFO - 38 links found – 30 valid links\u001b[0m\n",
      "\u001b[33m2024-08-13 12:29:04,349 - courlan.urlstore - WARNING - Discarding URL: /pages/earplugs-for-adhd\u001b[0m\n",
      "\u001b[33m2024-08-13 12:29:04,349 - courlan.urlstore - WARNING - Discarding URL: /pages/earplugs-for-adhd\u001b[0m\n",
      "\u001b[33m2024-08-13 12:29:04,349 - courlan.urlstore - WARNING - Discarding URL: /pages/earplugs-for-adhd\u001b[0m\n",
      "\u001b[33m2024-08-13 12:29:04,349 - courlan.urlstore - WARNING - Discarding URL: /pages/earplugs-for-adhd\u001b[0m\n",
      "\u001b[33m2024-08-13 12:29:04,349 - courlan.urlstore - WARNING - Discarding URL: /pages/earplugs-for-adhd\u001b[0m\n",
      "\u001b[33m2024-08-13 12:29:04,349 - courlan.urlstore - WARNING - Discarding URL: /pages/earplugs-for-adhd\u001b[0m\n",
      "\u001b[32m2024-08-13 12:29:04,354 - courlan.core - INFO - 33 links found – 26 valid links\u001b[0m\n",
      "\u001b[32m2024-08-13 12:29:04,354 - courlan.core - INFO - 33 links found – 26 valid links\u001b[0m\n",
      "\u001b[32m2024-08-13 12:29:04,354 - courlan.core - INFO - 33 links found – 26 valid links\u001b[0m\n",
      "\u001b[32m2024-08-13 12:29:04,354 - courlan.core - INFO - 33 links found – 26 valid links\u001b[0m\n",
      "\u001b[32m2024-08-13 12:29:04,354 - courlan.core - INFO - 33 links found – 26 valid links\u001b[0m\n",
      "\u001b[32m2024-08-13 12:29:04,354 - courlan.core - INFO - 33 links found – 26 valid links\u001b[0m\n",
      "\u001b[33m2024-08-13 12:29:07,499 - courlan.urlstore - WARNING - Discarding URL: /blogs/blog/are-misophonia-and-adhd-connected\u001b[0m\n",
      "\u001b[33m2024-08-13 12:29:07,499 - courlan.urlstore - WARNING - Discarding URL: /blogs/blog/are-misophonia-and-adhd-connected\u001b[0m\n",
      "\u001b[33m2024-08-13 12:29:07,499 - courlan.urlstore - WARNING - Discarding URL: /blogs/blog/are-misophonia-and-adhd-connected\u001b[0m\n",
      "\u001b[33m2024-08-13 12:29:07,499 - courlan.urlstore - WARNING - Discarding URL: /blogs/blog/are-misophonia-and-adhd-connected\u001b[0m\n",
      "\u001b[33m2024-08-13 12:29:07,499 - courlan.urlstore - WARNING - Discarding URL: /blogs/blog/are-misophonia-and-adhd-connected\u001b[0m\n",
      "\u001b[33m2024-08-13 12:29:07,499 - courlan.urlstore - WARNING - Discarding URL: /blogs/blog/are-misophonia-and-adhd-connected\u001b[0m\n",
      "\u001b[32m2024-08-13 12:29:07,508 - courlan.core - INFO - 64 links found – 57 valid links\u001b[0m\n",
      "\u001b[32m2024-08-13 12:29:07,508 - courlan.core - INFO - 64 links found – 57 valid links\u001b[0m\n",
      "\u001b[32m2024-08-13 12:29:07,508 - courlan.core - INFO - 64 links found – 57 valid links\u001b[0m\n",
      "\u001b[32m2024-08-13 12:29:07,508 - courlan.core - INFO - 64 links found – 57 valid links\u001b[0m\n",
      "\u001b[32m2024-08-13 12:29:07,508 - courlan.core - INFO - 64 links found – 57 valid links\u001b[0m\n",
      "\u001b[32m2024-08-13 12:29:07,508 - courlan.core - INFO - 64 links found – 57 valid links\u001b[0m\n",
      "\u001b[33m2024-08-13 12:29:09,956 - courlan.urlstore - WARNING - Discarding URL: /pages/earplugs-for-misophonia\u001b[0m\n",
      "\u001b[33m2024-08-13 12:29:09,956 - courlan.urlstore - WARNING - Discarding URL: /pages/earplugs-for-misophonia\u001b[0m\n",
      "\u001b[33m2024-08-13 12:29:09,956 - courlan.urlstore - WARNING - Discarding URL: /pages/earplugs-for-misophonia\u001b[0m\n",
      "\u001b[33m2024-08-13 12:29:09,956 - courlan.urlstore - WARNING - Discarding URL: /pages/earplugs-for-misophonia\u001b[0m\n",
      "\u001b[33m2024-08-13 12:29:09,956 - courlan.urlstore - WARNING - Discarding URL: /pages/earplugs-for-misophonia\u001b[0m\n",
      "\u001b[33m2024-08-13 12:29:09,956 - courlan.urlstore - WARNING - Discarding URL: /pages/earplugs-for-misophonia\u001b[0m\n",
      "\u001b[32m2024-08-13 12:29:09,965 - courlan.core - INFO - 34 links found – 27 valid links\u001b[0m\n",
      "\u001b[32m2024-08-13 12:29:09,965 - courlan.core - INFO - 34 links found – 27 valid links\u001b[0m\n",
      "\u001b[32m2024-08-13 12:29:09,965 - courlan.core - INFO - 34 links found – 27 valid links\u001b[0m\n",
      "\u001b[32m2024-08-13 12:29:09,965 - courlan.core - INFO - 34 links found – 27 valid links\u001b[0m\n",
      "\u001b[32m2024-08-13 12:29:09,965 - courlan.core - INFO - 34 links found – 27 valid links\u001b[0m\n",
      "\u001b[32m2024-08-13 12:29:09,965 - courlan.core - INFO - 34 links found – 27 valid links\u001b[0m\n",
      "\u001b[33m2024-08-13 12:29:12,303 - courlan.urlstore - WARNING - Discarding URL: /products/experience-plus-kinetic\u001b[0m\n",
      "\u001b[33m2024-08-13 12:29:12,303 - courlan.urlstore - WARNING - Discarding URL: /products/experience-plus-kinetic\u001b[0m\n",
      "\u001b[33m2024-08-13 12:29:12,303 - courlan.urlstore - WARNING - Discarding URL: /products/experience-plus-kinetic\u001b[0m\n",
      "\u001b[33m2024-08-13 12:29:12,303 - courlan.urlstore - WARNING - Discarding URL: /products/experience-plus-kinetic\u001b[0m\n",
      "\u001b[33m2024-08-13 12:29:12,303 - courlan.urlstore - WARNING - Discarding URL: /products/experience-plus-kinetic\u001b[0m\n",
      "\u001b[33m2024-08-13 12:29:12,303 - courlan.urlstore - WARNING - Discarding URL: /products/experience-plus-kinetic\u001b[0m\n",
      "\u001b[32m2024-08-13 12:29:12,312 - courlan.core - INFO - 34 links found – 24 valid links\u001b[0m\n",
      "\u001b[32m2024-08-13 12:29:12,312 - courlan.core - INFO - 34 links found – 24 valid links\u001b[0m\n",
      "\u001b[32m2024-08-13 12:29:12,312 - courlan.core - INFO - 34 links found – 24 valid links\u001b[0m\n",
      "\u001b[32m2024-08-13 12:29:12,312 - courlan.core - INFO - 34 links found – 24 valid links\u001b[0m\n",
      "\u001b[32m2024-08-13 12:29:12,312 - courlan.core - INFO - 34 links found – 24 valid links\u001b[0m\n",
      "\u001b[32m2024-08-13 12:29:12,312 - courlan.core - INFO - 34 links found – 24 valid links\u001b[0m\n",
      "\u001b[33m2024-08-13 12:29:13,490 - courlan.urlstore - WARNING - Discarding URL: /cdn-cgi/l/email-protection\u001b[0m\n",
      "\u001b[33m2024-08-13 12:29:13,490 - courlan.urlstore - WARNING - Discarding URL: /cdn-cgi/l/email-protection\u001b[0m\n",
      "\u001b[33m2024-08-13 12:29:13,490 - courlan.urlstore - WARNING - Discarding URL: /cdn-cgi/l/email-protection\u001b[0m\n",
      "\u001b[33m2024-08-13 12:29:13,490 - courlan.urlstore - WARNING - Discarding URL: /cdn-cgi/l/email-protection\u001b[0m\n",
      "\u001b[33m2024-08-13 12:29:13,490 - courlan.urlstore - WARNING - Discarding URL: /cdn-cgi/l/email-protection\u001b[0m\n",
      "\u001b[33m2024-08-13 12:29:13,490 - courlan.urlstore - WARNING - Discarding URL: /cdn-cgi/l/email-protection\u001b[0m\n",
      "\u001b[32m2024-08-13 12:29:13,492 - courlan.core - INFO - 4 links found – 0 valid links\u001b[0m\n",
      "\u001b[32m2024-08-13 12:29:13,492 - courlan.core - INFO - 4 links found – 0 valid links\u001b[0m\n",
      "\u001b[32m2024-08-13 12:29:13,492 - courlan.core - INFO - 4 links found – 0 valid links\u001b[0m\n",
      "\u001b[32m2024-08-13 12:29:13,492 - courlan.core - INFO - 4 links found – 0 valid links\u001b[0m\n",
      "\u001b[32m2024-08-13 12:29:13,492 - courlan.core - INFO - 4 links found – 0 valid links\u001b[0m\n",
      "\u001b[32m2024-08-13 12:29:13,492 - courlan.core - INFO - 4 links found – 0 valid links\u001b[0m\n",
      "\u001b[33m2024-08-13 12:29:15,869 - courlan.urlstore - WARNING - Discarding URL: /products/engage-plus-kinetic\u001b[0m\n",
      "\u001b[33m2024-08-13 12:29:15,869 - courlan.urlstore - WARNING - Discarding URL: /products/engage-plus-kinetic\u001b[0m\n",
      "\u001b[33m2024-08-13 12:29:15,869 - courlan.urlstore - WARNING - Discarding URL: /products/engage-plus-kinetic\u001b[0m\n",
      "\u001b[33m2024-08-13 12:29:15,869 - courlan.urlstore - WARNING - Discarding URL: /products/engage-plus-kinetic\u001b[0m\n",
      "\u001b[33m2024-08-13 12:29:15,869 - courlan.urlstore - WARNING - Discarding URL: /products/engage-plus-kinetic\u001b[0m\n",
      "\u001b[33m2024-08-13 12:29:15,869 - courlan.urlstore - WARNING - Discarding URL: /products/engage-plus-kinetic\u001b[0m\n",
      "\u001b[32m2024-08-13 12:29:15,880 - courlan.core - INFO - 34 links found – 24 valid links\u001b[0m\n",
      "\u001b[32m2024-08-13 12:29:15,880 - courlan.core - INFO - 34 links found – 24 valid links\u001b[0m\n",
      "\u001b[32m2024-08-13 12:29:15,880 - courlan.core - INFO - 34 links found – 24 valid links\u001b[0m\n",
      "\u001b[32m2024-08-13 12:29:15,880 - courlan.core - INFO - 34 links found – 24 valid links\u001b[0m\n",
      "\u001b[32m2024-08-13 12:29:15,880 - courlan.core - INFO - 34 links found – 24 valid links\u001b[0m\n",
      "\u001b[32m2024-08-13 12:29:15,880 - courlan.core - INFO - 34 links found – 24 valid links\u001b[0m\n",
      "\u001b[33m2024-08-13 12:29:18,135 - courlan.urlstore - WARNING - Discarding URL: /products/mute-style-pack-kinetic\u001b[0m\n",
      "\u001b[33m2024-08-13 12:29:18,135 - courlan.urlstore - WARNING - Discarding URL: /products/mute-style-pack-kinetic\u001b[0m\n",
      "\u001b[33m2024-08-13 12:29:18,135 - courlan.urlstore - WARNING - Discarding URL: /products/mute-style-pack-kinetic\u001b[0m\n",
      "\u001b[33m2024-08-13 12:29:18,135 - courlan.urlstore - WARNING - Discarding URL: /products/mute-style-pack-kinetic\u001b[0m\n",
      "\u001b[33m2024-08-13 12:29:18,135 - courlan.urlstore - WARNING - Discarding URL: /products/mute-style-pack-kinetic\u001b[0m\n",
      "\u001b[33m2024-08-13 12:29:18,135 - courlan.urlstore - WARNING - Discarding URL: /products/mute-style-pack-kinetic\u001b[0m\n",
      "\u001b[32m2024-08-13 12:29:18,145 - courlan.core - INFO - 28 links found – 24 valid links\u001b[0m\n",
      "\u001b[32m2024-08-13 12:29:18,145 - courlan.core - INFO - 28 links found – 24 valid links\u001b[0m\n",
      "\u001b[32m2024-08-13 12:29:18,145 - courlan.core - INFO - 28 links found – 24 valid links\u001b[0m\n",
      "\u001b[32m2024-08-13 12:29:18,145 - courlan.core - INFO - 28 links found – 24 valid links\u001b[0m\n",
      "\u001b[32m2024-08-13 12:29:18,145 - courlan.core - INFO - 28 links found – 24 valid links\u001b[0m\n",
      "\u001b[32m2024-08-13 12:29:18,145 - courlan.core - INFO - 28 links found – 24 valid links\u001b[0m\n",
      "\u001b[33m2024-08-13 12:29:20,341 - courlan.urlstore - WARNING - Discarding URL: /products/loop-link-kinetic\u001b[0m\n",
      "\u001b[33m2024-08-13 12:29:20,341 - courlan.urlstore - WARNING - Discarding URL: /products/loop-link-kinetic\u001b[0m\n",
      "\u001b[33m2024-08-13 12:29:20,341 - courlan.urlstore - WARNING - Discarding URL: /products/loop-link-kinetic\u001b[0m\n",
      "\u001b[33m2024-08-13 12:29:20,341 - courlan.urlstore - WARNING - Discarding URL: /products/loop-link-kinetic\u001b[0m\n",
      "\u001b[33m2024-08-13 12:29:20,341 - courlan.urlstore - WARNING - Discarding URL: /products/loop-link-kinetic\u001b[0m\n",
      "\u001b[33m2024-08-13 12:29:20,341 - courlan.urlstore - WARNING - Discarding URL: /products/loop-link-kinetic\u001b[0m\n",
      "\u001b[32m2024-08-13 12:29:20,351 - courlan.core - INFO - 30 links found – 25 valid links\u001b[0m\n",
      "\u001b[32m2024-08-13 12:29:20,351 - courlan.core - INFO - 30 links found – 25 valid links\u001b[0m\n",
      "\u001b[32m2024-08-13 12:29:20,351 - courlan.core - INFO - 30 links found – 25 valid links\u001b[0m\n",
      "\u001b[32m2024-08-13 12:29:20,351 - courlan.core - INFO - 30 links found – 25 valid links\u001b[0m\n",
      "\u001b[32m2024-08-13 12:29:20,351 - courlan.core - INFO - 30 links found – 25 valid links\u001b[0m\n",
      "\u001b[32m2024-08-13 12:29:20,351 - courlan.core - INFO - 30 links found – 25 valid links\u001b[0m\n",
      "\u001b[33m2024-08-13 12:29:22,605 - courlan.urlstore - WARNING - Discarding URL: /products/quiet-kinetic\u001b[0m\n",
      "\u001b[33m2024-08-13 12:29:22,605 - courlan.urlstore - WARNING - Discarding URL: /products/quiet-kinetic\u001b[0m\n",
      "\u001b[33m2024-08-13 12:29:22,605 - courlan.urlstore - WARNING - Discarding URL: /products/quiet-kinetic\u001b[0m\n",
      "\u001b[33m2024-08-13 12:29:22,605 - courlan.urlstore - WARNING - Discarding URL: /products/quiet-kinetic\u001b[0m\n",
      "\u001b[33m2024-08-13 12:29:22,605 - courlan.urlstore - WARNING - Discarding URL: /products/quiet-kinetic\u001b[0m\n",
      "\u001b[33m2024-08-13 12:29:22,605 - courlan.urlstore - WARNING - Discarding URL: /products/quiet-kinetic\u001b[0m\n",
      "\u001b[32m2024-08-13 12:29:22,616 - courlan.core - INFO - 38 links found – 24 valid links\u001b[0m\n",
      "\u001b[32m2024-08-13 12:29:22,616 - courlan.core - INFO - 38 links found – 24 valid links\u001b[0m\n",
      "\u001b[32m2024-08-13 12:29:22,616 - courlan.core - INFO - 38 links found – 24 valid links\u001b[0m\n",
      "\u001b[32m2024-08-13 12:29:22,616 - courlan.core - INFO - 38 links found – 24 valid links\u001b[0m\n",
      "\u001b[32m2024-08-13 12:29:22,616 - courlan.core - INFO - 38 links found – 24 valid links\u001b[0m\n",
      "\u001b[32m2024-08-13 12:29:22,616 - courlan.core - INFO - 38 links found – 24 valid links\u001b[0m\n",
      "\u001b[33m2024-08-13 12:29:24,879 - courlan.urlstore - WARNING - Discarding URL: /products/extra-carry-case-kinetic\u001b[0m\n",
      "\u001b[33m2024-08-13 12:29:24,879 - courlan.urlstore - WARNING - Discarding URL: /products/extra-carry-case-kinetic\u001b[0m\n",
      "\u001b[33m2024-08-13 12:29:24,879 - courlan.urlstore - WARNING - Discarding URL: /products/extra-carry-case-kinetic\u001b[0m\n",
      "\u001b[33m2024-08-13 12:29:24,879 - courlan.urlstore - WARNING - Discarding URL: /products/extra-carry-case-kinetic\u001b[0m\n",
      "\u001b[33m2024-08-13 12:29:24,879 - courlan.urlstore - WARNING - Discarding URL: /products/extra-carry-case-kinetic\u001b[0m\n",
      "\u001b[33m2024-08-13 12:29:24,879 - courlan.urlstore - WARNING - Discarding URL: /products/extra-carry-case-kinetic\u001b[0m\n",
      "\u001b[32m2024-08-13 12:29:24,891 - courlan.core - INFO - 29 links found – 25 valid links\u001b[0m\n",
      "\u001b[32m2024-08-13 12:29:24,891 - courlan.core - INFO - 29 links found – 25 valid links\u001b[0m\n",
      "\u001b[32m2024-08-13 12:29:24,891 - courlan.core - INFO - 29 links found – 25 valid links\u001b[0m\n",
      "\u001b[32m2024-08-13 12:29:24,891 - courlan.core - INFO - 29 links found – 25 valid links\u001b[0m\n",
      "\u001b[32m2024-08-13 12:29:24,891 - courlan.core - INFO - 29 links found – 25 valid links\u001b[0m\n",
      "\u001b[32m2024-08-13 12:29:24,891 - courlan.core - INFO - 29 links found – 25 valid links\u001b[0m\n",
      "\u001b[33m2024-08-13 12:29:27,141 - courlan.urlstore - WARNING - Discarding URL: /products/experience-kinetic\u001b[0m\n",
      "\u001b[33m2024-08-13 12:29:27,141 - courlan.urlstore - WARNING - Discarding URL: /products/experience-kinetic\u001b[0m\n",
      "\u001b[33m2024-08-13 12:29:27,141 - courlan.urlstore - WARNING - Discarding URL: /products/experience-kinetic\u001b[0m\n",
      "\u001b[33m2024-08-13 12:29:27,141 - courlan.urlstore - WARNING - Discarding URL: /products/experience-kinetic\u001b[0m\n",
      "\u001b[33m2024-08-13 12:29:27,141 - courlan.urlstore - WARNING - Discarding URL: /products/experience-kinetic\u001b[0m\n",
      "\u001b[33m2024-08-13 12:29:27,141 - courlan.urlstore - WARNING - Discarding URL: /products/experience-kinetic\u001b[0m\n",
      "\u001b[32m2024-08-13 12:29:27,150 - courlan.core - INFO - 40 links found – 25 valid links\u001b[0m\n",
      "\u001b[32m2024-08-13 12:29:27,150 - courlan.core - INFO - 40 links found – 25 valid links\u001b[0m\n",
      "\u001b[32m2024-08-13 12:29:27,150 - courlan.core - INFO - 40 links found – 25 valid links\u001b[0m\n",
      "\u001b[32m2024-08-13 12:29:27,150 - courlan.core - INFO - 40 links found – 25 valid links\u001b[0m\n",
      "\u001b[32m2024-08-13 12:29:27,150 - courlan.core - INFO - 40 links found – 25 valid links\u001b[0m\n",
      "\u001b[32m2024-08-13 12:29:27,150 - courlan.core - INFO - 40 links found – 25 valid links\u001b[0m\n",
      "\u001b[33m2024-08-13 12:29:29,496 - courlan.urlstore - WARNING - Discarding URL: /products/engage-kinetic\u001b[0m\n",
      "\u001b[33m2024-08-13 12:29:29,496 - courlan.urlstore - WARNING - Discarding URL: /products/engage-kinetic\u001b[0m\n",
      "\u001b[33m2024-08-13 12:29:29,496 - courlan.urlstore - WARNING - Discarding URL: /products/engage-kinetic\u001b[0m\n",
      "\u001b[33m2024-08-13 12:29:29,496 - courlan.urlstore - WARNING - Discarding URL: /products/engage-kinetic\u001b[0m\n",
      "\u001b[33m2024-08-13 12:29:29,496 - courlan.urlstore - WARNING - Discarding URL: /products/engage-kinetic\u001b[0m\n",
      "\u001b[33m2024-08-13 12:29:29,496 - courlan.urlstore - WARNING - Discarding URL: /products/engage-kinetic\u001b[0m\n",
      "\u001b[32m2024-08-13 12:29:29,505 - courlan.core - INFO - 38 links found – 24 valid links\u001b[0m\n",
      "\u001b[32m2024-08-13 12:29:29,505 - courlan.core - INFO - 38 links found – 24 valid links\u001b[0m\n",
      "\u001b[32m2024-08-13 12:29:29,505 - courlan.core - INFO - 38 links found – 24 valid links\u001b[0m\n",
      "\u001b[32m2024-08-13 12:29:29,505 - courlan.core - INFO - 38 links found – 24 valid links\u001b[0m\n",
      "\u001b[32m2024-08-13 12:29:29,505 - courlan.core - INFO - 38 links found – 24 valid links\u001b[0m\n",
      "\u001b[32m2024-08-13 12:29:29,505 - courlan.core - INFO - 38 links found – 24 valid links\u001b[0m\n",
      "\u001b[33m2024-08-13 12:29:31,747 - courlan.urlstore - WARNING - Discarding URL: /products/switch-kinetic\u001b[0m\n",
      "\u001b[33m2024-08-13 12:29:31,747 - courlan.urlstore - WARNING - Discarding URL: /products/switch-kinetic\u001b[0m\n",
      "\u001b[33m2024-08-13 12:29:31,747 - courlan.urlstore - WARNING - Discarding URL: /products/switch-kinetic\u001b[0m\n",
      "\u001b[33m2024-08-13 12:29:31,747 - courlan.urlstore - WARNING - Discarding URL: /products/switch-kinetic\u001b[0m\n",
      "\u001b[33m2024-08-13 12:29:31,747 - courlan.urlstore - WARNING - Discarding URL: /products/switch-kinetic\u001b[0m\n",
      "\u001b[33m2024-08-13 12:29:31,747 - courlan.urlstore - WARNING - Discarding URL: /products/switch-kinetic\u001b[0m\n",
      "\u001b[32m2024-08-13 12:29:31,758 - courlan.core - INFO - 39 links found – 26 valid links\u001b[0m\n",
      "\u001b[32m2024-08-13 12:29:31,758 - courlan.core - INFO - 39 links found – 26 valid links\u001b[0m\n",
      "\u001b[32m2024-08-13 12:29:31,758 - courlan.core - INFO - 39 links found – 26 valid links\u001b[0m\n",
      "\u001b[32m2024-08-13 12:29:31,758 - courlan.core - INFO - 39 links found – 26 valid links\u001b[0m\n",
      "\u001b[32m2024-08-13 12:29:31,758 - courlan.core - INFO - 39 links found – 26 valid links\u001b[0m\n",
      "\u001b[32m2024-08-13 12:29:31,758 - courlan.core - INFO - 39 links found – 26 valid links\u001b[0m\n",
      "\u001b[33m2024-08-13 12:29:34,283 - courlan.urlstore - WARNING - Discarding URL: /blogs/life-at-loop/thriving-together-to-deliver-the-best-earwear\u001b[0m\n",
      "\u001b[33m2024-08-13 12:29:34,283 - courlan.urlstore - WARNING - Discarding URL: /blogs/life-at-loop/thriving-together-to-deliver-the-best-earwear\u001b[0m\n",
      "\u001b[33m2024-08-13 12:29:34,283 - courlan.urlstore - WARNING - Discarding URL: /blogs/life-at-loop/thriving-together-to-deliver-the-best-earwear\u001b[0m\n",
      "\u001b[33m2024-08-13 12:29:34,283 - courlan.urlstore - WARNING - Discarding URL: /blogs/life-at-loop/thriving-together-to-deliver-the-best-earwear\u001b[0m\n",
      "\u001b[33m2024-08-13 12:29:34,283 - courlan.urlstore - WARNING - Discarding URL: /blogs/life-at-loop/thriving-together-to-deliver-the-best-earwear\u001b[0m\n",
      "\u001b[33m2024-08-13 12:29:34,283 - courlan.urlstore - WARNING - Discarding URL: /blogs/life-at-loop/thriving-together-to-deliver-the-best-earwear\u001b[0m\n",
      "\u001b[32m2024-08-13 12:29:34,289 - courlan.core - INFO - 31 links found – 27 valid links\u001b[0m\n",
      "\u001b[32m2024-08-13 12:29:34,289 - courlan.core - INFO - 31 links found – 27 valid links\u001b[0m\n",
      "\u001b[32m2024-08-13 12:29:34,289 - courlan.core - INFO - 31 links found – 27 valid links\u001b[0m\n",
      "\u001b[32m2024-08-13 12:29:34,289 - courlan.core - INFO - 31 links found – 27 valid links\u001b[0m\n",
      "\u001b[32m2024-08-13 12:29:34,289 - courlan.core - INFO - 31 links found – 27 valid links\u001b[0m\n",
      "\u001b[32m2024-08-13 12:29:34,289 - courlan.core - INFO - 31 links found – 27 valid links\u001b[0m\n",
      "\u001b[33m2024-08-13 12:29:36,353 - courlan.urlstore - WARNING - Discarding URL: /pages/explore-all-jobs\u001b[0m\n",
      "\u001b[33m2024-08-13 12:29:36,353 - courlan.urlstore - WARNING - Discarding URL: /pages/explore-all-jobs\u001b[0m\n",
      "\u001b[33m2024-08-13 12:29:36,353 - courlan.urlstore - WARNING - Discarding URL: /pages/explore-all-jobs\u001b[0m\n",
      "\u001b[33m2024-08-13 12:29:36,353 - courlan.urlstore - WARNING - Discarding URL: /pages/explore-all-jobs\u001b[0m\n",
      "\u001b[33m2024-08-13 12:29:36,353 - courlan.urlstore - WARNING - Discarding URL: /pages/explore-all-jobs\u001b[0m\n",
      "\u001b[33m2024-08-13 12:29:36,353 - courlan.urlstore - WARNING - Discarding URL: /pages/explore-all-jobs\u001b[0m\n",
      "\u001b[32m2024-08-13 12:29:36,363 - courlan.core - INFO - 28 links found – 25 valid links\u001b[0m\n",
      "\u001b[32m2024-08-13 12:29:36,363 - courlan.core - INFO - 28 links found – 25 valid links\u001b[0m\n",
      "\u001b[32m2024-08-13 12:29:36,363 - courlan.core - INFO - 28 links found – 25 valid links\u001b[0m\n",
      "\u001b[32m2024-08-13 12:29:36,363 - courlan.core - INFO - 28 links found – 25 valid links\u001b[0m\n",
      "\u001b[32m2024-08-13 12:29:36,363 - courlan.core - INFO - 28 links found – 25 valid links\u001b[0m\n",
      "\u001b[32m2024-08-13 12:29:36,363 - courlan.core - INFO - 28 links found – 25 valid links\u001b[0m\n",
      "\u001b[33m2024-08-13 12:29:38,734 - courlan.urlstore - WARNING - Discarding URL: /blogs/life-at-loop/why-designing-earwear-is-far-from-boring\u001b[0m\n",
      "\u001b[33m2024-08-13 12:29:38,734 - courlan.urlstore - WARNING - Discarding URL: /blogs/life-at-loop/why-designing-earwear-is-far-from-boring\u001b[0m\n",
      "\u001b[33m2024-08-13 12:29:38,734 - courlan.urlstore - WARNING - Discarding URL: /blogs/life-at-loop/why-designing-earwear-is-far-from-boring\u001b[0m\n",
      "\u001b[33m2024-08-13 12:29:38,734 - courlan.urlstore - WARNING - Discarding URL: /blogs/life-at-loop/why-designing-earwear-is-far-from-boring\u001b[0m\n",
      "\u001b[33m2024-08-13 12:29:38,734 - courlan.urlstore - WARNING - Discarding URL: /blogs/life-at-loop/why-designing-earwear-is-far-from-boring\u001b[0m\n",
      "\u001b[33m2024-08-13 12:29:38,734 - courlan.urlstore - WARNING - Discarding URL: /blogs/life-at-loop/why-designing-earwear-is-far-from-boring\u001b[0m\n",
      "\u001b[32m2024-08-13 12:29:38,744 - courlan.core - INFO - 31 links found – 28 valid links\u001b[0m\n",
      "\u001b[32m2024-08-13 12:29:38,744 - courlan.core - INFO - 31 links found – 28 valid links\u001b[0m\n",
      "\u001b[32m2024-08-13 12:29:38,744 - courlan.core - INFO - 31 links found – 28 valid links\u001b[0m\n",
      "\u001b[32m2024-08-13 12:29:38,744 - courlan.core - INFO - 31 links found – 28 valid links\u001b[0m\n",
      "\u001b[32m2024-08-13 12:29:38,744 - courlan.core - INFO - 31 links found – 28 valid links\u001b[0m\n",
      "\u001b[32m2024-08-13 12:29:38,744 - courlan.core - INFO - 31 links found – 28 valid links\u001b[0m\n",
      "\u001b[33m2024-08-13 12:29:40,968 - courlan.urlstore - WARNING - Discarding URL: /blogs/life-at-loop/revolutionizing-our-talent-acquisition-with-ai\u001b[0m\n",
      "\u001b[33m2024-08-13 12:29:40,968 - courlan.urlstore - WARNING - Discarding URL: /blogs/life-at-loop/revolutionizing-our-talent-acquisition-with-ai\u001b[0m\n",
      "\u001b[33m2024-08-13 12:29:40,968 - courlan.urlstore - WARNING - Discarding URL: /blogs/life-at-loop/revolutionizing-our-talent-acquisition-with-ai\u001b[0m\n",
      "\u001b[33m2024-08-13 12:29:40,968 - courlan.urlstore - WARNING - Discarding URL: /blogs/life-at-loop/revolutionizing-our-talent-acquisition-with-ai\u001b[0m\n",
      "\u001b[33m2024-08-13 12:29:40,968 - courlan.urlstore - WARNING - Discarding URL: /blogs/life-at-loop/revolutionizing-our-talent-acquisition-with-ai\u001b[0m\n",
      "\u001b[33m2024-08-13 12:29:40,968 - courlan.urlstore - WARNING - Discarding URL: /blogs/life-at-loop/revolutionizing-our-talent-acquisition-with-ai\u001b[0m\n",
      "\u001b[32m2024-08-13 12:29:40,975 - courlan.core - INFO - 31 links found – 28 valid links\u001b[0m\n",
      "\u001b[32m2024-08-13 12:29:40,975 - courlan.core - INFO - 31 links found – 28 valid links\u001b[0m\n",
      "\u001b[32m2024-08-13 12:29:40,975 - courlan.core - INFO - 31 links found – 28 valid links\u001b[0m\n",
      "\u001b[32m2024-08-13 12:29:40,975 - courlan.core - INFO - 31 links found – 28 valid links\u001b[0m\n",
      "\u001b[32m2024-08-13 12:29:40,975 - courlan.core - INFO - 31 links found – 28 valid links\u001b[0m\n",
      "\u001b[32m2024-08-13 12:29:40,975 - courlan.core - INFO - 31 links found – 28 valid links\u001b[0m\n",
      "\u001b[33m2024-08-13 12:29:43,005 - courlan.urlstore - WARNING - Discarding URL: /blogs/life-at-loop\u001b[0m\n",
      "\u001b[33m2024-08-13 12:29:43,005 - courlan.urlstore - WARNING - Discarding URL: /blogs/life-at-loop\u001b[0m\n",
      "\u001b[33m2024-08-13 12:29:43,005 - courlan.urlstore - WARNING - Discarding URL: /blogs/life-at-loop\u001b[0m\n",
      "\u001b[33m2024-08-13 12:29:43,005 - courlan.urlstore - WARNING - Discarding URL: /blogs/life-at-loop\u001b[0m\n",
      "\u001b[33m2024-08-13 12:29:43,005 - courlan.urlstore - WARNING - Discarding URL: /blogs/life-at-loop\u001b[0m\n",
      "\u001b[33m2024-08-13 12:29:43,005 - courlan.urlstore - WARNING - Discarding URL: /blogs/life-at-loop\u001b[0m\n",
      "\u001b[32m2024-08-13 12:29:43,011 - courlan.core - INFO - 32 links found – 29 valid links\u001b[0m\n",
      "\u001b[32m2024-08-13 12:29:43,011 - courlan.core - INFO - 32 links found – 29 valid links\u001b[0m\n",
      "\u001b[32m2024-08-13 12:29:43,011 - courlan.core - INFO - 32 links found – 29 valid links\u001b[0m\n",
      "\u001b[32m2024-08-13 12:29:43,011 - courlan.core - INFO - 32 links found – 29 valid links\u001b[0m\n",
      "\u001b[32m2024-08-13 12:29:43,011 - courlan.core - INFO - 32 links found – 29 valid links\u001b[0m\n",
      "\u001b[32m2024-08-13 12:29:43,011 - courlan.core - INFO - 32 links found – 29 valid links\u001b[0m\n",
      "\u001b[33m2024-08-13 12:29:45,413 - courlan.urlstore - WARNING - Discarding URL: /blogs/blog/how-to-stop-the-ringing-in-your-ears-after-clubbing\u001b[0m\n",
      "\u001b[33m2024-08-13 12:29:45,413 - courlan.urlstore - WARNING - Discarding URL: /blogs/blog/how-to-stop-the-ringing-in-your-ears-after-clubbing\u001b[0m\n",
      "\u001b[33m2024-08-13 12:29:45,413 - courlan.urlstore - WARNING - Discarding URL: /blogs/blog/how-to-stop-the-ringing-in-your-ears-after-clubbing\u001b[0m\n",
      "\u001b[33m2024-08-13 12:29:45,413 - courlan.urlstore - WARNING - Discarding URL: /blogs/blog/how-to-stop-the-ringing-in-your-ears-after-clubbing\u001b[0m\n",
      "\u001b[33m2024-08-13 12:29:45,413 - courlan.urlstore - WARNING - Discarding URL: /blogs/blog/how-to-stop-the-ringing-in-your-ears-after-clubbing\u001b[0m\n",
      "\u001b[33m2024-08-13 12:29:45,413 - courlan.urlstore - WARNING - Discarding URL: /blogs/blog/how-to-stop-the-ringing-in-your-ears-after-clubbing\u001b[0m\n",
      "\u001b[32m2024-08-13 12:29:45,420 - courlan.core - INFO - 42 links found – 32 valid links\u001b[0m\n",
      "\u001b[32m2024-08-13 12:29:45,420 - courlan.core - INFO - 42 links found – 32 valid links\u001b[0m\n",
      "\u001b[32m2024-08-13 12:29:45,420 - courlan.core - INFO - 42 links found – 32 valid links\u001b[0m\n",
      "\u001b[32m2024-08-13 12:29:45,420 - courlan.core - INFO - 42 links found – 32 valid links\u001b[0m\n",
      "\u001b[32m2024-08-13 12:29:45,420 - courlan.core - INFO - 42 links found – 32 valid links\u001b[0m\n",
      "\u001b[32m2024-08-13 12:29:45,420 - courlan.core - INFO - 42 links found – 32 valid links\u001b[0m\n",
      "\u001b[33m2024-08-13 12:29:47,509 - courlan.urlstore - WARNING - Discarding URL: /blogs/blog/which-loop-earplugs-are-right-for-me\u001b[0m\n",
      "\u001b[33m2024-08-13 12:29:47,509 - courlan.urlstore - WARNING - Discarding URL: /blogs/blog/which-loop-earplugs-are-right-for-me\u001b[0m\n",
      "\u001b[33m2024-08-13 12:29:47,509 - courlan.urlstore - WARNING - Discarding URL: /blogs/blog/which-loop-earplugs-are-right-for-me\u001b[0m\n",
      "\u001b[33m2024-08-13 12:29:47,509 - courlan.urlstore - WARNING - Discarding URL: /blogs/blog/which-loop-earplugs-are-right-for-me\u001b[0m\n",
      "\u001b[33m2024-08-13 12:29:47,509 - courlan.urlstore - WARNING - Discarding URL: /blogs/blog/which-loop-earplugs-are-right-for-me\u001b[0m\n",
      "\u001b[33m2024-08-13 12:29:47,509 - courlan.urlstore - WARNING - Discarding URL: /blogs/blog/which-loop-earplugs-are-right-for-me\u001b[0m\n",
      "\u001b[32m2024-08-13 12:29:47,518 - courlan.core - INFO - 38 links found – 31 valid links\u001b[0m\n",
      "\u001b[32m2024-08-13 12:29:47,518 - courlan.core - INFO - 38 links found – 31 valid links\u001b[0m\n",
      "\u001b[32m2024-08-13 12:29:47,518 - courlan.core - INFO - 38 links found – 31 valid links\u001b[0m\n",
      "\u001b[32m2024-08-13 12:29:47,518 - courlan.core - INFO - 38 links found – 31 valid links\u001b[0m\n",
      "\u001b[32m2024-08-13 12:29:47,518 - courlan.core - INFO - 38 links found – 31 valid links\u001b[0m\n",
      "\u001b[32m2024-08-13 12:29:47,518 - courlan.core - INFO - 38 links found – 31 valid links\u001b[0m\n",
      "\u001b[33m2024-08-13 12:29:49,751 - courlan.urlstore - WARNING - Discarding URL: /blogs/blog/the-loudest-concerts-in-the-history-of-rock\u001b[0m\n",
      "\u001b[33m2024-08-13 12:29:49,751 - courlan.urlstore - WARNING - Discarding URL: /blogs/blog/the-loudest-concerts-in-the-history-of-rock\u001b[0m\n",
      "\u001b[33m2024-08-13 12:29:49,751 - courlan.urlstore - WARNING - Discarding URL: /blogs/blog/the-loudest-concerts-in-the-history-of-rock\u001b[0m\n",
      "\u001b[33m2024-08-13 12:29:49,751 - courlan.urlstore - WARNING - Discarding URL: /blogs/blog/the-loudest-concerts-in-the-history-of-rock\u001b[0m\n",
      "\u001b[33m2024-08-13 12:29:49,751 - courlan.urlstore - WARNING - Discarding URL: /blogs/blog/the-loudest-concerts-in-the-history-of-rock\u001b[0m\n",
      "\u001b[33m2024-08-13 12:29:49,751 - courlan.urlstore - WARNING - Discarding URL: /blogs/blog/the-loudest-concerts-in-the-history-of-rock\u001b[0m\n",
      "\u001b[32m2024-08-13 12:29:49,756 - courlan.core - INFO - 36 links found – 29 valid links\u001b[0m\n",
      "\u001b[32m2024-08-13 12:29:49,756 - courlan.core - INFO - 36 links found – 29 valid links\u001b[0m\n",
      "\u001b[32m2024-08-13 12:29:49,756 - courlan.core - INFO - 36 links found – 29 valid links\u001b[0m\n",
      "\u001b[32m2024-08-13 12:29:49,756 - courlan.core - INFO - 36 links found – 29 valid links\u001b[0m\n",
      "\u001b[32m2024-08-13 12:29:49,756 - courlan.core - INFO - 36 links found – 29 valid links\u001b[0m\n",
      "\u001b[32m2024-08-13 12:29:49,756 - courlan.core - INFO - 36 links found – 29 valid links\u001b[0m\n",
      "\u001b[33m2024-08-13 12:29:51,942 - courlan.urlstore - WARNING - Discarding URL: /pages/best-earplugs-for-festivals\u001b[0m\n",
      "\u001b[33m2024-08-13 12:29:51,942 - courlan.urlstore - WARNING - Discarding URL: /pages/best-earplugs-for-festivals\u001b[0m\n",
      "\u001b[33m2024-08-13 12:29:51,942 - courlan.urlstore - WARNING - Discarding URL: /pages/best-earplugs-for-festivals\u001b[0m\n",
      "\u001b[33m2024-08-13 12:29:51,942 - courlan.urlstore - WARNING - Discarding URL: /pages/best-earplugs-for-festivals\u001b[0m\n",
      "\u001b[33m2024-08-13 12:29:51,942 - courlan.urlstore - WARNING - Discarding URL: /pages/best-earplugs-for-festivals\u001b[0m\n",
      "\u001b[33m2024-08-13 12:29:51,942 - courlan.urlstore - WARNING - Discarding URL: /pages/best-earplugs-for-festivals\u001b[0m\n",
      "\u001b[32m2024-08-13 12:29:51,951 - courlan.core - INFO - 35 links found – 28 valid links\u001b[0m\n",
      "\u001b[32m2024-08-13 12:29:51,951 - courlan.core - INFO - 35 links found – 28 valid links\u001b[0m\n",
      "\u001b[32m2024-08-13 12:29:51,951 - courlan.core - INFO - 35 links found – 28 valid links\u001b[0m\n",
      "\u001b[32m2024-08-13 12:29:51,951 - courlan.core - INFO - 35 links found – 28 valid links\u001b[0m\n",
      "\u001b[32m2024-08-13 12:29:51,951 - courlan.core - INFO - 35 links found – 28 valid links\u001b[0m\n",
      "\u001b[32m2024-08-13 12:29:51,951 - courlan.core - INFO - 35 links found – 28 valid links\u001b[0m\n",
      "\u001b[33m2024-08-13 12:29:54,256 - courlan.urlstore - WARNING - Discarding URL: /pages/best-earplugs-concerts\u001b[0m\n",
      "\u001b[33m2024-08-13 12:29:54,256 - courlan.urlstore - WARNING - Discarding URL: /pages/best-earplugs-concerts\u001b[0m\n",
      "\u001b[33m2024-08-13 12:29:54,256 - courlan.urlstore - WARNING - Discarding URL: /pages/best-earplugs-concerts\u001b[0m\n",
      "\u001b[33m2024-08-13 12:29:54,256 - courlan.urlstore - WARNING - Discarding URL: /pages/best-earplugs-concerts\u001b[0m\n",
      "\u001b[33m2024-08-13 12:29:54,256 - courlan.urlstore - WARNING - Discarding URL: /pages/best-earplugs-concerts\u001b[0m\n",
      "\u001b[33m2024-08-13 12:29:54,256 - courlan.urlstore - WARNING - Discarding URL: /pages/best-earplugs-concerts\u001b[0m\n",
      "\u001b[32m2024-08-13 12:29:54,266 - courlan.core - INFO - 30 links found – 26 valid links\u001b[0m\n",
      "\u001b[32m2024-08-13 12:29:54,266 - courlan.core - INFO - 30 links found – 26 valid links\u001b[0m\n",
      "\u001b[32m2024-08-13 12:29:54,266 - courlan.core - INFO - 30 links found – 26 valid links\u001b[0m\n",
      "\u001b[32m2024-08-13 12:29:54,266 - courlan.core - INFO - 30 links found – 26 valid links\u001b[0m\n",
      "\u001b[32m2024-08-13 12:29:54,266 - courlan.core - INFO - 30 links found – 26 valid links\u001b[0m\n",
      "\u001b[32m2024-08-13 12:29:54,266 - courlan.core - INFO - 30 links found – 26 valid links\u001b[0m\n",
      "\u001b[33m2024-08-13 12:29:57,167 - courlan.urlstore - WARNING - Discarding URL: /blogs/blog/what-are-the-top-five-causes-of-tinnitus\u001b[0m\n",
      "\u001b[33m2024-08-13 12:29:57,167 - courlan.urlstore - WARNING - Discarding URL: /blogs/blog/what-are-the-top-five-causes-of-tinnitus\u001b[0m\n",
      "\u001b[33m2024-08-13 12:29:57,167 - courlan.urlstore - WARNING - Discarding URL: /blogs/blog/what-are-the-top-five-causes-of-tinnitus\u001b[0m\n",
      "\u001b[33m2024-08-13 12:29:57,167 - courlan.urlstore - WARNING - Discarding URL: /blogs/blog/what-are-the-top-five-causes-of-tinnitus\u001b[0m\n",
      "\u001b[33m2024-08-13 12:29:57,167 - courlan.urlstore - WARNING - Discarding URL: /blogs/blog/what-are-the-top-five-causes-of-tinnitus\u001b[0m\n",
      "\u001b[33m2024-08-13 12:29:57,167 - courlan.urlstore - WARNING - Discarding URL: /blogs/blog/what-are-the-top-five-causes-of-tinnitus\u001b[0m\n",
      "\u001b[32m2024-08-13 12:29:57,179 - courlan.core - INFO - 53 links found – 50 valid links\u001b[0m\n",
      "\u001b[32m2024-08-13 12:29:57,179 - courlan.core - INFO - 53 links found – 50 valid links\u001b[0m\n",
      "\u001b[32m2024-08-13 12:29:57,179 - courlan.core - INFO - 53 links found – 50 valid links\u001b[0m\n",
      "\u001b[32m2024-08-13 12:29:57,179 - courlan.core - INFO - 53 links found – 50 valid links\u001b[0m\n",
      "\u001b[32m2024-08-13 12:29:57,179 - courlan.core - INFO - 53 links found – 50 valid links\u001b[0m\n",
      "\u001b[32m2024-08-13 12:29:57,179 - courlan.core - INFO - 53 links found – 50 valid links\u001b[0m\n",
      "\u001b[32m2024-08-13 12:29:58,275 - urllib3.poolmanager - INFO - Redirecting https://www.loopearplugs.com/products/experience-pro -> https://www.loopearplugs.com/products/experience-plus\u001b[0m\n",
      "\u001b[32m2024-08-13 12:29:58,275 - urllib3.poolmanager - INFO - Redirecting https://www.loopearplugs.com/products/experience-pro -> https://www.loopearplugs.com/products/experience-plus\u001b[0m\n",
      "\u001b[32m2024-08-13 12:29:58,275 - urllib3.poolmanager - INFO - Redirecting https://www.loopearplugs.com/products/experience-pro -> https://www.loopearplugs.com/products/experience-plus\u001b[0m\n",
      "\u001b[32m2024-08-13 12:29:58,275 - urllib3.poolmanager - INFO - Redirecting https://www.loopearplugs.com/products/experience-pro -> https://www.loopearplugs.com/products/experience-plus\u001b[0m\n",
      "\u001b[32m2024-08-13 12:29:58,275 - urllib3.poolmanager - INFO - Redirecting https://www.loopearplugs.com/products/experience-pro -> https://www.loopearplugs.com/products/experience-plus\u001b[0m\n",
      "\u001b[32m2024-08-13 12:29:58,275 - urllib3.poolmanager - INFO - Redirecting https://www.loopearplugs.com/products/experience-pro -> https://www.loopearplugs.com/products/experience-plus\u001b[0m\n",
      "\u001b[32m2024-08-13 12:29:58,530 - courlan.core - INFO - 36 links found – 24 valid links\u001b[0m\n",
      "\u001b[32m2024-08-13 12:29:58,530 - courlan.core - INFO - 36 links found – 24 valid links\u001b[0m\n",
      "\u001b[32m2024-08-13 12:29:58,530 - courlan.core - INFO - 36 links found – 24 valid links\u001b[0m\n",
      "\u001b[32m2024-08-13 12:29:58,530 - courlan.core - INFO - 36 links found – 24 valid links\u001b[0m\n",
      "\u001b[32m2024-08-13 12:29:58,530 - courlan.core - INFO - 36 links found – 24 valid links\u001b[0m\n",
      "\u001b[32m2024-08-13 12:29:58,530 - courlan.core - INFO - 36 links found – 24 valid links\u001b[0m\n",
      "\u001b[33m2024-08-13 12:30:00,745 - courlan.urlstore - WARNING - Discarding URL: /blogs/press-corner/loop-earplugs-team-belgiums-secret-weapon-for-paris-2024-olympics\u001b[0m\n",
      "\u001b[33m2024-08-13 12:30:00,745 - courlan.urlstore - WARNING - Discarding URL: /blogs/press-corner/loop-earplugs-team-belgiums-secret-weapon-for-paris-2024-olympics\u001b[0m\n",
      "\u001b[33m2024-08-13 12:30:00,745 - courlan.urlstore - WARNING - Discarding URL: /blogs/press-corner/loop-earplugs-team-belgiums-secret-weapon-for-paris-2024-olympics\u001b[0m\n",
      "\u001b[33m2024-08-13 12:30:00,745 - courlan.urlstore - WARNING - Discarding URL: /blogs/press-corner/loop-earplugs-team-belgiums-secret-weapon-for-paris-2024-olympics\u001b[0m\n",
      "\u001b[33m2024-08-13 12:30:00,745 - courlan.urlstore - WARNING - Discarding URL: /blogs/press-corner/loop-earplugs-team-belgiums-secret-weapon-for-paris-2024-olympics\u001b[0m\n",
      "\u001b[33m2024-08-13 12:30:00,745 - courlan.urlstore - WARNING - Discarding URL: /blogs/press-corner/loop-earplugs-team-belgiums-secret-weapon-for-paris-2024-olympics\u001b[0m\n",
      "\u001b[32m2024-08-13 12:30:00,755 - courlan.core - INFO - 32 links found – 26 valid links\u001b[0m\n",
      "\u001b[32m2024-08-13 12:30:00,755 - courlan.core - INFO - 32 links found – 26 valid links\u001b[0m\n",
      "\u001b[32m2024-08-13 12:30:00,755 - courlan.core - INFO - 32 links found – 26 valid links\u001b[0m\n",
      "\u001b[32m2024-08-13 12:30:00,755 - courlan.core - INFO - 32 links found – 26 valid links\u001b[0m\n",
      "\u001b[32m2024-08-13 12:30:00,755 - courlan.core - INFO - 32 links found – 26 valid links\u001b[0m\n",
      "\u001b[32m2024-08-13 12:30:00,755 - courlan.core - INFO - 32 links found – 26 valid links\u001b[0m\n",
      "\u001b[33m2024-08-13 12:30:02,836 - courlan.urlstore - WARNING - Discarding URL: /blogs/press-corner/introducing-the-kinetic-collection-loop-earplugs-love-letter-to-y2k-fashion\u001b[0m\n",
      "\u001b[33m2024-08-13 12:30:02,836 - courlan.urlstore - WARNING - Discarding URL: /blogs/press-corner/introducing-the-kinetic-collection-loop-earplugs-love-letter-to-y2k-fashion\u001b[0m\n",
      "\u001b[33m2024-08-13 12:30:02,836 - courlan.urlstore - WARNING - Discarding URL: /blogs/press-corner/introducing-the-kinetic-collection-loop-earplugs-love-letter-to-y2k-fashion\u001b[0m\n",
      "\u001b[33m2024-08-13 12:30:02,836 - courlan.urlstore - WARNING - Discarding URL: /blogs/press-corner/introducing-the-kinetic-collection-loop-earplugs-love-letter-to-y2k-fashion\u001b[0m\n",
      "\u001b[33m2024-08-13 12:30:02,836 - courlan.urlstore - WARNING - Discarding URL: /blogs/press-corner/introducing-the-kinetic-collection-loop-earplugs-love-letter-to-y2k-fashion\u001b[0m\n",
      "\u001b[33m2024-08-13 12:30:02,836 - courlan.urlstore - WARNING - Discarding URL: /blogs/press-corner/introducing-the-kinetic-collection-loop-earplugs-love-letter-to-y2k-fashion\u001b[0m\n",
      "\u001b[32m2024-08-13 12:30:02,847 - courlan.core - INFO - 32 links found – 27 valid links\u001b[0m\n",
      "\u001b[32m2024-08-13 12:30:02,847 - courlan.core - INFO - 32 links found – 27 valid links\u001b[0m\n",
      "\u001b[32m2024-08-13 12:30:02,847 - courlan.core - INFO - 32 links found – 27 valid links\u001b[0m\n",
      "\u001b[32m2024-08-13 12:30:02,847 - courlan.core - INFO - 32 links found – 27 valid links\u001b[0m\n",
      "\u001b[32m2024-08-13 12:30:02,847 - courlan.core - INFO - 32 links found – 27 valid links\u001b[0m\n",
      "\u001b[32m2024-08-13 12:30:02,847 - courlan.core - INFO - 32 links found – 27 valid links\u001b[0m\n",
      "\u001b[33m2024-08-13 12:30:05,149 - courlan.urlstore - WARNING - Discarding URL: /blogs/press-corner/loop-x-team-belgium\u001b[0m\n",
      "\u001b[33m2024-08-13 12:30:05,149 - courlan.urlstore - WARNING - Discarding URL: /blogs/press-corner/loop-x-team-belgium\u001b[0m\n",
      "\u001b[33m2024-08-13 12:30:05,149 - courlan.urlstore - WARNING - Discarding URL: /blogs/press-corner/loop-x-team-belgium\u001b[0m\n",
      "\u001b[33m2024-08-13 12:30:05,149 - courlan.urlstore - WARNING - Discarding URL: /blogs/press-corner/loop-x-team-belgium\u001b[0m\n",
      "\u001b[33m2024-08-13 12:30:05,149 - courlan.urlstore - WARNING - Discarding URL: /blogs/press-corner/loop-x-team-belgium\u001b[0m\n",
      "\u001b[33m2024-08-13 12:30:05,149 - courlan.urlstore - WARNING - Discarding URL: /blogs/press-corner/loop-x-team-belgium\u001b[0m\n",
      "\u001b[32m2024-08-13 12:30:05,158 - courlan.core - INFO - 31 links found – 24 valid links\u001b[0m\n",
      "\u001b[32m2024-08-13 12:30:05,158 - courlan.core - INFO - 31 links found – 24 valid links\u001b[0m\n",
      "\u001b[32m2024-08-13 12:30:05,158 - courlan.core - INFO - 31 links found – 24 valid links\u001b[0m\n",
      "\u001b[32m2024-08-13 12:30:05,158 - courlan.core - INFO - 31 links found – 24 valid links\u001b[0m\n",
      "\u001b[32m2024-08-13 12:30:05,158 - courlan.core - INFO - 31 links found – 24 valid links\u001b[0m\n",
      "\u001b[32m2024-08-13 12:30:05,158 - courlan.core - INFO - 31 links found – 24 valid links\u001b[0m\n",
      "\u001b[33m2024-08-13 12:30:07,595 - courlan.urlstore - WARNING - Discarding URL: /blogs/blog/background-noise-driving-you-crazy-here-are-our-top-5-tips-to-get-your-concentration-back\u001b[0m\n",
      "\u001b[33m2024-08-13 12:30:07,595 - courlan.urlstore - WARNING - Discarding URL: /blogs/blog/background-noise-driving-you-crazy-here-are-our-top-5-tips-to-get-your-concentration-back\u001b[0m\n",
      "\u001b[33m2024-08-13 12:30:07,595 - courlan.urlstore - WARNING - Discarding URL: /blogs/blog/background-noise-driving-you-crazy-here-are-our-top-5-tips-to-get-your-concentration-back\u001b[0m\n",
      "\u001b[33m2024-08-13 12:30:07,595 - courlan.urlstore - WARNING - Discarding URL: /blogs/blog/background-noise-driving-you-crazy-here-are-our-top-5-tips-to-get-your-concentration-back\u001b[0m\n",
      "\u001b[33m2024-08-13 12:30:07,595 - courlan.urlstore - WARNING - Discarding URL: /blogs/blog/background-noise-driving-you-crazy-here-are-our-top-5-tips-to-get-your-concentration-back\u001b[0m\n",
      "\u001b[33m2024-08-13 12:30:07,595 - courlan.urlstore - WARNING - Discarding URL: /blogs/blog/background-noise-driving-you-crazy-here-are-our-top-5-tips-to-get-your-concentration-back\u001b[0m\n",
      "\u001b[32m2024-08-13 12:30:07,606 - courlan.core - INFO - 59 links found – 54 valid links\u001b[0m\n",
      "\u001b[32m2024-08-13 12:30:07,606 - courlan.core - INFO - 59 links found – 54 valid links\u001b[0m\n",
      "\u001b[32m2024-08-13 12:30:07,606 - courlan.core - INFO - 59 links found – 54 valid links\u001b[0m\n",
      "\u001b[32m2024-08-13 12:30:07,606 - courlan.core - INFO - 59 links found – 54 valid links\u001b[0m\n",
      "\u001b[32m2024-08-13 12:30:07,606 - courlan.core - INFO - 59 links found – 54 valid links\u001b[0m\n",
      "\u001b[32m2024-08-13 12:30:07,606 - courlan.core - INFO - 59 links found – 54 valid links\u001b[0m\n",
      "\u001b[33m2024-08-13 12:30:09,858 - courlan.urlstore - WARNING - Discarding URL: /blogs/blog/tips-for-sleeping-while-travelling\u001b[0m\n",
      "\u001b[33m2024-08-13 12:30:09,858 - courlan.urlstore - WARNING - Discarding URL: /blogs/blog/tips-for-sleeping-while-travelling\u001b[0m\n",
      "\u001b[33m2024-08-13 12:30:09,858 - courlan.urlstore - WARNING - Discarding URL: /blogs/blog/tips-for-sleeping-while-travelling\u001b[0m\n",
      "\u001b[33m2024-08-13 12:30:09,858 - courlan.urlstore - WARNING - Discarding URL: /blogs/blog/tips-for-sleeping-while-travelling\u001b[0m\n",
      "\u001b[33m2024-08-13 12:30:09,858 - courlan.urlstore - WARNING - Discarding URL: /blogs/blog/tips-for-sleeping-while-travelling\u001b[0m\n",
      "\u001b[33m2024-08-13 12:30:09,858 - courlan.urlstore - WARNING - Discarding URL: /blogs/blog/tips-for-sleeping-while-travelling\u001b[0m\n",
      "\u001b[32m2024-08-13 12:30:09,868 - courlan.core - INFO - 35 links found – 27 valid links\u001b[0m\n",
      "\u001b[32m2024-08-13 12:30:09,868 - courlan.core - INFO - 35 links found – 27 valid links\u001b[0m\n",
      "\u001b[32m2024-08-13 12:30:09,868 - courlan.core - INFO - 35 links found – 27 valid links\u001b[0m\n",
      "\u001b[32m2024-08-13 12:30:09,868 - courlan.core - INFO - 35 links found – 27 valid links\u001b[0m\n",
      "\u001b[32m2024-08-13 12:30:09,868 - courlan.core - INFO - 35 links found – 27 valid links\u001b[0m\n",
      "\u001b[32m2024-08-13 12:30:09,868 - courlan.core - INFO - 35 links found – 27 valid links\u001b[0m\n",
      "\u001b[33m2024-08-13 12:30:12,118 - courlan.urlstore - WARNING - Discarding URL: /blogs/blog/sensory-overload-kids-covid\u001b[0m\n",
      "\u001b[33m2024-08-13 12:30:12,118 - courlan.urlstore - WARNING - Discarding URL: /blogs/blog/sensory-overload-kids-covid\u001b[0m\n",
      "\u001b[33m2024-08-13 12:30:12,118 - courlan.urlstore - WARNING - Discarding URL: /blogs/blog/sensory-overload-kids-covid\u001b[0m\n",
      "\u001b[33m2024-08-13 12:30:12,118 - courlan.urlstore - WARNING - Discarding URL: /blogs/blog/sensory-overload-kids-covid\u001b[0m\n",
      "\u001b[33m2024-08-13 12:30:12,118 - courlan.urlstore - WARNING - Discarding URL: /blogs/blog/sensory-overload-kids-covid\u001b[0m\n",
      "\u001b[33m2024-08-13 12:30:12,118 - courlan.urlstore - WARNING - Discarding URL: /blogs/blog/sensory-overload-kids-covid\u001b[0m\n",
      "\u001b[32m2024-08-13 12:30:12,129 - courlan.core - INFO - 35 links found – 27 valid links\u001b[0m\n",
      "\u001b[32m2024-08-13 12:30:12,129 - courlan.core - INFO - 35 links found – 27 valid links\u001b[0m\n",
      "\u001b[32m2024-08-13 12:30:12,129 - courlan.core - INFO - 35 links found – 27 valid links\u001b[0m\n",
      "\u001b[32m2024-08-13 12:30:12,129 - courlan.core - INFO - 35 links found – 27 valid links\u001b[0m\n",
      "\u001b[32m2024-08-13 12:30:12,129 - courlan.core - INFO - 35 links found – 27 valid links\u001b[0m\n",
      "\u001b[32m2024-08-13 12:30:12,129 - courlan.core - INFO - 35 links found – 27 valid links\u001b[0m\n",
      "\u001b[33m2024-08-13 12:30:14,706 - courlan.urlstore - WARNING - Discarding URL: /blogs/blog/suffering-from-auditory-overload-find-your-calm\u001b[0m\n",
      "\u001b[33m2024-08-13 12:30:14,706 - courlan.urlstore - WARNING - Discarding URL: /blogs/blog/suffering-from-auditory-overload-find-your-calm\u001b[0m\n",
      "\u001b[33m2024-08-13 12:30:14,706 - courlan.urlstore - WARNING - Discarding URL: /blogs/blog/suffering-from-auditory-overload-find-your-calm\u001b[0m\n",
      "\u001b[33m2024-08-13 12:30:14,706 - courlan.urlstore - WARNING - Discarding URL: /blogs/blog/suffering-from-auditory-overload-find-your-calm\u001b[0m\n",
      "\u001b[33m2024-08-13 12:30:14,706 - courlan.urlstore - WARNING - Discarding URL: /blogs/blog/suffering-from-auditory-overload-find-your-calm\u001b[0m\n",
      "\u001b[33m2024-08-13 12:30:14,706 - courlan.urlstore - WARNING - Discarding URL: /blogs/blog/suffering-from-auditory-overload-find-your-calm\u001b[0m\n",
      "\u001b[32m2024-08-13 12:30:14,716 - courlan.core - INFO - 33 links found – 29 valid links\u001b[0m\n",
      "\u001b[32m2024-08-13 12:30:14,716 - courlan.core - INFO - 33 links found – 29 valid links\u001b[0m\n",
      "\u001b[32m2024-08-13 12:30:14,716 - courlan.core - INFO - 33 links found – 29 valid links\u001b[0m\n",
      "\u001b[32m2024-08-13 12:30:14,716 - courlan.core - INFO - 33 links found – 29 valid links\u001b[0m\n",
      "\u001b[32m2024-08-13 12:30:14,716 - courlan.core - INFO - 33 links found – 29 valid links\u001b[0m\n",
      "\u001b[32m2024-08-13 12:30:14,716 - courlan.core - INFO - 33 links found – 29 valid links\u001b[0m\n",
      "\u001b[33m2024-08-13 12:30:16,850 - courlan.urlstore - WARNING - Discarding URL: /products/quiet-2-ear-tips-4-pack-multi\u001b[0m\n",
      "\u001b[33m2024-08-13 12:30:16,850 - courlan.urlstore - WARNING - Discarding URL: /products/quiet-2-ear-tips-4-pack-multi\u001b[0m\n",
      "\u001b[33m2024-08-13 12:30:16,850 - courlan.urlstore - WARNING - Discarding URL: /products/quiet-2-ear-tips-4-pack-multi\u001b[0m\n",
      "\u001b[33m2024-08-13 12:30:16,850 - courlan.urlstore - WARNING - Discarding URL: /products/quiet-2-ear-tips-4-pack-multi\u001b[0m\n",
      "\u001b[33m2024-08-13 12:30:16,850 - courlan.urlstore - WARNING - Discarding URL: /products/quiet-2-ear-tips-4-pack-multi\u001b[0m\n",
      "\u001b[33m2024-08-13 12:30:16,850 - courlan.urlstore - WARNING - Discarding URL: /products/quiet-2-ear-tips-4-pack-multi\u001b[0m\n",
      "\u001b[32m2024-08-13 12:30:16,859 - courlan.core - INFO - 28 links found – 24 valid links\u001b[0m\n",
      "\u001b[32m2024-08-13 12:30:16,859 - courlan.core - INFO - 28 links found – 24 valid links\u001b[0m\n",
      "\u001b[32m2024-08-13 12:30:16,859 - courlan.core - INFO - 28 links found – 24 valid links\u001b[0m\n",
      "\u001b[32m2024-08-13 12:30:16,859 - courlan.core - INFO - 28 links found – 24 valid links\u001b[0m\n",
      "\u001b[32m2024-08-13 12:30:16,859 - courlan.core - INFO - 28 links found – 24 valid links\u001b[0m\n",
      "\u001b[32m2024-08-13 12:30:16,859 - courlan.core - INFO - 28 links found – 24 valid links\u001b[0m\n",
      "\u001b[33m2024-08-13 12:30:19,104 - courlan.urlstore - WARNING - Discarding URL: /products/silicone-ear-tips\u001b[0m\n",
      "\u001b[33m2024-08-13 12:30:19,104 - courlan.urlstore - WARNING - Discarding URL: /products/silicone-ear-tips\u001b[0m\n",
      "\u001b[33m2024-08-13 12:30:19,104 - courlan.urlstore - WARNING - Discarding URL: /products/silicone-ear-tips\u001b[0m\n",
      "\u001b[33m2024-08-13 12:30:19,104 - courlan.urlstore - WARNING - Discarding URL: /products/silicone-ear-tips\u001b[0m\n",
      "\u001b[33m2024-08-13 12:30:19,104 - courlan.urlstore - WARNING - Discarding URL: /products/silicone-ear-tips\u001b[0m\n",
      "\u001b[33m2024-08-13 12:30:19,104 - courlan.urlstore - WARNING - Discarding URL: /products/silicone-ear-tips\u001b[0m\n",
      "\u001b[32m2024-08-13 12:30:19,113 - courlan.core - INFO - 28 links found – 24 valid links\u001b[0m\n",
      "\u001b[32m2024-08-13 12:30:19,113 - courlan.core - INFO - 28 links found – 24 valid links\u001b[0m\n",
      "\u001b[32m2024-08-13 12:30:19,113 - courlan.core - INFO - 28 links found – 24 valid links\u001b[0m\n",
      "\u001b[32m2024-08-13 12:30:19,113 - courlan.core - INFO - 28 links found – 24 valid links\u001b[0m\n",
      "\u001b[32m2024-08-13 12:30:19,113 - courlan.core - INFO - 28 links found – 24 valid links\u001b[0m\n",
      "\u001b[32m2024-08-13 12:30:19,113 - courlan.core - INFO - 28 links found – 24 valid links\u001b[0m\n",
      "\u001b[33m2024-08-13 12:30:21,357 - courlan.urlstore - WARNING - Discarding URL: /products/carry-case-switch\u001b[0m\n",
      "\u001b[33m2024-08-13 12:30:21,357 - courlan.urlstore - WARNING - Discarding URL: /products/carry-case-switch\u001b[0m\n",
      "\u001b[33m2024-08-13 12:30:21,357 - courlan.urlstore - WARNING - Discarding URL: /products/carry-case-switch\u001b[0m\n",
      "\u001b[33m2024-08-13 12:30:21,357 - courlan.urlstore - WARNING - Discarding URL: /products/carry-case-switch\u001b[0m\n",
      "\u001b[33m2024-08-13 12:30:21,357 - courlan.urlstore - WARNING - Discarding URL: /products/carry-case-switch\u001b[0m\n",
      "\u001b[33m2024-08-13 12:30:21,357 - courlan.urlstore - WARNING - Discarding URL: /products/carry-case-switch\u001b[0m\n",
      "\u001b[32m2024-08-13 12:30:21,367 - courlan.core - INFO - 28 links found – 24 valid links\u001b[0m\n",
      "\u001b[32m2024-08-13 12:30:21,367 - courlan.core - INFO - 28 links found – 24 valid links\u001b[0m\n",
      "\u001b[32m2024-08-13 12:30:21,367 - courlan.core - INFO - 28 links found – 24 valid links\u001b[0m\n",
      "\u001b[32m2024-08-13 12:30:21,367 - courlan.core - INFO - 28 links found – 24 valid links\u001b[0m\n",
      "\u001b[32m2024-08-13 12:30:21,367 - courlan.core - INFO - 28 links found – 24 valid links\u001b[0m\n",
      "\u001b[32m2024-08-13 12:30:21,367 - courlan.core - INFO - 28 links found – 24 valid links\u001b[0m\n",
      "\u001b[33m2024-08-13 12:30:22,590 - courlan.urlstore - WARNING - Discarding URL: /products/link\u001b[0m\n",
      "\u001b[33m2024-08-13 12:30:22,590 - courlan.urlstore - WARNING - Discarding URL: /products/link\u001b[0m\n",
      "\u001b[33m2024-08-13 12:30:22,590 - courlan.urlstore - WARNING - Discarding URL: /products/link\u001b[0m\n",
      "\u001b[33m2024-08-13 12:30:22,590 - courlan.urlstore - WARNING - Discarding URL: /products/link\u001b[0m\n",
      "\u001b[33m2024-08-13 12:30:22,590 - courlan.urlstore - WARNING - Discarding URL: /products/link\u001b[0m\n",
      "\u001b[33m2024-08-13 12:30:22,590 - courlan.urlstore - WARNING - Discarding URL: /products/link\u001b[0m\n",
      "\u001b[32m2024-08-13 12:30:22,601 - courlan.core - INFO - 31 links found – 25 valid links\u001b[0m\n",
      "\u001b[32m2024-08-13 12:30:22,601 - courlan.core - INFO - 31 links found – 25 valid links\u001b[0m\n",
      "\u001b[32m2024-08-13 12:30:22,601 - courlan.core - INFO - 31 links found – 25 valid links\u001b[0m\n",
      "\u001b[32m2024-08-13 12:30:22,601 - courlan.core - INFO - 31 links found – 25 valid links\u001b[0m\n",
      "\u001b[32m2024-08-13 12:30:22,601 - courlan.core - INFO - 31 links found – 25 valid links\u001b[0m\n",
      "\u001b[32m2024-08-13 12:30:22,601 - courlan.core - INFO - 31 links found – 25 valid links\u001b[0m\n",
      "\u001b[33m2024-08-13 12:30:24,701 - courlan.urlstore - WARNING - Discarding URL: /products/tips-foam\u001b[0m\n",
      "\u001b[33m2024-08-13 12:30:24,701 - courlan.urlstore - WARNING - Discarding URL: /products/tips-foam\u001b[0m\n",
      "\u001b[33m2024-08-13 12:30:24,701 - courlan.urlstore - WARNING - Discarding URL: /products/tips-foam\u001b[0m\n",
      "\u001b[33m2024-08-13 12:30:24,701 - courlan.urlstore - WARNING - Discarding URL: /products/tips-foam\u001b[0m\n",
      "\u001b[33m2024-08-13 12:30:24,701 - courlan.urlstore - WARNING - Discarding URL: /products/tips-foam\u001b[0m\n",
      "\u001b[33m2024-08-13 12:30:24,701 - courlan.urlstore - WARNING - Discarding URL: /products/tips-foam\u001b[0m\n",
      "\u001b[32m2024-08-13 12:30:24,709 - courlan.core - INFO - 28 links found – 24 valid links\u001b[0m\n",
      "\u001b[32m2024-08-13 12:30:24,709 - courlan.core - INFO - 28 links found – 24 valid links\u001b[0m\n",
      "\u001b[32m2024-08-13 12:30:24,709 - courlan.core - INFO - 28 links found – 24 valid links\u001b[0m\n",
      "\u001b[32m2024-08-13 12:30:24,709 - courlan.core - INFO - 28 links found – 24 valid links\u001b[0m\n",
      "\u001b[32m2024-08-13 12:30:24,709 - courlan.core - INFO - 28 links found – 24 valid links\u001b[0m\n",
      "\u001b[32m2024-08-13 12:30:24,709 - courlan.core - INFO - 28 links found – 24 valid links\u001b[0m\n",
      "\u001b[33m2024-08-13 12:30:26,897 - courlan.urlstore - WARNING - Discarding URL: /products/tips-silicone-mute\u001b[0m\n",
      "\u001b[33m2024-08-13 12:30:26,897 - courlan.urlstore - WARNING - Discarding URL: /products/tips-silicone-mute\u001b[0m\n",
      "\u001b[33m2024-08-13 12:30:26,897 - courlan.urlstore - WARNING - Discarding URL: /products/tips-silicone-mute\u001b[0m\n",
      "\u001b[33m2024-08-13 12:30:26,897 - courlan.urlstore - WARNING - Discarding URL: /products/tips-silicone-mute\u001b[0m\n",
      "\u001b[33m2024-08-13 12:30:26,897 - courlan.urlstore - WARNING - Discarding URL: /products/tips-silicone-mute\u001b[0m\n",
      "\u001b[33m2024-08-13 12:30:26,897 - courlan.urlstore - WARNING - Discarding URL: /products/tips-silicone-mute\u001b[0m\n",
      "\u001b[32m2024-08-13 12:30:26,904 - courlan.core - INFO - 28 links found – 24 valid links\u001b[0m\n",
      "\u001b[32m2024-08-13 12:30:26,904 - courlan.core - INFO - 28 links found – 24 valid links\u001b[0m\n",
      "\u001b[32m2024-08-13 12:30:26,904 - courlan.core - INFO - 28 links found – 24 valid links\u001b[0m\n",
      "\u001b[32m2024-08-13 12:30:26,904 - courlan.core - INFO - 28 links found – 24 valid links\u001b[0m\n",
      "\u001b[32m2024-08-13 12:30:26,904 - courlan.core - INFO - 28 links found – 24 valid links\u001b[0m\n",
      "\u001b[32m2024-08-13 12:30:26,904 - courlan.core - INFO - 28 links found – 24 valid links\u001b[0m\n",
      "\u001b[33m2024-08-13 12:30:29,192 - courlan.urlstore - WARNING - Discarding URL: /products/quiet-2-ear-tips-4-pack-black\u001b[0m\n",
      "\u001b[33m2024-08-13 12:30:29,192 - courlan.urlstore - WARNING - Discarding URL: /products/quiet-2-ear-tips-4-pack-black\u001b[0m\n",
      "\u001b[33m2024-08-13 12:30:29,192 - courlan.urlstore - WARNING - Discarding URL: /products/quiet-2-ear-tips-4-pack-black\u001b[0m\n",
      "\u001b[33m2024-08-13 12:30:29,192 - courlan.urlstore - WARNING - Discarding URL: /products/quiet-2-ear-tips-4-pack-black\u001b[0m\n",
      "\u001b[33m2024-08-13 12:30:29,192 - courlan.urlstore - WARNING - Discarding URL: /products/quiet-2-ear-tips-4-pack-black\u001b[0m\n",
      "\u001b[33m2024-08-13 12:30:29,192 - courlan.urlstore - WARNING - Discarding URL: /products/quiet-2-ear-tips-4-pack-black\u001b[0m\n",
      "\u001b[32m2024-08-13 12:30:29,202 - courlan.core - INFO - 28 links found – 24 valid links\u001b[0m\n",
      "\u001b[32m2024-08-13 12:30:29,202 - courlan.core - INFO - 28 links found – 24 valid links\u001b[0m\n",
      "\u001b[32m2024-08-13 12:30:29,202 - courlan.core - INFO - 28 links found – 24 valid links\u001b[0m\n",
      "\u001b[32m2024-08-13 12:30:29,202 - courlan.core - INFO - 28 links found – 24 valid links\u001b[0m\n",
      "\u001b[32m2024-08-13 12:30:29,202 - courlan.core - INFO - 28 links found – 24 valid links\u001b[0m\n",
      "\u001b[32m2024-08-13 12:30:29,202 - courlan.core - INFO - 28 links found – 24 valid links\u001b[0m\n",
      "\u001b[33m2024-08-13 12:30:31,414 - courlan.urlstore - WARNING - Discarding URL: /products/double-tips\u001b[0m\n",
      "\u001b[33m2024-08-13 12:30:31,414 - courlan.urlstore - WARNING - Discarding URL: /products/double-tips\u001b[0m\n",
      "\u001b[33m2024-08-13 12:30:31,414 - courlan.urlstore - WARNING - Discarding URL: /products/double-tips\u001b[0m\n",
      "\u001b[33m2024-08-13 12:30:31,414 - courlan.urlstore - WARNING - Discarding URL: /products/double-tips\u001b[0m\n",
      "\u001b[33m2024-08-13 12:30:31,414 - courlan.urlstore - WARNING - Discarding URL: /products/double-tips\u001b[0m\n",
      "\u001b[33m2024-08-13 12:30:31,414 - courlan.urlstore - WARNING - Discarding URL: /products/double-tips\u001b[0m\n",
      "\u001b[32m2024-08-13 12:30:31,423 - courlan.core - INFO - 28 links found – 24 valid links\u001b[0m\n",
      "\u001b[32m2024-08-13 12:30:31,423 - courlan.core - INFO - 28 links found – 24 valid links\u001b[0m\n",
      "\u001b[32m2024-08-13 12:30:31,423 - courlan.core - INFO - 28 links found – 24 valid links\u001b[0m\n",
      "\u001b[32m2024-08-13 12:30:31,423 - courlan.core - INFO - 28 links found – 24 valid links\u001b[0m\n",
      "\u001b[32m2024-08-13 12:30:31,423 - courlan.core - INFO - 28 links found – 24 valid links\u001b[0m\n",
      "\u001b[32m2024-08-13 12:30:31,423 - courlan.core - INFO - 28 links found – 24 valid links\u001b[0m\n",
      "\u001b[33m2024-08-13 12:30:33,642 - courlan.urlstore - WARNING - Discarding URL: /pages/focus\u001b[0m\n",
      "\u001b[33m2024-08-13 12:30:33,642 - courlan.urlstore - WARNING - Discarding URL: /pages/focus\u001b[0m\n",
      "\u001b[33m2024-08-13 12:30:33,642 - courlan.urlstore - WARNING - Discarding URL: /pages/focus\u001b[0m\n",
      "\u001b[33m2024-08-13 12:30:33,642 - courlan.urlstore - WARNING - Discarding URL: /pages/focus\u001b[0m\n",
      "\u001b[33m2024-08-13 12:30:33,642 - courlan.urlstore - WARNING - Discarding URL: /pages/focus\u001b[0m\n",
      "\u001b[33m2024-08-13 12:30:33,642 - courlan.urlstore - WARNING - Discarding URL: /pages/focus\u001b[0m\n",
      "\u001b[32m2024-08-13 12:30:33,650 - courlan.core - INFO - 35 links found – 29 valid links\u001b[0m\n",
      "\u001b[32m2024-08-13 12:30:33,650 - courlan.core - INFO - 35 links found – 29 valid links\u001b[0m\n",
      "\u001b[32m2024-08-13 12:30:33,650 - courlan.core - INFO - 35 links found – 29 valid links\u001b[0m\n",
      "\u001b[32m2024-08-13 12:30:33,650 - courlan.core - INFO - 35 links found – 29 valid links\u001b[0m\n",
      "\u001b[32m2024-08-13 12:30:33,650 - courlan.core - INFO - 35 links found – 29 valid links\u001b[0m\n",
      "\u001b[32m2024-08-13 12:30:33,650 - courlan.core - INFO - 35 links found – 29 valid links\u001b[0m\n",
      "\u001b[33m2024-08-13 12:30:36,286 - courlan.urlstore - WARNING - Discarding URL: /blogs/blog/how-to-stay-focused-at-work\u001b[0m\n",
      "\u001b[33m2024-08-13 12:30:36,286 - courlan.urlstore - WARNING - Discarding URL: /blogs/blog/how-to-stay-focused-at-work\u001b[0m\n",
      "\u001b[33m2024-08-13 12:30:36,286 - courlan.urlstore - WARNING - Discarding URL: /blogs/blog/how-to-stay-focused-at-work\u001b[0m\n",
      "\u001b[33m2024-08-13 12:30:36,286 - courlan.urlstore - WARNING - Discarding URL: /blogs/blog/how-to-stay-focused-at-work\u001b[0m\n",
      "\u001b[33m2024-08-13 12:30:36,286 - courlan.urlstore - WARNING - Discarding URL: /blogs/blog/how-to-stay-focused-at-work\u001b[0m\n",
      "\u001b[33m2024-08-13 12:30:36,286 - courlan.urlstore - WARNING - Discarding URL: /blogs/blog/how-to-stay-focused-at-work\u001b[0m\n",
      "\u001b[32m2024-08-13 12:30:36,293 - courlan.core - INFO - 39 links found – 29 valid links\u001b[0m\n",
      "\u001b[32m2024-08-13 12:30:36,293 - courlan.core - INFO - 39 links found – 29 valid links\u001b[0m\n",
      "\u001b[32m2024-08-13 12:30:36,293 - courlan.core - INFO - 39 links found – 29 valid links\u001b[0m\n",
      "\u001b[32m2024-08-13 12:30:36,293 - courlan.core - INFO - 39 links found – 29 valid links\u001b[0m\n",
      "\u001b[32m2024-08-13 12:30:36,293 - courlan.core - INFO - 39 links found – 29 valid links\u001b[0m\n",
      "\u001b[32m2024-08-13 12:30:36,293 - courlan.core - INFO - 39 links found – 29 valid links\u001b[0m\n",
      "\u001b[33m2024-08-13 12:30:38,420 - courlan.urlstore - WARNING - Discarding URL: /blogs/blog/autistic-traits-sound-sensitivity-how-are-they-linked\u001b[0m\n",
      "\u001b[33m2024-08-13 12:30:38,420 - courlan.urlstore - WARNING - Discarding URL: /blogs/blog/autistic-traits-sound-sensitivity-how-are-they-linked\u001b[0m\n",
      "\u001b[33m2024-08-13 12:30:38,420 - courlan.urlstore - WARNING - Discarding URL: /blogs/blog/autistic-traits-sound-sensitivity-how-are-they-linked\u001b[0m\n",
      "\u001b[33m2024-08-13 12:30:38,420 - courlan.urlstore - WARNING - Discarding URL: /blogs/blog/autistic-traits-sound-sensitivity-how-are-they-linked\u001b[0m\n",
      "\u001b[33m2024-08-13 12:30:38,420 - courlan.urlstore - WARNING - Discarding URL: /blogs/blog/autistic-traits-sound-sensitivity-how-are-they-linked\u001b[0m\n",
      "\u001b[33m2024-08-13 12:30:38,420 - courlan.urlstore - WARNING - Discarding URL: /blogs/blog/autistic-traits-sound-sensitivity-how-are-they-linked\u001b[0m\n",
      "\u001b[32m2024-08-13 12:30:38,427 - courlan.core - INFO - 33 links found – 27 valid links\u001b[0m\n",
      "\u001b[32m2024-08-13 12:30:38,427 - courlan.core - INFO - 33 links found – 27 valid links\u001b[0m\n",
      "\u001b[32m2024-08-13 12:30:38,427 - courlan.core - INFO - 33 links found – 27 valid links\u001b[0m\n",
      "\u001b[32m2024-08-13 12:30:38,427 - courlan.core - INFO - 33 links found – 27 valid links\u001b[0m\n",
      "\u001b[32m2024-08-13 12:30:38,427 - courlan.core - INFO - 33 links found – 27 valid links\u001b[0m\n",
      "\u001b[32m2024-08-13 12:30:38,427 - courlan.core - INFO - 33 links found – 27 valid links\u001b[0m\n",
      "\u001b[33m2024-08-13 12:30:40,651 - courlan.urlstore - WARNING - Discarding URL: /products/deluxe-bundle\u001b[0m\n",
      "\u001b[33m2024-08-13 12:30:40,651 - courlan.urlstore - WARNING - Discarding URL: /products/deluxe-bundle\u001b[0m\n",
      "\u001b[33m2024-08-13 12:30:40,651 - courlan.urlstore - WARNING - Discarding URL: /products/deluxe-bundle\u001b[0m\n",
      "\u001b[33m2024-08-13 12:30:40,651 - courlan.urlstore - WARNING - Discarding URL: /products/deluxe-bundle\u001b[0m\n",
      "\u001b[33m2024-08-13 12:30:40,651 - courlan.urlstore - WARNING - Discarding URL: /products/deluxe-bundle\u001b[0m\n",
      "\u001b[33m2024-08-13 12:30:40,651 - courlan.urlstore - WARNING - Discarding URL: /products/deluxe-bundle\u001b[0m\n",
      "\u001b[32m2024-08-13 12:30:40,662 - courlan.core - INFO - 28 links found – 24 valid links\u001b[0m\n",
      "\u001b[32m2024-08-13 12:30:40,662 - courlan.core - INFO - 28 links found – 24 valid links\u001b[0m\n",
      "\u001b[32m2024-08-13 12:30:40,662 - courlan.core - INFO - 28 links found – 24 valid links\u001b[0m\n",
      "\u001b[32m2024-08-13 12:30:40,662 - courlan.core - INFO - 28 links found – 24 valid links\u001b[0m\n",
      "\u001b[32m2024-08-13 12:30:40,662 - courlan.core - INFO - 28 links found – 24 valid links\u001b[0m\n",
      "\u001b[32m2024-08-13 12:30:40,662 - courlan.core - INFO - 28 links found – 24 valid links\u001b[0m\n",
      "\u001b[33m2024-08-13 12:30:42,759 - courlan.urlstore - WARNING - Discarding URL: /products/festival-bundle\u001b[0m\n",
      "\u001b[33m2024-08-13 12:30:42,759 - courlan.urlstore - WARNING - Discarding URL: /products/festival-bundle\u001b[0m\n",
      "\u001b[33m2024-08-13 12:30:42,759 - courlan.urlstore - WARNING - Discarding URL: /products/festival-bundle\u001b[0m\n",
      "\u001b[33m2024-08-13 12:30:42,759 - courlan.urlstore - WARNING - Discarding URL: /products/festival-bundle\u001b[0m\n",
      "\u001b[33m2024-08-13 12:30:42,759 - courlan.urlstore - WARNING - Discarding URL: /products/festival-bundle\u001b[0m\n",
      "\u001b[33m2024-08-13 12:30:42,759 - courlan.urlstore - WARNING - Discarding URL: /products/festival-bundle\u001b[0m\n",
      "\u001b[32m2024-08-13 12:30:42,767 - courlan.core - INFO - 28 links found – 24 valid links\u001b[0m\n",
      "\u001b[32m2024-08-13 12:30:42,767 - courlan.core - INFO - 28 links found – 24 valid links\u001b[0m\n",
      "\u001b[32m2024-08-13 12:30:42,767 - courlan.core - INFO - 28 links found – 24 valid links\u001b[0m\n",
      "\u001b[32m2024-08-13 12:30:42,767 - courlan.core - INFO - 28 links found – 24 valid links\u001b[0m\n",
      "\u001b[32m2024-08-13 12:30:42,767 - courlan.core - INFO - 28 links found – 24 valid links\u001b[0m\n",
      "\u001b[32m2024-08-13 12:30:42,767 - courlan.core - INFO - 28 links found – 24 valid links\u001b[0m\n",
      "\u001b[33m2024-08-13 12:30:44,936 - courlan.urlstore - WARNING - Discarding URL: /products/earplug-bundle\u001b[0m\n",
      "\u001b[33m2024-08-13 12:30:44,936 - courlan.urlstore - WARNING - Discarding URL: /products/earplug-bundle\u001b[0m\n",
      "\u001b[33m2024-08-13 12:30:44,936 - courlan.urlstore - WARNING - Discarding URL: /products/earplug-bundle\u001b[0m\n",
      "\u001b[33m2024-08-13 12:30:44,936 - courlan.urlstore - WARNING - Discarding URL: /products/earplug-bundle\u001b[0m\n",
      "\u001b[33m2024-08-13 12:30:44,936 - courlan.urlstore - WARNING - Discarding URL: /products/earplug-bundle\u001b[0m\n",
      "\u001b[33m2024-08-13 12:30:44,936 - courlan.urlstore - WARNING - Discarding URL: /products/earplug-bundle\u001b[0m\n",
      "\u001b[32m2024-08-13 12:30:44,949 - courlan.core - INFO - 28 links found – 24 valid links\u001b[0m\n",
      "\u001b[32m2024-08-13 12:30:44,949 - courlan.core - INFO - 28 links found – 24 valid links\u001b[0m\n",
      "\u001b[32m2024-08-13 12:30:44,949 - courlan.core - INFO - 28 links found – 24 valid links\u001b[0m\n",
      "\u001b[32m2024-08-13 12:30:44,949 - courlan.core - INFO - 28 links found – 24 valid links\u001b[0m\n",
      "\u001b[32m2024-08-13 12:30:44,949 - courlan.core - INFO - 28 links found – 24 valid links\u001b[0m\n",
      "\u001b[32m2024-08-13 12:30:44,949 - courlan.core - INFO - 28 links found – 24 valid links\u001b[0m\n",
      "\u001b[33m2024-08-13 12:30:47,347 - courlan.urlstore - WARNING - Discarding URL: /pages/store-credit-policy\u001b[0m\n",
      "\u001b[33m2024-08-13 12:30:47,347 - courlan.urlstore - WARNING - Discarding URL: /pages/store-credit-policy\u001b[0m\n",
      "\u001b[33m2024-08-13 12:30:47,347 - courlan.urlstore - WARNING - Discarding URL: /pages/store-credit-policy\u001b[0m\n",
      "\u001b[33m2024-08-13 12:30:47,347 - courlan.urlstore - WARNING - Discarding URL: /pages/store-credit-policy\u001b[0m\n",
      "\u001b[33m2024-08-13 12:30:47,347 - courlan.urlstore - WARNING - Discarding URL: /pages/store-credit-policy\u001b[0m\n",
      "\u001b[33m2024-08-13 12:30:47,347 - courlan.urlstore - WARNING - Discarding URL: /pages/store-credit-policy\u001b[0m\n",
      "\u001b[32m2024-08-13 12:30:47,354 - courlan.core - INFO - 26 links found – 23 valid links\u001b[0m\n",
      "\u001b[32m2024-08-13 12:30:47,354 - courlan.core - INFO - 26 links found – 23 valid links\u001b[0m\n",
      "\u001b[32m2024-08-13 12:30:47,354 - courlan.core - INFO - 26 links found – 23 valid links\u001b[0m\n",
      "\u001b[32m2024-08-13 12:30:47,354 - courlan.core - INFO - 26 links found – 23 valid links\u001b[0m\n",
      "\u001b[32m2024-08-13 12:30:47,354 - courlan.core - INFO - 26 links found – 23 valid links\u001b[0m\n",
      "\u001b[32m2024-08-13 12:30:47,354 - courlan.core - INFO - 26 links found – 23 valid links\u001b[0m\n",
      "\u001b[33m2024-08-13 12:30:49,784 - courlan.urlstore - WARNING - Discarding URL: /blogs/life-at-loop/8-employees-2-questions\u001b[0m\n",
      "\u001b[33m2024-08-13 12:30:49,784 - courlan.urlstore - WARNING - Discarding URL: /blogs/life-at-loop/8-employees-2-questions\u001b[0m\n",
      "\u001b[33m2024-08-13 12:30:49,784 - courlan.urlstore - WARNING - Discarding URL: /blogs/life-at-loop/8-employees-2-questions\u001b[0m\n",
      "\u001b[33m2024-08-13 12:30:49,784 - courlan.urlstore - WARNING - Discarding URL: /blogs/life-at-loop/8-employees-2-questions\u001b[0m\n",
      "\u001b[33m2024-08-13 12:30:49,784 - courlan.urlstore - WARNING - Discarding URL: /blogs/life-at-loop/8-employees-2-questions\u001b[0m\n",
      "\u001b[33m2024-08-13 12:30:49,784 - courlan.urlstore - WARNING - Discarding URL: /blogs/life-at-loop/8-employees-2-questions\u001b[0m\n",
      "\u001b[32m2024-08-13 12:30:49,793 - courlan.core - INFO - 29 links found – 26 valid links\u001b[0m\n",
      "\u001b[32m2024-08-13 12:30:49,793 - courlan.core - INFO - 29 links found – 26 valid links\u001b[0m\n",
      "\u001b[32m2024-08-13 12:30:49,793 - courlan.core - INFO - 29 links found – 26 valid links\u001b[0m\n",
      "\u001b[32m2024-08-13 12:30:49,793 - courlan.core - INFO - 29 links found – 26 valid links\u001b[0m\n",
      "\u001b[32m2024-08-13 12:30:49,793 - courlan.core - INFO - 29 links found – 26 valid links\u001b[0m\n",
      "\u001b[32m2024-08-13 12:30:49,793 - courlan.core - INFO - 29 links found – 26 valid links\u001b[0m\n",
      "\u001b[33m2024-08-13 12:30:51,762 - courlan.urlstore - WARNING - Discarding URL: /blogs/life-at-loop/loop-in-the-city\u001b[0m\n",
      "\u001b[33m2024-08-13 12:30:51,762 - courlan.urlstore - WARNING - Discarding URL: /blogs/life-at-loop/loop-in-the-city\u001b[0m\n",
      "\u001b[33m2024-08-13 12:30:51,762 - courlan.urlstore - WARNING - Discarding URL: /blogs/life-at-loop/loop-in-the-city\u001b[0m\n",
      "\u001b[33m2024-08-13 12:30:51,762 - courlan.urlstore - WARNING - Discarding URL: /blogs/life-at-loop/loop-in-the-city\u001b[0m\n",
      "\u001b[33m2024-08-13 12:30:51,762 - courlan.urlstore - WARNING - Discarding URL: /blogs/life-at-loop/loop-in-the-city\u001b[0m\n",
      "\u001b[33m2024-08-13 12:30:51,762 - courlan.urlstore - WARNING - Discarding URL: /blogs/life-at-loop/loop-in-the-city\u001b[0m\n",
      "\u001b[32m2024-08-13 12:30:51,771 - courlan.core - INFO - 29 links found – 26 valid links\u001b[0m\n",
      "\u001b[32m2024-08-13 12:30:51,771 - courlan.core - INFO - 29 links found – 26 valid links\u001b[0m\n",
      "\u001b[32m2024-08-13 12:30:51,771 - courlan.core - INFO - 29 links found – 26 valid links\u001b[0m\n",
      "\u001b[32m2024-08-13 12:30:51,771 - courlan.core - INFO - 29 links found – 26 valid links\u001b[0m\n",
      "\u001b[32m2024-08-13 12:30:51,771 - courlan.core - INFO - 29 links found – 26 valid links\u001b[0m\n",
      "\u001b[32m2024-08-13 12:30:51,771 - courlan.core - INFO - 29 links found – 26 valid links\u001b[0m\n",
      "\u001b[33m2024-08-13 12:30:53,846 - courlan.urlstore - WARNING - Discarding URL: /blogs/blog/top-9-brilliant-misophonia-podcasts-to-listen-to\u001b[0m\n",
      "\u001b[33m2024-08-13 12:30:53,846 - courlan.urlstore - WARNING - Discarding URL: /blogs/blog/top-9-brilliant-misophonia-podcasts-to-listen-to\u001b[0m\n",
      "\u001b[33m2024-08-13 12:30:53,846 - courlan.urlstore - WARNING - Discarding URL: /blogs/blog/top-9-brilliant-misophonia-podcasts-to-listen-to\u001b[0m\n",
      "\u001b[33m2024-08-13 12:30:53,846 - courlan.urlstore - WARNING - Discarding URL: /blogs/blog/top-9-brilliant-misophonia-podcasts-to-listen-to\u001b[0m\n",
      "\u001b[33m2024-08-13 12:30:53,846 - courlan.urlstore - WARNING - Discarding URL: /blogs/blog/top-9-brilliant-misophonia-podcasts-to-listen-to\u001b[0m\n",
      "\u001b[33m2024-08-13 12:30:53,846 - courlan.urlstore - WARNING - Discarding URL: /blogs/blog/top-9-brilliant-misophonia-podcasts-to-listen-to\u001b[0m\n",
      "\u001b[32m2024-08-13 12:30:53,858 - courlan.core - INFO - 41 links found – 27 valid links\u001b[0m\n",
      "\u001b[32m2024-08-13 12:30:53,858 - courlan.core - INFO - 41 links found – 27 valid links\u001b[0m\n",
      "\u001b[32m2024-08-13 12:30:53,858 - courlan.core - INFO - 41 links found – 27 valid links\u001b[0m\n",
      "\u001b[32m2024-08-13 12:30:53,858 - courlan.core - INFO - 41 links found – 27 valid links\u001b[0m\n",
      "\u001b[32m2024-08-13 12:30:53,858 - courlan.core - INFO - 41 links found – 27 valid links\u001b[0m\n",
      "\u001b[32m2024-08-13 12:30:53,858 - courlan.core - INFO - 41 links found – 27 valid links\u001b[0m\n",
      "\u001b[33m2024-08-13 12:30:55,882 - courlan.urlstore - WARNING - Discarding URL: /blogs/life-at-loop/walk-talk-with-fan\u001b[0m\n",
      "\u001b[33m2024-08-13 12:30:55,882 - courlan.urlstore - WARNING - Discarding URL: /blogs/life-at-loop/walk-talk-with-fan\u001b[0m\n",
      "\u001b[33m2024-08-13 12:30:55,882 - courlan.urlstore - WARNING - Discarding URL: /blogs/life-at-loop/walk-talk-with-fan\u001b[0m\n",
      "\u001b[33m2024-08-13 12:30:55,882 - courlan.urlstore - WARNING - Discarding URL: /blogs/life-at-loop/walk-talk-with-fan\u001b[0m\n",
      "\u001b[33m2024-08-13 12:30:55,882 - courlan.urlstore - WARNING - Discarding URL: /blogs/life-at-loop/walk-talk-with-fan\u001b[0m\n",
      "\u001b[33m2024-08-13 12:30:55,882 - courlan.urlstore - WARNING - Discarding URL: /blogs/life-at-loop/walk-talk-with-fan\u001b[0m\n",
      "\u001b[32m2024-08-13 12:30:55,894 - courlan.core - INFO - 30 links found – 26 valid links\u001b[0m\n",
      "\u001b[32m2024-08-13 12:30:55,894 - courlan.core - INFO - 30 links found – 26 valid links\u001b[0m\n",
      "\u001b[32m2024-08-13 12:30:55,894 - courlan.core - INFO - 30 links found – 26 valid links\u001b[0m\n",
      "\u001b[32m2024-08-13 12:30:55,894 - courlan.core - INFO - 30 links found – 26 valid links\u001b[0m\n",
      "\u001b[32m2024-08-13 12:30:55,894 - courlan.core - INFO - 30 links found – 26 valid links\u001b[0m\n",
      "\u001b[32m2024-08-13 12:30:55,894 - courlan.core - INFO - 30 links found – 26 valid links\u001b[0m\n",
      "\u001b[33m2024-08-13 12:30:58,356 - courlan.urlstore - WARNING - Discarding URL: /blogs/blog/how-sleeping-with-earplugs-can-improve-your-sleep\u001b[0m\n",
      "\u001b[33m2024-08-13 12:30:58,356 - courlan.urlstore - WARNING - Discarding URL: /blogs/blog/how-sleeping-with-earplugs-can-improve-your-sleep\u001b[0m\n",
      "\u001b[33m2024-08-13 12:30:58,356 - courlan.urlstore - WARNING - Discarding URL: /blogs/blog/how-sleeping-with-earplugs-can-improve-your-sleep\u001b[0m\n",
      "\u001b[33m2024-08-13 12:30:58,356 - courlan.urlstore - WARNING - Discarding URL: /blogs/blog/how-sleeping-with-earplugs-can-improve-your-sleep\u001b[0m\n",
      "\u001b[33m2024-08-13 12:30:58,356 - courlan.urlstore - WARNING - Discarding URL: /blogs/blog/how-sleeping-with-earplugs-can-improve-your-sleep\u001b[0m\n",
      "\u001b[33m2024-08-13 12:30:58,356 - courlan.urlstore - WARNING - Discarding URL: /blogs/blog/how-sleeping-with-earplugs-can-improve-your-sleep\u001b[0m\n",
      "\u001b[32m2024-08-13 12:30:58,364 - courlan.core - INFO - 43 links found – 33 valid links\u001b[0m\n",
      "\u001b[32m2024-08-13 12:30:58,364 - courlan.core - INFO - 43 links found – 33 valid links\u001b[0m\n",
      "\u001b[32m2024-08-13 12:30:58,364 - courlan.core - INFO - 43 links found – 33 valid links\u001b[0m\n",
      "\u001b[32m2024-08-13 12:30:58,364 - courlan.core - INFO - 43 links found – 33 valid links\u001b[0m\n",
      "\u001b[32m2024-08-13 12:30:58,364 - courlan.core - INFO - 43 links found – 33 valid links\u001b[0m\n",
      "\u001b[32m2024-08-13 12:30:58,364 - courlan.core - INFO - 43 links found – 33 valid links\u001b[0m\n",
      "\u001b[33m2024-08-13 12:31:00,754 - courlan.urlstore - WARNING - Discarding URL: /blogs/blog/behind-the-scenes-creating-solstice\u001b[0m\n",
      "\u001b[33m2024-08-13 12:31:00,754 - courlan.urlstore - WARNING - Discarding URL: /blogs/blog/behind-the-scenes-creating-solstice\u001b[0m\n",
      "\u001b[33m2024-08-13 12:31:00,754 - courlan.urlstore - WARNING - Discarding URL: /blogs/blog/behind-the-scenes-creating-solstice\u001b[0m\n",
      "\u001b[33m2024-08-13 12:31:00,754 - courlan.urlstore - WARNING - Discarding URL: /blogs/blog/behind-the-scenes-creating-solstice\u001b[0m\n",
      "\u001b[33m2024-08-13 12:31:00,754 - courlan.urlstore - WARNING - Discarding URL: /blogs/blog/behind-the-scenes-creating-solstice\u001b[0m\n",
      "\u001b[33m2024-08-13 12:31:00,754 - courlan.urlstore - WARNING - Discarding URL: /blogs/blog/behind-the-scenes-creating-solstice\u001b[0m\n",
      "\u001b[32m2024-08-13 12:31:00,764 - courlan.core - INFO - 32 links found – 29 valid links\u001b[0m\n",
      "\u001b[32m2024-08-13 12:31:00,764 - courlan.core - INFO - 32 links found – 29 valid links\u001b[0m\n",
      "\u001b[32m2024-08-13 12:31:00,764 - courlan.core - INFO - 32 links found – 29 valid links\u001b[0m\n",
      "\u001b[32m2024-08-13 12:31:00,764 - courlan.core - INFO - 32 links found – 29 valid links\u001b[0m\n",
      "\u001b[32m2024-08-13 12:31:00,764 - courlan.core - INFO - 32 links found – 29 valid links\u001b[0m\n",
      "\u001b[32m2024-08-13 12:31:00,764 - courlan.core - INFO - 32 links found – 29 valid links\u001b[0m\n",
      "\u001b[33m2024-08-13 12:31:03,147 - courlan.urlstore - WARNING - Discarding URL: /blogs/blog/how-to-avoid-hearing-damage\u001b[0m\n",
      "\u001b[33m2024-08-13 12:31:03,147 - courlan.urlstore - WARNING - Discarding URL: /blogs/blog/how-to-avoid-hearing-damage\u001b[0m\n",
      "\u001b[33m2024-08-13 12:31:03,147 - courlan.urlstore - WARNING - Discarding URL: /blogs/blog/how-to-avoid-hearing-damage\u001b[0m\n",
      "\u001b[33m2024-08-13 12:31:03,147 - courlan.urlstore - WARNING - Discarding URL: /blogs/blog/how-to-avoid-hearing-damage\u001b[0m\n",
      "\u001b[33m2024-08-13 12:31:03,147 - courlan.urlstore - WARNING - Discarding URL: /blogs/blog/how-to-avoid-hearing-damage\u001b[0m\n",
      "\u001b[33m2024-08-13 12:31:03,147 - courlan.urlstore - WARNING - Discarding URL: /blogs/blog/how-to-avoid-hearing-damage\u001b[0m\n",
      "\u001b[32m2024-08-13 12:31:03,159 - courlan.core - INFO - 37 links found – 29 valid links\u001b[0m\n",
      "\u001b[32m2024-08-13 12:31:03,159 - courlan.core - INFO - 37 links found – 29 valid links\u001b[0m\n",
      "\u001b[32m2024-08-13 12:31:03,159 - courlan.core - INFO - 37 links found – 29 valid links\u001b[0m\n",
      "\u001b[32m2024-08-13 12:31:03,159 - courlan.core - INFO - 37 links found – 29 valid links\u001b[0m\n",
      "\u001b[32m2024-08-13 12:31:03,159 - courlan.core - INFO - 37 links found – 29 valid links\u001b[0m\n",
      "\u001b[32m2024-08-13 12:31:03,159 - courlan.core - INFO - 37 links found – 29 valid links\u001b[0m\n",
      "\u001b[33m2024-08-13 12:31:05,297 - courlan.urlstore - WARNING - Discarding URL: /blogs/blog/how-to-encourage-more-pto-and-prep-employees-for-vacations\u001b[0m\n",
      "\u001b[33m2024-08-13 12:31:05,297 - courlan.urlstore - WARNING - Discarding URL: /blogs/blog/how-to-encourage-more-pto-and-prep-employees-for-vacations\u001b[0m\n",
      "\u001b[33m2024-08-13 12:31:05,297 - courlan.urlstore - WARNING - Discarding URL: /blogs/blog/how-to-encourage-more-pto-and-prep-employees-for-vacations\u001b[0m\n",
      "\u001b[33m2024-08-13 12:31:05,297 - courlan.urlstore - WARNING - Discarding URL: /blogs/blog/how-to-encourage-more-pto-and-prep-employees-for-vacations\u001b[0m\n",
      "\u001b[33m2024-08-13 12:31:05,297 - courlan.urlstore - WARNING - Discarding URL: /blogs/blog/how-to-encourage-more-pto-and-prep-employees-for-vacations\u001b[0m\n",
      "\u001b[33m2024-08-13 12:31:05,297 - courlan.urlstore - WARNING - Discarding URL: /blogs/blog/how-to-encourage-more-pto-and-prep-employees-for-vacations\u001b[0m\n",
      "\u001b[32m2024-08-13 12:31:05,309 - courlan.core - INFO - 38 links found – 28 valid links\u001b[0m\n",
      "\u001b[32m2024-08-13 12:31:05,309 - courlan.core - INFO - 38 links found – 28 valid links\u001b[0m\n",
      "\u001b[32m2024-08-13 12:31:05,309 - courlan.core - INFO - 38 links found – 28 valid links\u001b[0m\n",
      "\u001b[32m2024-08-13 12:31:05,309 - courlan.core - INFO - 38 links found – 28 valid links\u001b[0m\n",
      "\u001b[32m2024-08-13 12:31:05,309 - courlan.core - INFO - 38 links found – 28 valid links\u001b[0m\n",
      "\u001b[32m2024-08-13 12:31:05,309 - courlan.core - INFO - 38 links found – 28 valid links\u001b[0m\n",
      "\u001b[33m2024-08-13 12:31:07,912 - courlan.urlstore - WARNING - Discarding URL: /blogs/blog/sound-reduction\u001b[0m\n",
      "\u001b[33m2024-08-13 12:31:07,912 - courlan.urlstore - WARNING - Discarding URL: /blogs/blog/sound-reduction\u001b[0m\n",
      "\u001b[33m2024-08-13 12:31:07,912 - courlan.urlstore - WARNING - Discarding URL: /blogs/blog/sound-reduction\u001b[0m\n",
      "\u001b[33m2024-08-13 12:31:07,912 - courlan.urlstore - WARNING - Discarding URL: /blogs/blog/sound-reduction\u001b[0m\n",
      "\u001b[33m2024-08-13 12:31:07,912 - courlan.urlstore - WARNING - Discarding URL: /blogs/blog/sound-reduction\u001b[0m\n",
      "\u001b[33m2024-08-13 12:31:07,912 - courlan.urlstore - WARNING - Discarding URL: /blogs/blog/sound-reduction\u001b[0m\n",
      "\u001b[32m2024-08-13 12:31:07,922 - courlan.core - INFO - 32 links found – 29 valid links\u001b[0m\n",
      "\u001b[32m2024-08-13 12:31:07,922 - courlan.core - INFO - 32 links found – 29 valid links\u001b[0m\n",
      "\u001b[32m2024-08-13 12:31:07,922 - courlan.core - INFO - 32 links found – 29 valid links\u001b[0m\n",
      "\u001b[32m2024-08-13 12:31:07,922 - courlan.core - INFO - 32 links found – 29 valid links\u001b[0m\n",
      "\u001b[32m2024-08-13 12:31:07,922 - courlan.core - INFO - 32 links found – 29 valid links\u001b[0m\n",
      "\u001b[32m2024-08-13 12:31:07,922 - courlan.core - INFO - 32 links found – 29 valid links\u001b[0m\n",
      "\u001b[33m2024-08-13 12:31:10,478 - courlan.urlstore - WARNING - Discarding URL: /blogs/blog/noise-canceling-earbuds-vs-earplugs-which-is-better-for-protecting-your-ears-1\u001b[0m\n",
      "\u001b[33m2024-08-13 12:31:10,478 - courlan.urlstore - WARNING - Discarding URL: /blogs/blog/noise-canceling-earbuds-vs-earplugs-which-is-better-for-protecting-your-ears-1\u001b[0m\n",
      "\u001b[33m2024-08-13 12:31:10,478 - courlan.urlstore - WARNING - Discarding URL: /blogs/blog/noise-canceling-earbuds-vs-earplugs-which-is-better-for-protecting-your-ears-1\u001b[0m\n",
      "\u001b[33m2024-08-13 12:31:10,478 - courlan.urlstore - WARNING - Discarding URL: /blogs/blog/noise-canceling-earbuds-vs-earplugs-which-is-better-for-protecting-your-ears-1\u001b[0m\n",
      "\u001b[33m2024-08-13 12:31:10,478 - courlan.urlstore - WARNING - Discarding URL: /blogs/blog/noise-canceling-earbuds-vs-earplugs-which-is-better-for-protecting-your-ears-1\u001b[0m\n",
      "\u001b[33m2024-08-13 12:31:10,478 - courlan.urlstore - WARNING - Discarding URL: /blogs/blog/noise-canceling-earbuds-vs-earplugs-which-is-better-for-protecting-your-ears-1\u001b[0m\n",
      "\u001b[32m2024-08-13 12:31:10,487 - courlan.core - INFO - 34 links found – 28 valid links\u001b[0m\n",
      "\u001b[32m2024-08-13 12:31:10,487 - courlan.core - INFO - 34 links found – 28 valid links\u001b[0m\n",
      "\u001b[32m2024-08-13 12:31:10,487 - courlan.core - INFO - 34 links found – 28 valid links\u001b[0m\n",
      "\u001b[32m2024-08-13 12:31:10,487 - courlan.core - INFO - 34 links found – 28 valid links\u001b[0m\n",
      "\u001b[32m2024-08-13 12:31:10,487 - courlan.core - INFO - 34 links found – 28 valid links\u001b[0m\n",
      "\u001b[32m2024-08-13 12:31:10,487 - courlan.core - INFO - 34 links found – 28 valid links\u001b[0m\n",
      "\u001b[33m2024-08-13 12:31:12,757 - courlan.urlstore - WARNING - Discarding URL: /blogs/blog/famous-artists-with-tinnitus\u001b[0m\n",
      "\u001b[33m2024-08-13 12:31:12,757 - courlan.urlstore - WARNING - Discarding URL: /blogs/blog/famous-artists-with-tinnitus\u001b[0m\n",
      "\u001b[33m2024-08-13 12:31:12,757 - courlan.urlstore - WARNING - Discarding URL: /blogs/blog/famous-artists-with-tinnitus\u001b[0m\n",
      "\u001b[33m2024-08-13 12:31:12,757 - courlan.urlstore - WARNING - Discarding URL: /blogs/blog/famous-artists-with-tinnitus\u001b[0m\n",
      "\u001b[33m2024-08-13 12:31:12,757 - courlan.urlstore - WARNING - Discarding URL: /blogs/blog/famous-artists-with-tinnitus\u001b[0m\n",
      "\u001b[33m2024-08-13 12:31:12,757 - courlan.urlstore - WARNING - Discarding URL: /blogs/blog/famous-artists-with-tinnitus\u001b[0m\n",
      "\u001b[32m2024-08-13 12:31:12,768 - courlan.core - INFO - 40 links found – 32 valid links\u001b[0m\n",
      "\u001b[32m2024-08-13 12:31:12,768 - courlan.core - INFO - 40 links found – 32 valid links\u001b[0m\n",
      "\u001b[32m2024-08-13 12:31:12,768 - courlan.core - INFO - 40 links found – 32 valid links\u001b[0m\n",
      "\u001b[32m2024-08-13 12:31:12,768 - courlan.core - INFO - 40 links found – 32 valid links\u001b[0m\n",
      "\u001b[32m2024-08-13 12:31:12,768 - courlan.core - INFO - 40 links found – 32 valid links\u001b[0m\n",
      "\u001b[32m2024-08-13 12:31:12,768 - courlan.core - INFO - 40 links found – 32 valid links\u001b[0m\n",
      "\u001b[33m2024-08-13 12:31:14,964 - courlan.urlstore - WARNING - Discarding URL: /blogs/blog/reusable\u001b[0m\n",
      "\u001b[33m2024-08-13 12:31:14,964 - courlan.urlstore - WARNING - Discarding URL: /blogs/blog/reusable\u001b[0m\n",
      "\u001b[33m2024-08-13 12:31:14,964 - courlan.urlstore - WARNING - Discarding URL: /blogs/blog/reusable\u001b[0m\n",
      "\u001b[33m2024-08-13 12:31:14,964 - courlan.urlstore - WARNING - Discarding URL: /blogs/blog/reusable\u001b[0m\n",
      "\u001b[33m2024-08-13 12:31:14,964 - courlan.urlstore - WARNING - Discarding URL: /blogs/blog/reusable\u001b[0m\n",
      "\u001b[33m2024-08-13 12:31:14,964 - courlan.urlstore - WARNING - Discarding URL: /blogs/blog/reusable\u001b[0m\n",
      "\u001b[32m2024-08-13 12:31:14,974 - courlan.core - INFO - 32 links found – 28 valid links\u001b[0m\n",
      "\u001b[32m2024-08-13 12:31:14,974 - courlan.core - INFO - 32 links found – 28 valid links\u001b[0m\n",
      "\u001b[32m2024-08-13 12:31:14,974 - courlan.core - INFO - 32 links found – 28 valid links\u001b[0m\n",
      "\u001b[32m2024-08-13 12:31:14,974 - courlan.core - INFO - 32 links found – 28 valid links\u001b[0m\n",
      "\u001b[32m2024-08-13 12:31:14,974 - courlan.core - INFO - 32 links found – 28 valid links\u001b[0m\n",
      "\u001b[32m2024-08-13 12:31:14,974 - courlan.core - INFO - 32 links found – 28 valid links\u001b[0m\n",
      "\u001b[33m2024-08-13 12:31:17,533 - courlan.urlstore - WARNING - Discarding URL: /blogs/blog/what-to-wear-to-a-rave-womens-outfit-inspiration\u001b[0m\n",
      "\u001b[33m2024-08-13 12:31:17,533 - courlan.urlstore - WARNING - Discarding URL: /blogs/blog/what-to-wear-to-a-rave-womens-outfit-inspiration\u001b[0m\n",
      "\u001b[33m2024-08-13 12:31:17,533 - courlan.urlstore - WARNING - Discarding URL: /blogs/blog/what-to-wear-to-a-rave-womens-outfit-inspiration\u001b[0m\n",
      "\u001b[33m2024-08-13 12:31:17,533 - courlan.urlstore - WARNING - Discarding URL: /blogs/blog/what-to-wear-to-a-rave-womens-outfit-inspiration\u001b[0m\n",
      "\u001b[33m2024-08-13 12:31:17,533 - courlan.urlstore - WARNING - Discarding URL: /blogs/blog/what-to-wear-to-a-rave-womens-outfit-inspiration\u001b[0m\n",
      "\u001b[33m2024-08-13 12:31:17,533 - courlan.urlstore - WARNING - Discarding URL: /blogs/blog/what-to-wear-to-a-rave-womens-outfit-inspiration\u001b[0m\n",
      "\u001b[32m2024-08-13 12:31:17,544 - courlan.core - INFO - 41 links found – 27 valid links\u001b[0m\n",
      "\u001b[32m2024-08-13 12:31:17,544 - courlan.core - INFO - 41 links found – 27 valid links\u001b[0m\n",
      "\u001b[32m2024-08-13 12:31:17,544 - courlan.core - INFO - 41 links found – 27 valid links\u001b[0m\n",
      "\u001b[32m2024-08-13 12:31:17,544 - courlan.core - INFO - 41 links found – 27 valid links\u001b[0m\n",
      "\u001b[32m2024-08-13 12:31:17,544 - courlan.core - INFO - 41 links found – 27 valid links\u001b[0m\n",
      "\u001b[32m2024-08-13 12:31:17,544 - courlan.core - INFO - 41 links found – 27 valid links\u001b[0m\n",
      "\u001b[33m2024-08-13 12:31:19,594 - courlan.urlstore - WARNING - Discarding URL: /blogs/blog/what-is-noise-pollution-definition-sources-prevention-amp-facts\u001b[0m\n",
      "\u001b[33m2024-08-13 12:31:19,594 - courlan.urlstore - WARNING - Discarding URL: /blogs/blog/what-is-noise-pollution-definition-sources-prevention-amp-facts\u001b[0m\n",
      "\u001b[33m2024-08-13 12:31:19,594 - courlan.urlstore - WARNING - Discarding URL: /blogs/blog/what-is-noise-pollution-definition-sources-prevention-amp-facts\u001b[0m\n",
      "\u001b[33m2024-08-13 12:31:19,594 - courlan.urlstore - WARNING - Discarding URL: /blogs/blog/what-is-noise-pollution-definition-sources-prevention-amp-facts\u001b[0m\n",
      "\u001b[33m2024-08-13 12:31:19,594 - courlan.urlstore - WARNING - Discarding URL: /blogs/blog/what-is-noise-pollution-definition-sources-prevention-amp-facts\u001b[0m\n",
      "\u001b[33m2024-08-13 12:31:19,594 - courlan.urlstore - WARNING - Discarding URL: /blogs/blog/what-is-noise-pollution-definition-sources-prevention-amp-facts\u001b[0m\n",
      "\u001b[32m2024-08-13 12:31:19,602 - courlan.core - INFO - 31 links found – 28 valid links\u001b[0m\n",
      "\u001b[32m2024-08-13 12:31:19,602 - courlan.core - INFO - 31 links found – 28 valid links\u001b[0m\n",
      "\u001b[32m2024-08-13 12:31:19,602 - courlan.core - INFO - 31 links found – 28 valid links\u001b[0m\n",
      "\u001b[32m2024-08-13 12:31:19,602 - courlan.core - INFO - 31 links found – 28 valid links\u001b[0m\n",
      "\u001b[32m2024-08-13 12:31:19,602 - courlan.core - INFO - 31 links found – 28 valid links\u001b[0m\n",
      "\u001b[32m2024-08-13 12:31:19,602 - courlan.core - INFO - 31 links found – 28 valid links\u001b[0m\n",
      "\u001b[33m2024-08-13 12:31:21,847 - courlan.urlstore - WARNING - Discarding URL: /blogs/life-at-loop/an-interview-with-loops-influencer-marketeer-arina-lipina\u001b[0m\n",
      "\u001b[33m2024-08-13 12:31:21,847 - courlan.urlstore - WARNING - Discarding URL: /blogs/life-at-loop/an-interview-with-loops-influencer-marketeer-arina-lipina\u001b[0m\n",
      "\u001b[33m2024-08-13 12:31:21,847 - courlan.urlstore - WARNING - Discarding URL: /blogs/life-at-loop/an-interview-with-loops-influencer-marketeer-arina-lipina\u001b[0m\n",
      "\u001b[33m2024-08-13 12:31:21,847 - courlan.urlstore - WARNING - Discarding URL: /blogs/life-at-loop/an-interview-with-loops-influencer-marketeer-arina-lipina\u001b[0m\n",
      "\u001b[33m2024-08-13 12:31:21,847 - courlan.urlstore - WARNING - Discarding URL: /blogs/life-at-loop/an-interview-with-loops-influencer-marketeer-arina-lipina\u001b[0m\n",
      "\u001b[33m2024-08-13 12:31:21,847 - courlan.urlstore - WARNING - Discarding URL: /blogs/life-at-loop/an-interview-with-loops-influencer-marketeer-arina-lipina\u001b[0m\n",
      "\u001b[32m2024-08-13 12:31:21,857 - courlan.core - INFO - 31 links found – 28 valid links\u001b[0m\n",
      "\u001b[32m2024-08-13 12:31:21,857 - courlan.core - INFO - 31 links found – 28 valid links\u001b[0m\n",
      "\u001b[32m2024-08-13 12:31:21,857 - courlan.core - INFO - 31 links found – 28 valid links\u001b[0m\n",
      "\u001b[32m2024-08-13 12:31:21,857 - courlan.core - INFO - 31 links found – 28 valid links\u001b[0m\n",
      "\u001b[32m2024-08-13 12:31:21,857 - courlan.core - INFO - 31 links found – 28 valid links\u001b[0m\n",
      "\u001b[32m2024-08-13 12:31:21,857 - courlan.core - INFO - 31 links found – 28 valid links\u001b[0m\n",
      "\u001b[33m2024-08-13 12:31:24,315 - courlan.urlstore - WARNING - Discarding URL: /blogs/blog/5-tips-to-brighten-up-your-january\u001b[0m\n",
      "\u001b[33m2024-08-13 12:31:24,315 - courlan.urlstore - WARNING - Discarding URL: /blogs/blog/5-tips-to-brighten-up-your-january\u001b[0m\n",
      "\u001b[33m2024-08-13 12:31:24,315 - courlan.urlstore - WARNING - Discarding URL: /blogs/blog/5-tips-to-brighten-up-your-january\u001b[0m\n",
      "\u001b[33m2024-08-13 12:31:24,315 - courlan.urlstore - WARNING - Discarding URL: /blogs/blog/5-tips-to-brighten-up-your-january\u001b[0m\n",
      "\u001b[33m2024-08-13 12:31:24,315 - courlan.urlstore - WARNING - Discarding URL: /blogs/blog/5-tips-to-brighten-up-your-january\u001b[0m\n",
      "\u001b[33m2024-08-13 12:31:24,315 - courlan.urlstore - WARNING - Discarding URL: /blogs/blog/5-tips-to-brighten-up-your-january\u001b[0m\n",
      "\u001b[32m2024-08-13 12:31:24,325 - courlan.core - INFO - 32 links found – 28 valid links\u001b[0m\n",
      "\u001b[32m2024-08-13 12:31:24,325 - courlan.core - INFO - 32 links found – 28 valid links\u001b[0m\n",
      "\u001b[32m2024-08-13 12:31:24,325 - courlan.core - INFO - 32 links found – 28 valid links\u001b[0m\n",
      "\u001b[32m2024-08-13 12:31:24,325 - courlan.core - INFO - 32 links found – 28 valid links\u001b[0m\n",
      "\u001b[32m2024-08-13 12:31:24,325 - courlan.core - INFO - 32 links found – 28 valid links\u001b[0m\n",
      "\u001b[32m2024-08-13 12:31:24,325 - courlan.core - INFO - 32 links found – 28 valid links\u001b[0m\n",
      "\u001b[33m2024-08-13 12:31:26,469 - courlan.urlstore - WARNING - Discarding URL: /blogs/blog/best-apps-for-managing-tinnitus\u001b[0m\n",
      "\u001b[33m2024-08-13 12:31:26,469 - courlan.urlstore - WARNING - Discarding URL: /blogs/blog/best-apps-for-managing-tinnitus\u001b[0m\n",
      "\u001b[33m2024-08-13 12:31:26,469 - courlan.urlstore - WARNING - Discarding URL: /blogs/blog/best-apps-for-managing-tinnitus\u001b[0m\n",
      "\u001b[33m2024-08-13 12:31:26,469 - courlan.urlstore - WARNING - Discarding URL: /blogs/blog/best-apps-for-managing-tinnitus\u001b[0m\n",
      "\u001b[33m2024-08-13 12:31:26,469 - courlan.urlstore - WARNING - Discarding URL: /blogs/blog/best-apps-for-managing-tinnitus\u001b[0m\n",
      "\u001b[33m2024-08-13 12:31:26,469 - courlan.urlstore - WARNING - Discarding URL: /blogs/blog/best-apps-for-managing-tinnitus\u001b[0m\n",
      "\u001b[32m2024-08-13 12:31:26,483 - courlan.core - INFO - 39 links found – 31 valid links\u001b[0m\n",
      "\u001b[32m2024-08-13 12:31:26,483 - courlan.core - INFO - 39 links found – 31 valid links\u001b[0m\n",
      "\u001b[32m2024-08-13 12:31:26,483 - courlan.core - INFO - 39 links found – 31 valid links\u001b[0m\n",
      "\u001b[32m2024-08-13 12:31:26,483 - courlan.core - INFO - 39 links found – 31 valid links\u001b[0m\n",
      "\u001b[32m2024-08-13 12:31:26,483 - courlan.core - INFO - 39 links found – 31 valid links\u001b[0m\n",
      "\u001b[32m2024-08-13 12:31:26,483 - courlan.core - INFO - 39 links found – 31 valid links\u001b[0m\n",
      "\u001b[33m2024-08-13 12:31:28,885 - courlan.urlstore - WARNING - Discarding URL: /blogs/blog/gift-guide-ideas\u001b[0m\n",
      "\u001b[33m2024-08-13 12:31:28,885 - courlan.urlstore - WARNING - Discarding URL: /blogs/blog/gift-guide-ideas\u001b[0m\n",
      "\u001b[33m2024-08-13 12:31:28,885 - courlan.urlstore - WARNING - Discarding URL: /blogs/blog/gift-guide-ideas\u001b[0m\n",
      "\u001b[33m2024-08-13 12:31:28,885 - courlan.urlstore - WARNING - Discarding URL: /blogs/blog/gift-guide-ideas\u001b[0m\n",
      "\u001b[33m2024-08-13 12:31:28,885 - courlan.urlstore - WARNING - Discarding URL: /blogs/blog/gift-guide-ideas\u001b[0m\n",
      "\u001b[33m2024-08-13 12:31:28,885 - courlan.urlstore - WARNING - Discarding URL: /blogs/blog/gift-guide-ideas\u001b[0m\n",
      "\u001b[32m2024-08-13 12:31:28,895 - courlan.core - INFO - 30 links found – 27 valid links\u001b[0m\n",
      "\u001b[32m2024-08-13 12:31:28,895 - courlan.core - INFO - 30 links found – 27 valid links\u001b[0m\n",
      "\u001b[32m2024-08-13 12:31:28,895 - courlan.core - INFO - 30 links found – 27 valid links\u001b[0m\n",
      "\u001b[32m2024-08-13 12:31:28,895 - courlan.core - INFO - 30 links found – 27 valid links\u001b[0m\n",
      "\u001b[32m2024-08-13 12:31:28,895 - courlan.core - INFO - 30 links found – 27 valid links\u001b[0m\n",
      "\u001b[32m2024-08-13 12:31:28,895 - courlan.core - INFO - 30 links found – 27 valid links\u001b[0m\n",
      "\u001b[33m2024-08-13 12:31:31,183 - courlan.urlstore - WARNING - Discarding URL: /blogs/blog/behind-the-scenes-iridescent-photoshoot\u001b[0m\n",
      "\u001b[33m2024-08-13 12:31:31,183 - courlan.urlstore - WARNING - Discarding URL: /blogs/blog/behind-the-scenes-iridescent-photoshoot\u001b[0m\n",
      "\u001b[33m2024-08-13 12:31:31,183 - courlan.urlstore - WARNING - Discarding URL: /blogs/blog/behind-the-scenes-iridescent-photoshoot\u001b[0m\n",
      "\u001b[33m2024-08-13 12:31:31,183 - courlan.urlstore - WARNING - Discarding URL: /blogs/blog/behind-the-scenes-iridescent-photoshoot\u001b[0m\n",
      "\u001b[33m2024-08-13 12:31:31,183 - courlan.urlstore - WARNING - Discarding URL: /blogs/blog/behind-the-scenes-iridescent-photoshoot\u001b[0m\n",
      "\u001b[33m2024-08-13 12:31:31,183 - courlan.urlstore - WARNING - Discarding URL: /blogs/blog/behind-the-scenes-iridescent-photoshoot\u001b[0m\n",
      "\u001b[32m2024-08-13 12:31:31,192 - courlan.core - INFO - 34 links found – 28 valid links\u001b[0m\n",
      "\u001b[32m2024-08-13 12:31:31,192 - courlan.core - INFO - 34 links found – 28 valid links\u001b[0m\n",
      "\u001b[32m2024-08-13 12:31:31,192 - courlan.core - INFO - 34 links found – 28 valid links\u001b[0m\n",
      "\u001b[32m2024-08-13 12:31:31,192 - courlan.core - INFO - 34 links found – 28 valid links\u001b[0m\n",
      "\u001b[32m2024-08-13 12:31:31,192 - courlan.core - INFO - 34 links found – 28 valid links\u001b[0m\n",
      "\u001b[32m2024-08-13 12:31:31,192 - courlan.core - INFO - 34 links found – 28 valid links\u001b[0m\n",
      "\u001b[33m2024-08-13 12:31:33,463 - courlan.urlstore - WARNING - Discarding URL: /blogs/blog/which-ear-tips-should-you-use-silicone-vs-foam-ear-tips\u001b[0m\n",
      "\u001b[33m2024-08-13 12:31:33,463 - courlan.urlstore - WARNING - Discarding URL: /blogs/blog/which-ear-tips-should-you-use-silicone-vs-foam-ear-tips\u001b[0m\n",
      "\u001b[33m2024-08-13 12:31:33,463 - courlan.urlstore - WARNING - Discarding URL: /blogs/blog/which-ear-tips-should-you-use-silicone-vs-foam-ear-tips\u001b[0m\n",
      "\u001b[33m2024-08-13 12:31:33,463 - courlan.urlstore - WARNING - Discarding URL: /blogs/blog/which-ear-tips-should-you-use-silicone-vs-foam-ear-tips\u001b[0m\n",
      "\u001b[33m2024-08-13 12:31:33,463 - courlan.urlstore - WARNING - Discarding URL: /blogs/blog/which-ear-tips-should-you-use-silicone-vs-foam-ear-tips\u001b[0m\n",
      "\u001b[33m2024-08-13 12:31:33,463 - courlan.urlstore - WARNING - Discarding URL: /blogs/blog/which-ear-tips-should-you-use-silicone-vs-foam-ear-tips\u001b[0m\n",
      "\u001b[32m2024-08-13 12:31:33,471 - courlan.core - INFO - 33 links found – 28 valid links\u001b[0m\n",
      "\u001b[32m2024-08-13 12:31:33,471 - courlan.core - INFO - 33 links found – 28 valid links\u001b[0m\n",
      "\u001b[32m2024-08-13 12:31:33,471 - courlan.core - INFO - 33 links found – 28 valid links\u001b[0m\n",
      "\u001b[32m2024-08-13 12:31:33,471 - courlan.core - INFO - 33 links found – 28 valid links\u001b[0m\n",
      "\u001b[32m2024-08-13 12:31:33,471 - courlan.core - INFO - 33 links found – 28 valid links\u001b[0m\n",
      "\u001b[32m2024-08-13 12:31:33,471 - courlan.core - INFO - 33 links found – 28 valid links\u001b[0m\n",
      "\u001b[33m2024-08-13 12:31:35,755 - courlan.urlstore - WARNING - Discarding URL: /blogs/blog/causes-airplane-ear\u001b[0m\n",
      "\u001b[33m2024-08-13 12:31:35,755 - courlan.urlstore - WARNING - Discarding URL: /blogs/blog/causes-airplane-ear\u001b[0m\n",
      "\u001b[33m2024-08-13 12:31:35,755 - courlan.urlstore - WARNING - Discarding URL: /blogs/blog/causes-airplane-ear\u001b[0m\n",
      "\u001b[33m2024-08-13 12:31:35,755 - courlan.urlstore - WARNING - Discarding URL: /blogs/blog/causes-airplane-ear\u001b[0m\n",
      "\u001b[33m2024-08-13 12:31:35,755 - courlan.urlstore - WARNING - Discarding URL: /blogs/blog/causes-airplane-ear\u001b[0m\n",
      "\u001b[33m2024-08-13 12:31:35,755 - courlan.urlstore - WARNING - Discarding URL: /blogs/blog/causes-airplane-ear\u001b[0m\n",
      "\u001b[32m2024-08-13 12:31:35,766 - courlan.core - INFO - 36 links found – 29 valid links\u001b[0m\n",
      "\u001b[32m2024-08-13 12:31:35,766 - courlan.core - INFO - 36 links found – 29 valid links\u001b[0m\n",
      "\u001b[32m2024-08-13 12:31:35,766 - courlan.core - INFO - 36 links found – 29 valid links\u001b[0m\n",
      "\u001b[32m2024-08-13 12:31:35,766 - courlan.core - INFO - 36 links found – 29 valid links\u001b[0m\n",
      "\u001b[32m2024-08-13 12:31:35,766 - courlan.core - INFO - 36 links found – 29 valid links\u001b[0m\n",
      "\u001b[32m2024-08-13 12:31:35,766 - courlan.core - INFO - 36 links found – 29 valid links\u001b[0m\n",
      "\u001b[33m2024-08-13 12:31:38,262 - courlan.urlstore - WARNING - Discarding URL: /blogs/blog/djs-over-40\u001b[0m\n",
      "\u001b[33m2024-08-13 12:31:38,262 - courlan.urlstore - WARNING - Discarding URL: /blogs/blog/djs-over-40\u001b[0m\n",
      "\u001b[33m2024-08-13 12:31:38,262 - courlan.urlstore - WARNING - Discarding URL: /blogs/blog/djs-over-40\u001b[0m\n",
      "\u001b[33m2024-08-13 12:31:38,262 - courlan.urlstore - WARNING - Discarding URL: /blogs/blog/djs-over-40\u001b[0m\n",
      "\u001b[33m2024-08-13 12:31:38,262 - courlan.urlstore - WARNING - Discarding URL: /blogs/blog/djs-over-40\u001b[0m\n",
      "\u001b[33m2024-08-13 12:31:38,262 - courlan.urlstore - WARNING - Discarding URL: /blogs/blog/djs-over-40\u001b[0m\n",
      "\u001b[32m2024-08-13 12:31:38,272 - courlan.core - INFO - 42 links found – 30 valid links\u001b[0m\n",
      "\u001b[32m2024-08-13 12:31:38,272 - courlan.core - INFO - 42 links found – 30 valid links\u001b[0m\n",
      "\u001b[32m2024-08-13 12:31:38,272 - courlan.core - INFO - 42 links found – 30 valid links\u001b[0m\n",
      "\u001b[32m2024-08-13 12:31:38,272 - courlan.core - INFO - 42 links found – 30 valid links\u001b[0m\n",
      "\u001b[32m2024-08-13 12:31:38,272 - courlan.core - INFO - 42 links found – 30 valid links\u001b[0m\n",
      "\u001b[32m2024-08-13 12:31:38,272 - courlan.core - INFO - 42 links found – 30 valid links\u001b[0m\n",
      "\u001b[33m2024-08-13 12:31:40,640 - courlan.urlstore - WARNING - Discarding URL: /blogs/blog/protecting-your-hearing-as-a-musician\u001b[0m\n",
      "\u001b[33m2024-08-13 12:31:40,640 - courlan.urlstore - WARNING - Discarding URL: /blogs/blog/protecting-your-hearing-as-a-musician\u001b[0m\n",
      "\u001b[33m2024-08-13 12:31:40,640 - courlan.urlstore - WARNING - Discarding URL: /blogs/blog/protecting-your-hearing-as-a-musician\u001b[0m\n",
      "\u001b[33m2024-08-13 12:31:40,640 - courlan.urlstore - WARNING - Discarding URL: /blogs/blog/protecting-your-hearing-as-a-musician\u001b[0m\n",
      "\u001b[33m2024-08-13 12:31:40,640 - courlan.urlstore - WARNING - Discarding URL: /blogs/blog/protecting-your-hearing-as-a-musician\u001b[0m\n",
      "\u001b[33m2024-08-13 12:31:40,640 - courlan.urlstore - WARNING - Discarding URL: /blogs/blog/protecting-your-hearing-as-a-musician\u001b[0m\n",
      "\u001b[32m2024-08-13 12:31:40,651 - courlan.core - INFO - 32 links found – 28 valid links\u001b[0m\n",
      "\u001b[32m2024-08-13 12:31:40,651 - courlan.core - INFO - 32 links found – 28 valid links\u001b[0m\n",
      "\u001b[32m2024-08-13 12:31:40,651 - courlan.core - INFO - 32 links found – 28 valid links\u001b[0m\n",
      "\u001b[32m2024-08-13 12:31:40,651 - courlan.core - INFO - 32 links found – 28 valid links\u001b[0m\n",
      "\u001b[32m2024-08-13 12:31:40,651 - courlan.core - INFO - 32 links found – 28 valid links\u001b[0m\n",
      "\u001b[32m2024-08-13 12:31:40,651 - courlan.core - INFO - 32 links found – 28 valid links\u001b[0m\n",
      "\u001b[33m2024-08-13 12:31:43,058 - courlan.urlstore - WARNING - Discarding URL: /blogs/blog/big-things-are-coming\u001b[0m\n",
      "\u001b[33m2024-08-13 12:31:43,058 - courlan.urlstore - WARNING - Discarding URL: /blogs/blog/big-things-are-coming\u001b[0m\n",
      "\u001b[33m2024-08-13 12:31:43,058 - courlan.urlstore - WARNING - Discarding URL: /blogs/blog/big-things-are-coming\u001b[0m\n",
      "\u001b[33m2024-08-13 12:31:43,058 - courlan.urlstore - WARNING - Discarding URL: /blogs/blog/big-things-are-coming\u001b[0m\n",
      "\u001b[33m2024-08-13 12:31:43,058 - courlan.urlstore - WARNING - Discarding URL: /blogs/blog/big-things-are-coming\u001b[0m\n",
      "\u001b[33m2024-08-13 12:31:43,058 - courlan.urlstore - WARNING - Discarding URL: /blogs/blog/big-things-are-coming\u001b[0m\n",
      "\u001b[32m2024-08-13 12:31:43,069 - courlan.core - INFO - 32 links found – 28 valid links\u001b[0m\n",
      "\u001b[32m2024-08-13 12:31:43,069 - courlan.core - INFO - 32 links found – 28 valid links\u001b[0m\n",
      "\u001b[32m2024-08-13 12:31:43,069 - courlan.core - INFO - 32 links found – 28 valid links\u001b[0m\n",
      "\u001b[32m2024-08-13 12:31:43,069 - courlan.core - INFO - 32 links found – 28 valid links\u001b[0m\n",
      "\u001b[32m2024-08-13 12:31:43,069 - courlan.core - INFO - 32 links found – 28 valid links\u001b[0m\n",
      "\u001b[32m2024-08-13 12:31:43,069 - courlan.core - INFO - 32 links found – 28 valid links\u001b[0m\n",
      "\u001b[33m2024-08-13 12:31:45,414 - courlan.urlstore - WARNING - Discarding URL: /blogs/blog/how-to-choose-best-earplugs\u001b[0m\n",
      "\u001b[33m2024-08-13 12:31:45,414 - courlan.urlstore - WARNING - Discarding URL: /blogs/blog/how-to-choose-best-earplugs\u001b[0m\n",
      "\u001b[33m2024-08-13 12:31:45,414 - courlan.urlstore - WARNING - Discarding URL: /blogs/blog/how-to-choose-best-earplugs\u001b[0m\n",
      "\u001b[33m2024-08-13 12:31:45,414 - courlan.urlstore - WARNING - Discarding URL: /blogs/blog/how-to-choose-best-earplugs\u001b[0m\n",
      "\u001b[33m2024-08-13 12:31:45,414 - courlan.urlstore - WARNING - Discarding URL: /blogs/blog/how-to-choose-best-earplugs\u001b[0m\n",
      "\u001b[33m2024-08-13 12:31:45,414 - courlan.urlstore - WARNING - Discarding URL: /blogs/blog/how-to-choose-best-earplugs\u001b[0m\n",
      "\u001b[32m2024-08-13 12:31:45,422 - courlan.core - INFO - 35 links found – 29 valid links\u001b[0m\n",
      "\u001b[32m2024-08-13 12:31:45,422 - courlan.core - INFO - 35 links found – 29 valid links\u001b[0m\n",
      "\u001b[32m2024-08-13 12:31:45,422 - courlan.core - INFO - 35 links found – 29 valid links\u001b[0m\n",
      "\u001b[32m2024-08-13 12:31:45,422 - courlan.core - INFO - 35 links found – 29 valid links\u001b[0m\n",
      "\u001b[32m2024-08-13 12:31:45,422 - courlan.core - INFO - 35 links found – 29 valid links\u001b[0m\n",
      "\u001b[32m2024-08-13 12:31:45,422 - courlan.core - INFO - 35 links found – 29 valid links\u001b[0m\n",
      "\u001b[33m2024-08-13 12:31:47,717 - courlan.urlstore - WARNING - Discarding URL: /blogs/blog/how-sleep-apnea-is-affecting-your-sleep\u001b[0m\n",
      "\u001b[33m2024-08-13 12:31:47,717 - courlan.urlstore - WARNING - Discarding URL: /blogs/blog/how-sleep-apnea-is-affecting-your-sleep\u001b[0m\n",
      "\u001b[33m2024-08-13 12:31:47,717 - courlan.urlstore - WARNING - Discarding URL: /blogs/blog/how-sleep-apnea-is-affecting-your-sleep\u001b[0m\n",
      "\u001b[33m2024-08-13 12:31:47,717 - courlan.urlstore - WARNING - Discarding URL: /blogs/blog/how-sleep-apnea-is-affecting-your-sleep\u001b[0m\n",
      "\u001b[33m2024-08-13 12:31:47,717 - courlan.urlstore - WARNING - Discarding URL: /blogs/blog/how-sleep-apnea-is-affecting-your-sleep\u001b[0m\n",
      "\u001b[33m2024-08-13 12:31:47,717 - courlan.urlstore - WARNING - Discarding URL: /blogs/blog/how-sleep-apnea-is-affecting-your-sleep\u001b[0m\n",
      "\u001b[32m2024-08-13 12:31:47,729 - courlan.core - INFO - 37 links found – 29 valid links\u001b[0m\n",
      "\u001b[32m2024-08-13 12:31:47,729 - courlan.core - INFO - 37 links found – 29 valid links\u001b[0m\n",
      "\u001b[32m2024-08-13 12:31:47,729 - courlan.core - INFO - 37 links found – 29 valid links\u001b[0m\n",
      "\u001b[32m2024-08-13 12:31:47,729 - courlan.core - INFO - 37 links found – 29 valid links\u001b[0m\n",
      "\u001b[32m2024-08-13 12:31:47,729 - courlan.core - INFO - 37 links found – 29 valid links\u001b[0m\n",
      "\u001b[32m2024-08-13 12:31:47,729 - courlan.core - INFO - 37 links found – 29 valid links\u001b[0m\n",
      "\u001b[33m2024-08-13 12:31:50,392 - courlan.urlstore - WARNING - Discarding URL: /blogs/blog/noisy-neighbors\u001b[0m\n",
      "\u001b[33m2024-08-13 12:31:50,392 - courlan.urlstore - WARNING - Discarding URL: /blogs/blog/noisy-neighbors\u001b[0m\n",
      "\u001b[33m2024-08-13 12:31:50,392 - courlan.urlstore - WARNING - Discarding URL: /blogs/blog/noisy-neighbors\u001b[0m\n",
      "\u001b[33m2024-08-13 12:31:50,392 - courlan.urlstore - WARNING - Discarding URL: /blogs/blog/noisy-neighbors\u001b[0m\n",
      "\u001b[33m2024-08-13 12:31:50,392 - courlan.urlstore - WARNING - Discarding URL: /blogs/blog/noisy-neighbors\u001b[0m\n",
      "\u001b[33m2024-08-13 12:31:50,392 - courlan.urlstore - WARNING - Discarding URL: /blogs/blog/noisy-neighbors\u001b[0m\n",
      "\u001b[32m2024-08-13 12:31:50,401 - courlan.core - INFO - 33 links found – 29 valid links\u001b[0m\n",
      "\u001b[32m2024-08-13 12:31:50,401 - courlan.core - INFO - 33 links found – 29 valid links\u001b[0m\n",
      "\u001b[32m2024-08-13 12:31:50,401 - courlan.core - INFO - 33 links found – 29 valid links\u001b[0m\n",
      "\u001b[32m2024-08-13 12:31:50,401 - courlan.core - INFO - 33 links found – 29 valid links\u001b[0m\n",
      "\u001b[32m2024-08-13 12:31:50,401 - courlan.core - INFO - 33 links found – 29 valid links\u001b[0m\n",
      "\u001b[32m2024-08-13 12:31:50,401 - courlan.core - INFO - 33 links found – 29 valid links\u001b[0m\n",
      "\u001b[33m2024-08-13 12:31:52,781 - courlan.urlstore - WARNING - Discarding URL: /blogs/blog/misophonia\u001b[0m\n",
      "\u001b[33m2024-08-13 12:31:52,781 - courlan.urlstore - WARNING - Discarding URL: /blogs/blog/misophonia\u001b[0m\n",
      "\u001b[33m2024-08-13 12:31:52,781 - courlan.urlstore - WARNING - Discarding URL: /blogs/blog/misophonia\u001b[0m\n",
      "\u001b[33m2024-08-13 12:31:52,781 - courlan.urlstore - WARNING - Discarding URL: /blogs/blog/misophonia\u001b[0m\n",
      "\u001b[33m2024-08-13 12:31:52,781 - courlan.urlstore - WARNING - Discarding URL: /blogs/blog/misophonia\u001b[0m\n",
      "\u001b[33m2024-08-13 12:31:52,781 - courlan.urlstore - WARNING - Discarding URL: /blogs/blog/misophonia\u001b[0m\n",
      "\u001b[32m2024-08-13 12:31:52,792 - courlan.core - INFO - 36 links found – 30 valid links\u001b[0m\n",
      "\u001b[32m2024-08-13 12:31:52,792 - courlan.core - INFO - 36 links found – 30 valid links\u001b[0m\n",
      "\u001b[32m2024-08-13 12:31:52,792 - courlan.core - INFO - 36 links found – 30 valid links\u001b[0m\n",
      "\u001b[32m2024-08-13 12:31:52,792 - courlan.core - INFO - 36 links found – 30 valid links\u001b[0m\n",
      "\u001b[32m2024-08-13 12:31:52,792 - courlan.core - INFO - 36 links found – 30 valid links\u001b[0m\n",
      "\u001b[32m2024-08-13 12:31:52,792 - courlan.core - INFO - 36 links found – 30 valid links\u001b[0m\n",
      "\u001b[33m2024-08-13 12:31:54,919 - courlan.urlstore - WARNING - Discarding URL: /blogs/blog/8-essential-motorcycle-safety-tips\u001b[0m\n",
      "\u001b[33m2024-08-13 12:31:54,919 - courlan.urlstore - WARNING - Discarding URL: /blogs/blog/8-essential-motorcycle-safety-tips\u001b[0m\n",
      "\u001b[33m2024-08-13 12:31:54,919 - courlan.urlstore - WARNING - Discarding URL: /blogs/blog/8-essential-motorcycle-safety-tips\u001b[0m\n",
      "\u001b[33m2024-08-13 12:31:54,919 - courlan.urlstore - WARNING - Discarding URL: /blogs/blog/8-essential-motorcycle-safety-tips\u001b[0m\n",
      "\u001b[33m2024-08-13 12:31:54,919 - courlan.urlstore - WARNING - Discarding URL: /blogs/blog/8-essential-motorcycle-safety-tips\u001b[0m\n",
      "\u001b[33m2024-08-13 12:31:54,919 - courlan.urlstore - WARNING - Discarding URL: /blogs/blog/8-essential-motorcycle-safety-tips\u001b[0m\n",
      "\u001b[32m2024-08-13 12:31:54,929 - courlan.core - INFO - 33 links found – 29 valid links\u001b[0m\n",
      "\u001b[32m2024-08-13 12:31:54,929 - courlan.core - INFO - 33 links found – 29 valid links\u001b[0m\n",
      "\u001b[32m2024-08-13 12:31:54,929 - courlan.core - INFO - 33 links found – 29 valid links\u001b[0m\n",
      "\u001b[32m2024-08-13 12:31:54,929 - courlan.core - INFO - 33 links found – 29 valid links\u001b[0m\n",
      "\u001b[32m2024-08-13 12:31:54,929 - courlan.core - INFO - 33 links found – 29 valid links\u001b[0m\n",
      "\u001b[32m2024-08-13 12:31:54,929 - courlan.core - INFO - 33 links found – 29 valid links\u001b[0m\n",
      "\u001b[33m2024-08-13 12:31:57,135 - courlan.urlstore - WARNING - Discarding URL: /blogs/blog/incredible-music-stages\u001b[0m\n",
      "\u001b[33m2024-08-13 12:31:57,135 - courlan.urlstore - WARNING - Discarding URL: /blogs/blog/incredible-music-stages\u001b[0m\n",
      "\u001b[33m2024-08-13 12:31:57,135 - courlan.urlstore - WARNING - Discarding URL: /blogs/blog/incredible-music-stages\u001b[0m\n",
      "\u001b[33m2024-08-13 12:31:57,135 - courlan.urlstore - WARNING - Discarding URL: /blogs/blog/incredible-music-stages\u001b[0m\n",
      "\u001b[33m2024-08-13 12:31:57,135 - courlan.urlstore - WARNING - Discarding URL: /blogs/blog/incredible-music-stages\u001b[0m\n",
      "\u001b[33m2024-08-13 12:31:57,135 - courlan.urlstore - WARNING - Discarding URL: /blogs/blog/incredible-music-stages\u001b[0m\n",
      "\u001b[32m2024-08-13 12:31:57,144 - courlan.core - INFO - 32 links found – 25 valid links\u001b[0m\n",
      "\u001b[32m2024-08-13 12:31:57,144 - courlan.core - INFO - 32 links found – 25 valid links\u001b[0m\n",
      "\u001b[32m2024-08-13 12:31:57,144 - courlan.core - INFO - 32 links found – 25 valid links\u001b[0m\n",
      "\u001b[32m2024-08-13 12:31:57,144 - courlan.core - INFO - 32 links found – 25 valid links\u001b[0m\n",
      "\u001b[32m2024-08-13 12:31:57,144 - courlan.core - INFO - 32 links found – 25 valid links\u001b[0m\n",
      "\u001b[32m2024-08-13 12:31:57,144 - courlan.core - INFO - 32 links found – 25 valid links\u001b[0m\n",
      "\u001b[33m2024-08-13 12:31:59,659 - courlan.urlstore - WARNING - Discarding URL: /blogs/blog/the-founders-story\u001b[0m\n",
      "\u001b[33m2024-08-13 12:31:59,659 - courlan.urlstore - WARNING - Discarding URL: /blogs/blog/the-founders-story\u001b[0m\n",
      "\u001b[33m2024-08-13 12:31:59,659 - courlan.urlstore - WARNING - Discarding URL: /blogs/blog/the-founders-story\u001b[0m\n",
      "\u001b[33m2024-08-13 12:31:59,659 - courlan.urlstore - WARNING - Discarding URL: /blogs/blog/the-founders-story\u001b[0m\n",
      "\u001b[33m2024-08-13 12:31:59,659 - courlan.urlstore - WARNING - Discarding URL: /blogs/blog/the-founders-story\u001b[0m\n",
      "\u001b[33m2024-08-13 12:31:59,659 - courlan.urlstore - WARNING - Discarding URL: /blogs/blog/the-founders-story\u001b[0m\n",
      "\u001b[32m2024-08-13 12:31:59,669 - courlan.core - INFO - 32 links found – 29 valid links\u001b[0m\n",
      "\u001b[32m2024-08-13 12:31:59,669 - courlan.core - INFO - 32 links found – 29 valid links\u001b[0m\n",
      "\u001b[32m2024-08-13 12:31:59,669 - courlan.core - INFO - 32 links found – 29 valid links\u001b[0m\n",
      "\u001b[32m2024-08-13 12:31:59,669 - courlan.core - INFO - 32 links found – 29 valid links\u001b[0m\n",
      "\u001b[32m2024-08-13 12:31:59,669 - courlan.core - INFO - 32 links found – 29 valid links\u001b[0m\n",
      "\u001b[32m2024-08-13 12:31:59,669 - courlan.core - INFO - 32 links found – 29 valid links\u001b[0m\n",
      "\u001b[33m2024-08-13 12:32:01,969 - courlan.urlstore - WARNING - Discarding URL: /blogs/blog/how-to-help-a-distracted-child-in-the-classroom\u001b[0m\n",
      "\u001b[33m2024-08-13 12:32:01,969 - courlan.urlstore - WARNING - Discarding URL: /blogs/blog/how-to-help-a-distracted-child-in-the-classroom\u001b[0m\n",
      "\u001b[33m2024-08-13 12:32:01,969 - courlan.urlstore - WARNING - Discarding URL: /blogs/blog/how-to-help-a-distracted-child-in-the-classroom\u001b[0m\n",
      "\u001b[33m2024-08-13 12:32:01,969 - courlan.urlstore - WARNING - Discarding URL: /blogs/blog/how-to-help-a-distracted-child-in-the-classroom\u001b[0m\n",
      "\u001b[33m2024-08-13 12:32:01,969 - courlan.urlstore - WARNING - Discarding URL: /blogs/blog/how-to-help-a-distracted-child-in-the-classroom\u001b[0m\n",
      "\u001b[33m2024-08-13 12:32:01,969 - courlan.urlstore - WARNING - Discarding URL: /blogs/blog/how-to-help-a-distracted-child-in-the-classroom\u001b[0m\n",
      "\u001b[32m2024-08-13 12:32:01,976 - courlan.core - INFO - 33 links found – 29 valid links\u001b[0m\n",
      "\u001b[32m2024-08-13 12:32:01,976 - courlan.core - INFO - 33 links found – 29 valid links\u001b[0m\n",
      "\u001b[32m2024-08-13 12:32:01,976 - courlan.core - INFO - 33 links found – 29 valid links\u001b[0m\n",
      "\u001b[32m2024-08-13 12:32:01,976 - courlan.core - INFO - 33 links found – 29 valid links\u001b[0m\n",
      "\u001b[32m2024-08-13 12:32:01,976 - courlan.core - INFO - 33 links found – 29 valid links\u001b[0m\n",
      "\u001b[32m2024-08-13 12:32:01,976 - courlan.core - INFO - 33 links found – 29 valid links\u001b[0m\n",
      "\u001b[33m2024-08-13 12:32:04,516 - courlan.urlstore - WARNING - Discarding URL: /blogs/blog/misophonia-treatment\u001b[0m\n",
      "\u001b[33m2024-08-13 12:32:04,516 - courlan.urlstore - WARNING - Discarding URL: /blogs/blog/misophonia-treatment\u001b[0m\n",
      "\u001b[33m2024-08-13 12:32:04,516 - courlan.urlstore - WARNING - Discarding URL: /blogs/blog/misophonia-treatment\u001b[0m\n",
      "\u001b[33m2024-08-13 12:32:04,516 - courlan.urlstore - WARNING - Discarding URL: /blogs/blog/misophonia-treatment\u001b[0m\n",
      "\u001b[33m2024-08-13 12:32:04,516 - courlan.urlstore - WARNING - Discarding URL: /blogs/blog/misophonia-treatment\u001b[0m\n",
      "\u001b[33m2024-08-13 12:32:04,516 - courlan.urlstore - WARNING - Discarding URL: /blogs/blog/misophonia-treatment\u001b[0m\n",
      "\u001b[32m2024-08-13 12:32:04,526 - courlan.core - INFO - 46 links found – 32 valid links\u001b[0m\n",
      "\u001b[32m2024-08-13 12:32:04,526 - courlan.core - INFO - 46 links found – 32 valid links\u001b[0m\n",
      "\u001b[32m2024-08-13 12:32:04,526 - courlan.core - INFO - 46 links found – 32 valid links\u001b[0m\n",
      "\u001b[32m2024-08-13 12:32:04,526 - courlan.core - INFO - 46 links found – 32 valid links\u001b[0m\n",
      "\u001b[32m2024-08-13 12:32:04,526 - courlan.core - INFO - 46 links found – 32 valid links\u001b[0m\n",
      "\u001b[32m2024-08-13 12:32:04,526 - courlan.core - INFO - 46 links found – 32 valid links\u001b[0m\n",
      "\u001b[33m2024-08-13 12:32:06,812 - courlan.urlstore - WARNING - Discarding URL: /blogs/blog/how-to-deal-with-stress-at-work-loop-earplugs\u001b[0m\n",
      "\u001b[33m2024-08-13 12:32:06,812 - courlan.urlstore - WARNING - Discarding URL: /blogs/blog/how-to-deal-with-stress-at-work-loop-earplugs\u001b[0m\n",
      "\u001b[33m2024-08-13 12:32:06,812 - courlan.urlstore - WARNING - Discarding URL: /blogs/blog/how-to-deal-with-stress-at-work-loop-earplugs\u001b[0m\n",
      "\u001b[33m2024-08-13 12:32:06,812 - courlan.urlstore - WARNING - Discarding URL: /blogs/blog/how-to-deal-with-stress-at-work-loop-earplugs\u001b[0m\n",
      "\u001b[33m2024-08-13 12:32:06,812 - courlan.urlstore - WARNING - Discarding URL: /blogs/blog/how-to-deal-with-stress-at-work-loop-earplugs\u001b[0m\n",
      "\u001b[33m2024-08-13 12:32:06,812 - courlan.urlstore - WARNING - Discarding URL: /blogs/blog/how-to-deal-with-stress-at-work-loop-earplugs\u001b[0m\n",
      "\u001b[32m2024-08-13 12:32:06,823 - courlan.core - INFO - 36 links found – 28 valid links\u001b[0m\n",
      "\u001b[32m2024-08-13 12:32:06,823 - courlan.core - INFO - 36 links found – 28 valid links\u001b[0m\n",
      "\u001b[32m2024-08-13 12:32:06,823 - courlan.core - INFO - 36 links found – 28 valid links\u001b[0m\n",
      "\u001b[32m2024-08-13 12:32:06,823 - courlan.core - INFO - 36 links found – 28 valid links\u001b[0m\n",
      "\u001b[32m2024-08-13 12:32:06,823 - courlan.core - INFO - 36 links found – 28 valid links\u001b[0m\n",
      "\u001b[32m2024-08-13 12:32:06,823 - courlan.core - INFO - 36 links found – 28 valid links\u001b[0m\n",
      "\u001b[33m2024-08-13 12:32:09,047 - courlan.urlstore - WARNING - Discarding URL: /blogs/blog/springcleaning\u001b[0m\n",
      "\u001b[33m2024-08-13 12:32:09,047 - courlan.urlstore - WARNING - Discarding URL: /blogs/blog/springcleaning\u001b[0m\n",
      "\u001b[33m2024-08-13 12:32:09,047 - courlan.urlstore - WARNING - Discarding URL: /blogs/blog/springcleaning\u001b[0m\n",
      "\u001b[33m2024-08-13 12:32:09,047 - courlan.urlstore - WARNING - Discarding URL: /blogs/blog/springcleaning\u001b[0m\n",
      "\u001b[33m2024-08-13 12:32:09,047 - courlan.urlstore - WARNING - Discarding URL: /blogs/blog/springcleaning\u001b[0m\n",
      "\u001b[33m2024-08-13 12:32:09,047 - courlan.urlstore - WARNING - Discarding URL: /blogs/blog/springcleaning\u001b[0m\n",
      "\u001b[32m2024-08-13 12:32:09,055 - courlan.core - INFO - 32 links found – 28 valid links\u001b[0m\n",
      "\u001b[32m2024-08-13 12:32:09,055 - courlan.core - INFO - 32 links found – 28 valid links\u001b[0m\n",
      "\u001b[32m2024-08-13 12:32:09,055 - courlan.core - INFO - 32 links found – 28 valid links\u001b[0m\n",
      "\u001b[32m2024-08-13 12:32:09,055 - courlan.core - INFO - 32 links found – 28 valid links\u001b[0m\n",
      "\u001b[32m2024-08-13 12:32:09,055 - courlan.core - INFO - 32 links found – 28 valid links\u001b[0m\n",
      "\u001b[32m2024-08-13 12:32:09,055 - courlan.core - INFO - 32 links found – 28 valid links\u001b[0m\n",
      "\u001b[33m2024-08-13 12:32:11,209 - courlan.urlstore - WARNING - Discarding URL: /blogs/life-at-loop/all-ears-to-the-future-loop-ces-2024\u001b[0m\n",
      "\u001b[33m2024-08-13 12:32:11,209 - courlan.urlstore - WARNING - Discarding URL: /blogs/life-at-loop/all-ears-to-the-future-loop-ces-2024\u001b[0m\n",
      "\u001b[33m2024-08-13 12:32:11,209 - courlan.urlstore - WARNING - Discarding URL: /blogs/life-at-loop/all-ears-to-the-future-loop-ces-2024\u001b[0m\n",
      "\u001b[33m2024-08-13 12:32:11,209 - courlan.urlstore - WARNING - Discarding URL: /blogs/life-at-loop/all-ears-to-the-future-loop-ces-2024\u001b[0m\n",
      "\u001b[33m2024-08-13 12:32:11,209 - courlan.urlstore - WARNING - Discarding URL: /blogs/life-at-loop/all-ears-to-the-future-loop-ces-2024\u001b[0m\n",
      "\u001b[33m2024-08-13 12:32:11,209 - courlan.urlstore - WARNING - Discarding URL: /blogs/life-at-loop/all-ears-to-the-future-loop-ces-2024\u001b[0m\n",
      "\u001b[32m2024-08-13 12:32:11,220 - courlan.core - INFO - 32 links found – 28 valid links\u001b[0m\n",
      "\u001b[32m2024-08-13 12:32:11,220 - courlan.core - INFO - 32 links found – 28 valid links\u001b[0m\n",
      "\u001b[32m2024-08-13 12:32:11,220 - courlan.core - INFO - 32 links found – 28 valid links\u001b[0m\n",
      "\u001b[32m2024-08-13 12:32:11,220 - courlan.core - INFO - 32 links found – 28 valid links\u001b[0m\n",
      "\u001b[32m2024-08-13 12:32:11,220 - courlan.core - INFO - 32 links found – 28 valid links\u001b[0m\n",
      "\u001b[32m2024-08-13 12:32:11,220 - courlan.core - INFO - 32 links found – 28 valid links\u001b[0m\n",
      "\u001b[33m2024-08-13 12:32:13,519 - courlan.urlstore - WARNING - Discarding URL: /blogs/life-at-loop/looper-story-meet-astrid\u001b[0m\n",
      "\u001b[33m2024-08-13 12:32:13,519 - courlan.urlstore - WARNING - Discarding URL: /blogs/life-at-loop/looper-story-meet-astrid\u001b[0m\n",
      "\u001b[33m2024-08-13 12:32:13,519 - courlan.urlstore - WARNING - Discarding URL: /blogs/life-at-loop/looper-story-meet-astrid\u001b[0m\n",
      "\u001b[33m2024-08-13 12:32:13,519 - courlan.urlstore - WARNING - Discarding URL: /blogs/life-at-loop/looper-story-meet-astrid\u001b[0m\n",
      "\u001b[33m2024-08-13 12:32:13,519 - courlan.urlstore - WARNING - Discarding URL: /blogs/life-at-loop/looper-story-meet-astrid\u001b[0m\n",
      "\u001b[33m2024-08-13 12:32:13,519 - courlan.urlstore - WARNING - Discarding URL: /blogs/life-at-loop/looper-story-meet-astrid\u001b[0m\n",
      "\u001b[32m2024-08-13 12:32:13,529 - courlan.core - INFO - 29 links found – 26 valid links\u001b[0m\n",
      "\u001b[32m2024-08-13 12:32:13,529 - courlan.core - INFO - 29 links found – 26 valid links\u001b[0m\n",
      "\u001b[32m2024-08-13 12:32:13,529 - courlan.core - INFO - 29 links found – 26 valid links\u001b[0m\n",
      "\u001b[32m2024-08-13 12:32:13,529 - courlan.core - INFO - 29 links found – 26 valid links\u001b[0m\n",
      "\u001b[32m2024-08-13 12:32:13,529 - courlan.core - INFO - 29 links found – 26 valid links\u001b[0m\n",
      "\u001b[32m2024-08-13 12:32:13,529 - courlan.core - INFO - 29 links found – 26 valid links\u001b[0m\n",
      "\u001b[33m2024-08-13 12:32:15,831 - courlan.urlstore - WARNING - Discarding URL: /blogs/blog/block-out-noise-when-sleeping\u001b[0m\n",
      "\u001b[33m2024-08-13 12:32:15,831 - courlan.urlstore - WARNING - Discarding URL: /blogs/blog/block-out-noise-when-sleeping\u001b[0m\n",
      "\u001b[33m2024-08-13 12:32:15,831 - courlan.urlstore - WARNING - Discarding URL: /blogs/blog/block-out-noise-when-sleeping\u001b[0m\n",
      "\u001b[33m2024-08-13 12:32:15,831 - courlan.urlstore - WARNING - Discarding URL: /blogs/blog/block-out-noise-when-sleeping\u001b[0m\n",
      "\u001b[33m2024-08-13 12:32:15,831 - courlan.urlstore - WARNING - Discarding URL: /blogs/blog/block-out-noise-when-sleeping\u001b[0m\n",
      "\u001b[33m2024-08-13 12:32:15,831 - courlan.urlstore - WARNING - Discarding URL: /blogs/blog/block-out-noise-when-sleeping\u001b[0m\n",
      "\u001b[32m2024-08-13 12:32:15,844 - courlan.core - INFO - 38 links found – 31 valid links\u001b[0m\n",
      "\u001b[32m2024-08-13 12:32:15,844 - courlan.core - INFO - 38 links found – 31 valid links\u001b[0m\n",
      "\u001b[32m2024-08-13 12:32:15,844 - courlan.core - INFO - 38 links found – 31 valid links\u001b[0m\n",
      "\u001b[32m2024-08-13 12:32:15,844 - courlan.core - INFO - 38 links found – 31 valid links\u001b[0m\n",
      "\u001b[32m2024-08-13 12:32:15,844 - courlan.core - INFO - 38 links found – 31 valid links\u001b[0m\n",
      "\u001b[32m2024-08-13 12:32:15,844 - courlan.core - INFO - 38 links found – 31 valid links\u001b[0m\n",
      "\u001b[33m2024-08-13 12:32:18,177 - courlan.urlstore - WARNING - Discarding URL: /blogs/blog/calmer-parent\u001b[0m\n",
      "\u001b[33m2024-08-13 12:32:18,177 - courlan.urlstore - WARNING - Discarding URL: /blogs/blog/calmer-parent\u001b[0m\n",
      "\u001b[33m2024-08-13 12:32:18,177 - courlan.urlstore - WARNING - Discarding URL: /blogs/blog/calmer-parent\u001b[0m\n",
      "\u001b[33m2024-08-13 12:32:18,177 - courlan.urlstore - WARNING - Discarding URL: /blogs/blog/calmer-parent\u001b[0m\n",
      "\u001b[33m2024-08-13 12:32:18,177 - courlan.urlstore - WARNING - Discarding URL: /blogs/blog/calmer-parent\u001b[0m\n",
      "\u001b[33m2024-08-13 12:32:18,177 - courlan.urlstore - WARNING - Discarding URL: /blogs/blog/calmer-parent\u001b[0m\n",
      "\u001b[32m2024-08-13 12:32:18,187 - courlan.core - INFO - 34 links found – 28 valid links\u001b[0m\n",
      "\u001b[32m2024-08-13 12:32:18,187 - courlan.core - INFO - 34 links found – 28 valid links\u001b[0m\n",
      "\u001b[32m2024-08-13 12:32:18,187 - courlan.core - INFO - 34 links found – 28 valid links\u001b[0m\n",
      "\u001b[32m2024-08-13 12:32:18,187 - courlan.core - INFO - 34 links found – 28 valid links\u001b[0m\n",
      "\u001b[32m2024-08-13 12:32:18,187 - courlan.core - INFO - 34 links found – 28 valid links\u001b[0m\n",
      "\u001b[32m2024-08-13 12:32:18,187 - courlan.core - INFO - 34 links found – 28 valid links\u001b[0m\n",
      "\u001b[33m2024-08-13 12:32:20,531 - courlan.urlstore - WARNING - Discarding URL: /blogs/blog/phonophobia\u001b[0m\n",
      "\u001b[33m2024-08-13 12:32:20,531 - courlan.urlstore - WARNING - Discarding URL: /blogs/blog/phonophobia\u001b[0m\n",
      "\u001b[33m2024-08-13 12:32:20,531 - courlan.urlstore - WARNING - Discarding URL: /blogs/blog/phonophobia\u001b[0m\n",
      "\u001b[33m2024-08-13 12:32:20,531 - courlan.urlstore - WARNING - Discarding URL: /blogs/blog/phonophobia\u001b[0m\n",
      "\u001b[33m2024-08-13 12:32:20,531 - courlan.urlstore - WARNING - Discarding URL: /blogs/blog/phonophobia\u001b[0m\n",
      "\u001b[33m2024-08-13 12:32:20,531 - courlan.urlstore - WARNING - Discarding URL: /blogs/blog/phonophobia\u001b[0m\n",
      "\u001b[32m2024-08-13 12:32:20,540 - courlan.core - INFO - 34 links found – 30 valid links\u001b[0m\n",
      "\u001b[32m2024-08-13 12:32:20,540 - courlan.core - INFO - 34 links found – 30 valid links\u001b[0m\n",
      "\u001b[32m2024-08-13 12:32:20,540 - courlan.core - INFO - 34 links found – 30 valid links\u001b[0m\n",
      "\u001b[32m2024-08-13 12:32:20,540 - courlan.core - INFO - 34 links found – 30 valid links\u001b[0m\n",
      "\u001b[32m2024-08-13 12:32:20,540 - courlan.core - INFO - 34 links found – 30 valid links\u001b[0m\n",
      "\u001b[32m2024-08-13 12:32:20,540 - courlan.core - INFO - 34 links found – 30 valid links\u001b[0m\n",
      "\u001b[33m2024-08-13 12:32:22,987 - courlan.urlstore - WARNING - Discarding URL: /blogs/blog/why-people-wear-earplugs\u001b[0m\n",
      "\u001b[33m2024-08-13 12:32:22,987 - courlan.urlstore - WARNING - Discarding URL: /blogs/blog/why-people-wear-earplugs\u001b[0m\n",
      "\u001b[33m2024-08-13 12:32:22,987 - courlan.urlstore - WARNING - Discarding URL: /blogs/blog/why-people-wear-earplugs\u001b[0m\n",
      "\u001b[33m2024-08-13 12:32:22,987 - courlan.urlstore - WARNING - Discarding URL: /blogs/blog/why-people-wear-earplugs\u001b[0m\n",
      "\u001b[33m2024-08-13 12:32:22,987 - courlan.urlstore - WARNING - Discarding URL: /blogs/blog/why-people-wear-earplugs\u001b[0m\n",
      "\u001b[33m2024-08-13 12:32:22,987 - courlan.urlstore - WARNING - Discarding URL: /blogs/blog/why-people-wear-earplugs\u001b[0m\n",
      "\u001b[32m2024-08-13 12:32:22,998 - courlan.core - INFO - 42 links found – 32 valid links\u001b[0m\n",
      "\u001b[32m2024-08-13 12:32:22,998 - courlan.core - INFO - 42 links found – 32 valid links\u001b[0m\n",
      "\u001b[32m2024-08-13 12:32:22,998 - courlan.core - INFO - 42 links found – 32 valid links\u001b[0m\n",
      "\u001b[32m2024-08-13 12:32:22,998 - courlan.core - INFO - 42 links found – 32 valid links\u001b[0m\n",
      "\u001b[32m2024-08-13 12:32:22,998 - courlan.core - INFO - 42 links found – 32 valid links\u001b[0m\n",
      "\u001b[32m2024-08-13 12:32:22,998 - courlan.core - INFO - 42 links found – 32 valid links\u001b[0m\n",
      "\u001b[33m2024-08-13 12:32:25,442 - courlan.urlstore - WARNING - Discarding URL: /blogs/blog/improving-sleep-hygiene\u001b[0m\n",
      "\u001b[33m2024-08-13 12:32:25,442 - courlan.urlstore - WARNING - Discarding URL: /blogs/blog/improving-sleep-hygiene\u001b[0m\n",
      "\u001b[33m2024-08-13 12:32:25,442 - courlan.urlstore - WARNING - Discarding URL: /blogs/blog/improving-sleep-hygiene\u001b[0m\n",
      "\u001b[33m2024-08-13 12:32:25,442 - courlan.urlstore - WARNING - Discarding URL: /blogs/blog/improving-sleep-hygiene\u001b[0m\n",
      "\u001b[33m2024-08-13 12:32:25,442 - courlan.urlstore - WARNING - Discarding URL: /blogs/blog/improving-sleep-hygiene\u001b[0m\n",
      "\u001b[33m2024-08-13 12:32:25,442 - courlan.urlstore - WARNING - Discarding URL: /blogs/blog/improving-sleep-hygiene\u001b[0m\n",
      "\u001b[32m2024-08-13 12:32:25,453 - courlan.core - INFO - 38 links found – 31 valid links\u001b[0m\n",
      "\u001b[32m2024-08-13 12:32:25,453 - courlan.core - INFO - 38 links found – 31 valid links\u001b[0m\n",
      "\u001b[32m2024-08-13 12:32:25,453 - courlan.core - INFO - 38 links found – 31 valid links\u001b[0m\n",
      "\u001b[32m2024-08-13 12:32:25,453 - courlan.core - INFO - 38 links found – 31 valid links\u001b[0m\n",
      "\u001b[32m2024-08-13 12:32:25,453 - courlan.core - INFO - 38 links found – 31 valid links\u001b[0m\n",
      "\u001b[32m2024-08-13 12:32:25,453 - courlan.core - INFO - 38 links found – 31 valid links\u001b[0m\n",
      "\u001b[33m2024-08-13 12:32:27,637 - courlan.urlstore - WARNING - Discarding URL: /blogs/blog/autism\u001b[0m\n",
      "\u001b[33m2024-08-13 12:32:27,637 - courlan.urlstore - WARNING - Discarding URL: /blogs/blog/autism\u001b[0m\n",
      "\u001b[33m2024-08-13 12:32:27,637 - courlan.urlstore - WARNING - Discarding URL: /blogs/blog/autism\u001b[0m\n",
      "\u001b[33m2024-08-13 12:32:27,637 - courlan.urlstore - WARNING - Discarding URL: /blogs/blog/autism\u001b[0m\n",
      "\u001b[33m2024-08-13 12:32:27,637 - courlan.urlstore - WARNING - Discarding URL: /blogs/blog/autism\u001b[0m\n",
      "\u001b[33m2024-08-13 12:32:27,637 - courlan.urlstore - WARNING - Discarding URL: /blogs/blog/autism\u001b[0m\n",
      "\u001b[32m2024-08-13 12:32:27,646 - courlan.core - INFO - 32 links found – 28 valid links\u001b[0m\n",
      "\u001b[32m2024-08-13 12:32:27,646 - courlan.core - INFO - 32 links found – 28 valid links\u001b[0m\n",
      "\u001b[32m2024-08-13 12:32:27,646 - courlan.core - INFO - 32 links found – 28 valid links\u001b[0m\n",
      "\u001b[32m2024-08-13 12:32:27,646 - courlan.core - INFO - 32 links found – 28 valid links\u001b[0m\n",
      "\u001b[32m2024-08-13 12:32:27,646 - courlan.core - INFO - 32 links found – 28 valid links\u001b[0m\n",
      "\u001b[32m2024-08-13 12:32:27,646 - courlan.core - INFO - 32 links found – 28 valid links\u001b[0m\n",
      "\u001b[33m2024-08-13 12:32:30,124 - courlan.urlstore - WARNING - Discarding URL: /blogs/blog/it-s-not-you-7-things-you-might-not-even-realize-are-symptoms-of-noise-sensitivity\u001b[0m\n",
      "\u001b[33m2024-08-13 12:32:30,124 - courlan.urlstore - WARNING - Discarding URL: /blogs/blog/it-s-not-you-7-things-you-might-not-even-realize-are-symptoms-of-noise-sensitivity\u001b[0m\n",
      "\u001b[33m2024-08-13 12:32:30,124 - courlan.urlstore - WARNING - Discarding URL: /blogs/blog/it-s-not-you-7-things-you-might-not-even-realize-are-symptoms-of-noise-sensitivity\u001b[0m\n",
      "\u001b[33m2024-08-13 12:32:30,124 - courlan.urlstore - WARNING - Discarding URL: /blogs/blog/it-s-not-you-7-things-you-might-not-even-realize-are-symptoms-of-noise-sensitivity\u001b[0m\n",
      "\u001b[33m2024-08-13 12:32:30,124 - courlan.urlstore - WARNING - Discarding URL: /blogs/blog/it-s-not-you-7-things-you-might-not-even-realize-are-symptoms-of-noise-sensitivity\u001b[0m\n",
      "\u001b[33m2024-08-13 12:32:30,124 - courlan.urlstore - WARNING - Discarding URL: /blogs/blog/it-s-not-you-7-things-you-might-not-even-realize-are-symptoms-of-noise-sensitivity\u001b[0m\n",
      "\u001b[32m2024-08-13 12:32:30,137 - courlan.core - INFO - 57 links found – 53 valid links\u001b[0m\n",
      "\u001b[32m2024-08-13 12:32:30,137 - courlan.core - INFO - 57 links found – 53 valid links\u001b[0m\n",
      "\u001b[32m2024-08-13 12:32:30,137 - courlan.core - INFO - 57 links found – 53 valid links\u001b[0m\n",
      "\u001b[32m2024-08-13 12:32:30,137 - courlan.core - INFO - 57 links found – 53 valid links\u001b[0m\n",
      "\u001b[32m2024-08-13 12:32:30,137 - courlan.core - INFO - 57 links found – 53 valid links\u001b[0m\n",
      "\u001b[32m2024-08-13 12:32:30,137 - courlan.core - INFO - 57 links found – 53 valid links\u001b[0m\n",
      "\u001b[33m2024-08-13 12:32:33,038 - courlan.urlstore - WARNING - Discarding URL: /blogs/blog/how-to-prevent-tinnitus-and-protect-your-ears\u001b[0m\n",
      "\u001b[33m2024-08-13 12:32:33,038 - courlan.urlstore - WARNING - Discarding URL: /blogs/blog/how-to-prevent-tinnitus-and-protect-your-ears\u001b[0m\n",
      "\u001b[33m2024-08-13 12:32:33,038 - courlan.urlstore - WARNING - Discarding URL: /blogs/blog/how-to-prevent-tinnitus-and-protect-your-ears\u001b[0m\n",
      "\u001b[33m2024-08-13 12:32:33,038 - courlan.urlstore - WARNING - Discarding URL: /blogs/blog/how-to-prevent-tinnitus-and-protect-your-ears\u001b[0m\n",
      "\u001b[33m2024-08-13 12:32:33,038 - courlan.urlstore - WARNING - Discarding URL: /blogs/blog/how-to-prevent-tinnitus-and-protect-your-ears\u001b[0m\n",
      "\u001b[33m2024-08-13 12:32:33,038 - courlan.urlstore - WARNING - Discarding URL: /blogs/blog/how-to-prevent-tinnitus-and-protect-your-ears\u001b[0m\n",
      "\u001b[32m2024-08-13 12:32:33,050 - courlan.core - INFO - 40 links found – 33 valid links\u001b[0m\n",
      "\u001b[32m2024-08-13 12:32:33,050 - courlan.core - INFO - 40 links found – 33 valid links\u001b[0m\n",
      "\u001b[32m2024-08-13 12:32:33,050 - courlan.core - INFO - 40 links found – 33 valid links\u001b[0m\n",
      "\u001b[32m2024-08-13 12:32:33,050 - courlan.core - INFO - 40 links found – 33 valid links\u001b[0m\n",
      "\u001b[32m2024-08-13 12:32:33,050 - courlan.core - INFO - 40 links found – 33 valid links\u001b[0m\n",
      "\u001b[32m2024-08-13 12:32:33,050 - courlan.core - INFO - 40 links found – 33 valid links\u001b[0m\n",
      "\u001b[33m2024-08-13 12:32:35,675 - courlan.urlstore - WARNING - Discarding URL: /blogs/blog/do-you-have-the-ears-of-a-superhuman-or-just-an-average-mortal\u001b[0m\n",
      "\u001b[33m2024-08-13 12:32:35,675 - courlan.urlstore - WARNING - Discarding URL: /blogs/blog/do-you-have-the-ears-of-a-superhuman-or-just-an-average-mortal\u001b[0m\n",
      "\u001b[33m2024-08-13 12:32:35,675 - courlan.urlstore - WARNING - Discarding URL: /blogs/blog/do-you-have-the-ears-of-a-superhuman-or-just-an-average-mortal\u001b[0m\n",
      "\u001b[33m2024-08-13 12:32:35,675 - courlan.urlstore - WARNING - Discarding URL: /blogs/blog/do-you-have-the-ears-of-a-superhuman-or-just-an-average-mortal\u001b[0m\n",
      "\u001b[33m2024-08-13 12:32:35,675 - courlan.urlstore - WARNING - Discarding URL: /blogs/blog/do-you-have-the-ears-of-a-superhuman-or-just-an-average-mortal\u001b[0m\n",
      "\u001b[33m2024-08-13 12:32:35,675 - courlan.urlstore - WARNING - Discarding URL: /blogs/blog/do-you-have-the-ears-of-a-superhuman-or-just-an-average-mortal\u001b[0m\n",
      "\u001b[32m2024-08-13 12:32:35,685 - courlan.core - INFO - 32 links found – 26 valid links\u001b[0m\n",
      "\u001b[32m2024-08-13 12:32:35,685 - courlan.core - INFO - 32 links found – 26 valid links\u001b[0m\n",
      "\u001b[32m2024-08-13 12:32:35,685 - courlan.core - INFO - 32 links found – 26 valid links\u001b[0m\n",
      "\u001b[32m2024-08-13 12:32:35,685 - courlan.core - INFO - 32 links found – 26 valid links\u001b[0m\n",
      "\u001b[32m2024-08-13 12:32:35,685 - courlan.core - INFO - 32 links found – 26 valid links\u001b[0m\n",
      "\u001b[32m2024-08-13 12:32:35,685 - courlan.core - INFO - 32 links found – 26 valid links\u001b[0m\n",
      "\u001b[33m2024-08-13 12:32:38,079 - courlan.urlstore - WARNING - Discarding URL: /blogs/blog/noise-sensitivity\u001b[0m\n",
      "\u001b[33m2024-08-13 12:32:38,079 - courlan.urlstore - WARNING - Discarding URL: /blogs/blog/noise-sensitivity\u001b[0m\n",
      "\u001b[33m2024-08-13 12:32:38,079 - courlan.urlstore - WARNING - Discarding URL: /blogs/blog/noise-sensitivity\u001b[0m\n",
      "\u001b[33m2024-08-13 12:32:38,079 - courlan.urlstore - WARNING - Discarding URL: /blogs/blog/noise-sensitivity\u001b[0m\n",
      "\u001b[33m2024-08-13 12:32:38,079 - courlan.urlstore - WARNING - Discarding URL: /blogs/blog/noise-sensitivity\u001b[0m\n",
      "\u001b[33m2024-08-13 12:32:38,079 - courlan.urlstore - WARNING - Discarding URL: /blogs/blog/noise-sensitivity\u001b[0m\n",
      "\u001b[32m2024-08-13 12:32:38,089 - courlan.core - INFO - 33 links found – 29 valid links\u001b[0m\n",
      "\u001b[32m2024-08-13 12:32:38,089 - courlan.core - INFO - 33 links found – 29 valid links\u001b[0m\n",
      "\u001b[32m2024-08-13 12:32:38,089 - courlan.core - INFO - 33 links found – 29 valid links\u001b[0m\n",
      "\u001b[32m2024-08-13 12:32:38,089 - courlan.core - INFO - 33 links found – 29 valid links\u001b[0m\n",
      "\u001b[32m2024-08-13 12:32:38,089 - courlan.core - INFO - 33 links found – 29 valid links\u001b[0m\n",
      "\u001b[32m2024-08-13 12:32:38,089 - courlan.core - INFO - 33 links found – 29 valid links\u001b[0m\n",
      "\u001b[33m2024-08-13 12:32:40,449 - courlan.urlstore - WARNING - Discarding URL: /blogs/blog/concerts\u001b[0m\n",
      "\u001b[33m2024-08-13 12:32:40,449 - courlan.urlstore - WARNING - Discarding URL: /blogs/blog/concerts\u001b[0m\n",
      "\u001b[33m2024-08-13 12:32:40,449 - courlan.urlstore - WARNING - Discarding URL: /blogs/blog/concerts\u001b[0m\n",
      "\u001b[33m2024-08-13 12:32:40,449 - courlan.urlstore - WARNING - Discarding URL: /blogs/blog/concerts\u001b[0m\n",
      "\u001b[33m2024-08-13 12:32:40,449 - courlan.urlstore - WARNING - Discarding URL: /blogs/blog/concerts\u001b[0m\n",
      "\u001b[33m2024-08-13 12:32:40,449 - courlan.urlstore - WARNING - Discarding URL: /blogs/blog/concerts\u001b[0m\n",
      "\u001b[32m2024-08-13 12:32:40,459 - courlan.core - INFO - 36 links found – 32 valid links\u001b[0m\n",
      "\u001b[32m2024-08-13 12:32:40,459 - courlan.core - INFO - 36 links found – 32 valid links\u001b[0m\n",
      "\u001b[32m2024-08-13 12:32:40,459 - courlan.core - INFO - 36 links found – 32 valid links\u001b[0m\n",
      "\u001b[32m2024-08-13 12:32:40,459 - courlan.core - INFO - 36 links found – 32 valid links\u001b[0m\n",
      "\u001b[32m2024-08-13 12:32:40,459 - courlan.core - INFO - 36 links found – 32 valid links\u001b[0m\n",
      "\u001b[32m2024-08-13 12:32:40,459 - courlan.core - INFO - 36 links found – 32 valid links\u001b[0m\n",
      "\u001b[33m2024-08-13 12:32:43,013 - courlan.urlstore - WARNING - Discarding URL: /blogs/news/untitled-jul-4-22-8-25\u001b[0m\n",
      "\u001b[33m2024-08-13 12:32:43,013 - courlan.urlstore - WARNING - Discarding URL: /blogs/news/untitled-jul-4-22-8-25\u001b[0m\n",
      "\u001b[33m2024-08-13 12:32:43,013 - courlan.urlstore - WARNING - Discarding URL: /blogs/news/untitled-jul-4-22-8-25\u001b[0m\n",
      "\u001b[33m2024-08-13 12:32:43,013 - courlan.urlstore - WARNING - Discarding URL: /blogs/news/untitled-jul-4-22-8-25\u001b[0m\n",
      "\u001b[33m2024-08-13 12:32:43,013 - courlan.urlstore - WARNING - Discarding URL: /blogs/news/untitled-jul-4-22-8-25\u001b[0m\n",
      "\u001b[33m2024-08-13 12:32:43,013 - courlan.urlstore - WARNING - Discarding URL: /blogs/news/untitled-jul-4-22-8-25\u001b[0m\n",
      "\u001b[32m2024-08-13 12:32:43,022 - courlan.core - INFO - 30 links found – 24 valid links\u001b[0m\n",
      "\u001b[32m2024-08-13 12:32:43,022 - courlan.core - INFO - 30 links found – 24 valid links\u001b[0m\n",
      "\u001b[32m2024-08-13 12:32:43,022 - courlan.core - INFO - 30 links found – 24 valid links\u001b[0m\n",
      "\u001b[32m2024-08-13 12:32:43,022 - courlan.core - INFO - 30 links found – 24 valid links\u001b[0m\n",
      "\u001b[32m2024-08-13 12:32:43,022 - courlan.core - INFO - 30 links found – 24 valid links\u001b[0m\n",
      "\u001b[32m2024-08-13 12:32:43,022 - courlan.core - INFO - 30 links found – 24 valid links\u001b[0m\n",
      "\u001b[33m2024-08-13 12:32:45,575 - courlan.urlstore - WARNING - Discarding URL: /blogs/blog/music-festival-tips-and-advice\u001b[0m\n",
      "\u001b[33m2024-08-13 12:32:45,575 - courlan.urlstore - WARNING - Discarding URL: /blogs/blog/music-festival-tips-and-advice\u001b[0m\n",
      "\u001b[33m2024-08-13 12:32:45,575 - courlan.urlstore - WARNING - Discarding URL: /blogs/blog/music-festival-tips-and-advice\u001b[0m\n",
      "\u001b[33m2024-08-13 12:32:45,575 - courlan.urlstore - WARNING - Discarding URL: /blogs/blog/music-festival-tips-and-advice\u001b[0m\n",
      "\u001b[33m2024-08-13 12:32:45,575 - courlan.urlstore - WARNING - Discarding URL: /blogs/blog/music-festival-tips-and-advice\u001b[0m\n",
      "\u001b[33m2024-08-13 12:32:45,575 - courlan.urlstore - WARNING - Discarding URL: /blogs/blog/music-festival-tips-and-advice\u001b[0m\n",
      "\u001b[32m2024-08-13 12:32:45,585 - courlan.core - INFO - 33 links found – 29 valid links\u001b[0m\n",
      "\u001b[32m2024-08-13 12:32:45,585 - courlan.core - INFO - 33 links found – 29 valid links\u001b[0m\n",
      "\u001b[32m2024-08-13 12:32:45,585 - courlan.core - INFO - 33 links found – 29 valid links\u001b[0m\n",
      "\u001b[32m2024-08-13 12:32:45,585 - courlan.core - INFO - 33 links found – 29 valid links\u001b[0m\n",
      "\u001b[32m2024-08-13 12:32:45,585 - courlan.core - INFO - 33 links found – 29 valid links\u001b[0m\n",
      "\u001b[32m2024-08-13 12:32:45,585 - courlan.core - INFO - 33 links found – 29 valid links\u001b[0m\n",
      "\u001b[33m2024-08-13 12:32:47,724 - courlan.urlstore - WARNING - Discarding URL: /blogs/blog/the-power-of-sound-what-is-a-decibel-and-how-is-it-measured\u001b[0m\n",
      "\u001b[33m2024-08-13 12:32:47,724 - courlan.urlstore - WARNING - Discarding URL: /blogs/blog/the-power-of-sound-what-is-a-decibel-and-how-is-it-measured\u001b[0m\n",
      "\u001b[33m2024-08-13 12:32:47,724 - courlan.urlstore - WARNING - Discarding URL: /blogs/blog/the-power-of-sound-what-is-a-decibel-and-how-is-it-measured\u001b[0m\n",
      "\u001b[33m2024-08-13 12:32:47,724 - courlan.urlstore - WARNING - Discarding URL: /blogs/blog/the-power-of-sound-what-is-a-decibel-and-how-is-it-measured\u001b[0m\n",
      "\u001b[33m2024-08-13 12:32:47,724 - courlan.urlstore - WARNING - Discarding URL: /blogs/blog/the-power-of-sound-what-is-a-decibel-and-how-is-it-measured\u001b[0m\n",
      "\u001b[33m2024-08-13 12:32:47,724 - courlan.urlstore - WARNING - Discarding URL: /blogs/blog/the-power-of-sound-what-is-a-decibel-and-how-is-it-measured\u001b[0m\n",
      "\u001b[32m2024-08-13 12:32:47,735 - courlan.core - INFO - 35 links found – 31 valid links\u001b[0m\n",
      "\u001b[32m2024-08-13 12:32:47,735 - courlan.core - INFO - 35 links found – 31 valid links\u001b[0m\n",
      "\u001b[32m2024-08-13 12:32:47,735 - courlan.core - INFO - 35 links found – 31 valid links\u001b[0m\n",
      "\u001b[32m2024-08-13 12:32:47,735 - courlan.core - INFO - 35 links found – 31 valid links\u001b[0m\n",
      "\u001b[32m2024-08-13 12:32:47,735 - courlan.core - INFO - 35 links found – 31 valid links\u001b[0m\n",
      "\u001b[32m2024-08-13 12:32:47,735 - courlan.core - INFO - 35 links found – 31 valid links\u001b[0m\n",
      "\u001b[33m2024-08-13 12:32:49,824 - courlan.urlstore - WARNING - Discarding URL: /blogs/blog/three-different-types-of-tinnitus\u001b[0m\n",
      "\u001b[33m2024-08-13 12:32:49,824 - courlan.urlstore - WARNING - Discarding URL: /blogs/blog/three-different-types-of-tinnitus\u001b[0m\n",
      "\u001b[33m2024-08-13 12:32:49,824 - courlan.urlstore - WARNING - Discarding URL: /blogs/blog/three-different-types-of-tinnitus\u001b[0m\n",
      "\u001b[33m2024-08-13 12:32:49,824 - courlan.urlstore - WARNING - Discarding URL: /blogs/blog/three-different-types-of-tinnitus\u001b[0m\n",
      "\u001b[33m2024-08-13 12:32:49,824 - courlan.urlstore - WARNING - Discarding URL: /blogs/blog/three-different-types-of-tinnitus\u001b[0m\n",
      "\u001b[33m2024-08-13 12:32:49,824 - courlan.urlstore - WARNING - Discarding URL: /blogs/blog/three-different-types-of-tinnitus\u001b[0m\n",
      "\u001b[32m2024-08-13 12:32:49,833 - courlan.core - INFO - 34 links found – 28 valid links\u001b[0m\n",
      "\u001b[32m2024-08-13 12:32:49,833 - courlan.core - INFO - 34 links found – 28 valid links\u001b[0m\n",
      "\u001b[32m2024-08-13 12:32:49,833 - courlan.core - INFO - 34 links found – 28 valid links\u001b[0m\n",
      "\u001b[32m2024-08-13 12:32:49,833 - courlan.core - INFO - 34 links found – 28 valid links\u001b[0m\n",
      "\u001b[32m2024-08-13 12:32:49,833 - courlan.core - INFO - 34 links found – 28 valid links\u001b[0m\n",
      "\u001b[32m2024-08-13 12:32:49,833 - courlan.core - INFO - 34 links found – 28 valid links\u001b[0m\n",
      "\u001b[33m2024-08-13 12:32:52,552 - courlan.urlstore - WARNING - Discarding URL: /blogs/blog/ear-protection\u001b[0m\n",
      "\u001b[33m2024-08-13 12:32:52,552 - courlan.urlstore - WARNING - Discarding URL: /blogs/blog/ear-protection\u001b[0m\n",
      "\u001b[33m2024-08-13 12:32:52,552 - courlan.urlstore - WARNING - Discarding URL: /blogs/blog/ear-protection\u001b[0m\n",
      "\u001b[33m2024-08-13 12:32:52,552 - courlan.urlstore - WARNING - Discarding URL: /blogs/blog/ear-protection\u001b[0m\n",
      "\u001b[33m2024-08-13 12:32:52,552 - courlan.urlstore - WARNING - Discarding URL: /blogs/blog/ear-protection\u001b[0m\n",
      "\u001b[33m2024-08-13 12:32:52,552 - courlan.urlstore - WARNING - Discarding URL: /blogs/blog/ear-protection\u001b[0m\n",
      "\u001b[32m2024-08-13 12:32:52,563 - courlan.core - INFO - 34 links found – 29 valid links\u001b[0m\n",
      "\u001b[32m2024-08-13 12:32:52,563 - courlan.core - INFO - 34 links found – 29 valid links\u001b[0m\n",
      "\u001b[32m2024-08-13 12:32:52,563 - courlan.core - INFO - 34 links found – 29 valid links\u001b[0m\n",
      "\u001b[32m2024-08-13 12:32:52,563 - courlan.core - INFO - 34 links found – 29 valid links\u001b[0m\n",
      "\u001b[32m2024-08-13 12:32:52,563 - courlan.core - INFO - 34 links found – 29 valid links\u001b[0m\n",
      "\u001b[32m2024-08-13 12:32:52,563 - courlan.core - INFO - 34 links found – 29 valid links\u001b[0m\n",
      "\u001b[33m2024-08-13 12:32:54,740 - courlan.urlstore - WARNING - Discarding URL: /blogs/life-at-loop/looper-story-meet-maks\u001b[0m\n",
      "\u001b[33m2024-08-13 12:32:54,740 - courlan.urlstore - WARNING - Discarding URL: /blogs/life-at-loop/looper-story-meet-maks\u001b[0m\n",
      "\u001b[33m2024-08-13 12:32:54,740 - courlan.urlstore - WARNING - Discarding URL: /blogs/life-at-loop/looper-story-meet-maks\u001b[0m\n",
      "\u001b[33m2024-08-13 12:32:54,740 - courlan.urlstore - WARNING - Discarding URL: /blogs/life-at-loop/looper-story-meet-maks\u001b[0m\n",
      "\u001b[33m2024-08-13 12:32:54,740 - courlan.urlstore - WARNING - Discarding URL: /blogs/life-at-loop/looper-story-meet-maks\u001b[0m\n",
      "\u001b[33m2024-08-13 12:32:54,740 - courlan.urlstore - WARNING - Discarding URL: /blogs/life-at-loop/looper-story-meet-maks\u001b[0m\n",
      "\u001b[32m2024-08-13 12:32:54,751 - courlan.core - INFO - 29 links found – 26 valid links\u001b[0m\n",
      "\u001b[32m2024-08-13 12:32:54,751 - courlan.core - INFO - 29 links found – 26 valid links\u001b[0m\n",
      "\u001b[32m2024-08-13 12:32:54,751 - courlan.core - INFO - 29 links found – 26 valid links\u001b[0m\n",
      "\u001b[32m2024-08-13 12:32:54,751 - courlan.core - INFO - 29 links found – 26 valid links\u001b[0m\n",
      "\u001b[32m2024-08-13 12:32:54,751 - courlan.core - INFO - 29 links found – 26 valid links\u001b[0m\n",
      "\u001b[32m2024-08-13 12:32:54,751 - courlan.core - INFO - 29 links found – 26 valid links\u001b[0m\n",
      "\u001b[33m2024-08-13 12:32:57,229 - courlan.urlstore - WARNING - Discarding URL: /blogs/blog/how-to-overcome-the-effects-of-noise-in-the-workplace\u001b[0m\n",
      "\u001b[33m2024-08-13 12:32:57,229 - courlan.urlstore - WARNING - Discarding URL: /blogs/blog/how-to-overcome-the-effects-of-noise-in-the-workplace\u001b[0m\n",
      "\u001b[33m2024-08-13 12:32:57,229 - courlan.urlstore - WARNING - Discarding URL: /blogs/blog/how-to-overcome-the-effects-of-noise-in-the-workplace\u001b[0m\n",
      "\u001b[33m2024-08-13 12:32:57,229 - courlan.urlstore - WARNING - Discarding URL: /blogs/blog/how-to-overcome-the-effects-of-noise-in-the-workplace\u001b[0m\n",
      "\u001b[33m2024-08-13 12:32:57,229 - courlan.urlstore - WARNING - Discarding URL: /blogs/blog/how-to-overcome-the-effects-of-noise-in-the-workplace\u001b[0m\n",
      "\u001b[33m2024-08-13 12:32:57,229 - courlan.urlstore - WARNING - Discarding URL: /blogs/blog/how-to-overcome-the-effects-of-noise-in-the-workplace\u001b[0m\n",
      "\u001b[32m2024-08-13 12:32:57,236 - courlan.core - INFO - 38 links found – 30 valid links\u001b[0m\n",
      "\u001b[32m2024-08-13 12:32:57,236 - courlan.core - INFO - 38 links found – 30 valid links\u001b[0m\n",
      "\u001b[32m2024-08-13 12:32:57,236 - courlan.core - INFO - 38 links found – 30 valid links\u001b[0m\n",
      "\u001b[32m2024-08-13 12:32:57,236 - courlan.core - INFO - 38 links found – 30 valid links\u001b[0m\n",
      "\u001b[32m2024-08-13 12:32:57,236 - courlan.core - INFO - 38 links found – 30 valid links\u001b[0m\n",
      "\u001b[32m2024-08-13 12:32:57,236 - courlan.core - INFO - 38 links found – 30 valid links\u001b[0m\n",
      "\u001b[33m2024-08-13 12:32:59,555 - courlan.urlstore - WARNING - Discarding URL: /blogs/blog/15-annoying-sounds-that-need-to-go-away-forever\u001b[0m\n",
      "\u001b[33m2024-08-13 12:32:59,555 - courlan.urlstore - WARNING - Discarding URL: /blogs/blog/15-annoying-sounds-that-need-to-go-away-forever\u001b[0m\n",
      "\u001b[33m2024-08-13 12:32:59,555 - courlan.urlstore - WARNING - Discarding URL: /blogs/blog/15-annoying-sounds-that-need-to-go-away-forever\u001b[0m\n",
      "\u001b[33m2024-08-13 12:32:59,555 - courlan.urlstore - WARNING - Discarding URL: /blogs/blog/15-annoying-sounds-that-need-to-go-away-forever\u001b[0m\n",
      "\u001b[33m2024-08-13 12:32:59,555 - courlan.urlstore - WARNING - Discarding URL: /blogs/blog/15-annoying-sounds-that-need-to-go-away-forever\u001b[0m\n",
      "\u001b[33m2024-08-13 12:32:59,555 - courlan.urlstore - WARNING - Discarding URL: /blogs/blog/15-annoying-sounds-that-need-to-go-away-forever\u001b[0m\n",
      "\u001b[32m2024-08-13 12:32:59,566 - courlan.core - INFO - 39 links found – 32 valid links\u001b[0m\n",
      "\u001b[32m2024-08-13 12:32:59,566 - courlan.core - INFO - 39 links found – 32 valid links\u001b[0m\n",
      "\u001b[32m2024-08-13 12:32:59,566 - courlan.core - INFO - 39 links found – 32 valid links\u001b[0m\n",
      "\u001b[32m2024-08-13 12:32:59,566 - courlan.core - INFO - 39 links found – 32 valid links\u001b[0m\n",
      "\u001b[32m2024-08-13 12:32:59,566 - courlan.core - INFO - 39 links found – 32 valid links\u001b[0m\n",
      "\u001b[32m2024-08-13 12:32:59,566 - courlan.core - INFO - 39 links found – 32 valid links\u001b[0m\n",
      "\u001b[33m2024-08-13 12:33:01,789 - courlan.urlstore - WARNING - Discarding URL: /blogs/life-at-loop/how-innovative-can-an-earplug-get\u001b[0m\n",
      "\u001b[33m2024-08-13 12:33:01,789 - courlan.urlstore - WARNING - Discarding URL: /blogs/life-at-loop/how-innovative-can-an-earplug-get\u001b[0m\n",
      "\u001b[33m2024-08-13 12:33:01,789 - courlan.urlstore - WARNING - Discarding URL: /blogs/life-at-loop/how-innovative-can-an-earplug-get\u001b[0m\n",
      "\u001b[33m2024-08-13 12:33:01,789 - courlan.urlstore - WARNING - Discarding URL: /blogs/life-at-loop/how-innovative-can-an-earplug-get\u001b[0m\n",
      "\u001b[33m2024-08-13 12:33:01,789 - courlan.urlstore - WARNING - Discarding URL: /blogs/life-at-loop/how-innovative-can-an-earplug-get\u001b[0m\n",
      "\u001b[33m2024-08-13 12:33:01,789 - courlan.urlstore - WARNING - Discarding URL: /blogs/life-at-loop/how-innovative-can-an-earplug-get\u001b[0m\n",
      "\u001b[32m2024-08-13 12:33:01,799 - courlan.core - INFO - 29 links found – 26 valid links\u001b[0m\n",
      "\u001b[32m2024-08-13 12:33:01,799 - courlan.core - INFO - 29 links found – 26 valid links\u001b[0m\n",
      "\u001b[32m2024-08-13 12:33:01,799 - courlan.core - INFO - 29 links found – 26 valid links\u001b[0m\n",
      "\u001b[32m2024-08-13 12:33:01,799 - courlan.core - INFO - 29 links found – 26 valid links\u001b[0m\n",
      "\u001b[32m2024-08-13 12:33:01,799 - courlan.core - INFO - 29 links found – 26 valid links\u001b[0m\n",
      "\u001b[32m2024-08-13 12:33:01,799 - courlan.core - INFO - 29 links found – 26 valid links\u001b[0m\n",
      "\u001b[33m2024-08-13 12:33:03,967 - courlan.urlstore - WARNING - Discarding URL: /blogs/blog/a-look-at-the-use-of-earplugs-for-nightclubs-and-festivals\u001b[0m\n",
      "\u001b[33m2024-08-13 12:33:03,967 - courlan.urlstore - WARNING - Discarding URL: /blogs/blog/a-look-at-the-use-of-earplugs-for-nightclubs-and-festivals\u001b[0m\n",
      "\u001b[33m2024-08-13 12:33:03,967 - courlan.urlstore - WARNING - Discarding URL: /blogs/blog/a-look-at-the-use-of-earplugs-for-nightclubs-and-festivals\u001b[0m\n",
      "\u001b[33m2024-08-13 12:33:03,967 - courlan.urlstore - WARNING - Discarding URL: /blogs/blog/a-look-at-the-use-of-earplugs-for-nightclubs-and-festivals\u001b[0m\n",
      "\u001b[33m2024-08-13 12:33:03,967 - courlan.urlstore - WARNING - Discarding URL: /blogs/blog/a-look-at-the-use-of-earplugs-for-nightclubs-and-festivals\u001b[0m\n",
      "\u001b[33m2024-08-13 12:33:03,967 - courlan.urlstore - WARNING - Discarding URL: /blogs/blog/a-look-at-the-use-of-earplugs-for-nightclubs-and-festivals\u001b[0m\n",
      "\u001b[32m2024-08-13 12:33:03,976 - courlan.core - INFO - 35 links found – 30 valid links\u001b[0m\n",
      "\u001b[32m2024-08-13 12:33:03,976 - courlan.core - INFO - 35 links found – 30 valid links\u001b[0m\n",
      "\u001b[32m2024-08-13 12:33:03,976 - courlan.core - INFO - 35 links found – 30 valid links\u001b[0m\n",
      "\u001b[32m2024-08-13 12:33:03,976 - courlan.core - INFO - 35 links found – 30 valid links\u001b[0m\n",
      "\u001b[32m2024-08-13 12:33:03,976 - courlan.core - INFO - 35 links found – 30 valid links\u001b[0m\n",
      "\u001b[32m2024-08-13 12:33:03,976 - courlan.core - INFO - 35 links found – 30 valid links\u001b[0m\n",
      "\u001b[33m2024-08-13 12:33:06,570 - courlan.urlstore - WARNING - Discarding URL: /blogs/blog/noisiest-cities-in-the-world\u001b[0m\n",
      "\u001b[33m2024-08-13 12:33:06,570 - courlan.urlstore - WARNING - Discarding URL: /blogs/blog/noisiest-cities-in-the-world\u001b[0m\n",
      "\u001b[33m2024-08-13 12:33:06,570 - courlan.urlstore - WARNING - Discarding URL: /blogs/blog/noisiest-cities-in-the-world\u001b[0m\n",
      "\u001b[33m2024-08-13 12:33:06,570 - courlan.urlstore - WARNING - Discarding URL: /blogs/blog/noisiest-cities-in-the-world\u001b[0m\n",
      "\u001b[33m2024-08-13 12:33:06,570 - courlan.urlstore - WARNING - Discarding URL: /blogs/blog/noisiest-cities-in-the-world\u001b[0m\n",
      "\u001b[33m2024-08-13 12:33:06,570 - courlan.urlstore - WARNING - Discarding URL: /blogs/blog/noisiest-cities-in-the-world\u001b[0m\n",
      "\u001b[32m2024-08-13 12:33:06,582 - courlan.core - INFO - 42 links found – 28 valid links\u001b[0m\n",
      "\u001b[32m2024-08-13 12:33:06,582 - courlan.core - INFO - 42 links found – 28 valid links\u001b[0m\n",
      "\u001b[32m2024-08-13 12:33:06,582 - courlan.core - INFO - 42 links found – 28 valid links\u001b[0m\n",
      "\u001b[32m2024-08-13 12:33:06,582 - courlan.core - INFO - 42 links found – 28 valid links\u001b[0m\n",
      "\u001b[32m2024-08-13 12:33:06,582 - courlan.core - INFO - 42 links found – 28 valid links\u001b[0m\n",
      "\u001b[32m2024-08-13 12:33:06,582 - courlan.core - INFO - 42 links found – 28 valid links\u001b[0m\n",
      "\u001b[33m2024-08-13 12:33:08,854 - courlan.urlstore - WARNING - Discarding URL: /blogs/life-at-loop/5-social-media-trends-to-watch-in-2022\u001b[0m\n",
      "\u001b[33m2024-08-13 12:33:08,854 - courlan.urlstore - WARNING - Discarding URL: /blogs/life-at-loop/5-social-media-trends-to-watch-in-2022\u001b[0m\n",
      "\u001b[33m2024-08-13 12:33:08,854 - courlan.urlstore - WARNING - Discarding URL: /blogs/life-at-loop/5-social-media-trends-to-watch-in-2022\u001b[0m\n",
      "\u001b[33m2024-08-13 12:33:08,854 - courlan.urlstore - WARNING - Discarding URL: /blogs/life-at-loop/5-social-media-trends-to-watch-in-2022\u001b[0m\n",
      "\u001b[33m2024-08-13 12:33:08,854 - courlan.urlstore - WARNING - Discarding URL: /blogs/life-at-loop/5-social-media-trends-to-watch-in-2022\u001b[0m\n",
      "\u001b[33m2024-08-13 12:33:08,854 - courlan.urlstore - WARNING - Discarding URL: /blogs/life-at-loop/5-social-media-trends-to-watch-in-2022\u001b[0m\n",
      "\u001b[32m2024-08-13 12:33:08,866 - courlan.core - INFO - 29 links found – 26 valid links\u001b[0m\n",
      "\u001b[32m2024-08-13 12:33:08,866 - courlan.core - INFO - 29 links found – 26 valid links\u001b[0m\n",
      "\u001b[32m2024-08-13 12:33:08,866 - courlan.core - INFO - 29 links found – 26 valid links\u001b[0m\n",
      "\u001b[32m2024-08-13 12:33:08,866 - courlan.core - INFO - 29 links found – 26 valid links\u001b[0m\n",
      "\u001b[32m2024-08-13 12:33:08,866 - courlan.core - INFO - 29 links found – 26 valid links\u001b[0m\n",
      "\u001b[32m2024-08-13 12:33:08,866 - courlan.core - INFO - 29 links found – 26 valid links\u001b[0m\n",
      "\u001b[33m2024-08-13 12:33:11,007 - courlan.urlstore - WARNING - Discarding URL: /blogs/blog/what-to-wear-to-a-nightclub-the-2023-guide-for-women\u001b[0m\n",
      "\u001b[33m2024-08-13 12:33:11,007 - courlan.urlstore - WARNING - Discarding URL: /blogs/blog/what-to-wear-to-a-nightclub-the-2023-guide-for-women\u001b[0m\n",
      "\u001b[33m2024-08-13 12:33:11,007 - courlan.urlstore - WARNING - Discarding URL: /blogs/blog/what-to-wear-to-a-nightclub-the-2023-guide-for-women\u001b[0m\n",
      "\u001b[33m2024-08-13 12:33:11,007 - courlan.urlstore - WARNING - Discarding URL: /blogs/blog/what-to-wear-to-a-nightclub-the-2023-guide-for-women\u001b[0m\n",
      "\u001b[33m2024-08-13 12:33:11,007 - courlan.urlstore - WARNING - Discarding URL: /blogs/blog/what-to-wear-to-a-nightclub-the-2023-guide-for-women\u001b[0m\n",
      "\u001b[33m2024-08-13 12:33:11,007 - courlan.urlstore - WARNING - Discarding URL: /blogs/blog/what-to-wear-to-a-nightclub-the-2023-guide-for-women\u001b[0m\n",
      "\u001b[32m2024-08-13 12:33:11,017 - courlan.core - INFO - 37 links found – 32 valid links\u001b[0m\n",
      "\u001b[32m2024-08-13 12:33:11,017 - courlan.core - INFO - 37 links found – 32 valid links\u001b[0m\n",
      "\u001b[32m2024-08-13 12:33:11,017 - courlan.core - INFO - 37 links found – 32 valid links\u001b[0m\n",
      "\u001b[32m2024-08-13 12:33:11,017 - courlan.core - INFO - 37 links found – 32 valid links\u001b[0m\n",
      "\u001b[32m2024-08-13 12:33:11,017 - courlan.core - INFO - 37 links found – 32 valid links\u001b[0m\n",
      "\u001b[32m2024-08-13 12:33:11,017 - courlan.core - INFO - 37 links found – 32 valid links\u001b[0m\n",
      "\u001b[33m2024-08-13 12:33:13,849 - courlan.urlstore - WARNING - Discarding URL: /blogs/blog/you-asked-we-listened\u001b[0m\n",
      "\u001b[33m2024-08-13 12:33:13,849 - courlan.urlstore - WARNING - Discarding URL: /blogs/blog/you-asked-we-listened\u001b[0m\n",
      "\u001b[33m2024-08-13 12:33:13,849 - courlan.urlstore - WARNING - Discarding URL: /blogs/blog/you-asked-we-listened\u001b[0m\n",
      "\u001b[33m2024-08-13 12:33:13,849 - courlan.urlstore - WARNING - Discarding URL: /blogs/blog/you-asked-we-listened\u001b[0m\n",
      "\u001b[33m2024-08-13 12:33:13,849 - courlan.urlstore - WARNING - Discarding URL: /blogs/blog/you-asked-we-listened\u001b[0m\n",
      "\u001b[33m2024-08-13 12:33:13,849 - courlan.urlstore - WARNING - Discarding URL: /blogs/blog/you-asked-we-listened\u001b[0m\n",
      "\u001b[32m2024-08-13 12:33:13,860 - courlan.core - INFO - 58 links found – 54 valid links\u001b[0m\n",
      "\u001b[32m2024-08-13 12:33:13,860 - courlan.core - INFO - 58 links found – 54 valid links\u001b[0m\n",
      "\u001b[32m2024-08-13 12:33:13,860 - courlan.core - INFO - 58 links found – 54 valid links\u001b[0m\n",
      "\u001b[32m2024-08-13 12:33:13,860 - courlan.core - INFO - 58 links found – 54 valid links\u001b[0m\n",
      "\u001b[32m2024-08-13 12:33:13,860 - courlan.core - INFO - 58 links found – 54 valid links\u001b[0m\n",
      "\u001b[32m2024-08-13 12:33:13,860 - courlan.core - INFO - 58 links found – 54 valid links\u001b[0m\n",
      "\u001b[33m2024-08-13 12:33:16,125 - courlan.urlstore - WARNING - Discarding URL: /blogs/blog/top-tips-for-choosing-earplugs-for-sleeping\u001b[0m\n",
      "\u001b[33m2024-08-13 12:33:16,125 - courlan.urlstore - WARNING - Discarding URL: /blogs/blog/top-tips-for-choosing-earplugs-for-sleeping\u001b[0m\n",
      "\u001b[33m2024-08-13 12:33:16,125 - courlan.urlstore - WARNING - Discarding URL: /blogs/blog/top-tips-for-choosing-earplugs-for-sleeping\u001b[0m\n",
      "\u001b[33m2024-08-13 12:33:16,125 - courlan.urlstore - WARNING - Discarding URL: /blogs/blog/top-tips-for-choosing-earplugs-for-sleeping\u001b[0m\n",
      "\u001b[33m2024-08-13 12:33:16,125 - courlan.urlstore - WARNING - Discarding URL: /blogs/blog/top-tips-for-choosing-earplugs-for-sleeping\u001b[0m\n",
      "\u001b[33m2024-08-13 12:33:16,125 - courlan.urlstore - WARNING - Discarding URL: /blogs/blog/top-tips-for-choosing-earplugs-for-sleeping\u001b[0m\n",
      "\u001b[32m2024-08-13 12:33:16,140 - courlan.core - INFO - 34 links found – 29 valid links\u001b[0m\n",
      "\u001b[32m2024-08-13 12:33:16,140 - courlan.core - INFO - 34 links found – 29 valid links\u001b[0m\n",
      "\u001b[32m2024-08-13 12:33:16,140 - courlan.core - INFO - 34 links found – 29 valid links\u001b[0m\n",
      "\u001b[32m2024-08-13 12:33:16,140 - courlan.core - INFO - 34 links found – 29 valid links\u001b[0m\n",
      "\u001b[32m2024-08-13 12:33:16,140 - courlan.core - INFO - 34 links found – 29 valid links\u001b[0m\n",
      "\u001b[32m2024-08-13 12:33:16,140 - courlan.core - INFO - 34 links found – 29 valid links\u001b[0m\n",
      "\u001b[33m2024-08-13 12:33:18,186 - courlan.urlstore - WARNING - Discarding URL: /blogs/life-at-loop/introducing-ludovic-s-loop-story\u001b[0m\n",
      "\u001b[33m2024-08-13 12:33:18,186 - courlan.urlstore - WARNING - Discarding URL: /blogs/life-at-loop/introducing-ludovic-s-loop-story\u001b[0m\n",
      "\u001b[33m2024-08-13 12:33:18,186 - courlan.urlstore - WARNING - Discarding URL: /blogs/life-at-loop/introducing-ludovic-s-loop-story\u001b[0m\n",
      "\u001b[33m2024-08-13 12:33:18,186 - courlan.urlstore - WARNING - Discarding URL: /blogs/life-at-loop/introducing-ludovic-s-loop-story\u001b[0m\n",
      "\u001b[33m2024-08-13 12:33:18,186 - courlan.urlstore - WARNING - Discarding URL: /blogs/life-at-loop/introducing-ludovic-s-loop-story\u001b[0m\n",
      "\u001b[33m2024-08-13 12:33:18,186 - courlan.urlstore - WARNING - Discarding URL: /blogs/life-at-loop/introducing-ludovic-s-loop-story\u001b[0m\n",
      "\u001b[32m2024-08-13 12:33:18,196 - courlan.core - INFO - 29 links found – 26 valid links\u001b[0m\n",
      "\u001b[32m2024-08-13 12:33:18,196 - courlan.core - INFO - 29 links found – 26 valid links\u001b[0m\n",
      "\u001b[32m2024-08-13 12:33:18,196 - courlan.core - INFO - 29 links found – 26 valid links\u001b[0m\n",
      "\u001b[32m2024-08-13 12:33:18,196 - courlan.core - INFO - 29 links found – 26 valid links\u001b[0m\n",
      "\u001b[32m2024-08-13 12:33:18,196 - courlan.core - INFO - 29 links found – 26 valid links\u001b[0m\n",
      "\u001b[32m2024-08-13 12:33:18,196 - courlan.core - INFO - 29 links found – 26 valid links\u001b[0m\n",
      "\u001b[33m2024-08-13 12:33:20,444 - courlan.urlstore - WARNING - Discarding URL: /blogs/blog/silencing-the-stigma-on-hearing-protection-loop-earplugs-x-tomorrowland\u001b[0m\n",
      "\u001b[33m2024-08-13 12:33:20,444 - courlan.urlstore - WARNING - Discarding URL: /blogs/blog/silencing-the-stigma-on-hearing-protection-loop-earplugs-x-tomorrowland\u001b[0m\n",
      "\u001b[33m2024-08-13 12:33:20,444 - courlan.urlstore - WARNING - Discarding URL: /blogs/blog/silencing-the-stigma-on-hearing-protection-loop-earplugs-x-tomorrowland\u001b[0m\n",
      "\u001b[33m2024-08-13 12:33:20,444 - courlan.urlstore - WARNING - Discarding URL: /blogs/blog/silencing-the-stigma-on-hearing-protection-loop-earplugs-x-tomorrowland\u001b[0m\n",
      "\u001b[33m2024-08-13 12:33:20,444 - courlan.urlstore - WARNING - Discarding URL: /blogs/blog/silencing-the-stigma-on-hearing-protection-loop-earplugs-x-tomorrowland\u001b[0m\n",
      "\u001b[33m2024-08-13 12:33:20,444 - courlan.urlstore - WARNING - Discarding URL: /blogs/blog/silencing-the-stigma-on-hearing-protection-loop-earplugs-x-tomorrowland\u001b[0m\n",
      "\u001b[32m2024-08-13 12:33:20,453 - courlan.core - INFO - 31 links found – 28 valid links\u001b[0m\n",
      "\u001b[32m2024-08-13 12:33:20,453 - courlan.core - INFO - 31 links found – 28 valid links\u001b[0m\n",
      "\u001b[32m2024-08-13 12:33:20,453 - courlan.core - INFO - 31 links found – 28 valid links\u001b[0m\n",
      "\u001b[32m2024-08-13 12:33:20,453 - courlan.core - INFO - 31 links found – 28 valid links\u001b[0m\n",
      "\u001b[32m2024-08-13 12:33:20,453 - courlan.core - INFO - 31 links found – 28 valid links\u001b[0m\n",
      "\u001b[32m2024-08-13 12:33:20,453 - courlan.core - INFO - 31 links found – 28 valid links\u001b[0m\n",
      "\u001b[33m2024-08-13 12:33:22,897 - courlan.urlstore - WARNING - Discarding URL: /blogs/blog/calling-all-overstimulated-parents-reclaim-your-calm\u001b[0m\n",
      "\u001b[33m2024-08-13 12:33:22,897 - courlan.urlstore - WARNING - Discarding URL: /blogs/blog/calling-all-overstimulated-parents-reclaim-your-calm\u001b[0m\n",
      "\u001b[33m2024-08-13 12:33:22,897 - courlan.urlstore - WARNING - Discarding URL: /blogs/blog/calling-all-overstimulated-parents-reclaim-your-calm\u001b[0m\n",
      "\u001b[33m2024-08-13 12:33:22,897 - courlan.urlstore - WARNING - Discarding URL: /blogs/blog/calling-all-overstimulated-parents-reclaim-your-calm\u001b[0m\n",
      "\u001b[33m2024-08-13 12:33:22,897 - courlan.urlstore - WARNING - Discarding URL: /blogs/blog/calling-all-overstimulated-parents-reclaim-your-calm\u001b[0m\n",
      "\u001b[33m2024-08-13 12:33:22,897 - courlan.urlstore - WARNING - Discarding URL: /blogs/blog/calling-all-overstimulated-parents-reclaim-your-calm\u001b[0m\n",
      "\u001b[32m2024-08-13 12:33:22,906 - courlan.core - INFO - 36 links found – 28 valid links\u001b[0m\n",
      "\u001b[32m2024-08-13 12:33:22,906 - courlan.core - INFO - 36 links found – 28 valid links\u001b[0m\n",
      "\u001b[32m2024-08-13 12:33:22,906 - courlan.core - INFO - 36 links found – 28 valid links\u001b[0m\n",
      "\u001b[32m2024-08-13 12:33:22,906 - courlan.core - INFO - 36 links found – 28 valid links\u001b[0m\n",
      "\u001b[32m2024-08-13 12:33:22,906 - courlan.core - INFO - 36 links found – 28 valid links\u001b[0m\n",
      "\u001b[32m2024-08-13 12:33:22,906 - courlan.core - INFO - 36 links found – 28 valid links\u001b[0m\n",
      "\u001b[33m2024-08-13 12:33:25,057 - courlan.urlstore - WARNING - Discarding URL: /blogs/blog/tinnitus-does-it-ever-truly-go-away\u001b[0m\n",
      "\u001b[33m2024-08-13 12:33:25,057 - courlan.urlstore - WARNING - Discarding URL: /blogs/blog/tinnitus-does-it-ever-truly-go-away\u001b[0m\n",
      "\u001b[33m2024-08-13 12:33:25,057 - courlan.urlstore - WARNING - Discarding URL: /blogs/blog/tinnitus-does-it-ever-truly-go-away\u001b[0m\n",
      "\u001b[33m2024-08-13 12:33:25,057 - courlan.urlstore - WARNING - Discarding URL: /blogs/blog/tinnitus-does-it-ever-truly-go-away\u001b[0m\n",
      "\u001b[33m2024-08-13 12:33:25,057 - courlan.urlstore - WARNING - Discarding URL: /blogs/blog/tinnitus-does-it-ever-truly-go-away\u001b[0m\n",
      "\u001b[33m2024-08-13 12:33:25,057 - courlan.urlstore - WARNING - Discarding URL: /blogs/blog/tinnitus-does-it-ever-truly-go-away\u001b[0m\n",
      "\u001b[32m2024-08-13 12:33:25,068 - courlan.core - INFO - 37 links found – 31 valid links\u001b[0m\n",
      "\u001b[32m2024-08-13 12:33:25,068 - courlan.core - INFO - 37 links found – 31 valid links\u001b[0m\n",
      "\u001b[32m2024-08-13 12:33:25,068 - courlan.core - INFO - 37 links found – 31 valid links\u001b[0m\n",
      "\u001b[32m2024-08-13 12:33:25,068 - courlan.core - INFO - 37 links found – 31 valid links\u001b[0m\n",
      "\u001b[32m2024-08-13 12:33:25,068 - courlan.core - INFO - 37 links found – 31 valid links\u001b[0m\n",
      "\u001b[32m2024-08-13 12:33:25,068 - courlan.core - INFO - 37 links found – 31 valid links\u001b[0m\n",
      "\u001b[33m2024-08-13 12:33:27,091 - courlan.urlstore - WARNING - Discarding URL: /blogs/blog/music-genres-personality-type\u001b[0m\n",
      "\u001b[33m2024-08-13 12:33:27,091 - courlan.urlstore - WARNING - Discarding URL: /blogs/blog/music-genres-personality-type\u001b[0m\n",
      "\u001b[33m2024-08-13 12:33:27,091 - courlan.urlstore - WARNING - Discarding URL: /blogs/blog/music-genres-personality-type\u001b[0m\n",
      "\u001b[33m2024-08-13 12:33:27,091 - courlan.urlstore - WARNING - Discarding URL: /blogs/blog/music-genres-personality-type\u001b[0m\n",
      "\u001b[33m2024-08-13 12:33:27,091 - courlan.urlstore - WARNING - Discarding URL: /blogs/blog/music-genres-personality-type\u001b[0m\n",
      "\u001b[33m2024-08-13 12:33:27,091 - courlan.urlstore - WARNING - Discarding URL: /blogs/blog/music-genres-personality-type\u001b[0m\n",
      "\u001b[32m2024-08-13 12:33:27,103 - courlan.core - INFO - 39 links found – 26 valid links\u001b[0m\n",
      "\u001b[32m2024-08-13 12:33:27,103 - courlan.core - INFO - 39 links found – 26 valid links\u001b[0m\n",
      "\u001b[32m2024-08-13 12:33:27,103 - courlan.core - INFO - 39 links found – 26 valid links\u001b[0m\n",
      "\u001b[32m2024-08-13 12:33:27,103 - courlan.core - INFO - 39 links found – 26 valid links\u001b[0m\n",
      "\u001b[32m2024-08-13 12:33:27,103 - courlan.core - INFO - 39 links found – 26 valid links\u001b[0m\n",
      "\u001b[32m2024-08-13 12:33:27,103 - courlan.core - INFO - 39 links found – 26 valid links\u001b[0m\n",
      "\u001b[33m2024-08-13 12:33:29,699 - courlan.urlstore - WARNING - Discarding URL: /blogs/blog/ready-for-the-night-of-your-life-our-ultimate-clubbing-guide-will-show-you-how\u001b[0m\n",
      "\u001b[33m2024-08-13 12:33:29,699 - courlan.urlstore - WARNING - Discarding URL: /blogs/blog/ready-for-the-night-of-your-life-our-ultimate-clubbing-guide-will-show-you-how\u001b[0m\n",
      "\u001b[33m2024-08-13 12:33:29,699 - courlan.urlstore - WARNING - Discarding URL: /blogs/blog/ready-for-the-night-of-your-life-our-ultimate-clubbing-guide-will-show-you-how\u001b[0m\n",
      "\u001b[33m2024-08-13 12:33:29,699 - courlan.urlstore - WARNING - Discarding URL: /blogs/blog/ready-for-the-night-of-your-life-our-ultimate-clubbing-guide-will-show-you-how\u001b[0m\n",
      "\u001b[33m2024-08-13 12:33:29,699 - courlan.urlstore - WARNING - Discarding URL: /blogs/blog/ready-for-the-night-of-your-life-our-ultimate-clubbing-guide-will-show-you-how\u001b[0m\n",
      "\u001b[33m2024-08-13 12:33:29,699 - courlan.urlstore - WARNING - Discarding URL: /blogs/blog/ready-for-the-night-of-your-life-our-ultimate-clubbing-guide-will-show-you-how\u001b[0m\n",
      "\u001b[32m2024-08-13 12:33:29,711 - courlan.core - INFO - 39 links found – 30 valid links\u001b[0m\n",
      "\u001b[32m2024-08-13 12:33:29,711 - courlan.core - INFO - 39 links found – 30 valid links\u001b[0m\n",
      "\u001b[32m2024-08-13 12:33:29,711 - courlan.core - INFO - 39 links found – 30 valid links\u001b[0m\n",
      "\u001b[32m2024-08-13 12:33:29,711 - courlan.core - INFO - 39 links found – 30 valid links\u001b[0m\n",
      "\u001b[32m2024-08-13 12:33:29,711 - courlan.core - INFO - 39 links found – 30 valid links\u001b[0m\n",
      "\u001b[32m2024-08-13 12:33:29,711 - courlan.core - INFO - 39 links found – 30 valid links\u001b[0m\n",
      "\u001b[33m2024-08-13 12:33:32,253 - courlan.urlstore - WARNING - Discarding URL: /blogs/blog/why-are-motorcycles-so-loud\u001b[0m\n",
      "\u001b[33m2024-08-13 12:33:32,253 - courlan.urlstore - WARNING - Discarding URL: /blogs/blog/why-are-motorcycles-so-loud\u001b[0m\n",
      "\u001b[33m2024-08-13 12:33:32,253 - courlan.urlstore - WARNING - Discarding URL: /blogs/blog/why-are-motorcycles-so-loud\u001b[0m\n",
      "\u001b[33m2024-08-13 12:33:32,253 - courlan.urlstore - WARNING - Discarding URL: /blogs/blog/why-are-motorcycles-so-loud\u001b[0m\n",
      "\u001b[33m2024-08-13 12:33:32,253 - courlan.urlstore - WARNING - Discarding URL: /blogs/blog/why-are-motorcycles-so-loud\u001b[0m\n",
      "\u001b[33m2024-08-13 12:33:32,253 - courlan.urlstore - WARNING - Discarding URL: /blogs/blog/why-are-motorcycles-so-loud\u001b[0m\n",
      "\u001b[32m2024-08-13 12:33:32,266 - courlan.core - INFO - 44 links found – 31 valid links\u001b[0m\n",
      "\u001b[32m2024-08-13 12:33:32,266 - courlan.core - INFO - 44 links found – 31 valid links\u001b[0m\n",
      "\u001b[32m2024-08-13 12:33:32,266 - courlan.core - INFO - 44 links found – 31 valid links\u001b[0m\n",
      "\u001b[32m2024-08-13 12:33:32,266 - courlan.core - INFO - 44 links found – 31 valid links\u001b[0m\n",
      "\u001b[32m2024-08-13 12:33:32,266 - courlan.core - INFO - 44 links found – 31 valid links\u001b[0m\n",
      "\u001b[32m2024-08-13 12:33:32,266 - courlan.core - INFO - 44 links found – 31 valid links\u001b[0m\n",
      "\u001b[33m2024-08-13 12:33:34,872 - courlan.urlstore - WARNING - Discarding URL: /blogs/blog/parents-and-sleep-deprivation-our-top-tips-for-survival\u001b[0m\n",
      "\u001b[33m2024-08-13 12:33:34,872 - courlan.urlstore - WARNING - Discarding URL: /blogs/blog/parents-and-sleep-deprivation-our-top-tips-for-survival\u001b[0m\n",
      "\u001b[33m2024-08-13 12:33:34,872 - courlan.urlstore - WARNING - Discarding URL: /blogs/blog/parents-and-sleep-deprivation-our-top-tips-for-survival\u001b[0m\n",
      "\u001b[33m2024-08-13 12:33:34,872 - courlan.urlstore - WARNING - Discarding URL: /blogs/blog/parents-and-sleep-deprivation-our-top-tips-for-survival\u001b[0m\n",
      "\u001b[33m2024-08-13 12:33:34,872 - courlan.urlstore - WARNING - Discarding URL: /blogs/blog/parents-and-sleep-deprivation-our-top-tips-for-survival\u001b[0m\n",
      "\u001b[33m2024-08-13 12:33:34,872 - courlan.urlstore - WARNING - Discarding URL: /blogs/blog/parents-and-sleep-deprivation-our-top-tips-for-survival\u001b[0m\n",
      "\u001b[32m2024-08-13 12:33:34,883 - courlan.core - INFO - 39 links found – 30 valid links\u001b[0m\n",
      "\u001b[32m2024-08-13 12:33:34,883 - courlan.core - INFO - 39 links found – 30 valid links\u001b[0m\n",
      "\u001b[32m2024-08-13 12:33:34,883 - courlan.core - INFO - 39 links found – 30 valid links\u001b[0m\n",
      "\u001b[32m2024-08-13 12:33:34,883 - courlan.core - INFO - 39 links found – 30 valid links\u001b[0m\n",
      "\u001b[32m2024-08-13 12:33:34,883 - courlan.core - INFO - 39 links found – 30 valid links\u001b[0m\n",
      "\u001b[32m2024-08-13 12:33:34,883 - courlan.core - INFO - 39 links found – 30 valid links\u001b[0m\n",
      "\u001b[33m2024-08-13 12:33:37,494 - courlan.urlstore - WARNING - Discarding URL: /blogs/life-at-loop/the-reality-of-a-workaway\u001b[0m\n",
      "\u001b[33m2024-08-13 12:33:37,494 - courlan.urlstore - WARNING - Discarding URL: /blogs/life-at-loop/the-reality-of-a-workaway\u001b[0m\n",
      "\u001b[33m2024-08-13 12:33:37,494 - courlan.urlstore - WARNING - Discarding URL: /blogs/life-at-loop/the-reality-of-a-workaway\u001b[0m\n",
      "\u001b[33m2024-08-13 12:33:37,494 - courlan.urlstore - WARNING - Discarding URL: /blogs/life-at-loop/the-reality-of-a-workaway\u001b[0m\n",
      "\u001b[33m2024-08-13 12:33:37,494 - courlan.urlstore - WARNING - Discarding URL: /blogs/life-at-loop/the-reality-of-a-workaway\u001b[0m\n",
      "\u001b[33m2024-08-13 12:33:37,494 - courlan.urlstore - WARNING - Discarding URL: /blogs/life-at-loop/the-reality-of-a-workaway\u001b[0m\n",
      "\u001b[32m2024-08-13 12:33:37,504 - courlan.core - INFO - 43 links found – 40 valid links\u001b[0m\n",
      "\u001b[32m2024-08-13 12:33:37,504 - courlan.core - INFO - 43 links found – 40 valid links\u001b[0m\n",
      "\u001b[32m2024-08-13 12:33:37,504 - courlan.core - INFO - 43 links found – 40 valid links\u001b[0m\n",
      "\u001b[32m2024-08-13 12:33:37,504 - courlan.core - INFO - 43 links found – 40 valid links\u001b[0m\n",
      "\u001b[32m2024-08-13 12:33:37,504 - courlan.core - INFO - 43 links found – 40 valid links\u001b[0m\n",
      "\u001b[32m2024-08-13 12:33:37,504 - courlan.core - INFO - 43 links found – 40 valid links\u001b[0m\n",
      "\u001b[33m2024-08-13 12:33:39,992 - courlan.urlstore - WARNING - Discarding URL: /blogs/blog/loop-elements-edition\u001b[0m\n",
      "\u001b[33m2024-08-13 12:33:39,992 - courlan.urlstore - WARNING - Discarding URL: /blogs/blog/loop-elements-edition\u001b[0m\n",
      "\u001b[33m2024-08-13 12:33:39,992 - courlan.urlstore - WARNING - Discarding URL: /blogs/blog/loop-elements-edition\u001b[0m\n",
      "\u001b[33m2024-08-13 12:33:39,992 - courlan.urlstore - WARNING - Discarding URL: /blogs/blog/loop-elements-edition\u001b[0m\n",
      "\u001b[33m2024-08-13 12:33:39,992 - courlan.urlstore - WARNING - Discarding URL: /blogs/blog/loop-elements-edition\u001b[0m\n",
      "\u001b[33m2024-08-13 12:33:39,992 - courlan.urlstore - WARNING - Discarding URL: /blogs/blog/loop-elements-edition\u001b[0m\n",
      "\u001b[32m2024-08-13 12:33:40,003 - courlan.core - INFO - 47 links found – 44 valid links\u001b[0m\n",
      "\u001b[32m2024-08-13 12:33:40,003 - courlan.core - INFO - 47 links found – 44 valid links\u001b[0m\n",
      "\u001b[32m2024-08-13 12:33:40,003 - courlan.core - INFO - 47 links found – 44 valid links\u001b[0m\n",
      "\u001b[32m2024-08-13 12:33:40,003 - courlan.core - INFO - 47 links found – 44 valid links\u001b[0m\n",
      "\u001b[32m2024-08-13 12:33:40,003 - courlan.core - INFO - 47 links found – 44 valid links\u001b[0m\n",
      "\u001b[32m2024-08-13 12:33:40,003 - courlan.core - INFO - 47 links found – 44 valid links\u001b[0m\n",
      "\u001b[33m2024-08-13 12:33:42,423 - courlan.urlstore - WARNING - Discarding URL: /blogs/blog/kinetic-seasonal-collection\u001b[0m\n",
      "\u001b[33m2024-08-13 12:33:42,423 - courlan.urlstore - WARNING - Discarding URL: /blogs/blog/kinetic-seasonal-collection\u001b[0m\n",
      "\u001b[33m2024-08-13 12:33:42,423 - courlan.urlstore - WARNING - Discarding URL: /blogs/blog/kinetic-seasonal-collection\u001b[0m\n",
      "\u001b[33m2024-08-13 12:33:42,423 - courlan.urlstore - WARNING - Discarding URL: /blogs/blog/kinetic-seasonal-collection\u001b[0m\n",
      "\u001b[33m2024-08-13 12:33:42,423 - courlan.urlstore - WARNING - Discarding URL: /blogs/blog/kinetic-seasonal-collection\u001b[0m\n",
      "\u001b[33m2024-08-13 12:33:42,423 - courlan.urlstore - WARNING - Discarding URL: /blogs/blog/kinetic-seasonal-collection\u001b[0m\n",
      "\u001b[32m2024-08-13 12:33:42,433 - courlan.core - INFO - 35 links found – 31 valid links\u001b[0m\n",
      "\u001b[32m2024-08-13 12:33:42,433 - courlan.core - INFO - 35 links found – 31 valid links\u001b[0m\n",
      "\u001b[32m2024-08-13 12:33:42,433 - courlan.core - INFO - 35 links found – 31 valid links\u001b[0m\n",
      "\u001b[32m2024-08-13 12:33:42,433 - courlan.core - INFO - 35 links found – 31 valid links\u001b[0m\n",
      "\u001b[32m2024-08-13 12:33:42,433 - courlan.core - INFO - 35 links found – 31 valid links\u001b[0m\n",
      "\u001b[32m2024-08-13 12:33:42,433 - courlan.core - INFO - 35 links found – 31 valid links\u001b[0m\n",
      "\u001b[33m2024-08-13 12:33:44,938 - courlan.urlstore - WARNING - Discarding URL: /blogs/blog/studying\u001b[0m\n",
      "\u001b[33m2024-08-13 12:33:44,938 - courlan.urlstore - WARNING - Discarding URL: /blogs/blog/studying\u001b[0m\n",
      "\u001b[33m2024-08-13 12:33:44,938 - courlan.urlstore - WARNING - Discarding URL: /blogs/blog/studying\u001b[0m\n",
      "\u001b[33m2024-08-13 12:33:44,938 - courlan.urlstore - WARNING - Discarding URL: /blogs/blog/studying\u001b[0m\n",
      "\u001b[33m2024-08-13 12:33:44,938 - courlan.urlstore - WARNING - Discarding URL: /blogs/blog/studying\u001b[0m\n",
      "\u001b[33m2024-08-13 12:33:44,938 - courlan.urlstore - WARNING - Discarding URL: /blogs/blog/studying\u001b[0m\n",
      "\u001b[32m2024-08-13 12:33:44,950 - courlan.core - INFO - 38 links found – 33 valid links\u001b[0m\n",
      "\u001b[32m2024-08-13 12:33:44,950 - courlan.core - INFO - 38 links found – 33 valid links\u001b[0m\n",
      "\u001b[32m2024-08-13 12:33:44,950 - courlan.core - INFO - 38 links found – 33 valid links\u001b[0m\n",
      "\u001b[32m2024-08-13 12:33:44,950 - courlan.core - INFO - 38 links found – 33 valid links\u001b[0m\n",
      "\u001b[32m2024-08-13 12:33:44,950 - courlan.core - INFO - 38 links found – 33 valid links\u001b[0m\n",
      "\u001b[32m2024-08-13 12:33:44,950 - courlan.core - INFO - 38 links found – 33 valid links\u001b[0m\n",
      "\u001b[33m2024-08-13 12:33:47,221 - courlan.urlstore - WARNING - Discarding URL: /blogs/life-at-loop/our-marketing-vision-at-loop\u001b[0m\n",
      "\u001b[33m2024-08-13 12:33:47,221 - courlan.urlstore - WARNING - Discarding URL: /blogs/life-at-loop/our-marketing-vision-at-loop\u001b[0m\n",
      "\u001b[33m2024-08-13 12:33:47,221 - courlan.urlstore - WARNING - Discarding URL: /blogs/life-at-loop/our-marketing-vision-at-loop\u001b[0m\n",
      "\u001b[33m2024-08-13 12:33:47,221 - courlan.urlstore - WARNING - Discarding URL: /blogs/life-at-loop/our-marketing-vision-at-loop\u001b[0m\n",
      "\u001b[33m2024-08-13 12:33:47,221 - courlan.urlstore - WARNING - Discarding URL: /blogs/life-at-loop/our-marketing-vision-at-loop\u001b[0m\n",
      "\u001b[33m2024-08-13 12:33:47,221 - courlan.urlstore - WARNING - Discarding URL: /blogs/life-at-loop/our-marketing-vision-at-loop\u001b[0m\n",
      "\u001b[32m2024-08-13 12:33:47,231 - courlan.core - INFO - 30 links found – 26 valid links\u001b[0m\n",
      "\u001b[32m2024-08-13 12:33:47,231 - courlan.core - INFO - 30 links found – 26 valid links\u001b[0m\n",
      "\u001b[32m2024-08-13 12:33:47,231 - courlan.core - INFO - 30 links found – 26 valid links\u001b[0m\n",
      "\u001b[32m2024-08-13 12:33:47,231 - courlan.core - INFO - 30 links found – 26 valid links\u001b[0m\n",
      "\u001b[32m2024-08-13 12:33:47,231 - courlan.core - INFO - 30 links found – 26 valid links\u001b[0m\n",
      "\u001b[32m2024-08-13 12:33:47,231 - courlan.core - INFO - 30 links found – 26 valid links\u001b[0m\n",
      "\u001b[33m2024-08-13 12:33:49,568 - courlan.urlstore - WARNING - Discarding URL: /blogs/blog/hearing-protection-tips-for-musicians\u001b[0m\n",
      "\u001b[33m2024-08-13 12:33:49,568 - courlan.urlstore - WARNING - Discarding URL: /blogs/blog/hearing-protection-tips-for-musicians\u001b[0m\n",
      "\u001b[33m2024-08-13 12:33:49,568 - courlan.urlstore - WARNING - Discarding URL: /blogs/blog/hearing-protection-tips-for-musicians\u001b[0m\n",
      "\u001b[33m2024-08-13 12:33:49,568 - courlan.urlstore - WARNING - Discarding URL: /blogs/blog/hearing-protection-tips-for-musicians\u001b[0m\n",
      "\u001b[33m2024-08-13 12:33:49,568 - courlan.urlstore - WARNING - Discarding URL: /blogs/blog/hearing-protection-tips-for-musicians\u001b[0m\n",
      "\u001b[33m2024-08-13 12:33:49,568 - courlan.urlstore - WARNING - Discarding URL: /blogs/blog/hearing-protection-tips-for-musicians\u001b[0m\n",
      "\u001b[32m2024-08-13 12:33:49,577 - courlan.core - INFO - 35 links found – 31 valid links\u001b[0m\n",
      "\u001b[32m2024-08-13 12:33:49,577 - courlan.core - INFO - 35 links found – 31 valid links\u001b[0m\n",
      "\u001b[32m2024-08-13 12:33:49,577 - courlan.core - INFO - 35 links found – 31 valid links\u001b[0m\n",
      "\u001b[32m2024-08-13 12:33:49,577 - courlan.core - INFO - 35 links found – 31 valid links\u001b[0m\n",
      "\u001b[32m2024-08-13 12:33:49,577 - courlan.core - INFO - 35 links found – 31 valid links\u001b[0m\n",
      "\u001b[32m2024-08-13 12:33:49,577 - courlan.core - INFO - 35 links found – 31 valid links\u001b[0m\n",
      "\u001b[33m2024-08-13 12:33:51,813 - courlan.urlstore - WARNING - Discarding URL: /blogs/blog/noise-cancelling\u001b[0m\n",
      "\u001b[33m2024-08-13 12:33:51,813 - courlan.urlstore - WARNING - Discarding URL: /blogs/blog/noise-cancelling\u001b[0m\n",
      "\u001b[33m2024-08-13 12:33:51,813 - courlan.urlstore - WARNING - Discarding URL: /blogs/blog/noise-cancelling\u001b[0m\n",
      "\u001b[33m2024-08-13 12:33:51,813 - courlan.urlstore - WARNING - Discarding URL: /blogs/blog/noise-cancelling\u001b[0m\n",
      "\u001b[33m2024-08-13 12:33:51,813 - courlan.urlstore - WARNING - Discarding URL: /blogs/blog/noise-cancelling\u001b[0m\n",
      "\u001b[33m2024-08-13 12:33:51,813 - courlan.urlstore - WARNING - Discarding URL: /blogs/blog/noise-cancelling\u001b[0m\n",
      "\u001b[32m2024-08-13 12:33:51,825 - courlan.core - INFO - 35 links found – 29 valid links\u001b[0m\n",
      "\u001b[32m2024-08-13 12:33:51,825 - courlan.core - INFO - 35 links found – 29 valid links\u001b[0m\n",
      "\u001b[32m2024-08-13 12:33:51,825 - courlan.core - INFO - 35 links found – 29 valid links\u001b[0m\n",
      "\u001b[32m2024-08-13 12:33:51,825 - courlan.core - INFO - 35 links found – 29 valid links\u001b[0m\n",
      "\u001b[32m2024-08-13 12:33:51,825 - courlan.core - INFO - 35 links found – 29 valid links\u001b[0m\n",
      "\u001b[32m2024-08-13 12:33:51,825 - courlan.core - INFO - 35 links found – 29 valid links\u001b[0m\n",
      "\u001b[33m2024-08-13 12:33:54,061 - courlan.urlstore - WARNING - Discarding URL: /blogs/blog/what-is-tinnitus\u001b[0m\n",
      "\u001b[33m2024-08-13 12:33:54,061 - courlan.urlstore - WARNING - Discarding URL: /blogs/blog/what-is-tinnitus\u001b[0m\n",
      "\u001b[33m2024-08-13 12:33:54,061 - courlan.urlstore - WARNING - Discarding URL: /blogs/blog/what-is-tinnitus\u001b[0m\n",
      "\u001b[33m2024-08-13 12:33:54,061 - courlan.urlstore - WARNING - Discarding URL: /blogs/blog/what-is-tinnitus\u001b[0m\n",
      "\u001b[33m2024-08-13 12:33:54,061 - courlan.urlstore - WARNING - Discarding URL: /blogs/blog/what-is-tinnitus\u001b[0m\n",
      "\u001b[33m2024-08-13 12:33:54,061 - courlan.urlstore - WARNING - Discarding URL: /blogs/blog/what-is-tinnitus\u001b[0m\n",
      "\u001b[32m2024-08-13 12:33:54,070 - courlan.core - INFO - 39 links found – 31 valid links\u001b[0m\n",
      "\u001b[32m2024-08-13 12:33:54,070 - courlan.core - INFO - 39 links found – 31 valid links\u001b[0m\n",
      "\u001b[32m2024-08-13 12:33:54,070 - courlan.core - INFO - 39 links found – 31 valid links\u001b[0m\n",
      "\u001b[32m2024-08-13 12:33:54,070 - courlan.core - INFO - 39 links found – 31 valid links\u001b[0m\n",
      "\u001b[32m2024-08-13 12:33:54,070 - courlan.core - INFO - 39 links found – 31 valid links\u001b[0m\n",
      "\u001b[32m2024-08-13 12:33:54,070 - courlan.core - INFO - 39 links found – 31 valid links\u001b[0m\n",
      "\u001b[33m2024-08-13 12:33:56,199 - courlan.urlstore - WARNING - Discarding URL: /blogs/blog/introducing-loop-engage-kids\u001b[0m\n",
      "\u001b[33m2024-08-13 12:33:56,199 - courlan.urlstore - WARNING - Discarding URL: /blogs/blog/introducing-loop-engage-kids\u001b[0m\n",
      "\u001b[33m2024-08-13 12:33:56,199 - courlan.urlstore - WARNING - Discarding URL: /blogs/blog/introducing-loop-engage-kids\u001b[0m\n",
      "\u001b[33m2024-08-13 12:33:56,199 - courlan.urlstore - WARNING - Discarding URL: /blogs/blog/introducing-loop-engage-kids\u001b[0m\n",
      "\u001b[33m2024-08-13 12:33:56,199 - courlan.urlstore - WARNING - Discarding URL: /blogs/blog/introducing-loop-engage-kids\u001b[0m\n",
      "\u001b[33m2024-08-13 12:33:56,199 - courlan.urlstore - WARNING - Discarding URL: /blogs/blog/introducing-loop-engage-kids\u001b[0m\n",
      "\u001b[32m2024-08-13 12:33:56,208 - courlan.core - INFO - 30 links found – 27 valid links\u001b[0m\n",
      "\u001b[32m2024-08-13 12:33:56,208 - courlan.core - INFO - 30 links found – 27 valid links\u001b[0m\n",
      "\u001b[32m2024-08-13 12:33:56,208 - courlan.core - INFO - 30 links found – 27 valid links\u001b[0m\n",
      "\u001b[32m2024-08-13 12:33:56,208 - courlan.core - INFO - 30 links found – 27 valid links\u001b[0m\n",
      "\u001b[32m2024-08-13 12:33:56,208 - courlan.core - INFO - 30 links found – 27 valid links\u001b[0m\n",
      "\u001b[32m2024-08-13 12:33:56,208 - courlan.core - INFO - 30 links found – 27 valid links\u001b[0m\n",
      "\u001b[33m2024-08-13 12:33:58,690 - courlan.urlstore - WARNING - Discarding URL: /blogs/blog/tinnitus\u001b[0m\n",
      "\u001b[33m2024-08-13 12:33:58,690 - courlan.urlstore - WARNING - Discarding URL: /blogs/blog/tinnitus\u001b[0m\n",
      "\u001b[33m2024-08-13 12:33:58,690 - courlan.urlstore - WARNING - Discarding URL: /blogs/blog/tinnitus\u001b[0m\n",
      "\u001b[33m2024-08-13 12:33:58,690 - courlan.urlstore - WARNING - Discarding URL: /blogs/blog/tinnitus\u001b[0m\n",
      "\u001b[33m2024-08-13 12:33:58,690 - courlan.urlstore - WARNING - Discarding URL: /blogs/blog/tinnitus\u001b[0m\n",
      "\u001b[33m2024-08-13 12:33:58,690 - courlan.urlstore - WARNING - Discarding URL: /blogs/blog/tinnitus\u001b[0m\n",
      "\u001b[32m2024-08-13 12:33:58,702 - courlan.core - INFO - 39 links found – 36 valid links\u001b[0m\n",
      "\u001b[32m2024-08-13 12:33:58,702 - courlan.core - INFO - 39 links found – 36 valid links\u001b[0m\n",
      "\u001b[32m2024-08-13 12:33:58,702 - courlan.core - INFO - 39 links found – 36 valid links\u001b[0m\n",
      "\u001b[32m2024-08-13 12:33:58,702 - courlan.core - INFO - 39 links found – 36 valid links\u001b[0m\n",
      "\u001b[32m2024-08-13 12:33:58,702 - courlan.core - INFO - 39 links found – 36 valid links\u001b[0m\n",
      "\u001b[32m2024-08-13 12:33:58,702 - courlan.core - INFO - 39 links found – 36 valid links\u001b[0m\n",
      "\u001b[33m2024-08-13 12:34:01,080 - courlan.urlstore - WARNING - Discarding URL: /blogs/blog/guide-to-mens-rave-outfits\u001b[0m\n",
      "\u001b[33m2024-08-13 12:34:01,080 - courlan.urlstore - WARNING - Discarding URL: /blogs/blog/guide-to-mens-rave-outfits\u001b[0m\n",
      "\u001b[33m2024-08-13 12:34:01,080 - courlan.urlstore - WARNING - Discarding URL: /blogs/blog/guide-to-mens-rave-outfits\u001b[0m\n",
      "\u001b[33m2024-08-13 12:34:01,080 - courlan.urlstore - WARNING - Discarding URL: /blogs/blog/guide-to-mens-rave-outfits\u001b[0m\n",
      "\u001b[33m2024-08-13 12:34:01,080 - courlan.urlstore - WARNING - Discarding URL: /blogs/blog/guide-to-mens-rave-outfits\u001b[0m\n",
      "\u001b[33m2024-08-13 12:34:01,080 - courlan.urlstore - WARNING - Discarding URL: /blogs/blog/guide-to-mens-rave-outfits\u001b[0m\n",
      "\u001b[32m2024-08-13 12:34:01,090 - courlan.core - INFO - 34 links found – 29 valid links\u001b[0m\n",
      "\u001b[32m2024-08-13 12:34:01,090 - courlan.core - INFO - 34 links found – 29 valid links\u001b[0m\n",
      "\u001b[32m2024-08-13 12:34:01,090 - courlan.core - INFO - 34 links found – 29 valid links\u001b[0m\n",
      "\u001b[32m2024-08-13 12:34:01,090 - courlan.core - INFO - 34 links found – 29 valid links\u001b[0m\n",
      "\u001b[32m2024-08-13 12:34:01,090 - courlan.core - INFO - 34 links found – 29 valid links\u001b[0m\n",
      "\u001b[32m2024-08-13 12:34:01,090 - courlan.core - INFO - 34 links found – 29 valid links\u001b[0m\n",
      "\u001b[33m2024-08-13 12:34:03,415 - courlan.urlstore - WARNING - Discarding URL: /blogs/life-at-loop/tips-for-giving-tips\u001b[0m\n",
      "\u001b[33m2024-08-13 12:34:03,415 - courlan.urlstore - WARNING - Discarding URL: /blogs/life-at-loop/tips-for-giving-tips\u001b[0m\n",
      "\u001b[33m2024-08-13 12:34:03,415 - courlan.urlstore - WARNING - Discarding URL: /blogs/life-at-loop/tips-for-giving-tips\u001b[0m\n",
      "\u001b[33m2024-08-13 12:34:03,415 - courlan.urlstore - WARNING - Discarding URL: /blogs/life-at-loop/tips-for-giving-tips\u001b[0m\n",
      "\u001b[33m2024-08-13 12:34:03,415 - courlan.urlstore - WARNING - Discarding URL: /blogs/life-at-loop/tips-for-giving-tips\u001b[0m\n",
      "\u001b[33m2024-08-13 12:34:03,415 - courlan.urlstore - WARNING - Discarding URL: /blogs/life-at-loop/tips-for-giving-tips\u001b[0m\n",
      "\u001b[32m2024-08-13 12:34:03,425 - courlan.core - INFO - 44 links found – 39 valid links\u001b[0m\n",
      "\u001b[32m2024-08-13 12:34:03,425 - courlan.core - INFO - 44 links found – 39 valid links\u001b[0m\n",
      "\u001b[32m2024-08-13 12:34:03,425 - courlan.core - INFO - 44 links found – 39 valid links\u001b[0m\n",
      "\u001b[32m2024-08-13 12:34:03,425 - courlan.core - INFO - 44 links found – 39 valid links\u001b[0m\n",
      "\u001b[32m2024-08-13 12:34:03,425 - courlan.core - INFO - 44 links found – 39 valid links\u001b[0m\n",
      "\u001b[32m2024-08-13 12:34:03,425 - courlan.core - INFO - 44 links found – 39 valid links\u001b[0m\n",
      "\u001b[33m2024-08-13 12:34:06,069 - courlan.urlstore - WARNING - Discarding URL: /blogs/blog/sensory-overload\u001b[0m\n",
      "\u001b[33m2024-08-13 12:34:06,069 - courlan.urlstore - WARNING - Discarding URL: /blogs/blog/sensory-overload\u001b[0m\n",
      "\u001b[33m2024-08-13 12:34:06,069 - courlan.urlstore - WARNING - Discarding URL: /blogs/blog/sensory-overload\u001b[0m\n",
      "\u001b[33m2024-08-13 12:34:06,069 - courlan.urlstore - WARNING - Discarding URL: /blogs/blog/sensory-overload\u001b[0m\n",
      "\u001b[33m2024-08-13 12:34:06,069 - courlan.urlstore - WARNING - Discarding URL: /blogs/blog/sensory-overload\u001b[0m\n",
      "\u001b[33m2024-08-13 12:34:06,069 - courlan.urlstore - WARNING - Discarding URL: /blogs/blog/sensory-overload\u001b[0m\n",
      "\u001b[32m2024-08-13 12:34:06,081 - courlan.core - INFO - 35 links found – 31 valid links\u001b[0m\n",
      "\u001b[32m2024-08-13 12:34:06,081 - courlan.core - INFO - 35 links found – 31 valid links\u001b[0m\n",
      "\u001b[32m2024-08-13 12:34:06,081 - courlan.core - INFO - 35 links found – 31 valid links\u001b[0m\n",
      "\u001b[32m2024-08-13 12:34:06,081 - courlan.core - INFO - 35 links found – 31 valid links\u001b[0m\n",
      "\u001b[32m2024-08-13 12:34:06,081 - courlan.core - INFO - 35 links found – 31 valid links\u001b[0m\n",
      "\u001b[32m2024-08-13 12:34:06,081 - courlan.core - INFO - 35 links found – 31 valid links\u001b[0m\n",
      "\u001b[33m2024-08-13 12:34:08,317 - courlan.urlstore - WARNING - Discarding URL: /blogs/life-at-loop/looper-story-meet-tiemen\u001b[0m\n",
      "\u001b[33m2024-08-13 12:34:08,317 - courlan.urlstore - WARNING - Discarding URL: /blogs/life-at-loop/looper-story-meet-tiemen\u001b[0m\n",
      "\u001b[33m2024-08-13 12:34:08,317 - courlan.urlstore - WARNING - Discarding URL: /blogs/life-at-loop/looper-story-meet-tiemen\u001b[0m\n",
      "\u001b[33m2024-08-13 12:34:08,317 - courlan.urlstore - WARNING - Discarding URL: /blogs/life-at-loop/looper-story-meet-tiemen\u001b[0m\n",
      "\u001b[33m2024-08-13 12:34:08,317 - courlan.urlstore - WARNING - Discarding URL: /blogs/life-at-loop/looper-story-meet-tiemen\u001b[0m\n",
      "\u001b[33m2024-08-13 12:34:08,317 - courlan.urlstore - WARNING - Discarding URL: /blogs/life-at-loop/looper-story-meet-tiemen\u001b[0m\n",
      "\u001b[32m2024-08-13 12:34:08,326 - courlan.core - INFO - 29 links found – 26 valid links\u001b[0m\n",
      "\u001b[32m2024-08-13 12:34:08,326 - courlan.core - INFO - 29 links found – 26 valid links\u001b[0m\n",
      "\u001b[32m2024-08-13 12:34:08,326 - courlan.core - INFO - 29 links found – 26 valid links\u001b[0m\n",
      "\u001b[32m2024-08-13 12:34:08,326 - courlan.core - INFO - 29 links found – 26 valid links\u001b[0m\n",
      "\u001b[32m2024-08-13 12:34:08,326 - courlan.core - INFO - 29 links found – 26 valid links\u001b[0m\n",
      "\u001b[32m2024-08-13 12:34:08,326 - courlan.core - INFO - 29 links found – 26 valid links\u001b[0m\n",
      "\u001b[33m2024-08-13 12:34:10,710 - courlan.urlstore - WARNING - Discarding URL: /blogs/blog/how-to-identify-if-you-have-hearing-loss-caused-by-loud-noise\u001b[0m\n",
      "\u001b[33m2024-08-13 12:34:10,710 - courlan.urlstore - WARNING - Discarding URL: /blogs/blog/how-to-identify-if-you-have-hearing-loss-caused-by-loud-noise\u001b[0m\n",
      "\u001b[33m2024-08-13 12:34:10,710 - courlan.urlstore - WARNING - Discarding URL: /blogs/blog/how-to-identify-if-you-have-hearing-loss-caused-by-loud-noise\u001b[0m\n",
      "\u001b[33m2024-08-13 12:34:10,710 - courlan.urlstore - WARNING - Discarding URL: /blogs/blog/how-to-identify-if-you-have-hearing-loss-caused-by-loud-noise\u001b[0m\n",
      "\u001b[33m2024-08-13 12:34:10,710 - courlan.urlstore - WARNING - Discarding URL: /blogs/blog/how-to-identify-if-you-have-hearing-loss-caused-by-loud-noise\u001b[0m\n",
      "\u001b[33m2024-08-13 12:34:10,710 - courlan.urlstore - WARNING - Discarding URL: /blogs/blog/how-to-identify-if-you-have-hearing-loss-caused-by-loud-noise\u001b[0m\n",
      "\u001b[32m2024-08-13 12:34:10,720 - courlan.core - INFO - 36 links found – 32 valid links\u001b[0m\n",
      "\u001b[32m2024-08-13 12:34:10,720 - courlan.core - INFO - 36 links found – 32 valid links\u001b[0m\n",
      "\u001b[32m2024-08-13 12:34:10,720 - courlan.core - INFO - 36 links found – 32 valid links\u001b[0m\n",
      "\u001b[32m2024-08-13 12:34:10,720 - courlan.core - INFO - 36 links found – 32 valid links\u001b[0m\n",
      "\u001b[32m2024-08-13 12:34:10,720 - courlan.core - INFO - 36 links found – 32 valid links\u001b[0m\n",
      "\u001b[32m2024-08-13 12:34:10,720 - courlan.core - INFO - 36 links found – 32 valid links\u001b[0m\n",
      "\u001b[33m2024-08-13 12:34:12,909 - courlan.urlstore - WARNING - Discarding URL: /blogs/blog/sound-sensitivities-in-autistic-children-how-best-to-understand-and-support\u001b[0m\n",
      "\u001b[33m2024-08-13 12:34:12,909 - courlan.urlstore - WARNING - Discarding URL: /blogs/blog/sound-sensitivities-in-autistic-children-how-best-to-understand-and-support\u001b[0m\n",
      "\u001b[33m2024-08-13 12:34:12,909 - courlan.urlstore - WARNING - Discarding URL: /blogs/blog/sound-sensitivities-in-autistic-children-how-best-to-understand-and-support\u001b[0m\n",
      "\u001b[33m2024-08-13 12:34:12,909 - courlan.urlstore - WARNING - Discarding URL: /blogs/blog/sound-sensitivities-in-autistic-children-how-best-to-understand-and-support\u001b[0m\n",
      "\u001b[33m2024-08-13 12:34:12,909 - courlan.urlstore - WARNING - Discarding URL: /blogs/blog/sound-sensitivities-in-autistic-children-how-best-to-understand-and-support\u001b[0m\n",
      "\u001b[33m2024-08-13 12:34:12,909 - courlan.urlstore - WARNING - Discarding URL: /blogs/blog/sound-sensitivities-in-autistic-children-how-best-to-understand-and-support\u001b[0m\n",
      "\u001b[32m2024-08-13 12:34:12,918 - courlan.core - INFO - 32 links found – 28 valid links\u001b[0m\n",
      "\u001b[32m2024-08-13 12:34:12,918 - courlan.core - INFO - 32 links found – 28 valid links\u001b[0m\n",
      "\u001b[32m2024-08-13 12:34:12,918 - courlan.core - INFO - 32 links found – 28 valid links\u001b[0m\n",
      "\u001b[32m2024-08-13 12:34:12,918 - courlan.core - INFO - 32 links found – 28 valid links\u001b[0m\n",
      "\u001b[32m2024-08-13 12:34:12,918 - courlan.core - INFO - 32 links found – 28 valid links\u001b[0m\n",
      "\u001b[32m2024-08-13 12:34:12,918 - courlan.core - INFO - 32 links found – 28 valid links\u001b[0m\n",
      "\u001b[33m2024-08-13 12:34:15,370 - courlan.urlstore - WARNING - Discarding URL: /blogs/blog/what-is-white-noise\u001b[0m\n",
      "\u001b[33m2024-08-13 12:34:15,370 - courlan.urlstore - WARNING - Discarding URL: /blogs/blog/what-is-white-noise\u001b[0m\n",
      "\u001b[33m2024-08-13 12:34:15,370 - courlan.urlstore - WARNING - Discarding URL: /blogs/blog/what-is-white-noise\u001b[0m\n",
      "\u001b[33m2024-08-13 12:34:15,370 - courlan.urlstore - WARNING - Discarding URL: /blogs/blog/what-is-white-noise\u001b[0m\n",
      "\u001b[33m2024-08-13 12:34:15,370 - courlan.urlstore - WARNING - Discarding URL: /blogs/blog/what-is-white-noise\u001b[0m\n",
      "\u001b[33m2024-08-13 12:34:15,370 - courlan.urlstore - WARNING - Discarding URL: /blogs/blog/what-is-white-noise\u001b[0m\n",
      "\u001b[32m2024-08-13 12:34:15,380 - courlan.core - INFO - 46 links found – 28 valid links\u001b[0m\n",
      "\u001b[32m2024-08-13 12:34:15,380 - courlan.core - INFO - 46 links found – 28 valid links\u001b[0m\n",
      "\u001b[32m2024-08-13 12:34:15,380 - courlan.core - INFO - 46 links found – 28 valid links\u001b[0m\n",
      "\u001b[32m2024-08-13 12:34:15,380 - courlan.core - INFO - 46 links found – 28 valid links\u001b[0m\n",
      "\u001b[32m2024-08-13 12:34:15,380 - courlan.core - INFO - 46 links found – 28 valid links\u001b[0m\n",
      "\u001b[32m2024-08-13 12:34:15,380 - courlan.core - INFO - 46 links found – 28 valid links\u001b[0m\n",
      "\u001b[33m2024-08-13 12:34:17,511 - courlan.urlstore - WARNING - Discarding URL: /blogs/blog/concert-ready-tips-for-first-time-concertgoers\u001b[0m\n",
      "\u001b[33m2024-08-13 12:34:17,511 - courlan.urlstore - WARNING - Discarding URL: /blogs/blog/concert-ready-tips-for-first-time-concertgoers\u001b[0m\n",
      "\u001b[33m2024-08-13 12:34:17,511 - courlan.urlstore - WARNING - Discarding URL: /blogs/blog/concert-ready-tips-for-first-time-concertgoers\u001b[0m\n",
      "\u001b[33m2024-08-13 12:34:17,511 - courlan.urlstore - WARNING - Discarding URL: /blogs/blog/concert-ready-tips-for-first-time-concertgoers\u001b[0m\n",
      "\u001b[33m2024-08-13 12:34:17,511 - courlan.urlstore - WARNING - Discarding URL: /blogs/blog/concert-ready-tips-for-first-time-concertgoers\u001b[0m\n",
      "\u001b[33m2024-08-13 12:34:17,511 - courlan.urlstore - WARNING - Discarding URL: /blogs/blog/concert-ready-tips-for-first-time-concertgoers\u001b[0m\n",
      "\u001b[32m2024-08-13 12:34:17,521 - courlan.core - INFO - 33 links found – 28 valid links\u001b[0m\n",
      "\u001b[32m2024-08-13 12:34:17,521 - courlan.core - INFO - 33 links found – 28 valid links\u001b[0m\n",
      "\u001b[32m2024-08-13 12:34:17,521 - courlan.core - INFO - 33 links found – 28 valid links\u001b[0m\n",
      "\u001b[32m2024-08-13 12:34:17,521 - courlan.core - INFO - 33 links found – 28 valid links\u001b[0m\n",
      "\u001b[32m2024-08-13 12:34:17,521 - courlan.core - INFO - 33 links found – 28 valid links\u001b[0m\n",
      "\u001b[32m2024-08-13 12:34:17,521 - courlan.core - INFO - 33 links found – 28 valid links\u001b[0m\n",
      "\u001b[33m2024-08-13 12:34:19,623 - courlan.urlstore - WARNING - Discarding URL: /blogs/life-at-loop/8-employees-2-questions-part-one\u001b[0m\n",
      "\u001b[33m2024-08-13 12:34:19,623 - courlan.urlstore - WARNING - Discarding URL: /blogs/life-at-loop/8-employees-2-questions-part-one\u001b[0m\n",
      "\u001b[33m2024-08-13 12:34:19,623 - courlan.urlstore - WARNING - Discarding URL: /blogs/life-at-loop/8-employees-2-questions-part-one\u001b[0m\n",
      "\u001b[33m2024-08-13 12:34:19,623 - courlan.urlstore - WARNING - Discarding URL: /blogs/life-at-loop/8-employees-2-questions-part-one\u001b[0m\n",
      "\u001b[33m2024-08-13 12:34:19,623 - courlan.urlstore - WARNING - Discarding URL: /blogs/life-at-loop/8-employees-2-questions-part-one\u001b[0m\n",
      "\u001b[33m2024-08-13 12:34:19,623 - courlan.urlstore - WARNING - Discarding URL: /blogs/life-at-loop/8-employees-2-questions-part-one\u001b[0m\n",
      "\u001b[32m2024-08-13 12:34:19,632 - courlan.core - INFO - 29 links found – 26 valid links\u001b[0m\n",
      "\u001b[32m2024-08-13 12:34:19,632 - courlan.core - INFO - 29 links found – 26 valid links\u001b[0m\n",
      "\u001b[32m2024-08-13 12:34:19,632 - courlan.core - INFO - 29 links found – 26 valid links\u001b[0m\n",
      "\u001b[32m2024-08-13 12:34:19,632 - courlan.core - INFO - 29 links found – 26 valid links\u001b[0m\n",
      "\u001b[32m2024-08-13 12:34:19,632 - courlan.core - INFO - 29 links found – 26 valid links\u001b[0m\n",
      "\u001b[32m2024-08-13 12:34:19,632 - courlan.core - INFO - 29 links found – 26 valid links\u001b[0m\n",
      "\u001b[33m2024-08-13 12:34:21,785 - courlan.urlstore - WARNING - Discarding URL: /blogs/blog/earplugs-better-sleep\u001b[0m\n",
      "\u001b[33m2024-08-13 12:34:21,785 - courlan.urlstore - WARNING - Discarding URL: /blogs/blog/earplugs-better-sleep\u001b[0m\n",
      "\u001b[33m2024-08-13 12:34:21,785 - courlan.urlstore - WARNING - Discarding URL: /blogs/blog/earplugs-better-sleep\u001b[0m\n",
      "\u001b[33m2024-08-13 12:34:21,785 - courlan.urlstore - WARNING - Discarding URL: /blogs/blog/earplugs-better-sleep\u001b[0m\n",
      "\u001b[33m2024-08-13 12:34:21,785 - courlan.urlstore - WARNING - Discarding URL: /blogs/blog/earplugs-better-sleep\u001b[0m\n",
      "\u001b[33m2024-08-13 12:34:21,785 - courlan.urlstore - WARNING - Discarding URL: /blogs/blog/earplugs-better-sleep\u001b[0m\n",
      "\u001b[32m2024-08-13 12:34:21,795 - courlan.core - INFO - 34 links found – 29 valid links\u001b[0m\n",
      "\u001b[32m2024-08-13 12:34:21,795 - courlan.core - INFO - 34 links found – 29 valid links\u001b[0m\n",
      "\u001b[32m2024-08-13 12:34:21,795 - courlan.core - INFO - 34 links found – 29 valid links\u001b[0m\n",
      "\u001b[32m2024-08-13 12:34:21,795 - courlan.core - INFO - 34 links found – 29 valid links\u001b[0m\n",
      "\u001b[32m2024-08-13 12:34:21,795 - courlan.core - INFO - 34 links found – 29 valid links\u001b[0m\n",
      "\u001b[32m2024-08-13 12:34:21,795 - courlan.core - INFO - 34 links found – 29 valid links\u001b[0m\n",
      "\u001b[33m2024-08-13 12:34:24,205 - courlan.urlstore - WARNING - Discarding URL: /blogs/blog/how-to-cope-when-your-baby-won-t-stop-crying\u001b[0m\n",
      "\u001b[33m2024-08-13 12:34:24,205 - courlan.urlstore - WARNING - Discarding URL: /blogs/blog/how-to-cope-when-your-baby-won-t-stop-crying\u001b[0m\n",
      "\u001b[33m2024-08-13 12:34:24,205 - courlan.urlstore - WARNING - Discarding URL: /blogs/blog/how-to-cope-when-your-baby-won-t-stop-crying\u001b[0m\n",
      "\u001b[33m2024-08-13 12:34:24,205 - courlan.urlstore - WARNING - Discarding URL: /blogs/blog/how-to-cope-when-your-baby-won-t-stop-crying\u001b[0m\n",
      "\u001b[33m2024-08-13 12:34:24,205 - courlan.urlstore - WARNING - Discarding URL: /blogs/blog/how-to-cope-when-your-baby-won-t-stop-crying\u001b[0m\n",
      "\u001b[33m2024-08-13 12:34:24,205 - courlan.urlstore - WARNING - Discarding URL: /blogs/blog/how-to-cope-when-your-baby-won-t-stop-crying\u001b[0m\n",
      "\u001b[32m2024-08-13 12:34:24,216 - courlan.core - INFO - 43 links found – 31 valid links\u001b[0m\n",
      "\u001b[32m2024-08-13 12:34:24,216 - courlan.core - INFO - 43 links found – 31 valid links\u001b[0m\n",
      "\u001b[32m2024-08-13 12:34:24,216 - courlan.core - INFO - 43 links found – 31 valid links\u001b[0m\n",
      "\u001b[32m2024-08-13 12:34:24,216 - courlan.core - INFO - 43 links found – 31 valid links\u001b[0m\n",
      "\u001b[32m2024-08-13 12:34:24,216 - courlan.core - INFO - 43 links found – 31 valid links\u001b[0m\n",
      "\u001b[32m2024-08-13 12:34:24,216 - courlan.core - INFO - 43 links found – 31 valid links\u001b[0m\n",
      "\u001b[33m2024-08-13 12:34:26,353 - courlan.urlstore - WARNING - Discarding URL: /blogs/blog/how-to-stop-ringing-ears-after-a-concert\u001b[0m\n",
      "\u001b[33m2024-08-13 12:34:26,353 - courlan.urlstore - WARNING - Discarding URL: /blogs/blog/how-to-stop-ringing-ears-after-a-concert\u001b[0m\n",
      "\u001b[33m2024-08-13 12:34:26,353 - courlan.urlstore - WARNING - Discarding URL: /blogs/blog/how-to-stop-ringing-ears-after-a-concert\u001b[0m\n",
      "\u001b[33m2024-08-13 12:34:26,353 - courlan.urlstore - WARNING - Discarding URL: /blogs/blog/how-to-stop-ringing-ears-after-a-concert\u001b[0m\n",
      "\u001b[33m2024-08-13 12:34:26,353 - courlan.urlstore - WARNING - Discarding URL: /blogs/blog/how-to-stop-ringing-ears-after-a-concert\u001b[0m\n",
      "\u001b[33m2024-08-13 12:34:26,353 - courlan.urlstore - WARNING - Discarding URL: /blogs/blog/how-to-stop-ringing-ears-after-a-concert\u001b[0m\n",
      "\u001b[32m2024-08-13 12:34:26,363 - courlan.core - INFO - 47 links found – 35 valid links\u001b[0m\n",
      "\u001b[32m2024-08-13 12:34:26,363 - courlan.core - INFO - 47 links found – 35 valid links\u001b[0m\n",
      "\u001b[32m2024-08-13 12:34:26,363 - courlan.core - INFO - 47 links found – 35 valid links\u001b[0m\n",
      "\u001b[32m2024-08-13 12:34:26,363 - courlan.core - INFO - 47 links found – 35 valid links\u001b[0m\n",
      "\u001b[32m2024-08-13 12:34:26,363 - courlan.core - INFO - 47 links found – 35 valid links\u001b[0m\n",
      "\u001b[32m2024-08-13 12:34:26,363 - courlan.core - INFO - 47 links found – 35 valid links\u001b[0m\n",
      "\u001b[33m2024-08-13 12:34:28,660 - courlan.urlstore - WARNING - Discarding URL: /blogs/blog/expert-tips-how-to-stay-focused-while-studying\u001b[0m\n",
      "\u001b[33m2024-08-13 12:34:28,660 - courlan.urlstore - WARNING - Discarding URL: /blogs/blog/expert-tips-how-to-stay-focused-while-studying\u001b[0m\n",
      "\u001b[33m2024-08-13 12:34:28,660 - courlan.urlstore - WARNING - Discarding URL: /blogs/blog/expert-tips-how-to-stay-focused-while-studying\u001b[0m\n",
      "\u001b[33m2024-08-13 12:34:28,660 - courlan.urlstore - WARNING - Discarding URL: /blogs/blog/expert-tips-how-to-stay-focused-while-studying\u001b[0m\n",
      "\u001b[33m2024-08-13 12:34:28,660 - courlan.urlstore - WARNING - Discarding URL: /blogs/blog/expert-tips-how-to-stay-focused-while-studying\u001b[0m\n",
      "\u001b[33m2024-08-13 12:34:28,660 - courlan.urlstore - WARNING - Discarding URL: /blogs/blog/expert-tips-how-to-stay-focused-while-studying\u001b[0m\n",
      "\u001b[32m2024-08-13 12:34:28,668 - courlan.core - INFO - 44 links found – 31 valid links\u001b[0m\n",
      "\u001b[32m2024-08-13 12:34:28,668 - courlan.core - INFO - 44 links found – 31 valid links\u001b[0m\n",
      "\u001b[32m2024-08-13 12:34:28,668 - courlan.core - INFO - 44 links found – 31 valid links\u001b[0m\n",
      "\u001b[32m2024-08-13 12:34:28,668 - courlan.core - INFO - 44 links found – 31 valid links\u001b[0m\n",
      "\u001b[32m2024-08-13 12:34:28,668 - courlan.core - INFO - 44 links found – 31 valid links\u001b[0m\n",
      "\u001b[32m2024-08-13 12:34:28,668 - courlan.core - INFO - 44 links found – 31 valid links\u001b[0m\n",
      "\u001b[33m2024-08-13 12:34:31,145 - courlan.urlstore - WARNING - Discarding URL: /blogs/blog/how-to-handle-insomnia\u001b[0m\n",
      "\u001b[33m2024-08-13 12:34:31,145 - courlan.urlstore - WARNING - Discarding URL: /blogs/blog/how-to-handle-insomnia\u001b[0m\n",
      "\u001b[33m2024-08-13 12:34:31,145 - courlan.urlstore - WARNING - Discarding URL: /blogs/blog/how-to-handle-insomnia\u001b[0m\n",
      "\u001b[33m2024-08-13 12:34:31,145 - courlan.urlstore - WARNING - Discarding URL: /blogs/blog/how-to-handle-insomnia\u001b[0m\n",
      "\u001b[33m2024-08-13 12:34:31,145 - courlan.urlstore - WARNING - Discarding URL: /blogs/blog/how-to-handle-insomnia\u001b[0m\n",
      "\u001b[33m2024-08-13 12:34:31,145 - courlan.urlstore - WARNING - Discarding URL: /blogs/blog/how-to-handle-insomnia\u001b[0m\n",
      "\u001b[32m2024-08-13 12:34:31,158 - courlan.core - INFO - 60 links found – 54 valid links\u001b[0m\n",
      "\u001b[32m2024-08-13 12:34:31,158 - courlan.core - INFO - 60 links found – 54 valid links\u001b[0m\n",
      "\u001b[32m2024-08-13 12:34:31,158 - courlan.core - INFO - 60 links found – 54 valid links\u001b[0m\n",
      "\u001b[32m2024-08-13 12:34:31,158 - courlan.core - INFO - 60 links found – 54 valid links\u001b[0m\n",
      "\u001b[32m2024-08-13 12:34:31,158 - courlan.core - INFO - 60 links found – 54 valid links\u001b[0m\n",
      "\u001b[32m2024-08-13 12:34:31,158 - courlan.core - INFO - 60 links found – 54 valid links\u001b[0m\n",
      "\u001b[33m2024-08-13 12:34:33,422 - courlan.urlstore - WARNING - Discarding URL: /blogs/blog/how-to-sleep-comfortably-while-camping-at-a-festival\u001b[0m\n",
      "\u001b[33m2024-08-13 12:34:33,422 - courlan.urlstore - WARNING - Discarding URL: /blogs/blog/how-to-sleep-comfortably-while-camping-at-a-festival\u001b[0m\n",
      "\u001b[33m2024-08-13 12:34:33,422 - courlan.urlstore - WARNING - Discarding URL: /blogs/blog/how-to-sleep-comfortably-while-camping-at-a-festival\u001b[0m\n",
      "\u001b[33m2024-08-13 12:34:33,422 - courlan.urlstore - WARNING - Discarding URL: /blogs/blog/how-to-sleep-comfortably-while-camping-at-a-festival\u001b[0m\n",
      "\u001b[33m2024-08-13 12:34:33,422 - courlan.urlstore - WARNING - Discarding URL: /blogs/blog/how-to-sleep-comfortably-while-camping-at-a-festival\u001b[0m\n",
      "\u001b[33m2024-08-13 12:34:33,422 - courlan.urlstore - WARNING - Discarding URL: /blogs/blog/how-to-sleep-comfortably-while-camping-at-a-festival\u001b[0m\n",
      "\u001b[32m2024-08-13 12:34:33,433 - courlan.core - INFO - 33 links found – 28 valid links\u001b[0m\n",
      "\u001b[32m2024-08-13 12:34:33,433 - courlan.core - INFO - 33 links found – 28 valid links\u001b[0m\n",
      "\u001b[32m2024-08-13 12:34:33,433 - courlan.core - INFO - 33 links found – 28 valid links\u001b[0m\n",
      "\u001b[32m2024-08-13 12:34:33,433 - courlan.core - INFO - 33 links found – 28 valid links\u001b[0m\n",
      "\u001b[32m2024-08-13 12:34:33,433 - courlan.core - INFO - 33 links found – 28 valid links\u001b[0m\n",
      "\u001b[32m2024-08-13 12:34:33,433 - courlan.core - INFO - 33 links found – 28 valid links\u001b[0m\n",
      "\u001b[33m2024-08-13 12:34:36,172 - courlan.urlstore - WARNING - Discarding URL: /blogs/blog/how-to-overcome-phonophobia\u001b[0m\n",
      "\u001b[33m2024-08-13 12:34:36,172 - courlan.urlstore - WARNING - Discarding URL: /blogs/blog/how-to-overcome-phonophobia\u001b[0m\n",
      "\u001b[33m2024-08-13 12:34:36,172 - courlan.urlstore - WARNING - Discarding URL: /blogs/blog/how-to-overcome-phonophobia\u001b[0m\n",
      "\u001b[33m2024-08-13 12:34:36,172 - courlan.urlstore - WARNING - Discarding URL: /blogs/blog/how-to-overcome-phonophobia\u001b[0m\n",
      "\u001b[33m2024-08-13 12:34:36,172 - courlan.urlstore - WARNING - Discarding URL: /blogs/blog/how-to-overcome-phonophobia\u001b[0m\n",
      "\u001b[33m2024-08-13 12:34:36,172 - courlan.urlstore - WARNING - Discarding URL: /blogs/blog/how-to-overcome-phonophobia\u001b[0m\n",
      "\u001b[32m2024-08-13 12:34:36,183 - courlan.core - INFO - 31 links found – 28 valid links\u001b[0m\n",
      "\u001b[32m2024-08-13 12:34:36,183 - courlan.core - INFO - 31 links found – 28 valid links\u001b[0m\n",
      "\u001b[32m2024-08-13 12:34:36,183 - courlan.core - INFO - 31 links found – 28 valid links\u001b[0m\n",
      "\u001b[32m2024-08-13 12:34:36,183 - courlan.core - INFO - 31 links found – 28 valid links\u001b[0m\n",
      "\u001b[32m2024-08-13 12:34:36,183 - courlan.core - INFO - 31 links found – 28 valid links\u001b[0m\n",
      "\u001b[32m2024-08-13 12:34:36,183 - courlan.core - INFO - 31 links found – 28 valid links\u001b[0m\n",
      "\u001b[33m2024-08-13 12:34:38,198 - courlan.urlstore - WARNING - Discarding URL: /blogs/blog/loop-redefines-how-an-earplug-should-perform-and-look-e2-80-af\u001b[0m\n",
      "\u001b[33m2024-08-13 12:34:38,198 - courlan.urlstore - WARNING - Discarding URL: /blogs/blog/loop-redefines-how-an-earplug-should-perform-and-look-e2-80-af\u001b[0m\n",
      "\u001b[33m2024-08-13 12:34:38,198 - courlan.urlstore - WARNING - Discarding URL: /blogs/blog/loop-redefines-how-an-earplug-should-perform-and-look-e2-80-af\u001b[0m\n",
      "\u001b[33m2024-08-13 12:34:38,198 - courlan.urlstore - WARNING - Discarding URL: /blogs/blog/loop-redefines-how-an-earplug-should-perform-and-look-e2-80-af\u001b[0m\n",
      "\u001b[33m2024-08-13 12:34:38,198 - courlan.urlstore - WARNING - Discarding URL: /blogs/blog/loop-redefines-how-an-earplug-should-perform-and-look-e2-80-af\u001b[0m\n",
      "\u001b[33m2024-08-13 12:34:38,198 - courlan.urlstore - WARNING - Discarding URL: /blogs/blog/loop-redefines-how-an-earplug-should-perform-and-look-e2-80-af\u001b[0m\n",
      "\u001b[32m2024-08-13 12:34:38,207 - courlan.core - INFO - 36 links found – 28 valid links\u001b[0m\n",
      "\u001b[32m2024-08-13 12:34:38,207 - courlan.core - INFO - 36 links found – 28 valid links\u001b[0m\n",
      "\u001b[32m2024-08-13 12:34:38,207 - courlan.core - INFO - 36 links found – 28 valid links\u001b[0m\n",
      "\u001b[32m2024-08-13 12:34:38,207 - courlan.core - INFO - 36 links found – 28 valid links\u001b[0m\n",
      "\u001b[32m2024-08-13 12:34:38,207 - courlan.core - INFO - 36 links found – 28 valid links\u001b[0m\n",
      "\u001b[32m2024-08-13 12:34:38,207 - courlan.core - INFO - 36 links found – 28 valid links\u001b[0m\n",
      "\u001b[33m2024-08-13 12:34:40,312 - courlan.urlstore - WARNING - Discarding URL: /blogs/blog/the-ultimate-guide-to-raves\u001b[0m\n",
      "\u001b[33m2024-08-13 12:34:40,312 - courlan.urlstore - WARNING - Discarding URL: /blogs/blog/the-ultimate-guide-to-raves\u001b[0m\n",
      "\u001b[33m2024-08-13 12:34:40,312 - courlan.urlstore - WARNING - Discarding URL: /blogs/blog/the-ultimate-guide-to-raves\u001b[0m\n",
      "\u001b[33m2024-08-13 12:34:40,312 - courlan.urlstore - WARNING - Discarding URL: /blogs/blog/the-ultimate-guide-to-raves\u001b[0m\n",
      "\u001b[33m2024-08-13 12:34:40,312 - courlan.urlstore - WARNING - Discarding URL: /blogs/blog/the-ultimate-guide-to-raves\u001b[0m\n",
      "\u001b[33m2024-08-13 12:34:40,312 - courlan.urlstore - WARNING - Discarding URL: /blogs/blog/the-ultimate-guide-to-raves\u001b[0m\n",
      "\u001b[32m2024-08-13 12:34:40,329 - courlan.core - INFO - 34 links found – 28 valid links\u001b[0m\n",
      "\u001b[32m2024-08-13 12:34:40,329 - courlan.core - INFO - 34 links found – 28 valid links\u001b[0m\n",
      "\u001b[32m2024-08-13 12:34:40,329 - courlan.core - INFO - 34 links found – 28 valid links\u001b[0m\n",
      "\u001b[32m2024-08-13 12:34:40,329 - courlan.core - INFO - 34 links found – 28 valid links\u001b[0m\n",
      "\u001b[32m2024-08-13 12:34:40,329 - courlan.core - INFO - 34 links found – 28 valid links\u001b[0m\n",
      "\u001b[32m2024-08-13 12:34:40,329 - courlan.core - INFO - 34 links found – 28 valid links\u001b[0m\n",
      "\u001b[33m2024-08-13 12:34:42,764 - courlan.urlstore - WARNING - Discarding URL: /blogs/blog/self-love-february\u001b[0m\n",
      "\u001b[33m2024-08-13 12:34:42,764 - courlan.urlstore - WARNING - Discarding URL: /blogs/blog/self-love-february\u001b[0m\n",
      "\u001b[33m2024-08-13 12:34:42,764 - courlan.urlstore - WARNING - Discarding URL: /blogs/blog/self-love-february\u001b[0m\n",
      "\u001b[33m2024-08-13 12:34:42,764 - courlan.urlstore - WARNING - Discarding URL: /blogs/blog/self-love-february\u001b[0m\n",
      "\u001b[33m2024-08-13 12:34:42,764 - courlan.urlstore - WARNING - Discarding URL: /blogs/blog/self-love-february\u001b[0m\n",
      "\u001b[33m2024-08-13 12:34:42,764 - courlan.urlstore - WARNING - Discarding URL: /blogs/blog/self-love-february\u001b[0m\n",
      "\u001b[32m2024-08-13 12:34:42,774 - courlan.core - INFO - 36 links found – 28 valid links\u001b[0m\n",
      "\u001b[32m2024-08-13 12:34:42,774 - courlan.core - INFO - 36 links found – 28 valid links\u001b[0m\n",
      "\u001b[32m2024-08-13 12:34:42,774 - courlan.core - INFO - 36 links found – 28 valid links\u001b[0m\n",
      "\u001b[32m2024-08-13 12:34:42,774 - courlan.core - INFO - 36 links found – 28 valid links\u001b[0m\n",
      "\u001b[32m2024-08-13 12:34:42,774 - courlan.core - INFO - 36 links found – 28 valid links\u001b[0m\n",
      "\u001b[32m2024-08-13 12:34:42,774 - courlan.core - INFO - 36 links found – 28 valid links\u001b[0m\n",
      "\u001b[33m2024-08-13 12:34:45,114 - courlan.urlstore - WARNING - Discarding URL: /blogs/blog/elevate-your-comfort-with-quiet-2\u001b[0m\n",
      "\u001b[33m2024-08-13 12:34:45,114 - courlan.urlstore - WARNING - Discarding URL: /blogs/blog/elevate-your-comfort-with-quiet-2\u001b[0m\n",
      "\u001b[33m2024-08-13 12:34:45,114 - courlan.urlstore - WARNING - Discarding URL: /blogs/blog/elevate-your-comfort-with-quiet-2\u001b[0m\n",
      "\u001b[33m2024-08-13 12:34:45,114 - courlan.urlstore - WARNING - Discarding URL: /blogs/blog/elevate-your-comfort-with-quiet-2\u001b[0m\n",
      "\u001b[33m2024-08-13 12:34:45,114 - courlan.urlstore - WARNING - Discarding URL: /blogs/blog/elevate-your-comfort-with-quiet-2\u001b[0m\n",
      "\u001b[33m2024-08-13 12:34:45,114 - courlan.urlstore - WARNING - Discarding URL: /blogs/blog/elevate-your-comfort-with-quiet-2\u001b[0m\n",
      "\u001b[32m2024-08-13 12:34:45,125 - courlan.core - INFO - 32 links found – 28 valid links\u001b[0m\n",
      "\u001b[32m2024-08-13 12:34:45,125 - courlan.core - INFO - 32 links found – 28 valid links\u001b[0m\n",
      "\u001b[32m2024-08-13 12:34:45,125 - courlan.core - INFO - 32 links found – 28 valid links\u001b[0m\n",
      "\u001b[32m2024-08-13 12:34:45,125 - courlan.core - INFO - 32 links found – 28 valid links\u001b[0m\n",
      "\u001b[32m2024-08-13 12:34:45,125 - courlan.core - INFO - 32 links found – 28 valid links\u001b[0m\n",
      "\u001b[32m2024-08-13 12:34:45,125 - courlan.core - INFO - 32 links found – 28 valid links\u001b[0m\n",
      "\u001b[33m2024-08-13 12:34:47,332 - courlan.urlstore - WARNING - Discarding URL: /blogs/blog/how-to-protect-your-ears-when-flying\u001b[0m\n",
      "\u001b[33m2024-08-13 12:34:47,332 - courlan.urlstore - WARNING - Discarding URL: /blogs/blog/how-to-protect-your-ears-when-flying\u001b[0m\n",
      "\u001b[33m2024-08-13 12:34:47,332 - courlan.urlstore - WARNING - Discarding URL: /blogs/blog/how-to-protect-your-ears-when-flying\u001b[0m\n",
      "\u001b[33m2024-08-13 12:34:47,332 - courlan.urlstore - WARNING - Discarding URL: /blogs/blog/how-to-protect-your-ears-when-flying\u001b[0m\n",
      "\u001b[33m2024-08-13 12:34:47,332 - courlan.urlstore - WARNING - Discarding URL: /blogs/blog/how-to-protect-your-ears-when-flying\u001b[0m\n",
      "\u001b[33m2024-08-13 12:34:47,332 - courlan.urlstore - WARNING - Discarding URL: /blogs/blog/how-to-protect-your-ears-when-flying\u001b[0m\n",
      "\u001b[32m2024-08-13 12:34:47,341 - courlan.core - INFO - 31 links found – 28 valid links\u001b[0m\n",
      "\u001b[32m2024-08-13 12:34:47,341 - courlan.core - INFO - 31 links found – 28 valid links\u001b[0m\n",
      "\u001b[32m2024-08-13 12:34:47,341 - courlan.core - INFO - 31 links found – 28 valid links\u001b[0m\n",
      "\u001b[32m2024-08-13 12:34:47,341 - courlan.core - INFO - 31 links found – 28 valid links\u001b[0m\n",
      "\u001b[32m2024-08-13 12:34:47,341 - courlan.core - INFO - 31 links found – 28 valid links\u001b[0m\n",
      "\u001b[32m2024-08-13 12:34:47,341 - courlan.core - INFO - 31 links found – 28 valid links\u001b[0m\n",
      "\u001b[33m2024-08-13 12:34:50,053 - courlan.urlstore - WARNING - Discarding URL: /blogs/blog/hearing-loss-prevention-tips\u001b[0m\n",
      "\u001b[33m2024-08-13 12:34:50,053 - courlan.urlstore - WARNING - Discarding URL: /blogs/blog/hearing-loss-prevention-tips\u001b[0m\n",
      "\u001b[33m2024-08-13 12:34:50,053 - courlan.urlstore - WARNING - Discarding URL: /blogs/blog/hearing-loss-prevention-tips\u001b[0m\n",
      "\u001b[33m2024-08-13 12:34:50,053 - courlan.urlstore - WARNING - Discarding URL: /blogs/blog/hearing-loss-prevention-tips\u001b[0m\n",
      "\u001b[33m2024-08-13 12:34:50,053 - courlan.urlstore - WARNING - Discarding URL: /blogs/blog/hearing-loss-prevention-tips\u001b[0m\n",
      "\u001b[33m2024-08-13 12:34:50,053 - courlan.urlstore - WARNING - Discarding URL: /blogs/blog/hearing-loss-prevention-tips\u001b[0m\n",
      "\u001b[32m2024-08-13 12:34:50,065 - courlan.core - INFO - 61 links found – 56 valid links\u001b[0m\n",
      "\u001b[32m2024-08-13 12:34:50,065 - courlan.core - INFO - 61 links found – 56 valid links\u001b[0m\n",
      "\u001b[32m2024-08-13 12:34:50,065 - courlan.core - INFO - 61 links found – 56 valid links\u001b[0m\n",
      "\u001b[32m2024-08-13 12:34:50,065 - courlan.core - INFO - 61 links found – 56 valid links\u001b[0m\n",
      "\u001b[32m2024-08-13 12:34:50,065 - courlan.core - INFO - 61 links found – 56 valid links\u001b[0m\n",
      "\u001b[32m2024-08-13 12:34:50,065 - courlan.core - INFO - 61 links found – 56 valid links\u001b[0m\n",
      "\u001b[33m2024-08-13 12:34:52,450 - courlan.urlstore - WARNING - Discarding URL: /blogs/blog/something-for-everyone-at-the-table\u001b[0m\n",
      "\u001b[33m2024-08-13 12:34:52,450 - courlan.urlstore - WARNING - Discarding URL: /blogs/blog/something-for-everyone-at-the-table\u001b[0m\n",
      "\u001b[33m2024-08-13 12:34:52,450 - courlan.urlstore - WARNING - Discarding URL: /blogs/blog/something-for-everyone-at-the-table\u001b[0m\n",
      "\u001b[33m2024-08-13 12:34:52,450 - courlan.urlstore - WARNING - Discarding URL: /blogs/blog/something-for-everyone-at-the-table\u001b[0m\n",
      "\u001b[33m2024-08-13 12:34:52,450 - courlan.urlstore - WARNING - Discarding URL: /blogs/blog/something-for-everyone-at-the-table\u001b[0m\n",
      "\u001b[33m2024-08-13 12:34:52,450 - courlan.urlstore - WARNING - Discarding URL: /blogs/blog/something-for-everyone-at-the-table\u001b[0m\n",
      "\u001b[32m2024-08-13 12:34:52,460 - courlan.core - INFO - 37 links found – 29 valid links\u001b[0m\n",
      "\u001b[32m2024-08-13 12:34:52,460 - courlan.core - INFO - 37 links found – 29 valid links\u001b[0m\n",
      "\u001b[32m2024-08-13 12:34:52,460 - courlan.core - INFO - 37 links found – 29 valid links\u001b[0m\n",
      "\u001b[32m2024-08-13 12:34:52,460 - courlan.core - INFO - 37 links found – 29 valid links\u001b[0m\n",
      "\u001b[32m2024-08-13 12:34:52,460 - courlan.core - INFO - 37 links found – 29 valid links\u001b[0m\n",
      "\u001b[32m2024-08-13 12:34:52,460 - courlan.core - INFO - 37 links found – 29 valid links\u001b[0m\n",
      "\u001b[33m2024-08-13 12:34:54,765 - courlan.urlstore - WARNING - Discarding URL: /blogs/life-at-loop/5-years-of-loop\u001b[0m\n",
      "\u001b[33m2024-08-13 12:34:54,765 - courlan.urlstore - WARNING - Discarding URL: /blogs/life-at-loop/5-years-of-loop\u001b[0m\n",
      "\u001b[33m2024-08-13 12:34:54,765 - courlan.urlstore - WARNING - Discarding URL: /blogs/life-at-loop/5-years-of-loop\u001b[0m\n",
      "\u001b[33m2024-08-13 12:34:54,765 - courlan.urlstore - WARNING - Discarding URL: /blogs/life-at-loop/5-years-of-loop\u001b[0m\n",
      "\u001b[33m2024-08-13 12:34:54,765 - courlan.urlstore - WARNING - Discarding URL: /blogs/life-at-loop/5-years-of-loop\u001b[0m\n",
      "\u001b[33m2024-08-13 12:34:54,765 - courlan.urlstore - WARNING - Discarding URL: /blogs/life-at-loop/5-years-of-loop\u001b[0m\n",
      "\u001b[32m2024-08-13 12:34:54,775 - courlan.core - INFO - 29 links found – 25 valid links\u001b[0m\n",
      "\u001b[32m2024-08-13 12:34:54,775 - courlan.core - INFO - 29 links found – 25 valid links\u001b[0m\n",
      "\u001b[32m2024-08-13 12:34:54,775 - courlan.core - INFO - 29 links found – 25 valid links\u001b[0m\n",
      "\u001b[32m2024-08-13 12:34:54,775 - courlan.core - INFO - 29 links found – 25 valid links\u001b[0m\n",
      "\u001b[32m2024-08-13 12:34:54,775 - courlan.core - INFO - 29 links found – 25 valid links\u001b[0m\n",
      "\u001b[32m2024-08-13 12:34:54,775 - courlan.core - INFO - 29 links found – 25 valid links\u001b[0m\n",
      "\u001b[33m2024-08-13 12:34:56,897 - courlan.urlstore - WARNING - Discarding URL: /blogs/life-at-loop/walk-talk-with-michiel\u001b[0m\n",
      "\u001b[33m2024-08-13 12:34:56,897 - courlan.urlstore - WARNING - Discarding URL: /blogs/life-at-loop/walk-talk-with-michiel\u001b[0m\n",
      "\u001b[33m2024-08-13 12:34:56,897 - courlan.urlstore - WARNING - Discarding URL: /blogs/life-at-loop/walk-talk-with-michiel\u001b[0m\n",
      "\u001b[33m2024-08-13 12:34:56,897 - courlan.urlstore - WARNING - Discarding URL: /blogs/life-at-loop/walk-talk-with-michiel\u001b[0m\n",
      "\u001b[33m2024-08-13 12:34:56,897 - courlan.urlstore - WARNING - Discarding URL: /blogs/life-at-loop/walk-talk-with-michiel\u001b[0m\n",
      "\u001b[33m2024-08-13 12:34:56,897 - courlan.urlstore - WARNING - Discarding URL: /blogs/life-at-loop/walk-talk-with-michiel\u001b[0m\n",
      "\u001b[32m2024-08-13 12:34:56,907 - courlan.core - INFO - 29 links found – 26 valid links\u001b[0m\n",
      "\u001b[32m2024-08-13 12:34:56,907 - courlan.core - INFO - 29 links found – 26 valid links\u001b[0m\n",
      "\u001b[32m2024-08-13 12:34:56,907 - courlan.core - INFO - 29 links found – 26 valid links\u001b[0m\n",
      "\u001b[32m2024-08-13 12:34:56,907 - courlan.core - INFO - 29 links found – 26 valid links\u001b[0m\n",
      "\u001b[32m2024-08-13 12:34:56,907 - courlan.core - INFO - 29 links found – 26 valid links\u001b[0m\n",
      "\u001b[32m2024-08-13 12:34:56,907 - courlan.core - INFO - 29 links found – 26 valid links\u001b[0m\n",
      "\u001b[33m2024-08-13 12:35:00,411 - courlan.urlstore - WARNING - Discarding URL: /blogs/blog/the-top-distractions-for-children\u001b[0m\n",
      "\u001b[33m2024-08-13 12:35:00,411 - courlan.urlstore - WARNING - Discarding URL: /blogs/blog/the-top-distractions-for-children\u001b[0m\n",
      "\u001b[33m2024-08-13 12:35:00,411 - courlan.urlstore - WARNING - Discarding URL: /blogs/blog/the-top-distractions-for-children\u001b[0m\n",
      "\u001b[33m2024-08-13 12:35:00,411 - courlan.urlstore - WARNING - Discarding URL: /blogs/blog/the-top-distractions-for-children\u001b[0m\n",
      "\u001b[33m2024-08-13 12:35:00,411 - courlan.urlstore - WARNING - Discarding URL: /blogs/blog/the-top-distractions-for-children\u001b[0m\n",
      "\u001b[33m2024-08-13 12:35:00,411 - courlan.urlstore - WARNING - Discarding URL: /blogs/blog/the-top-distractions-for-children\u001b[0m\n",
      "\u001b[32m2024-08-13 12:35:00,422 - courlan.core - INFO - 35 links found – 29 valid links\u001b[0m\n",
      "\u001b[32m2024-08-13 12:35:00,422 - courlan.core - INFO - 35 links found – 29 valid links\u001b[0m\n",
      "\u001b[32m2024-08-13 12:35:00,422 - courlan.core - INFO - 35 links found – 29 valid links\u001b[0m\n",
      "\u001b[32m2024-08-13 12:35:00,422 - courlan.core - INFO - 35 links found – 29 valid links\u001b[0m\n",
      "\u001b[32m2024-08-13 12:35:00,422 - courlan.core - INFO - 35 links found – 29 valid links\u001b[0m\n",
      "\u001b[32m2024-08-13 12:35:00,422 - courlan.core - INFO - 35 links found – 29 valid links\u001b[0m\n",
      "\u001b[33m2024-08-13 12:35:03,000 - courlan.urlstore - WARNING - Discarding URL: /blogs/blog/practical-work-life-balance-tips-for-a-healthier-and-happier-you\u001b[0m\n",
      "\u001b[33m2024-08-13 12:35:03,000 - courlan.urlstore - WARNING - Discarding URL: /blogs/blog/practical-work-life-balance-tips-for-a-healthier-and-happier-you\u001b[0m\n",
      "\u001b[33m2024-08-13 12:35:03,000 - courlan.urlstore - WARNING - Discarding URL: /blogs/blog/practical-work-life-balance-tips-for-a-healthier-and-happier-you\u001b[0m\n",
      "\u001b[33m2024-08-13 12:35:03,000 - courlan.urlstore - WARNING - Discarding URL: /blogs/blog/practical-work-life-balance-tips-for-a-healthier-and-happier-you\u001b[0m\n",
      "\u001b[33m2024-08-13 12:35:03,000 - courlan.urlstore - WARNING - Discarding URL: /blogs/blog/practical-work-life-balance-tips-for-a-healthier-and-happier-you\u001b[0m\n",
      "\u001b[33m2024-08-13 12:35:03,000 - courlan.urlstore - WARNING - Discarding URL: /blogs/blog/practical-work-life-balance-tips-for-a-healthier-and-happier-you\u001b[0m\n",
      "\u001b[32m2024-08-13 12:35:03,010 - courlan.core - INFO - 45 links found – 30 valid links\u001b[0m\n",
      "\u001b[32m2024-08-13 12:35:03,010 - courlan.core - INFO - 45 links found – 30 valid links\u001b[0m\n",
      "\u001b[32m2024-08-13 12:35:03,010 - courlan.core - INFO - 45 links found – 30 valid links\u001b[0m\n",
      "\u001b[32m2024-08-13 12:35:03,010 - courlan.core - INFO - 45 links found – 30 valid links\u001b[0m\n",
      "\u001b[32m2024-08-13 12:35:03,010 - courlan.core - INFO - 45 links found – 30 valid links\u001b[0m\n",
      "\u001b[32m2024-08-13 12:35:03,010 - courlan.core - INFO - 45 links found – 30 valid links\u001b[0m\n",
      "\u001b[33m2024-08-13 12:35:05,432 - courlan.urlstore - WARNING - Discarding URL: /blogs/blog/baby-crying-anxiety\u001b[0m\n",
      "\u001b[33m2024-08-13 12:35:05,432 - courlan.urlstore - WARNING - Discarding URL: /blogs/blog/baby-crying-anxiety\u001b[0m\n",
      "\u001b[33m2024-08-13 12:35:05,432 - courlan.urlstore - WARNING - Discarding URL: /blogs/blog/baby-crying-anxiety\u001b[0m\n",
      "\u001b[33m2024-08-13 12:35:05,432 - courlan.urlstore - WARNING - Discarding URL: /blogs/blog/baby-crying-anxiety\u001b[0m\n",
      "\u001b[33m2024-08-13 12:35:05,432 - courlan.urlstore - WARNING - Discarding URL: /blogs/blog/baby-crying-anxiety\u001b[0m\n",
      "\u001b[33m2024-08-13 12:35:05,432 - courlan.urlstore - WARNING - Discarding URL: /blogs/blog/baby-crying-anxiety\u001b[0m\n",
      "\u001b[32m2024-08-13 12:35:05,442 - courlan.core - INFO - 37 links found – 28 valid links\u001b[0m\n",
      "\u001b[32m2024-08-13 12:35:05,442 - courlan.core - INFO - 37 links found – 28 valid links\u001b[0m\n",
      "\u001b[32m2024-08-13 12:35:05,442 - courlan.core - INFO - 37 links found – 28 valid links\u001b[0m\n",
      "\u001b[32m2024-08-13 12:35:05,442 - courlan.core - INFO - 37 links found – 28 valid links\u001b[0m\n",
      "\u001b[32m2024-08-13 12:35:05,442 - courlan.core - INFO - 37 links found – 28 valid links\u001b[0m\n",
      "\u001b[32m2024-08-13 12:35:05,442 - courlan.core - INFO - 37 links found – 28 valid links\u001b[0m\n",
      "\u001b[33m2024-08-13 12:35:07,751 - courlan.urlstore - WARNING - Discarding URL: /blogs/blog/7-best-earplugs-for-music\u001b[0m\n",
      "\u001b[33m2024-08-13 12:35:07,751 - courlan.urlstore - WARNING - Discarding URL: /blogs/blog/7-best-earplugs-for-music\u001b[0m\n",
      "\u001b[33m2024-08-13 12:35:07,751 - courlan.urlstore - WARNING - Discarding URL: /blogs/blog/7-best-earplugs-for-music\u001b[0m\n",
      "\u001b[33m2024-08-13 12:35:07,751 - courlan.urlstore - WARNING - Discarding URL: /blogs/blog/7-best-earplugs-for-music\u001b[0m\n",
      "\u001b[33m2024-08-13 12:35:07,751 - courlan.urlstore - WARNING - Discarding URL: /blogs/blog/7-best-earplugs-for-music\u001b[0m\n",
      "\u001b[33m2024-08-13 12:35:07,751 - courlan.urlstore - WARNING - Discarding URL: /blogs/blog/7-best-earplugs-for-music\u001b[0m\n",
      "\u001b[32m2024-08-13 12:35:07,760 - courlan.core - INFO - 36 links found – 29 valid links\u001b[0m\n",
      "\u001b[32m2024-08-13 12:35:07,760 - courlan.core - INFO - 36 links found – 29 valid links\u001b[0m\n",
      "\u001b[32m2024-08-13 12:35:07,760 - courlan.core - INFO - 36 links found – 29 valid links\u001b[0m\n",
      "\u001b[32m2024-08-13 12:35:07,760 - courlan.core - INFO - 36 links found – 29 valid links\u001b[0m\n",
      "\u001b[32m2024-08-13 12:35:07,760 - courlan.core - INFO - 36 links found – 29 valid links\u001b[0m\n",
      "\u001b[32m2024-08-13 12:35:07,760 - courlan.core - INFO - 36 links found – 29 valid links\u001b[0m\n",
      "\u001b[33m2024-08-13 12:35:10,154 - courlan.urlstore - WARNING - Discarding URL: /blogs/blog/how-caffeine-may-be-sabotaging-your-sleep-the-connection-to-insomnia\u001b[0m\n",
      "\u001b[33m2024-08-13 12:35:10,154 - courlan.urlstore - WARNING - Discarding URL: /blogs/blog/how-caffeine-may-be-sabotaging-your-sleep-the-connection-to-insomnia\u001b[0m\n",
      "\u001b[33m2024-08-13 12:35:10,154 - courlan.urlstore - WARNING - Discarding URL: /blogs/blog/how-caffeine-may-be-sabotaging-your-sleep-the-connection-to-insomnia\u001b[0m\n",
      "\u001b[33m2024-08-13 12:35:10,154 - courlan.urlstore - WARNING - Discarding URL: /blogs/blog/how-caffeine-may-be-sabotaging-your-sleep-the-connection-to-insomnia\u001b[0m\n",
      "\u001b[33m2024-08-13 12:35:10,154 - courlan.urlstore - WARNING - Discarding URL: /blogs/blog/how-caffeine-may-be-sabotaging-your-sleep-the-connection-to-insomnia\u001b[0m\n",
      "\u001b[33m2024-08-13 12:35:10,154 - courlan.urlstore - WARNING - Discarding URL: /blogs/blog/how-caffeine-may-be-sabotaging-your-sleep-the-connection-to-insomnia\u001b[0m\n",
      "\u001b[32m2024-08-13 12:35:10,165 - courlan.core - INFO - 38 links found – 28 valid links\u001b[0m\n",
      "\u001b[32m2024-08-13 12:35:10,165 - courlan.core - INFO - 38 links found – 28 valid links\u001b[0m\n",
      "\u001b[32m2024-08-13 12:35:10,165 - courlan.core - INFO - 38 links found – 28 valid links\u001b[0m\n",
      "\u001b[32m2024-08-13 12:35:10,165 - courlan.core - INFO - 38 links found – 28 valid links\u001b[0m\n",
      "\u001b[32m2024-08-13 12:35:10,165 - courlan.core - INFO - 38 links found – 28 valid links\u001b[0m\n",
      "\u001b[32m2024-08-13 12:35:10,165 - courlan.core - INFO - 38 links found – 28 valid links\u001b[0m\n",
      "\u001b[33m2024-08-13 12:35:12,287 - courlan.urlstore - WARNING - Discarding URL: /blogs/blog/how-to-get-into-berlin-clubs\u001b[0m\n",
      "\u001b[33m2024-08-13 12:35:12,287 - courlan.urlstore - WARNING - Discarding URL: /blogs/blog/how-to-get-into-berlin-clubs\u001b[0m\n",
      "\u001b[33m2024-08-13 12:35:12,287 - courlan.urlstore - WARNING - Discarding URL: /blogs/blog/how-to-get-into-berlin-clubs\u001b[0m\n",
      "\u001b[33m2024-08-13 12:35:12,287 - courlan.urlstore - WARNING - Discarding URL: /blogs/blog/how-to-get-into-berlin-clubs\u001b[0m\n",
      "\u001b[33m2024-08-13 12:35:12,287 - courlan.urlstore - WARNING - Discarding URL: /blogs/blog/how-to-get-into-berlin-clubs\u001b[0m\n",
      "\u001b[33m2024-08-13 12:35:12,287 - courlan.urlstore - WARNING - Discarding URL: /blogs/blog/how-to-get-into-berlin-clubs\u001b[0m\n",
      "\u001b[32m2024-08-13 12:35:12,298 - courlan.core - INFO - 33 links found – 27 valid links\u001b[0m\n",
      "\u001b[32m2024-08-13 12:35:12,298 - courlan.core - INFO - 33 links found – 27 valid links\u001b[0m\n",
      "\u001b[32m2024-08-13 12:35:12,298 - courlan.core - INFO - 33 links found – 27 valid links\u001b[0m\n",
      "\u001b[32m2024-08-13 12:35:12,298 - courlan.core - INFO - 33 links found – 27 valid links\u001b[0m\n",
      "\u001b[32m2024-08-13 12:35:12,298 - courlan.core - INFO - 33 links found – 27 valid links\u001b[0m\n",
      "\u001b[32m2024-08-13 12:35:12,298 - courlan.core - INFO - 33 links found – 27 valid links\u001b[0m\n",
      "\u001b[33m2024-08-13 12:35:14,588 - courlan.urlstore - WARNING - Discarding URL: /blogs/news/untitled-jul-13-0-19-25\u001b[0m\n",
      "\u001b[33m2024-08-13 12:35:14,588 - courlan.urlstore - WARNING - Discarding URL: /blogs/news/untitled-jul-13-0-19-25\u001b[0m\n",
      "\u001b[33m2024-08-13 12:35:14,588 - courlan.urlstore - WARNING - Discarding URL: /blogs/news/untitled-jul-13-0-19-25\u001b[0m\n",
      "\u001b[33m2024-08-13 12:35:14,588 - courlan.urlstore - WARNING - Discarding URL: /blogs/news/untitled-jul-13-0-19-25\u001b[0m\n",
      "\u001b[33m2024-08-13 12:35:14,588 - courlan.urlstore - WARNING - Discarding URL: /blogs/news/untitled-jul-13-0-19-25\u001b[0m\n",
      "\u001b[33m2024-08-13 12:35:14,588 - courlan.urlstore - WARNING - Discarding URL: /blogs/news/untitled-jul-13-0-19-25\u001b[0m\n",
      "\u001b[32m2024-08-13 12:35:14,599 - courlan.core - INFO - 30 links found – 24 valid links\u001b[0m\n",
      "\u001b[32m2024-08-13 12:35:14,599 - courlan.core - INFO - 30 links found – 24 valid links\u001b[0m\n",
      "\u001b[32m2024-08-13 12:35:14,599 - courlan.core - INFO - 30 links found – 24 valid links\u001b[0m\n",
      "\u001b[32m2024-08-13 12:35:14,599 - courlan.core - INFO - 30 links found – 24 valid links\u001b[0m\n",
      "\u001b[32m2024-08-13 12:35:14,599 - courlan.core - INFO - 30 links found – 24 valid links\u001b[0m\n",
      "\u001b[32m2024-08-13 12:35:14,599 - courlan.core - INFO - 30 links found – 24 valid links\u001b[0m\n",
      "\u001b[33m2024-08-13 12:35:16,888 - courlan.urlstore - WARNING - Discarding URL: /blogs/blog/make-a-splash-with-loop-x-andrew-footit\u001b[0m\n",
      "\u001b[33m2024-08-13 12:35:16,888 - courlan.urlstore - WARNING - Discarding URL: /blogs/blog/make-a-splash-with-loop-x-andrew-footit\u001b[0m\n",
      "\u001b[33m2024-08-13 12:35:16,888 - courlan.urlstore - WARNING - Discarding URL: /blogs/blog/make-a-splash-with-loop-x-andrew-footit\u001b[0m\n",
      "\u001b[33m2024-08-13 12:35:16,888 - courlan.urlstore - WARNING - Discarding URL: /blogs/blog/make-a-splash-with-loop-x-andrew-footit\u001b[0m\n",
      "\u001b[33m2024-08-13 12:35:16,888 - courlan.urlstore - WARNING - Discarding URL: /blogs/blog/make-a-splash-with-loop-x-andrew-footit\u001b[0m\n",
      "\u001b[33m2024-08-13 12:35:16,888 - courlan.urlstore - WARNING - Discarding URL: /blogs/blog/make-a-splash-with-loop-x-andrew-footit\u001b[0m\n",
      "\u001b[32m2024-08-13 12:35:16,898 - courlan.core - INFO - 32 links found – 28 valid links\u001b[0m\n",
      "\u001b[32m2024-08-13 12:35:16,898 - courlan.core - INFO - 32 links found – 28 valid links\u001b[0m\n",
      "\u001b[32m2024-08-13 12:35:16,898 - courlan.core - INFO - 32 links found – 28 valid links\u001b[0m\n",
      "\u001b[32m2024-08-13 12:35:16,898 - courlan.core - INFO - 32 links found – 28 valid links\u001b[0m\n",
      "\u001b[32m2024-08-13 12:35:16,898 - courlan.core - INFO - 32 links found – 28 valid links\u001b[0m\n",
      "\u001b[32m2024-08-13 12:35:16,898 - courlan.core - INFO - 32 links found – 28 valid links\u001b[0m\n",
      "\u001b[33m2024-08-13 12:35:19,196 - courlan.urlstore - WARNING - Discarding URL: /blogs/news/loop-redefines-how-an-earplug-should-perform-and-look\u001b[0m\n",
      "\u001b[33m2024-08-13 12:35:19,196 - courlan.urlstore - WARNING - Discarding URL: /blogs/news/loop-redefines-how-an-earplug-should-perform-and-look\u001b[0m\n",
      "\u001b[33m2024-08-13 12:35:19,196 - courlan.urlstore - WARNING - Discarding URL: /blogs/news/loop-redefines-how-an-earplug-should-perform-and-look\u001b[0m\n",
      "\u001b[33m2024-08-13 12:35:19,196 - courlan.urlstore - WARNING - Discarding URL: /blogs/news/loop-redefines-how-an-earplug-should-perform-and-look\u001b[0m\n",
      "\u001b[33m2024-08-13 12:35:19,196 - courlan.urlstore - WARNING - Discarding URL: /blogs/news/loop-redefines-how-an-earplug-should-perform-and-look\u001b[0m\n",
      "\u001b[33m2024-08-13 12:35:19,196 - courlan.urlstore - WARNING - Discarding URL: /blogs/news/loop-redefines-how-an-earplug-should-perform-and-look\u001b[0m\n",
      "\u001b[32m2024-08-13 12:35:19,205 - courlan.core - INFO - 30 links found – 26 valid links\u001b[0m\n",
      "\u001b[32m2024-08-13 12:35:19,205 - courlan.core - INFO - 30 links found – 26 valid links\u001b[0m\n",
      "\u001b[32m2024-08-13 12:35:19,205 - courlan.core - INFO - 30 links found – 26 valid links\u001b[0m\n",
      "\u001b[32m2024-08-13 12:35:19,205 - courlan.core - INFO - 30 links found – 26 valid links\u001b[0m\n",
      "\u001b[32m2024-08-13 12:35:19,205 - courlan.core - INFO - 30 links found – 26 valid links\u001b[0m\n",
      "\u001b[32m2024-08-13 12:35:19,205 - courlan.core - INFO - 30 links found – 26 valid links\u001b[0m\n",
      "\u001b[33m2024-08-13 12:35:21,310 - courlan.urlstore - WARNING - Discarding URL: /blogs/blog/survey-noise-sensitivity-impacts-the-daily-lives-of-many\u001b[0m\n",
      "\u001b[33m2024-08-13 12:35:21,310 - courlan.urlstore - WARNING - Discarding URL: /blogs/blog/survey-noise-sensitivity-impacts-the-daily-lives-of-many\u001b[0m\n",
      "\u001b[33m2024-08-13 12:35:21,310 - courlan.urlstore - WARNING - Discarding URL: /blogs/blog/survey-noise-sensitivity-impacts-the-daily-lives-of-many\u001b[0m\n",
      "\u001b[33m2024-08-13 12:35:21,310 - courlan.urlstore - WARNING - Discarding URL: /blogs/blog/survey-noise-sensitivity-impacts-the-daily-lives-of-many\u001b[0m\n",
      "\u001b[33m2024-08-13 12:35:21,310 - courlan.urlstore - WARNING - Discarding URL: /blogs/blog/survey-noise-sensitivity-impacts-the-daily-lives-of-many\u001b[0m\n",
      "\u001b[33m2024-08-13 12:35:21,310 - courlan.urlstore - WARNING - Discarding URL: /blogs/blog/survey-noise-sensitivity-impacts-the-daily-lives-of-many\u001b[0m\n",
      "\u001b[32m2024-08-13 12:35:21,317 - courlan.core - INFO - 34 links found – 28 valid links\u001b[0m\n",
      "\u001b[32m2024-08-13 12:35:21,317 - courlan.core - INFO - 34 links found – 28 valid links\u001b[0m\n",
      "\u001b[32m2024-08-13 12:35:21,317 - courlan.core - INFO - 34 links found – 28 valid links\u001b[0m\n",
      "\u001b[32m2024-08-13 12:35:21,317 - courlan.core - INFO - 34 links found – 28 valid links\u001b[0m\n",
      "\u001b[32m2024-08-13 12:35:21,317 - courlan.core - INFO - 34 links found – 28 valid links\u001b[0m\n",
      "\u001b[32m2024-08-13 12:35:21,317 - courlan.core - INFO - 34 links found – 28 valid links\u001b[0m\n",
      "\u001b[33m2024-08-13 12:35:23,834 - courlan.urlstore - WARNING - Discarding URL: /blogs/blog/sleep\u001b[0m\n",
      "\u001b[33m2024-08-13 12:35:23,834 - courlan.urlstore - WARNING - Discarding URL: /blogs/blog/sleep\u001b[0m\n",
      "\u001b[33m2024-08-13 12:35:23,834 - courlan.urlstore - WARNING - Discarding URL: /blogs/blog/sleep\u001b[0m\n",
      "\u001b[33m2024-08-13 12:35:23,834 - courlan.urlstore - WARNING - Discarding URL: /blogs/blog/sleep\u001b[0m\n",
      "\u001b[33m2024-08-13 12:35:23,834 - courlan.urlstore - WARNING - Discarding URL: /blogs/blog/sleep\u001b[0m\n",
      "\u001b[33m2024-08-13 12:35:23,834 - courlan.urlstore - WARNING - Discarding URL: /blogs/blog/sleep\u001b[0m\n",
      "\u001b[32m2024-08-13 12:35:23,845 - courlan.core - INFO - 39 links found – 35 valid links\u001b[0m\n",
      "\u001b[32m2024-08-13 12:35:23,845 - courlan.core - INFO - 39 links found – 35 valid links\u001b[0m\n",
      "\u001b[32m2024-08-13 12:35:23,845 - courlan.core - INFO - 39 links found – 35 valid links\u001b[0m\n",
      "\u001b[32m2024-08-13 12:35:23,845 - courlan.core - INFO - 39 links found – 35 valid links\u001b[0m\n",
      "\u001b[32m2024-08-13 12:35:23,845 - courlan.core - INFO - 39 links found – 35 valid links\u001b[0m\n",
      "\u001b[32m2024-08-13 12:35:23,845 - courlan.core - INFO - 39 links found – 35 valid links\u001b[0m\n",
      "\u001b[33m2024-08-13 12:35:26,183 - courlan.urlstore - WARNING - Discarding URL: /blogs/blog/how-to-go-to-sleep-faster\u001b[0m\n",
      "\u001b[33m2024-08-13 12:35:26,183 - courlan.urlstore - WARNING - Discarding URL: /blogs/blog/how-to-go-to-sleep-faster\u001b[0m\n",
      "\u001b[33m2024-08-13 12:35:26,183 - courlan.urlstore - WARNING - Discarding URL: /blogs/blog/how-to-go-to-sleep-faster\u001b[0m\n",
      "\u001b[33m2024-08-13 12:35:26,183 - courlan.urlstore - WARNING - Discarding URL: /blogs/blog/how-to-go-to-sleep-faster\u001b[0m\n",
      "\u001b[33m2024-08-13 12:35:26,183 - courlan.urlstore - WARNING - Discarding URL: /blogs/blog/how-to-go-to-sleep-faster\u001b[0m\n",
      "\u001b[33m2024-08-13 12:35:26,183 - courlan.urlstore - WARNING - Discarding URL: /blogs/blog/how-to-go-to-sleep-faster\u001b[0m\n",
      "\u001b[32m2024-08-13 12:35:26,191 - courlan.core - INFO - 44 links found – 33 valid links\u001b[0m\n",
      "\u001b[32m2024-08-13 12:35:26,191 - courlan.core - INFO - 44 links found – 33 valid links\u001b[0m\n",
      "\u001b[32m2024-08-13 12:35:26,191 - courlan.core - INFO - 44 links found – 33 valid links\u001b[0m\n",
      "\u001b[32m2024-08-13 12:35:26,191 - courlan.core - INFO - 44 links found – 33 valid links\u001b[0m\n",
      "\u001b[32m2024-08-13 12:35:26,191 - courlan.core - INFO - 44 links found – 33 valid links\u001b[0m\n",
      "\u001b[32m2024-08-13 12:35:26,191 - courlan.core - INFO - 44 links found – 33 valid links\u001b[0m\n",
      "\u001b[33m2024-08-13 12:35:28,377 - courlan.urlstore - WARNING - Discarding URL: /blogs/blog/nightlife-style-the-best-club-outfits-for-men-in-2023-to-up-their-game\u001b[0m\n",
      "\u001b[33m2024-08-13 12:35:28,377 - courlan.urlstore - WARNING - Discarding URL: /blogs/blog/nightlife-style-the-best-club-outfits-for-men-in-2023-to-up-their-game\u001b[0m\n",
      "\u001b[33m2024-08-13 12:35:28,377 - courlan.urlstore - WARNING - Discarding URL: /blogs/blog/nightlife-style-the-best-club-outfits-for-men-in-2023-to-up-their-game\u001b[0m\n",
      "\u001b[33m2024-08-13 12:35:28,377 - courlan.urlstore - WARNING - Discarding URL: /blogs/blog/nightlife-style-the-best-club-outfits-for-men-in-2023-to-up-their-game\u001b[0m\n",
      "\u001b[33m2024-08-13 12:35:28,377 - courlan.urlstore - WARNING - Discarding URL: /blogs/blog/nightlife-style-the-best-club-outfits-for-men-in-2023-to-up-their-game\u001b[0m\n",
      "\u001b[33m2024-08-13 12:35:28,377 - courlan.urlstore - WARNING - Discarding URL: /blogs/blog/nightlife-style-the-best-club-outfits-for-men-in-2023-to-up-their-game\u001b[0m\n",
      "\u001b[32m2024-08-13 12:35:28,388 - courlan.core - INFO - 34 links found – 29 valid links\u001b[0m\n",
      "\u001b[32m2024-08-13 12:35:28,388 - courlan.core - INFO - 34 links found – 29 valid links\u001b[0m\n",
      "\u001b[32m2024-08-13 12:35:28,388 - courlan.core - INFO - 34 links found – 29 valid links\u001b[0m\n",
      "\u001b[32m2024-08-13 12:35:28,388 - courlan.core - INFO - 34 links found – 29 valid links\u001b[0m\n",
      "\u001b[32m2024-08-13 12:35:28,388 - courlan.core - INFO - 34 links found – 29 valid links\u001b[0m\n",
      "\u001b[32m2024-08-13 12:35:28,388 - courlan.core - INFO - 34 links found – 29 valid links\u001b[0m\n",
      "\u001b[33m2024-08-13 12:35:31,545 - courlan.urlstore - WARNING - Discarding URL: /blogs/blog/noise-cancelling-ear-plugs-for-noise-sensitivity\u001b[0m\n",
      "\u001b[33m2024-08-13 12:35:31,545 - courlan.urlstore - WARNING - Discarding URL: /blogs/blog/noise-cancelling-ear-plugs-for-noise-sensitivity\u001b[0m\n",
      "\u001b[33m2024-08-13 12:35:31,545 - courlan.urlstore - WARNING - Discarding URL: /blogs/blog/noise-cancelling-ear-plugs-for-noise-sensitivity\u001b[0m\n",
      "\u001b[33m2024-08-13 12:35:31,545 - courlan.urlstore - WARNING - Discarding URL: /blogs/blog/noise-cancelling-ear-plugs-for-noise-sensitivity\u001b[0m\n",
      "\u001b[33m2024-08-13 12:35:31,545 - courlan.urlstore - WARNING - Discarding URL: /blogs/blog/noise-cancelling-ear-plugs-for-noise-sensitivity\u001b[0m\n",
      "\u001b[33m2024-08-13 12:35:31,545 - courlan.urlstore - WARNING - Discarding URL: /blogs/blog/noise-cancelling-ear-plugs-for-noise-sensitivity\u001b[0m\n",
      "\u001b[32m2024-08-13 12:35:31,555 - courlan.core - INFO - 30 links found – 27 valid links\u001b[0m\n",
      "\u001b[32m2024-08-13 12:35:31,555 - courlan.core - INFO - 30 links found – 27 valid links\u001b[0m\n",
      "\u001b[32m2024-08-13 12:35:31,555 - courlan.core - INFO - 30 links found – 27 valid links\u001b[0m\n",
      "\u001b[32m2024-08-13 12:35:31,555 - courlan.core - INFO - 30 links found – 27 valid links\u001b[0m\n",
      "\u001b[32m2024-08-13 12:35:31,555 - courlan.core - INFO - 30 links found – 27 valid links\u001b[0m\n",
      "\u001b[32m2024-08-13 12:35:31,555 - courlan.core - INFO - 30 links found – 27 valid links\u001b[0m\n",
      "\u001b[33m2024-08-13 12:35:33,814 - courlan.urlstore - WARNING - Discarding URL: /blogs/blog/study-tips-for-school-children-skills-and-techniques-for-effective-learning\u001b[0m\n",
      "\u001b[33m2024-08-13 12:35:33,814 - courlan.urlstore - WARNING - Discarding URL: /blogs/blog/study-tips-for-school-children-skills-and-techniques-for-effective-learning\u001b[0m\n",
      "\u001b[33m2024-08-13 12:35:33,814 - courlan.urlstore - WARNING - Discarding URL: /blogs/blog/study-tips-for-school-children-skills-and-techniques-for-effective-learning\u001b[0m\n",
      "\u001b[33m2024-08-13 12:35:33,814 - courlan.urlstore - WARNING - Discarding URL: /blogs/blog/study-tips-for-school-children-skills-and-techniques-for-effective-learning\u001b[0m\n",
      "\u001b[33m2024-08-13 12:35:33,814 - courlan.urlstore - WARNING - Discarding URL: /blogs/blog/study-tips-for-school-children-skills-and-techniques-for-effective-learning\u001b[0m\n",
      "\u001b[33m2024-08-13 12:35:33,814 - courlan.urlstore - WARNING - Discarding URL: /blogs/blog/study-tips-for-school-children-skills-and-techniques-for-effective-learning\u001b[0m\n",
      "\u001b[32m2024-08-13 12:35:33,824 - courlan.core - INFO - 32 links found – 29 valid links\u001b[0m\n",
      "\u001b[32m2024-08-13 12:35:33,824 - courlan.core - INFO - 32 links found – 29 valid links\u001b[0m\n",
      "\u001b[32m2024-08-13 12:35:33,824 - courlan.core - INFO - 32 links found – 29 valid links\u001b[0m\n",
      "\u001b[32m2024-08-13 12:35:33,824 - courlan.core - INFO - 32 links found – 29 valid links\u001b[0m\n",
      "\u001b[32m2024-08-13 12:35:33,824 - courlan.core - INFO - 32 links found – 29 valid links\u001b[0m\n",
      "\u001b[32m2024-08-13 12:35:33,824 - courlan.core - INFO - 32 links found – 29 valid links\u001b[0m\n",
      "\u001b[33m2024-08-13 12:35:35,927 - courlan.urlstore - WARNING - Discarding URL: /blogs/press/start-up-loop-combineert-hightech-met-design-in-nieuwe-oordopjes-voor-nachtleven\u001b[0m\n",
      "\u001b[33m2024-08-13 12:35:35,927 - courlan.urlstore - WARNING - Discarding URL: /blogs/press/start-up-loop-combineert-hightech-met-design-in-nieuwe-oordopjes-voor-nachtleven\u001b[0m\n",
      "\u001b[33m2024-08-13 12:35:35,927 - courlan.urlstore - WARNING - Discarding URL: /blogs/press/start-up-loop-combineert-hightech-met-design-in-nieuwe-oordopjes-voor-nachtleven\u001b[0m\n",
      "\u001b[33m2024-08-13 12:35:35,927 - courlan.urlstore - WARNING - Discarding URL: /blogs/press/start-up-loop-combineert-hightech-met-design-in-nieuwe-oordopjes-voor-nachtleven\u001b[0m\n",
      "\u001b[33m2024-08-13 12:35:35,927 - courlan.urlstore - WARNING - Discarding URL: /blogs/press/start-up-loop-combineert-hightech-met-design-in-nieuwe-oordopjes-voor-nachtleven\u001b[0m\n",
      "\u001b[33m2024-08-13 12:35:35,927 - courlan.urlstore - WARNING - Discarding URL: /blogs/press/start-up-loop-combineert-hightech-met-design-in-nieuwe-oordopjes-voor-nachtleven\u001b[0m\n",
      "\u001b[32m2024-08-13 12:35:35,937 - courlan.core - INFO - 31 links found – 27 valid links\u001b[0m\n",
      "\u001b[32m2024-08-13 12:35:35,937 - courlan.core - INFO - 31 links found – 27 valid links\u001b[0m\n",
      "\u001b[32m2024-08-13 12:35:35,937 - courlan.core - INFO - 31 links found – 27 valid links\u001b[0m\n",
      "\u001b[32m2024-08-13 12:35:35,937 - courlan.core - INFO - 31 links found – 27 valid links\u001b[0m\n",
      "\u001b[32m2024-08-13 12:35:35,937 - courlan.core - INFO - 31 links found – 27 valid links\u001b[0m\n",
      "\u001b[32m2024-08-13 12:35:35,937 - courlan.core - INFO - 31 links found – 27 valid links\u001b[0m\n",
      "\u001b[33m2024-08-13 12:35:38,470 - courlan.urlstore - WARNING - Discarding URL: /blogs/blog/sensitivity-to-sound-how-to-deal-with-noise-sensitivity\u001b[0m\n",
      "\u001b[33m2024-08-13 12:35:38,470 - courlan.urlstore - WARNING - Discarding URL: /blogs/blog/sensitivity-to-sound-how-to-deal-with-noise-sensitivity\u001b[0m\n",
      "\u001b[33m2024-08-13 12:35:38,470 - courlan.urlstore - WARNING - Discarding URL: /blogs/blog/sensitivity-to-sound-how-to-deal-with-noise-sensitivity\u001b[0m\n",
      "\u001b[33m2024-08-13 12:35:38,470 - courlan.urlstore - WARNING - Discarding URL: /blogs/blog/sensitivity-to-sound-how-to-deal-with-noise-sensitivity\u001b[0m\n",
      "\u001b[33m2024-08-13 12:35:38,470 - courlan.urlstore - WARNING - Discarding URL: /blogs/blog/sensitivity-to-sound-how-to-deal-with-noise-sensitivity\u001b[0m\n",
      "\u001b[33m2024-08-13 12:35:38,470 - courlan.urlstore - WARNING - Discarding URL: /blogs/blog/sensitivity-to-sound-how-to-deal-with-noise-sensitivity\u001b[0m\n",
      "\u001b[32m2024-08-13 12:35:38,481 - courlan.core - INFO - 60 links found – 54 valid links\u001b[0m\n",
      "\u001b[32m2024-08-13 12:35:38,481 - courlan.core - INFO - 60 links found – 54 valid links\u001b[0m\n",
      "\u001b[32m2024-08-13 12:35:38,481 - courlan.core - INFO - 60 links found – 54 valid links\u001b[0m\n",
      "\u001b[32m2024-08-13 12:35:38,481 - courlan.core - INFO - 60 links found – 54 valid links\u001b[0m\n",
      "\u001b[32m2024-08-13 12:35:38,481 - courlan.core - INFO - 60 links found – 54 valid links\u001b[0m\n",
      "\u001b[32m2024-08-13 12:35:38,481 - courlan.core - INFO - 60 links found – 54 valid links\u001b[0m\n",
      "\u001b[33m2024-08-13 12:35:41,025 - courlan.urlstore - WARNING - Discarding URL: /blogs/blog/focus\u001b[0m\n",
      "\u001b[33m2024-08-13 12:35:41,025 - courlan.urlstore - WARNING - Discarding URL: /blogs/blog/focus\u001b[0m\n",
      "\u001b[33m2024-08-13 12:35:41,025 - courlan.urlstore - WARNING - Discarding URL: /blogs/blog/focus\u001b[0m\n",
      "\u001b[33m2024-08-13 12:35:41,025 - courlan.urlstore - WARNING - Discarding URL: /blogs/blog/focus\u001b[0m\n",
      "\u001b[33m2024-08-13 12:35:41,025 - courlan.urlstore - WARNING - Discarding URL: /blogs/blog/focus\u001b[0m\n",
      "\u001b[33m2024-08-13 12:35:41,025 - courlan.urlstore - WARNING - Discarding URL: /blogs/blog/focus\u001b[0m\n",
      "\u001b[32m2024-08-13 12:35:41,036 - courlan.core - INFO - 38 links found – 32 valid links\u001b[0m\n",
      "\u001b[32m2024-08-13 12:35:41,036 - courlan.core - INFO - 38 links found – 32 valid links\u001b[0m\n",
      "\u001b[32m2024-08-13 12:35:41,036 - courlan.core - INFO - 38 links found – 32 valid links\u001b[0m\n",
      "\u001b[32m2024-08-13 12:35:41,036 - courlan.core - INFO - 38 links found – 32 valid links\u001b[0m\n",
      "\u001b[32m2024-08-13 12:35:41,036 - courlan.core - INFO - 38 links found – 32 valid links\u001b[0m\n",
      "\u001b[32m2024-08-13 12:35:41,036 - courlan.core - INFO - 38 links found – 32 valid links\u001b[0m\n",
      "\u001b[33m2024-08-13 12:35:43,395 - courlan.urlstore - WARNING - Discarding URL: /blogs/blog/hearing-damage-decibels-levels\u001b[0m\n",
      "\u001b[33m2024-08-13 12:35:43,395 - courlan.urlstore - WARNING - Discarding URL: /blogs/blog/hearing-damage-decibels-levels\u001b[0m\n",
      "\u001b[33m2024-08-13 12:35:43,395 - courlan.urlstore - WARNING - Discarding URL: /blogs/blog/hearing-damage-decibels-levels\u001b[0m\n",
      "\u001b[33m2024-08-13 12:35:43,395 - courlan.urlstore - WARNING - Discarding URL: /blogs/blog/hearing-damage-decibels-levels\u001b[0m\n",
      "\u001b[33m2024-08-13 12:35:43,395 - courlan.urlstore - WARNING - Discarding URL: /blogs/blog/hearing-damage-decibels-levels\u001b[0m\n",
      "\u001b[33m2024-08-13 12:35:43,395 - courlan.urlstore - WARNING - Discarding URL: /blogs/blog/hearing-damage-decibels-levels\u001b[0m\n",
      "\u001b[32m2024-08-13 12:35:43,403 - courlan.core - INFO - 40 links found – 32 valid links\u001b[0m\n",
      "\u001b[32m2024-08-13 12:35:43,403 - courlan.core - INFO - 40 links found – 32 valid links\u001b[0m\n",
      "\u001b[32m2024-08-13 12:35:43,403 - courlan.core - INFO - 40 links found – 32 valid links\u001b[0m\n",
      "\u001b[32m2024-08-13 12:35:43,403 - courlan.core - INFO - 40 links found – 32 valid links\u001b[0m\n",
      "\u001b[32m2024-08-13 12:35:43,403 - courlan.core - INFO - 40 links found – 32 valid links\u001b[0m\n",
      "\u001b[32m2024-08-13 12:35:43,403 - courlan.core - INFO - 40 links found – 32 valid links\u001b[0m\n",
      "\u001b[33m2024-08-13 12:35:45,684 - courlan.urlstore - WARNING - Discarding URL: /blogs/blog/adhd\u001b[0m\n",
      "\u001b[33m2024-08-13 12:35:45,684 - courlan.urlstore - WARNING - Discarding URL: /blogs/blog/adhd\u001b[0m\n",
      "\u001b[33m2024-08-13 12:35:45,684 - courlan.urlstore - WARNING - Discarding URL: /blogs/blog/adhd\u001b[0m\n",
      "\u001b[33m2024-08-13 12:35:45,684 - courlan.urlstore - WARNING - Discarding URL: /blogs/blog/adhd\u001b[0m\n",
      "\u001b[33m2024-08-13 12:35:45,684 - courlan.urlstore - WARNING - Discarding URL: /blogs/blog/adhd\u001b[0m\n",
      "\u001b[33m2024-08-13 12:35:45,684 - courlan.urlstore - WARNING - Discarding URL: /blogs/blog/adhd\u001b[0m\n",
      "\u001b[32m2024-08-13 12:35:45,695 - courlan.core - INFO - 35 links found – 32 valid links\u001b[0m\n",
      "\u001b[32m2024-08-13 12:35:45,695 - courlan.core - INFO - 35 links found – 32 valid links\u001b[0m\n",
      "\u001b[32m2024-08-13 12:35:45,695 - courlan.core - INFO - 35 links found – 32 valid links\u001b[0m\n",
      "\u001b[32m2024-08-13 12:35:45,695 - courlan.core - INFO - 35 links found – 32 valid links\u001b[0m\n",
      "\u001b[32m2024-08-13 12:35:45,695 - courlan.core - INFO - 35 links found – 32 valid links\u001b[0m\n",
      "\u001b[32m2024-08-13 12:35:45,695 - courlan.core - INFO - 35 links found – 32 valid links\u001b[0m\n",
      "\u001b[33m2024-08-13 12:35:48,196 - courlan.urlstore - WARNING - Discarding URL: /blogs/blog/living-with-hyperacusis-coping-strategies-and-treatment-options-loop-earplugs\u001b[0m\n",
      "\u001b[33m2024-08-13 12:35:48,196 - courlan.urlstore - WARNING - Discarding URL: /blogs/blog/living-with-hyperacusis-coping-strategies-and-treatment-options-loop-earplugs\u001b[0m\n",
      "\u001b[33m2024-08-13 12:35:48,196 - courlan.urlstore - WARNING - Discarding URL: /blogs/blog/living-with-hyperacusis-coping-strategies-and-treatment-options-loop-earplugs\u001b[0m\n",
      "\u001b[33m2024-08-13 12:35:48,196 - courlan.urlstore - WARNING - Discarding URL: /blogs/blog/living-with-hyperacusis-coping-strategies-and-treatment-options-loop-earplugs\u001b[0m\n",
      "\u001b[33m2024-08-13 12:35:48,196 - courlan.urlstore - WARNING - Discarding URL: /blogs/blog/living-with-hyperacusis-coping-strategies-and-treatment-options-loop-earplugs\u001b[0m\n",
      "\u001b[33m2024-08-13 12:35:48,196 - courlan.urlstore - WARNING - Discarding URL: /blogs/blog/living-with-hyperacusis-coping-strategies-and-treatment-options-loop-earplugs\u001b[0m\n",
      "\u001b[32m2024-08-13 12:35:48,209 - courlan.core - INFO - 40 links found – 31 valid links\u001b[0m\n",
      "\u001b[32m2024-08-13 12:35:48,209 - courlan.core - INFO - 40 links found – 31 valid links\u001b[0m\n",
      "\u001b[32m2024-08-13 12:35:48,209 - courlan.core - INFO - 40 links found – 31 valid links\u001b[0m\n",
      "\u001b[32m2024-08-13 12:35:48,209 - courlan.core - INFO - 40 links found – 31 valid links\u001b[0m\n",
      "\u001b[32m2024-08-13 12:35:48,209 - courlan.core - INFO - 40 links found – 31 valid links\u001b[0m\n",
      "\u001b[32m2024-08-13 12:35:48,209 - courlan.core - INFO - 40 links found – 31 valid links\u001b[0m\n",
      "\u001b[33m2024-08-13 12:35:50,354 - courlan.urlstore - WARNING - Discarding URL: /blogs/blog/how-to-block-noise-from-your-next-door-neighbors\u001b[0m\n",
      "\u001b[33m2024-08-13 12:35:50,354 - courlan.urlstore - WARNING - Discarding URL: /blogs/blog/how-to-block-noise-from-your-next-door-neighbors\u001b[0m\n",
      "\u001b[33m2024-08-13 12:35:50,354 - courlan.urlstore - WARNING - Discarding URL: /blogs/blog/how-to-block-noise-from-your-next-door-neighbors\u001b[0m\n",
      "\u001b[33m2024-08-13 12:35:50,354 - courlan.urlstore - WARNING - Discarding URL: /blogs/blog/how-to-block-noise-from-your-next-door-neighbors\u001b[0m\n",
      "\u001b[33m2024-08-13 12:35:50,354 - courlan.urlstore - WARNING - Discarding URL: /blogs/blog/how-to-block-noise-from-your-next-door-neighbors\u001b[0m\n",
      "\u001b[33m2024-08-13 12:35:50,354 - courlan.urlstore - WARNING - Discarding URL: /blogs/blog/how-to-block-noise-from-your-next-door-neighbors\u001b[0m\n",
      "\u001b[32m2024-08-13 12:35:50,366 - courlan.core - INFO - 37 links found – 29 valid links\u001b[0m\n",
      "\u001b[32m2024-08-13 12:35:50,366 - courlan.core - INFO - 37 links found – 29 valid links\u001b[0m\n",
      "\u001b[32m2024-08-13 12:35:50,366 - courlan.core - INFO - 37 links found – 29 valid links\u001b[0m\n",
      "\u001b[32m2024-08-13 12:35:50,366 - courlan.core - INFO - 37 links found – 29 valid links\u001b[0m\n",
      "\u001b[32m2024-08-13 12:35:50,366 - courlan.core - INFO - 37 links found – 29 valid links\u001b[0m\n",
      "\u001b[32m2024-08-13 12:35:50,366 - courlan.core - INFO - 37 links found – 29 valid links\u001b[0m\n",
      "\u001b[33m2024-08-13 12:35:52,863 - courlan.urlstore - WARNING - Discarding URL: /blogs/blog/musicians-orchestra-avoid-hearing-damage\u001b[0m\n",
      "\u001b[33m2024-08-13 12:35:52,863 - courlan.urlstore - WARNING - Discarding URL: /blogs/blog/musicians-orchestra-avoid-hearing-damage\u001b[0m\n",
      "\u001b[33m2024-08-13 12:35:52,863 - courlan.urlstore - WARNING - Discarding URL: /blogs/blog/musicians-orchestra-avoid-hearing-damage\u001b[0m\n",
      "\u001b[33m2024-08-13 12:35:52,863 - courlan.urlstore - WARNING - Discarding URL: /blogs/blog/musicians-orchestra-avoid-hearing-damage\u001b[0m\n",
      "\u001b[33m2024-08-13 12:35:52,863 - courlan.urlstore - WARNING - Discarding URL: /blogs/blog/musicians-orchestra-avoid-hearing-damage\u001b[0m\n",
      "\u001b[33m2024-08-13 12:35:52,863 - courlan.urlstore - WARNING - Discarding URL: /blogs/blog/musicians-orchestra-avoid-hearing-damage\u001b[0m\n",
      "\u001b[32m2024-08-13 12:35:52,873 - courlan.core - INFO - 35 links found – 30 valid links\u001b[0m\n",
      "\u001b[32m2024-08-13 12:35:52,873 - courlan.core - INFO - 35 links found – 30 valid links\u001b[0m\n",
      "\u001b[32m2024-08-13 12:35:52,873 - courlan.core - INFO - 35 links found – 30 valid links\u001b[0m\n",
      "\u001b[32m2024-08-13 12:35:52,873 - courlan.core - INFO - 35 links found – 30 valid links\u001b[0m\n",
      "\u001b[32m2024-08-13 12:35:52,873 - courlan.core - INFO - 35 links found – 30 valid links\u001b[0m\n",
      "\u001b[32m2024-08-13 12:35:52,873 - courlan.core - INFO - 35 links found – 30 valid links\u001b[0m\n",
      "\u001b[33m2024-08-13 12:35:55,067 - courlan.urlstore - WARNING - Discarding URL: /blogs/blog/how-is-tinnitus-diagnosed\u001b[0m\n",
      "\u001b[33m2024-08-13 12:35:55,067 - courlan.urlstore - WARNING - Discarding URL: /blogs/blog/how-is-tinnitus-diagnosed\u001b[0m\n",
      "\u001b[33m2024-08-13 12:35:55,067 - courlan.urlstore - WARNING - Discarding URL: /blogs/blog/how-is-tinnitus-diagnosed\u001b[0m\n",
      "\u001b[33m2024-08-13 12:35:55,067 - courlan.urlstore - WARNING - Discarding URL: /blogs/blog/how-is-tinnitus-diagnosed\u001b[0m\n",
      "\u001b[33m2024-08-13 12:35:55,067 - courlan.urlstore - WARNING - Discarding URL: /blogs/blog/how-is-tinnitus-diagnosed\u001b[0m\n",
      "\u001b[33m2024-08-13 12:35:55,067 - courlan.urlstore - WARNING - Discarding URL: /blogs/blog/how-is-tinnitus-diagnosed\u001b[0m\n",
      "\u001b[32m2024-08-13 12:35:55,078 - courlan.core - INFO - 34 links found – 29 valid links\u001b[0m\n",
      "\u001b[32m2024-08-13 12:35:55,078 - courlan.core - INFO - 34 links found – 29 valid links\u001b[0m\n",
      "\u001b[32m2024-08-13 12:35:55,078 - courlan.core - INFO - 34 links found – 29 valid links\u001b[0m\n",
      "\u001b[32m2024-08-13 12:35:55,078 - courlan.core - INFO - 34 links found – 29 valid links\u001b[0m\n",
      "\u001b[32m2024-08-13 12:35:55,078 - courlan.core - INFO - 34 links found – 29 valid links\u001b[0m\n",
      "\u001b[32m2024-08-13 12:35:55,078 - courlan.core - INFO - 34 links found – 29 valid links\u001b[0m\n",
      "\u001b[33m2024-08-13 12:35:57,604 - courlan.urlstore - WARNING - Discarding URL: /blogs/blog/artificial-intelligence-is-reinventing-the-earplug\u001b[0m\n",
      "\u001b[33m2024-08-13 12:35:57,604 - courlan.urlstore - WARNING - Discarding URL: /blogs/blog/artificial-intelligence-is-reinventing-the-earplug\u001b[0m\n",
      "\u001b[33m2024-08-13 12:35:57,604 - courlan.urlstore - WARNING - Discarding URL: /blogs/blog/artificial-intelligence-is-reinventing-the-earplug\u001b[0m\n",
      "\u001b[33m2024-08-13 12:35:57,604 - courlan.urlstore - WARNING - Discarding URL: /blogs/blog/artificial-intelligence-is-reinventing-the-earplug\u001b[0m\n",
      "\u001b[33m2024-08-13 12:35:57,604 - courlan.urlstore - WARNING - Discarding URL: /blogs/blog/artificial-intelligence-is-reinventing-the-earplug\u001b[0m\n",
      "\u001b[33m2024-08-13 12:35:57,604 - courlan.urlstore - WARNING - Discarding URL: /blogs/blog/artificial-intelligence-is-reinventing-the-earplug\u001b[0m\n",
      "\u001b[32m2024-08-13 12:35:57,617 - courlan.core - INFO - 80 links found – 76 valid links\u001b[0m\n",
      "\u001b[32m2024-08-13 12:35:57,617 - courlan.core - INFO - 80 links found – 76 valid links\u001b[0m\n",
      "\u001b[32m2024-08-13 12:35:57,617 - courlan.core - INFO - 80 links found – 76 valid links\u001b[0m\n",
      "\u001b[32m2024-08-13 12:35:57,617 - courlan.core - INFO - 80 links found – 76 valid links\u001b[0m\n",
      "\u001b[32m2024-08-13 12:35:57,617 - courlan.core - INFO - 80 links found – 76 valid links\u001b[0m\n",
      "\u001b[32m2024-08-13 12:35:57,617 - courlan.core - INFO - 80 links found – 76 valid links\u001b[0m\n",
      "\u001b[33m2024-08-13 12:36:00,346 - courlan.urlstore - WARNING - Discarding URL: /blogs/blog/ear-protection-earplugs\u001b[0m\n",
      "\u001b[33m2024-08-13 12:36:00,346 - courlan.urlstore - WARNING - Discarding URL: /blogs/blog/ear-protection-earplugs\u001b[0m\n",
      "\u001b[33m2024-08-13 12:36:00,346 - courlan.urlstore - WARNING - Discarding URL: /blogs/blog/ear-protection-earplugs\u001b[0m\n",
      "\u001b[33m2024-08-13 12:36:00,346 - courlan.urlstore - WARNING - Discarding URL: /blogs/blog/ear-protection-earplugs\u001b[0m\n",
      "\u001b[33m2024-08-13 12:36:00,346 - courlan.urlstore - WARNING - Discarding URL: /blogs/blog/ear-protection-earplugs\u001b[0m\n",
      "\u001b[33m2024-08-13 12:36:00,346 - courlan.urlstore - WARNING - Discarding URL: /blogs/blog/ear-protection-earplugs\u001b[0m\n",
      "\u001b[32m2024-08-13 12:36:00,359 - courlan.core - INFO - 34 links found – 29 valid links\u001b[0m\n",
      "\u001b[32m2024-08-13 12:36:00,359 - courlan.core - INFO - 34 links found – 29 valid links\u001b[0m\n",
      "\u001b[32m2024-08-13 12:36:00,359 - courlan.core - INFO - 34 links found – 29 valid links\u001b[0m\n",
      "\u001b[32m2024-08-13 12:36:00,359 - courlan.core - INFO - 34 links found – 29 valid links\u001b[0m\n",
      "\u001b[32m2024-08-13 12:36:00,359 - courlan.core - INFO - 34 links found – 29 valid links\u001b[0m\n",
      "\u001b[32m2024-08-13 12:36:00,359 - courlan.core - INFO - 34 links found – 29 valid links\u001b[0m\n",
      "\u001b[33m2024-08-13 12:36:02,742 - courlan.urlstore - WARNING - Discarding URL: /blogs/blog/how-to-help-an-easily-distracted-child-at-home\u001b[0m\n",
      "\u001b[33m2024-08-13 12:36:02,742 - courlan.urlstore - WARNING - Discarding URL: /blogs/blog/how-to-help-an-easily-distracted-child-at-home\u001b[0m\n",
      "\u001b[33m2024-08-13 12:36:02,742 - courlan.urlstore - WARNING - Discarding URL: /blogs/blog/how-to-help-an-easily-distracted-child-at-home\u001b[0m\n",
      "\u001b[33m2024-08-13 12:36:02,742 - courlan.urlstore - WARNING - Discarding URL: /blogs/blog/how-to-help-an-easily-distracted-child-at-home\u001b[0m\n",
      "\u001b[33m2024-08-13 12:36:02,742 - courlan.urlstore - WARNING - Discarding URL: /blogs/blog/how-to-help-an-easily-distracted-child-at-home\u001b[0m\n",
      "\u001b[33m2024-08-13 12:36:02,742 - courlan.urlstore - WARNING - Discarding URL: /blogs/blog/how-to-help-an-easily-distracted-child-at-home\u001b[0m\n",
      "\u001b[32m2024-08-13 12:36:02,752 - courlan.core - INFO - 30 links found – 27 valid links\u001b[0m\n",
      "\u001b[32m2024-08-13 12:36:02,752 - courlan.core - INFO - 30 links found – 27 valid links\u001b[0m\n",
      "\u001b[32m2024-08-13 12:36:02,752 - courlan.core - INFO - 30 links found – 27 valid links\u001b[0m\n",
      "\u001b[32m2024-08-13 12:36:02,752 - courlan.core - INFO - 30 links found – 27 valid links\u001b[0m\n",
      "\u001b[32m2024-08-13 12:36:02,752 - courlan.core - INFO - 30 links found – 27 valid links\u001b[0m\n",
      "\u001b[32m2024-08-13 12:36:02,752 - courlan.core - INFO - 30 links found – 27 valid links\u001b[0m\n",
      "\u001b[33m2024-08-13 12:36:04,990 - courlan.urlstore - WARNING - Discarding URL: /blogs/news/untitled-jul-4-21-37-47\u001b[0m\n",
      "\u001b[33m2024-08-13 12:36:04,990 - courlan.urlstore - WARNING - Discarding URL: /blogs/news/untitled-jul-4-21-37-47\u001b[0m\n",
      "\u001b[33m2024-08-13 12:36:04,990 - courlan.urlstore - WARNING - Discarding URL: /blogs/news/untitled-jul-4-21-37-47\u001b[0m\n",
      "\u001b[33m2024-08-13 12:36:04,990 - courlan.urlstore - WARNING - Discarding URL: /blogs/news/untitled-jul-4-21-37-47\u001b[0m\n",
      "\u001b[33m2024-08-13 12:36:04,990 - courlan.urlstore - WARNING - Discarding URL: /blogs/news/untitled-jul-4-21-37-47\u001b[0m\n",
      "\u001b[33m2024-08-13 12:36:04,990 - courlan.urlstore - WARNING - Discarding URL: /blogs/news/untitled-jul-4-21-37-47\u001b[0m\n",
      "\u001b[32m2024-08-13 12:36:05,001 - courlan.core - INFO - 30 links found – 24 valid links\u001b[0m\n",
      "\u001b[32m2024-08-13 12:36:05,001 - courlan.core - INFO - 30 links found – 24 valid links\u001b[0m\n",
      "\u001b[32m2024-08-13 12:36:05,001 - courlan.core - INFO - 30 links found – 24 valid links\u001b[0m\n",
      "\u001b[32m2024-08-13 12:36:05,001 - courlan.core - INFO - 30 links found – 24 valid links\u001b[0m\n",
      "\u001b[32m2024-08-13 12:36:05,001 - courlan.core - INFO - 30 links found – 24 valid links\u001b[0m\n",
      "\u001b[32m2024-08-13 12:36:05,001 - courlan.core - INFO - 30 links found – 24 valid links\u001b[0m\n",
      "\u001b[33m2024-08-13 12:36:07,151 - courlan.urlstore - WARNING - Discarding URL: /blogs/blog/how-to-improve-work-life-balance-for-employees\u001b[0m\n",
      "\u001b[33m2024-08-13 12:36:07,151 - courlan.urlstore - WARNING - Discarding URL: /blogs/blog/how-to-improve-work-life-balance-for-employees\u001b[0m\n",
      "\u001b[33m2024-08-13 12:36:07,151 - courlan.urlstore - WARNING - Discarding URL: /blogs/blog/how-to-improve-work-life-balance-for-employees\u001b[0m\n",
      "\u001b[33m2024-08-13 12:36:07,151 - courlan.urlstore - WARNING - Discarding URL: /blogs/blog/how-to-improve-work-life-balance-for-employees\u001b[0m\n",
      "\u001b[33m2024-08-13 12:36:07,151 - courlan.urlstore - WARNING - Discarding URL: /blogs/blog/how-to-improve-work-life-balance-for-employees\u001b[0m\n",
      "\u001b[33m2024-08-13 12:36:07,151 - courlan.urlstore - WARNING - Discarding URL: /blogs/blog/how-to-improve-work-life-balance-for-employees\u001b[0m\n",
      "\u001b[32m2024-08-13 12:36:07,162 - courlan.core - INFO - 48 links found – 31 valid links\u001b[0m\n",
      "\u001b[32m2024-08-13 12:36:07,162 - courlan.core - INFO - 48 links found – 31 valid links\u001b[0m\n",
      "\u001b[32m2024-08-13 12:36:07,162 - courlan.core - INFO - 48 links found – 31 valid links\u001b[0m\n",
      "\u001b[32m2024-08-13 12:36:07,162 - courlan.core - INFO - 48 links found – 31 valid links\u001b[0m\n",
      "\u001b[32m2024-08-13 12:36:07,162 - courlan.core - INFO - 48 links found – 31 valid links\u001b[0m\n",
      "\u001b[32m2024-08-13 12:36:07,162 - courlan.core - INFO - 48 links found – 31 valid links\u001b[0m\n",
      "\u001b[33m2024-08-13 12:36:09,215 - courlan.urlstore - WARNING - Discarding URL: /blogs/blog/how-loop-lovers-look-live-iridescent\u001b[0m\n",
      "\u001b[33m2024-08-13 12:36:09,215 - courlan.urlstore - WARNING - Discarding URL: /blogs/blog/how-loop-lovers-look-live-iridescent\u001b[0m\n",
      "\u001b[33m2024-08-13 12:36:09,215 - courlan.urlstore - WARNING - Discarding URL: /blogs/blog/how-loop-lovers-look-live-iridescent\u001b[0m\n",
      "\u001b[33m2024-08-13 12:36:09,215 - courlan.urlstore - WARNING - Discarding URL: /blogs/blog/how-loop-lovers-look-live-iridescent\u001b[0m\n",
      "\u001b[33m2024-08-13 12:36:09,215 - courlan.urlstore - WARNING - Discarding URL: /blogs/blog/how-loop-lovers-look-live-iridescent\u001b[0m\n",
      "\u001b[33m2024-08-13 12:36:09,215 - courlan.urlstore - WARNING - Discarding URL: /blogs/blog/how-loop-lovers-look-live-iridescent\u001b[0m\n",
      "\u001b[32m2024-08-13 12:36:09,226 - courlan.core - INFO - 37 links found – 29 valid links\u001b[0m\n",
      "\u001b[32m2024-08-13 12:36:09,226 - courlan.core - INFO - 37 links found – 29 valid links\u001b[0m\n",
      "\u001b[32m2024-08-13 12:36:09,226 - courlan.core - INFO - 37 links found – 29 valid links\u001b[0m\n",
      "\u001b[32m2024-08-13 12:36:09,226 - courlan.core - INFO - 37 links found – 29 valid links\u001b[0m\n",
      "\u001b[32m2024-08-13 12:36:09,226 - courlan.core - INFO - 37 links found – 29 valid links\u001b[0m\n",
      "\u001b[32m2024-08-13 12:36:09,226 - courlan.core - INFO - 37 links found – 29 valid links\u001b[0m\n",
      "\u001b[33m2024-08-13 12:36:11,869 - courlan.urlstore - WARNING - Discarding URL: /blogs/blog/the-real-effects-of-noise-pollution-and-how-to-combat-it\u001b[0m\n",
      "\u001b[33m2024-08-13 12:36:11,869 - courlan.urlstore - WARNING - Discarding URL: /blogs/blog/the-real-effects-of-noise-pollution-and-how-to-combat-it\u001b[0m\n",
      "\u001b[33m2024-08-13 12:36:11,869 - courlan.urlstore - WARNING - Discarding URL: /blogs/blog/the-real-effects-of-noise-pollution-and-how-to-combat-it\u001b[0m\n",
      "\u001b[33m2024-08-13 12:36:11,869 - courlan.urlstore - WARNING - Discarding URL: /blogs/blog/the-real-effects-of-noise-pollution-and-how-to-combat-it\u001b[0m\n",
      "\u001b[33m2024-08-13 12:36:11,869 - courlan.urlstore - WARNING - Discarding URL: /blogs/blog/the-real-effects-of-noise-pollution-and-how-to-combat-it\u001b[0m\n",
      "\u001b[33m2024-08-13 12:36:11,869 - courlan.urlstore - WARNING - Discarding URL: /blogs/blog/the-real-effects-of-noise-pollution-and-how-to-combat-it\u001b[0m\n",
      "\u001b[32m2024-08-13 12:36:11,880 - courlan.core - INFO - 41 links found – 29 valid links\u001b[0m\n",
      "\u001b[32m2024-08-13 12:36:11,880 - courlan.core - INFO - 41 links found – 29 valid links\u001b[0m\n",
      "\u001b[32m2024-08-13 12:36:11,880 - courlan.core - INFO - 41 links found – 29 valid links\u001b[0m\n",
      "\u001b[32m2024-08-13 12:36:11,880 - courlan.core - INFO - 41 links found – 29 valid links\u001b[0m\n",
      "\u001b[32m2024-08-13 12:36:11,880 - courlan.core - INFO - 41 links found – 29 valid links\u001b[0m\n",
      "\u001b[32m2024-08-13 12:36:11,880 - courlan.core - INFO - 41 links found – 29 valid links\u001b[0m\n",
      "\u001b[33m2024-08-13 12:36:13,920 - courlan.urlstore - WARNING - Discarding URL: /blogs/blog/motorcycle-riding-its-impact-on-hearing\u001b[0m\n",
      "\u001b[33m2024-08-13 12:36:13,920 - courlan.urlstore - WARNING - Discarding URL: /blogs/blog/motorcycle-riding-its-impact-on-hearing\u001b[0m\n",
      "\u001b[33m2024-08-13 12:36:13,920 - courlan.urlstore - WARNING - Discarding URL: /blogs/blog/motorcycle-riding-its-impact-on-hearing\u001b[0m\n",
      "\u001b[33m2024-08-13 12:36:13,920 - courlan.urlstore - WARNING - Discarding URL: /blogs/blog/motorcycle-riding-its-impact-on-hearing\u001b[0m\n",
      "\u001b[33m2024-08-13 12:36:13,920 - courlan.urlstore - WARNING - Discarding URL: /blogs/blog/motorcycle-riding-its-impact-on-hearing\u001b[0m\n",
      "\u001b[33m2024-08-13 12:36:13,920 - courlan.urlstore - WARNING - Discarding URL: /blogs/blog/motorcycle-riding-its-impact-on-hearing\u001b[0m\n",
      "\u001b[32m2024-08-13 12:36:13,930 - courlan.core - INFO - 30 links found – 26 valid links\u001b[0m\n",
      "\u001b[32m2024-08-13 12:36:13,930 - courlan.core - INFO - 30 links found – 26 valid links\u001b[0m\n",
      "\u001b[32m2024-08-13 12:36:13,930 - courlan.core - INFO - 30 links found – 26 valid links\u001b[0m\n",
      "\u001b[32m2024-08-13 12:36:13,930 - courlan.core - INFO - 30 links found – 26 valid links\u001b[0m\n",
      "\u001b[32m2024-08-13 12:36:13,930 - courlan.core - INFO - 30 links found – 26 valid links\u001b[0m\n",
      "\u001b[32m2024-08-13 12:36:13,930 - courlan.core - INFO - 30 links found – 26 valid links\u001b[0m\n",
      "\u001b[33m2024-08-13 12:36:15,949 - courlan.urlstore - WARNING - Discarding URL: /blogs/press/loop-redefines-how-an-earplug-should-perform-and-look\u001b[0m\n",
      "\u001b[33m2024-08-13 12:36:15,949 - courlan.urlstore - WARNING - Discarding URL: /blogs/press/loop-redefines-how-an-earplug-should-perform-and-look\u001b[0m\n",
      "\u001b[33m2024-08-13 12:36:15,949 - courlan.urlstore - WARNING - Discarding URL: /blogs/press/loop-redefines-how-an-earplug-should-perform-and-look\u001b[0m\n",
      "\u001b[33m2024-08-13 12:36:15,949 - courlan.urlstore - WARNING - Discarding URL: /blogs/press/loop-redefines-how-an-earplug-should-perform-and-look\u001b[0m\n",
      "\u001b[33m2024-08-13 12:36:15,949 - courlan.urlstore - WARNING - Discarding URL: /blogs/press/loop-redefines-how-an-earplug-should-perform-and-look\u001b[0m\n",
      "\u001b[33m2024-08-13 12:36:15,949 - courlan.urlstore - WARNING - Discarding URL: /blogs/press/loop-redefines-how-an-earplug-should-perform-and-look\u001b[0m\n",
      "\u001b[32m2024-08-13 12:36:15,959 - courlan.core - INFO - 33 links found – 27 valid links\u001b[0m\n",
      "\u001b[32m2024-08-13 12:36:15,959 - courlan.core - INFO - 33 links found – 27 valid links\u001b[0m\n",
      "\u001b[32m2024-08-13 12:36:15,959 - courlan.core - INFO - 33 links found – 27 valid links\u001b[0m\n",
      "\u001b[32m2024-08-13 12:36:15,959 - courlan.core - INFO - 33 links found – 27 valid links\u001b[0m\n",
      "\u001b[32m2024-08-13 12:36:15,959 - courlan.core - INFO - 33 links found – 27 valid links\u001b[0m\n",
      "\u001b[32m2024-08-13 12:36:15,959 - courlan.core - INFO - 33 links found – 27 valid links\u001b[0m\n",
      "\u001b[33m2024-08-13 12:36:18,179 - courlan.urlstore - WARNING - Discarding URL: /blogs/blog/how-can-employers-reduce-stress-in-the-workplace\u001b[0m\n",
      "\u001b[33m2024-08-13 12:36:18,179 - courlan.urlstore - WARNING - Discarding URL: /blogs/blog/how-can-employers-reduce-stress-in-the-workplace\u001b[0m\n",
      "\u001b[33m2024-08-13 12:36:18,179 - courlan.urlstore - WARNING - Discarding URL: /blogs/blog/how-can-employers-reduce-stress-in-the-workplace\u001b[0m\n",
      "\u001b[33m2024-08-13 12:36:18,179 - courlan.urlstore - WARNING - Discarding URL: /blogs/blog/how-can-employers-reduce-stress-in-the-workplace\u001b[0m\n",
      "\u001b[33m2024-08-13 12:36:18,179 - courlan.urlstore - WARNING - Discarding URL: /blogs/blog/how-can-employers-reduce-stress-in-the-workplace\u001b[0m\n",
      "\u001b[33m2024-08-13 12:36:18,179 - courlan.urlstore - WARNING - Discarding URL: /blogs/blog/how-can-employers-reduce-stress-in-the-workplace\u001b[0m\n",
      "\u001b[32m2024-08-13 12:36:18,193 - courlan.core - INFO - 39 links found – 29 valid links\u001b[0m\n",
      "\u001b[32m2024-08-13 12:36:18,193 - courlan.core - INFO - 39 links found – 29 valid links\u001b[0m\n",
      "\u001b[32m2024-08-13 12:36:18,193 - courlan.core - INFO - 39 links found – 29 valid links\u001b[0m\n",
      "\u001b[32m2024-08-13 12:36:18,193 - courlan.core - INFO - 39 links found – 29 valid links\u001b[0m\n",
      "\u001b[32m2024-08-13 12:36:18,193 - courlan.core - INFO - 39 links found – 29 valid links\u001b[0m\n",
      "\u001b[32m2024-08-13 12:36:18,193 - courlan.core - INFO - 39 links found – 29 valid links\u001b[0m\n",
      "\u001b[33m2024-08-13 12:36:20,848 - courlan.urlstore - WARNING - Discarding URL: /blogs/blog/understanding-the-different-types-of-tinnitus\u001b[0m\n",
      "\u001b[33m2024-08-13 12:36:20,848 - courlan.urlstore - WARNING - Discarding URL: /blogs/blog/understanding-the-different-types-of-tinnitus\u001b[0m\n",
      "\u001b[33m2024-08-13 12:36:20,848 - courlan.urlstore - WARNING - Discarding URL: /blogs/blog/understanding-the-different-types-of-tinnitus\u001b[0m\n",
      "\u001b[33m2024-08-13 12:36:20,848 - courlan.urlstore - WARNING - Discarding URL: /blogs/blog/understanding-the-different-types-of-tinnitus\u001b[0m\n",
      "\u001b[33m2024-08-13 12:36:20,848 - courlan.urlstore - WARNING - Discarding URL: /blogs/blog/understanding-the-different-types-of-tinnitus\u001b[0m\n",
      "\u001b[33m2024-08-13 12:36:20,848 - courlan.urlstore - WARNING - Discarding URL: /blogs/blog/understanding-the-different-types-of-tinnitus\u001b[0m\n",
      "\u001b[32m2024-08-13 12:36:20,858 - courlan.core - INFO - 35 links found – 29 valid links\u001b[0m\n",
      "\u001b[32m2024-08-13 12:36:20,858 - courlan.core - INFO - 35 links found – 29 valid links\u001b[0m\n",
      "\u001b[32m2024-08-13 12:36:20,858 - courlan.core - INFO - 35 links found – 29 valid links\u001b[0m\n",
      "\u001b[32m2024-08-13 12:36:20,858 - courlan.core - INFO - 35 links found – 29 valid links\u001b[0m\n",
      "\u001b[32m2024-08-13 12:36:20,858 - courlan.core - INFO - 35 links found – 29 valid links\u001b[0m\n",
      "\u001b[32m2024-08-13 12:36:20,858 - courlan.core - INFO - 35 links found – 29 valid links\u001b[0m\n",
      "\u001b[33m2024-08-13 12:36:23,425 - courlan.urlstore - WARNING - Discarding URL: /blogs/blog/what-to-do-if-youre-triggered-by-noise-blog-loop-earplugs\u001b[0m\n",
      "\u001b[33m2024-08-13 12:36:23,425 - courlan.urlstore - WARNING - Discarding URL: /blogs/blog/what-to-do-if-youre-triggered-by-noise-blog-loop-earplugs\u001b[0m\n",
      "\u001b[33m2024-08-13 12:36:23,425 - courlan.urlstore - WARNING - Discarding URL: /blogs/blog/what-to-do-if-youre-triggered-by-noise-blog-loop-earplugs\u001b[0m\n",
      "\u001b[33m2024-08-13 12:36:23,425 - courlan.urlstore - WARNING - Discarding URL: /blogs/blog/what-to-do-if-youre-triggered-by-noise-blog-loop-earplugs\u001b[0m\n",
      "\u001b[33m2024-08-13 12:36:23,425 - courlan.urlstore - WARNING - Discarding URL: /blogs/blog/what-to-do-if-youre-triggered-by-noise-blog-loop-earplugs\u001b[0m\n",
      "\u001b[33m2024-08-13 12:36:23,425 - courlan.urlstore - WARNING - Discarding URL: /blogs/blog/what-to-do-if-youre-triggered-by-noise-blog-loop-earplugs\u001b[0m\n",
      "\u001b[32m2024-08-13 12:36:23,436 - courlan.core - INFO - 60 links found – 52 valid links\u001b[0m\n",
      "\u001b[32m2024-08-13 12:36:23,436 - courlan.core - INFO - 60 links found – 52 valid links\u001b[0m\n",
      "\u001b[32m2024-08-13 12:36:23,436 - courlan.core - INFO - 60 links found – 52 valid links\u001b[0m\n",
      "\u001b[32m2024-08-13 12:36:23,436 - courlan.core - INFO - 60 links found – 52 valid links\u001b[0m\n",
      "\u001b[32m2024-08-13 12:36:23,436 - courlan.core - INFO - 60 links found – 52 valid links\u001b[0m\n",
      "\u001b[32m2024-08-13 12:36:23,436 - courlan.core - INFO - 60 links found – 52 valid links\u001b[0m\n",
      "\u001b[33m2024-08-13 12:36:25,790 - courlan.urlstore - WARNING - Discarding URL: /blogs/blog/your-questions-answered\u001b[0m\n",
      "\u001b[33m2024-08-13 12:36:25,790 - courlan.urlstore - WARNING - Discarding URL: /blogs/blog/your-questions-answered\u001b[0m\n",
      "\u001b[33m2024-08-13 12:36:25,790 - courlan.urlstore - WARNING - Discarding URL: /blogs/blog/your-questions-answered\u001b[0m\n",
      "\u001b[33m2024-08-13 12:36:25,790 - courlan.urlstore - WARNING - Discarding URL: /blogs/blog/your-questions-answered\u001b[0m\n",
      "\u001b[33m2024-08-13 12:36:25,790 - courlan.urlstore - WARNING - Discarding URL: /blogs/blog/your-questions-answered\u001b[0m\n",
      "\u001b[33m2024-08-13 12:36:25,790 - courlan.urlstore - WARNING - Discarding URL: /blogs/blog/your-questions-answered\u001b[0m\n",
      "\u001b[32m2024-08-13 12:36:25,799 - courlan.core - INFO - 32 links found – 28 valid links\u001b[0m\n",
      "\u001b[32m2024-08-13 12:36:25,799 - courlan.core - INFO - 32 links found – 28 valid links\u001b[0m\n",
      "\u001b[32m2024-08-13 12:36:25,799 - courlan.core - INFO - 32 links found – 28 valid links\u001b[0m\n",
      "\u001b[32m2024-08-13 12:36:25,799 - courlan.core - INFO - 32 links found – 28 valid links\u001b[0m\n",
      "\u001b[32m2024-08-13 12:36:25,799 - courlan.core - INFO - 32 links found – 28 valid links\u001b[0m\n",
      "\u001b[32m2024-08-13 12:36:25,799 - courlan.core - INFO - 32 links found – 28 valid links\u001b[0m\n",
      "\u001b[33m2024-08-13 12:36:28,033 - courlan.urlstore - WARNING - Discarding URL: /blogs/blog/top-tips-for-flying-with-children-essential-advice-for-stress-free-travel\u001b[0m\n",
      "\u001b[33m2024-08-13 12:36:28,033 - courlan.urlstore - WARNING - Discarding URL: /blogs/blog/top-tips-for-flying-with-children-essential-advice-for-stress-free-travel\u001b[0m\n",
      "\u001b[33m2024-08-13 12:36:28,033 - courlan.urlstore - WARNING - Discarding URL: /blogs/blog/top-tips-for-flying-with-children-essential-advice-for-stress-free-travel\u001b[0m\n",
      "\u001b[33m2024-08-13 12:36:28,033 - courlan.urlstore - WARNING - Discarding URL: /blogs/blog/top-tips-for-flying-with-children-essential-advice-for-stress-free-travel\u001b[0m\n",
      "\u001b[33m2024-08-13 12:36:28,033 - courlan.urlstore - WARNING - Discarding URL: /blogs/blog/top-tips-for-flying-with-children-essential-advice-for-stress-free-travel\u001b[0m\n",
      "\u001b[33m2024-08-13 12:36:28,033 - courlan.urlstore - WARNING - Discarding URL: /blogs/blog/top-tips-for-flying-with-children-essential-advice-for-stress-free-travel\u001b[0m\n",
      "\u001b[32m2024-08-13 12:36:28,042 - courlan.core - INFO - 33 links found – 29 valid links\u001b[0m\n",
      "\u001b[32m2024-08-13 12:36:28,042 - courlan.core - INFO - 33 links found – 29 valid links\u001b[0m\n",
      "\u001b[32m2024-08-13 12:36:28,042 - courlan.core - INFO - 33 links found – 29 valid links\u001b[0m\n",
      "\u001b[32m2024-08-13 12:36:28,042 - courlan.core - INFO - 33 links found – 29 valid links\u001b[0m\n",
      "\u001b[32m2024-08-13 12:36:28,042 - courlan.core - INFO - 33 links found – 29 valid links\u001b[0m\n",
      "\u001b[32m2024-08-13 12:36:28,042 - courlan.core - INFO - 33 links found – 29 valid links\u001b[0m\n",
      "\u001b[33m2024-08-13 12:36:30,395 - courlan.urlstore - WARNING - Discarding URL: /blogs/blog/how-to-survive-your-first-festival-our-music-festival-guide-for-beginners\u001b[0m\n",
      "\u001b[33m2024-08-13 12:36:30,395 - courlan.urlstore - WARNING - Discarding URL: /blogs/blog/how-to-survive-your-first-festival-our-music-festival-guide-for-beginners\u001b[0m\n",
      "\u001b[33m2024-08-13 12:36:30,395 - courlan.urlstore - WARNING - Discarding URL: /blogs/blog/how-to-survive-your-first-festival-our-music-festival-guide-for-beginners\u001b[0m\n",
      "\u001b[33m2024-08-13 12:36:30,395 - courlan.urlstore - WARNING - Discarding URL: /blogs/blog/how-to-survive-your-first-festival-our-music-festival-guide-for-beginners\u001b[0m\n",
      "\u001b[33m2024-08-13 12:36:30,395 - courlan.urlstore - WARNING - Discarding URL: /blogs/blog/how-to-survive-your-first-festival-our-music-festival-guide-for-beginners\u001b[0m\n",
      "\u001b[33m2024-08-13 12:36:30,395 - courlan.urlstore - WARNING - Discarding URL: /blogs/blog/how-to-survive-your-first-festival-our-music-festival-guide-for-beginners\u001b[0m\n",
      "\u001b[32m2024-08-13 12:36:30,401 - courlan.core - INFO - 41 links found – 30 valid links\u001b[0m\n",
      "\u001b[32m2024-08-13 12:36:30,401 - courlan.core - INFO - 41 links found – 30 valid links\u001b[0m\n",
      "\u001b[32m2024-08-13 12:36:30,401 - courlan.core - INFO - 41 links found – 30 valid links\u001b[0m\n",
      "\u001b[32m2024-08-13 12:36:30,401 - courlan.core - INFO - 41 links found – 30 valid links\u001b[0m\n",
      "\u001b[32m2024-08-13 12:36:30,401 - courlan.core - INFO - 41 links found – 30 valid links\u001b[0m\n",
      "\u001b[32m2024-08-13 12:36:30,401 - courlan.core - INFO - 41 links found – 30 valid links\u001b[0m\n",
      "\u001b[33m2024-08-13 12:36:32,791 - courlan.urlstore - WARNING - Discarding URL: /blogs/life-at-loop/working-at-loop-the-good-the-bad-and-the-ugly\u001b[0m\n",
      "\u001b[33m2024-08-13 12:36:32,791 - courlan.urlstore - WARNING - Discarding URL: /blogs/life-at-loop/working-at-loop-the-good-the-bad-and-the-ugly\u001b[0m\n",
      "\u001b[33m2024-08-13 12:36:32,791 - courlan.urlstore - WARNING - Discarding URL: /blogs/life-at-loop/working-at-loop-the-good-the-bad-and-the-ugly\u001b[0m\n",
      "\u001b[33m2024-08-13 12:36:32,791 - courlan.urlstore - WARNING - Discarding URL: /blogs/life-at-loop/working-at-loop-the-good-the-bad-and-the-ugly\u001b[0m\n",
      "\u001b[33m2024-08-13 12:36:32,791 - courlan.urlstore - WARNING - Discarding URL: /blogs/life-at-loop/working-at-loop-the-good-the-bad-and-the-ugly\u001b[0m\n",
      "\u001b[33m2024-08-13 12:36:32,791 - courlan.urlstore - WARNING - Discarding URL: /blogs/life-at-loop/working-at-loop-the-good-the-bad-and-the-ugly\u001b[0m\n",
      "\u001b[32m2024-08-13 12:36:32,799 - courlan.core - INFO - 30 links found – 26 valid links\u001b[0m\n",
      "\u001b[32m2024-08-13 12:36:32,799 - courlan.core - INFO - 30 links found – 26 valid links\u001b[0m\n",
      "\u001b[32m2024-08-13 12:36:32,799 - courlan.core - INFO - 30 links found – 26 valid links\u001b[0m\n",
      "\u001b[32m2024-08-13 12:36:32,799 - courlan.core - INFO - 30 links found – 26 valid links\u001b[0m\n",
      "\u001b[32m2024-08-13 12:36:32,799 - courlan.core - INFO - 30 links found – 26 valid links\u001b[0m\n",
      "\u001b[32m2024-08-13 12:36:32,799 - courlan.core - INFO - 30 links found – 26 valid links\u001b[0m\n",
      "\u001b[33m2024-08-13 12:36:35,684 - courlan.urlstore - WARNING - Discarding URL: /blogs/blog/stop-ringing-ears\u001b[0m\n",
      "\u001b[33m2024-08-13 12:36:35,684 - courlan.urlstore - WARNING - Discarding URL: /blogs/blog/stop-ringing-ears\u001b[0m\n",
      "\u001b[33m2024-08-13 12:36:35,684 - courlan.urlstore - WARNING - Discarding URL: /blogs/blog/stop-ringing-ears\u001b[0m\n",
      "\u001b[33m2024-08-13 12:36:35,684 - courlan.urlstore - WARNING - Discarding URL: /blogs/blog/stop-ringing-ears\u001b[0m\n",
      "\u001b[33m2024-08-13 12:36:35,684 - courlan.urlstore - WARNING - Discarding URL: /blogs/blog/stop-ringing-ears\u001b[0m\n",
      "\u001b[33m2024-08-13 12:36:35,684 - courlan.urlstore - WARNING - Discarding URL: /blogs/blog/stop-ringing-ears\u001b[0m\n",
      "\u001b[32m2024-08-13 12:36:35,698 - courlan.core - INFO - 77 links found – 57 valid links\u001b[0m\n",
      "\u001b[32m2024-08-13 12:36:35,698 - courlan.core - INFO - 77 links found – 57 valid links\u001b[0m\n",
      "\u001b[32m2024-08-13 12:36:35,698 - courlan.core - INFO - 77 links found – 57 valid links\u001b[0m\n",
      "\u001b[32m2024-08-13 12:36:35,698 - courlan.core - INFO - 77 links found – 57 valid links\u001b[0m\n",
      "\u001b[32m2024-08-13 12:36:35,698 - courlan.core - INFO - 77 links found – 57 valid links\u001b[0m\n",
      "\u001b[32m2024-08-13 12:36:35,698 - courlan.core - INFO - 77 links found – 57 valid links\u001b[0m\n",
      "\u001b[33m2024-08-13 12:36:38,295 - courlan.urlstore - WARNING - Discarding URL: /blogs/blog/how-to-sleep-on-a-plane\u001b[0m\n",
      "\u001b[33m2024-08-13 12:36:38,295 - courlan.urlstore - WARNING - Discarding URL: /blogs/blog/how-to-sleep-on-a-plane\u001b[0m\n",
      "\u001b[33m2024-08-13 12:36:38,295 - courlan.urlstore - WARNING - Discarding URL: /blogs/blog/how-to-sleep-on-a-plane\u001b[0m\n",
      "\u001b[33m2024-08-13 12:36:38,295 - courlan.urlstore - WARNING - Discarding URL: /blogs/blog/how-to-sleep-on-a-plane\u001b[0m\n",
      "\u001b[33m2024-08-13 12:36:38,295 - courlan.urlstore - WARNING - Discarding URL: /blogs/blog/how-to-sleep-on-a-plane\u001b[0m\n",
      "\u001b[33m2024-08-13 12:36:38,295 - courlan.urlstore - WARNING - Discarding URL: /blogs/blog/how-to-sleep-on-a-plane\u001b[0m\n",
      "\u001b[32m2024-08-13 12:36:38,305 - courlan.core - INFO - 37 links found – 30 valid links\u001b[0m\n",
      "\u001b[32m2024-08-13 12:36:38,305 - courlan.core - INFO - 37 links found – 30 valid links\u001b[0m\n",
      "\u001b[32m2024-08-13 12:36:38,305 - courlan.core - INFO - 37 links found – 30 valid links\u001b[0m\n",
      "\u001b[32m2024-08-13 12:36:38,305 - courlan.core - INFO - 37 links found – 30 valid links\u001b[0m\n",
      "\u001b[32m2024-08-13 12:36:38,305 - courlan.core - INFO - 37 links found – 30 valid links\u001b[0m\n",
      "\u001b[32m2024-08-13 12:36:38,305 - courlan.core - INFO - 37 links found – 30 valid links\u001b[0m\n",
      "\u001b[33m2024-08-13 12:36:40,781 - courlan.urlstore - WARNING - Discarding URL: /blogs/blog/protect-your-ears-when-riding-a-motorcycle\u001b[0m\n",
      "\u001b[33m2024-08-13 12:36:40,781 - courlan.urlstore - WARNING - Discarding URL: /blogs/blog/protect-your-ears-when-riding-a-motorcycle\u001b[0m\n",
      "\u001b[33m2024-08-13 12:36:40,781 - courlan.urlstore - WARNING - Discarding URL: /blogs/blog/protect-your-ears-when-riding-a-motorcycle\u001b[0m\n",
      "\u001b[33m2024-08-13 12:36:40,781 - courlan.urlstore - WARNING - Discarding URL: /blogs/blog/protect-your-ears-when-riding-a-motorcycle\u001b[0m\n",
      "\u001b[33m2024-08-13 12:36:40,781 - courlan.urlstore - WARNING - Discarding URL: /blogs/blog/protect-your-ears-when-riding-a-motorcycle\u001b[0m\n",
      "\u001b[33m2024-08-13 12:36:40,781 - courlan.urlstore - WARNING - Discarding URL: /blogs/blog/protect-your-ears-when-riding-a-motorcycle\u001b[0m\n",
      "\u001b[32m2024-08-13 12:36:40,790 - courlan.core - INFO - 40 links found – 37 valid links\u001b[0m\n",
      "\u001b[32m2024-08-13 12:36:40,790 - courlan.core - INFO - 40 links found – 37 valid links\u001b[0m\n",
      "\u001b[32m2024-08-13 12:36:40,790 - courlan.core - INFO - 40 links found – 37 valid links\u001b[0m\n",
      "\u001b[32m2024-08-13 12:36:40,790 - courlan.core - INFO - 40 links found – 37 valid links\u001b[0m\n",
      "\u001b[32m2024-08-13 12:36:40,790 - courlan.core - INFO - 40 links found – 37 valid links\u001b[0m\n",
      "\u001b[32m2024-08-13 12:36:40,790 - courlan.core - INFO - 40 links found – 37 valid links\u001b[0m\n",
      "\u001b[33m2024-08-13 12:36:43,080 - courlan.urlstore - WARNING - Discarding URL: /blogs/blog/what-is-misophonia\u001b[0m\n",
      "\u001b[33m2024-08-13 12:36:43,080 - courlan.urlstore - WARNING - Discarding URL: /blogs/blog/what-is-misophonia\u001b[0m\n",
      "\u001b[33m2024-08-13 12:36:43,080 - courlan.urlstore - WARNING - Discarding URL: /blogs/blog/what-is-misophonia\u001b[0m\n",
      "\u001b[33m2024-08-13 12:36:43,080 - courlan.urlstore - WARNING - Discarding URL: /blogs/blog/what-is-misophonia\u001b[0m\n",
      "\u001b[33m2024-08-13 12:36:43,080 - courlan.urlstore - WARNING - Discarding URL: /blogs/blog/what-is-misophonia\u001b[0m\n",
      "\u001b[33m2024-08-13 12:36:43,080 - courlan.urlstore - WARNING - Discarding URL: /blogs/blog/what-is-misophonia\u001b[0m\n",
      "\u001b[32m2024-08-13 12:36:43,090 - courlan.core - INFO - 42 links found – 32 valid links\u001b[0m\n",
      "\u001b[32m2024-08-13 12:36:43,090 - courlan.core - INFO - 42 links found – 32 valid links\u001b[0m\n",
      "\u001b[32m2024-08-13 12:36:43,090 - courlan.core - INFO - 42 links found – 32 valid links\u001b[0m\n",
      "\u001b[32m2024-08-13 12:36:43,090 - courlan.core - INFO - 42 links found – 32 valid links\u001b[0m\n",
      "\u001b[32m2024-08-13 12:36:43,090 - courlan.core - INFO - 42 links found – 32 valid links\u001b[0m\n",
      "\u001b[32m2024-08-13 12:36:43,090 - courlan.core - INFO - 42 links found – 32 valid links\u001b[0m\n",
      "\u001b[33m2024-08-13 12:36:45,569 - courlan.urlstore - WARNING - Discarding URL: /blogs/life-at-loop/meet-our-customer-happiness-team\u001b[0m\n",
      "\u001b[33m2024-08-13 12:36:45,569 - courlan.urlstore - WARNING - Discarding URL: /blogs/life-at-loop/meet-our-customer-happiness-team\u001b[0m\n",
      "\u001b[33m2024-08-13 12:36:45,569 - courlan.urlstore - WARNING - Discarding URL: /blogs/life-at-loop/meet-our-customer-happiness-team\u001b[0m\n",
      "\u001b[33m2024-08-13 12:36:45,569 - courlan.urlstore - WARNING - Discarding URL: /blogs/life-at-loop/meet-our-customer-happiness-team\u001b[0m\n",
      "\u001b[33m2024-08-13 12:36:45,569 - courlan.urlstore - WARNING - Discarding URL: /blogs/life-at-loop/meet-our-customer-happiness-team\u001b[0m\n",
      "\u001b[33m2024-08-13 12:36:45,569 - courlan.urlstore - WARNING - Discarding URL: /blogs/life-at-loop/meet-our-customer-happiness-team\u001b[0m\n",
      "\u001b[32m2024-08-13 12:36:45,578 - courlan.core - INFO - 29 links found – 26 valid links\u001b[0m\n",
      "\u001b[32m2024-08-13 12:36:45,578 - courlan.core - INFO - 29 links found – 26 valid links\u001b[0m\n",
      "\u001b[32m2024-08-13 12:36:45,578 - courlan.core - INFO - 29 links found – 26 valid links\u001b[0m\n",
      "\u001b[32m2024-08-13 12:36:45,578 - courlan.core - INFO - 29 links found – 26 valid links\u001b[0m\n",
      "\u001b[32m2024-08-13 12:36:45,578 - courlan.core - INFO - 29 links found – 26 valid links\u001b[0m\n",
      "\u001b[32m2024-08-13 12:36:45,578 - courlan.core - INFO - 29 links found – 26 valid links\u001b[0m\n",
      "\u001b[33m2024-08-13 12:36:47,992 - courlan.urlstore - WARNING - Discarding URL: /blogs/blog/introducing-engage-and-experience-2\u001b[0m\n",
      "\u001b[33m2024-08-13 12:36:47,992 - courlan.urlstore - WARNING - Discarding URL: /blogs/blog/introducing-engage-and-experience-2\u001b[0m\n",
      "\u001b[33m2024-08-13 12:36:47,992 - courlan.urlstore - WARNING - Discarding URL: /blogs/blog/introducing-engage-and-experience-2\u001b[0m\n",
      "\u001b[33m2024-08-13 12:36:47,992 - courlan.urlstore - WARNING - Discarding URL: /blogs/blog/introducing-engage-and-experience-2\u001b[0m\n",
      "\u001b[33m2024-08-13 12:36:47,992 - courlan.urlstore - WARNING - Discarding URL: /blogs/blog/introducing-engage-and-experience-2\u001b[0m\n",
      "\u001b[33m2024-08-13 12:36:47,992 - courlan.urlstore - WARNING - Discarding URL: /blogs/blog/introducing-engage-and-experience-2\u001b[0m\n",
      "\u001b[32m2024-08-13 12:36:48,002 - courlan.core - INFO - 33 links found – 29 valid links\u001b[0m\n",
      "\u001b[32m2024-08-13 12:36:48,002 - courlan.core - INFO - 33 links found – 29 valid links\u001b[0m\n",
      "\u001b[32m2024-08-13 12:36:48,002 - courlan.core - INFO - 33 links found – 29 valid links\u001b[0m\n",
      "\u001b[32m2024-08-13 12:36:48,002 - courlan.core - INFO - 33 links found – 29 valid links\u001b[0m\n",
      "\u001b[32m2024-08-13 12:36:48,002 - courlan.core - INFO - 33 links found – 29 valid links\u001b[0m\n",
      "\u001b[32m2024-08-13 12:36:48,002 - courlan.core - INFO - 33 links found – 29 valid links\u001b[0m\n",
      "\u001b[33m2024-08-13 12:36:50,672 - courlan.urlstore - WARNING - Discarding URL: /blogs/blog/noise-disturbances\u001b[0m\n",
      "\u001b[33m2024-08-13 12:36:50,672 - courlan.urlstore - WARNING - Discarding URL: /blogs/blog/noise-disturbances\u001b[0m\n",
      "\u001b[33m2024-08-13 12:36:50,672 - courlan.urlstore - WARNING - Discarding URL: /blogs/blog/noise-disturbances\u001b[0m\n",
      "\u001b[33m2024-08-13 12:36:50,672 - courlan.urlstore - WARNING - Discarding URL: /blogs/blog/noise-disturbances\u001b[0m\n",
      "\u001b[33m2024-08-13 12:36:50,672 - courlan.urlstore - WARNING - Discarding URL: /blogs/blog/noise-disturbances\u001b[0m\n",
      "\u001b[33m2024-08-13 12:36:50,672 - courlan.urlstore - WARNING - Discarding URL: /blogs/blog/noise-disturbances\u001b[0m\n",
      "\u001b[32m2024-08-13 12:36:50,684 - courlan.core - INFO - 67 links found – 56 valid links\u001b[0m\n",
      "\u001b[32m2024-08-13 12:36:50,684 - courlan.core - INFO - 67 links found – 56 valid links\u001b[0m\n",
      "\u001b[32m2024-08-13 12:36:50,684 - courlan.core - INFO - 67 links found – 56 valid links\u001b[0m\n",
      "\u001b[32m2024-08-13 12:36:50,684 - courlan.core - INFO - 67 links found – 56 valid links\u001b[0m\n",
      "\u001b[32m2024-08-13 12:36:50,684 - courlan.core - INFO - 67 links found – 56 valid links\u001b[0m\n",
      "\u001b[32m2024-08-13 12:36:50,684 - courlan.core - INFO - 67 links found – 56 valid links\u001b[0m\n",
      "\u001b[33m2024-08-13 12:36:52,759 - courlan.urlstore - WARNING - Discarding URL: /blogs/blog/7-of-the-loudest-sounds-that-shook-the-world\u001b[0m\n",
      "\u001b[33m2024-08-13 12:36:52,759 - courlan.urlstore - WARNING - Discarding URL: /blogs/blog/7-of-the-loudest-sounds-that-shook-the-world\u001b[0m\n",
      "\u001b[33m2024-08-13 12:36:52,759 - courlan.urlstore - WARNING - Discarding URL: /blogs/blog/7-of-the-loudest-sounds-that-shook-the-world\u001b[0m\n",
      "\u001b[33m2024-08-13 12:36:52,759 - courlan.urlstore - WARNING - Discarding URL: /blogs/blog/7-of-the-loudest-sounds-that-shook-the-world\u001b[0m\n",
      "\u001b[33m2024-08-13 12:36:52,759 - courlan.urlstore - WARNING - Discarding URL: /blogs/blog/7-of-the-loudest-sounds-that-shook-the-world\u001b[0m\n",
      "\u001b[33m2024-08-13 12:36:52,759 - courlan.urlstore - WARNING - Discarding URL: /blogs/blog/7-of-the-loudest-sounds-that-shook-the-world\u001b[0m\n",
      "\u001b[32m2024-08-13 12:36:52,769 - courlan.core - INFO - 29 links found – 26 valid links\u001b[0m\n",
      "\u001b[32m2024-08-13 12:36:52,769 - courlan.core - INFO - 29 links found – 26 valid links\u001b[0m\n",
      "\u001b[32m2024-08-13 12:36:52,769 - courlan.core - INFO - 29 links found – 26 valid links\u001b[0m\n",
      "\u001b[32m2024-08-13 12:36:52,769 - courlan.core - INFO - 29 links found – 26 valid links\u001b[0m\n",
      "\u001b[32m2024-08-13 12:36:52,769 - courlan.core - INFO - 29 links found – 26 valid links\u001b[0m\n",
      "\u001b[32m2024-08-13 12:36:52,769 - courlan.core - INFO - 29 links found – 26 valid links\u001b[0m\n",
      "\u001b[33m2024-08-13 12:36:55,177 - courlan.urlstore - WARNING - Discarding URL: /blogs/blog/travel\u001b[0m\n",
      "\u001b[33m2024-08-13 12:36:55,177 - courlan.urlstore - WARNING - Discarding URL: /blogs/blog/travel\u001b[0m\n",
      "\u001b[33m2024-08-13 12:36:55,177 - courlan.urlstore - WARNING - Discarding URL: /blogs/blog/travel\u001b[0m\n",
      "\u001b[33m2024-08-13 12:36:55,177 - courlan.urlstore - WARNING - Discarding URL: /blogs/blog/travel\u001b[0m\n",
      "\u001b[33m2024-08-13 12:36:55,177 - courlan.urlstore - WARNING - Discarding URL: /blogs/blog/travel\u001b[0m\n",
      "\u001b[33m2024-08-13 12:36:55,177 - courlan.urlstore - WARNING - Discarding URL: /blogs/blog/travel\u001b[0m\n",
      "\u001b[32m2024-08-13 12:36:55,187 - courlan.core - INFO - 37 links found – 32 valid links\u001b[0m\n",
      "\u001b[32m2024-08-13 12:36:55,187 - courlan.core - INFO - 37 links found – 32 valid links\u001b[0m\n",
      "\u001b[32m2024-08-13 12:36:55,187 - courlan.core - INFO - 37 links found – 32 valid links\u001b[0m\n",
      "\u001b[32m2024-08-13 12:36:55,187 - courlan.core - INFO - 37 links found – 32 valid links\u001b[0m\n",
      "\u001b[32m2024-08-13 12:36:55,187 - courlan.core - INFO - 37 links found – 32 valid links\u001b[0m\n",
      "\u001b[32m2024-08-13 12:36:55,187 - courlan.core - INFO - 37 links found – 32 valid links\u001b[0m\n",
      "\u001b[33m2024-08-13 12:36:57,633 - courlan.urlstore - WARNING - Discarding URL: /blogs/blog/gift-guide-for-the-new-year\u001b[0m\n",
      "\u001b[33m2024-08-13 12:36:57,633 - courlan.urlstore - WARNING - Discarding URL: /blogs/blog/gift-guide-for-the-new-year\u001b[0m\n",
      "\u001b[33m2024-08-13 12:36:57,633 - courlan.urlstore - WARNING - Discarding URL: /blogs/blog/gift-guide-for-the-new-year\u001b[0m\n",
      "\u001b[33m2024-08-13 12:36:57,633 - courlan.urlstore - WARNING - Discarding URL: /blogs/blog/gift-guide-for-the-new-year\u001b[0m\n",
      "\u001b[33m2024-08-13 12:36:57,633 - courlan.urlstore - WARNING - Discarding URL: /blogs/blog/gift-guide-for-the-new-year\u001b[0m\n",
      "\u001b[33m2024-08-13 12:36:57,633 - courlan.urlstore - WARNING - Discarding URL: /blogs/blog/gift-guide-for-the-new-year\u001b[0m\n",
      "\u001b[32m2024-08-13 12:36:57,645 - courlan.core - INFO - 34 links found – 29 valid links\u001b[0m\n",
      "\u001b[32m2024-08-13 12:36:57,645 - courlan.core - INFO - 34 links found – 29 valid links\u001b[0m\n",
      "\u001b[32m2024-08-13 12:36:57,645 - courlan.core - INFO - 34 links found – 29 valid links\u001b[0m\n",
      "\u001b[32m2024-08-13 12:36:57,645 - courlan.core - INFO - 34 links found – 29 valid links\u001b[0m\n",
      "\u001b[32m2024-08-13 12:36:57,645 - courlan.core - INFO - 34 links found – 29 valid links\u001b[0m\n",
      "\u001b[32m2024-08-13 12:36:57,645 - courlan.core - INFO - 34 links found – 29 valid links\u001b[0m\n",
      "\u001b[33m2024-08-13 12:36:59,833 - courlan.urlstore - WARNING - Discarding URL: /blogs/life-at-loop/walk-talk-with-stijn\u001b[0m\n",
      "\u001b[33m2024-08-13 12:36:59,833 - courlan.urlstore - WARNING - Discarding URL: /blogs/life-at-loop/walk-talk-with-stijn\u001b[0m\n",
      "\u001b[33m2024-08-13 12:36:59,833 - courlan.urlstore - WARNING - Discarding URL: /blogs/life-at-loop/walk-talk-with-stijn\u001b[0m\n",
      "\u001b[33m2024-08-13 12:36:59,833 - courlan.urlstore - WARNING - Discarding URL: /blogs/life-at-loop/walk-talk-with-stijn\u001b[0m\n",
      "\u001b[33m2024-08-13 12:36:59,833 - courlan.urlstore - WARNING - Discarding URL: /blogs/life-at-loop/walk-talk-with-stijn\u001b[0m\n",
      "\u001b[33m2024-08-13 12:36:59,833 - courlan.urlstore - WARNING - Discarding URL: /blogs/life-at-loop/walk-talk-with-stijn\u001b[0m\n",
      "\u001b[32m2024-08-13 12:36:59,844 - courlan.core - INFO - 29 links found – 26 valid links\u001b[0m\n",
      "\u001b[32m2024-08-13 12:36:59,844 - courlan.core - INFO - 29 links found – 26 valid links\u001b[0m\n",
      "\u001b[32m2024-08-13 12:36:59,844 - courlan.core - INFO - 29 links found – 26 valid links\u001b[0m\n",
      "\u001b[32m2024-08-13 12:36:59,844 - courlan.core - INFO - 29 links found – 26 valid links\u001b[0m\n",
      "\u001b[32m2024-08-13 12:36:59,844 - courlan.core - INFO - 29 links found – 26 valid links\u001b[0m\n",
      "\u001b[32m2024-08-13 12:36:59,844 - courlan.core - INFO - 29 links found – 26 valid links\u001b[0m\n",
      "\u001b[33m2024-08-13 12:37:02,361 - courlan.urlstore - WARNING - Discarding URL: /blogs/blog/relationship-between-noise-and-concentration\u001b[0m\n",
      "\u001b[33m2024-08-13 12:37:02,361 - courlan.urlstore - WARNING - Discarding URL: /blogs/blog/relationship-between-noise-and-concentration\u001b[0m\n",
      "\u001b[33m2024-08-13 12:37:02,361 - courlan.urlstore - WARNING - Discarding URL: /blogs/blog/relationship-between-noise-and-concentration\u001b[0m\n",
      "\u001b[33m2024-08-13 12:37:02,361 - courlan.urlstore - WARNING - Discarding URL: /blogs/blog/relationship-between-noise-and-concentration\u001b[0m\n",
      "\u001b[33m2024-08-13 12:37:02,361 - courlan.urlstore - WARNING - Discarding URL: /blogs/blog/relationship-between-noise-and-concentration\u001b[0m\n",
      "\u001b[33m2024-08-13 12:37:02,361 - courlan.urlstore - WARNING - Discarding URL: /blogs/blog/relationship-between-noise-and-concentration\u001b[0m\n",
      "\u001b[32m2024-08-13 12:37:02,371 - courlan.core - INFO - 45 links found – 32 valid links\u001b[0m\n",
      "\u001b[32m2024-08-13 12:37:02,371 - courlan.core - INFO - 45 links found – 32 valid links\u001b[0m\n",
      "\u001b[32m2024-08-13 12:37:02,371 - courlan.core - INFO - 45 links found – 32 valid links\u001b[0m\n",
      "\u001b[32m2024-08-13 12:37:02,371 - courlan.core - INFO - 45 links found – 32 valid links\u001b[0m\n",
      "\u001b[32m2024-08-13 12:37:02,371 - courlan.core - INFO - 45 links found – 32 valid links\u001b[0m\n",
      "\u001b[32m2024-08-13 12:37:02,371 - courlan.core - INFO - 45 links found – 32 valid links\u001b[0m\n",
      "\u001b[33m2024-08-13 12:37:04,810 - courlan.urlstore - WARNING - Discarding URL: /blogs/press/la-startup-loop-combine-la-technologie-de-pointe-avec-un-design-unique-dans-ses-nouveaux-bouchons-d-oreilles-pour-la-vie-nocturne\u001b[0m\n",
      "\u001b[33m2024-08-13 12:37:04,810 - courlan.urlstore - WARNING - Discarding URL: /blogs/press/la-startup-loop-combine-la-technologie-de-pointe-avec-un-design-unique-dans-ses-nouveaux-bouchons-d-oreilles-pour-la-vie-nocturne\u001b[0m\n",
      "\u001b[33m2024-08-13 12:37:04,810 - courlan.urlstore - WARNING - Discarding URL: /blogs/press/la-startup-loop-combine-la-technologie-de-pointe-avec-un-design-unique-dans-ses-nouveaux-bouchons-d-oreilles-pour-la-vie-nocturne\u001b[0m\n",
      "\u001b[33m2024-08-13 12:37:04,810 - courlan.urlstore - WARNING - Discarding URL: /blogs/press/la-startup-loop-combine-la-technologie-de-pointe-avec-un-design-unique-dans-ses-nouveaux-bouchons-d-oreilles-pour-la-vie-nocturne\u001b[0m\n",
      "\u001b[33m2024-08-13 12:37:04,810 - courlan.urlstore - WARNING - Discarding URL: /blogs/press/la-startup-loop-combine-la-technologie-de-pointe-avec-un-design-unique-dans-ses-nouveaux-bouchons-d-oreilles-pour-la-vie-nocturne\u001b[0m\n",
      "\u001b[33m2024-08-13 12:37:04,810 - courlan.urlstore - WARNING - Discarding URL: /blogs/press/la-startup-loop-combine-la-technologie-de-pointe-avec-un-design-unique-dans-ses-nouveaux-bouchons-d-oreilles-pour-la-vie-nocturne\u001b[0m\n",
      "\u001b[32m2024-08-13 12:37:04,820 - courlan.core - INFO - 31 links found – 25 valid links\u001b[0m\n",
      "\u001b[32m2024-08-13 12:37:04,820 - courlan.core - INFO - 31 links found – 25 valid links\u001b[0m\n",
      "\u001b[32m2024-08-13 12:37:04,820 - courlan.core - INFO - 31 links found – 25 valid links\u001b[0m\n",
      "\u001b[32m2024-08-13 12:37:04,820 - courlan.core - INFO - 31 links found – 25 valid links\u001b[0m\n",
      "\u001b[32m2024-08-13 12:37:04,820 - courlan.core - INFO - 31 links found – 25 valid links\u001b[0m\n",
      "\u001b[32m2024-08-13 12:37:04,820 - courlan.core - INFO - 31 links found – 25 valid links\u001b[0m\n",
      "\u001b[33m2024-08-13 12:37:06,942 - courlan.urlstore - WARNING - Discarding URL: /blogs/life-at-loop/the-loop-earplugs-product-vision\u001b[0m\n",
      "\u001b[33m2024-08-13 12:37:06,942 - courlan.urlstore - WARNING - Discarding URL: /blogs/life-at-loop/the-loop-earplugs-product-vision\u001b[0m\n",
      "\u001b[33m2024-08-13 12:37:06,942 - courlan.urlstore - WARNING - Discarding URL: /blogs/life-at-loop/the-loop-earplugs-product-vision\u001b[0m\n",
      "\u001b[33m2024-08-13 12:37:06,942 - courlan.urlstore - WARNING - Discarding URL: /blogs/life-at-loop/the-loop-earplugs-product-vision\u001b[0m\n",
      "\u001b[33m2024-08-13 12:37:06,942 - courlan.urlstore - WARNING - Discarding URL: /blogs/life-at-loop/the-loop-earplugs-product-vision\u001b[0m\n",
      "\u001b[33m2024-08-13 12:37:06,942 - courlan.urlstore - WARNING - Discarding URL: /blogs/life-at-loop/the-loop-earplugs-product-vision\u001b[0m\n",
      "\u001b[32m2024-08-13 12:37:06,951 - courlan.core - INFO - 29 links found – 26 valid links\u001b[0m\n",
      "\u001b[32m2024-08-13 12:37:06,951 - courlan.core - INFO - 29 links found – 26 valid links\u001b[0m\n",
      "\u001b[32m2024-08-13 12:37:06,951 - courlan.core - INFO - 29 links found – 26 valid links\u001b[0m\n",
      "\u001b[32m2024-08-13 12:37:06,951 - courlan.core - INFO - 29 links found – 26 valid links\u001b[0m\n",
      "\u001b[32m2024-08-13 12:37:06,951 - courlan.core - INFO - 29 links found – 26 valid links\u001b[0m\n",
      "\u001b[32m2024-08-13 12:37:06,951 - courlan.core - INFO - 29 links found – 26 valid links\u001b[0m\n",
      "\u001b[33m2024-08-13 12:37:09,540 - courlan.urlstore - WARNING - Discarding URL: /blogs/blog/hearing-damage-online-test\u001b[0m\n",
      "\u001b[33m2024-08-13 12:37:09,540 - courlan.urlstore - WARNING - Discarding URL: /blogs/blog/hearing-damage-online-test\u001b[0m\n",
      "\u001b[33m2024-08-13 12:37:09,540 - courlan.urlstore - WARNING - Discarding URL: /blogs/blog/hearing-damage-online-test\u001b[0m\n",
      "\u001b[33m2024-08-13 12:37:09,540 - courlan.urlstore - WARNING - Discarding URL: /blogs/blog/hearing-damage-online-test\u001b[0m\n",
      "\u001b[33m2024-08-13 12:37:09,540 - courlan.urlstore - WARNING - Discarding URL: /blogs/blog/hearing-damage-online-test\u001b[0m\n",
      "\u001b[33m2024-08-13 12:37:09,540 - courlan.urlstore - WARNING - Discarding URL: /blogs/blog/hearing-damage-online-test\u001b[0m\n",
      "\u001b[32m2024-08-13 12:37:09,549 - courlan.core - INFO - 33 links found – 28 valid links\u001b[0m\n",
      "\u001b[32m2024-08-13 12:37:09,549 - courlan.core - INFO - 33 links found – 28 valid links\u001b[0m\n",
      "\u001b[32m2024-08-13 12:37:09,549 - courlan.core - INFO - 33 links found – 28 valid links\u001b[0m\n",
      "\u001b[32m2024-08-13 12:37:09,549 - courlan.core - INFO - 33 links found – 28 valid links\u001b[0m\n",
      "\u001b[32m2024-08-13 12:37:09,549 - courlan.core - INFO - 33 links found – 28 valid links\u001b[0m\n",
      "\u001b[32m2024-08-13 12:37:09,549 - courlan.core - INFO - 33 links found – 28 valid links\u001b[0m\n",
      "\u001b[33m2024-08-13 12:37:11,770 - courlan.urlstore - WARNING - Discarding URL: /blogs/blog/what-to-look-for-in-noise-reduction-earplugs\u001b[0m\n",
      "\u001b[33m2024-08-13 12:37:11,770 - courlan.urlstore - WARNING - Discarding URL: /blogs/blog/what-to-look-for-in-noise-reduction-earplugs\u001b[0m\n",
      "\u001b[33m2024-08-13 12:37:11,770 - courlan.urlstore - WARNING - Discarding URL: /blogs/blog/what-to-look-for-in-noise-reduction-earplugs\u001b[0m\n",
      "\u001b[33m2024-08-13 12:37:11,770 - courlan.urlstore - WARNING - Discarding URL: /blogs/blog/what-to-look-for-in-noise-reduction-earplugs\u001b[0m\n",
      "\u001b[33m2024-08-13 12:37:11,770 - courlan.urlstore - WARNING - Discarding URL: /blogs/blog/what-to-look-for-in-noise-reduction-earplugs\u001b[0m\n",
      "\u001b[33m2024-08-13 12:37:11,770 - courlan.urlstore - WARNING - Discarding URL: /blogs/blog/what-to-look-for-in-noise-reduction-earplugs\u001b[0m\n",
      "\u001b[32m2024-08-13 12:37:11,779 - courlan.core - INFO - 35 links found – 28 valid links\u001b[0m\n",
      "\u001b[32m2024-08-13 12:37:11,779 - courlan.core - INFO - 35 links found – 28 valid links\u001b[0m\n",
      "\u001b[32m2024-08-13 12:37:11,779 - courlan.core - INFO - 35 links found – 28 valid links\u001b[0m\n",
      "\u001b[32m2024-08-13 12:37:11,779 - courlan.core - INFO - 35 links found – 28 valid links\u001b[0m\n",
      "\u001b[32m2024-08-13 12:37:11,779 - courlan.core - INFO - 35 links found – 28 valid links\u001b[0m\n",
      "\u001b[32m2024-08-13 12:37:11,779 - courlan.core - INFO - 35 links found – 28 valid links\u001b[0m\n",
      "\u001b[33m2024-08-13 12:37:13,872 - courlan.urlstore - WARNING - Discarding URL: /blogs/blog/good-sleep-with-earplugs\u001b[0m\n",
      "\u001b[33m2024-08-13 12:37:13,872 - courlan.urlstore - WARNING - Discarding URL: /blogs/blog/good-sleep-with-earplugs\u001b[0m\n",
      "\u001b[33m2024-08-13 12:37:13,872 - courlan.urlstore - WARNING - Discarding URL: /blogs/blog/good-sleep-with-earplugs\u001b[0m\n",
      "\u001b[33m2024-08-13 12:37:13,872 - courlan.urlstore - WARNING - Discarding URL: /blogs/blog/good-sleep-with-earplugs\u001b[0m\n",
      "\u001b[33m2024-08-13 12:37:13,872 - courlan.urlstore - WARNING - Discarding URL: /blogs/blog/good-sleep-with-earplugs\u001b[0m\n",
      "\u001b[33m2024-08-13 12:37:13,872 - courlan.urlstore - WARNING - Discarding URL: /blogs/blog/good-sleep-with-earplugs\u001b[0m\n",
      "\u001b[32m2024-08-13 12:37:13,882 - courlan.core - INFO - 36 links found – 29 valid links\u001b[0m\n",
      "\u001b[32m2024-08-13 12:37:13,882 - courlan.core - INFO - 36 links found – 29 valid links\u001b[0m\n",
      "\u001b[32m2024-08-13 12:37:13,882 - courlan.core - INFO - 36 links found – 29 valid links\u001b[0m\n",
      "\u001b[32m2024-08-13 12:37:13,882 - courlan.core - INFO - 36 links found – 29 valid links\u001b[0m\n",
      "\u001b[32m2024-08-13 12:37:13,882 - courlan.core - INFO - 36 links found – 29 valid links\u001b[0m\n",
      "\u001b[32m2024-08-13 12:37:13,882 - courlan.core - INFO - 36 links found – 29 valid links\u001b[0m\n",
      "\u001b[33m2024-08-13 12:37:16,003 - courlan.urlstore - WARNING - Discarding URL: /blogs/blog/why-people-love-loud-music\u001b[0m\n",
      "\u001b[33m2024-08-13 12:37:16,003 - courlan.urlstore - WARNING - Discarding URL: /blogs/blog/why-people-love-loud-music\u001b[0m\n",
      "\u001b[33m2024-08-13 12:37:16,003 - courlan.urlstore - WARNING - Discarding URL: /blogs/blog/why-people-love-loud-music\u001b[0m\n",
      "\u001b[33m2024-08-13 12:37:16,003 - courlan.urlstore - WARNING - Discarding URL: /blogs/blog/why-people-love-loud-music\u001b[0m\n",
      "\u001b[33m2024-08-13 12:37:16,003 - courlan.urlstore - WARNING - Discarding URL: /blogs/blog/why-people-love-loud-music\u001b[0m\n",
      "\u001b[33m2024-08-13 12:37:16,003 - courlan.urlstore - WARNING - Discarding URL: /blogs/blog/why-people-love-loud-music\u001b[0m\n",
      "\u001b[32m2024-08-13 12:37:16,015 - courlan.core - INFO - 41 links found – 33 valid links\u001b[0m\n",
      "\u001b[32m2024-08-13 12:37:16,015 - courlan.core - INFO - 41 links found – 33 valid links\u001b[0m\n",
      "\u001b[32m2024-08-13 12:37:16,015 - courlan.core - INFO - 41 links found – 33 valid links\u001b[0m\n",
      "\u001b[32m2024-08-13 12:37:16,015 - courlan.core - INFO - 41 links found – 33 valid links\u001b[0m\n",
      "\u001b[32m2024-08-13 12:37:16,015 - courlan.core - INFO - 41 links found – 33 valid links\u001b[0m\n",
      "\u001b[32m2024-08-13 12:37:16,015 - courlan.core - INFO - 41 links found – 33 valid links\u001b[0m\n",
      "\u001b[33m2024-08-13 12:37:18,512 - courlan.urlstore - WARNING - Discarding URL: /blogs/blog/is-noise-stopping-you-from-sleeping-loop-earplugs-tips-tricks\u001b[0m\n",
      "\u001b[33m2024-08-13 12:37:18,512 - courlan.urlstore - WARNING - Discarding URL: /blogs/blog/is-noise-stopping-you-from-sleeping-loop-earplugs-tips-tricks\u001b[0m\n",
      "\u001b[33m2024-08-13 12:37:18,512 - courlan.urlstore - WARNING - Discarding URL: /blogs/blog/is-noise-stopping-you-from-sleeping-loop-earplugs-tips-tricks\u001b[0m\n",
      "\u001b[33m2024-08-13 12:37:18,512 - courlan.urlstore - WARNING - Discarding URL: /blogs/blog/is-noise-stopping-you-from-sleeping-loop-earplugs-tips-tricks\u001b[0m\n",
      "\u001b[33m2024-08-13 12:37:18,512 - courlan.urlstore - WARNING - Discarding URL: /blogs/blog/is-noise-stopping-you-from-sleeping-loop-earplugs-tips-tricks\u001b[0m\n",
      "\u001b[33m2024-08-13 12:37:18,512 - courlan.urlstore - WARNING - Discarding URL: /blogs/blog/is-noise-stopping-you-from-sleeping-loop-earplugs-tips-tricks\u001b[0m\n",
      "\u001b[32m2024-08-13 12:37:18,524 - courlan.core - INFO - 38 links found – 33 valid links\u001b[0m\n",
      "\u001b[32m2024-08-13 12:37:18,524 - courlan.core - INFO - 38 links found – 33 valid links\u001b[0m\n",
      "\u001b[32m2024-08-13 12:37:18,524 - courlan.core - INFO - 38 links found – 33 valid links\u001b[0m\n",
      "\u001b[32m2024-08-13 12:37:18,524 - courlan.core - INFO - 38 links found – 33 valid links\u001b[0m\n",
      "\u001b[32m2024-08-13 12:37:18,524 - courlan.core - INFO - 38 links found – 33 valid links\u001b[0m\n",
      "\u001b[32m2024-08-13 12:37:18,524 - courlan.core - INFO - 38 links found – 33 valid links\u001b[0m\n",
      "\u001b[33m2024-08-13 12:37:21,007 - courlan.urlstore - WARNING - Discarding URL: /blogs/blog/hyperacusis\u001b[0m\n",
      "\u001b[33m2024-08-13 12:37:21,007 - courlan.urlstore - WARNING - Discarding URL: /blogs/blog/hyperacusis\u001b[0m\n",
      "\u001b[33m2024-08-13 12:37:21,007 - courlan.urlstore - WARNING - Discarding URL: /blogs/blog/hyperacusis\u001b[0m\n",
      "\u001b[33m2024-08-13 12:37:21,007 - courlan.urlstore - WARNING - Discarding URL: /blogs/blog/hyperacusis\u001b[0m\n",
      "\u001b[33m2024-08-13 12:37:21,007 - courlan.urlstore - WARNING - Discarding URL: /blogs/blog/hyperacusis\u001b[0m\n",
      "\u001b[33m2024-08-13 12:37:21,007 - courlan.urlstore - WARNING - Discarding URL: /blogs/blog/hyperacusis\u001b[0m\n",
      "\u001b[32m2024-08-13 12:37:21,017 - courlan.core - INFO - 31 links found – 28 valid links\u001b[0m\n",
      "\u001b[32m2024-08-13 12:37:21,017 - courlan.core - INFO - 31 links found – 28 valid links\u001b[0m\n",
      "\u001b[32m2024-08-13 12:37:21,017 - courlan.core - INFO - 31 links found – 28 valid links\u001b[0m\n",
      "\u001b[32m2024-08-13 12:37:21,017 - courlan.core - INFO - 31 links found – 28 valid links\u001b[0m\n",
      "\u001b[32m2024-08-13 12:37:21,017 - courlan.core - INFO - 31 links found – 28 valid links\u001b[0m\n",
      "\u001b[32m2024-08-13 12:37:21,017 - courlan.core - INFO - 31 links found – 28 valid links\u001b[0m\n",
      "\u001b[33m2024-08-13 12:37:23,628 - courlan.urlstore - WARNING - Discarding URL: /blogs/blog/loop-earplugs-x-tomorrowland\u001b[0m\n",
      "\u001b[33m2024-08-13 12:37:23,628 - courlan.urlstore - WARNING - Discarding URL: /blogs/blog/loop-earplugs-x-tomorrowland\u001b[0m\n",
      "\u001b[33m2024-08-13 12:37:23,628 - courlan.urlstore - WARNING - Discarding URL: /blogs/blog/loop-earplugs-x-tomorrowland\u001b[0m\n",
      "\u001b[33m2024-08-13 12:37:23,628 - courlan.urlstore - WARNING - Discarding URL: /blogs/blog/loop-earplugs-x-tomorrowland\u001b[0m\n",
      "\u001b[33m2024-08-13 12:37:23,628 - courlan.urlstore - WARNING - Discarding URL: /blogs/blog/loop-earplugs-x-tomorrowland\u001b[0m\n",
      "\u001b[33m2024-08-13 12:37:23,628 - courlan.urlstore - WARNING - Discarding URL: /blogs/blog/loop-earplugs-x-tomorrowland\u001b[0m\n",
      "\u001b[32m2024-08-13 12:37:23,637 - courlan.core - INFO - 34 links found – 29 valid links\u001b[0m\n",
      "\u001b[32m2024-08-13 12:37:23,637 - courlan.core - INFO - 34 links found – 29 valid links\u001b[0m\n",
      "\u001b[32m2024-08-13 12:37:23,637 - courlan.core - INFO - 34 links found – 29 valid links\u001b[0m\n",
      "\u001b[32m2024-08-13 12:37:23,637 - courlan.core - INFO - 34 links found – 29 valid links\u001b[0m\n",
      "\u001b[32m2024-08-13 12:37:23,637 - courlan.core - INFO - 34 links found – 29 valid links\u001b[0m\n",
      "\u001b[32m2024-08-13 12:37:23,637 - courlan.core - INFO - 34 links found – 29 valid links\u001b[0m\n",
      "\u001b[33m2024-08-13 12:37:25,860 - courlan.urlstore - WARNING - Discarding URL: /blogs/blog/how-to-get-your-newborn-sleeping-like-a-baby\u001b[0m\n",
      "\u001b[33m2024-08-13 12:37:25,860 - courlan.urlstore - WARNING - Discarding URL: /blogs/blog/how-to-get-your-newborn-sleeping-like-a-baby\u001b[0m\n",
      "\u001b[33m2024-08-13 12:37:25,860 - courlan.urlstore - WARNING - Discarding URL: /blogs/blog/how-to-get-your-newborn-sleeping-like-a-baby\u001b[0m\n",
      "\u001b[33m2024-08-13 12:37:25,860 - courlan.urlstore - WARNING - Discarding URL: /blogs/blog/how-to-get-your-newborn-sleeping-like-a-baby\u001b[0m\n",
      "\u001b[33m2024-08-13 12:37:25,860 - courlan.urlstore - WARNING - Discarding URL: /blogs/blog/how-to-get-your-newborn-sleeping-like-a-baby\u001b[0m\n",
      "\u001b[33m2024-08-13 12:37:25,860 - courlan.urlstore - WARNING - Discarding URL: /blogs/blog/how-to-get-your-newborn-sleeping-like-a-baby\u001b[0m\n",
      "\u001b[32m2024-08-13 12:37:25,872 - courlan.core - INFO - 43 links found – 31 valid links\u001b[0m\n",
      "\u001b[32m2024-08-13 12:37:25,872 - courlan.core - INFO - 43 links found – 31 valid links\u001b[0m\n",
      "\u001b[32m2024-08-13 12:37:25,872 - courlan.core - INFO - 43 links found – 31 valid links\u001b[0m\n",
      "\u001b[32m2024-08-13 12:37:25,872 - courlan.core - INFO - 43 links found – 31 valid links\u001b[0m\n",
      "\u001b[32m2024-08-13 12:37:25,872 - courlan.core - INFO - 43 links found – 31 valid links\u001b[0m\n",
      "\u001b[32m2024-08-13 12:37:25,872 - courlan.core - INFO - 43 links found – 31 valid links\u001b[0m\n",
      "\u001b[33m2024-08-13 12:37:28,114 - courlan.urlstore - WARNING - Discarding URL: /blogs/blog/11-hacks-for-a-comfortable-flight\u001b[0m\n",
      "\u001b[33m2024-08-13 12:37:28,114 - courlan.urlstore - WARNING - Discarding URL: /blogs/blog/11-hacks-for-a-comfortable-flight\u001b[0m\n",
      "\u001b[33m2024-08-13 12:37:28,114 - courlan.urlstore - WARNING - Discarding URL: /blogs/blog/11-hacks-for-a-comfortable-flight\u001b[0m\n",
      "\u001b[33m2024-08-13 12:37:28,114 - courlan.urlstore - WARNING - Discarding URL: /blogs/blog/11-hacks-for-a-comfortable-flight\u001b[0m\n",
      "\u001b[33m2024-08-13 12:37:28,114 - courlan.urlstore - WARNING - Discarding URL: /blogs/blog/11-hacks-for-a-comfortable-flight\u001b[0m\n",
      "\u001b[33m2024-08-13 12:37:28,114 - courlan.urlstore - WARNING - Discarding URL: /blogs/blog/11-hacks-for-a-comfortable-flight\u001b[0m\n",
      "\u001b[32m2024-08-13 12:37:28,125 - courlan.core - INFO - 41 links found – 29 valid links\u001b[0m\n",
      "\u001b[32m2024-08-13 12:37:28,125 - courlan.core - INFO - 41 links found – 29 valid links\u001b[0m\n",
      "\u001b[32m2024-08-13 12:37:28,125 - courlan.core - INFO - 41 links found – 29 valid links\u001b[0m\n",
      "\u001b[32m2024-08-13 12:37:28,125 - courlan.core - INFO - 41 links found – 29 valid links\u001b[0m\n",
      "\u001b[32m2024-08-13 12:37:28,125 - courlan.core - INFO - 41 links found – 29 valid links\u001b[0m\n",
      "\u001b[32m2024-08-13 12:37:28,125 - courlan.core - INFO - 41 links found – 29 valid links\u001b[0m\n",
      "\u001b[33m2024-08-13 12:37:30,558 - courlan.urlstore - WARNING - Discarding URL: /blogs/blog/parent-sensory-overload\u001b[0m\n",
      "\u001b[33m2024-08-13 12:37:30,558 - courlan.urlstore - WARNING - Discarding URL: /blogs/blog/parent-sensory-overload\u001b[0m\n",
      "\u001b[33m2024-08-13 12:37:30,558 - courlan.urlstore - WARNING - Discarding URL: /blogs/blog/parent-sensory-overload\u001b[0m\n",
      "\u001b[33m2024-08-13 12:37:30,558 - courlan.urlstore - WARNING - Discarding URL: /blogs/blog/parent-sensory-overload\u001b[0m\n",
      "\u001b[33m2024-08-13 12:37:30,558 - courlan.urlstore - WARNING - Discarding URL: /blogs/blog/parent-sensory-overload\u001b[0m\n",
      "\u001b[33m2024-08-13 12:37:30,558 - courlan.urlstore - WARNING - Discarding URL: /blogs/blog/parent-sensory-overload\u001b[0m\n",
      "\u001b[32m2024-08-13 12:37:30,570 - courlan.core - INFO - 37 links found – 28 valid links\u001b[0m\n",
      "\u001b[32m2024-08-13 12:37:30,570 - courlan.core - INFO - 37 links found – 28 valid links\u001b[0m\n",
      "\u001b[32m2024-08-13 12:37:30,570 - courlan.core - INFO - 37 links found – 28 valid links\u001b[0m\n",
      "\u001b[32m2024-08-13 12:37:30,570 - courlan.core - INFO - 37 links found – 28 valid links\u001b[0m\n",
      "\u001b[32m2024-08-13 12:37:30,570 - courlan.core - INFO - 37 links found – 28 valid links\u001b[0m\n",
      "\u001b[32m2024-08-13 12:37:30,570 - courlan.core - INFO - 37 links found – 28 valid links\u001b[0m\n",
      "\u001b[33m2024-08-13 12:37:32,977 - courlan.urlstore - WARNING - Discarding URL: /blogs/news/blog-prevent-hearing-loss\u001b[0m\n",
      "\u001b[33m2024-08-13 12:37:32,977 - courlan.urlstore - WARNING - Discarding URL: /blogs/news/blog-prevent-hearing-loss\u001b[0m\n",
      "\u001b[33m2024-08-13 12:37:32,977 - courlan.urlstore - WARNING - Discarding URL: /blogs/news/blog-prevent-hearing-loss\u001b[0m\n",
      "\u001b[33m2024-08-13 12:37:32,977 - courlan.urlstore - WARNING - Discarding URL: /blogs/news/blog-prevent-hearing-loss\u001b[0m\n",
      "\u001b[33m2024-08-13 12:37:32,977 - courlan.urlstore - WARNING - Discarding URL: /blogs/news/blog-prevent-hearing-loss\u001b[0m\n",
      "\u001b[33m2024-08-13 12:37:32,977 - courlan.urlstore - WARNING - Discarding URL: /blogs/news/blog-prevent-hearing-loss\u001b[0m\n",
      "\u001b[32m2024-08-13 12:37:32,987 - courlan.core - INFO - 31 links found – 26 valid links\u001b[0m\n",
      "\u001b[32m2024-08-13 12:37:32,987 - courlan.core - INFO - 31 links found – 26 valid links\u001b[0m\n",
      "\u001b[32m2024-08-13 12:37:32,987 - courlan.core - INFO - 31 links found – 26 valid links\u001b[0m\n",
      "\u001b[32m2024-08-13 12:37:32,987 - courlan.core - INFO - 31 links found – 26 valid links\u001b[0m\n",
      "\u001b[32m2024-08-13 12:37:32,987 - courlan.core - INFO - 31 links found – 26 valid links\u001b[0m\n",
      "\u001b[32m2024-08-13 12:37:32,987 - courlan.core - INFO - 31 links found – 26 valid links\u001b[0m\n",
      "\u001b[33m2024-08-13 12:37:35,350 - courlan.urlstore - WARNING - Discarding URL: /blogs/blog/teaming-up-with-marie-wynants\u001b[0m\n",
      "\u001b[33m2024-08-13 12:37:35,350 - courlan.urlstore - WARNING - Discarding URL: /blogs/blog/teaming-up-with-marie-wynants\u001b[0m\n",
      "\u001b[33m2024-08-13 12:37:35,350 - courlan.urlstore - WARNING - Discarding URL: /blogs/blog/teaming-up-with-marie-wynants\u001b[0m\n",
      "\u001b[33m2024-08-13 12:37:35,350 - courlan.urlstore - WARNING - Discarding URL: /blogs/blog/teaming-up-with-marie-wynants\u001b[0m\n",
      "\u001b[33m2024-08-13 12:37:35,350 - courlan.urlstore - WARNING - Discarding URL: /blogs/blog/teaming-up-with-marie-wynants\u001b[0m\n",
      "\u001b[33m2024-08-13 12:37:35,350 - courlan.urlstore - WARNING - Discarding URL: /blogs/blog/teaming-up-with-marie-wynants\u001b[0m\n",
      "\u001b[32m2024-08-13 12:37:35,360 - courlan.core - INFO - 32 links found – 29 valid links\u001b[0m\n",
      "\u001b[32m2024-08-13 12:37:35,360 - courlan.core - INFO - 32 links found – 29 valid links\u001b[0m\n",
      "\u001b[32m2024-08-13 12:37:35,360 - courlan.core - INFO - 32 links found – 29 valid links\u001b[0m\n",
      "\u001b[32m2024-08-13 12:37:35,360 - courlan.core - INFO - 32 links found – 29 valid links\u001b[0m\n",
      "\u001b[32m2024-08-13 12:37:35,360 - courlan.core - INFO - 32 links found – 29 valid links\u001b[0m\n",
      "\u001b[32m2024-08-13 12:37:35,360 - courlan.core - INFO - 32 links found – 29 valid links\u001b[0m\n",
      "\u001b[33m2024-08-13 12:37:37,570 - courlan.urlstore - WARNING - Discarding URL: /pages/earplugs-for-snoring\u001b[0m\n",
      "\u001b[33m2024-08-13 12:37:37,570 - courlan.urlstore - WARNING - Discarding URL: /pages/earplugs-for-snoring\u001b[0m\n",
      "\u001b[33m2024-08-13 12:37:37,570 - courlan.urlstore - WARNING - Discarding URL: /pages/earplugs-for-snoring\u001b[0m\n",
      "\u001b[33m2024-08-13 12:37:37,570 - courlan.urlstore - WARNING - Discarding URL: /pages/earplugs-for-snoring\u001b[0m\n",
      "\u001b[33m2024-08-13 12:37:37,570 - courlan.urlstore - WARNING - Discarding URL: /pages/earplugs-for-snoring\u001b[0m\n",
      "\u001b[33m2024-08-13 12:37:37,570 - courlan.urlstore - WARNING - Discarding URL: /pages/earplugs-for-snoring\u001b[0m\n",
      "\u001b[32m2024-08-13 12:37:37,580 - courlan.core - INFO - 34 links found – 27 valid links\u001b[0m\n",
      "\u001b[32m2024-08-13 12:37:37,580 - courlan.core - INFO - 34 links found – 27 valid links\u001b[0m\n",
      "\u001b[32m2024-08-13 12:37:37,580 - courlan.core - INFO - 34 links found – 27 valid links\u001b[0m\n",
      "\u001b[32m2024-08-13 12:37:37,580 - courlan.core - INFO - 34 links found – 27 valid links\u001b[0m\n",
      "\u001b[32m2024-08-13 12:37:37,580 - courlan.core - INFO - 34 links found – 27 valid links\u001b[0m\n",
      "\u001b[32m2024-08-13 12:37:37,580 - courlan.core - INFO - 34 links found – 27 valid links\u001b[0m\n",
      "\u001b[33m2024-08-13 12:37:39,700 - courlan.urlstore - WARNING - Discarding URL: /pages/cancellation-and-refunds\u001b[0m\n",
      "\u001b[33m2024-08-13 12:37:39,700 - courlan.urlstore - WARNING - Discarding URL: /pages/cancellation-and-refunds\u001b[0m\n",
      "\u001b[33m2024-08-13 12:37:39,700 - courlan.urlstore - WARNING - Discarding URL: /pages/cancellation-and-refunds\u001b[0m\n",
      "\u001b[33m2024-08-13 12:37:39,700 - courlan.urlstore - WARNING - Discarding URL: /pages/cancellation-and-refunds\u001b[0m\n",
      "\u001b[33m2024-08-13 12:37:39,700 - courlan.urlstore - WARNING - Discarding URL: /pages/cancellation-and-refunds\u001b[0m\n",
      "\u001b[33m2024-08-13 12:37:39,700 - courlan.urlstore - WARNING - Discarding URL: /pages/cancellation-and-refunds\u001b[0m\n",
      "\u001b[32m2024-08-13 12:37:39,708 - courlan.core - INFO - 26 links found – 23 valid links\u001b[0m\n",
      "\u001b[32m2024-08-13 12:37:39,708 - courlan.core - INFO - 26 links found – 23 valid links\u001b[0m\n",
      "\u001b[32m2024-08-13 12:37:39,708 - courlan.core - INFO - 26 links found – 23 valid links\u001b[0m\n",
      "\u001b[32m2024-08-13 12:37:39,708 - courlan.core - INFO - 26 links found – 23 valid links\u001b[0m\n",
      "\u001b[32m2024-08-13 12:37:39,708 - courlan.core - INFO - 26 links found – 23 valid links\u001b[0m\n",
      "\u001b[32m2024-08-13 12:37:39,708 - courlan.core - INFO - 26 links found – 23 valid links\u001b[0m\n",
      "\u001b[33m2024-08-13 12:37:41,979 - courlan.urlstore - WARNING - Discarding URL: /pages/best-earplugs-for-clubs\u001b[0m\n",
      "\u001b[33m2024-08-13 12:37:41,979 - courlan.urlstore - WARNING - Discarding URL: /pages/best-earplugs-for-clubs\u001b[0m\n",
      "\u001b[33m2024-08-13 12:37:41,979 - courlan.urlstore - WARNING - Discarding URL: /pages/best-earplugs-for-clubs\u001b[0m\n",
      "\u001b[33m2024-08-13 12:37:41,979 - courlan.urlstore - WARNING - Discarding URL: /pages/best-earplugs-for-clubs\u001b[0m\n",
      "\u001b[33m2024-08-13 12:37:41,979 - courlan.urlstore - WARNING - Discarding URL: /pages/best-earplugs-for-clubs\u001b[0m\n",
      "\u001b[33m2024-08-13 12:37:41,979 - courlan.urlstore - WARNING - Discarding URL: /pages/best-earplugs-for-clubs\u001b[0m\n",
      "\u001b[32m2024-08-13 12:37:41,988 - courlan.core - INFO - 35 links found – 28 valid links\u001b[0m\n",
      "\u001b[32m2024-08-13 12:37:41,988 - courlan.core - INFO - 35 links found – 28 valid links\u001b[0m\n",
      "\u001b[32m2024-08-13 12:37:41,988 - courlan.core - INFO - 35 links found – 28 valid links\u001b[0m\n",
      "\u001b[32m2024-08-13 12:37:41,988 - courlan.core - INFO - 35 links found – 28 valid links\u001b[0m\n",
      "\u001b[32m2024-08-13 12:37:41,988 - courlan.core - INFO - 35 links found – 28 valid links\u001b[0m\n",
      "\u001b[32m2024-08-13 12:37:41,988 - courlan.core - INFO - 35 links found – 28 valid links\u001b[0m\n",
      "\u001b[33m2024-08-13 12:37:43,216 - courlan.urlstore - WARNING - Discarding URL: /products/mute-pack\u001b[0m\n",
      "\u001b[33m2024-08-13 12:37:43,216 - courlan.urlstore - WARNING - Discarding URL: /products/mute-pack\u001b[0m\n",
      "\u001b[33m2024-08-13 12:37:43,216 - courlan.urlstore - WARNING - Discarding URL: /products/mute-pack\u001b[0m\n",
      "\u001b[33m2024-08-13 12:37:43,216 - courlan.urlstore - WARNING - Discarding URL: /products/mute-pack\u001b[0m\n",
      "\u001b[33m2024-08-13 12:37:43,216 - courlan.urlstore - WARNING - Discarding URL: /products/mute-pack\u001b[0m\n",
      "\u001b[33m2024-08-13 12:37:43,216 - courlan.urlstore - WARNING - Discarding URL: /products/mute-pack\u001b[0m\n",
      "\u001b[32m2024-08-13 12:37:43,224 - courlan.core - INFO - 26 links found – 23 valid links\u001b[0m\n",
      "\u001b[32m2024-08-13 12:37:43,224 - courlan.core - INFO - 26 links found – 23 valid links\u001b[0m\n",
      "\u001b[32m2024-08-13 12:37:43,224 - courlan.core - INFO - 26 links found – 23 valid links\u001b[0m\n",
      "\u001b[32m2024-08-13 12:37:43,224 - courlan.core - INFO - 26 links found – 23 valid links\u001b[0m\n",
      "\u001b[32m2024-08-13 12:37:43,224 - courlan.core - INFO - 26 links found – 23 valid links\u001b[0m\n",
      "\u001b[32m2024-08-13 12:37:43,224 - courlan.core - INFO - 26 links found – 23 valid links\u001b[0m\n",
      "\u001b[33m2024-08-13 12:37:45,447 - courlan.urlstore - WARNING - Discarding URL: /blogs/press-corner/loop-earplugs-launches-a-dazzling-array-of-new-products-and-styles-in-major-brand-moment-set-to-shake-up-the-earwear-space\u001b[0m\n",
      "\u001b[33m2024-08-13 12:37:45,447 - courlan.urlstore - WARNING - Discarding URL: /blogs/press-corner/loop-earplugs-launches-a-dazzling-array-of-new-products-and-styles-in-major-brand-moment-set-to-shake-up-the-earwear-space\u001b[0m\n",
      "\u001b[33m2024-08-13 12:37:45,447 - courlan.urlstore - WARNING - Discarding URL: /blogs/press-corner/loop-earplugs-launches-a-dazzling-array-of-new-products-and-styles-in-major-brand-moment-set-to-shake-up-the-earwear-space\u001b[0m\n",
      "\u001b[33m2024-08-13 12:37:45,447 - courlan.urlstore - WARNING - Discarding URL: /blogs/press-corner/loop-earplugs-launches-a-dazzling-array-of-new-products-and-styles-in-major-brand-moment-set-to-shake-up-the-earwear-space\u001b[0m\n",
      "\u001b[33m2024-08-13 12:37:45,447 - courlan.urlstore - WARNING - Discarding URL: /blogs/press-corner/loop-earplugs-launches-a-dazzling-array-of-new-products-and-styles-in-major-brand-moment-set-to-shake-up-the-earwear-space\u001b[0m\n",
      "\u001b[33m2024-08-13 12:37:45,447 - courlan.urlstore - WARNING - Discarding URL: /blogs/press-corner/loop-earplugs-launches-a-dazzling-array-of-new-products-and-styles-in-major-brand-moment-set-to-shake-up-the-earwear-space\u001b[0m\n",
      "\u001b[32m2024-08-13 12:37:45,458 - courlan.core - INFO - 31 links found – 25 valid links\u001b[0m\n",
      "\u001b[32m2024-08-13 12:37:45,458 - courlan.core - INFO - 31 links found – 25 valid links\u001b[0m\n",
      "\u001b[32m2024-08-13 12:37:45,458 - courlan.core - INFO - 31 links found – 25 valid links\u001b[0m\n",
      "\u001b[32m2024-08-13 12:37:45,458 - courlan.core - INFO - 31 links found – 25 valid links\u001b[0m\n",
      "\u001b[32m2024-08-13 12:37:45,458 - courlan.core - INFO - 31 links found – 25 valid links\u001b[0m\n",
      "\u001b[32m2024-08-13 12:37:45,458 - courlan.core - INFO - 31 links found – 25 valid links\u001b[0m\n",
      "\u001b[33m2024-08-13 12:37:47,922 - courlan.urlstore - WARNING - Discarding URL: /blogs/press-corner/stay-ready-with-switch-loop-s-highest-tech-earplug-yet-allows-users-to-toggle-between-sound-states-on-the-go\u001b[0m\n",
      "\u001b[33m2024-08-13 12:37:47,922 - courlan.urlstore - WARNING - Discarding URL: /blogs/press-corner/stay-ready-with-switch-loop-s-highest-tech-earplug-yet-allows-users-to-toggle-between-sound-states-on-the-go\u001b[0m\n",
      "\u001b[33m2024-08-13 12:37:47,922 - courlan.urlstore - WARNING - Discarding URL: /blogs/press-corner/stay-ready-with-switch-loop-s-highest-tech-earplug-yet-allows-users-to-toggle-between-sound-states-on-the-go\u001b[0m\n",
      "\u001b[33m2024-08-13 12:37:47,922 - courlan.urlstore - WARNING - Discarding URL: /blogs/press-corner/stay-ready-with-switch-loop-s-highest-tech-earplug-yet-allows-users-to-toggle-between-sound-states-on-the-go\u001b[0m\n",
      "\u001b[33m2024-08-13 12:37:47,922 - courlan.urlstore - WARNING - Discarding URL: /blogs/press-corner/stay-ready-with-switch-loop-s-highest-tech-earplug-yet-allows-users-to-toggle-between-sound-states-on-the-go\u001b[0m\n",
      "\u001b[33m2024-08-13 12:37:47,922 - courlan.urlstore - WARNING - Discarding URL: /blogs/press-corner/stay-ready-with-switch-loop-s-highest-tech-earplug-yet-allows-users-to-toggle-between-sound-states-on-the-go\u001b[0m\n",
      "\u001b[32m2024-08-13 12:37:47,932 - courlan.core - INFO - 34 links found – 25 valid links\u001b[0m\n",
      "\u001b[32m2024-08-13 12:37:47,932 - courlan.core - INFO - 34 links found – 25 valid links\u001b[0m\n",
      "\u001b[32m2024-08-13 12:37:47,932 - courlan.core - INFO - 34 links found – 25 valid links\u001b[0m\n",
      "\u001b[32m2024-08-13 12:37:47,932 - courlan.core - INFO - 34 links found – 25 valid links\u001b[0m\n",
      "\u001b[32m2024-08-13 12:37:47,932 - courlan.core - INFO - 34 links found – 25 valid links\u001b[0m\n",
      "\u001b[32m2024-08-13 12:37:47,932 - courlan.core - INFO - 34 links found – 25 valid links\u001b[0m\n",
      "\u001b[33m2024-08-13 12:37:49,898 - courlan.urlstore - WARNING - Discarding URL: /blogs/press-corner/no-beep-only-beats-loop-and-tomorrowland-aim-to-normalize-hearing-protection\u001b[0m\n",
      "\u001b[33m2024-08-13 12:37:49,898 - courlan.urlstore - WARNING - Discarding URL: /blogs/press-corner/no-beep-only-beats-loop-and-tomorrowland-aim-to-normalize-hearing-protection\u001b[0m\n",
      "\u001b[33m2024-08-13 12:37:49,898 - courlan.urlstore - WARNING - Discarding URL: /blogs/press-corner/no-beep-only-beats-loop-and-tomorrowland-aim-to-normalize-hearing-protection\u001b[0m\n",
      "\u001b[33m2024-08-13 12:37:49,898 - courlan.urlstore - WARNING - Discarding URL: /blogs/press-corner/no-beep-only-beats-loop-and-tomorrowland-aim-to-normalize-hearing-protection\u001b[0m\n",
      "\u001b[33m2024-08-13 12:37:49,898 - courlan.urlstore - WARNING - Discarding URL: /blogs/press-corner/no-beep-only-beats-loop-and-tomorrowland-aim-to-normalize-hearing-protection\u001b[0m\n",
      "\u001b[33m2024-08-13 12:37:49,898 - courlan.urlstore - WARNING - Discarding URL: /blogs/press-corner/no-beep-only-beats-loop-and-tomorrowland-aim-to-normalize-hearing-protection\u001b[0m\n",
      "\u001b[32m2024-08-13 12:37:49,909 - courlan.core - INFO - 35 links found – 26 valid links\u001b[0m\n",
      "\u001b[32m2024-08-13 12:37:49,909 - courlan.core - INFO - 35 links found – 26 valid links\u001b[0m\n",
      "\u001b[32m2024-08-13 12:37:49,909 - courlan.core - INFO - 35 links found – 26 valid links\u001b[0m\n",
      "\u001b[32m2024-08-13 12:37:49,909 - courlan.core - INFO - 35 links found – 26 valid links\u001b[0m\n",
      "\u001b[32m2024-08-13 12:37:49,909 - courlan.core - INFO - 35 links found – 26 valid links\u001b[0m\n",
      "\u001b[32m2024-08-13 12:37:49,909 - courlan.core - INFO - 35 links found – 26 valid links\u001b[0m\n",
      "\u001b[33m2024-08-13 12:37:52,084 - courlan.urlstore - WARNING - Discarding URL: /pages/earplugs-for-tinnitus\u001b[0m\n",
      "\u001b[33m2024-08-13 12:37:52,084 - courlan.urlstore - WARNING - Discarding URL: /pages/earplugs-for-tinnitus\u001b[0m\n",
      "\u001b[33m2024-08-13 12:37:52,084 - courlan.urlstore - WARNING - Discarding URL: /pages/earplugs-for-tinnitus\u001b[0m\n",
      "\u001b[33m2024-08-13 12:37:52,084 - courlan.urlstore - WARNING - Discarding URL: /pages/earplugs-for-tinnitus\u001b[0m\n",
      "\u001b[33m2024-08-13 12:37:52,084 - courlan.urlstore - WARNING - Discarding URL: /pages/earplugs-for-tinnitus\u001b[0m\n",
      "\u001b[33m2024-08-13 12:37:52,084 - courlan.urlstore - WARNING - Discarding URL: /pages/earplugs-for-tinnitus\u001b[0m\n",
      "\u001b[32m2024-08-13 12:37:52,094 - courlan.core - INFO - 35 links found – 29 valid links\u001b[0m\n",
      "\u001b[32m2024-08-13 12:37:52,094 - courlan.core - INFO - 35 links found – 29 valid links\u001b[0m\n",
      "\u001b[32m2024-08-13 12:37:52,094 - courlan.core - INFO - 35 links found – 29 valid links\u001b[0m\n",
      "\u001b[32m2024-08-13 12:37:52,094 - courlan.core - INFO - 35 links found – 29 valid links\u001b[0m\n",
      "\u001b[32m2024-08-13 12:37:52,094 - courlan.core - INFO - 35 links found – 29 valid links\u001b[0m\n",
      "\u001b[32m2024-08-13 12:37:52,094 - courlan.core - INFO - 35 links found – 29 valid links\u001b[0m\n",
      "\u001b[33m2024-08-13 12:37:54,189 - courlan.urlstore - WARNING - Discarding URL: /blogs/press-corner/loop-earplugs-and-tomorrowland-kick-off-third-year\u001b[0m\n",
      "\u001b[33m2024-08-13 12:37:54,189 - courlan.urlstore - WARNING - Discarding URL: /blogs/press-corner/loop-earplugs-and-tomorrowland-kick-off-third-year\u001b[0m\n",
      "\u001b[33m2024-08-13 12:37:54,189 - courlan.urlstore - WARNING - Discarding URL: /blogs/press-corner/loop-earplugs-and-tomorrowland-kick-off-third-year\u001b[0m\n",
      "\u001b[33m2024-08-13 12:37:54,189 - courlan.urlstore - WARNING - Discarding URL: /blogs/press-corner/loop-earplugs-and-tomorrowland-kick-off-third-year\u001b[0m\n",
      "\u001b[33m2024-08-13 12:37:54,189 - courlan.urlstore - WARNING - Discarding URL: /blogs/press-corner/loop-earplugs-and-tomorrowland-kick-off-third-year\u001b[0m\n",
      "\u001b[33m2024-08-13 12:37:54,189 - courlan.urlstore - WARNING - Discarding URL: /blogs/press-corner/loop-earplugs-and-tomorrowland-kick-off-third-year\u001b[0m\n",
      "\u001b[32m2024-08-13 12:37:54,199 - courlan.core - INFO - 30 links found – 25 valid links\u001b[0m\n",
      "\u001b[32m2024-08-13 12:37:54,199 - courlan.core - INFO - 30 links found – 25 valid links\u001b[0m\n",
      "\u001b[32m2024-08-13 12:37:54,199 - courlan.core - INFO - 30 links found – 25 valid links\u001b[0m\n",
      "\u001b[32m2024-08-13 12:37:54,199 - courlan.core - INFO - 30 links found – 25 valid links\u001b[0m\n",
      "\u001b[32m2024-08-13 12:37:54,199 - courlan.core - INFO - 30 links found – 25 valid links\u001b[0m\n",
      "\u001b[32m2024-08-13 12:37:54,199 - courlan.core - INFO - 30 links found – 25 valid links\u001b[0m\n",
      "\u001b[33m2024-08-13 12:37:56,298 - courlan.urlstore - WARNING - Discarding URL: /blogs/blog/relationship-between-noise-and-concentratio\u001b[0m\n",
      "\u001b[33m2024-08-13 12:37:56,298 - courlan.urlstore - WARNING - Discarding URL: /blogs/blog/relationship-between-noise-and-concentratio\u001b[0m\n",
      "\u001b[33m2024-08-13 12:37:56,298 - courlan.urlstore - WARNING - Discarding URL: /blogs/blog/relationship-between-noise-and-concentratio\u001b[0m\n",
      "\u001b[33m2024-08-13 12:37:56,298 - courlan.urlstore - WARNING - Discarding URL: /blogs/blog/relationship-between-noise-and-concentratio\u001b[0m\n",
      "\u001b[33m2024-08-13 12:37:56,298 - courlan.urlstore - WARNING - Discarding URL: /blogs/blog/relationship-between-noise-and-concentratio\u001b[0m\n",
      "\u001b[33m2024-08-13 12:37:56,298 - courlan.urlstore - WARNING - Discarding URL: /blogs/blog/relationship-between-noise-and-concentratio\u001b[0m\n",
      "\u001b[32m2024-08-13 12:37:56,308 - courlan.core - INFO - 26 links found – 23 valid links\u001b[0m\n",
      "\u001b[32m2024-08-13 12:37:56,308 - courlan.core - INFO - 26 links found – 23 valid links\u001b[0m\n",
      "\u001b[32m2024-08-13 12:37:56,308 - courlan.core - INFO - 26 links found – 23 valid links\u001b[0m\n",
      "\u001b[32m2024-08-13 12:37:56,308 - courlan.core - INFO - 26 links found – 23 valid links\u001b[0m\n",
      "\u001b[32m2024-08-13 12:37:56,308 - courlan.core - INFO - 26 links found – 23 valid links\u001b[0m\n",
      "\u001b[32m2024-08-13 12:37:56,308 - courlan.core - INFO - 26 links found – 23 valid links\u001b[0m\n",
      "\u001b[33m2024-08-13 12:37:58,716 - courlan.urlstore - WARNING - Discarding URL: /pages/earplugs-for-studying\u001b[0m\n",
      "\u001b[33m2024-08-13 12:37:58,716 - courlan.urlstore - WARNING - Discarding URL: /pages/earplugs-for-studying\u001b[0m\n",
      "\u001b[33m2024-08-13 12:37:58,716 - courlan.urlstore - WARNING - Discarding URL: /pages/earplugs-for-studying\u001b[0m\n",
      "\u001b[33m2024-08-13 12:37:58,716 - courlan.urlstore - WARNING - Discarding URL: /pages/earplugs-for-studying\u001b[0m\n",
      "\u001b[33m2024-08-13 12:37:58,716 - courlan.urlstore - WARNING - Discarding URL: /pages/earplugs-for-studying\u001b[0m\n",
      "\u001b[33m2024-08-13 12:37:58,716 - courlan.urlstore - WARNING - Discarding URL: /pages/earplugs-for-studying\u001b[0m\n",
      "\u001b[32m2024-08-13 12:37:58,726 - courlan.core - INFO - 35 links found – 30 valid links\u001b[0m\n",
      "\u001b[32m2024-08-13 12:37:58,726 - courlan.core - INFO - 35 links found – 30 valid links\u001b[0m\n",
      "\u001b[32m2024-08-13 12:37:58,726 - courlan.core - INFO - 35 links found – 30 valid links\u001b[0m\n",
      "\u001b[32m2024-08-13 12:37:58,726 - courlan.core - INFO - 35 links found – 30 valid links\u001b[0m\n",
      "\u001b[32m2024-08-13 12:37:58,726 - courlan.core - INFO - 35 links found – 30 valid links\u001b[0m\n",
      "\u001b[32m2024-08-13 12:37:58,726 - courlan.core - INFO - 35 links found – 30 valid links\u001b[0m\n",
      "\u001b[33m2024-08-13 12:38:00,703 - courlan.urlstore - WARNING - Discarding URL: /blogs/press-corner/introducing-loop-engage-the-next-generation-of-noise-reducing-earplugs-designed-with-conversation-in-mind\u001b[0m\n",
      "\u001b[33m2024-08-13 12:38:00,703 - courlan.urlstore - WARNING - Discarding URL: /blogs/press-corner/introducing-loop-engage-the-next-generation-of-noise-reducing-earplugs-designed-with-conversation-in-mind\u001b[0m\n",
      "\u001b[33m2024-08-13 12:38:00,703 - courlan.urlstore - WARNING - Discarding URL: /blogs/press-corner/introducing-loop-engage-the-next-generation-of-noise-reducing-earplugs-designed-with-conversation-in-mind\u001b[0m\n",
      "\u001b[33m2024-08-13 12:38:00,703 - courlan.urlstore - WARNING - Discarding URL: /blogs/press-corner/introducing-loop-engage-the-next-generation-of-noise-reducing-earplugs-designed-with-conversation-in-mind\u001b[0m\n",
      "\u001b[33m2024-08-13 12:38:00,703 - courlan.urlstore - WARNING - Discarding URL: /blogs/press-corner/introducing-loop-engage-the-next-generation-of-noise-reducing-earplugs-designed-with-conversation-in-mind\u001b[0m\n",
      "\u001b[33m2024-08-13 12:38:00,703 - courlan.urlstore - WARNING - Discarding URL: /blogs/press-corner/introducing-loop-engage-the-next-generation-of-noise-reducing-earplugs-designed-with-conversation-in-mind\u001b[0m\n",
      "\u001b[32m2024-08-13 12:38:00,712 - courlan.core - INFO - 30 links found – 25 valid links\u001b[0m\n",
      "\u001b[32m2024-08-13 12:38:00,712 - courlan.core - INFO - 30 links found – 25 valid links\u001b[0m\n",
      "\u001b[32m2024-08-13 12:38:00,712 - courlan.core - INFO - 30 links found – 25 valid links\u001b[0m\n",
      "\u001b[32m2024-08-13 12:38:00,712 - courlan.core - INFO - 30 links found – 25 valid links\u001b[0m\n",
      "\u001b[32m2024-08-13 12:38:00,712 - courlan.core - INFO - 30 links found – 25 valid links\u001b[0m\n",
      "\u001b[32m2024-08-13 12:38:00,712 - courlan.core - INFO - 30 links found – 25 valid links\u001b[0m\n",
      "\u001b[33m2024-08-13 12:38:02,854 - courlan.urlstore - WARNING - Discarding URL: /pages/earplugs-for-flying\u001b[0m\n",
      "\u001b[33m2024-08-13 12:38:02,854 - courlan.urlstore - WARNING - Discarding URL: /pages/earplugs-for-flying\u001b[0m\n",
      "\u001b[33m2024-08-13 12:38:02,854 - courlan.urlstore - WARNING - Discarding URL: /pages/earplugs-for-flying\u001b[0m\n",
      "\u001b[33m2024-08-13 12:38:02,854 - courlan.urlstore - WARNING - Discarding URL: /pages/earplugs-for-flying\u001b[0m\n",
      "\u001b[33m2024-08-13 12:38:02,854 - courlan.urlstore - WARNING - Discarding URL: /pages/earplugs-for-flying\u001b[0m\n",
      "\u001b[33m2024-08-13 12:38:02,854 - courlan.urlstore - WARNING - Discarding URL: /pages/earplugs-for-flying\u001b[0m\n",
      "\u001b[32m2024-08-13 12:38:02,863 - courlan.core - INFO - 36 links found – 29 valid links\u001b[0m\n",
      "\u001b[32m2024-08-13 12:38:02,863 - courlan.core - INFO - 36 links found – 29 valid links\u001b[0m\n",
      "\u001b[32m2024-08-13 12:38:02,863 - courlan.core - INFO - 36 links found – 29 valid links\u001b[0m\n",
      "\u001b[32m2024-08-13 12:38:02,863 - courlan.core - INFO - 36 links found – 29 valid links\u001b[0m\n",
      "\u001b[32m2024-08-13 12:38:02,863 - courlan.core - INFO - 36 links found – 29 valid links\u001b[0m\n",
      "\u001b[32m2024-08-13 12:38:02,863 - courlan.core - INFO - 36 links found – 29 valid links\u001b[0m\n",
      "\u001b[33m2024-08-13 12:38:05,209 - courlan.urlstore - WARNING - Discarding URL: /pages/earplugs-for-musicians\u001b[0m\n",
      "\u001b[33m2024-08-13 12:38:05,209 - courlan.urlstore - WARNING - Discarding URL: /pages/earplugs-for-musicians\u001b[0m\n",
      "\u001b[33m2024-08-13 12:38:05,209 - courlan.urlstore - WARNING - Discarding URL: /pages/earplugs-for-musicians\u001b[0m\n",
      "\u001b[33m2024-08-13 12:38:05,209 - courlan.urlstore - WARNING - Discarding URL: /pages/earplugs-for-musicians\u001b[0m\n",
      "\u001b[33m2024-08-13 12:38:05,209 - courlan.urlstore - WARNING - Discarding URL: /pages/earplugs-for-musicians\u001b[0m\n",
      "\u001b[33m2024-08-13 12:38:05,209 - courlan.urlstore - WARNING - Discarding URL: /pages/earplugs-for-musicians\u001b[0m\n",
      "\u001b[32m2024-08-13 12:38:05,219 - courlan.core - INFO - 34 links found – 30 valid links\u001b[0m\n",
      "\u001b[32m2024-08-13 12:38:05,219 - courlan.core - INFO - 34 links found – 30 valid links\u001b[0m\n",
      "\u001b[32m2024-08-13 12:38:05,219 - courlan.core - INFO - 34 links found – 30 valid links\u001b[0m\n",
      "\u001b[32m2024-08-13 12:38:05,219 - courlan.core - INFO - 34 links found – 30 valid links\u001b[0m\n",
      "\u001b[32m2024-08-13 12:38:05,219 - courlan.core - INFO - 34 links found – 30 valid links\u001b[0m\n",
      "\u001b[32m2024-08-13 12:38:05,219 - courlan.core - INFO - 34 links found – 30 valid links\u001b[0m\n",
      "\u001b[33m2024-08-13 12:38:07,398 - courlan.urlstore - WARNING - Discarding URL: /pages/earplugs-for-motorcycle\u001b[0m\n",
      "\u001b[33m2024-08-13 12:38:07,398 - courlan.urlstore - WARNING - Discarding URL: /pages/earplugs-for-motorcycle\u001b[0m\n",
      "\u001b[33m2024-08-13 12:38:07,398 - courlan.urlstore - WARNING - Discarding URL: /pages/earplugs-for-motorcycle\u001b[0m\n",
      "\u001b[33m2024-08-13 12:38:07,398 - courlan.urlstore - WARNING - Discarding URL: /pages/earplugs-for-motorcycle\u001b[0m\n",
      "\u001b[33m2024-08-13 12:38:07,398 - courlan.urlstore - WARNING - Discarding URL: /pages/earplugs-for-motorcycle\u001b[0m\n",
      "\u001b[33m2024-08-13 12:38:07,398 - courlan.urlstore - WARNING - Discarding URL: /pages/earplugs-for-motorcycle\u001b[0m\n",
      "\u001b[32m2024-08-13 12:38:07,407 - courlan.core - INFO - 34 links found – 29 valid links\u001b[0m\n",
      "\u001b[32m2024-08-13 12:38:07,407 - courlan.core - INFO - 34 links found – 29 valid links\u001b[0m\n",
      "\u001b[32m2024-08-13 12:38:07,407 - courlan.core - INFO - 34 links found – 29 valid links\u001b[0m\n",
      "\u001b[32m2024-08-13 12:38:07,407 - courlan.core - INFO - 34 links found – 29 valid links\u001b[0m\n",
      "\u001b[32m2024-08-13 12:38:07,407 - courlan.core - INFO - 34 links found – 29 valid links\u001b[0m\n",
      "\u001b[32m2024-08-13 12:38:07,407 - courlan.core - INFO - 34 links found – 29 valid links\u001b[0m\n",
      "\u001b[32m2024-08-13 12:38:08,752 - urllib3.poolmanager - INFO - Redirecting https://www.loopearplugs.com/blogs/news/sensitivity-to-sound-how-to-deal-with-noise-sensitivity -> https://www.loopearplugs.com/blogs/blog/sensitivity-to-sound-how-to-deal-with-noise-sensitivity\u001b[0m\n",
      "\u001b[32m2024-08-13 12:38:08,752 - urllib3.poolmanager - INFO - Redirecting https://www.loopearplugs.com/blogs/news/sensitivity-to-sound-how-to-deal-with-noise-sensitivity -> https://www.loopearplugs.com/blogs/blog/sensitivity-to-sound-how-to-deal-with-noise-sensitivity\u001b[0m\n",
      "\u001b[32m2024-08-13 12:38:08,752 - urllib3.poolmanager - INFO - Redirecting https://www.loopearplugs.com/blogs/news/sensitivity-to-sound-how-to-deal-with-noise-sensitivity -> https://www.loopearplugs.com/blogs/blog/sensitivity-to-sound-how-to-deal-with-noise-sensitivity\u001b[0m\n",
      "\u001b[32m2024-08-13 12:38:08,752 - urllib3.poolmanager - INFO - Redirecting https://www.loopearplugs.com/blogs/news/sensitivity-to-sound-how-to-deal-with-noise-sensitivity -> https://www.loopearplugs.com/blogs/blog/sensitivity-to-sound-how-to-deal-with-noise-sensitivity\u001b[0m\n",
      "\u001b[32m2024-08-13 12:38:08,752 - urllib3.poolmanager - INFO - Redirecting https://www.loopearplugs.com/blogs/news/sensitivity-to-sound-how-to-deal-with-noise-sensitivity -> https://www.loopearplugs.com/blogs/blog/sensitivity-to-sound-how-to-deal-with-noise-sensitivity\u001b[0m\n",
      "\u001b[32m2024-08-13 12:38:08,752 - urllib3.poolmanager - INFO - Redirecting https://www.loopearplugs.com/blogs/news/sensitivity-to-sound-how-to-deal-with-noise-sensitivity -> https://www.loopearplugs.com/blogs/blog/sensitivity-to-sound-how-to-deal-with-noise-sensitivity\u001b[0m\n",
      "\u001b[32m2024-08-13 12:38:11,890 - courlan.core - INFO - 60 links found – 54 valid links\u001b[0m\n",
      "\u001b[32m2024-08-13 12:38:11,890 - courlan.core - INFO - 60 links found – 54 valid links\u001b[0m\n",
      "\u001b[32m2024-08-13 12:38:11,890 - courlan.core - INFO - 60 links found – 54 valid links\u001b[0m\n",
      "\u001b[32m2024-08-13 12:38:11,890 - courlan.core - INFO - 60 links found – 54 valid links\u001b[0m\n",
      "\u001b[32m2024-08-13 12:38:11,890 - courlan.core - INFO - 60 links found – 54 valid links\u001b[0m\n",
      "\u001b[32m2024-08-13 12:38:11,890 - courlan.core - INFO - 60 links found – 54 valid links\u001b[0m\n",
      "\u001b[33m2024-08-13 12:38:13,724 - courlan.urlstore - WARNING - Discarding URL: /collections/earplugs\u001b[0m\n",
      "\u001b[33m2024-08-13 12:38:13,724 - courlan.urlstore - WARNING - Discarding URL: /collections/earplugs\u001b[0m\n",
      "\u001b[33m2024-08-13 12:38:13,724 - courlan.urlstore - WARNING - Discarding URL: /collections/earplugs\u001b[0m\n",
      "\u001b[33m2024-08-13 12:38:13,724 - courlan.urlstore - WARNING - Discarding URL: /collections/earplugs\u001b[0m\n",
      "\u001b[33m2024-08-13 12:38:13,724 - courlan.urlstore - WARNING - Discarding URL: /collections/earplugs\u001b[0m\n",
      "\u001b[33m2024-08-13 12:38:13,724 - courlan.urlstore - WARNING - Discarding URL: /collections/earplugs\u001b[0m\n",
      "\u001b[32m2024-08-13 12:38:13,735 - courlan.core - INFO - 27 links found – 24 valid links\u001b[0m\n",
      "\u001b[32m2024-08-13 12:38:13,735 - courlan.core - INFO - 27 links found – 24 valid links\u001b[0m\n",
      "\u001b[32m2024-08-13 12:38:13,735 - courlan.core - INFO - 27 links found – 24 valid links\u001b[0m\n",
      "\u001b[32m2024-08-13 12:38:13,735 - courlan.core - INFO - 27 links found – 24 valid links\u001b[0m\n",
      "\u001b[32m2024-08-13 12:38:13,735 - courlan.core - INFO - 27 links found – 24 valid links\u001b[0m\n",
      "\u001b[32m2024-08-13 12:38:13,735 - courlan.core - INFO - 27 links found – 24 valid links\u001b[0m\n",
      "\u001b[33m2024-08-13 12:38:16,108 - courlan.urlstore - WARNING - Discarding URL: /blogs/press-corner/loop-launches-equinox-a-seasonal-earwear-collection-of-electric-neon-colors\u001b[0m\n",
      "\u001b[33m2024-08-13 12:38:16,108 - courlan.urlstore - WARNING - Discarding URL: /blogs/press-corner/loop-launches-equinox-a-seasonal-earwear-collection-of-electric-neon-colors\u001b[0m\n",
      "\u001b[33m2024-08-13 12:38:16,108 - courlan.urlstore - WARNING - Discarding URL: /blogs/press-corner/loop-launches-equinox-a-seasonal-earwear-collection-of-electric-neon-colors\u001b[0m\n",
      "\u001b[33m2024-08-13 12:38:16,108 - courlan.urlstore - WARNING - Discarding URL: /blogs/press-corner/loop-launches-equinox-a-seasonal-earwear-collection-of-electric-neon-colors\u001b[0m\n",
      "\u001b[33m2024-08-13 12:38:16,108 - courlan.urlstore - WARNING - Discarding URL: /blogs/press-corner/loop-launches-equinox-a-seasonal-earwear-collection-of-electric-neon-colors\u001b[0m\n",
      "\u001b[33m2024-08-13 12:38:16,108 - courlan.urlstore - WARNING - Discarding URL: /blogs/press-corner/loop-launches-equinox-a-seasonal-earwear-collection-of-electric-neon-colors\u001b[0m\n",
      "\u001b[32m2024-08-13 12:38:16,118 - courlan.core - INFO - 30 links found – 25 valid links\u001b[0m\n",
      "\u001b[32m2024-08-13 12:38:16,118 - courlan.core - INFO - 30 links found – 25 valid links\u001b[0m\n",
      "\u001b[32m2024-08-13 12:38:16,118 - courlan.core - INFO - 30 links found – 25 valid links\u001b[0m\n",
      "\u001b[32m2024-08-13 12:38:16,118 - courlan.core - INFO - 30 links found – 25 valid links\u001b[0m\n",
      "\u001b[32m2024-08-13 12:38:16,118 - courlan.core - INFO - 30 links found – 25 valid links\u001b[0m\n",
      "\u001b[32m2024-08-13 12:38:16,118 - courlan.core - INFO - 30 links found – 25 valid links\u001b[0m\n",
      "\u001b[33m2024-08-13 12:38:19,115 - courlan.urlstore - WARNING - Discarding URL: /blogs/news\u001b[0m\n",
      "\u001b[33m2024-08-13 12:38:19,115 - courlan.urlstore - WARNING - Discarding URL: /blogs/news\u001b[0m\n",
      "\u001b[33m2024-08-13 12:38:19,115 - courlan.urlstore - WARNING - Discarding URL: /blogs/news\u001b[0m\n",
      "\u001b[33m2024-08-13 12:38:19,115 - courlan.urlstore - WARNING - Discarding URL: /blogs/news\u001b[0m\n",
      "\u001b[33m2024-08-13 12:38:19,115 - courlan.urlstore - WARNING - Discarding URL: /blogs/news\u001b[0m\n",
      "\u001b[33m2024-08-13 12:38:19,115 - courlan.urlstore - WARNING - Discarding URL: /blogs/news\u001b[0m\n",
      "\u001b[32m2024-08-13 12:38:19,135 - courlan.core - INFO - 215 links found – 212 valid links\u001b[0m\n",
      "\u001b[32m2024-08-13 12:38:19,135 - courlan.core - INFO - 215 links found – 212 valid links\u001b[0m\n",
      "\u001b[32m2024-08-13 12:38:19,135 - courlan.core - INFO - 215 links found – 212 valid links\u001b[0m\n",
      "\u001b[32m2024-08-13 12:38:19,135 - courlan.core - INFO - 215 links found – 212 valid links\u001b[0m\n",
      "\u001b[32m2024-08-13 12:38:19,135 - courlan.core - INFO - 215 links found – 212 valid links\u001b[0m\n",
      "\u001b[32m2024-08-13 12:38:19,135 - courlan.core - INFO - 215 links found – 212 valid links\u001b[0m\n",
      "\u001b[33m2024-08-13 12:38:21,405 - courlan.urlstore - WARNING - Discarding URL: /pages/deal-with-noise-sensitivity\u001b[0m\n",
      "\u001b[33m2024-08-13 12:38:21,405 - courlan.urlstore - WARNING - Discarding URL: /pages/deal-with-noise-sensitivity\u001b[0m\n",
      "\u001b[33m2024-08-13 12:38:21,405 - courlan.urlstore - WARNING - Discarding URL: /pages/deal-with-noise-sensitivity\u001b[0m\n",
      "\u001b[33m2024-08-13 12:38:21,405 - courlan.urlstore - WARNING - Discarding URL: /pages/deal-with-noise-sensitivity\u001b[0m\n",
      "\u001b[33m2024-08-13 12:38:21,405 - courlan.urlstore - WARNING - Discarding URL: /pages/deal-with-noise-sensitivity\u001b[0m\n",
      "\u001b[33m2024-08-13 12:38:21,405 - courlan.urlstore - WARNING - Discarding URL: /pages/deal-with-noise-sensitivity\u001b[0m\n",
      "\u001b[32m2024-08-13 12:38:21,415 - courlan.core - INFO - 16 links found – 9 valid links\u001b[0m\n",
      "\u001b[32m2024-08-13 12:38:21,415 - courlan.core - INFO - 16 links found – 9 valid links\u001b[0m\n",
      "\u001b[32m2024-08-13 12:38:21,415 - courlan.core - INFO - 16 links found – 9 valid links\u001b[0m\n",
      "\u001b[32m2024-08-13 12:38:21,415 - courlan.core - INFO - 16 links found – 9 valid links\u001b[0m\n",
      "\u001b[32m2024-08-13 12:38:21,415 - courlan.core - INFO - 16 links found – 9 valid links\u001b[0m\n",
      "\u001b[32m2024-08-13 12:38:21,415 - courlan.core - INFO - 16 links found – 9 valid links\u001b[0m\n",
      "\u001b[32m2024-08-13 12:38:22,777 - urllib3.poolmanager - INFO - Redirecting https://www.loopearplugs.com/blogs/blog/tips-for-choosing-earplugs-for-sleeping -> https://www.loopearplugs.com/blogs/blog/top-tips-for-choosing-earplugs-for-sleeping\u001b[0m\n",
      "\u001b[32m2024-08-13 12:38:22,777 - urllib3.poolmanager - INFO - Redirecting https://www.loopearplugs.com/blogs/blog/tips-for-choosing-earplugs-for-sleeping -> https://www.loopearplugs.com/blogs/blog/top-tips-for-choosing-earplugs-for-sleeping\u001b[0m\n",
      "\u001b[32m2024-08-13 12:38:22,777 - urllib3.poolmanager - INFO - Redirecting https://www.loopearplugs.com/blogs/blog/tips-for-choosing-earplugs-for-sleeping -> https://www.loopearplugs.com/blogs/blog/top-tips-for-choosing-earplugs-for-sleeping\u001b[0m\n",
      "\u001b[32m2024-08-13 12:38:22,777 - urllib3.poolmanager - INFO - Redirecting https://www.loopearplugs.com/blogs/blog/tips-for-choosing-earplugs-for-sleeping -> https://www.loopearplugs.com/blogs/blog/top-tips-for-choosing-earplugs-for-sleeping\u001b[0m\n",
      "\u001b[32m2024-08-13 12:38:22,777 - urllib3.poolmanager - INFO - Redirecting https://www.loopearplugs.com/blogs/blog/tips-for-choosing-earplugs-for-sleeping -> https://www.loopearplugs.com/blogs/blog/top-tips-for-choosing-earplugs-for-sleeping\u001b[0m\n",
      "\u001b[32m2024-08-13 12:38:22,777 - urllib3.poolmanager - INFO - Redirecting https://www.loopearplugs.com/blogs/blog/tips-for-choosing-earplugs-for-sleeping -> https://www.loopearplugs.com/blogs/blog/top-tips-for-choosing-earplugs-for-sleeping\u001b[0m\n",
      "\u001b[33m2024-08-13 12:38:23,948 - courlan.urlstore - WARNING - Discarding URL: /blogs/blog/top-tips-for-choosing-earplugs-for-sleeping\u001b[0m\n",
      "\u001b[33m2024-08-13 12:38:23,948 - courlan.urlstore - WARNING - Discarding URL: /blogs/blog/top-tips-for-choosing-earplugs-for-sleeping\u001b[0m\n",
      "\u001b[33m2024-08-13 12:38:23,948 - courlan.urlstore - WARNING - Discarding URL: /blogs/blog/top-tips-for-choosing-earplugs-for-sleeping\u001b[0m\n",
      "\u001b[33m2024-08-13 12:38:23,948 - courlan.urlstore - WARNING - Discarding URL: /blogs/blog/top-tips-for-choosing-earplugs-for-sleeping\u001b[0m\n",
      "\u001b[33m2024-08-13 12:38:23,948 - courlan.urlstore - WARNING - Discarding URL: /blogs/blog/top-tips-for-choosing-earplugs-for-sleeping\u001b[0m\n",
      "\u001b[33m2024-08-13 12:38:23,948 - courlan.urlstore - WARNING - Discarding URL: /blogs/blog/top-tips-for-choosing-earplugs-for-sleeping\u001b[0m\n",
      "\u001b[32m2024-08-13 12:38:23,956 - courlan.core - INFO - 34 links found – 29 valid links\u001b[0m\n",
      "\u001b[32m2024-08-13 12:38:23,956 - courlan.core - INFO - 34 links found – 29 valid links\u001b[0m\n",
      "\u001b[32m2024-08-13 12:38:23,956 - courlan.core - INFO - 34 links found – 29 valid links\u001b[0m\n",
      "\u001b[32m2024-08-13 12:38:23,956 - courlan.core - INFO - 34 links found – 29 valid links\u001b[0m\n",
      "\u001b[32m2024-08-13 12:38:23,956 - courlan.core - INFO - 34 links found – 29 valid links\u001b[0m\n",
      "\u001b[32m2024-08-13 12:38:23,956 - courlan.core - INFO - 34 links found – 29 valid links\u001b[0m\n",
      "\u001b[33m2024-08-13 12:38:26,755 - courlan.urlstore - WARNING - Discarding URL: /blogs/press\u001b[0m\n",
      "\u001b[33m2024-08-13 12:38:26,755 - courlan.urlstore - WARNING - Discarding URL: /blogs/press\u001b[0m\n",
      "\u001b[33m2024-08-13 12:38:26,755 - courlan.urlstore - WARNING - Discarding URL: /blogs/press\u001b[0m\n",
      "\u001b[33m2024-08-13 12:38:26,755 - courlan.urlstore - WARNING - Discarding URL: /blogs/press\u001b[0m\n",
      "\u001b[33m2024-08-13 12:38:26,755 - courlan.urlstore - WARNING - Discarding URL: /blogs/press\u001b[0m\n",
      "\u001b[33m2024-08-13 12:38:26,755 - courlan.urlstore - WARNING - Discarding URL: /blogs/press\u001b[0m\n",
      "\u001b[32m2024-08-13 12:38:26,775 - courlan.core - INFO - 215 links found – 212 valid links\u001b[0m\n",
      "\u001b[32m2024-08-13 12:38:26,775 - courlan.core - INFO - 215 links found – 212 valid links\u001b[0m\n",
      "\u001b[32m2024-08-13 12:38:26,775 - courlan.core - INFO - 215 links found – 212 valid links\u001b[0m\n",
      "\u001b[32m2024-08-13 12:38:26,775 - courlan.core - INFO - 215 links found – 212 valid links\u001b[0m\n",
      "\u001b[32m2024-08-13 12:38:26,775 - courlan.core - INFO - 215 links found – 212 valid links\u001b[0m\n",
      "\u001b[32m2024-08-13 12:38:26,775 - courlan.core - INFO - 215 links found – 212 valid links\u001b[0m\n",
      "\u001b[32m2024-08-13 12:38:28,158 - urllib3.poolmanager - INFO - Redirecting https://www.loopearplugs.com/pages/b2b -> https://b2b.loopearplugs.com/\u001b[0m\n",
      "\u001b[32m2024-08-13 12:38:28,158 - urllib3.poolmanager - INFO - Redirecting https://www.loopearplugs.com/pages/b2b -> https://b2b.loopearplugs.com/\u001b[0m\n",
      "\u001b[32m2024-08-13 12:38:28,158 - urllib3.poolmanager - INFO - Redirecting https://www.loopearplugs.com/pages/b2b -> https://b2b.loopearplugs.com/\u001b[0m\n",
      "\u001b[32m2024-08-13 12:38:28,158 - urllib3.poolmanager - INFO - Redirecting https://www.loopearplugs.com/pages/b2b -> https://b2b.loopearplugs.com/\u001b[0m\n",
      "\u001b[32m2024-08-13 12:38:28,158 - urllib3.poolmanager - INFO - Redirecting https://www.loopearplugs.com/pages/b2b -> https://b2b.loopearplugs.com/\u001b[0m\n",
      "\u001b[32m2024-08-13 12:38:28,158 - urllib3.poolmanager - INFO - Redirecting https://www.loopearplugs.com/pages/b2b -> https://b2b.loopearplugs.com/\u001b[0m\n",
      "\u001b[32m2024-08-13 12:38:29,087 - courlan.core - INFO - 23 links found – 16 valid links\u001b[0m\n",
      "\u001b[32m2024-08-13 12:38:29,087 - courlan.core - INFO - 23 links found – 16 valid links\u001b[0m\n",
      "\u001b[32m2024-08-13 12:38:29,087 - courlan.core - INFO - 23 links found – 16 valid links\u001b[0m\n",
      "\u001b[32m2024-08-13 12:38:29,087 - courlan.core - INFO - 23 links found – 16 valid links\u001b[0m\n",
      "\u001b[32m2024-08-13 12:38:29,087 - courlan.core - INFO - 23 links found – 16 valid links\u001b[0m\n",
      "\u001b[32m2024-08-13 12:38:29,087 - courlan.core - INFO - 23 links found – 16 valid links\u001b[0m\n",
      "\u001b[32m2024-08-13 12:38:30,268 - urllib3.poolmanager - INFO - Redirecting https://www.loopearplugs.com/collections/all-products -> https://www.loopearplugs.com/collections/all\u001b[0m\n",
      "\u001b[32m2024-08-13 12:38:30,268 - urllib3.poolmanager - INFO - Redirecting https://www.loopearplugs.com/collections/all-products -> https://www.loopearplugs.com/collections/all\u001b[0m\n",
      "\u001b[32m2024-08-13 12:38:30,268 - urllib3.poolmanager - INFO - Redirecting https://www.loopearplugs.com/collections/all-products -> https://www.loopearplugs.com/collections/all\u001b[0m\n",
      "\u001b[32m2024-08-13 12:38:30,268 - urllib3.poolmanager - INFO - Redirecting https://www.loopearplugs.com/collections/all-products -> https://www.loopearplugs.com/collections/all\u001b[0m\n",
      "\u001b[32m2024-08-13 12:38:30,268 - urllib3.poolmanager - INFO - Redirecting https://www.loopearplugs.com/collections/all-products -> https://www.loopearplugs.com/collections/all\u001b[0m\n",
      "\u001b[32m2024-08-13 12:38:30,268 - urllib3.poolmanager - INFO - Redirecting https://www.loopearplugs.com/collections/all-products -> https://www.loopearplugs.com/collections/all\u001b[0m\n",
      "\u001b[33m2024-08-13 12:38:30,607 - courlan.urlstore - WARNING - Discarding URL: /collections/all\u001b[0m\n",
      "\u001b[33m2024-08-13 12:38:30,607 - courlan.urlstore - WARNING - Discarding URL: /collections/all\u001b[0m\n",
      "\u001b[33m2024-08-13 12:38:30,607 - courlan.urlstore - WARNING - Discarding URL: /collections/all\u001b[0m\n",
      "\u001b[33m2024-08-13 12:38:30,607 - courlan.urlstore - WARNING - Discarding URL: /collections/all\u001b[0m\n",
      "\u001b[33m2024-08-13 12:38:30,607 - courlan.urlstore - WARNING - Discarding URL: /collections/all\u001b[0m\n",
      "\u001b[33m2024-08-13 12:38:30,607 - courlan.urlstore - WARNING - Discarding URL: /collections/all\u001b[0m\n",
      "\u001b[32m2024-08-13 12:38:30,617 - courlan.core - INFO - 50 links found – 46 valid links\u001b[0m\n",
      "\u001b[32m2024-08-13 12:38:30,617 - courlan.core - INFO - 50 links found – 46 valid links\u001b[0m\n",
      "\u001b[32m2024-08-13 12:38:30,617 - courlan.core - INFO - 50 links found – 46 valid links\u001b[0m\n",
      "\u001b[32m2024-08-13 12:38:30,617 - courlan.core - INFO - 50 links found – 46 valid links\u001b[0m\n",
      "\u001b[32m2024-08-13 12:38:30,617 - courlan.core - INFO - 50 links found – 46 valid links\u001b[0m\n",
      "\u001b[32m2024-08-13 12:38:30,617 - courlan.core - INFO - 50 links found – 46 valid links\u001b[0m\n",
      "\u001b[32m2024-08-13 12:38:31,803 - urllib3.poolmanager - INFO - Redirecting https://www.loopearplugs.com/collections/all-products/products/quiet -> https://www.loopearplugs.com/products/quiet\u001b[0m\n",
      "\u001b[32m2024-08-13 12:38:31,803 - urllib3.poolmanager - INFO - Redirecting https://www.loopearplugs.com/collections/all-products/products/quiet -> https://www.loopearplugs.com/products/quiet\u001b[0m\n",
      "\u001b[32m2024-08-13 12:38:31,803 - urllib3.poolmanager - INFO - Redirecting https://www.loopearplugs.com/collections/all-products/products/quiet -> https://www.loopearplugs.com/products/quiet\u001b[0m\n",
      "\u001b[32m2024-08-13 12:38:31,803 - urllib3.poolmanager - INFO - Redirecting https://www.loopearplugs.com/collections/all-products/products/quiet -> https://www.loopearplugs.com/products/quiet\u001b[0m\n",
      "\u001b[32m2024-08-13 12:38:31,803 - urllib3.poolmanager - INFO - Redirecting https://www.loopearplugs.com/collections/all-products/products/quiet -> https://www.loopearplugs.com/products/quiet\u001b[0m\n",
      "\u001b[32m2024-08-13 12:38:31,803 - urllib3.poolmanager - INFO - Redirecting https://www.loopearplugs.com/collections/all-products/products/quiet -> https://www.loopearplugs.com/products/quiet\u001b[0m\n",
      "\u001b[32m2024-08-13 12:38:32,072 - courlan.core - INFO - 38 links found – 24 valid links\u001b[0m\n",
      "\u001b[32m2024-08-13 12:38:32,072 - courlan.core - INFO - 38 links found – 24 valid links\u001b[0m\n",
      "\u001b[32m2024-08-13 12:38:32,072 - courlan.core - INFO - 38 links found – 24 valid links\u001b[0m\n",
      "\u001b[32m2024-08-13 12:38:32,072 - courlan.core - INFO - 38 links found – 24 valid links\u001b[0m\n",
      "\u001b[32m2024-08-13 12:38:32,072 - courlan.core - INFO - 38 links found – 24 valid links\u001b[0m\n",
      "\u001b[32m2024-08-13 12:38:32,072 - courlan.core - INFO - 38 links found – 24 valid links\u001b[0m\n",
      "\u001b[33m2024-08-13 12:38:34,564 - courlan.urlstore - WARNING - Discarding URL: /blogs/press-corner/bestselling-belgian-earplugs-taking-over-the-world-dreamed-up-by-childhood-best-friends\u001b[0m\n",
      "\u001b[33m2024-08-13 12:38:34,564 - courlan.urlstore - WARNING - Discarding URL: /blogs/press-corner/bestselling-belgian-earplugs-taking-over-the-world-dreamed-up-by-childhood-best-friends\u001b[0m\n",
      "\u001b[33m2024-08-13 12:38:34,564 - courlan.urlstore - WARNING - Discarding URL: /blogs/press-corner/bestselling-belgian-earplugs-taking-over-the-world-dreamed-up-by-childhood-best-friends\u001b[0m\n",
      "\u001b[33m2024-08-13 12:38:34,564 - courlan.urlstore - WARNING - Discarding URL: /blogs/press-corner/bestselling-belgian-earplugs-taking-over-the-world-dreamed-up-by-childhood-best-friends\u001b[0m\n",
      "\u001b[33m2024-08-13 12:38:34,564 - courlan.urlstore - WARNING - Discarding URL: /blogs/press-corner/bestselling-belgian-earplugs-taking-over-the-world-dreamed-up-by-childhood-best-friends\u001b[0m\n",
      "\u001b[33m2024-08-13 12:38:34,564 - courlan.urlstore - WARNING - Discarding URL: /blogs/press-corner/bestselling-belgian-earplugs-taking-over-the-world-dreamed-up-by-childhood-best-friends\u001b[0m\n",
      "\u001b[32m2024-08-13 12:38:34,573 - courlan.core - INFO - 30 links found – 25 valid links\u001b[0m\n",
      "\u001b[32m2024-08-13 12:38:34,573 - courlan.core - INFO - 30 links found – 25 valid links\u001b[0m\n",
      "\u001b[32m2024-08-13 12:38:34,573 - courlan.core - INFO - 30 links found – 25 valid links\u001b[0m\n",
      "\u001b[32m2024-08-13 12:38:34,573 - courlan.core - INFO - 30 links found – 25 valid links\u001b[0m\n",
      "\u001b[32m2024-08-13 12:38:34,573 - courlan.core - INFO - 30 links found – 25 valid links\u001b[0m\n",
      "\u001b[32m2024-08-13 12:38:34,573 - courlan.core - INFO - 30 links found – 25 valid links\u001b[0m\n",
      "\u001b[33m2024-08-13 12:38:36,830 - courlan.urlstore - WARNING - Discarding URL: /pages/earplugs-for-drummers\u001b[0m\n",
      "\u001b[33m2024-08-13 12:38:36,830 - courlan.urlstore - WARNING - Discarding URL: /pages/earplugs-for-drummers\u001b[0m\n",
      "\u001b[33m2024-08-13 12:38:36,830 - courlan.urlstore - WARNING - Discarding URL: /pages/earplugs-for-drummers\u001b[0m\n",
      "\u001b[33m2024-08-13 12:38:36,830 - courlan.urlstore - WARNING - Discarding URL: /pages/earplugs-for-drummers\u001b[0m\n",
      "\u001b[33m2024-08-13 12:38:36,830 - courlan.urlstore - WARNING - Discarding URL: /pages/earplugs-for-drummers\u001b[0m\n",
      "\u001b[33m2024-08-13 12:38:36,830 - courlan.urlstore - WARNING - Discarding URL: /pages/earplugs-for-drummers\u001b[0m\n",
      "\u001b[32m2024-08-13 12:38:36,841 - courlan.core - INFO - 33 links found – 28 valid links\u001b[0m\n",
      "\u001b[32m2024-08-13 12:38:36,841 - courlan.core - INFO - 33 links found – 28 valid links\u001b[0m\n",
      "\u001b[32m2024-08-13 12:38:36,841 - courlan.core - INFO - 33 links found – 28 valid links\u001b[0m\n",
      "\u001b[32m2024-08-13 12:38:36,841 - courlan.core - INFO - 33 links found – 28 valid links\u001b[0m\n",
      "\u001b[32m2024-08-13 12:38:36,841 - courlan.core - INFO - 33 links found – 28 valid links\u001b[0m\n",
      "\u001b[32m2024-08-13 12:38:36,841 - courlan.core - INFO - 33 links found – 28 valid links\u001b[0m\n",
      "\u001b[32m2024-08-13 12:38:38,223 - urllib3.poolmanager - INFO - Redirecting https://www.loopearplugs.com/products/loop-link -> https://www.loopearplugs.com/products/link\u001b[0m\n",
      "\u001b[32m2024-08-13 12:38:38,223 - urllib3.poolmanager - INFO - Redirecting https://www.loopearplugs.com/products/loop-link -> https://www.loopearplugs.com/products/link\u001b[0m\n",
      "\u001b[32m2024-08-13 12:38:38,223 - urllib3.poolmanager - INFO - Redirecting https://www.loopearplugs.com/products/loop-link -> https://www.loopearplugs.com/products/link\u001b[0m\n",
      "\u001b[32m2024-08-13 12:38:38,223 - urllib3.poolmanager - INFO - Redirecting https://www.loopearplugs.com/products/loop-link -> https://www.loopearplugs.com/products/link\u001b[0m\n",
      "\u001b[32m2024-08-13 12:38:38,223 - urllib3.poolmanager - INFO - Redirecting https://www.loopearplugs.com/products/loop-link -> https://www.loopearplugs.com/products/link\u001b[0m\n",
      "\u001b[32m2024-08-13 12:38:38,223 - urllib3.poolmanager - INFO - Redirecting https://www.loopearplugs.com/products/loop-link -> https://www.loopearplugs.com/products/link\u001b[0m\n",
      "\u001b[33m2024-08-13 12:38:38,531 - courlan.urlstore - WARNING - Discarding URL: /products/link\u001b[0m\n",
      "\u001b[33m2024-08-13 12:38:38,531 - courlan.urlstore - WARNING - Discarding URL: /products/link\u001b[0m\n",
      "\u001b[33m2024-08-13 12:38:38,531 - courlan.urlstore - WARNING - Discarding URL: /products/link\u001b[0m\n",
      "\u001b[33m2024-08-13 12:38:38,531 - courlan.urlstore - WARNING - Discarding URL: /products/link\u001b[0m\n",
      "\u001b[33m2024-08-13 12:38:38,531 - courlan.urlstore - WARNING - Discarding URL: /products/link\u001b[0m\n",
      "\u001b[33m2024-08-13 12:38:38,531 - courlan.urlstore - WARNING - Discarding URL: /products/link\u001b[0m\n",
      "\u001b[32m2024-08-13 12:38:38,537 - courlan.core - INFO - 31 links found – 25 valid links\u001b[0m\n",
      "\u001b[32m2024-08-13 12:38:38,537 - courlan.core - INFO - 31 links found – 25 valid links\u001b[0m\n",
      "\u001b[32m2024-08-13 12:38:38,537 - courlan.core - INFO - 31 links found – 25 valid links\u001b[0m\n",
      "\u001b[32m2024-08-13 12:38:38,537 - courlan.core - INFO - 31 links found – 25 valid links\u001b[0m\n",
      "\u001b[32m2024-08-13 12:38:38,537 - courlan.core - INFO - 31 links found – 25 valid links\u001b[0m\n",
      "\u001b[32m2024-08-13 12:38:38,537 - courlan.core - INFO - 31 links found – 25 valid links\u001b[0m\n",
      "\u001b[33m2024-08-13 12:38:40,878 - courlan.urlstore - WARNING - Discarding URL: /pages/business-pricing\u001b[0m\n",
      "\u001b[33m2024-08-13 12:38:40,878 - courlan.urlstore - WARNING - Discarding URL: /pages/business-pricing\u001b[0m\n",
      "\u001b[33m2024-08-13 12:38:40,878 - courlan.urlstore - WARNING - Discarding URL: /pages/business-pricing\u001b[0m\n",
      "\u001b[33m2024-08-13 12:38:40,878 - courlan.urlstore - WARNING - Discarding URL: /pages/business-pricing\u001b[0m\n",
      "\u001b[33m2024-08-13 12:38:40,878 - courlan.urlstore - WARNING - Discarding URL: /pages/business-pricing\u001b[0m\n",
      "\u001b[33m2024-08-13 12:38:40,878 - courlan.urlstore - WARNING - Discarding URL: /pages/business-pricing\u001b[0m\n",
      "\u001b[32m2024-08-13 12:38:40,886 - courlan.core - INFO - 26 links found – 23 valid links\u001b[0m\n",
      "\u001b[32m2024-08-13 12:38:40,886 - courlan.core - INFO - 26 links found – 23 valid links\u001b[0m\n",
      "\u001b[32m2024-08-13 12:38:40,886 - courlan.core - INFO - 26 links found – 23 valid links\u001b[0m\n",
      "\u001b[32m2024-08-13 12:38:40,886 - courlan.core - INFO - 26 links found – 23 valid links\u001b[0m\n",
      "\u001b[32m2024-08-13 12:38:40,886 - courlan.core - INFO - 26 links found – 23 valid links\u001b[0m\n",
      "\u001b[32m2024-08-13 12:38:40,886 - courlan.core - INFO - 26 links found – 23 valid links\u001b[0m\n",
      "\u001b[33m2024-08-13 12:38:42,513 - courlan.urlstore - WARNING - Discarding URL: /products/quiet-3\u001b[0m\n",
      "\u001b[33m2024-08-13 12:38:42,513 - courlan.urlstore - WARNING - Discarding URL: /products/quiet-3\u001b[0m\n",
      "\u001b[33m2024-08-13 12:38:42,513 - courlan.urlstore - WARNING - Discarding URL: /products/quiet-3\u001b[0m\n",
      "\u001b[33m2024-08-13 12:38:42,513 - courlan.urlstore - WARNING - Discarding URL: /products/quiet-3\u001b[0m\n",
      "\u001b[33m2024-08-13 12:38:42,513 - courlan.urlstore - WARNING - Discarding URL: /products/quiet-3\u001b[0m\n",
      "\u001b[33m2024-08-13 12:38:42,513 - courlan.urlstore - WARNING - Discarding URL: /products/quiet-3\u001b[0m\n",
      "\u001b[32m2024-08-13 12:38:42,523 - courlan.core - INFO - 26 links found – 23 valid links\u001b[0m\n",
      "\u001b[32m2024-08-13 12:38:42,523 - courlan.core - INFO - 26 links found – 23 valid links\u001b[0m\n",
      "\u001b[32m2024-08-13 12:38:42,523 - courlan.core - INFO - 26 links found – 23 valid links\u001b[0m\n",
      "\u001b[32m2024-08-13 12:38:42,523 - courlan.core - INFO - 26 links found – 23 valid links\u001b[0m\n",
      "\u001b[32m2024-08-13 12:38:42,523 - courlan.core - INFO - 26 links found – 23 valid links\u001b[0m\n",
      "\u001b[32m2024-08-13 12:38:42,523 - courlan.core - INFO - 26 links found – 23 valid links\u001b[0m\n",
      "\u001b[32m2024-08-13 12:38:43,876 - urllib3.poolmanager - INFO - Redirecting https://www.loopearplugs.com/products/experience-2-plus -> https://www.loopearplugs.com/products/experience-plus\u001b[0m\n",
      "\u001b[32m2024-08-13 12:38:43,876 - urllib3.poolmanager - INFO - Redirecting https://www.loopearplugs.com/products/experience-2-plus -> https://www.loopearplugs.com/products/experience-plus\u001b[0m\n",
      "\u001b[32m2024-08-13 12:38:43,876 - urllib3.poolmanager - INFO - Redirecting https://www.loopearplugs.com/products/experience-2-plus -> https://www.loopearplugs.com/products/experience-plus\u001b[0m\n",
      "\u001b[32m2024-08-13 12:38:43,876 - urllib3.poolmanager - INFO - Redirecting https://www.loopearplugs.com/products/experience-2-plus -> https://www.loopearplugs.com/products/experience-plus\u001b[0m\n",
      "\u001b[32m2024-08-13 12:38:43,876 - urllib3.poolmanager - INFO - Redirecting https://www.loopearplugs.com/products/experience-2-plus -> https://www.loopearplugs.com/products/experience-plus\u001b[0m\n",
      "\u001b[32m2024-08-13 12:38:43,876 - urllib3.poolmanager - INFO - Redirecting https://www.loopearplugs.com/products/experience-2-plus -> https://www.loopearplugs.com/products/experience-plus\u001b[0m\n",
      "\u001b[33m2024-08-13 12:38:44,159 - courlan.urlstore - WARNING - Discarding URL: /products/experience-plus\u001b[0m\n",
      "\u001b[33m2024-08-13 12:38:44,159 - courlan.urlstore - WARNING - Discarding URL: /products/experience-plus\u001b[0m\n",
      "\u001b[33m2024-08-13 12:38:44,159 - courlan.urlstore - WARNING - Discarding URL: /products/experience-plus\u001b[0m\n",
      "\u001b[33m2024-08-13 12:38:44,159 - courlan.urlstore - WARNING - Discarding URL: /products/experience-plus\u001b[0m\n",
      "\u001b[33m2024-08-13 12:38:44,159 - courlan.urlstore - WARNING - Discarding URL: /products/experience-plus\u001b[0m\n",
      "\u001b[33m2024-08-13 12:38:44,159 - courlan.urlstore - WARNING - Discarding URL: /products/experience-plus\u001b[0m\n",
      "\u001b[32m2024-08-13 12:38:44,171 - courlan.core - INFO - 36 links found – 24 valid links\u001b[0m\n",
      "\u001b[32m2024-08-13 12:38:44,171 - courlan.core - INFO - 36 links found – 24 valid links\u001b[0m\n",
      "\u001b[32m2024-08-13 12:38:44,171 - courlan.core - INFO - 36 links found – 24 valid links\u001b[0m\n",
      "\u001b[32m2024-08-13 12:38:44,171 - courlan.core - INFO - 36 links found – 24 valid links\u001b[0m\n",
      "\u001b[32m2024-08-13 12:38:44,171 - courlan.core - INFO - 36 links found – 24 valid links\u001b[0m\n",
      "\u001b[32m2024-08-13 12:38:44,171 - courlan.core - INFO - 36 links found – 24 valid links\u001b[0m\n",
      "\u001b[33m2024-08-13 12:38:45,765 - courlan.urlstore - WARNING - Discarding URL: /pages/help-me-choose\u001b[0m\n",
      "\u001b[33m2024-08-13 12:38:45,765 - courlan.urlstore - WARNING - Discarding URL: /pages/help-me-choose\u001b[0m\n",
      "\u001b[33m2024-08-13 12:38:45,765 - courlan.urlstore - WARNING - Discarding URL: /pages/help-me-choose\u001b[0m\n",
      "\u001b[33m2024-08-13 12:38:45,765 - courlan.urlstore - WARNING - Discarding URL: /pages/help-me-choose\u001b[0m\n",
      "\u001b[33m2024-08-13 12:38:45,765 - courlan.urlstore - WARNING - Discarding URL: /pages/help-me-choose\u001b[0m\n",
      "\u001b[33m2024-08-13 12:38:45,765 - courlan.urlstore - WARNING - Discarding URL: /pages/help-me-choose\u001b[0m\n",
      "\u001b[32m2024-08-13 12:38:45,772 - courlan.core - INFO - 26 links found – 23 valid links\u001b[0m\n",
      "\u001b[32m2024-08-13 12:38:45,772 - courlan.core - INFO - 26 links found – 23 valid links\u001b[0m\n",
      "\u001b[32m2024-08-13 12:38:45,772 - courlan.core - INFO - 26 links found – 23 valid links\u001b[0m\n",
      "\u001b[32m2024-08-13 12:38:45,772 - courlan.core - INFO - 26 links found – 23 valid links\u001b[0m\n",
      "\u001b[32m2024-08-13 12:38:45,772 - courlan.core - INFO - 26 links found – 23 valid links\u001b[0m\n",
      "\u001b[32m2024-08-13 12:38:45,772 - courlan.core - INFO - 26 links found – 23 valid links\u001b[0m\n",
      "\u001b[33m2024-08-13 12:38:47,336 - courlan.urlstore - WARNING - Discarding URL: /products/engage-2-plus\u001b[0m\n",
      "\u001b[33m2024-08-13 12:38:47,336 - courlan.urlstore - WARNING - Discarding URL: /products/engage-2-plus\u001b[0m\n",
      "\u001b[33m2024-08-13 12:38:47,336 - courlan.urlstore - WARNING - Discarding URL: /products/engage-2-plus\u001b[0m\n",
      "\u001b[33m2024-08-13 12:38:47,336 - courlan.urlstore - WARNING - Discarding URL: /products/engage-2-plus\u001b[0m\n",
      "\u001b[33m2024-08-13 12:38:47,336 - courlan.urlstore - WARNING - Discarding URL: /products/engage-2-plus\u001b[0m\n",
      "\u001b[33m2024-08-13 12:38:47,336 - courlan.urlstore - WARNING - Discarding URL: /products/engage-2-plus\u001b[0m\n",
      "\u001b[32m2024-08-13 12:38:47,344 - courlan.core - INFO - 26 links found – 23 valid links\u001b[0m\n",
      "\u001b[32m2024-08-13 12:38:47,344 - courlan.core - INFO - 26 links found – 23 valid links\u001b[0m\n",
      "\u001b[32m2024-08-13 12:38:47,344 - courlan.core - INFO - 26 links found – 23 valid links\u001b[0m\n",
      "\u001b[32m2024-08-13 12:38:47,344 - courlan.core - INFO - 26 links found – 23 valid links\u001b[0m\n",
      "\u001b[32m2024-08-13 12:38:47,344 - courlan.core - INFO - 26 links found – 23 valid links\u001b[0m\n",
      "\u001b[32m2024-08-13 12:38:47,344 - courlan.core - INFO - 26 links found – 23 valid links\u001b[0m\n",
      "\u001b[33m2024-08-13 12:38:48,954 - courlan.urlstore - WARNING - Discarding URL: /products/engage-4\u001b[0m\n",
      "\u001b[33m2024-08-13 12:38:48,954 - courlan.urlstore - WARNING - Discarding URL: /products/engage-4\u001b[0m\n",
      "\u001b[33m2024-08-13 12:38:48,954 - courlan.urlstore - WARNING - Discarding URL: /products/engage-4\u001b[0m\n",
      "\u001b[33m2024-08-13 12:38:48,954 - courlan.urlstore - WARNING - Discarding URL: /products/engage-4\u001b[0m\n",
      "\u001b[33m2024-08-13 12:38:48,954 - courlan.urlstore - WARNING - Discarding URL: /products/engage-4\u001b[0m\n",
      "\u001b[33m2024-08-13 12:38:48,954 - courlan.urlstore - WARNING - Discarding URL: /products/engage-4\u001b[0m\n",
      "\u001b[32m2024-08-13 12:38:48,965 - courlan.core - INFO - 26 links found – 23 valid links\u001b[0m\n",
      "\u001b[32m2024-08-13 12:38:48,965 - courlan.core - INFO - 26 links found – 23 valid links\u001b[0m\n",
      "\u001b[32m2024-08-13 12:38:48,965 - courlan.core - INFO - 26 links found – 23 valid links\u001b[0m\n",
      "\u001b[32m2024-08-13 12:38:48,965 - courlan.core - INFO - 26 links found – 23 valid links\u001b[0m\n",
      "\u001b[32m2024-08-13 12:38:48,965 - courlan.core - INFO - 26 links found – 23 valid links\u001b[0m\n",
      "\u001b[32m2024-08-13 12:38:48,965 - courlan.core - INFO - 26 links found – 23 valid links\u001b[0m\n",
      "\u001b[33m2024-08-13 12:38:50,510 - courlan.urlstore - WARNING - Discarding URL: /pages/sign-up-for-a-customer-account\u001b[0m\n",
      "\u001b[33m2024-08-13 12:38:50,510 - courlan.urlstore - WARNING - Discarding URL: /pages/sign-up-for-a-customer-account\u001b[0m\n",
      "\u001b[33m2024-08-13 12:38:50,510 - courlan.urlstore - WARNING - Discarding URL: /pages/sign-up-for-a-customer-account\u001b[0m\n",
      "\u001b[33m2024-08-13 12:38:50,510 - courlan.urlstore - WARNING - Discarding URL: /pages/sign-up-for-a-customer-account\u001b[0m\n",
      "\u001b[33m2024-08-13 12:38:50,510 - courlan.urlstore - WARNING - Discarding URL: /pages/sign-up-for-a-customer-account\u001b[0m\n",
      "\u001b[33m2024-08-13 12:38:50,510 - courlan.urlstore - WARNING - Discarding URL: /pages/sign-up-for-a-customer-account\u001b[0m\n",
      "\u001b[32m2024-08-13 12:38:50,519 - courlan.core - INFO - 26 links found – 23 valid links\u001b[0m\n",
      "\u001b[32m2024-08-13 12:38:50,519 - courlan.core - INFO - 26 links found – 23 valid links\u001b[0m\n",
      "\u001b[32m2024-08-13 12:38:50,519 - courlan.core - INFO - 26 links found – 23 valid links\u001b[0m\n",
      "\u001b[32m2024-08-13 12:38:50,519 - courlan.core - INFO - 26 links found – 23 valid links\u001b[0m\n",
      "\u001b[32m2024-08-13 12:38:50,519 - courlan.core - INFO - 26 links found – 23 valid links\u001b[0m\n",
      "\u001b[32m2024-08-13 12:38:50,519 - courlan.core - INFO - 26 links found – 23 valid links\u001b[0m\n",
      "\u001b[33m2024-08-13 12:38:52,122 - courlan.urlstore - WARNING - Discarding URL: /products/experience-4\u001b[0m\n",
      "\u001b[33m2024-08-13 12:38:52,122 - courlan.urlstore - WARNING - Discarding URL: /products/experience-4\u001b[0m\n",
      "\u001b[33m2024-08-13 12:38:52,122 - courlan.urlstore - WARNING - Discarding URL: /products/experience-4\u001b[0m\n",
      "\u001b[33m2024-08-13 12:38:52,122 - courlan.urlstore - WARNING - Discarding URL: /products/experience-4\u001b[0m\n",
      "\u001b[33m2024-08-13 12:38:52,122 - courlan.urlstore - WARNING - Discarding URL: /products/experience-4\u001b[0m\n",
      "\u001b[33m2024-08-13 12:38:52,122 - courlan.urlstore - WARNING - Discarding URL: /products/experience-4\u001b[0m\n",
      "\u001b[32m2024-08-13 12:38:52,130 - courlan.core - INFO - 26 links found – 23 valid links\u001b[0m\n",
      "\u001b[32m2024-08-13 12:38:52,130 - courlan.core - INFO - 26 links found – 23 valid links\u001b[0m\n",
      "\u001b[32m2024-08-13 12:38:52,130 - courlan.core - INFO - 26 links found – 23 valid links\u001b[0m\n",
      "\u001b[32m2024-08-13 12:38:52,130 - courlan.core - INFO - 26 links found – 23 valid links\u001b[0m\n",
      "\u001b[32m2024-08-13 12:38:52,130 - courlan.core - INFO - 26 links found – 23 valid links\u001b[0m\n",
      "\u001b[32m2024-08-13 12:38:52,130 - courlan.core - INFO - 26 links found – 23 valid links\u001b[0m\n",
      "\u001b[32m2024-08-13 12:38:53,137 - root - INFO - Finished scraping 301 links\u001b[0m\n",
      "\u001b[32m2024-08-13 12:38:53,137 - root - INFO - Finished scraping 301 links\u001b[0m\n",
      "\u001b[32m2024-08-13 12:38:53,137 - root - INFO - Finished scraping 301 links\u001b[0m\n",
      "\u001b[32m2024-08-13 12:38:53,137 - root - INFO - Finished scraping 301 links\u001b[0m\n",
      "\u001b[32m2024-08-13 12:38:53,137 - root - INFO - Finished scraping 301 links\u001b[0m\n",
      "\u001b[32m2024-08-13 12:38:53,137 - root - INFO - Finished scraping 301 links\u001b[0m\n"
     ]
    },
    {
     "name": "stdout",
     "output_type": "stream",
     "text": [
      "['https://www.loopearplugs.com/', 'https://www.loopearplugs.com/pages/noise-sensitivity', 'https://www.loopearplugs.com/products/experience-plus', 'https://www.loopearplugs.com/pages/ugc-terms-conditions', 'https://www.loopearplugs.com/collections/all', 'https://www.loopearplugs.com/pages/warranty-policy', 'https://www.loopearplugs.com/collections/kinetic-collection', 'https://www.loopearplugs.com/pages/careers', 'https://www.loopearplugs.com/pages/earplugs-for-events', 'https://www.loopearplugs.com/products/carry-case-black', 'https://www.loopearplugs.com/blogs/press-corner', 'https://www.loopearplugs.com/products/engage-plus', 'https://www.loopearplugs.com/products/experience1', 'https://www.loopearplugs.com/pages/earplugs-for-traveling', 'https://www.loopearplugs.com/pages/affiliate-program', 'https://www.loopearplugs.com/pages/earplugs-for-parenting', 'https://www.loopearplugs.com/collections/accessories', 'https://www.loopearplugs.com/pages/gifts-for-adhd', 'https://www.loopearplugs.com/products/quiet-plus', 'https://www.loopearplugs.com/pages/gifts-for-autism', 'https://www.loopearplugs.com/products/engage1', 'https://www.loopearplugs.com/products/experience', 'https://www.loopearplugs.com/learnMoreURL%28product%29', 'https://www.loopearplugs.com/pages/quiz', 'https://www.loopearplugs.com/collections/bundles', 'https://www.loopearplugs.com/products/switch', 'https://www.loopearplugs.com/itemURL%28item%29', 'https://www.loopearplugs.com/pages/returns', 'https://www.loopearplugs.com/products/quiet', 'https://www.loopearplugs.com/pages/compare-loop-earplugs', 'https://www.loopearplugs.com/blogs/blog', 'https://www.loopearplugs.com/products/engage', 'https://www.loopearplugs.com/pages/cookie-policy', 'https://www.loopearplugs.com/pages/start', 'https://www.loopearplugs.com/products/engage-plus1', 'https://www.loopearplugs.com/products/experience-plus1', 'https://www.loopearplugs.com/%5C', 'https://www.loopearplugs.com/products/engage-kids', 'https://www.loopearplugs.com/pages/community', 'https://www.loopearplugs.com/pages/earplugs-for-sleeping', 'https://www.loopearplugs.com/products/tomorrowland', 'https://www.loopearplugs.com/collections/best-sellers', 'https://www.loopearplugs.com/pages/earplugs-for-autism', 'https://www.loopearplugs.com/blogs/blog/how-to-deal-with-misophonia-at-work', 'https://www.loopearplugs.com/blogs/blog/how-to-deal-with-sensory-overload', 'https://www.loopearplugs.com/blogs/blog/noise-sensitivity-anxiety', 'https://www.loopearplugs.com/pages/earplugs-for-adhd', 'https://www.loopearplugs.com/blogs/blog/are-misophonia-and-adhd-connected', 'https://www.loopearplugs.com/pages/earplugs-for-misophonia', 'https://www.loopearplugs.com/products/experience-plus-kinetic', 'https://www.loopearplugs.com/cdn-cgi/l/email-protection', 'https://www.loopearplugs.com/products/engage-plus-kinetic', 'https://www.loopearplugs.com/products/mute-style-pack-kinetic', 'https://www.loopearplugs.com/products/loop-link-kinetic', 'https://www.loopearplugs.com/products/quiet-kinetic', 'https://www.loopearplugs.com/products/extra-carry-case-kinetic', 'https://www.loopearplugs.com/products/experience-kinetic', 'https://www.loopearplugs.com/products/engage-kinetic', 'https://www.loopearplugs.com/products/switch-kinetic', 'https://www.loopearplugs.com/blogs/life-at-loop/thriving-together-to-deliver-the-best-earwear', 'https://www.loopearplugs.com/pages/explore-all-jobs', 'https://www.loopearplugs.com/blogs/life-at-loop/why-designing-earwear-is-far-from-boring', 'https://www.loopearplugs.com/blogs/life-at-loop/revolutionizing-our-talent-acquisition-with-ai', 'https://www.loopearplugs.com/blogs/life-at-loop', 'https://www.loopearplugs.com/blogs/blog/how-to-stop-the-ringing-in-your-ears-after-clubbing', 'https://www.loopearplugs.com/blogs/blog/which-loop-earplugs-are-right-for-me', 'https://www.loopearplugs.com/blogs/blog/the-loudest-concerts-in-the-history-of-rock', 'https://www.loopearplugs.com/pages/best-earplugs-for-festivals', 'https://www.loopearplugs.com/pages/best-earplugs-concerts', 'https://www.loopearplugs.com/blogs/blog/what-are-the-top-five-causes-of-tinnitus', 'https://www.loopearplugs.com/products/experience-pro', 'https://www.loopearplugs.com/blogs/press-corner/loop-earplugs-team-belgiums-secret-weapon-for-paris-2024-olympics', 'https://www.loopearplugs.com/blogs/press-corner/introducing-the-kinetic-collection-loop-earplugs-love-letter-to-y2k-fashion', 'https://www.loopearplugs.com/blogs/press-corner/loop-x-team-belgium', 'https://www.loopearplugs.com/blogs/blog/background-noise-driving-you-crazy-here-are-our-top-5-tips-to-get-your-concentration-back', 'https://www.loopearplugs.com/blogs/blog/tips-for-sleeping-while-travelling', 'https://www.loopearplugs.com/blogs/blog/sensory-overload-kids-covid', 'https://www.loopearplugs.com/blogs/blog/suffering-from-auditory-overload-find-your-calm', 'https://www.loopearplugs.com/products/quiet-2-ear-tips-4-pack-multi', 'https://www.loopearplugs.com/products/silicone-ear-tips', 'https://www.loopearplugs.com/products/carry-case-switch', 'https://www.loopearplugs.com/products/link', 'https://www.loopearplugs.com/products/tips-foam', 'https://www.loopearplugs.com/products/tips-silicone-mute', 'https://www.loopearplugs.com/products/quiet-2-ear-tips-4-pack-black', 'https://www.loopearplugs.com/products/double-tips', 'https://www.loopearplugs.com/pages/focus', 'https://www.loopearplugs.com/blogs/blog/how-to-stay-focused-at-work', 'https://www.loopearplugs.com/blogs/blog/autistic-traits-sound-sensitivity-how-are-they-linked', 'https://www.loopearplugs.com/products/deluxe-bundle', 'https://www.loopearplugs.com/products/festival-bundle', 'https://www.loopearplugs.com/products/earplug-bundle', 'https://www.loopearplugs.com/pages/store-credit-policy', 'https://www.loopearplugs.com/blogs/life-at-loop/8-employees-2-questions', 'https://www.loopearplugs.com/blogs/life-at-loop/loop-in-the-city', 'https://www.loopearplugs.com/blogs/blog/top-9-brilliant-misophonia-podcasts-to-listen-to', 'https://www.loopearplugs.com/blogs/life-at-loop/walk-talk-with-fan', 'https://www.loopearplugs.com/blogs/blog/how-sleeping-with-earplugs-can-improve-your-sleep', 'https://www.loopearplugs.com/blogs/blog/behind-the-scenes-creating-solstice', 'https://www.loopearplugs.com/blogs/blog/how-to-avoid-hearing-damage', 'https://www.loopearplugs.com/blogs/blog/how-to-encourage-more-pto-and-prep-employees-for-vacations', 'https://www.loopearplugs.com/blogs/blog/sound-reduction', 'https://www.loopearplugs.com/blogs/blog/noise-canceling-earbuds-vs-earplugs-which-is-better-for-protecting-your-ears-1', 'https://www.loopearplugs.com/blogs/blog/famous-artists-with-tinnitus', 'https://www.loopearplugs.com/blogs/blog/reusable', 'https://www.loopearplugs.com/blogs/blog/what-to-wear-to-a-rave-womens-outfit-inspiration', 'https://www.loopearplugs.com/blogs/blog/what-is-noise-pollution-definition-sources-prevention-amp-facts', 'https://www.loopearplugs.com/blogs/life-at-loop/an-interview-with-loops-influencer-marketeer-arina-lipina', 'https://www.loopearplugs.com/blogs/blog/5-tips-to-brighten-up-your-january', 'https://www.loopearplugs.com/blogs/blog/best-apps-for-managing-tinnitus', 'https://www.loopearplugs.com/blogs/blog/gift-guide-ideas', 'https://www.loopearplugs.com/blogs/blog/behind-the-scenes-iridescent-photoshoot', 'https://www.loopearplugs.com/blogs/blog/which-ear-tips-should-you-use-silicone-vs-foam-ear-tips', 'https://www.loopearplugs.com/blogs/blog/causes-airplane-ear', 'https://www.loopearplugs.com/blogs/blog/djs-over-40', 'https://www.loopearplugs.com/blogs/blog/protecting-your-hearing-as-a-musician', 'https://www.loopearplugs.com/blogs/blog/big-things-are-coming', 'https://www.loopearplugs.com/blogs/blog/how-to-choose-best-earplugs', 'https://www.loopearplugs.com/blogs/blog/how-sleep-apnea-is-affecting-your-sleep', 'https://www.loopearplugs.com/blogs/blog/noisy-neighbors', 'https://www.loopearplugs.com/blogs/blog/misophonia', 'https://www.loopearplugs.com/blogs/blog/8-essential-motorcycle-safety-tips', 'https://www.loopearplugs.com/blogs/blog/incredible-music-stages', 'https://www.loopearplugs.com/blogs/blog/the-founders-story', 'https://www.loopearplugs.com/blogs/blog/how-to-help-a-distracted-child-in-the-classroom', 'https://www.loopearplugs.com/blogs/blog/misophonia-treatment', 'https://www.loopearplugs.com/blogs/blog/how-to-deal-with-stress-at-work-loop-earplugs', 'https://www.loopearplugs.com/blogs/blog/springcleaning', 'https://www.loopearplugs.com/blogs/life-at-loop/all-ears-to-the-future-loop-ces-2024', 'https://www.loopearplugs.com/blogs/life-at-loop/looper-story-meet-astrid', 'https://www.loopearplugs.com/blogs/blog/block-out-noise-when-sleeping', 'https://www.loopearplugs.com/blogs/blog/calmer-parent', 'https://www.loopearplugs.com/blogs/blog/phonophobia', 'https://www.loopearplugs.com/blogs/blog/why-people-wear-earplugs', 'https://www.loopearplugs.com/blogs/blog/improving-sleep-hygiene', 'https://www.loopearplugs.com/blogs/blog/autism', 'https://www.loopearplugs.com/blogs/blog/it-s-not-you-7-things-you-might-not-even-realize-are-symptoms-of-noise-sensitivity', 'https://www.loopearplugs.com/blogs/blog/how-to-prevent-tinnitus-and-protect-your-ears', 'https://www.loopearplugs.com/blogs/blog/do-you-have-the-ears-of-a-superhuman-or-just-an-average-mortal', 'https://www.loopearplugs.com/blogs/blog/noise-sensitivity', 'https://www.loopearplugs.com/blogs/blog/concerts', 'https://www.loopearplugs.com/blogs/news/untitled-jul-4-22-8-25', 'https://www.loopearplugs.com/blogs/blog/music-festival-tips-and-advice', 'https://www.loopearplugs.com/blogs/blog/the-power-of-sound-what-is-a-decibel-and-how-is-it-measured', 'https://www.loopearplugs.com/blogs/blog/three-different-types-of-tinnitus', 'https://www.loopearplugs.com/blogs/blog/ear-protection', 'https://www.loopearplugs.com/blogs/life-at-loop/looper-story-meet-maks', 'https://www.loopearplugs.com/blogs/blog/how-to-overcome-the-effects-of-noise-in-the-workplace', 'https://www.loopearplugs.com/blogs/blog/15-annoying-sounds-that-need-to-go-away-forever', 'https://www.loopearplugs.com/blogs/life-at-loop/how-innovative-can-an-earplug-get', 'https://www.loopearplugs.com/blogs/blog/a-look-at-the-use-of-earplugs-for-nightclubs-and-festivals', 'https://www.loopearplugs.com/blogs/blog/noisiest-cities-in-the-world', 'https://www.loopearplugs.com/blogs/life-at-loop/5-social-media-trends-to-watch-in-2022', 'https://www.loopearplugs.com/blogs/blog/what-to-wear-to-a-nightclub-the-2023-guide-for-women', 'https://www.loopearplugs.com/blogs/blog/you-asked-we-listened', 'https://www.loopearplugs.com/blogs/blog/top-tips-for-choosing-earplugs-for-sleeping', 'https://www.loopearplugs.com/blogs/life-at-loop/introducing-ludovic-s-loop-story', 'https://www.loopearplugs.com/blogs/blog/silencing-the-stigma-on-hearing-protection-loop-earplugs-x-tomorrowland', 'https://www.loopearplugs.com/blogs/blog/calling-all-overstimulated-parents-reclaim-your-calm', 'https://www.loopearplugs.com/blogs/blog/tinnitus-does-it-ever-truly-go-away', 'https://www.loopearplugs.com/blogs/blog/music-genres-personality-type', 'https://www.loopearplugs.com/blogs/blog/ready-for-the-night-of-your-life-our-ultimate-clubbing-guide-will-show-you-how', 'https://www.loopearplugs.com/blogs/blog/why-are-motorcycles-so-loud', 'https://www.loopearplugs.com/blogs/blog/parents-and-sleep-deprivation-our-top-tips-for-survival', 'https://www.loopearplugs.com/blogs/life-at-loop/the-reality-of-a-workaway', 'https://www.loopearplugs.com/blogs/blog/loop-elements-edition', 'https://www.loopearplugs.com/blogs/blog/kinetic-seasonal-collection', 'https://www.loopearplugs.com/blogs/blog/studying', 'https://www.loopearplugs.com/blogs/life-at-loop/our-marketing-vision-at-loop', 'https://www.loopearplugs.com/blogs/blog/hearing-protection-tips-for-musicians', 'https://www.loopearplugs.com/blogs/blog/noise-cancelling', 'https://www.loopearplugs.com/blogs/blog/what-is-tinnitus', 'https://www.loopearplugs.com/blogs/blog/introducing-loop-engage-kids', 'https://www.loopearplugs.com/blogs/blog/tinnitus', 'https://www.loopearplugs.com/blogs/blog/guide-to-mens-rave-outfits', 'https://www.loopearplugs.com/blogs/life-at-loop/tips-for-giving-tips', 'https://www.loopearplugs.com/blogs/blog/sensory-overload', 'https://www.loopearplugs.com/blogs/life-at-loop/looper-story-meet-tiemen', 'https://www.loopearplugs.com/blogs/blog/how-to-identify-if-you-have-hearing-loss-caused-by-loud-noise', 'https://www.loopearplugs.com/blogs/blog/sound-sensitivities-in-autistic-children-how-best-to-understand-and-support', 'https://www.loopearplugs.com/blogs/blog/what-is-white-noise', 'https://www.loopearplugs.com/blogs/blog/concert-ready-tips-for-first-time-concertgoers', 'https://www.loopearplugs.com/blogs/life-at-loop/8-employees-2-questions-part-one', 'https://www.loopearplugs.com/blogs/blog/earplugs-better-sleep', 'https://www.loopearplugs.com/blogs/blog/how-to-cope-when-your-baby-won-t-stop-crying', 'https://www.loopearplugs.com/blogs/blog/how-to-stop-ringing-ears-after-a-concert', 'https://www.loopearplugs.com/blogs/blog/expert-tips-how-to-stay-focused-while-studying', 'https://www.loopearplugs.com/blogs/blog/how-to-handle-insomnia', 'https://www.loopearplugs.com/blogs/blog/how-to-sleep-comfortably-while-camping-at-a-festival', 'https://www.loopearplugs.com/blogs/blog/how-to-overcome-phonophobia', 'https://www.loopearplugs.com/blogs/blog/loop-redefines-how-an-earplug-should-perform-and-look-e2-80-af', 'https://www.loopearplugs.com/blogs/blog/the-ultimate-guide-to-raves', 'https://www.loopearplugs.com/blogs/blog/self-love-february', 'https://www.loopearplugs.com/blogs/blog/elevate-your-comfort-with-quiet-2', 'https://www.loopearplugs.com/blogs/blog/how-to-protect-your-ears-when-flying', 'https://www.loopearplugs.com/blogs/blog/hearing-loss-prevention-tips', 'https://www.loopearplugs.com/blogs/blog/something-for-everyone-at-the-table', 'https://www.loopearplugs.com/blogs/life-at-loop/5-years-of-loop', 'https://www.loopearplugs.com/blogs/life-at-loop/walk-talk-with-michiel', 'https://www.loopearplugs.com/blogs/blog/the-top-distractions-for-children', 'https://www.loopearplugs.com/blogs/blog/practical-work-life-balance-tips-for-a-healthier-and-happier-you', 'https://www.loopearplugs.com/blogs/blog/baby-crying-anxiety', 'https://www.loopearplugs.com/blogs/blog/7-best-earplugs-for-music', 'https://www.loopearplugs.com/blogs/blog/how-caffeine-may-be-sabotaging-your-sleep-the-connection-to-insomnia', 'https://www.loopearplugs.com/blogs/blog/how-to-get-into-berlin-clubs', 'https://www.loopearplugs.com/blogs/news/untitled-jul-13-0-19-25', 'https://www.loopearplugs.com/blogs/blog/make-a-splash-with-loop-x-andrew-footit', 'https://www.loopearplugs.com/blogs/news/loop-redefines-how-an-earplug-should-perform-and-look', 'https://www.loopearplugs.com/blogs/blog/survey-noise-sensitivity-impacts-the-daily-lives-of-many', 'https://www.loopearplugs.com/blogs/blog/sleep', 'https://www.loopearplugs.com/blogs/blog/how-to-go-to-sleep-faster', 'https://www.loopearplugs.com/blogs/blog/nightlife-style-the-best-club-outfits-for-men-in-2023-to-up-their-game', 'https://www.loopearplugs.com/blogs/blog/noise-cancelling-ear-plugs-for-noise-sensitivity', 'https://www.loopearplugs.com/blogs/blog/study-tips-for-school-children-skills-and-techniques-for-effective-learning', 'https://www.loopearplugs.com/blogs/press/start-up-loop-combineert-hightech-met-design-in-nieuwe-oordopjes-voor-nachtleven', 'https://www.loopearplugs.com/blogs/blog/sensitivity-to-sound-how-to-deal-with-noise-sensitivity', 'https://www.loopearplugs.com/blogs/blog/focus', 'https://www.loopearplugs.com/blogs/blog/hearing-damage-decibels-levels', 'https://www.loopearplugs.com/blogs/blog/adhd', 'https://www.loopearplugs.com/blogs/blog/living-with-hyperacusis-coping-strategies-and-treatment-options-loop-earplugs', 'https://www.loopearplugs.com/blogs/blog/how-to-block-noise-from-your-next-door-neighbors', 'https://www.loopearplugs.com/blogs/blog/musicians-orchestra-avoid-hearing-damage', 'https://www.loopearplugs.com/blogs/blog/how-is-tinnitus-diagnosed', 'https://www.loopearplugs.com/blogs/blog/artificial-intelligence-is-reinventing-the-earplug', 'https://www.loopearplugs.com/blogs/blog/ear-protection-earplugs', 'https://www.loopearplugs.com/blogs/blog/how-to-help-an-easily-distracted-child-at-home', 'https://www.loopearplugs.com/blogs/news/untitled-jul-4-21-37-47', 'https://www.loopearplugs.com/blogs/blog/how-to-improve-work-life-balance-for-employees', 'https://www.loopearplugs.com/blogs/blog/how-loop-lovers-look-live-iridescent', 'https://www.loopearplugs.com/blogs/blog/the-real-effects-of-noise-pollution-and-how-to-combat-it', 'https://www.loopearplugs.com/blogs/blog/motorcycle-riding-its-impact-on-hearing', 'https://www.loopearplugs.com/blogs/press/loop-redefines-how-an-earplug-should-perform-and-look', 'https://www.loopearplugs.com/blogs/blog/how-can-employers-reduce-stress-in-the-workplace', 'https://www.loopearplugs.com/blogs/blog/understanding-the-different-types-of-tinnitus', 'https://www.loopearplugs.com/blogs/blog/what-to-do-if-youre-triggered-by-noise-blog-loop-earplugs', 'https://www.loopearplugs.com/blogs/blog/your-questions-answered', 'https://www.loopearplugs.com/blogs/blog/top-tips-for-flying-with-children-essential-advice-for-stress-free-travel', 'https://www.loopearplugs.com/blogs/blog/how-to-survive-your-first-festival-our-music-festival-guide-for-beginners', 'https://www.loopearplugs.com/blogs/life-at-loop/working-at-loop-the-good-the-bad-and-the-ugly', 'https://www.loopearplugs.com/blogs/blog/stop-ringing-ears', 'https://www.loopearplugs.com/blogs/blog/how-to-sleep-on-a-plane', 'https://www.loopearplugs.com/blogs/blog/protect-your-ears-when-riding-a-motorcycle', 'https://www.loopearplugs.com/blogs/blog/what-is-misophonia', 'https://www.loopearplugs.com/blogs/life-at-loop/meet-our-customer-happiness-team', 'https://www.loopearplugs.com/blogs/blog/introducing-engage-and-experience-2', 'https://www.loopearplugs.com/blogs/blog/noise-disturbances', 'https://www.loopearplugs.com/blogs/blog/7-of-the-loudest-sounds-that-shook-the-world', 'https://www.loopearplugs.com/blogs/blog/travel', 'https://www.loopearplugs.com/blogs/blog/gift-guide-for-the-new-year', 'https://www.loopearplugs.com/blogs/life-at-loop/walk-talk-with-stijn', 'https://www.loopearplugs.com/blogs/blog/relationship-between-noise-and-concentration', 'https://www.loopearplugs.com/blogs/press/la-startup-loop-combine-la-technologie-de-pointe-avec-un-design-unique-dans-ses-nouveaux-bouchons-d-oreilles-pour-la-vie-nocturne', 'https://www.loopearplugs.com/blogs/life-at-loop/the-loop-earplugs-product-vision', 'https://www.loopearplugs.com/blogs/blog/hearing-damage-online-test', 'https://www.loopearplugs.com/blogs/blog/what-to-look-for-in-noise-reduction-earplugs', 'https://www.loopearplugs.com/blogs/blog/good-sleep-with-earplugs', 'https://www.loopearplugs.com/blogs/blog/why-people-love-loud-music', 'https://www.loopearplugs.com/blogs/blog/is-noise-stopping-you-from-sleeping-loop-earplugs-tips-tricks', 'https://www.loopearplugs.com/blogs/blog/hyperacusis', 'https://www.loopearplugs.com/blogs/blog/loop-earplugs-x-tomorrowland', 'https://www.loopearplugs.com/blogs/blog/how-to-get-your-newborn-sleeping-like-a-baby', 'https://www.loopearplugs.com/blogs/blog/11-hacks-for-a-comfortable-flight', 'https://www.loopearplugs.com/blogs/blog/parent-sensory-overload', 'https://www.loopearplugs.com/blogs/news/blog-prevent-hearing-loss', 'https://www.loopearplugs.com/blogs/blog/teaming-up-with-marie-wynants', 'https://www.loopearplugs.com/pages/earplugs-for-snoring', 'https://www.loopearplugs.com/pages/cancellation-and-refunds', 'https://www.loopearplugs.com/pages/best-earplugs-for-clubs', 'https://www.loopearplugs.com/products/mute-pack', 'https://www.loopearplugs.com/blogs/press-corner/loop-earplugs-launches-a-dazzling-array-of-new-products-and-styles-in-major-brand-moment-set-to-shake-up-the-earwear-space', 'https://www.loopearplugs.com/blogs/press-corner/stay-ready-with-switch-loop-s-highest-tech-earplug-yet-allows-users-to-toggle-between-sound-states-on-the-go', 'https://www.loopearplugs.com/blogs/press-corner/no-beep-only-beats-loop-and-tomorrowland-aim-to-normalize-hearing-protection', 'https://www.loopearplugs.com/pages/earplugs-for-tinnitus', 'https://www.loopearplugs.com/blogs/press-corner/loop-earplugs-and-tomorrowland-kick-off-third-year', 'https://www.loopearplugs.com/blogs/blog/relationship-between-noise-and-concentratio', 'https://www.loopearplugs.com/pages/earplugs-for-studying', 'https://www.loopearplugs.com/blogs/press-corner/introducing-loop-engage-the-next-generation-of-noise-reducing-earplugs-designed-with-conversation-in-mind', 'https://www.loopearplugs.com/pages/earplugs-for-flying', 'https://www.loopearplugs.com/pages/earplugs-for-musicians', 'https://www.loopearplugs.com/pages/earplugs-for-motorcycle', 'https://www.loopearplugs.com/blogs/news/sensitivity-to-sound-how-to-deal-with-noise-sensitivity', 'https://www.loopearplugs.com/collections/earplugs', 'https://www.loopearplugs.com/blogs/press-corner/loop-launches-equinox-a-seasonal-earwear-collection-of-electric-neon-colors', 'https://www.loopearplugs.com/blogs/news', 'https://www.loopearplugs.com/pages/deal-with-noise-sensitivity', 'https://www.loopearplugs.com/blogs/blog/tips-for-choosing-earplugs-for-sleeping', 'https://www.loopearplugs.com/blogs/press', 'https://www.loopearplugs.com/pages/b2b', 'https://www.loopearplugs.com/collections/all-products', 'https://www.loopearplugs.com/collections/all-products/products/quiet', 'https://www.loopearplugs.com/blogs/press-corner/bestselling-belgian-earplugs-taking-over-the-world-dreamed-up-by-childhood-best-friends', 'https://www.loopearplugs.com/pages/earplugs-for-drummers', 'https://www.loopearplugs.com/products/loop-link', 'https://www.loopearplugs.com/pages/business-pricing', 'https://www.loopearplugs.com/products/quiet-3', 'https://www.loopearplugs.com/products/experience-2-plus', 'https://www.loopearplugs.com/pages/help-me-choose', 'https://www.loopearplugs.com/products/engage-2-plus', 'https://www.loopearplugs.com/products/engage-4', 'https://www.loopearplugs.com/pages/sign-up-for-a-customer-account', 'https://www.loopearplugs.com/products/experience-4']\n"
     ]
    }
   ],
   "source": [
    "from vectrix.importers import WebScraper\n",
    "\n",
    "scraper = WebScraper(\"https://www.loopearplugs.com/\")\n",
    "all_links = scraper.get_all_links()\n",
    "\n",
    "print(f\"D\")"
   ]
  },
  {
   "cell_type": "code",
   "execution_count": 17,
   "metadata": {},
   "outputs": [
    {
     "name": "stderr",
     "output_type": "stream",
     "text": [
      "\u001b[32m2024-08-13 12:39:22,782 - root - INFO - Listing all pages for domain: www.loopearplugs.com\u001b[0m\n",
      "\u001b[32m2024-08-13 12:39:22,782 - root - INFO - Listing all pages for domain: www.loopearplugs.com\u001b[0m\n",
      "\u001b[32m2024-08-13 12:39:22,782 - root - INFO - Listing all pages for domain: www.loopearplugs.com\u001b[0m\n",
      "\u001b[32m2024-08-13 12:39:22,782 - root - INFO - Listing all pages for domain: www.loopearplugs.com\u001b[0m\n",
      "\u001b[32m2024-08-13 12:39:22,782 - root - INFO - Listing all pages for domain: www.loopearplugs.com\u001b[0m\n",
      "\u001b[32m2024-08-13 12:39:22,782 - root - INFO - Listing all pages for domain: www.loopearplugs.com\u001b[0m\n",
      "\u001b[32m2024-08-13 12:39:23,337 - root - INFO - Adding new webpage: https://www.loopearplugs.com/\u001b[0m\n",
      "\u001b[32m2024-08-13 12:39:23,337 - root - INFO - Adding new webpage: https://www.loopearplugs.com/\u001b[0m\n",
      "\u001b[32m2024-08-13 12:39:23,337 - root - INFO - Adding new webpage: https://www.loopearplugs.com/\u001b[0m\n",
      "\u001b[32m2024-08-13 12:39:23,337 - root - INFO - Adding new webpage: https://www.loopearplugs.com/\u001b[0m\n",
      "\u001b[32m2024-08-13 12:39:23,337 - root - INFO - Adding new webpage: https://www.loopearplugs.com/\u001b[0m\n",
      "\u001b[32m2024-08-13 12:39:23,337 - root - INFO - Adding new webpage: https://www.loopearplugs.com/\u001b[0m\n"
     ]
    },
    {
     "name": "stdout",
     "output_type": "stream",
     "text": [
      "Added new webpage: https://www.loopearplugs.com/\n"
     ]
    },
    {
     "name": "stderr",
     "output_type": "stream",
     "text": [
      "\u001b[32m2024-08-13 12:39:24,726 - root - INFO - Adding new webpage: https://www.loopearplugs.com/pages/noise-sensitivity\u001b[0m\n",
      "\u001b[32m2024-08-13 12:39:24,726 - root - INFO - Adding new webpage: https://www.loopearplugs.com/pages/noise-sensitivity\u001b[0m\n",
      "\u001b[32m2024-08-13 12:39:24,726 - root - INFO - Adding new webpage: https://www.loopearplugs.com/pages/noise-sensitivity\u001b[0m\n",
      "\u001b[32m2024-08-13 12:39:24,726 - root - INFO - Adding new webpage: https://www.loopearplugs.com/pages/noise-sensitivity\u001b[0m\n",
      "\u001b[32m2024-08-13 12:39:24,726 - root - INFO - Adding new webpage: https://www.loopearplugs.com/pages/noise-sensitivity\u001b[0m\n",
      "\u001b[32m2024-08-13 12:39:24,726 - root - INFO - Adding new webpage: https://www.loopearplugs.com/pages/noise-sensitivity\u001b[0m\n"
     ]
    },
    {
     "name": "stdout",
     "output_type": "stream",
     "text": [
      "Added new webpage: https://www.loopearplugs.com/pages/noise-sensitivity\n"
     ]
    },
    {
     "name": "stderr",
     "output_type": "stream",
     "text": [
      "\u001b[33m2024-08-13 12:39:25,268 - trafilatura.xml - WARNING - empty link:  {'target': 'https://www.loopearplugs.com/products/experience-plus'}\u001b[0m\n",
      "\u001b[33m2024-08-13 12:39:25,268 - trafilatura.xml - WARNING - empty link:  {'target': 'https://www.loopearplugs.com/products/experience-plus'}\u001b[0m\n",
      "\u001b[33m2024-08-13 12:39:25,268 - trafilatura.xml - WARNING - empty link:  {'target': 'https://www.loopearplugs.com/products/experience-plus'}\u001b[0m\n",
      "\u001b[33m2024-08-13 12:39:25,268 - trafilatura.xml - WARNING - empty link:  {'target': 'https://www.loopearplugs.com/products/experience-plus'}\u001b[0m\n",
      "\u001b[33m2024-08-13 12:39:25,268 - trafilatura.xml - WARNING - empty link:  {'target': 'https://www.loopearplugs.com/products/experience-plus'}\u001b[0m\n",
      "\u001b[33m2024-08-13 12:39:25,268 - trafilatura.xml - WARNING - empty link:  {'target': 'https://www.loopearplugs.com/products/experience-plus'}\u001b[0m\n",
      "\u001b[32m2024-08-13 12:39:25,271 - root - INFO - Adding new webpage: https://www.loopearplugs.com/products/experience-plus\u001b[0m\n",
      "\u001b[32m2024-08-13 12:39:25,271 - root - INFO - Adding new webpage: https://www.loopearplugs.com/products/experience-plus\u001b[0m\n",
      "\u001b[32m2024-08-13 12:39:25,271 - root - INFO - Adding new webpage: https://www.loopearplugs.com/products/experience-plus\u001b[0m\n",
      "\u001b[32m2024-08-13 12:39:25,271 - root - INFO - Adding new webpage: https://www.loopearplugs.com/products/experience-plus\u001b[0m\n",
      "\u001b[32m2024-08-13 12:39:25,271 - root - INFO - Adding new webpage: https://www.loopearplugs.com/products/experience-plus\u001b[0m\n",
      "\u001b[32m2024-08-13 12:39:25,271 - root - INFO - Adding new webpage: https://www.loopearplugs.com/products/experience-plus\u001b[0m\n"
     ]
    },
    {
     "name": "stdout",
     "output_type": "stream",
     "text": [
      "Added new webpage: https://www.loopearplugs.com/products/experience-plus\n"
     ]
    },
    {
     "name": "stderr",
     "output_type": "stream",
     "text": [
      "\u001b[32m2024-08-13 12:39:26,590 - root - INFO - Adding new webpage: https://www.loopearplugs.com/pages/ugc-terms-conditions\u001b[0m\n",
      "\u001b[32m2024-08-13 12:39:26,590 - root - INFO - Adding new webpage: https://www.loopearplugs.com/pages/ugc-terms-conditions\u001b[0m\n",
      "\u001b[32m2024-08-13 12:39:26,590 - root - INFO - Adding new webpage: https://www.loopearplugs.com/pages/ugc-terms-conditions\u001b[0m\n",
      "\u001b[32m2024-08-13 12:39:26,590 - root - INFO - Adding new webpage: https://www.loopearplugs.com/pages/ugc-terms-conditions\u001b[0m\n",
      "\u001b[32m2024-08-13 12:39:26,590 - root - INFO - Adding new webpage: https://www.loopearplugs.com/pages/ugc-terms-conditions\u001b[0m\n",
      "\u001b[32m2024-08-13 12:39:26,590 - root - INFO - Adding new webpage: https://www.loopearplugs.com/pages/ugc-terms-conditions\u001b[0m\n"
     ]
    },
    {
     "name": "stdout",
     "output_type": "stream",
     "text": [
      "Added new webpage: https://www.loopearplugs.com/pages/ugc-terms-conditions\n"
     ]
    },
    {
     "name": "stderr",
     "output_type": "stream",
     "text": [
      "\u001b[32m2024-08-13 12:39:27,303 - root - INFO - Adding new webpage: https://www.loopearplugs.com/collections/all\u001b[0m\n",
      "\u001b[32m2024-08-13 12:39:27,303 - root - INFO - Adding new webpage: https://www.loopearplugs.com/collections/all\u001b[0m\n",
      "\u001b[32m2024-08-13 12:39:27,303 - root - INFO - Adding new webpage: https://www.loopearplugs.com/collections/all\u001b[0m\n",
      "\u001b[32m2024-08-13 12:39:27,303 - root - INFO - Adding new webpage: https://www.loopearplugs.com/collections/all\u001b[0m\n",
      "\u001b[32m2024-08-13 12:39:27,303 - root - INFO - Adding new webpage: https://www.loopearplugs.com/collections/all\u001b[0m\n",
      "\u001b[32m2024-08-13 12:39:27,303 - root - INFO - Adding new webpage: https://www.loopearplugs.com/collections/all\u001b[0m\n"
     ]
    },
    {
     "name": "stdout",
     "output_type": "stream",
     "text": [
      "Added new webpage: https://www.loopearplugs.com/collections/all\n"
     ]
    },
    {
     "name": "stderr",
     "output_type": "stream",
     "text": [
      "\u001b[32m2024-08-13 12:39:28,603 - root - INFO - Adding new webpage: https://www.loopearplugs.com/pages/warranty-policy\u001b[0m\n",
      "\u001b[32m2024-08-13 12:39:28,603 - root - INFO - Adding new webpage: https://www.loopearplugs.com/pages/warranty-policy\u001b[0m\n",
      "\u001b[32m2024-08-13 12:39:28,603 - root - INFO - Adding new webpage: https://www.loopearplugs.com/pages/warranty-policy\u001b[0m\n",
      "\u001b[32m2024-08-13 12:39:28,603 - root - INFO - Adding new webpage: https://www.loopearplugs.com/pages/warranty-policy\u001b[0m\n",
      "\u001b[32m2024-08-13 12:39:28,603 - root - INFO - Adding new webpage: https://www.loopearplugs.com/pages/warranty-policy\u001b[0m\n",
      "\u001b[32m2024-08-13 12:39:28,603 - root - INFO - Adding new webpage: https://www.loopearplugs.com/pages/warranty-policy\u001b[0m\n"
     ]
    },
    {
     "name": "stdout",
     "output_type": "stream",
     "text": [
      "Added new webpage: https://www.loopearplugs.com/pages/warranty-policy\n"
     ]
    },
    {
     "name": "stderr",
     "output_type": "stream",
     "text": [
      "\u001b[32m2024-08-13 12:39:29,052 - root - INFO - Adding new webpage: https://www.loopearplugs.com/collections/kinetic-collection\u001b[0m\n",
      "\u001b[32m2024-08-13 12:39:29,052 - root - INFO - Adding new webpage: https://www.loopearplugs.com/collections/kinetic-collection\u001b[0m\n",
      "\u001b[32m2024-08-13 12:39:29,052 - root - INFO - Adding new webpage: https://www.loopearplugs.com/collections/kinetic-collection\u001b[0m\n",
      "\u001b[32m2024-08-13 12:39:29,052 - root - INFO - Adding new webpage: https://www.loopearplugs.com/collections/kinetic-collection\u001b[0m\n",
      "\u001b[32m2024-08-13 12:39:29,052 - root - INFO - Adding new webpage: https://www.loopearplugs.com/collections/kinetic-collection\u001b[0m\n",
      "\u001b[32m2024-08-13 12:39:29,052 - root - INFO - Adding new webpage: https://www.loopearplugs.com/collections/kinetic-collection\u001b[0m\n"
     ]
    },
    {
     "name": "stdout",
     "output_type": "stream",
     "text": [
      "Added new webpage: https://www.loopearplugs.com/collections/kinetic-collection\n"
     ]
    },
    {
     "name": "stderr",
     "output_type": "stream",
     "text": [
      "\u001b[32m2024-08-13 12:39:30,546 - root - INFO - Adding new webpage: https://www.loopearplugs.com/pages/careers\u001b[0m\n",
      "\u001b[32m2024-08-13 12:39:30,546 - root - INFO - Adding new webpage: https://www.loopearplugs.com/pages/careers\u001b[0m\n",
      "\u001b[32m2024-08-13 12:39:30,546 - root - INFO - Adding new webpage: https://www.loopearplugs.com/pages/careers\u001b[0m\n",
      "\u001b[32m2024-08-13 12:39:30,546 - root - INFO - Adding new webpage: https://www.loopearplugs.com/pages/careers\u001b[0m\n",
      "\u001b[32m2024-08-13 12:39:30,546 - root - INFO - Adding new webpage: https://www.loopearplugs.com/pages/careers\u001b[0m\n",
      "\u001b[32m2024-08-13 12:39:30,546 - root - INFO - Adding new webpage: https://www.loopearplugs.com/pages/careers\u001b[0m\n"
     ]
    },
    {
     "name": "stdout",
     "output_type": "stream",
     "text": [
      "Added new webpage: https://www.loopearplugs.com/pages/careers\n"
     ]
    },
    {
     "name": "stderr",
     "output_type": "stream",
     "text": [
      "\u001b[32m2024-08-13 12:39:32,071 - root - INFO - Adding new webpage: https://www.loopearplugs.com/pages/earplugs-for-events\u001b[0m\n",
      "\u001b[32m2024-08-13 12:39:32,071 - root - INFO - Adding new webpage: https://www.loopearplugs.com/pages/earplugs-for-events\u001b[0m\n",
      "\u001b[32m2024-08-13 12:39:32,071 - root - INFO - Adding new webpage: https://www.loopearplugs.com/pages/earplugs-for-events\u001b[0m\n",
      "\u001b[32m2024-08-13 12:39:32,071 - root - INFO - Adding new webpage: https://www.loopearplugs.com/pages/earplugs-for-events\u001b[0m\n",
      "\u001b[32m2024-08-13 12:39:32,071 - root - INFO - Adding new webpage: https://www.loopearplugs.com/pages/earplugs-for-events\u001b[0m\n",
      "\u001b[32m2024-08-13 12:39:32,071 - root - INFO - Adding new webpage: https://www.loopearplugs.com/pages/earplugs-for-events\u001b[0m\n"
     ]
    },
    {
     "name": "stdout",
     "output_type": "stream",
     "text": [
      "Added new webpage: https://www.loopearplugs.com/pages/earplugs-for-events\n"
     ]
    },
    {
     "name": "stderr",
     "output_type": "stream",
     "text": [
      "\u001b[33m2024-08-13 12:39:32,574 - trafilatura.xml - WARNING - empty link:  {'target': 'https://www.loopearplugs.com/products/carry-case-black'}\u001b[0m\n",
      "\u001b[33m2024-08-13 12:39:32,574 - trafilatura.xml - WARNING - empty link:  {'target': 'https://www.loopearplugs.com/products/carry-case-black'}\u001b[0m\n",
      "\u001b[33m2024-08-13 12:39:32,574 - trafilatura.xml - WARNING - empty link:  {'target': 'https://www.loopearplugs.com/products/carry-case-black'}\u001b[0m\n",
      "\u001b[33m2024-08-13 12:39:32,574 - trafilatura.xml - WARNING - empty link:  {'target': 'https://www.loopearplugs.com/products/carry-case-black'}\u001b[0m\n",
      "\u001b[33m2024-08-13 12:39:32,574 - trafilatura.xml - WARNING - empty link:  {'target': 'https://www.loopearplugs.com/products/carry-case-black'}\u001b[0m\n",
      "\u001b[33m2024-08-13 12:39:32,574 - trafilatura.xml - WARNING - empty link:  {'target': 'https://www.loopearplugs.com/products/carry-case-black'}\u001b[0m\n",
      "\u001b[32m2024-08-13 12:39:32,576 - root - INFO - Adding new webpage: https://www.loopearplugs.com/products/carry-case-black\u001b[0m\n",
      "\u001b[32m2024-08-13 12:39:32,576 - root - INFO - Adding new webpage: https://www.loopearplugs.com/products/carry-case-black\u001b[0m\n",
      "\u001b[32m2024-08-13 12:39:32,576 - root - INFO - Adding new webpage: https://www.loopearplugs.com/products/carry-case-black\u001b[0m\n",
      "\u001b[32m2024-08-13 12:39:32,576 - root - INFO - Adding new webpage: https://www.loopearplugs.com/products/carry-case-black\u001b[0m\n",
      "\u001b[32m2024-08-13 12:39:32,576 - root - INFO - Adding new webpage: https://www.loopearplugs.com/products/carry-case-black\u001b[0m\n",
      "\u001b[32m2024-08-13 12:39:32,576 - root - INFO - Adding new webpage: https://www.loopearplugs.com/products/carry-case-black\u001b[0m\n"
     ]
    },
    {
     "name": "stdout",
     "output_type": "stream",
     "text": [
      "Added new webpage: https://www.loopearplugs.com/products/carry-case-black\n"
     ]
    },
    {
     "name": "stderr",
     "output_type": "stream",
     "text": [
      "\u001b[32m2024-08-13 12:39:34,059 - root - INFO - Adding new webpage: https://www.loopearplugs.com/blogs/press-corner\u001b[0m\n",
      "\u001b[32m2024-08-13 12:39:34,059 - root - INFO - Adding new webpage: https://www.loopearplugs.com/blogs/press-corner\u001b[0m\n",
      "\u001b[32m2024-08-13 12:39:34,059 - root - INFO - Adding new webpage: https://www.loopearplugs.com/blogs/press-corner\u001b[0m\n",
      "\u001b[32m2024-08-13 12:39:34,059 - root - INFO - Adding new webpage: https://www.loopearplugs.com/blogs/press-corner\u001b[0m\n",
      "\u001b[32m2024-08-13 12:39:34,059 - root - INFO - Adding new webpage: https://www.loopearplugs.com/blogs/press-corner\u001b[0m\n",
      "\u001b[32m2024-08-13 12:39:34,059 - root - INFO - Adding new webpage: https://www.loopearplugs.com/blogs/press-corner\u001b[0m\n"
     ]
    },
    {
     "name": "stdout",
     "output_type": "stream",
     "text": [
      "Added new webpage: https://www.loopearplugs.com/blogs/press-corner\n"
     ]
    },
    {
     "name": "stderr",
     "output_type": "stream",
     "text": [
      "\u001b[33m2024-08-13 12:39:34,563 - trafilatura.xml - WARNING - empty link:  {'target': 'https://www.loopearplugs.com/products/engage-plus'}\u001b[0m\n",
      "\u001b[33m2024-08-13 12:39:34,563 - trafilatura.xml - WARNING - empty link:  {'target': 'https://www.loopearplugs.com/products/engage-plus'}\u001b[0m\n",
      "\u001b[33m2024-08-13 12:39:34,563 - trafilatura.xml - WARNING - empty link:  {'target': 'https://www.loopearplugs.com/products/engage-plus'}\u001b[0m\n",
      "\u001b[33m2024-08-13 12:39:34,563 - trafilatura.xml - WARNING - empty link:  {'target': 'https://www.loopearplugs.com/products/engage-plus'}\u001b[0m\n",
      "\u001b[33m2024-08-13 12:39:34,563 - trafilatura.xml - WARNING - empty link:  {'target': 'https://www.loopearplugs.com/products/engage-plus'}\u001b[0m\n",
      "\u001b[33m2024-08-13 12:39:34,563 - trafilatura.xml - WARNING - empty link:  {'target': 'https://www.loopearplugs.com/products/engage-plus'}\u001b[0m\n",
      "\u001b[32m2024-08-13 12:39:34,566 - root - INFO - Adding new webpage: https://www.loopearplugs.com/products/engage-plus\u001b[0m\n",
      "\u001b[32m2024-08-13 12:39:34,566 - root - INFO - Adding new webpage: https://www.loopearplugs.com/products/engage-plus\u001b[0m\n",
      "\u001b[32m2024-08-13 12:39:34,566 - root - INFO - Adding new webpage: https://www.loopearplugs.com/products/engage-plus\u001b[0m\n",
      "\u001b[32m2024-08-13 12:39:34,566 - root - INFO - Adding new webpage: https://www.loopearplugs.com/products/engage-plus\u001b[0m\n",
      "\u001b[32m2024-08-13 12:39:34,566 - root - INFO - Adding new webpage: https://www.loopearplugs.com/products/engage-plus\u001b[0m\n",
      "\u001b[32m2024-08-13 12:39:34,566 - root - INFO - Adding new webpage: https://www.loopearplugs.com/products/engage-plus\u001b[0m\n"
     ]
    },
    {
     "name": "stdout",
     "output_type": "stream",
     "text": [
      "Added new webpage: https://www.loopearplugs.com/products/engage-plus\n"
     ]
    },
    {
     "name": "stderr",
     "output_type": "stream",
     "text": [
      "\u001b[32m2024-08-13 12:39:34,944 - urllib3.poolmanager - INFO - Redirecting https://www.loopearplugs.com/products/experience1 -> https://www.loopearplugs.com/products/experience\u001b[0m\n",
      "\u001b[32m2024-08-13 12:39:34,944 - urllib3.poolmanager - INFO - Redirecting https://www.loopearplugs.com/products/experience1 -> https://www.loopearplugs.com/products/experience\u001b[0m\n",
      "\u001b[32m2024-08-13 12:39:34,944 - urllib3.poolmanager - INFO - Redirecting https://www.loopearplugs.com/products/experience1 -> https://www.loopearplugs.com/products/experience\u001b[0m\n",
      "\u001b[32m2024-08-13 12:39:34,944 - urllib3.poolmanager - INFO - Redirecting https://www.loopearplugs.com/products/experience1 -> https://www.loopearplugs.com/products/experience\u001b[0m\n",
      "\u001b[32m2024-08-13 12:39:34,944 - urllib3.poolmanager - INFO - Redirecting https://www.loopearplugs.com/products/experience1 -> https://www.loopearplugs.com/products/experience\u001b[0m\n",
      "\u001b[32m2024-08-13 12:39:34,944 - urllib3.poolmanager - INFO - Redirecting https://www.loopearplugs.com/products/experience1 -> https://www.loopearplugs.com/products/experience\u001b[0m\n",
      "\u001b[33m2024-08-13 12:39:35,436 - trafilatura.xml - WARNING - empty link:  {'target': 'https://www.loopearplugs.com/products/experience'}\u001b[0m\n",
      "\u001b[33m2024-08-13 12:39:35,436 - trafilatura.xml - WARNING - empty link:  {'target': 'https://www.loopearplugs.com/products/experience'}\u001b[0m\n",
      "\u001b[33m2024-08-13 12:39:35,436 - trafilatura.xml - WARNING - empty link:  {'target': 'https://www.loopearplugs.com/products/experience'}\u001b[0m\n",
      "\u001b[33m2024-08-13 12:39:35,436 - trafilatura.xml - WARNING - empty link:  {'target': 'https://www.loopearplugs.com/products/experience'}\u001b[0m\n",
      "\u001b[33m2024-08-13 12:39:35,436 - trafilatura.xml - WARNING - empty link:  {'target': 'https://www.loopearplugs.com/products/experience'}\u001b[0m\n",
      "\u001b[33m2024-08-13 12:39:35,436 - trafilatura.xml - WARNING - empty link:  {'target': 'https://www.loopearplugs.com/products/experience'}\u001b[0m\n",
      "\u001b[32m2024-08-13 12:39:35,439 - root - INFO - Adding new webpage: https://www.loopearplugs.com/products/experience1\u001b[0m\n",
      "\u001b[32m2024-08-13 12:39:35,439 - root - INFO - Adding new webpage: https://www.loopearplugs.com/products/experience1\u001b[0m\n",
      "\u001b[32m2024-08-13 12:39:35,439 - root - INFO - Adding new webpage: https://www.loopearplugs.com/products/experience1\u001b[0m\n",
      "\u001b[32m2024-08-13 12:39:35,439 - root - INFO - Adding new webpage: https://www.loopearplugs.com/products/experience1\u001b[0m\n",
      "\u001b[32m2024-08-13 12:39:35,439 - root - INFO - Adding new webpage: https://www.loopearplugs.com/products/experience1\u001b[0m\n",
      "\u001b[32m2024-08-13 12:39:35,439 - root - INFO - Adding new webpage: https://www.loopearplugs.com/products/experience1\u001b[0m\n"
     ]
    },
    {
     "name": "stdout",
     "output_type": "stream",
     "text": [
      "Added new webpage: https://www.loopearplugs.com/products/experience1\n"
     ]
    },
    {
     "name": "stderr",
     "output_type": "stream",
     "text": [
      "\u001b[32m2024-08-13 12:39:36,961 - root - INFO - Adding new webpage: https://www.loopearplugs.com/pages/earplugs-for-traveling\u001b[0m\n",
      "\u001b[32m2024-08-13 12:39:36,961 - root - INFO - Adding new webpage: https://www.loopearplugs.com/pages/earplugs-for-traveling\u001b[0m\n",
      "\u001b[32m2024-08-13 12:39:36,961 - root - INFO - Adding new webpage: https://www.loopearplugs.com/pages/earplugs-for-traveling\u001b[0m\n",
      "\u001b[32m2024-08-13 12:39:36,961 - root - INFO - Adding new webpage: https://www.loopearplugs.com/pages/earplugs-for-traveling\u001b[0m\n",
      "\u001b[32m2024-08-13 12:39:36,961 - root - INFO - Adding new webpage: https://www.loopearplugs.com/pages/earplugs-for-traveling\u001b[0m\n",
      "\u001b[32m2024-08-13 12:39:36,961 - root - INFO - Adding new webpage: https://www.loopearplugs.com/pages/earplugs-for-traveling\u001b[0m\n"
     ]
    },
    {
     "name": "stdout",
     "output_type": "stream",
     "text": [
      "Added new webpage: https://www.loopearplugs.com/pages/earplugs-for-traveling\n"
     ]
    },
    {
     "name": "stderr",
     "output_type": "stream",
     "text": [
      "\u001b[32m2024-08-13 12:39:38,369 - root - INFO - Adding new webpage: https://www.loopearplugs.com/pages/affiliate-program\u001b[0m\n",
      "\u001b[32m2024-08-13 12:39:38,369 - root - INFO - Adding new webpage: https://www.loopearplugs.com/pages/affiliate-program\u001b[0m\n",
      "\u001b[32m2024-08-13 12:39:38,369 - root - INFO - Adding new webpage: https://www.loopearplugs.com/pages/affiliate-program\u001b[0m\n",
      "\u001b[32m2024-08-13 12:39:38,369 - root - INFO - Adding new webpage: https://www.loopearplugs.com/pages/affiliate-program\u001b[0m\n",
      "\u001b[32m2024-08-13 12:39:38,369 - root - INFO - Adding new webpage: https://www.loopearplugs.com/pages/affiliate-program\u001b[0m\n",
      "\u001b[32m2024-08-13 12:39:38,369 - root - INFO - Adding new webpage: https://www.loopearplugs.com/pages/affiliate-program\u001b[0m\n"
     ]
    },
    {
     "name": "stdout",
     "output_type": "stream",
     "text": [
      "Added new webpage: https://www.loopearplugs.com/pages/affiliate-program\n"
     ]
    },
    {
     "name": "stderr",
     "output_type": "stream",
     "text": [
      "\u001b[32m2024-08-13 12:39:39,938 - root - INFO - Adding new webpage: https://www.loopearplugs.com/pages/earplugs-for-parenting\u001b[0m\n",
      "\u001b[32m2024-08-13 12:39:39,938 - root - INFO - Adding new webpage: https://www.loopearplugs.com/pages/earplugs-for-parenting\u001b[0m\n",
      "\u001b[32m2024-08-13 12:39:39,938 - root - INFO - Adding new webpage: https://www.loopearplugs.com/pages/earplugs-for-parenting\u001b[0m\n",
      "\u001b[32m2024-08-13 12:39:39,938 - root - INFO - Adding new webpage: https://www.loopearplugs.com/pages/earplugs-for-parenting\u001b[0m\n",
      "\u001b[32m2024-08-13 12:39:39,938 - root - INFO - Adding new webpage: https://www.loopearplugs.com/pages/earplugs-for-parenting\u001b[0m\n",
      "\u001b[32m2024-08-13 12:39:39,938 - root - INFO - Adding new webpage: https://www.loopearplugs.com/pages/earplugs-for-parenting\u001b[0m\n"
     ]
    },
    {
     "name": "stdout",
     "output_type": "stream",
     "text": [
      "Added new webpage: https://www.loopearplugs.com/pages/earplugs-for-parenting\n"
     ]
    },
    {
     "name": "stderr",
     "output_type": "stream",
     "text": [
      "\u001b[32m2024-08-13 12:39:40,415 - root - INFO - Adding new webpage: https://www.loopearplugs.com/collections/accessories\u001b[0m\n",
      "\u001b[32m2024-08-13 12:39:40,415 - root - INFO - Adding new webpage: https://www.loopearplugs.com/collections/accessories\u001b[0m\n",
      "\u001b[32m2024-08-13 12:39:40,415 - root - INFO - Adding new webpage: https://www.loopearplugs.com/collections/accessories\u001b[0m\n",
      "\u001b[32m2024-08-13 12:39:40,415 - root - INFO - Adding new webpage: https://www.loopearplugs.com/collections/accessories\u001b[0m\n",
      "\u001b[32m2024-08-13 12:39:40,415 - root - INFO - Adding new webpage: https://www.loopearplugs.com/collections/accessories\u001b[0m\n",
      "\u001b[32m2024-08-13 12:39:40,415 - root - INFO - Adding new webpage: https://www.loopearplugs.com/collections/accessories\u001b[0m\n"
     ]
    },
    {
     "name": "stdout",
     "output_type": "stream",
     "text": [
      "Added new webpage: https://www.loopearplugs.com/collections/accessories\n"
     ]
    },
    {
     "name": "stderr",
     "output_type": "stream",
     "text": [
      "\u001b[32m2024-08-13 12:39:41,916 - root - INFO - Adding new webpage: https://www.loopearplugs.com/pages/gifts-for-adhd\u001b[0m\n",
      "\u001b[32m2024-08-13 12:39:41,916 - root - INFO - Adding new webpage: https://www.loopearplugs.com/pages/gifts-for-adhd\u001b[0m\n",
      "\u001b[32m2024-08-13 12:39:41,916 - root - INFO - Adding new webpage: https://www.loopearplugs.com/pages/gifts-for-adhd\u001b[0m\n",
      "\u001b[32m2024-08-13 12:39:41,916 - root - INFO - Adding new webpage: https://www.loopearplugs.com/pages/gifts-for-adhd\u001b[0m\n",
      "\u001b[32m2024-08-13 12:39:41,916 - root - INFO - Adding new webpage: https://www.loopearplugs.com/pages/gifts-for-adhd\u001b[0m\n",
      "\u001b[32m2024-08-13 12:39:41,916 - root - INFO - Adding new webpage: https://www.loopearplugs.com/pages/gifts-for-adhd\u001b[0m\n"
     ]
    },
    {
     "name": "stdout",
     "output_type": "stream",
     "text": [
      "Added new webpage: https://www.loopearplugs.com/pages/gifts-for-adhd\n"
     ]
    },
    {
     "name": "stderr",
     "output_type": "stream",
     "text": [
      "\u001b[32m2024-08-13 12:39:42,533 - root - INFO - Adding new webpage: https://www.loopearplugs.com/products/quiet-plus\u001b[0m\n",
      "\u001b[32m2024-08-13 12:39:42,533 - root - INFO - Adding new webpage: https://www.loopearplugs.com/products/quiet-plus\u001b[0m\n",
      "\u001b[32m2024-08-13 12:39:42,533 - root - INFO - Adding new webpage: https://www.loopearplugs.com/products/quiet-plus\u001b[0m\n",
      "\u001b[32m2024-08-13 12:39:42,533 - root - INFO - Adding new webpage: https://www.loopearplugs.com/products/quiet-plus\u001b[0m\n",
      "\u001b[32m2024-08-13 12:39:42,533 - root - INFO - Adding new webpage: https://www.loopearplugs.com/products/quiet-plus\u001b[0m\n",
      "\u001b[32m2024-08-13 12:39:42,533 - root - INFO - Adding new webpage: https://www.loopearplugs.com/products/quiet-plus\u001b[0m\n"
     ]
    },
    {
     "name": "stdout",
     "output_type": "stream",
     "text": [
      "Added new webpage: https://www.loopearplugs.com/products/quiet-plus\n"
     ]
    },
    {
     "name": "stderr",
     "output_type": "stream",
     "text": [
      "\u001b[32m2024-08-13 12:39:44,079 - root - INFO - Adding new webpage: https://www.loopearplugs.com/pages/gifts-for-autism\u001b[0m\n",
      "\u001b[32m2024-08-13 12:39:44,079 - root - INFO - Adding new webpage: https://www.loopearplugs.com/pages/gifts-for-autism\u001b[0m\n",
      "\u001b[32m2024-08-13 12:39:44,079 - root - INFO - Adding new webpage: https://www.loopearplugs.com/pages/gifts-for-autism\u001b[0m\n",
      "\u001b[32m2024-08-13 12:39:44,079 - root - INFO - Adding new webpage: https://www.loopearplugs.com/pages/gifts-for-autism\u001b[0m\n",
      "\u001b[32m2024-08-13 12:39:44,079 - root - INFO - Adding new webpage: https://www.loopearplugs.com/pages/gifts-for-autism\u001b[0m\n",
      "\u001b[32m2024-08-13 12:39:44,079 - root - INFO - Adding new webpage: https://www.loopearplugs.com/pages/gifts-for-autism\u001b[0m\n",
      "\u001b[32m2024-08-13 12:39:44,272 - urllib3.poolmanager - INFO - Redirecting https://www.loopearplugs.com/products/engage1 -> https://www.loopearplugs.com/products/engage\u001b[0m\n",
      "\u001b[32m2024-08-13 12:39:44,272 - urllib3.poolmanager - INFO - Redirecting https://www.loopearplugs.com/products/engage1 -> https://www.loopearplugs.com/products/engage\u001b[0m\n",
      "\u001b[32m2024-08-13 12:39:44,272 - urllib3.poolmanager - INFO - Redirecting https://www.loopearplugs.com/products/engage1 -> https://www.loopearplugs.com/products/engage\u001b[0m\n",
      "\u001b[32m2024-08-13 12:39:44,272 - urllib3.poolmanager - INFO - Redirecting https://www.loopearplugs.com/products/engage1 -> https://www.loopearplugs.com/products/engage\u001b[0m\n",
      "\u001b[32m2024-08-13 12:39:44,272 - urllib3.poolmanager - INFO - Redirecting https://www.loopearplugs.com/products/engage1 -> https://www.loopearplugs.com/products/engage\u001b[0m\n",
      "\u001b[32m2024-08-13 12:39:44,272 - urllib3.poolmanager - INFO - Redirecting https://www.loopearplugs.com/products/engage1 -> https://www.loopearplugs.com/products/engage\u001b[0m\n"
     ]
    },
    {
     "name": "stdout",
     "output_type": "stream",
     "text": [
      "Added new webpage: https://www.loopearplugs.com/pages/gifts-for-autism\n"
     ]
    },
    {
     "name": "stderr",
     "output_type": "stream",
     "text": [
      "\u001b[33m2024-08-13 12:39:44,770 - trafilatura.xml - WARNING - empty link:  {'target': 'https://www.loopearplugs.com/products/engage'}\u001b[0m\n",
      "\u001b[33m2024-08-13 12:39:44,770 - trafilatura.xml - WARNING - empty link:  {'target': 'https://www.loopearplugs.com/products/engage'}\u001b[0m\n",
      "\u001b[33m2024-08-13 12:39:44,770 - trafilatura.xml - WARNING - empty link:  {'target': 'https://www.loopearplugs.com/products/engage'}\u001b[0m\n",
      "\u001b[33m2024-08-13 12:39:44,770 - trafilatura.xml - WARNING - empty link:  {'target': 'https://www.loopearplugs.com/products/engage'}\u001b[0m\n",
      "\u001b[33m2024-08-13 12:39:44,770 - trafilatura.xml - WARNING - empty link:  {'target': 'https://www.loopearplugs.com/products/engage'}\u001b[0m\n",
      "\u001b[33m2024-08-13 12:39:44,770 - trafilatura.xml - WARNING - empty link:  {'target': 'https://www.loopearplugs.com/products/engage'}\u001b[0m\n",
      "\u001b[32m2024-08-13 12:39:44,773 - root - INFO - Adding new webpage: https://www.loopearplugs.com/products/engage1\u001b[0m\n",
      "\u001b[32m2024-08-13 12:39:44,773 - root - INFO - Adding new webpage: https://www.loopearplugs.com/products/engage1\u001b[0m\n",
      "\u001b[32m2024-08-13 12:39:44,773 - root - INFO - Adding new webpage: https://www.loopearplugs.com/products/engage1\u001b[0m\n",
      "\u001b[32m2024-08-13 12:39:44,773 - root - INFO - Adding new webpage: https://www.loopearplugs.com/products/engage1\u001b[0m\n",
      "\u001b[32m2024-08-13 12:39:44,773 - root - INFO - Adding new webpage: https://www.loopearplugs.com/products/engage1\u001b[0m\n",
      "\u001b[32m2024-08-13 12:39:44,773 - root - INFO - Adding new webpage: https://www.loopearplugs.com/products/engage1\u001b[0m\n"
     ]
    },
    {
     "name": "stdout",
     "output_type": "stream",
     "text": [
      "Added new webpage: https://www.loopearplugs.com/products/engage1\n"
     ]
    },
    {
     "name": "stderr",
     "output_type": "stream",
     "text": [
      "\u001b[33m2024-08-13 12:39:45,277 - trafilatura.xml - WARNING - empty link:  {'target': 'https://www.loopearplugs.com/products/experience'}\u001b[0m\n",
      "\u001b[33m2024-08-13 12:39:45,277 - trafilatura.xml - WARNING - empty link:  {'target': 'https://www.loopearplugs.com/products/experience'}\u001b[0m\n",
      "\u001b[33m2024-08-13 12:39:45,277 - trafilatura.xml - WARNING - empty link:  {'target': 'https://www.loopearplugs.com/products/experience'}\u001b[0m\n",
      "\u001b[33m2024-08-13 12:39:45,277 - trafilatura.xml - WARNING - empty link:  {'target': 'https://www.loopearplugs.com/products/experience'}\u001b[0m\n",
      "\u001b[33m2024-08-13 12:39:45,277 - trafilatura.xml - WARNING - empty link:  {'target': 'https://www.loopearplugs.com/products/experience'}\u001b[0m\n",
      "\u001b[33m2024-08-13 12:39:45,277 - trafilatura.xml - WARNING - empty link:  {'target': 'https://www.loopearplugs.com/products/experience'}\u001b[0m\n",
      "\u001b[32m2024-08-13 12:39:45,280 - root - INFO - Adding new webpage: https://www.loopearplugs.com/products/experience\u001b[0m\n",
      "\u001b[32m2024-08-13 12:39:45,280 - root - INFO - Adding new webpage: https://www.loopearplugs.com/products/experience\u001b[0m\n",
      "\u001b[32m2024-08-13 12:39:45,280 - root - INFO - Adding new webpage: https://www.loopearplugs.com/products/experience\u001b[0m\n",
      "\u001b[32m2024-08-13 12:39:45,280 - root - INFO - Adding new webpage: https://www.loopearplugs.com/products/experience\u001b[0m\n",
      "\u001b[32m2024-08-13 12:39:45,280 - root - INFO - Adding new webpage: https://www.loopearplugs.com/products/experience\u001b[0m\n",
      "\u001b[32m2024-08-13 12:39:45,280 - root - INFO - Adding new webpage: https://www.loopearplugs.com/products/experience\u001b[0m\n"
     ]
    },
    {
     "name": "stdout",
     "output_type": "stream",
     "text": [
      "Added new webpage: https://www.loopearplugs.com/products/experience\n"
     ]
    },
    {
     "name": "stderr",
     "output_type": "stream",
     "text": [
      "\u001b[31m2024-08-13 12:39:46,207 - trafilatura.downloads - ERROR - not a 200 response: 404 for URL https://www.loopearplugs.com/learnMoreURL%28product%29\u001b[0m\n",
      "\u001b[31m2024-08-13 12:39:46,207 - trafilatura.downloads - ERROR - not a 200 response: 404 for URL https://www.loopearplugs.com/learnMoreURL%28product%29\u001b[0m\n",
      "\u001b[31m2024-08-13 12:39:46,207 - trafilatura.downloads - ERROR - not a 200 response: 404 for URL https://www.loopearplugs.com/learnMoreURL%28product%29\u001b[0m\n",
      "\u001b[31m2024-08-13 12:39:46,207 - trafilatura.downloads - ERROR - not a 200 response: 404 for URL https://www.loopearplugs.com/learnMoreURL%28product%29\u001b[0m\n",
      "\u001b[31m2024-08-13 12:39:46,207 - trafilatura.downloads - ERROR - not a 200 response: 404 for URL https://www.loopearplugs.com/learnMoreURL%28product%29\u001b[0m\n",
      "\u001b[31m2024-08-13 12:39:46,207 - trafilatura.downloads - ERROR - not a 200 response: 404 for URL https://www.loopearplugs.com/learnMoreURL%28product%29\u001b[0m\n",
      "\u001b[33m2024-08-13 12:39:46,210 - trafilatura.core - WARNING - discarding data: None\u001b[0m\n",
      "\u001b[33m2024-08-13 12:39:46,210 - trafilatura.core - WARNING - discarding data: None\u001b[0m\n",
      "\u001b[33m2024-08-13 12:39:46,210 - trafilatura.core - WARNING - discarding data: None\u001b[0m\n",
      "\u001b[33m2024-08-13 12:39:46,210 - trafilatura.core - WARNING - discarding data: None\u001b[0m\n",
      "\u001b[33m2024-08-13 12:39:46,210 - trafilatura.core - WARNING - discarding data: None\u001b[0m\n",
      "\u001b[33m2024-08-13 12:39:46,210 - trafilatura.core - WARNING - discarding data: None\u001b[0m\n",
      "\u001b[32m2024-08-13 12:39:47,524 - root - INFO - Adding new webpage: https://www.loopearplugs.com/pages/quiz\u001b[0m\n",
      "\u001b[32m2024-08-13 12:39:47,524 - root - INFO - Adding new webpage: https://www.loopearplugs.com/pages/quiz\u001b[0m\n",
      "\u001b[32m2024-08-13 12:39:47,524 - root - INFO - Adding new webpage: https://www.loopearplugs.com/pages/quiz\u001b[0m\n",
      "\u001b[32m2024-08-13 12:39:47,524 - root - INFO - Adding new webpage: https://www.loopearplugs.com/pages/quiz\u001b[0m\n",
      "\u001b[32m2024-08-13 12:39:47,524 - root - INFO - Adding new webpage: https://www.loopearplugs.com/pages/quiz\u001b[0m\n",
      "\u001b[32m2024-08-13 12:39:47,524 - root - INFO - Adding new webpage: https://www.loopearplugs.com/pages/quiz\u001b[0m\n"
     ]
    },
    {
     "name": "stdout",
     "output_type": "stream",
     "text": [
      "Added new webpage: https://www.loopearplugs.com/pages/quiz\n"
     ]
    },
    {
     "name": "stderr",
     "output_type": "stream",
     "text": [
      "\u001b[32m2024-08-13 12:39:47,970 - root - INFO - Adding new webpage: https://www.loopearplugs.com/collections/bundles\u001b[0m\n",
      "\u001b[32m2024-08-13 12:39:47,970 - root - INFO - Adding new webpage: https://www.loopearplugs.com/collections/bundles\u001b[0m\n",
      "\u001b[32m2024-08-13 12:39:47,970 - root - INFO - Adding new webpage: https://www.loopearplugs.com/collections/bundles\u001b[0m\n",
      "\u001b[32m2024-08-13 12:39:47,970 - root - INFO - Adding new webpage: https://www.loopearplugs.com/collections/bundles\u001b[0m\n",
      "\u001b[32m2024-08-13 12:39:47,970 - root - INFO - Adding new webpage: https://www.loopearplugs.com/collections/bundles\u001b[0m\n",
      "\u001b[32m2024-08-13 12:39:47,970 - root - INFO - Adding new webpage: https://www.loopearplugs.com/collections/bundles\u001b[0m\n"
     ]
    },
    {
     "name": "stdout",
     "output_type": "stream",
     "text": [
      "Added new webpage: https://www.loopearplugs.com/collections/bundles\n"
     ]
    },
    {
     "name": "stderr",
     "output_type": "stream",
     "text": [
      "\u001b[33m2024-08-13 12:39:48,497 - trafilatura.xml - WARNING - empty link:  {'target': 'https://www.loopearplugs.com/products/switch'}\u001b[0m\n",
      "\u001b[33m2024-08-13 12:39:48,497 - trafilatura.xml - WARNING - empty link:  {'target': 'https://www.loopearplugs.com/products/switch'}\u001b[0m\n",
      "\u001b[33m2024-08-13 12:39:48,497 - trafilatura.xml - WARNING - empty link:  {'target': 'https://www.loopearplugs.com/products/switch'}\u001b[0m\n",
      "\u001b[33m2024-08-13 12:39:48,497 - trafilatura.xml - WARNING - empty link:  {'target': 'https://www.loopearplugs.com/products/switch'}\u001b[0m\n",
      "\u001b[33m2024-08-13 12:39:48,497 - trafilatura.xml - WARNING - empty link:  {'target': 'https://www.loopearplugs.com/products/switch'}\u001b[0m\n",
      "\u001b[33m2024-08-13 12:39:48,497 - trafilatura.xml - WARNING - empty link:  {'target': 'https://www.loopearplugs.com/products/switch'}\u001b[0m\n",
      "\u001b[32m2024-08-13 12:39:48,500 - root - INFO - Adding new webpage: https://www.loopearplugs.com/products/switch\u001b[0m\n",
      "\u001b[32m2024-08-13 12:39:48,500 - root - INFO - Adding new webpage: https://www.loopearplugs.com/products/switch\u001b[0m\n",
      "\u001b[32m2024-08-13 12:39:48,500 - root - INFO - Adding new webpage: https://www.loopearplugs.com/products/switch\u001b[0m\n",
      "\u001b[32m2024-08-13 12:39:48,500 - root - INFO - Adding new webpage: https://www.loopearplugs.com/products/switch\u001b[0m\n",
      "\u001b[32m2024-08-13 12:39:48,500 - root - INFO - Adding new webpage: https://www.loopearplugs.com/products/switch\u001b[0m\n",
      "\u001b[32m2024-08-13 12:39:48,500 - root - INFO - Adding new webpage: https://www.loopearplugs.com/products/switch\u001b[0m\n"
     ]
    },
    {
     "name": "stdout",
     "output_type": "stream",
     "text": [
      "Added new webpage: https://www.loopearplugs.com/products/switch\n"
     ]
    },
    {
     "name": "stderr",
     "output_type": "stream",
     "text": [
      "\u001b[31m2024-08-13 12:39:49,073 - trafilatura.downloads - ERROR - not a 200 response: 404 for URL https://www.loopearplugs.com/itemURL%28item%29\u001b[0m\n",
      "\u001b[31m2024-08-13 12:39:49,073 - trafilatura.downloads - ERROR - not a 200 response: 404 for URL https://www.loopearplugs.com/itemURL%28item%29\u001b[0m\n",
      "\u001b[31m2024-08-13 12:39:49,073 - trafilatura.downloads - ERROR - not a 200 response: 404 for URL https://www.loopearplugs.com/itemURL%28item%29\u001b[0m\n",
      "\u001b[31m2024-08-13 12:39:49,073 - trafilatura.downloads - ERROR - not a 200 response: 404 for URL https://www.loopearplugs.com/itemURL%28item%29\u001b[0m\n",
      "\u001b[31m2024-08-13 12:39:49,073 - trafilatura.downloads - ERROR - not a 200 response: 404 for URL https://www.loopearplugs.com/itemURL%28item%29\u001b[0m\n",
      "\u001b[31m2024-08-13 12:39:49,073 - trafilatura.downloads - ERROR - not a 200 response: 404 for URL https://www.loopearplugs.com/itemURL%28item%29\u001b[0m\n",
      "\u001b[33m2024-08-13 12:39:49,077 - trafilatura.core - WARNING - discarding data: None\u001b[0m\n",
      "\u001b[33m2024-08-13 12:39:49,077 - trafilatura.core - WARNING - discarding data: None\u001b[0m\n",
      "\u001b[33m2024-08-13 12:39:49,077 - trafilatura.core - WARNING - discarding data: None\u001b[0m\n",
      "\u001b[33m2024-08-13 12:39:49,077 - trafilatura.core - WARNING - discarding data: None\u001b[0m\n",
      "\u001b[33m2024-08-13 12:39:49,077 - trafilatura.core - WARNING - discarding data: None\u001b[0m\n",
      "\u001b[33m2024-08-13 12:39:49,077 - trafilatura.core - WARNING - discarding data: None\u001b[0m\n",
      "\u001b[32m2024-08-13 12:39:50,357 - root - INFO - Adding new webpage: https://www.loopearplugs.com/pages/returns\u001b[0m\n",
      "\u001b[32m2024-08-13 12:39:50,357 - root - INFO - Adding new webpage: https://www.loopearplugs.com/pages/returns\u001b[0m\n",
      "\u001b[32m2024-08-13 12:39:50,357 - root - INFO - Adding new webpage: https://www.loopearplugs.com/pages/returns\u001b[0m\n",
      "\u001b[32m2024-08-13 12:39:50,357 - root - INFO - Adding new webpage: https://www.loopearplugs.com/pages/returns\u001b[0m\n",
      "\u001b[32m2024-08-13 12:39:50,357 - root - INFO - Adding new webpage: https://www.loopearplugs.com/pages/returns\u001b[0m\n",
      "\u001b[32m2024-08-13 12:39:50,357 - root - INFO - Adding new webpage: https://www.loopearplugs.com/pages/returns\u001b[0m\n"
     ]
    },
    {
     "name": "stdout",
     "output_type": "stream",
     "text": [
      "Added new webpage: https://www.loopearplugs.com/pages/returns\n"
     ]
    },
    {
     "name": "stderr",
     "output_type": "stream",
     "text": [
      "\u001b[33m2024-08-13 12:39:50,846 - trafilatura.xml - WARNING - empty link:  {'target': 'https://www.loopearplugs.com/products/quiet'}\u001b[0m\n",
      "\u001b[33m2024-08-13 12:39:50,846 - trafilatura.xml - WARNING - empty link:  {'target': 'https://www.loopearplugs.com/products/quiet'}\u001b[0m\n",
      "\u001b[33m2024-08-13 12:39:50,846 - trafilatura.xml - WARNING - empty link:  {'target': 'https://www.loopearplugs.com/products/quiet'}\u001b[0m\n",
      "\u001b[33m2024-08-13 12:39:50,846 - trafilatura.xml - WARNING - empty link:  {'target': 'https://www.loopearplugs.com/products/quiet'}\u001b[0m\n",
      "\u001b[33m2024-08-13 12:39:50,846 - trafilatura.xml - WARNING - empty link:  {'target': 'https://www.loopearplugs.com/products/quiet'}\u001b[0m\n",
      "\u001b[33m2024-08-13 12:39:50,846 - trafilatura.xml - WARNING - empty link:  {'target': 'https://www.loopearplugs.com/products/quiet'}\u001b[0m\n",
      "\u001b[32m2024-08-13 12:39:50,848 - root - INFO - Adding new webpage: https://www.loopearplugs.com/products/quiet\u001b[0m\n",
      "\u001b[32m2024-08-13 12:39:50,848 - root - INFO - Adding new webpage: https://www.loopearplugs.com/products/quiet\u001b[0m\n",
      "\u001b[32m2024-08-13 12:39:50,848 - root - INFO - Adding new webpage: https://www.loopearplugs.com/products/quiet\u001b[0m\n",
      "\u001b[32m2024-08-13 12:39:50,848 - root - INFO - Adding new webpage: https://www.loopearplugs.com/products/quiet\u001b[0m\n",
      "\u001b[32m2024-08-13 12:39:50,848 - root - INFO - Adding new webpage: https://www.loopearplugs.com/products/quiet\u001b[0m\n",
      "\u001b[32m2024-08-13 12:39:50,848 - root - INFO - Adding new webpage: https://www.loopearplugs.com/products/quiet\u001b[0m\n"
     ]
    },
    {
     "name": "stdout",
     "output_type": "stream",
     "text": [
      "Added new webpage: https://www.loopearplugs.com/products/quiet\n"
     ]
    },
    {
     "name": "stderr",
     "output_type": "stream",
     "text": [
      "\u001b[32m2024-08-13 12:39:52,203 - root - INFO - Adding new webpage: https://www.loopearplugs.com/pages/compare-loop-earplugs\u001b[0m\n",
      "\u001b[32m2024-08-13 12:39:52,203 - root - INFO - Adding new webpage: https://www.loopearplugs.com/pages/compare-loop-earplugs\u001b[0m\n",
      "\u001b[32m2024-08-13 12:39:52,203 - root - INFO - Adding new webpage: https://www.loopearplugs.com/pages/compare-loop-earplugs\u001b[0m\n",
      "\u001b[32m2024-08-13 12:39:52,203 - root - INFO - Adding new webpage: https://www.loopearplugs.com/pages/compare-loop-earplugs\u001b[0m\n",
      "\u001b[32m2024-08-13 12:39:52,203 - root - INFO - Adding new webpage: https://www.loopearplugs.com/pages/compare-loop-earplugs\u001b[0m\n",
      "\u001b[32m2024-08-13 12:39:52,203 - root - INFO - Adding new webpage: https://www.loopearplugs.com/pages/compare-loop-earplugs\u001b[0m\n"
     ]
    },
    {
     "name": "stdout",
     "output_type": "stream",
     "text": [
      "Added new webpage: https://www.loopearplugs.com/pages/compare-loop-earplugs\n"
     ]
    },
    {
     "name": "stderr",
     "output_type": "stream",
     "text": [
      "\u001b[32m2024-08-13 12:39:54,184 - root - INFO - Adding new webpage: https://www.loopearplugs.com/blogs/blog\u001b[0m\n",
      "\u001b[32m2024-08-13 12:39:54,184 - root - INFO - Adding new webpage: https://www.loopearplugs.com/blogs/blog\u001b[0m\n",
      "\u001b[32m2024-08-13 12:39:54,184 - root - INFO - Adding new webpage: https://www.loopearplugs.com/blogs/blog\u001b[0m\n",
      "\u001b[32m2024-08-13 12:39:54,184 - root - INFO - Adding new webpage: https://www.loopearplugs.com/blogs/blog\u001b[0m\n",
      "\u001b[32m2024-08-13 12:39:54,184 - root - INFO - Adding new webpage: https://www.loopearplugs.com/blogs/blog\u001b[0m\n",
      "\u001b[32m2024-08-13 12:39:54,184 - root - INFO - Adding new webpage: https://www.loopearplugs.com/blogs/blog\u001b[0m\n"
     ]
    },
    {
     "name": "stdout",
     "output_type": "stream",
     "text": [
      "Added new webpage: https://www.loopearplugs.com/blogs/blog\n"
     ]
    },
    {
     "name": "stderr",
     "output_type": "stream",
     "text": [
      "\u001b[33m2024-08-13 12:39:54,707 - trafilatura.xml - WARNING - empty link:  {'target': 'https://www.loopearplugs.com/products/engage'}\u001b[0m\n",
      "\u001b[33m2024-08-13 12:39:54,707 - trafilatura.xml - WARNING - empty link:  {'target': 'https://www.loopearplugs.com/products/engage'}\u001b[0m\n",
      "\u001b[33m2024-08-13 12:39:54,707 - trafilatura.xml - WARNING - empty link:  {'target': 'https://www.loopearplugs.com/products/engage'}\u001b[0m\n",
      "\u001b[33m2024-08-13 12:39:54,707 - trafilatura.xml - WARNING - empty link:  {'target': 'https://www.loopearplugs.com/products/engage'}\u001b[0m\n",
      "\u001b[33m2024-08-13 12:39:54,707 - trafilatura.xml - WARNING - empty link:  {'target': 'https://www.loopearplugs.com/products/engage'}\u001b[0m\n",
      "\u001b[33m2024-08-13 12:39:54,707 - trafilatura.xml - WARNING - empty link:  {'target': 'https://www.loopearplugs.com/products/engage'}\u001b[0m\n",
      "\u001b[32m2024-08-13 12:39:54,710 - root - INFO - Adding new webpage: https://www.loopearplugs.com/products/engage\u001b[0m\n",
      "\u001b[32m2024-08-13 12:39:54,710 - root - INFO - Adding new webpage: https://www.loopearplugs.com/products/engage\u001b[0m\n",
      "\u001b[32m2024-08-13 12:39:54,710 - root - INFO - Adding new webpage: https://www.loopearplugs.com/products/engage\u001b[0m\n",
      "\u001b[32m2024-08-13 12:39:54,710 - root - INFO - Adding new webpage: https://www.loopearplugs.com/products/engage\u001b[0m\n",
      "\u001b[32m2024-08-13 12:39:54,710 - root - INFO - Adding new webpage: https://www.loopearplugs.com/products/engage\u001b[0m\n",
      "\u001b[32m2024-08-13 12:39:54,710 - root - INFO - Adding new webpage: https://www.loopearplugs.com/products/engage\u001b[0m\n"
     ]
    },
    {
     "name": "stdout",
     "output_type": "stream",
     "text": [
      "Added new webpage: https://www.loopearplugs.com/products/engage\n"
     ]
    },
    {
     "name": "stderr",
     "output_type": "stream",
     "text": [
      "\u001b[32m2024-08-13 12:39:56,116 - root - INFO - Adding new webpage: https://www.loopearplugs.com/pages/cookie-policy\u001b[0m\n",
      "\u001b[32m2024-08-13 12:39:56,116 - root - INFO - Adding new webpage: https://www.loopearplugs.com/pages/cookie-policy\u001b[0m\n",
      "\u001b[32m2024-08-13 12:39:56,116 - root - INFO - Adding new webpage: https://www.loopearplugs.com/pages/cookie-policy\u001b[0m\n",
      "\u001b[32m2024-08-13 12:39:56,116 - root - INFO - Adding new webpage: https://www.loopearplugs.com/pages/cookie-policy\u001b[0m\n",
      "\u001b[32m2024-08-13 12:39:56,116 - root - INFO - Adding new webpage: https://www.loopearplugs.com/pages/cookie-policy\u001b[0m\n",
      "\u001b[32m2024-08-13 12:39:56,116 - root - INFO - Adding new webpage: https://www.loopearplugs.com/pages/cookie-policy\u001b[0m\n"
     ]
    },
    {
     "name": "stdout",
     "output_type": "stream",
     "text": [
      "Added new webpage: https://www.loopearplugs.com/pages/cookie-policy\n"
     ]
    },
    {
     "name": "stderr",
     "output_type": "stream",
     "text": [
      "\u001b[32m2024-08-13 12:39:57,464 - root - INFO - Adding new webpage: https://www.loopearplugs.com/pages/start\u001b[0m\n",
      "\u001b[32m2024-08-13 12:39:57,464 - root - INFO - Adding new webpage: https://www.loopearplugs.com/pages/start\u001b[0m\n",
      "\u001b[32m2024-08-13 12:39:57,464 - root - INFO - Adding new webpage: https://www.loopearplugs.com/pages/start\u001b[0m\n",
      "\u001b[32m2024-08-13 12:39:57,464 - root - INFO - Adding new webpage: https://www.loopearplugs.com/pages/start\u001b[0m\n",
      "\u001b[32m2024-08-13 12:39:57,464 - root - INFO - Adding new webpage: https://www.loopearplugs.com/pages/start\u001b[0m\n",
      "\u001b[32m2024-08-13 12:39:57,464 - root - INFO - Adding new webpage: https://www.loopearplugs.com/pages/start\u001b[0m\n",
      "\u001b[32m2024-08-13 12:39:57,655 - urllib3.poolmanager - INFO - Redirecting https://www.loopearplugs.com/products/engage-plus1 -> https://www.loopearplugs.com/products/engage-plus\u001b[0m\n",
      "\u001b[32m2024-08-13 12:39:57,655 - urllib3.poolmanager - INFO - Redirecting https://www.loopearplugs.com/products/engage-plus1 -> https://www.loopearplugs.com/products/engage-plus\u001b[0m\n",
      "\u001b[32m2024-08-13 12:39:57,655 - urllib3.poolmanager - INFO - Redirecting https://www.loopearplugs.com/products/engage-plus1 -> https://www.loopearplugs.com/products/engage-plus\u001b[0m\n",
      "\u001b[32m2024-08-13 12:39:57,655 - urllib3.poolmanager - INFO - Redirecting https://www.loopearplugs.com/products/engage-plus1 -> https://www.loopearplugs.com/products/engage-plus\u001b[0m\n",
      "\u001b[32m2024-08-13 12:39:57,655 - urllib3.poolmanager - INFO - Redirecting https://www.loopearplugs.com/products/engage-plus1 -> https://www.loopearplugs.com/products/engage-plus\u001b[0m\n",
      "\u001b[32m2024-08-13 12:39:57,655 - urllib3.poolmanager - INFO - Redirecting https://www.loopearplugs.com/products/engage-plus1 -> https://www.loopearplugs.com/products/engage-plus\u001b[0m\n"
     ]
    },
    {
     "name": "stdout",
     "output_type": "stream",
     "text": [
      "Added new webpage: https://www.loopearplugs.com/pages/start\n"
     ]
    },
    {
     "name": "stderr",
     "output_type": "stream",
     "text": [
      "\u001b[33m2024-08-13 12:39:58,195 - trafilatura.xml - WARNING - empty link:  {'target': 'https://www.loopearplugs.com/products/engage-plus'}\u001b[0m\n",
      "\u001b[33m2024-08-13 12:39:58,195 - trafilatura.xml - WARNING - empty link:  {'target': 'https://www.loopearplugs.com/products/engage-plus'}\u001b[0m\n",
      "\u001b[33m2024-08-13 12:39:58,195 - trafilatura.xml - WARNING - empty link:  {'target': 'https://www.loopearplugs.com/products/engage-plus'}\u001b[0m\n",
      "\u001b[33m2024-08-13 12:39:58,195 - trafilatura.xml - WARNING - empty link:  {'target': 'https://www.loopearplugs.com/products/engage-plus'}\u001b[0m\n",
      "\u001b[33m2024-08-13 12:39:58,195 - trafilatura.xml - WARNING - empty link:  {'target': 'https://www.loopearplugs.com/products/engage-plus'}\u001b[0m\n",
      "\u001b[33m2024-08-13 12:39:58,195 - trafilatura.xml - WARNING - empty link:  {'target': 'https://www.loopearplugs.com/products/engage-plus'}\u001b[0m\n",
      "\u001b[32m2024-08-13 12:39:58,197 - root - INFO - Adding new webpage: https://www.loopearplugs.com/products/engage-plus1\u001b[0m\n",
      "\u001b[32m2024-08-13 12:39:58,197 - root - INFO - Adding new webpage: https://www.loopearplugs.com/products/engage-plus1\u001b[0m\n",
      "\u001b[32m2024-08-13 12:39:58,197 - root - INFO - Adding new webpage: https://www.loopearplugs.com/products/engage-plus1\u001b[0m\n",
      "\u001b[32m2024-08-13 12:39:58,197 - root - INFO - Adding new webpage: https://www.loopearplugs.com/products/engage-plus1\u001b[0m\n",
      "\u001b[32m2024-08-13 12:39:58,197 - root - INFO - Adding new webpage: https://www.loopearplugs.com/products/engage-plus1\u001b[0m\n",
      "\u001b[32m2024-08-13 12:39:58,197 - root - INFO - Adding new webpage: https://www.loopearplugs.com/products/engage-plus1\u001b[0m\n",
      "\u001b[32m2024-08-13 12:39:58,386 - urllib3.poolmanager - INFO - Redirecting https://www.loopearplugs.com/products/experience-plus1 -> https://www.loopearplugs.com/products/experience-plus\u001b[0m\n",
      "\u001b[32m2024-08-13 12:39:58,386 - urllib3.poolmanager - INFO - Redirecting https://www.loopearplugs.com/products/experience-plus1 -> https://www.loopearplugs.com/products/experience-plus\u001b[0m\n",
      "\u001b[32m2024-08-13 12:39:58,386 - urllib3.poolmanager - INFO - Redirecting https://www.loopearplugs.com/products/experience-plus1 -> https://www.loopearplugs.com/products/experience-plus\u001b[0m\n",
      "\u001b[32m2024-08-13 12:39:58,386 - urllib3.poolmanager - INFO - Redirecting https://www.loopearplugs.com/products/experience-plus1 -> https://www.loopearplugs.com/products/experience-plus\u001b[0m\n",
      "\u001b[32m2024-08-13 12:39:58,386 - urllib3.poolmanager - INFO - Redirecting https://www.loopearplugs.com/products/experience-plus1 -> https://www.loopearplugs.com/products/experience-plus\u001b[0m\n",
      "\u001b[32m2024-08-13 12:39:58,386 - urllib3.poolmanager - INFO - Redirecting https://www.loopearplugs.com/products/experience-plus1 -> https://www.loopearplugs.com/products/experience-plus\u001b[0m\n"
     ]
    },
    {
     "name": "stdout",
     "output_type": "stream",
     "text": [
      "Added new webpage: https://www.loopearplugs.com/products/engage-plus1\n"
     ]
    },
    {
     "name": "stderr",
     "output_type": "stream",
     "text": [
      "\u001b[33m2024-08-13 12:39:58,895 - trafilatura.xml - WARNING - empty link:  {'target': 'https://www.loopearplugs.com/products/experience-plus'}\u001b[0m\n",
      "\u001b[33m2024-08-13 12:39:58,895 - trafilatura.xml - WARNING - empty link:  {'target': 'https://www.loopearplugs.com/products/experience-plus'}\u001b[0m\n",
      "\u001b[33m2024-08-13 12:39:58,895 - trafilatura.xml - WARNING - empty link:  {'target': 'https://www.loopearplugs.com/products/experience-plus'}\u001b[0m\n",
      "\u001b[33m2024-08-13 12:39:58,895 - trafilatura.xml - WARNING - empty link:  {'target': 'https://www.loopearplugs.com/products/experience-plus'}\u001b[0m\n",
      "\u001b[33m2024-08-13 12:39:58,895 - trafilatura.xml - WARNING - empty link:  {'target': 'https://www.loopearplugs.com/products/experience-plus'}\u001b[0m\n",
      "\u001b[33m2024-08-13 12:39:58,895 - trafilatura.xml - WARNING - empty link:  {'target': 'https://www.loopearplugs.com/products/experience-plus'}\u001b[0m\n",
      "\u001b[32m2024-08-13 12:39:58,899 - root - INFO - Adding new webpage: https://www.loopearplugs.com/products/experience-plus1\u001b[0m\n",
      "\u001b[32m2024-08-13 12:39:58,899 - root - INFO - Adding new webpage: https://www.loopearplugs.com/products/experience-plus1\u001b[0m\n",
      "\u001b[32m2024-08-13 12:39:58,899 - root - INFO - Adding new webpage: https://www.loopearplugs.com/products/experience-plus1\u001b[0m\n",
      "\u001b[32m2024-08-13 12:39:58,899 - root - INFO - Adding new webpage: https://www.loopearplugs.com/products/experience-plus1\u001b[0m\n",
      "\u001b[32m2024-08-13 12:39:58,899 - root - INFO - Adding new webpage: https://www.loopearplugs.com/products/experience-plus1\u001b[0m\n",
      "\u001b[32m2024-08-13 12:39:58,899 - root - INFO - Adding new webpage: https://www.loopearplugs.com/products/experience-plus1\u001b[0m\n"
     ]
    },
    {
     "name": "stdout",
     "output_type": "stream",
     "text": [
      "Added new webpage: https://www.loopearplugs.com/products/experience-plus1\n"
     ]
    },
    {
     "name": "stderr",
     "output_type": "stream",
     "text": [
      "\u001b[31m2024-08-13 12:39:59,901 - trafilatura.downloads - ERROR - not a 200 response: 404 for URL https://www.loopearplugs.com/%5C\u001b[0m\n",
      "\u001b[31m2024-08-13 12:39:59,901 - trafilatura.downloads - ERROR - not a 200 response: 404 for URL https://www.loopearplugs.com/%5C\u001b[0m\n",
      "\u001b[31m2024-08-13 12:39:59,901 - trafilatura.downloads - ERROR - not a 200 response: 404 for URL https://www.loopearplugs.com/%5C\u001b[0m\n",
      "\u001b[31m2024-08-13 12:39:59,901 - trafilatura.downloads - ERROR - not a 200 response: 404 for URL https://www.loopearplugs.com/%5C\u001b[0m\n",
      "\u001b[31m2024-08-13 12:39:59,901 - trafilatura.downloads - ERROR - not a 200 response: 404 for URL https://www.loopearplugs.com/%5C\u001b[0m\n",
      "\u001b[31m2024-08-13 12:39:59,901 - trafilatura.downloads - ERROR - not a 200 response: 404 for URL https://www.loopearplugs.com/%5C\u001b[0m\n",
      "\u001b[33m2024-08-13 12:39:59,906 - trafilatura.core - WARNING - discarding data: None\u001b[0m\n",
      "\u001b[33m2024-08-13 12:39:59,906 - trafilatura.core - WARNING - discarding data: None\u001b[0m\n",
      "\u001b[33m2024-08-13 12:39:59,906 - trafilatura.core - WARNING - discarding data: None\u001b[0m\n",
      "\u001b[33m2024-08-13 12:39:59,906 - trafilatura.core - WARNING - discarding data: None\u001b[0m\n",
      "\u001b[33m2024-08-13 12:39:59,906 - trafilatura.core - WARNING - discarding data: None\u001b[0m\n",
      "\u001b[33m2024-08-13 12:39:59,906 - trafilatura.core - WARNING - discarding data: None\u001b[0m\n",
      "\u001b[32m2024-08-13 12:40:00,385 - root - INFO - Adding new webpage: https://www.loopearplugs.com/products/engage-kids\u001b[0m\n",
      "\u001b[32m2024-08-13 12:40:00,385 - root - INFO - Adding new webpage: https://www.loopearplugs.com/products/engage-kids\u001b[0m\n",
      "\u001b[32m2024-08-13 12:40:00,385 - root - INFO - Adding new webpage: https://www.loopearplugs.com/products/engage-kids\u001b[0m\n",
      "\u001b[32m2024-08-13 12:40:00,385 - root - INFO - Adding new webpage: https://www.loopearplugs.com/products/engage-kids\u001b[0m\n",
      "\u001b[32m2024-08-13 12:40:00,385 - root - INFO - Adding new webpage: https://www.loopearplugs.com/products/engage-kids\u001b[0m\n",
      "\u001b[32m2024-08-13 12:40:00,385 - root - INFO - Adding new webpage: https://www.loopearplugs.com/products/engage-kids\u001b[0m\n"
     ]
    },
    {
     "name": "stdout",
     "output_type": "stream",
     "text": [
      "Added new webpage: https://www.loopearplugs.com/products/engage-kids\n"
     ]
    },
    {
     "name": "stderr",
     "output_type": "stream",
     "text": [
      "\u001b[32m2024-08-13 12:40:01,854 - root - INFO - Adding new webpage: https://www.loopearplugs.com/pages/community\u001b[0m\n",
      "\u001b[32m2024-08-13 12:40:01,854 - root - INFO - Adding new webpage: https://www.loopearplugs.com/pages/community\u001b[0m\n",
      "\u001b[32m2024-08-13 12:40:01,854 - root - INFO - Adding new webpage: https://www.loopearplugs.com/pages/community\u001b[0m\n",
      "\u001b[32m2024-08-13 12:40:01,854 - root - INFO - Adding new webpage: https://www.loopearplugs.com/pages/community\u001b[0m\n",
      "\u001b[32m2024-08-13 12:40:01,854 - root - INFO - Adding new webpage: https://www.loopearplugs.com/pages/community\u001b[0m\n",
      "\u001b[32m2024-08-13 12:40:01,854 - root - INFO - Adding new webpage: https://www.loopearplugs.com/pages/community\u001b[0m\n"
     ]
    },
    {
     "name": "stdout",
     "output_type": "stream",
     "text": [
      "Added new webpage: https://www.loopearplugs.com/pages/community\n"
     ]
    },
    {
     "name": "stderr",
     "output_type": "stream",
     "text": [
      "\u001b[32m2024-08-13 12:40:03,442 - root - INFO - Adding new webpage: https://www.loopearplugs.com/pages/earplugs-for-sleeping\u001b[0m\n",
      "\u001b[32m2024-08-13 12:40:03,442 - root - INFO - Adding new webpage: https://www.loopearplugs.com/pages/earplugs-for-sleeping\u001b[0m\n",
      "\u001b[32m2024-08-13 12:40:03,442 - root - INFO - Adding new webpage: https://www.loopearplugs.com/pages/earplugs-for-sleeping\u001b[0m\n",
      "\u001b[32m2024-08-13 12:40:03,442 - root - INFO - Adding new webpage: https://www.loopearplugs.com/pages/earplugs-for-sleeping\u001b[0m\n",
      "\u001b[32m2024-08-13 12:40:03,442 - root - INFO - Adding new webpage: https://www.loopearplugs.com/pages/earplugs-for-sleeping\u001b[0m\n",
      "\u001b[32m2024-08-13 12:40:03,442 - root - INFO - Adding new webpage: https://www.loopearplugs.com/pages/earplugs-for-sleeping\u001b[0m\n"
     ]
    },
    {
     "name": "stdout",
     "output_type": "stream",
     "text": [
      "Added new webpage: https://www.loopearplugs.com/pages/earplugs-for-sleeping\n"
     ]
    },
    {
     "name": "stderr",
     "output_type": "stream",
     "text": [
      "\u001b[32m2024-08-13 12:40:03,914 - root - INFO - Adding new webpage: https://www.loopearplugs.com/products/tomorrowland\u001b[0m\n",
      "\u001b[32m2024-08-13 12:40:03,914 - root - INFO - Adding new webpage: https://www.loopearplugs.com/products/tomorrowland\u001b[0m\n",
      "\u001b[32m2024-08-13 12:40:03,914 - root - INFO - Adding new webpage: https://www.loopearplugs.com/products/tomorrowland\u001b[0m\n",
      "\u001b[32m2024-08-13 12:40:03,914 - root - INFO - Adding new webpage: https://www.loopearplugs.com/products/tomorrowland\u001b[0m\n",
      "\u001b[32m2024-08-13 12:40:03,914 - root - INFO - Adding new webpage: https://www.loopearplugs.com/products/tomorrowland\u001b[0m\n",
      "\u001b[32m2024-08-13 12:40:03,914 - root - INFO - Adding new webpage: https://www.loopearplugs.com/products/tomorrowland\u001b[0m\n"
     ]
    },
    {
     "name": "stdout",
     "output_type": "stream",
     "text": [
      "Added new webpage: https://www.loopearplugs.com/products/tomorrowland\n"
     ]
    },
    {
     "name": "stderr",
     "output_type": "stream",
     "text": [
      "\u001b[32m2024-08-13 12:40:04,379 - root - INFO - Adding new webpage: https://www.loopearplugs.com/collections/best-sellers\u001b[0m\n",
      "\u001b[32m2024-08-13 12:40:04,379 - root - INFO - Adding new webpage: https://www.loopearplugs.com/collections/best-sellers\u001b[0m\n",
      "\u001b[32m2024-08-13 12:40:04,379 - root - INFO - Adding new webpage: https://www.loopearplugs.com/collections/best-sellers\u001b[0m\n",
      "\u001b[32m2024-08-13 12:40:04,379 - root - INFO - Adding new webpage: https://www.loopearplugs.com/collections/best-sellers\u001b[0m\n",
      "\u001b[32m2024-08-13 12:40:04,379 - root - INFO - Adding new webpage: https://www.loopearplugs.com/collections/best-sellers\u001b[0m\n",
      "\u001b[32m2024-08-13 12:40:04,379 - root - INFO - Adding new webpage: https://www.loopearplugs.com/collections/best-sellers\u001b[0m\n"
     ]
    },
    {
     "name": "stdout",
     "output_type": "stream",
     "text": [
      "Added new webpage: https://www.loopearplugs.com/collections/best-sellers\n"
     ]
    },
    {
     "name": "stderr",
     "output_type": "stream",
     "text": [
      "\u001b[33m2024-08-13 12:40:05,888 - trafilatura.xml - WARNING - missing link attribute: \n",
      "              \n",
      "            \n",
      "            \n",
      "              \n",
      "            \n",
      "\n",
      "            \n",
      "              \n",
      "            \n",
      "          \n",
      "         {}'\u001b[0m\n",
      "\u001b[33m2024-08-13 12:40:05,888 - trafilatura.xml - WARNING - missing link attribute: \n",
      "              \n",
      "            \n",
      "            \n",
      "              \n",
      "            \n",
      "\n",
      "            \n",
      "              \n",
      "            \n",
      "          \n",
      "         {}'\u001b[0m\n",
      "\u001b[33m2024-08-13 12:40:05,888 - trafilatura.xml - WARNING - missing link attribute: \n",
      "              \n",
      "            \n",
      "            \n",
      "              \n",
      "            \n",
      "\n",
      "            \n",
      "              \n",
      "            \n",
      "          \n",
      "         {}'\u001b[0m\n",
      "\u001b[33m2024-08-13 12:40:05,888 - trafilatura.xml - WARNING - missing link attribute: \n",
      "              \n",
      "            \n",
      "            \n",
      "              \n",
      "            \n",
      "\n",
      "            \n",
      "              \n",
      "            \n",
      "          \n",
      "         {}'\u001b[0m\n",
      "\u001b[33m2024-08-13 12:40:05,888 - trafilatura.xml - WARNING - missing link attribute: \n",
      "              \n",
      "            \n",
      "            \n",
      "              \n",
      "            \n",
      "\n",
      "            \n",
      "              \n",
      "            \n",
      "          \n",
      "         {}'\u001b[0m\n",
      "\u001b[33m2024-08-13 12:40:05,888 - trafilatura.xml - WARNING - missing link attribute: \n",
      "              \n",
      "            \n",
      "            \n",
      "              \n",
      "            \n",
      "\n",
      "            \n",
      "              \n",
      "            \n",
      "          \n",
      "         {}'\u001b[0m\n",
      "\u001b[32m2024-08-13 12:40:05,891 - root - INFO - Adding new webpage: https://www.loopearplugs.com/pages/earplugs-for-autism\u001b[0m\n",
      "\u001b[32m2024-08-13 12:40:05,891 - root - INFO - Adding new webpage: https://www.loopearplugs.com/pages/earplugs-for-autism\u001b[0m\n",
      "\u001b[32m2024-08-13 12:40:05,891 - root - INFO - Adding new webpage: https://www.loopearplugs.com/pages/earplugs-for-autism\u001b[0m\n",
      "\u001b[32m2024-08-13 12:40:05,891 - root - INFO - Adding new webpage: https://www.loopearplugs.com/pages/earplugs-for-autism\u001b[0m\n",
      "\u001b[32m2024-08-13 12:40:05,891 - root - INFO - Adding new webpage: https://www.loopearplugs.com/pages/earplugs-for-autism\u001b[0m\n",
      "\u001b[32m2024-08-13 12:40:05,891 - root - INFO - Adding new webpage: https://www.loopearplugs.com/pages/earplugs-for-autism\u001b[0m\n"
     ]
    },
    {
     "name": "stdout",
     "output_type": "stream",
     "text": [
      "Added new webpage: https://www.loopearplugs.com/pages/earplugs-for-autism\n"
     ]
    },
    {
     "name": "stderr",
     "output_type": "stream",
     "text": [
      "\u001b[32m2024-08-13 12:40:07,645 - root - INFO - Adding new webpage: https://www.loopearplugs.com/blogs/blog/how-to-deal-with-misophonia-at-work\u001b[0m\n",
      "\u001b[32m2024-08-13 12:40:07,645 - root - INFO - Adding new webpage: https://www.loopearplugs.com/blogs/blog/how-to-deal-with-misophonia-at-work\u001b[0m\n",
      "\u001b[32m2024-08-13 12:40:07,645 - root - INFO - Adding new webpage: https://www.loopearplugs.com/blogs/blog/how-to-deal-with-misophonia-at-work\u001b[0m\n",
      "\u001b[32m2024-08-13 12:40:07,645 - root - INFO - Adding new webpage: https://www.loopearplugs.com/blogs/blog/how-to-deal-with-misophonia-at-work\u001b[0m\n",
      "\u001b[32m2024-08-13 12:40:07,645 - root - INFO - Adding new webpage: https://www.loopearplugs.com/blogs/blog/how-to-deal-with-misophonia-at-work\u001b[0m\n",
      "\u001b[32m2024-08-13 12:40:07,645 - root - INFO - Adding new webpage: https://www.loopearplugs.com/blogs/blog/how-to-deal-with-misophonia-at-work\u001b[0m\n"
     ]
    },
    {
     "name": "stdout",
     "output_type": "stream",
     "text": [
      "Added new webpage: https://www.loopearplugs.com/blogs/blog/how-to-deal-with-misophonia-at-work\n"
     ]
    },
    {
     "name": "stderr",
     "output_type": "stream",
     "text": [
      "\u001b[32m2024-08-13 12:40:09,485 - root - INFO - Adding new webpage: https://www.loopearplugs.com/blogs/blog/how-to-deal-with-sensory-overload\u001b[0m\n",
      "\u001b[32m2024-08-13 12:40:09,485 - root - INFO - Adding new webpage: https://www.loopearplugs.com/blogs/blog/how-to-deal-with-sensory-overload\u001b[0m\n",
      "\u001b[32m2024-08-13 12:40:09,485 - root - INFO - Adding new webpage: https://www.loopearplugs.com/blogs/blog/how-to-deal-with-sensory-overload\u001b[0m\n",
      "\u001b[32m2024-08-13 12:40:09,485 - root - INFO - Adding new webpage: https://www.loopearplugs.com/blogs/blog/how-to-deal-with-sensory-overload\u001b[0m\n",
      "\u001b[32m2024-08-13 12:40:09,485 - root - INFO - Adding new webpage: https://www.loopearplugs.com/blogs/blog/how-to-deal-with-sensory-overload\u001b[0m\n",
      "\u001b[32m2024-08-13 12:40:09,485 - root - INFO - Adding new webpage: https://www.loopearplugs.com/blogs/blog/how-to-deal-with-sensory-overload\u001b[0m\n"
     ]
    },
    {
     "name": "stdout",
     "output_type": "stream",
     "text": [
      "Added new webpage: https://www.loopearplugs.com/blogs/blog/how-to-deal-with-sensory-overload\n"
     ]
    },
    {
     "name": "stderr",
     "output_type": "stream",
     "text": [
      "\u001b[32m2024-08-13 12:40:10,923 - root - INFO - Adding new webpage: https://www.loopearplugs.com/blogs/blog/noise-sensitivity-anxiety\u001b[0m\n",
      "\u001b[32m2024-08-13 12:40:10,923 - root - INFO - Adding new webpage: https://www.loopearplugs.com/blogs/blog/noise-sensitivity-anxiety\u001b[0m\n",
      "\u001b[32m2024-08-13 12:40:10,923 - root - INFO - Adding new webpage: https://www.loopearplugs.com/blogs/blog/noise-sensitivity-anxiety\u001b[0m\n",
      "\u001b[32m2024-08-13 12:40:10,923 - root - INFO - Adding new webpage: https://www.loopearplugs.com/blogs/blog/noise-sensitivity-anxiety\u001b[0m\n",
      "\u001b[32m2024-08-13 12:40:10,923 - root - INFO - Adding new webpage: https://www.loopearplugs.com/blogs/blog/noise-sensitivity-anxiety\u001b[0m\n",
      "\u001b[32m2024-08-13 12:40:10,923 - root - INFO - Adding new webpage: https://www.loopearplugs.com/blogs/blog/noise-sensitivity-anxiety\u001b[0m\n"
     ]
    },
    {
     "name": "stdout",
     "output_type": "stream",
     "text": [
      "Added new webpage: https://www.loopearplugs.com/blogs/blog/noise-sensitivity-anxiety\n"
     ]
    },
    {
     "name": "stderr",
     "output_type": "stream",
     "text": [
      "\u001b[33m2024-08-13 12:40:12,412 - trafilatura.xml - WARNING - missing link attribute: \n",
      "              \n",
      "            \n",
      "            \n",
      "              \n",
      "            \n",
      "\n",
      "            \n",
      "              \n",
      "            \n",
      "          \n",
      "         {}'\u001b[0m\n",
      "\u001b[33m2024-08-13 12:40:12,412 - trafilatura.xml - WARNING - missing link attribute: \n",
      "              \n",
      "            \n",
      "            \n",
      "              \n",
      "            \n",
      "\n",
      "            \n",
      "              \n",
      "            \n",
      "          \n",
      "         {}'\u001b[0m\n",
      "\u001b[33m2024-08-13 12:40:12,412 - trafilatura.xml - WARNING - missing link attribute: \n",
      "              \n",
      "            \n",
      "            \n",
      "              \n",
      "            \n",
      "\n",
      "            \n",
      "              \n",
      "            \n",
      "          \n",
      "         {}'\u001b[0m\n",
      "\u001b[33m2024-08-13 12:40:12,412 - trafilatura.xml - WARNING - missing link attribute: \n",
      "              \n",
      "            \n",
      "            \n",
      "              \n",
      "            \n",
      "\n",
      "            \n",
      "              \n",
      "            \n",
      "          \n",
      "         {}'\u001b[0m\n",
      "\u001b[33m2024-08-13 12:40:12,412 - trafilatura.xml - WARNING - missing link attribute: \n",
      "              \n",
      "            \n",
      "            \n",
      "              \n",
      "            \n",
      "\n",
      "            \n",
      "              \n",
      "            \n",
      "          \n",
      "         {}'\u001b[0m\n",
      "\u001b[33m2024-08-13 12:40:12,412 - trafilatura.xml - WARNING - missing link attribute: \n",
      "              \n",
      "            \n",
      "            \n",
      "              \n",
      "            \n",
      "\n",
      "            \n",
      "              \n",
      "            \n",
      "          \n",
      "         {}'\u001b[0m\n",
      "\u001b[32m2024-08-13 12:40:12,415 - root - INFO - Adding new webpage: https://www.loopearplugs.com/pages/earplugs-for-adhd\u001b[0m\n",
      "\u001b[32m2024-08-13 12:40:12,415 - root - INFO - Adding new webpage: https://www.loopearplugs.com/pages/earplugs-for-adhd\u001b[0m\n",
      "\u001b[32m2024-08-13 12:40:12,415 - root - INFO - Adding new webpage: https://www.loopearplugs.com/pages/earplugs-for-adhd\u001b[0m\n",
      "\u001b[32m2024-08-13 12:40:12,415 - root - INFO - Adding new webpage: https://www.loopearplugs.com/pages/earplugs-for-adhd\u001b[0m\n",
      "\u001b[32m2024-08-13 12:40:12,415 - root - INFO - Adding new webpage: https://www.loopearplugs.com/pages/earplugs-for-adhd\u001b[0m\n",
      "\u001b[32m2024-08-13 12:40:12,415 - root - INFO - Adding new webpage: https://www.loopearplugs.com/pages/earplugs-for-adhd\u001b[0m\n"
     ]
    },
    {
     "name": "stdout",
     "output_type": "stream",
     "text": [
      "Added new webpage: https://www.loopearplugs.com/pages/earplugs-for-adhd\n"
     ]
    },
    {
     "name": "stderr",
     "output_type": "stream",
     "text": [
      "\u001b[32m2024-08-13 12:40:14,256 - root - INFO - Adding new webpage: https://www.loopearplugs.com/blogs/blog/are-misophonia-and-adhd-connected\u001b[0m\n",
      "\u001b[32m2024-08-13 12:40:14,256 - root - INFO - Adding new webpage: https://www.loopearplugs.com/blogs/blog/are-misophonia-and-adhd-connected\u001b[0m\n",
      "\u001b[32m2024-08-13 12:40:14,256 - root - INFO - Adding new webpage: https://www.loopearplugs.com/blogs/blog/are-misophonia-and-adhd-connected\u001b[0m\n",
      "\u001b[32m2024-08-13 12:40:14,256 - root - INFO - Adding new webpage: https://www.loopearplugs.com/blogs/blog/are-misophonia-and-adhd-connected\u001b[0m\n",
      "\u001b[32m2024-08-13 12:40:14,256 - root - INFO - Adding new webpage: https://www.loopearplugs.com/blogs/blog/are-misophonia-and-adhd-connected\u001b[0m\n",
      "\u001b[32m2024-08-13 12:40:14,256 - root - INFO - Adding new webpage: https://www.loopearplugs.com/blogs/blog/are-misophonia-and-adhd-connected\u001b[0m\n"
     ]
    },
    {
     "name": "stdout",
     "output_type": "stream",
     "text": [
      "Added new webpage: https://www.loopearplugs.com/blogs/blog/are-misophonia-and-adhd-connected\n"
     ]
    },
    {
     "name": "stderr",
     "output_type": "stream",
     "text": [
      "\u001b[32m2024-08-13 12:40:15,754 - root - INFO - Adding new webpage: https://www.loopearplugs.com/pages/earplugs-for-misophonia\u001b[0m\n",
      "\u001b[32m2024-08-13 12:40:15,754 - root - INFO - Adding new webpage: https://www.loopearplugs.com/pages/earplugs-for-misophonia\u001b[0m\n",
      "\u001b[32m2024-08-13 12:40:15,754 - root - INFO - Adding new webpage: https://www.loopearplugs.com/pages/earplugs-for-misophonia\u001b[0m\n",
      "\u001b[32m2024-08-13 12:40:15,754 - root - INFO - Adding new webpage: https://www.loopearplugs.com/pages/earplugs-for-misophonia\u001b[0m\n",
      "\u001b[32m2024-08-13 12:40:15,754 - root - INFO - Adding new webpage: https://www.loopearplugs.com/pages/earplugs-for-misophonia\u001b[0m\n",
      "\u001b[32m2024-08-13 12:40:15,754 - root - INFO - Adding new webpage: https://www.loopearplugs.com/pages/earplugs-for-misophonia\u001b[0m\n"
     ]
    },
    {
     "name": "stdout",
     "output_type": "stream",
     "text": [
      "Added new webpage: https://www.loopearplugs.com/pages/earplugs-for-misophonia\n"
     ]
    },
    {
     "name": "stderr",
     "output_type": "stream",
     "text": [
      "\u001b[32m2024-08-13 12:40:16,213 - root - INFO - Adding new webpage: https://www.loopearplugs.com/products/experience-plus-kinetic\u001b[0m\n",
      "\u001b[32m2024-08-13 12:40:16,213 - root - INFO - Adding new webpage: https://www.loopearplugs.com/products/experience-plus-kinetic\u001b[0m\n",
      "\u001b[32m2024-08-13 12:40:16,213 - root - INFO - Adding new webpage: https://www.loopearplugs.com/products/experience-plus-kinetic\u001b[0m\n",
      "\u001b[32m2024-08-13 12:40:16,213 - root - INFO - Adding new webpage: https://www.loopearplugs.com/products/experience-plus-kinetic\u001b[0m\n",
      "\u001b[32m2024-08-13 12:40:16,213 - root - INFO - Adding new webpage: https://www.loopearplugs.com/products/experience-plus-kinetic\u001b[0m\n",
      "\u001b[32m2024-08-13 12:40:16,213 - root - INFO - Adding new webpage: https://www.loopearplugs.com/products/experience-plus-kinetic\u001b[0m\n",
      "\u001b[32m2024-08-13 12:40:16,419 - root - INFO - Adding new webpage: https://www.loopearplugs.com/cdn-cgi/l/email-protection\u001b[0m\n"
     ]
    },
    {
     "name": "stdout",
     "output_type": "stream",
     "text": [
      "Added new webpage: https://www.loopearplugs.com/products/experience-plus-kinetic\n"
     ]
    },
    {
     "name": "stderr",
     "output_type": "stream",
     "text": [
      "\u001b[32m2024-08-13 12:40:16,419 - root - INFO - Adding new webpage: https://www.loopearplugs.com/cdn-cgi/l/email-protection\u001b[0m\n",
      "\u001b[32m2024-08-13 12:40:16,419 - root - INFO - Adding new webpage: https://www.loopearplugs.com/cdn-cgi/l/email-protection\u001b[0m\n",
      "\u001b[32m2024-08-13 12:40:16,419 - root - INFO - Adding new webpage: https://www.loopearplugs.com/cdn-cgi/l/email-protection\u001b[0m\n",
      "\u001b[32m2024-08-13 12:40:16,419 - root - INFO - Adding new webpage: https://www.loopearplugs.com/cdn-cgi/l/email-protection\u001b[0m\n",
      "\u001b[32m2024-08-13 12:40:16,419 - root - INFO - Adding new webpage: https://www.loopearplugs.com/cdn-cgi/l/email-protection\u001b[0m\n"
     ]
    },
    {
     "name": "stdout",
     "output_type": "stream",
     "text": [
      "Added new webpage: https://www.loopearplugs.com/cdn-cgi/l/email-protection\n"
     ]
    },
    {
     "name": "stderr",
     "output_type": "stream",
     "text": [
      "\u001b[32m2024-08-13 12:40:16,905 - root - INFO - Adding new webpage: https://www.loopearplugs.com/products/engage-plus-kinetic\u001b[0m\n",
      "\u001b[32m2024-08-13 12:40:16,905 - root - INFO - Adding new webpage: https://www.loopearplugs.com/products/engage-plus-kinetic\u001b[0m\n",
      "\u001b[32m2024-08-13 12:40:16,905 - root - INFO - Adding new webpage: https://www.loopearplugs.com/products/engage-plus-kinetic\u001b[0m\n",
      "\u001b[32m2024-08-13 12:40:16,905 - root - INFO - Adding new webpage: https://www.loopearplugs.com/products/engage-plus-kinetic\u001b[0m\n",
      "\u001b[32m2024-08-13 12:40:16,905 - root - INFO - Adding new webpage: https://www.loopearplugs.com/products/engage-plus-kinetic\u001b[0m\n",
      "\u001b[32m2024-08-13 12:40:16,905 - root - INFO - Adding new webpage: https://www.loopearplugs.com/products/engage-plus-kinetic\u001b[0m\n"
     ]
    },
    {
     "name": "stdout",
     "output_type": "stream",
     "text": [
      "Added new webpage: https://www.loopearplugs.com/products/engage-plus-kinetic\n"
     ]
    },
    {
     "name": "stderr",
     "output_type": "stream",
     "text": [
      "\u001b[32m2024-08-13 12:40:17,336 - root - INFO - Adding new webpage: https://www.loopearplugs.com/products/mute-style-pack-kinetic\u001b[0m\n",
      "\u001b[32m2024-08-13 12:40:17,336 - root - INFO - Adding new webpage: https://www.loopearplugs.com/products/mute-style-pack-kinetic\u001b[0m\n",
      "\u001b[32m2024-08-13 12:40:17,336 - root - INFO - Adding new webpage: https://www.loopearplugs.com/products/mute-style-pack-kinetic\u001b[0m\n",
      "\u001b[32m2024-08-13 12:40:17,336 - root - INFO - Adding new webpage: https://www.loopearplugs.com/products/mute-style-pack-kinetic\u001b[0m\n",
      "\u001b[32m2024-08-13 12:40:17,336 - root - INFO - Adding new webpage: https://www.loopearplugs.com/products/mute-style-pack-kinetic\u001b[0m\n",
      "\u001b[32m2024-08-13 12:40:17,336 - root - INFO - Adding new webpage: https://www.loopearplugs.com/products/mute-style-pack-kinetic\u001b[0m\n"
     ]
    },
    {
     "name": "stdout",
     "output_type": "stream",
     "text": [
      "Added new webpage: https://www.loopearplugs.com/products/mute-style-pack-kinetic\n"
     ]
    },
    {
     "name": "stderr",
     "output_type": "stream",
     "text": [
      "\u001b[32m2024-08-13 12:40:17,771 - root - INFO - Adding new webpage: https://www.loopearplugs.com/products/loop-link-kinetic\u001b[0m\n",
      "\u001b[32m2024-08-13 12:40:17,771 - root - INFO - Adding new webpage: https://www.loopearplugs.com/products/loop-link-kinetic\u001b[0m\n",
      "\u001b[32m2024-08-13 12:40:17,771 - root - INFO - Adding new webpage: https://www.loopearplugs.com/products/loop-link-kinetic\u001b[0m\n",
      "\u001b[32m2024-08-13 12:40:17,771 - root - INFO - Adding new webpage: https://www.loopearplugs.com/products/loop-link-kinetic\u001b[0m\n",
      "\u001b[32m2024-08-13 12:40:17,771 - root - INFO - Adding new webpage: https://www.loopearplugs.com/products/loop-link-kinetic\u001b[0m\n",
      "\u001b[32m2024-08-13 12:40:17,771 - root - INFO - Adding new webpage: https://www.loopearplugs.com/products/loop-link-kinetic\u001b[0m\n"
     ]
    },
    {
     "name": "stdout",
     "output_type": "stream",
     "text": [
      "Added new webpage: https://www.loopearplugs.com/products/loop-link-kinetic\n"
     ]
    },
    {
     "name": "stderr",
     "output_type": "stream",
     "text": [
      "\u001b[32m2024-08-13 12:40:18,274 - root - INFO - Adding new webpage: https://www.loopearplugs.com/products/quiet-kinetic\u001b[0m\n",
      "\u001b[32m2024-08-13 12:40:18,274 - root - INFO - Adding new webpage: https://www.loopearplugs.com/products/quiet-kinetic\u001b[0m\n",
      "\u001b[32m2024-08-13 12:40:18,274 - root - INFO - Adding new webpage: https://www.loopearplugs.com/products/quiet-kinetic\u001b[0m\n",
      "\u001b[32m2024-08-13 12:40:18,274 - root - INFO - Adding new webpage: https://www.loopearplugs.com/products/quiet-kinetic\u001b[0m\n",
      "\u001b[32m2024-08-13 12:40:18,274 - root - INFO - Adding new webpage: https://www.loopearplugs.com/products/quiet-kinetic\u001b[0m\n",
      "\u001b[32m2024-08-13 12:40:18,274 - root - INFO - Adding new webpage: https://www.loopearplugs.com/products/quiet-kinetic\u001b[0m\n"
     ]
    },
    {
     "name": "stdout",
     "output_type": "stream",
     "text": [
      "Added new webpage: https://www.loopearplugs.com/products/quiet-kinetic\n"
     ]
    },
    {
     "name": "stderr",
     "output_type": "stream",
     "text": [
      "\u001b[32m2024-08-13 12:40:18,702 - root - INFO - Adding new webpage: https://www.loopearplugs.com/products/extra-carry-case-kinetic\u001b[0m\n",
      "\u001b[32m2024-08-13 12:40:18,702 - root - INFO - Adding new webpage: https://www.loopearplugs.com/products/extra-carry-case-kinetic\u001b[0m\n",
      "\u001b[32m2024-08-13 12:40:18,702 - root - INFO - Adding new webpage: https://www.loopearplugs.com/products/extra-carry-case-kinetic\u001b[0m\n",
      "\u001b[32m2024-08-13 12:40:18,702 - root - INFO - Adding new webpage: https://www.loopearplugs.com/products/extra-carry-case-kinetic\u001b[0m\n",
      "\u001b[32m2024-08-13 12:40:18,702 - root - INFO - Adding new webpage: https://www.loopearplugs.com/products/extra-carry-case-kinetic\u001b[0m\n",
      "\u001b[32m2024-08-13 12:40:18,702 - root - INFO - Adding new webpage: https://www.loopearplugs.com/products/extra-carry-case-kinetic\u001b[0m\n"
     ]
    },
    {
     "name": "stdout",
     "output_type": "stream",
     "text": [
      "Added new webpage: https://www.loopearplugs.com/products/extra-carry-case-kinetic\n"
     ]
    },
    {
     "name": "stderr",
     "output_type": "stream",
     "text": [
      "\u001b[32m2024-08-13 12:40:19,200 - root - INFO - Adding new webpage: https://www.loopearplugs.com/products/experience-kinetic\u001b[0m\n",
      "\u001b[32m2024-08-13 12:40:19,200 - root - INFO - Adding new webpage: https://www.loopearplugs.com/products/experience-kinetic\u001b[0m\n",
      "\u001b[32m2024-08-13 12:40:19,200 - root - INFO - Adding new webpage: https://www.loopearplugs.com/products/experience-kinetic\u001b[0m\n",
      "\u001b[32m2024-08-13 12:40:19,200 - root - INFO - Adding new webpage: https://www.loopearplugs.com/products/experience-kinetic\u001b[0m\n",
      "\u001b[32m2024-08-13 12:40:19,200 - root - INFO - Adding new webpage: https://www.loopearplugs.com/products/experience-kinetic\u001b[0m\n",
      "\u001b[32m2024-08-13 12:40:19,200 - root - INFO - Adding new webpage: https://www.loopearplugs.com/products/experience-kinetic\u001b[0m\n"
     ]
    },
    {
     "name": "stdout",
     "output_type": "stream",
     "text": [
      "Added new webpage: https://www.loopearplugs.com/products/experience-kinetic\n"
     ]
    },
    {
     "name": "stderr",
     "output_type": "stream",
     "text": [
      "\u001b[32m2024-08-13 12:40:19,683 - root - INFO - Adding new webpage: https://www.loopearplugs.com/products/engage-kinetic\u001b[0m\n",
      "\u001b[32m2024-08-13 12:40:19,683 - root - INFO - Adding new webpage: https://www.loopearplugs.com/products/engage-kinetic\u001b[0m\n",
      "\u001b[32m2024-08-13 12:40:19,683 - root - INFO - Adding new webpage: https://www.loopearplugs.com/products/engage-kinetic\u001b[0m\n",
      "\u001b[32m2024-08-13 12:40:19,683 - root - INFO - Adding new webpage: https://www.loopearplugs.com/products/engage-kinetic\u001b[0m\n",
      "\u001b[32m2024-08-13 12:40:19,683 - root - INFO - Adding new webpage: https://www.loopearplugs.com/products/engage-kinetic\u001b[0m\n",
      "\u001b[32m2024-08-13 12:40:19,683 - root - INFO - Adding new webpage: https://www.loopearplugs.com/products/engage-kinetic\u001b[0m\n"
     ]
    },
    {
     "name": "stdout",
     "output_type": "stream",
     "text": [
      "Added new webpage: https://www.loopearplugs.com/products/engage-kinetic\n"
     ]
    },
    {
     "name": "stderr",
     "output_type": "stream",
     "text": [
      "\u001b[32m2024-08-13 12:40:20,176 - root - INFO - Adding new webpage: https://www.loopearplugs.com/products/switch-kinetic\u001b[0m\n",
      "\u001b[32m2024-08-13 12:40:20,176 - root - INFO - Adding new webpage: https://www.loopearplugs.com/products/switch-kinetic\u001b[0m\n",
      "\u001b[32m2024-08-13 12:40:20,176 - root - INFO - Adding new webpage: https://www.loopearplugs.com/products/switch-kinetic\u001b[0m\n",
      "\u001b[32m2024-08-13 12:40:20,176 - root - INFO - Adding new webpage: https://www.loopearplugs.com/products/switch-kinetic\u001b[0m\n",
      "\u001b[32m2024-08-13 12:40:20,176 - root - INFO - Adding new webpage: https://www.loopearplugs.com/products/switch-kinetic\u001b[0m\n",
      "\u001b[32m2024-08-13 12:40:20,176 - root - INFO - Adding new webpage: https://www.loopearplugs.com/products/switch-kinetic\u001b[0m\n"
     ]
    },
    {
     "name": "stdout",
     "output_type": "stream",
     "text": [
      "Added new webpage: https://www.loopearplugs.com/products/switch-kinetic\n"
     ]
    },
    {
     "name": "stderr",
     "output_type": "stream",
     "text": [
      "\u001b[32m2024-08-13 12:40:21,588 - root - INFO - Adding new webpage: https://www.loopearplugs.com/blogs/life-at-loop/thriving-together-to-deliver-the-best-earwear\u001b[0m\n",
      "\u001b[32m2024-08-13 12:40:21,588 - root - INFO - Adding new webpage: https://www.loopearplugs.com/blogs/life-at-loop/thriving-together-to-deliver-the-best-earwear\u001b[0m\n",
      "\u001b[32m2024-08-13 12:40:21,588 - root - INFO - Adding new webpage: https://www.loopearplugs.com/blogs/life-at-loop/thriving-together-to-deliver-the-best-earwear\u001b[0m\n",
      "\u001b[32m2024-08-13 12:40:21,588 - root - INFO - Adding new webpage: https://www.loopearplugs.com/blogs/life-at-loop/thriving-together-to-deliver-the-best-earwear\u001b[0m\n",
      "\u001b[32m2024-08-13 12:40:21,588 - root - INFO - Adding new webpage: https://www.loopearplugs.com/blogs/life-at-loop/thriving-together-to-deliver-the-best-earwear\u001b[0m\n",
      "\u001b[32m2024-08-13 12:40:21,588 - root - INFO - Adding new webpage: https://www.loopearplugs.com/blogs/life-at-loop/thriving-together-to-deliver-the-best-earwear\u001b[0m\n"
     ]
    },
    {
     "name": "stdout",
     "output_type": "stream",
     "text": [
      "Added new webpage: https://www.loopearplugs.com/blogs/life-at-loop/thriving-together-to-deliver-the-best-earwear\n"
     ]
    },
    {
     "name": "stderr",
     "output_type": "stream",
     "text": [
      "\u001b[33m2024-08-13 12:40:22,887 - trafilatura.xml - WARNING - missing link attribute: view all our open jobs {}'\u001b[0m\n",
      "\u001b[33m2024-08-13 12:40:22,887 - trafilatura.xml - WARNING - missing link attribute: view all our open jobs {}'\u001b[0m\n",
      "\u001b[33m2024-08-13 12:40:22,887 - trafilatura.xml - WARNING - missing link attribute: view all our open jobs {}'\u001b[0m\n",
      "\u001b[33m2024-08-13 12:40:22,887 - trafilatura.xml - WARNING - missing link attribute: view all our open jobs {}'\u001b[0m\n",
      "\u001b[33m2024-08-13 12:40:22,887 - trafilatura.xml - WARNING - missing link attribute: view all our open jobs {}'\u001b[0m\n",
      "\u001b[33m2024-08-13 12:40:22,887 - trafilatura.xml - WARNING - missing link attribute: view all our open jobs {}'\u001b[0m\n",
      "\u001b[32m2024-08-13 12:40:22,888 - root - INFO - Adding new webpage: https://www.loopearplugs.com/pages/explore-all-jobs\u001b[0m\n",
      "\u001b[32m2024-08-13 12:40:22,888 - root - INFO - Adding new webpage: https://www.loopearplugs.com/pages/explore-all-jobs\u001b[0m\n",
      "\u001b[32m2024-08-13 12:40:22,888 - root - INFO - Adding new webpage: https://www.loopearplugs.com/pages/explore-all-jobs\u001b[0m\n",
      "\u001b[32m2024-08-13 12:40:22,888 - root - INFO - Adding new webpage: https://www.loopearplugs.com/pages/explore-all-jobs\u001b[0m\n",
      "\u001b[32m2024-08-13 12:40:22,888 - root - INFO - Adding new webpage: https://www.loopearplugs.com/pages/explore-all-jobs\u001b[0m\n",
      "\u001b[32m2024-08-13 12:40:22,888 - root - INFO - Adding new webpage: https://www.loopearplugs.com/pages/explore-all-jobs\u001b[0m\n"
     ]
    },
    {
     "name": "stdout",
     "output_type": "stream",
     "text": [
      "Added new webpage: https://www.loopearplugs.com/pages/explore-all-jobs\n"
     ]
    },
    {
     "name": "stderr",
     "output_type": "stream",
     "text": [
      "\u001b[32m2024-08-13 12:40:24,241 - root - INFO - Adding new webpage: https://www.loopearplugs.com/blogs/life-at-loop/why-designing-earwear-is-far-from-boring\u001b[0m\n",
      "\u001b[32m2024-08-13 12:40:24,241 - root - INFO - Adding new webpage: https://www.loopearplugs.com/blogs/life-at-loop/why-designing-earwear-is-far-from-boring\u001b[0m\n",
      "\u001b[32m2024-08-13 12:40:24,241 - root - INFO - Adding new webpage: https://www.loopearplugs.com/blogs/life-at-loop/why-designing-earwear-is-far-from-boring\u001b[0m\n",
      "\u001b[32m2024-08-13 12:40:24,241 - root - INFO - Adding new webpage: https://www.loopearplugs.com/blogs/life-at-loop/why-designing-earwear-is-far-from-boring\u001b[0m\n",
      "\u001b[32m2024-08-13 12:40:24,241 - root - INFO - Adding new webpage: https://www.loopearplugs.com/blogs/life-at-loop/why-designing-earwear-is-far-from-boring\u001b[0m\n",
      "\u001b[32m2024-08-13 12:40:24,241 - root - INFO - Adding new webpage: https://www.loopearplugs.com/blogs/life-at-loop/why-designing-earwear-is-far-from-boring\u001b[0m\n"
     ]
    },
    {
     "name": "stdout",
     "output_type": "stream",
     "text": [
      "Added new webpage: https://www.loopearplugs.com/blogs/life-at-loop/why-designing-earwear-is-far-from-boring\n"
     ]
    },
    {
     "name": "stderr",
     "output_type": "stream",
     "text": [
      "\u001b[32m2024-08-13 12:40:25,606 - root - INFO - Adding new webpage: https://www.loopearplugs.com/blogs/life-at-loop/revolutionizing-our-talent-acquisition-with-ai\u001b[0m\n",
      "\u001b[32m2024-08-13 12:40:25,606 - root - INFO - Adding new webpage: https://www.loopearplugs.com/blogs/life-at-loop/revolutionizing-our-talent-acquisition-with-ai\u001b[0m\n",
      "\u001b[32m2024-08-13 12:40:25,606 - root - INFO - Adding new webpage: https://www.loopearplugs.com/blogs/life-at-loop/revolutionizing-our-talent-acquisition-with-ai\u001b[0m\n",
      "\u001b[32m2024-08-13 12:40:25,606 - root - INFO - Adding new webpage: https://www.loopearplugs.com/blogs/life-at-loop/revolutionizing-our-talent-acquisition-with-ai\u001b[0m\n",
      "\u001b[32m2024-08-13 12:40:25,606 - root - INFO - Adding new webpage: https://www.loopearplugs.com/blogs/life-at-loop/revolutionizing-our-talent-acquisition-with-ai\u001b[0m\n",
      "\u001b[32m2024-08-13 12:40:25,606 - root - INFO - Adding new webpage: https://www.loopearplugs.com/blogs/life-at-loop/revolutionizing-our-talent-acquisition-with-ai\u001b[0m\n"
     ]
    },
    {
     "name": "stdout",
     "output_type": "stream",
     "text": [
      "Added new webpage: https://www.loopearplugs.com/blogs/life-at-loop/revolutionizing-our-talent-acquisition-with-ai\n"
     ]
    },
    {
     "name": "stderr",
     "output_type": "stream",
     "text": [
      "\u001b[32m2024-08-13 12:40:27,068 - root - INFO - Adding new webpage: https://www.loopearplugs.com/blogs/life-at-loop\u001b[0m\n",
      "\u001b[32m2024-08-13 12:40:27,068 - root - INFO - Adding new webpage: https://www.loopearplugs.com/blogs/life-at-loop\u001b[0m\n",
      "\u001b[32m2024-08-13 12:40:27,068 - root - INFO - Adding new webpage: https://www.loopearplugs.com/blogs/life-at-loop\u001b[0m\n",
      "\u001b[32m2024-08-13 12:40:27,068 - root - INFO - Adding new webpage: https://www.loopearplugs.com/blogs/life-at-loop\u001b[0m\n",
      "\u001b[32m2024-08-13 12:40:27,068 - root - INFO - Adding new webpage: https://www.loopearplugs.com/blogs/life-at-loop\u001b[0m\n",
      "\u001b[32m2024-08-13 12:40:27,068 - root - INFO - Adding new webpage: https://www.loopearplugs.com/blogs/life-at-loop\u001b[0m\n"
     ]
    },
    {
     "name": "stdout",
     "output_type": "stream",
     "text": [
      "Added new webpage: https://www.loopearplugs.com/blogs/life-at-loop\n"
     ]
    },
    {
     "name": "stderr",
     "output_type": "stream",
     "text": [
      "\u001b[32m2024-08-13 12:40:29,053 - root - INFO - Adding new webpage: https://www.loopearplugs.com/blogs/blog/how-to-stop-the-ringing-in-your-ears-after-clubbing\u001b[0m\n",
      "\u001b[32m2024-08-13 12:40:29,053 - root - INFO - Adding new webpage: https://www.loopearplugs.com/blogs/blog/how-to-stop-the-ringing-in-your-ears-after-clubbing\u001b[0m\n",
      "\u001b[32m2024-08-13 12:40:29,053 - root - INFO - Adding new webpage: https://www.loopearplugs.com/blogs/blog/how-to-stop-the-ringing-in-your-ears-after-clubbing\u001b[0m\n",
      "\u001b[32m2024-08-13 12:40:29,053 - root - INFO - Adding new webpage: https://www.loopearplugs.com/blogs/blog/how-to-stop-the-ringing-in-your-ears-after-clubbing\u001b[0m\n",
      "\u001b[32m2024-08-13 12:40:29,053 - root - INFO - Adding new webpage: https://www.loopearplugs.com/blogs/blog/how-to-stop-the-ringing-in-your-ears-after-clubbing\u001b[0m\n",
      "\u001b[32m2024-08-13 12:40:29,053 - root - INFO - Adding new webpage: https://www.loopearplugs.com/blogs/blog/how-to-stop-the-ringing-in-your-ears-after-clubbing\u001b[0m\n"
     ]
    },
    {
     "name": "stdout",
     "output_type": "stream",
     "text": [
      "Added new webpage: https://www.loopearplugs.com/blogs/blog/how-to-stop-the-ringing-in-your-ears-after-clubbing\n"
     ]
    },
    {
     "name": "stderr",
     "output_type": "stream",
     "text": [
      "\u001b[32m2024-08-13 12:40:30,479 - root - INFO - Adding new webpage: https://www.loopearplugs.com/blogs/blog/which-loop-earplugs-are-right-for-me\u001b[0m\n",
      "\u001b[32m2024-08-13 12:40:30,479 - root - INFO - Adding new webpage: https://www.loopearplugs.com/blogs/blog/which-loop-earplugs-are-right-for-me\u001b[0m\n",
      "\u001b[32m2024-08-13 12:40:30,479 - root - INFO - Adding new webpage: https://www.loopearplugs.com/blogs/blog/which-loop-earplugs-are-right-for-me\u001b[0m\n",
      "\u001b[32m2024-08-13 12:40:30,479 - root - INFO - Adding new webpage: https://www.loopearplugs.com/blogs/blog/which-loop-earplugs-are-right-for-me\u001b[0m\n",
      "\u001b[32m2024-08-13 12:40:30,479 - root - INFO - Adding new webpage: https://www.loopearplugs.com/blogs/blog/which-loop-earplugs-are-right-for-me\u001b[0m\n",
      "\u001b[32m2024-08-13 12:40:30,479 - root - INFO - Adding new webpage: https://www.loopearplugs.com/blogs/blog/which-loop-earplugs-are-right-for-me\u001b[0m\n"
     ]
    },
    {
     "name": "stdout",
     "output_type": "stream",
     "text": [
      "Added new webpage: https://www.loopearplugs.com/blogs/blog/which-loop-earplugs-are-right-for-me\n"
     ]
    },
    {
     "name": "stderr",
     "output_type": "stream",
     "text": [
      "\u001b[32m2024-08-13 12:40:31,999 - root - INFO - Adding new webpage: https://www.loopearplugs.com/blogs/blog/the-loudest-concerts-in-the-history-of-rock\u001b[0m\n",
      "\u001b[32m2024-08-13 12:40:31,999 - root - INFO - Adding new webpage: https://www.loopearplugs.com/blogs/blog/the-loudest-concerts-in-the-history-of-rock\u001b[0m\n",
      "\u001b[32m2024-08-13 12:40:31,999 - root - INFO - Adding new webpage: https://www.loopearplugs.com/blogs/blog/the-loudest-concerts-in-the-history-of-rock\u001b[0m\n",
      "\u001b[32m2024-08-13 12:40:31,999 - root - INFO - Adding new webpage: https://www.loopearplugs.com/blogs/blog/the-loudest-concerts-in-the-history-of-rock\u001b[0m\n",
      "\u001b[32m2024-08-13 12:40:31,999 - root - INFO - Adding new webpage: https://www.loopearplugs.com/blogs/blog/the-loudest-concerts-in-the-history-of-rock\u001b[0m\n",
      "\u001b[32m2024-08-13 12:40:31,999 - root - INFO - Adding new webpage: https://www.loopearplugs.com/blogs/blog/the-loudest-concerts-in-the-history-of-rock\u001b[0m\n"
     ]
    },
    {
     "name": "stdout",
     "output_type": "stream",
     "text": [
      "Added new webpage: https://www.loopearplugs.com/blogs/blog/the-loudest-concerts-in-the-history-of-rock\n"
     ]
    },
    {
     "name": "stderr",
     "output_type": "stream",
     "text": [
      "\u001b[32m2024-08-13 12:40:33,562 - root - INFO - Adding new webpage: https://www.loopearplugs.com/pages/best-earplugs-for-festivals\u001b[0m\n",
      "\u001b[32m2024-08-13 12:40:33,562 - root - INFO - Adding new webpage: https://www.loopearplugs.com/pages/best-earplugs-for-festivals\u001b[0m\n",
      "\u001b[32m2024-08-13 12:40:33,562 - root - INFO - Adding new webpage: https://www.loopearplugs.com/pages/best-earplugs-for-festivals\u001b[0m\n",
      "\u001b[32m2024-08-13 12:40:33,562 - root - INFO - Adding new webpage: https://www.loopearplugs.com/pages/best-earplugs-for-festivals\u001b[0m\n",
      "\u001b[32m2024-08-13 12:40:33,562 - root - INFO - Adding new webpage: https://www.loopearplugs.com/pages/best-earplugs-for-festivals\u001b[0m\n",
      "\u001b[32m2024-08-13 12:40:33,562 - root - INFO - Adding new webpage: https://www.loopearplugs.com/pages/best-earplugs-for-festivals\u001b[0m\n"
     ]
    },
    {
     "name": "stdout",
     "output_type": "stream",
     "text": [
      "Added new webpage: https://www.loopearplugs.com/pages/best-earplugs-for-festivals\n"
     ]
    },
    {
     "name": "stderr",
     "output_type": "stream",
     "text": [
      "\u001b[32m2024-08-13 12:40:35,049 - root - INFO - Adding new webpage: https://www.loopearplugs.com/pages/best-earplugs-concerts\u001b[0m\n",
      "\u001b[32m2024-08-13 12:40:35,049 - root - INFO - Adding new webpage: https://www.loopearplugs.com/pages/best-earplugs-concerts\u001b[0m\n",
      "\u001b[32m2024-08-13 12:40:35,049 - root - INFO - Adding new webpage: https://www.loopearplugs.com/pages/best-earplugs-concerts\u001b[0m\n",
      "\u001b[32m2024-08-13 12:40:35,049 - root - INFO - Adding new webpage: https://www.loopearplugs.com/pages/best-earplugs-concerts\u001b[0m\n",
      "\u001b[32m2024-08-13 12:40:35,049 - root - INFO - Adding new webpage: https://www.loopearplugs.com/pages/best-earplugs-concerts\u001b[0m\n",
      "\u001b[32m2024-08-13 12:40:35,049 - root - INFO - Adding new webpage: https://www.loopearplugs.com/pages/best-earplugs-concerts\u001b[0m\n"
     ]
    },
    {
     "name": "stdout",
     "output_type": "stream",
     "text": [
      "Added new webpage: https://www.loopearplugs.com/pages/best-earplugs-concerts\n"
     ]
    },
    {
     "name": "stderr",
     "output_type": "stream",
     "text": [
      "\u001b[32m2024-08-13 12:40:36,825 - root - INFO - Adding new webpage: https://www.loopearplugs.com/blogs/blog/what-are-the-top-five-causes-of-tinnitus\u001b[0m\n",
      "\u001b[32m2024-08-13 12:40:36,825 - root - INFO - Adding new webpage: https://www.loopearplugs.com/blogs/blog/what-are-the-top-five-causes-of-tinnitus\u001b[0m\n",
      "\u001b[32m2024-08-13 12:40:36,825 - root - INFO - Adding new webpage: https://www.loopearplugs.com/blogs/blog/what-are-the-top-five-causes-of-tinnitus\u001b[0m\n",
      "\u001b[32m2024-08-13 12:40:36,825 - root - INFO - Adding new webpage: https://www.loopearplugs.com/blogs/blog/what-are-the-top-five-causes-of-tinnitus\u001b[0m\n",
      "\u001b[32m2024-08-13 12:40:36,825 - root - INFO - Adding new webpage: https://www.loopearplugs.com/blogs/blog/what-are-the-top-five-causes-of-tinnitus\u001b[0m\n",
      "\u001b[32m2024-08-13 12:40:36,825 - root - INFO - Adding new webpage: https://www.loopearplugs.com/blogs/blog/what-are-the-top-five-causes-of-tinnitus\u001b[0m\n",
      "\u001b[32m2024-08-13 12:40:36,936 - urllib3.poolmanager - INFO - Redirecting https://www.loopearplugs.com/products/experience-pro -> https://www.loopearplugs.com/products/experience-plus\u001b[0m\n",
      "\u001b[32m2024-08-13 12:40:36,936 - urllib3.poolmanager - INFO - Redirecting https://www.loopearplugs.com/products/experience-pro -> https://www.loopearplugs.com/products/experience-plus\u001b[0m\n",
      "\u001b[32m2024-08-13 12:40:36,936 - urllib3.poolmanager - INFO - Redirecting https://www.loopearplugs.com/products/experience-pro -> https://www.loopearplugs.com/products/experience-plus\u001b[0m\n",
      "\u001b[32m2024-08-13 12:40:36,936 - urllib3.poolmanager - INFO - Redirecting https://www.loopearplugs.com/products/experience-pro -> https://www.loopearplugs.com/products/experience-plus\u001b[0m\n",
      "\u001b[32m2024-08-13 12:40:36,936 - urllib3.poolmanager - INFO - Redirecting https://www.loopearplugs.com/products/experience-pro -> https://www.loopearplugs.com/products/experience-plus\u001b[0m\n",
      "\u001b[32m2024-08-13 12:40:36,936 - urllib3.poolmanager - INFO - Redirecting https://www.loopearplugs.com/products/experience-pro -> https://www.loopearplugs.com/products/experience-plus\u001b[0m\n"
     ]
    },
    {
     "name": "stdout",
     "output_type": "stream",
     "text": [
      "Added new webpage: https://www.loopearplugs.com/blogs/blog/what-are-the-top-five-causes-of-tinnitus\n"
     ]
    },
    {
     "name": "stderr",
     "output_type": "stream",
     "text": [
      "\u001b[33m2024-08-13 12:40:37,551 - trafilatura.xml - WARNING - empty link:  {'target': 'https://www.loopearplugs.com/products/experience-plus'}\u001b[0m\n",
      "\u001b[33m2024-08-13 12:40:37,551 - trafilatura.xml - WARNING - empty link:  {'target': 'https://www.loopearplugs.com/products/experience-plus'}\u001b[0m\n",
      "\u001b[33m2024-08-13 12:40:37,551 - trafilatura.xml - WARNING - empty link:  {'target': 'https://www.loopearplugs.com/products/experience-plus'}\u001b[0m\n",
      "\u001b[33m2024-08-13 12:40:37,551 - trafilatura.xml - WARNING - empty link:  {'target': 'https://www.loopearplugs.com/products/experience-plus'}\u001b[0m\n",
      "\u001b[33m2024-08-13 12:40:37,551 - trafilatura.xml - WARNING - empty link:  {'target': 'https://www.loopearplugs.com/products/experience-plus'}\u001b[0m\n",
      "\u001b[33m2024-08-13 12:40:37,551 - trafilatura.xml - WARNING - empty link:  {'target': 'https://www.loopearplugs.com/products/experience-plus'}\u001b[0m\n",
      "\u001b[32m2024-08-13 12:40:37,553 - root - INFO - Adding new webpage: https://www.loopearplugs.com/products/experience-pro\u001b[0m\n",
      "\u001b[32m2024-08-13 12:40:37,553 - root - INFO - Adding new webpage: https://www.loopearplugs.com/products/experience-pro\u001b[0m\n",
      "\u001b[32m2024-08-13 12:40:37,553 - root - INFO - Adding new webpage: https://www.loopearplugs.com/products/experience-pro\u001b[0m\n",
      "\u001b[32m2024-08-13 12:40:37,553 - root - INFO - Adding new webpage: https://www.loopearplugs.com/products/experience-pro\u001b[0m\n",
      "\u001b[32m2024-08-13 12:40:37,553 - root - INFO - Adding new webpage: https://www.loopearplugs.com/products/experience-pro\u001b[0m\n",
      "\u001b[32m2024-08-13 12:40:37,553 - root - INFO - Adding new webpage: https://www.loopearplugs.com/products/experience-pro\u001b[0m\n"
     ]
    },
    {
     "name": "stdout",
     "output_type": "stream",
     "text": [
      "Added new webpage: https://www.loopearplugs.com/products/experience-pro\n"
     ]
    },
    {
     "name": "stderr",
     "output_type": "stream",
     "text": [
      "\u001b[32m2024-08-13 12:40:38,776 - root - INFO - Adding new webpage: https://www.loopearplugs.com/blogs/press-corner/loop-earplugs-team-belgiums-secret-weapon-for-paris-2024-olympics\u001b[0m\n",
      "\u001b[32m2024-08-13 12:40:38,776 - root - INFO - Adding new webpage: https://www.loopearplugs.com/blogs/press-corner/loop-earplugs-team-belgiums-secret-weapon-for-paris-2024-olympics\u001b[0m\n",
      "\u001b[32m2024-08-13 12:40:38,776 - root - INFO - Adding new webpage: https://www.loopearplugs.com/blogs/press-corner/loop-earplugs-team-belgiums-secret-weapon-for-paris-2024-olympics\u001b[0m\n",
      "\u001b[32m2024-08-13 12:40:38,776 - root - INFO - Adding new webpage: https://www.loopearplugs.com/blogs/press-corner/loop-earplugs-team-belgiums-secret-weapon-for-paris-2024-olympics\u001b[0m\n",
      "\u001b[32m2024-08-13 12:40:38,776 - root - INFO - Adding new webpage: https://www.loopearplugs.com/blogs/press-corner/loop-earplugs-team-belgiums-secret-weapon-for-paris-2024-olympics\u001b[0m\n",
      "\u001b[32m2024-08-13 12:40:38,776 - root - INFO - Adding new webpage: https://www.loopearplugs.com/blogs/press-corner/loop-earplugs-team-belgiums-secret-weapon-for-paris-2024-olympics\u001b[0m\n"
     ]
    },
    {
     "name": "stdout",
     "output_type": "stream",
     "text": [
      "Added new webpage: https://www.loopearplugs.com/blogs/press-corner/loop-earplugs-team-belgiums-secret-weapon-for-paris-2024-olympics\n"
     ]
    },
    {
     "name": "stderr",
     "output_type": "stream",
     "text": [
      "\u001b[32m2024-08-13 12:40:39,935 - root - INFO - Adding new webpage: https://www.loopearplugs.com/blogs/press-corner/introducing-the-kinetic-collection-loop-earplugs-love-letter-to-y2k-fashion\u001b[0m\n",
      "\u001b[32m2024-08-13 12:40:39,935 - root - INFO - Adding new webpage: https://www.loopearplugs.com/blogs/press-corner/introducing-the-kinetic-collection-loop-earplugs-love-letter-to-y2k-fashion\u001b[0m\n",
      "\u001b[32m2024-08-13 12:40:39,935 - root - INFO - Adding new webpage: https://www.loopearplugs.com/blogs/press-corner/introducing-the-kinetic-collection-loop-earplugs-love-letter-to-y2k-fashion\u001b[0m\n",
      "\u001b[32m2024-08-13 12:40:39,935 - root - INFO - Adding new webpage: https://www.loopearplugs.com/blogs/press-corner/introducing-the-kinetic-collection-loop-earplugs-love-letter-to-y2k-fashion\u001b[0m\n",
      "\u001b[32m2024-08-13 12:40:39,935 - root - INFO - Adding new webpage: https://www.loopearplugs.com/blogs/press-corner/introducing-the-kinetic-collection-loop-earplugs-love-letter-to-y2k-fashion\u001b[0m\n",
      "\u001b[32m2024-08-13 12:40:39,935 - root - INFO - Adding new webpage: https://www.loopearplugs.com/blogs/press-corner/introducing-the-kinetic-collection-loop-earplugs-love-letter-to-y2k-fashion\u001b[0m\n"
     ]
    },
    {
     "name": "stdout",
     "output_type": "stream",
     "text": [
      "Added new webpage: https://www.loopearplugs.com/blogs/press-corner/introducing-the-kinetic-collection-loop-earplugs-love-letter-to-y2k-fashion\n"
     ]
    },
    {
     "name": "stderr",
     "output_type": "stream",
     "text": [
      "\u001b[32m2024-08-13 12:40:41,460 - root - INFO - Adding new webpage: https://www.loopearplugs.com/blogs/press-corner/loop-x-team-belgium\u001b[0m\n",
      "\u001b[32m2024-08-13 12:40:41,460 - root - INFO - Adding new webpage: https://www.loopearplugs.com/blogs/press-corner/loop-x-team-belgium\u001b[0m\n",
      "\u001b[32m2024-08-13 12:40:41,460 - root - INFO - Adding new webpage: https://www.loopearplugs.com/blogs/press-corner/loop-x-team-belgium\u001b[0m\n",
      "\u001b[32m2024-08-13 12:40:41,460 - root - INFO - Adding new webpage: https://www.loopearplugs.com/blogs/press-corner/loop-x-team-belgium\u001b[0m\n",
      "\u001b[32m2024-08-13 12:40:41,460 - root - INFO - Adding new webpage: https://www.loopearplugs.com/blogs/press-corner/loop-x-team-belgium\u001b[0m\n",
      "\u001b[32m2024-08-13 12:40:41,460 - root - INFO - Adding new webpage: https://www.loopearplugs.com/blogs/press-corner/loop-x-team-belgium\u001b[0m\n"
     ]
    },
    {
     "name": "stdout",
     "output_type": "stream",
     "text": [
      "Added new webpage: https://www.loopearplugs.com/blogs/press-corner/loop-x-team-belgium\n"
     ]
    },
    {
     "name": "stderr",
     "output_type": "stream",
     "text": [
      "\u001b[32m2024-08-13 12:40:43,299 - root - INFO - Adding new webpage: https://www.loopearplugs.com/blogs/blog/background-noise-driving-you-crazy-here-are-our-top-5-tips-to-get-your-concentration-back\u001b[0m\n",
      "\u001b[32m2024-08-13 12:40:43,299 - root - INFO - Adding new webpage: https://www.loopearplugs.com/blogs/blog/background-noise-driving-you-crazy-here-are-our-top-5-tips-to-get-your-concentration-back\u001b[0m\n",
      "\u001b[32m2024-08-13 12:40:43,299 - root - INFO - Adding new webpage: https://www.loopearplugs.com/blogs/blog/background-noise-driving-you-crazy-here-are-our-top-5-tips-to-get-your-concentration-back\u001b[0m\n",
      "\u001b[32m2024-08-13 12:40:43,299 - root - INFO - Adding new webpage: https://www.loopearplugs.com/blogs/blog/background-noise-driving-you-crazy-here-are-our-top-5-tips-to-get-your-concentration-back\u001b[0m\n",
      "\u001b[32m2024-08-13 12:40:43,299 - root - INFO - Adding new webpage: https://www.loopearplugs.com/blogs/blog/background-noise-driving-you-crazy-here-are-our-top-5-tips-to-get-your-concentration-back\u001b[0m\n",
      "\u001b[32m2024-08-13 12:40:43,299 - root - INFO - Adding new webpage: https://www.loopearplugs.com/blogs/blog/background-noise-driving-you-crazy-here-are-our-top-5-tips-to-get-your-concentration-back\u001b[0m\n"
     ]
    },
    {
     "name": "stdout",
     "output_type": "stream",
     "text": [
      "Added new webpage: https://www.loopearplugs.com/blogs/blog/background-noise-driving-you-crazy-here-are-our-top-5-tips-to-get-your-concentration-back\n"
     ]
    },
    {
     "name": "stderr",
     "output_type": "stream",
     "text": [
      "\u001b[32m2024-08-13 12:40:44,693 - root - INFO - Adding new webpage: https://www.loopearplugs.com/blogs/blog/tips-for-sleeping-while-travelling\u001b[0m\n",
      "\u001b[32m2024-08-13 12:40:44,693 - root - INFO - Adding new webpage: https://www.loopearplugs.com/blogs/blog/tips-for-sleeping-while-travelling\u001b[0m\n",
      "\u001b[32m2024-08-13 12:40:44,693 - root - INFO - Adding new webpage: https://www.loopearplugs.com/blogs/blog/tips-for-sleeping-while-travelling\u001b[0m\n",
      "\u001b[32m2024-08-13 12:40:44,693 - root - INFO - Adding new webpage: https://www.loopearplugs.com/blogs/blog/tips-for-sleeping-while-travelling\u001b[0m\n",
      "\u001b[32m2024-08-13 12:40:44,693 - root - INFO - Adding new webpage: https://www.loopearplugs.com/blogs/blog/tips-for-sleeping-while-travelling\u001b[0m\n",
      "\u001b[32m2024-08-13 12:40:44,693 - root - INFO - Adding new webpage: https://www.loopearplugs.com/blogs/blog/tips-for-sleeping-while-travelling\u001b[0m\n"
     ]
    },
    {
     "name": "stdout",
     "output_type": "stream",
     "text": [
      "Added new webpage: https://www.loopearplugs.com/blogs/blog/tips-for-sleeping-while-travelling\n"
     ]
    },
    {
     "name": "stderr",
     "output_type": "stream",
     "text": [
      "\u001b[33m2024-08-13 12:40:46,258 - trafilatura.xml - WARNING - missing link attribute: \n",
      "              \n",
      "            \n",
      "            \n",
      "              \n",
      "            \n",
      "\n",
      "            \n",
      "              \n",
      "            \n",
      "          \n",
      "         {}'\u001b[0m\n",
      "\u001b[33m2024-08-13 12:40:46,258 - trafilatura.xml - WARNING - missing link attribute: \n",
      "              \n",
      "            \n",
      "            \n",
      "              \n",
      "            \n",
      "\n",
      "            \n",
      "              \n",
      "            \n",
      "          \n",
      "         {}'\u001b[0m\n",
      "\u001b[33m2024-08-13 12:40:46,258 - trafilatura.xml - WARNING - missing link attribute: \n",
      "              \n",
      "            \n",
      "            \n",
      "              \n",
      "            \n",
      "\n",
      "            \n",
      "              \n",
      "            \n",
      "          \n",
      "         {}'\u001b[0m\n",
      "\u001b[33m2024-08-13 12:40:46,258 - trafilatura.xml - WARNING - missing link attribute: \n",
      "              \n",
      "            \n",
      "            \n",
      "              \n",
      "            \n",
      "\n",
      "            \n",
      "              \n",
      "            \n",
      "          \n",
      "         {}'\u001b[0m\n",
      "\u001b[33m2024-08-13 12:40:46,258 - trafilatura.xml - WARNING - missing link attribute: \n",
      "              \n",
      "            \n",
      "            \n",
      "              \n",
      "            \n",
      "\n",
      "            \n",
      "              \n",
      "            \n",
      "          \n",
      "         {}'\u001b[0m\n",
      "\u001b[33m2024-08-13 12:40:46,258 - trafilatura.xml - WARNING - missing link attribute: \n",
      "              \n",
      "            \n",
      "            \n",
      "              \n",
      "            \n",
      "\n",
      "            \n",
      "              \n",
      "            \n",
      "          \n",
      "         {}'\u001b[0m\n",
      "\u001b[32m2024-08-13 12:40:46,260 - root - INFO - Adding new webpage: https://www.loopearplugs.com/blogs/blog/sensory-overload-kids-covid\u001b[0m\n",
      "\u001b[32m2024-08-13 12:40:46,260 - root - INFO - Adding new webpage: https://www.loopearplugs.com/blogs/blog/sensory-overload-kids-covid\u001b[0m\n",
      "\u001b[32m2024-08-13 12:40:46,260 - root - INFO - Adding new webpage: https://www.loopearplugs.com/blogs/blog/sensory-overload-kids-covid\u001b[0m\n",
      "\u001b[32m2024-08-13 12:40:46,260 - root - INFO - Adding new webpage: https://www.loopearplugs.com/blogs/blog/sensory-overload-kids-covid\u001b[0m\n",
      "\u001b[32m2024-08-13 12:40:46,260 - root - INFO - Adding new webpage: https://www.loopearplugs.com/blogs/blog/sensory-overload-kids-covid\u001b[0m\n",
      "\u001b[32m2024-08-13 12:40:46,260 - root - INFO - Adding new webpage: https://www.loopearplugs.com/blogs/blog/sensory-overload-kids-covid\u001b[0m\n"
     ]
    },
    {
     "name": "stdout",
     "output_type": "stream",
     "text": [
      "Added new webpage: https://www.loopearplugs.com/blogs/blog/sensory-overload-kids-covid\n"
     ]
    },
    {
     "name": "stderr",
     "output_type": "stream",
     "text": [
      "\u001b[32m2024-08-13 12:40:47,829 - root - INFO - Adding new webpage: https://www.loopearplugs.com/blogs/blog/suffering-from-auditory-overload-find-your-calm\u001b[0m\n",
      "\u001b[32m2024-08-13 12:40:47,829 - root - INFO - Adding new webpage: https://www.loopearplugs.com/blogs/blog/suffering-from-auditory-overload-find-your-calm\u001b[0m\n",
      "\u001b[32m2024-08-13 12:40:47,829 - root - INFO - Adding new webpage: https://www.loopearplugs.com/blogs/blog/suffering-from-auditory-overload-find-your-calm\u001b[0m\n",
      "\u001b[32m2024-08-13 12:40:47,829 - root - INFO - Adding new webpage: https://www.loopearplugs.com/blogs/blog/suffering-from-auditory-overload-find-your-calm\u001b[0m\n",
      "\u001b[32m2024-08-13 12:40:47,829 - root - INFO - Adding new webpage: https://www.loopearplugs.com/blogs/blog/suffering-from-auditory-overload-find-your-calm\u001b[0m\n",
      "\u001b[32m2024-08-13 12:40:47,829 - root - INFO - Adding new webpage: https://www.loopearplugs.com/blogs/blog/suffering-from-auditory-overload-find-your-calm\u001b[0m\n"
     ]
    },
    {
     "name": "stdout",
     "output_type": "stream",
     "text": [
      "Added new webpage: https://www.loopearplugs.com/blogs/blog/suffering-from-auditory-overload-find-your-calm\n"
     ]
    },
    {
     "name": "stderr",
     "output_type": "stream",
     "text": [
      "\u001b[32m2024-08-13 12:40:48,295 - root - INFO - Adding new webpage: https://www.loopearplugs.com/products/quiet-2-ear-tips-4-pack-multi\u001b[0m\n",
      "\u001b[32m2024-08-13 12:40:48,295 - root - INFO - Adding new webpage: https://www.loopearplugs.com/products/quiet-2-ear-tips-4-pack-multi\u001b[0m\n",
      "\u001b[32m2024-08-13 12:40:48,295 - root - INFO - Adding new webpage: https://www.loopearplugs.com/products/quiet-2-ear-tips-4-pack-multi\u001b[0m\n",
      "\u001b[32m2024-08-13 12:40:48,295 - root - INFO - Adding new webpage: https://www.loopearplugs.com/products/quiet-2-ear-tips-4-pack-multi\u001b[0m\n",
      "\u001b[32m2024-08-13 12:40:48,295 - root - INFO - Adding new webpage: https://www.loopearplugs.com/products/quiet-2-ear-tips-4-pack-multi\u001b[0m\n",
      "\u001b[32m2024-08-13 12:40:48,295 - root - INFO - Adding new webpage: https://www.loopearplugs.com/products/quiet-2-ear-tips-4-pack-multi\u001b[0m\n"
     ]
    },
    {
     "name": "stdout",
     "output_type": "stream",
     "text": [
      "Added new webpage: https://www.loopearplugs.com/products/quiet-2-ear-tips-4-pack-multi\n"
     ]
    },
    {
     "name": "stderr",
     "output_type": "stream",
     "text": [
      "\u001b[33m2024-08-13 12:40:48,746 - trafilatura.xml - WARNING - empty link:  {'target': 'https://www.loopearplugs.com/products/silicone-ear-tips'}\u001b[0m\n",
      "\u001b[33m2024-08-13 12:40:48,746 - trafilatura.xml - WARNING - empty link:  {'target': 'https://www.loopearplugs.com/products/silicone-ear-tips'}\u001b[0m\n",
      "\u001b[33m2024-08-13 12:40:48,746 - trafilatura.xml - WARNING - empty link:  {'target': 'https://www.loopearplugs.com/products/silicone-ear-tips'}\u001b[0m\n",
      "\u001b[33m2024-08-13 12:40:48,746 - trafilatura.xml - WARNING - empty link:  {'target': 'https://www.loopearplugs.com/products/silicone-ear-tips'}\u001b[0m\n",
      "\u001b[33m2024-08-13 12:40:48,746 - trafilatura.xml - WARNING - empty link:  {'target': 'https://www.loopearplugs.com/products/silicone-ear-tips'}\u001b[0m\n",
      "\u001b[33m2024-08-13 12:40:48,746 - trafilatura.xml - WARNING - empty link:  {'target': 'https://www.loopearplugs.com/products/silicone-ear-tips'}\u001b[0m\n",
      "\u001b[32m2024-08-13 12:40:48,748 - root - INFO - Adding new webpage: https://www.loopearplugs.com/products/silicone-ear-tips\u001b[0m\n",
      "\u001b[32m2024-08-13 12:40:48,748 - root - INFO - Adding new webpage: https://www.loopearplugs.com/products/silicone-ear-tips\u001b[0m\n",
      "\u001b[32m2024-08-13 12:40:48,748 - root - INFO - Adding new webpage: https://www.loopearplugs.com/products/silicone-ear-tips\u001b[0m\n",
      "\u001b[32m2024-08-13 12:40:48,748 - root - INFO - Adding new webpage: https://www.loopearplugs.com/products/silicone-ear-tips\u001b[0m\n",
      "\u001b[32m2024-08-13 12:40:48,748 - root - INFO - Adding new webpage: https://www.loopearplugs.com/products/silicone-ear-tips\u001b[0m\n",
      "\u001b[32m2024-08-13 12:40:48,748 - root - INFO - Adding new webpage: https://www.loopearplugs.com/products/silicone-ear-tips\u001b[0m\n"
     ]
    },
    {
     "name": "stdout",
     "output_type": "stream",
     "text": [
      "Added new webpage: https://www.loopearplugs.com/products/silicone-ear-tips\n"
     ]
    },
    {
     "name": "stderr",
     "output_type": "stream",
     "text": [
      "\u001b[32m2024-08-13 12:40:49,200 - root - INFO - Adding new webpage: https://www.loopearplugs.com/products/carry-case-switch\u001b[0m\n",
      "\u001b[32m2024-08-13 12:40:49,200 - root - INFO - Adding new webpage: https://www.loopearplugs.com/products/carry-case-switch\u001b[0m\n",
      "\u001b[32m2024-08-13 12:40:49,200 - root - INFO - Adding new webpage: https://www.loopearplugs.com/products/carry-case-switch\u001b[0m\n",
      "\u001b[32m2024-08-13 12:40:49,200 - root - INFO - Adding new webpage: https://www.loopearplugs.com/products/carry-case-switch\u001b[0m\n",
      "\u001b[32m2024-08-13 12:40:49,200 - root - INFO - Adding new webpage: https://www.loopearplugs.com/products/carry-case-switch\u001b[0m\n",
      "\u001b[32m2024-08-13 12:40:49,200 - root - INFO - Adding new webpage: https://www.loopearplugs.com/products/carry-case-switch\u001b[0m\n"
     ]
    },
    {
     "name": "stdout",
     "output_type": "stream",
     "text": [
      "Added new webpage: https://www.loopearplugs.com/products/carry-case-switch\n"
     ]
    },
    {
     "name": "stderr",
     "output_type": "stream",
     "text": [
      "\u001b[33m2024-08-13 12:40:49,665 - trafilatura.xml - WARNING - empty link:  {'target': 'https://www.loopearplugs.com/products/link'}\u001b[0m\n",
      "\u001b[33m2024-08-13 12:40:49,665 - trafilatura.xml - WARNING - empty link:  {'target': 'https://www.loopearplugs.com/products/link'}\u001b[0m\n",
      "\u001b[33m2024-08-13 12:40:49,665 - trafilatura.xml - WARNING - empty link:  {'target': 'https://www.loopearplugs.com/products/link'}\u001b[0m\n",
      "\u001b[33m2024-08-13 12:40:49,665 - trafilatura.xml - WARNING - empty link:  {'target': 'https://www.loopearplugs.com/products/link'}\u001b[0m\n",
      "\u001b[33m2024-08-13 12:40:49,665 - trafilatura.xml - WARNING - empty link:  {'target': 'https://www.loopearplugs.com/products/link'}\u001b[0m\n",
      "\u001b[33m2024-08-13 12:40:49,665 - trafilatura.xml - WARNING - empty link:  {'target': 'https://www.loopearplugs.com/products/link'}\u001b[0m\n",
      "\u001b[32m2024-08-13 12:40:49,668 - root - INFO - Adding new webpage: https://www.loopearplugs.com/products/link\u001b[0m\n",
      "\u001b[32m2024-08-13 12:40:49,668 - root - INFO - Adding new webpage: https://www.loopearplugs.com/products/link\u001b[0m\n",
      "\u001b[32m2024-08-13 12:40:49,668 - root - INFO - Adding new webpage: https://www.loopearplugs.com/products/link\u001b[0m\n",
      "\u001b[32m2024-08-13 12:40:49,668 - root - INFO - Adding new webpage: https://www.loopearplugs.com/products/link\u001b[0m\n",
      "\u001b[32m2024-08-13 12:40:49,668 - root - INFO - Adding new webpage: https://www.loopearplugs.com/products/link\u001b[0m\n",
      "\u001b[32m2024-08-13 12:40:49,668 - root - INFO - Adding new webpage: https://www.loopearplugs.com/products/link\u001b[0m\n"
     ]
    },
    {
     "name": "stdout",
     "output_type": "stream",
     "text": [
      "Added new webpage: https://www.loopearplugs.com/products/link\n"
     ]
    },
    {
     "name": "stderr",
     "output_type": "stream",
     "text": [
      "\u001b[32m2024-08-13 12:40:50,080 - root - INFO - Adding new webpage: https://www.loopearplugs.com/products/tips-foam\u001b[0m\n",
      "\u001b[32m2024-08-13 12:40:50,080 - root - INFO - Adding new webpage: https://www.loopearplugs.com/products/tips-foam\u001b[0m\n",
      "\u001b[32m2024-08-13 12:40:50,080 - root - INFO - Adding new webpage: https://www.loopearplugs.com/products/tips-foam\u001b[0m\n",
      "\u001b[32m2024-08-13 12:40:50,080 - root - INFO - Adding new webpage: https://www.loopearplugs.com/products/tips-foam\u001b[0m\n",
      "\u001b[32m2024-08-13 12:40:50,080 - root - INFO - Adding new webpage: https://www.loopearplugs.com/products/tips-foam\u001b[0m\n",
      "\u001b[32m2024-08-13 12:40:50,080 - root - INFO - Adding new webpage: https://www.loopearplugs.com/products/tips-foam\u001b[0m\n"
     ]
    },
    {
     "name": "stdout",
     "output_type": "stream",
     "text": [
      "Added new webpage: https://www.loopearplugs.com/products/tips-foam\n"
     ]
    },
    {
     "name": "stderr",
     "output_type": "stream",
     "text": [
      "\u001b[32m2024-08-13 12:40:50,543 - root - INFO - Adding new webpage: https://www.loopearplugs.com/products/tips-silicone-mute\u001b[0m\n",
      "\u001b[32m2024-08-13 12:40:50,543 - root - INFO - Adding new webpage: https://www.loopearplugs.com/products/tips-silicone-mute\u001b[0m\n",
      "\u001b[32m2024-08-13 12:40:50,543 - root - INFO - Adding new webpage: https://www.loopearplugs.com/products/tips-silicone-mute\u001b[0m\n",
      "\u001b[32m2024-08-13 12:40:50,543 - root - INFO - Adding new webpage: https://www.loopearplugs.com/products/tips-silicone-mute\u001b[0m\n",
      "\u001b[32m2024-08-13 12:40:50,543 - root - INFO - Adding new webpage: https://www.loopearplugs.com/products/tips-silicone-mute\u001b[0m\n",
      "\u001b[32m2024-08-13 12:40:50,543 - root - INFO - Adding new webpage: https://www.loopearplugs.com/products/tips-silicone-mute\u001b[0m\n"
     ]
    },
    {
     "name": "stdout",
     "output_type": "stream",
     "text": [
      "Added new webpage: https://www.loopearplugs.com/products/tips-silicone-mute\n"
     ]
    },
    {
     "name": "stderr",
     "output_type": "stream",
     "text": [
      "\u001b[33m2024-08-13 12:40:50,998 - trafilatura.xml - WARNING - empty link:  {'target': 'https://www.loopearplugs.com/products/quiet-2-ear-tips-4-pack-black'}\u001b[0m\n",
      "\u001b[33m2024-08-13 12:40:50,998 - trafilatura.xml - WARNING - empty link:  {'target': 'https://www.loopearplugs.com/products/quiet-2-ear-tips-4-pack-black'}\u001b[0m\n",
      "\u001b[33m2024-08-13 12:40:50,998 - trafilatura.xml - WARNING - empty link:  {'target': 'https://www.loopearplugs.com/products/quiet-2-ear-tips-4-pack-black'}\u001b[0m\n",
      "\u001b[33m2024-08-13 12:40:50,998 - trafilatura.xml - WARNING - empty link:  {'target': 'https://www.loopearplugs.com/products/quiet-2-ear-tips-4-pack-black'}\u001b[0m\n",
      "\u001b[33m2024-08-13 12:40:50,998 - trafilatura.xml - WARNING - empty link:  {'target': 'https://www.loopearplugs.com/products/quiet-2-ear-tips-4-pack-black'}\u001b[0m\n",
      "\u001b[33m2024-08-13 12:40:50,998 - trafilatura.xml - WARNING - empty link:  {'target': 'https://www.loopearplugs.com/products/quiet-2-ear-tips-4-pack-black'}\u001b[0m\n",
      "\u001b[32m2024-08-13 12:40:51,000 - root - INFO - Adding new webpage: https://www.loopearplugs.com/products/quiet-2-ear-tips-4-pack-black\u001b[0m\n",
      "\u001b[32m2024-08-13 12:40:51,000 - root - INFO - Adding new webpage: https://www.loopearplugs.com/products/quiet-2-ear-tips-4-pack-black\u001b[0m\n",
      "\u001b[32m2024-08-13 12:40:51,000 - root - INFO - Adding new webpage: https://www.loopearplugs.com/products/quiet-2-ear-tips-4-pack-black\u001b[0m\n",
      "\u001b[32m2024-08-13 12:40:51,000 - root - INFO - Adding new webpage: https://www.loopearplugs.com/products/quiet-2-ear-tips-4-pack-black\u001b[0m\n",
      "\u001b[32m2024-08-13 12:40:51,000 - root - INFO - Adding new webpage: https://www.loopearplugs.com/products/quiet-2-ear-tips-4-pack-black\u001b[0m\n",
      "\u001b[32m2024-08-13 12:40:51,000 - root - INFO - Adding new webpage: https://www.loopearplugs.com/products/quiet-2-ear-tips-4-pack-black\u001b[0m\n"
     ]
    },
    {
     "name": "stdout",
     "output_type": "stream",
     "text": [
      "Added new webpage: https://www.loopearplugs.com/products/quiet-2-ear-tips-4-pack-black\n"
     ]
    },
    {
     "name": "stderr",
     "output_type": "stream",
     "text": [
      "\u001b[32m2024-08-13 12:40:51,455 - root - INFO - Adding new webpage: https://www.loopearplugs.com/products/double-tips\u001b[0m\n",
      "\u001b[32m2024-08-13 12:40:51,455 - root - INFO - Adding new webpage: https://www.loopearplugs.com/products/double-tips\u001b[0m\n",
      "\u001b[32m2024-08-13 12:40:51,455 - root - INFO - Adding new webpage: https://www.loopearplugs.com/products/double-tips\u001b[0m\n",
      "\u001b[32m2024-08-13 12:40:51,455 - root - INFO - Adding new webpage: https://www.loopearplugs.com/products/double-tips\u001b[0m\n",
      "\u001b[32m2024-08-13 12:40:51,455 - root - INFO - Adding new webpage: https://www.loopearplugs.com/products/double-tips\u001b[0m\n",
      "\u001b[32m2024-08-13 12:40:51,455 - root - INFO - Adding new webpage: https://www.loopearplugs.com/products/double-tips\u001b[0m\n"
     ]
    },
    {
     "name": "stdout",
     "output_type": "stream",
     "text": [
      "Added new webpage: https://www.loopearplugs.com/products/double-tips\n"
     ]
    },
    {
     "name": "stderr",
     "output_type": "stream",
     "text": [
      "\u001b[32m2024-08-13 12:40:52,904 - root - INFO - Adding new webpage: https://www.loopearplugs.com/pages/focus\u001b[0m\n",
      "\u001b[32m2024-08-13 12:40:52,904 - root - INFO - Adding new webpage: https://www.loopearplugs.com/pages/focus\u001b[0m\n",
      "\u001b[32m2024-08-13 12:40:52,904 - root - INFO - Adding new webpage: https://www.loopearplugs.com/pages/focus\u001b[0m\n",
      "\u001b[32m2024-08-13 12:40:52,904 - root - INFO - Adding new webpage: https://www.loopearplugs.com/pages/focus\u001b[0m\n",
      "\u001b[32m2024-08-13 12:40:52,904 - root - INFO - Adding new webpage: https://www.loopearplugs.com/pages/focus\u001b[0m\n",
      "\u001b[32m2024-08-13 12:40:52,904 - root - INFO - Adding new webpage: https://www.loopearplugs.com/pages/focus\u001b[0m\n"
     ]
    },
    {
     "name": "stdout",
     "output_type": "stream",
     "text": [
      "Added new webpage: https://www.loopearplugs.com/pages/focus\n"
     ]
    },
    {
     "name": "stderr",
     "output_type": "stream",
     "text": [
      "\u001b[32m2024-08-13 12:40:54,443 - root - INFO - Adding new webpage: https://www.loopearplugs.com/blogs/blog/how-to-stay-focused-at-work\u001b[0m\n",
      "\u001b[32m2024-08-13 12:40:54,443 - root - INFO - Adding new webpage: https://www.loopearplugs.com/blogs/blog/how-to-stay-focused-at-work\u001b[0m\n",
      "\u001b[32m2024-08-13 12:40:54,443 - root - INFO - Adding new webpage: https://www.loopearplugs.com/blogs/blog/how-to-stay-focused-at-work\u001b[0m\n",
      "\u001b[32m2024-08-13 12:40:54,443 - root - INFO - Adding new webpage: https://www.loopearplugs.com/blogs/blog/how-to-stay-focused-at-work\u001b[0m\n",
      "\u001b[32m2024-08-13 12:40:54,443 - root - INFO - Adding new webpage: https://www.loopearplugs.com/blogs/blog/how-to-stay-focused-at-work\u001b[0m\n",
      "\u001b[32m2024-08-13 12:40:54,443 - root - INFO - Adding new webpage: https://www.loopearplugs.com/blogs/blog/how-to-stay-focused-at-work\u001b[0m\n"
     ]
    },
    {
     "name": "stdout",
     "output_type": "stream",
     "text": [
      "Added new webpage: https://www.loopearplugs.com/blogs/blog/how-to-stay-focused-at-work\n"
     ]
    },
    {
     "name": "stderr",
     "output_type": "stream",
     "text": [
      "\u001b[32m2024-08-13 12:40:55,877 - root - INFO - Adding new webpage: https://www.loopearplugs.com/blogs/blog/autistic-traits-sound-sensitivity-how-are-they-linked\u001b[0m\n",
      "\u001b[32m2024-08-13 12:40:55,877 - root - INFO - Adding new webpage: https://www.loopearplugs.com/blogs/blog/autistic-traits-sound-sensitivity-how-are-they-linked\u001b[0m\n",
      "\u001b[32m2024-08-13 12:40:55,877 - root - INFO - Adding new webpage: https://www.loopearplugs.com/blogs/blog/autistic-traits-sound-sensitivity-how-are-they-linked\u001b[0m\n",
      "\u001b[32m2024-08-13 12:40:55,877 - root - INFO - Adding new webpage: https://www.loopearplugs.com/blogs/blog/autistic-traits-sound-sensitivity-how-are-they-linked\u001b[0m\n",
      "\u001b[32m2024-08-13 12:40:55,877 - root - INFO - Adding new webpage: https://www.loopearplugs.com/blogs/blog/autistic-traits-sound-sensitivity-how-are-they-linked\u001b[0m\n",
      "\u001b[32m2024-08-13 12:40:55,877 - root - INFO - Adding new webpage: https://www.loopearplugs.com/blogs/blog/autistic-traits-sound-sensitivity-how-are-they-linked\u001b[0m\n"
     ]
    },
    {
     "name": "stdout",
     "output_type": "stream",
     "text": [
      "Added new webpage: https://www.loopearplugs.com/blogs/blog/autistic-traits-sound-sensitivity-how-are-they-linked\n"
     ]
    },
    {
     "name": "stderr",
     "output_type": "stream",
     "text": [
      "\u001b[32m2024-08-13 12:40:56,317 - root - INFO - Adding new webpage: https://www.loopearplugs.com/products/deluxe-bundle\u001b[0m\n",
      "\u001b[32m2024-08-13 12:40:56,317 - root - INFO - Adding new webpage: https://www.loopearplugs.com/products/deluxe-bundle\u001b[0m\n",
      "\u001b[32m2024-08-13 12:40:56,317 - root - INFO - Adding new webpage: https://www.loopearplugs.com/products/deluxe-bundle\u001b[0m\n",
      "\u001b[32m2024-08-13 12:40:56,317 - root - INFO - Adding new webpage: https://www.loopearplugs.com/products/deluxe-bundle\u001b[0m\n",
      "\u001b[32m2024-08-13 12:40:56,317 - root - INFO - Adding new webpage: https://www.loopearplugs.com/products/deluxe-bundle\u001b[0m\n",
      "\u001b[32m2024-08-13 12:40:56,317 - root - INFO - Adding new webpage: https://www.loopearplugs.com/products/deluxe-bundle\u001b[0m\n"
     ]
    },
    {
     "name": "stdout",
     "output_type": "stream",
     "text": [
      "Added new webpage: https://www.loopearplugs.com/products/deluxe-bundle\n"
     ]
    },
    {
     "name": "stderr",
     "output_type": "stream",
     "text": [
      "\u001b[32m2024-08-13 12:40:56,767 - root - INFO - Adding new webpage: https://www.loopearplugs.com/products/festival-bundle\u001b[0m\n",
      "\u001b[32m2024-08-13 12:40:56,767 - root - INFO - Adding new webpage: https://www.loopearplugs.com/products/festival-bundle\u001b[0m\n",
      "\u001b[32m2024-08-13 12:40:56,767 - root - INFO - Adding new webpage: https://www.loopearplugs.com/products/festival-bundle\u001b[0m\n",
      "\u001b[32m2024-08-13 12:40:56,767 - root - INFO - Adding new webpage: https://www.loopearplugs.com/products/festival-bundle\u001b[0m\n",
      "\u001b[32m2024-08-13 12:40:56,767 - root - INFO - Adding new webpage: https://www.loopearplugs.com/products/festival-bundle\u001b[0m\n",
      "\u001b[32m2024-08-13 12:40:56,767 - root - INFO - Adding new webpage: https://www.loopearplugs.com/products/festival-bundle\u001b[0m\n"
     ]
    },
    {
     "name": "stdout",
     "output_type": "stream",
     "text": [
      "Added new webpage: https://www.loopearplugs.com/products/festival-bundle\n"
     ]
    },
    {
     "name": "stderr",
     "output_type": "stream",
     "text": [
      "\u001b[32m2024-08-13 12:40:57,220 - root - INFO - Adding new webpage: https://www.loopearplugs.com/products/earplug-bundle\u001b[0m\n",
      "\u001b[32m2024-08-13 12:40:57,220 - root - INFO - Adding new webpage: https://www.loopearplugs.com/products/earplug-bundle\u001b[0m\n",
      "\u001b[32m2024-08-13 12:40:57,220 - root - INFO - Adding new webpage: https://www.loopearplugs.com/products/earplug-bundle\u001b[0m\n",
      "\u001b[32m2024-08-13 12:40:57,220 - root - INFO - Adding new webpage: https://www.loopearplugs.com/products/earplug-bundle\u001b[0m\n",
      "\u001b[32m2024-08-13 12:40:57,220 - root - INFO - Adding new webpage: https://www.loopearplugs.com/products/earplug-bundle\u001b[0m\n",
      "\u001b[32m2024-08-13 12:40:57,220 - root - INFO - Adding new webpage: https://www.loopearplugs.com/products/earplug-bundle\u001b[0m\n"
     ]
    },
    {
     "name": "stdout",
     "output_type": "stream",
     "text": [
      "Added new webpage: https://www.loopearplugs.com/products/earplug-bundle\n"
     ]
    },
    {
     "name": "stderr",
     "output_type": "stream",
     "text": [
      "\u001b[32m2024-08-13 12:40:58,462 - root - INFO - Adding new webpage: https://www.loopearplugs.com/pages/store-credit-policy\u001b[0m\n",
      "\u001b[32m2024-08-13 12:40:58,462 - root - INFO - Adding new webpage: https://www.loopearplugs.com/pages/store-credit-policy\u001b[0m\n",
      "\u001b[32m2024-08-13 12:40:58,462 - root - INFO - Adding new webpage: https://www.loopearplugs.com/pages/store-credit-policy\u001b[0m\n",
      "\u001b[32m2024-08-13 12:40:58,462 - root - INFO - Adding new webpage: https://www.loopearplugs.com/pages/store-credit-policy\u001b[0m\n",
      "\u001b[32m2024-08-13 12:40:58,462 - root - INFO - Adding new webpage: https://www.loopearplugs.com/pages/store-credit-policy\u001b[0m\n",
      "\u001b[32m2024-08-13 12:40:58,462 - root - INFO - Adding new webpage: https://www.loopearplugs.com/pages/store-credit-policy\u001b[0m\n"
     ]
    },
    {
     "name": "stdout",
     "output_type": "stream",
     "text": [
      "Added new webpage: https://www.loopearplugs.com/pages/store-credit-policy\n"
     ]
    },
    {
     "name": "stderr",
     "output_type": "stream",
     "text": [
      "\u001b[32m2024-08-13 12:40:59,759 - root - INFO - Adding new webpage: https://www.loopearplugs.com/blogs/life-at-loop/8-employees-2-questions\u001b[0m\n",
      "\u001b[32m2024-08-13 12:40:59,759 - root - INFO - Adding new webpage: https://www.loopearplugs.com/blogs/life-at-loop/8-employees-2-questions\u001b[0m\n",
      "\u001b[32m2024-08-13 12:40:59,759 - root - INFO - Adding new webpage: https://www.loopearplugs.com/blogs/life-at-loop/8-employees-2-questions\u001b[0m\n",
      "\u001b[32m2024-08-13 12:40:59,759 - root - INFO - Adding new webpage: https://www.loopearplugs.com/blogs/life-at-loop/8-employees-2-questions\u001b[0m\n",
      "\u001b[32m2024-08-13 12:40:59,759 - root - INFO - Adding new webpage: https://www.loopearplugs.com/blogs/life-at-loop/8-employees-2-questions\u001b[0m\n",
      "\u001b[32m2024-08-13 12:40:59,759 - root - INFO - Adding new webpage: https://www.loopearplugs.com/blogs/life-at-loop/8-employees-2-questions\u001b[0m\n"
     ]
    },
    {
     "name": "stdout",
     "output_type": "stream",
     "text": [
      "Added new webpage: https://www.loopearplugs.com/blogs/life-at-loop/8-employees-2-questions\n"
     ]
    },
    {
     "name": "stderr",
     "output_type": "stream",
     "text": [
      "\u001b[32m2024-08-13 12:41:01,058 - root - INFO - Adding new webpage: https://www.loopearplugs.com/blogs/life-at-loop/loop-in-the-city\u001b[0m\n",
      "\u001b[32m2024-08-13 12:41:01,058 - root - INFO - Adding new webpage: https://www.loopearplugs.com/blogs/life-at-loop/loop-in-the-city\u001b[0m\n",
      "\u001b[32m2024-08-13 12:41:01,058 - root - INFO - Adding new webpage: https://www.loopearplugs.com/blogs/life-at-loop/loop-in-the-city\u001b[0m\n",
      "\u001b[32m2024-08-13 12:41:01,058 - root - INFO - Adding new webpage: https://www.loopearplugs.com/blogs/life-at-loop/loop-in-the-city\u001b[0m\n",
      "\u001b[32m2024-08-13 12:41:01,058 - root - INFO - Adding new webpage: https://www.loopearplugs.com/blogs/life-at-loop/loop-in-the-city\u001b[0m\n",
      "\u001b[32m2024-08-13 12:41:01,058 - root - INFO - Adding new webpage: https://www.loopearplugs.com/blogs/life-at-loop/loop-in-the-city\u001b[0m\n"
     ]
    },
    {
     "name": "stdout",
     "output_type": "stream",
     "text": [
      "Added new webpage: https://www.loopearplugs.com/blogs/life-at-loop/loop-in-the-city\n"
     ]
    },
    {
     "name": "stderr",
     "output_type": "stream",
     "text": [
      "\u001b[32m2024-08-13 12:41:02,457 - root - INFO - Adding new webpage: https://www.loopearplugs.com/blogs/blog/top-9-brilliant-misophonia-podcasts-to-listen-to\u001b[0m\n",
      "\u001b[32m2024-08-13 12:41:02,457 - root - INFO - Adding new webpage: https://www.loopearplugs.com/blogs/blog/top-9-brilliant-misophonia-podcasts-to-listen-to\u001b[0m\n",
      "\u001b[32m2024-08-13 12:41:02,457 - root - INFO - Adding new webpage: https://www.loopearplugs.com/blogs/blog/top-9-brilliant-misophonia-podcasts-to-listen-to\u001b[0m\n",
      "\u001b[32m2024-08-13 12:41:02,457 - root - INFO - Adding new webpage: https://www.loopearplugs.com/blogs/blog/top-9-brilliant-misophonia-podcasts-to-listen-to\u001b[0m\n",
      "\u001b[32m2024-08-13 12:41:02,457 - root - INFO - Adding new webpage: https://www.loopearplugs.com/blogs/blog/top-9-brilliant-misophonia-podcasts-to-listen-to\u001b[0m\n",
      "\u001b[32m2024-08-13 12:41:02,457 - root - INFO - Adding new webpage: https://www.loopearplugs.com/blogs/blog/top-9-brilliant-misophonia-podcasts-to-listen-to\u001b[0m\n"
     ]
    },
    {
     "name": "stdout",
     "output_type": "stream",
     "text": [
      "Added new webpage: https://www.loopearplugs.com/blogs/blog/top-9-brilliant-misophonia-podcasts-to-listen-to\n"
     ]
    },
    {
     "name": "stderr",
     "output_type": "stream",
     "text": [
      "\u001b[32m2024-08-13 12:41:03,619 - root - INFO - Adding new webpage: https://www.loopearplugs.com/blogs/life-at-loop/walk-talk-with-fan\u001b[0m\n",
      "\u001b[32m2024-08-13 12:41:03,619 - root - INFO - Adding new webpage: https://www.loopearplugs.com/blogs/life-at-loop/walk-talk-with-fan\u001b[0m\n",
      "\u001b[32m2024-08-13 12:41:03,619 - root - INFO - Adding new webpage: https://www.loopearplugs.com/blogs/life-at-loop/walk-talk-with-fan\u001b[0m\n",
      "\u001b[32m2024-08-13 12:41:03,619 - root - INFO - Adding new webpage: https://www.loopearplugs.com/blogs/life-at-loop/walk-talk-with-fan\u001b[0m\n",
      "\u001b[32m2024-08-13 12:41:03,619 - root - INFO - Adding new webpage: https://www.loopearplugs.com/blogs/life-at-loop/walk-talk-with-fan\u001b[0m\n",
      "\u001b[32m2024-08-13 12:41:03,619 - root - INFO - Adding new webpage: https://www.loopearplugs.com/blogs/life-at-loop/walk-talk-with-fan\u001b[0m\n"
     ]
    },
    {
     "name": "stdout",
     "output_type": "stream",
     "text": [
      "Added new webpage: https://www.loopearplugs.com/blogs/life-at-loop/walk-talk-with-fan\n"
     ]
    },
    {
     "name": "stderr",
     "output_type": "stream",
     "text": [
      "\u001b[32m2024-08-13 12:41:05,598 - root - INFO - Adding new webpage: https://www.loopearplugs.com/blogs/blog/how-sleeping-with-earplugs-can-improve-your-sleep\u001b[0m\n",
      "\u001b[32m2024-08-13 12:41:05,598 - root - INFO - Adding new webpage: https://www.loopearplugs.com/blogs/blog/how-sleeping-with-earplugs-can-improve-your-sleep\u001b[0m\n",
      "\u001b[32m2024-08-13 12:41:05,598 - root - INFO - Adding new webpage: https://www.loopearplugs.com/blogs/blog/how-sleeping-with-earplugs-can-improve-your-sleep\u001b[0m\n",
      "\u001b[32m2024-08-13 12:41:05,598 - root - INFO - Adding new webpage: https://www.loopearplugs.com/blogs/blog/how-sleeping-with-earplugs-can-improve-your-sleep\u001b[0m\n",
      "\u001b[32m2024-08-13 12:41:05,598 - root - INFO - Adding new webpage: https://www.loopearplugs.com/blogs/blog/how-sleeping-with-earplugs-can-improve-your-sleep\u001b[0m\n",
      "\u001b[32m2024-08-13 12:41:05,598 - root - INFO - Adding new webpage: https://www.loopearplugs.com/blogs/blog/how-sleeping-with-earplugs-can-improve-your-sleep\u001b[0m\n"
     ]
    },
    {
     "name": "stdout",
     "output_type": "stream",
     "text": [
      "Added new webpage: https://www.loopearplugs.com/blogs/blog/how-sleeping-with-earplugs-can-improve-your-sleep\n"
     ]
    },
    {
     "name": "stderr",
     "output_type": "stream",
     "text": [
      "\u001b[32m2024-08-13 12:41:06,925 - root - INFO - Adding new webpage: https://www.loopearplugs.com/blogs/blog/behind-the-scenes-creating-solstice\u001b[0m\n",
      "\u001b[32m2024-08-13 12:41:06,925 - root - INFO - Adding new webpage: https://www.loopearplugs.com/blogs/blog/behind-the-scenes-creating-solstice\u001b[0m\n",
      "\u001b[32m2024-08-13 12:41:06,925 - root - INFO - Adding new webpage: https://www.loopearplugs.com/blogs/blog/behind-the-scenes-creating-solstice\u001b[0m\n",
      "\u001b[32m2024-08-13 12:41:06,925 - root - INFO - Adding new webpage: https://www.loopearplugs.com/blogs/blog/behind-the-scenes-creating-solstice\u001b[0m\n",
      "\u001b[32m2024-08-13 12:41:06,925 - root - INFO - Adding new webpage: https://www.loopearplugs.com/blogs/blog/behind-the-scenes-creating-solstice\u001b[0m\n",
      "\u001b[32m2024-08-13 12:41:06,925 - root - INFO - Adding new webpage: https://www.loopearplugs.com/blogs/blog/behind-the-scenes-creating-solstice\u001b[0m\n"
     ]
    },
    {
     "name": "stdout",
     "output_type": "stream",
     "text": [
      "Added new webpage: https://www.loopearplugs.com/blogs/blog/behind-the-scenes-creating-solstice\n"
     ]
    },
    {
     "name": "stderr",
     "output_type": "stream",
     "text": [
      "\u001b[32m2024-08-13 12:41:08,437 - root - INFO - Adding new webpage: https://www.loopearplugs.com/blogs/blog/how-to-avoid-hearing-damage\u001b[0m\n",
      "\u001b[32m2024-08-13 12:41:08,437 - root - INFO - Adding new webpage: https://www.loopearplugs.com/blogs/blog/how-to-avoid-hearing-damage\u001b[0m\n",
      "\u001b[32m2024-08-13 12:41:08,437 - root - INFO - Adding new webpage: https://www.loopearplugs.com/blogs/blog/how-to-avoid-hearing-damage\u001b[0m\n",
      "\u001b[32m2024-08-13 12:41:08,437 - root - INFO - Adding new webpage: https://www.loopearplugs.com/blogs/blog/how-to-avoid-hearing-damage\u001b[0m\n",
      "\u001b[32m2024-08-13 12:41:08,437 - root - INFO - Adding new webpage: https://www.loopearplugs.com/blogs/blog/how-to-avoid-hearing-damage\u001b[0m\n",
      "\u001b[32m2024-08-13 12:41:08,437 - root - INFO - Adding new webpage: https://www.loopearplugs.com/blogs/blog/how-to-avoid-hearing-damage\u001b[0m\n"
     ]
    },
    {
     "name": "stdout",
     "output_type": "stream",
     "text": [
      "Added new webpage: https://www.loopearplugs.com/blogs/blog/how-to-avoid-hearing-damage\n"
     ]
    },
    {
     "name": "stderr",
     "output_type": "stream",
     "text": [
      "\u001b[32m2024-08-13 12:41:09,840 - root - INFO - Adding new webpage: https://www.loopearplugs.com/blogs/blog/how-to-encourage-more-pto-and-prep-employees-for-vacations\u001b[0m\n",
      "\u001b[32m2024-08-13 12:41:09,840 - root - INFO - Adding new webpage: https://www.loopearplugs.com/blogs/blog/how-to-encourage-more-pto-and-prep-employees-for-vacations\u001b[0m\n",
      "\u001b[32m2024-08-13 12:41:09,840 - root - INFO - Adding new webpage: https://www.loopearplugs.com/blogs/blog/how-to-encourage-more-pto-and-prep-employees-for-vacations\u001b[0m\n",
      "\u001b[32m2024-08-13 12:41:09,840 - root - INFO - Adding new webpage: https://www.loopearplugs.com/blogs/blog/how-to-encourage-more-pto-and-prep-employees-for-vacations\u001b[0m\n",
      "\u001b[32m2024-08-13 12:41:09,840 - root - INFO - Adding new webpage: https://www.loopearplugs.com/blogs/blog/how-to-encourage-more-pto-and-prep-employees-for-vacations\u001b[0m\n",
      "\u001b[32m2024-08-13 12:41:09,840 - root - INFO - Adding new webpage: https://www.loopearplugs.com/blogs/blog/how-to-encourage-more-pto-and-prep-employees-for-vacations\u001b[0m\n"
     ]
    },
    {
     "name": "stdout",
     "output_type": "stream",
     "text": [
      "Added new webpage: https://www.loopearplugs.com/blogs/blog/how-to-encourage-more-pto-and-prep-employees-for-vacations\n"
     ]
    },
    {
     "name": "stderr",
     "output_type": "stream",
     "text": [
      "\u001b[32m2024-08-13 12:41:11,283 - root - INFO - Adding new webpage: https://www.loopearplugs.com/blogs/blog/sound-reduction\u001b[0m\n",
      "\u001b[32m2024-08-13 12:41:11,283 - root - INFO - Adding new webpage: https://www.loopearplugs.com/blogs/blog/sound-reduction\u001b[0m\n",
      "\u001b[32m2024-08-13 12:41:11,283 - root - INFO - Adding new webpage: https://www.loopearplugs.com/blogs/blog/sound-reduction\u001b[0m\n",
      "\u001b[32m2024-08-13 12:41:11,283 - root - INFO - Adding new webpage: https://www.loopearplugs.com/blogs/blog/sound-reduction\u001b[0m\n",
      "\u001b[32m2024-08-13 12:41:11,283 - root - INFO - Adding new webpage: https://www.loopearplugs.com/blogs/blog/sound-reduction\u001b[0m\n",
      "\u001b[32m2024-08-13 12:41:11,283 - root - INFO - Adding new webpage: https://www.loopearplugs.com/blogs/blog/sound-reduction\u001b[0m\n"
     ]
    },
    {
     "name": "stdout",
     "output_type": "stream",
     "text": [
      "Added new webpage: https://www.loopearplugs.com/blogs/blog/sound-reduction\n"
     ]
    },
    {
     "name": "stderr",
     "output_type": "stream",
     "text": [
      "\u001b[32m2024-08-13 12:41:12,740 - root - INFO - Adding new webpage: https://www.loopearplugs.com/blogs/blog/noise-canceling-earbuds-vs-earplugs-which-is-better-for-protecting-your-ears-1\u001b[0m\n",
      "\u001b[32m2024-08-13 12:41:12,740 - root - INFO - Adding new webpage: https://www.loopearplugs.com/blogs/blog/noise-canceling-earbuds-vs-earplugs-which-is-better-for-protecting-your-ears-1\u001b[0m\n",
      "\u001b[32m2024-08-13 12:41:12,740 - root - INFO - Adding new webpage: https://www.loopearplugs.com/blogs/blog/noise-canceling-earbuds-vs-earplugs-which-is-better-for-protecting-your-ears-1\u001b[0m\n",
      "\u001b[32m2024-08-13 12:41:12,740 - root - INFO - Adding new webpage: https://www.loopearplugs.com/blogs/blog/noise-canceling-earbuds-vs-earplugs-which-is-better-for-protecting-your-ears-1\u001b[0m\n",
      "\u001b[32m2024-08-13 12:41:12,740 - root - INFO - Adding new webpage: https://www.loopearplugs.com/blogs/blog/noise-canceling-earbuds-vs-earplugs-which-is-better-for-protecting-your-ears-1\u001b[0m\n",
      "\u001b[32m2024-08-13 12:41:12,740 - root - INFO - Adding new webpage: https://www.loopearplugs.com/blogs/blog/noise-canceling-earbuds-vs-earplugs-which-is-better-for-protecting-your-ears-1\u001b[0m\n"
     ]
    },
    {
     "name": "stdout",
     "output_type": "stream",
     "text": [
      "Added new webpage: https://www.loopearplugs.com/blogs/blog/noise-canceling-earbuds-vs-earplugs-which-is-better-for-protecting-your-ears-1\n"
     ]
    },
    {
     "name": "stderr",
     "output_type": "stream",
     "text": [
      "\u001b[32m2024-08-13 12:41:14,254 - root - INFO - Adding new webpage: https://www.loopearplugs.com/blogs/blog/famous-artists-with-tinnitus\u001b[0m\n",
      "\u001b[32m2024-08-13 12:41:14,254 - root - INFO - Adding new webpage: https://www.loopearplugs.com/blogs/blog/famous-artists-with-tinnitus\u001b[0m\n",
      "\u001b[32m2024-08-13 12:41:14,254 - root - INFO - Adding new webpage: https://www.loopearplugs.com/blogs/blog/famous-artists-with-tinnitus\u001b[0m\n",
      "\u001b[32m2024-08-13 12:41:14,254 - root - INFO - Adding new webpage: https://www.loopearplugs.com/blogs/blog/famous-artists-with-tinnitus\u001b[0m\n",
      "\u001b[32m2024-08-13 12:41:14,254 - root - INFO - Adding new webpage: https://www.loopearplugs.com/blogs/blog/famous-artists-with-tinnitus\u001b[0m\n",
      "\u001b[32m2024-08-13 12:41:14,254 - root - INFO - Adding new webpage: https://www.loopearplugs.com/blogs/blog/famous-artists-with-tinnitus\u001b[0m\n"
     ]
    },
    {
     "name": "stdout",
     "output_type": "stream",
     "text": [
      "Added new webpage: https://www.loopearplugs.com/blogs/blog/famous-artists-with-tinnitus\n"
     ]
    },
    {
     "name": "stderr",
     "output_type": "stream",
     "text": [
      "\u001b[32m2024-08-13 12:41:15,780 - root - INFO - Adding new webpage: https://www.loopearplugs.com/blogs/blog/reusable\u001b[0m\n",
      "\u001b[32m2024-08-13 12:41:15,780 - root - INFO - Adding new webpage: https://www.loopearplugs.com/blogs/blog/reusable\u001b[0m\n",
      "\u001b[32m2024-08-13 12:41:15,780 - root - INFO - Adding new webpage: https://www.loopearplugs.com/blogs/blog/reusable\u001b[0m\n",
      "\u001b[32m2024-08-13 12:41:15,780 - root - INFO - Adding new webpage: https://www.loopearplugs.com/blogs/blog/reusable\u001b[0m\n",
      "\u001b[32m2024-08-13 12:41:15,780 - root - INFO - Adding new webpage: https://www.loopearplugs.com/blogs/blog/reusable\u001b[0m\n",
      "\u001b[32m2024-08-13 12:41:15,780 - root - INFO - Adding new webpage: https://www.loopearplugs.com/blogs/blog/reusable\u001b[0m\n"
     ]
    },
    {
     "name": "stdout",
     "output_type": "stream",
     "text": [
      "Added new webpage: https://www.loopearplugs.com/blogs/blog/reusable\n"
     ]
    },
    {
     "name": "stderr",
     "output_type": "stream",
     "text": [
      "\u001b[32m2024-08-13 12:41:17,231 - root - INFO - Adding new webpage: https://www.loopearplugs.com/blogs/blog/what-to-wear-to-a-rave-womens-outfit-inspiration\u001b[0m\n",
      "\u001b[32m2024-08-13 12:41:17,231 - root - INFO - Adding new webpage: https://www.loopearplugs.com/blogs/blog/what-to-wear-to-a-rave-womens-outfit-inspiration\u001b[0m\n",
      "\u001b[32m2024-08-13 12:41:17,231 - root - INFO - Adding new webpage: https://www.loopearplugs.com/blogs/blog/what-to-wear-to-a-rave-womens-outfit-inspiration\u001b[0m\n",
      "\u001b[32m2024-08-13 12:41:17,231 - root - INFO - Adding new webpage: https://www.loopearplugs.com/blogs/blog/what-to-wear-to-a-rave-womens-outfit-inspiration\u001b[0m\n",
      "\u001b[32m2024-08-13 12:41:17,231 - root - INFO - Adding new webpage: https://www.loopearplugs.com/blogs/blog/what-to-wear-to-a-rave-womens-outfit-inspiration\u001b[0m\n",
      "\u001b[32m2024-08-13 12:41:17,231 - root - INFO - Adding new webpage: https://www.loopearplugs.com/blogs/blog/what-to-wear-to-a-rave-womens-outfit-inspiration\u001b[0m\n"
     ]
    },
    {
     "name": "stdout",
     "output_type": "stream",
     "text": [
      "Added new webpage: https://www.loopearplugs.com/blogs/blog/what-to-wear-to-a-rave-womens-outfit-inspiration\n"
     ]
    },
    {
     "name": "stderr",
     "output_type": "stream",
     "text": [
      "\u001b[32m2024-08-13 12:41:18,533 - root - INFO - Adding new webpage: https://www.loopearplugs.com/blogs/blog/what-is-noise-pollution-definition-sources-prevention-amp-facts\u001b[0m\n",
      "\u001b[32m2024-08-13 12:41:18,533 - root - INFO - Adding new webpage: https://www.loopearplugs.com/blogs/blog/what-is-noise-pollution-definition-sources-prevention-amp-facts\u001b[0m\n",
      "\u001b[32m2024-08-13 12:41:18,533 - root - INFO - Adding new webpage: https://www.loopearplugs.com/blogs/blog/what-is-noise-pollution-definition-sources-prevention-amp-facts\u001b[0m\n",
      "\u001b[32m2024-08-13 12:41:18,533 - root - INFO - Adding new webpage: https://www.loopearplugs.com/blogs/blog/what-is-noise-pollution-definition-sources-prevention-amp-facts\u001b[0m\n",
      "\u001b[32m2024-08-13 12:41:18,533 - root - INFO - Adding new webpage: https://www.loopearplugs.com/blogs/blog/what-is-noise-pollution-definition-sources-prevention-amp-facts\u001b[0m\n",
      "\u001b[32m2024-08-13 12:41:18,533 - root - INFO - Adding new webpage: https://www.loopearplugs.com/blogs/blog/what-is-noise-pollution-definition-sources-prevention-amp-facts\u001b[0m\n"
     ]
    },
    {
     "name": "stdout",
     "output_type": "stream",
     "text": [
      "Added new webpage: https://www.loopearplugs.com/blogs/blog/what-is-noise-pollution-definition-sources-prevention-amp-facts\n"
     ]
    },
    {
     "name": "stderr",
     "output_type": "stream",
     "text": [
      "\u001b[32m2024-08-13 12:41:20,022 - root - INFO - Adding new webpage: https://www.loopearplugs.com/blogs/life-at-loop/an-interview-with-loops-influencer-marketeer-arina-lipina\u001b[0m\n",
      "\u001b[32m2024-08-13 12:41:20,022 - root - INFO - Adding new webpage: https://www.loopearplugs.com/blogs/life-at-loop/an-interview-with-loops-influencer-marketeer-arina-lipina\u001b[0m\n",
      "\u001b[32m2024-08-13 12:41:20,022 - root - INFO - Adding new webpage: https://www.loopearplugs.com/blogs/life-at-loop/an-interview-with-loops-influencer-marketeer-arina-lipina\u001b[0m\n",
      "\u001b[32m2024-08-13 12:41:20,022 - root - INFO - Adding new webpage: https://www.loopearplugs.com/blogs/life-at-loop/an-interview-with-loops-influencer-marketeer-arina-lipina\u001b[0m\n",
      "\u001b[32m2024-08-13 12:41:20,022 - root - INFO - Adding new webpage: https://www.loopearplugs.com/blogs/life-at-loop/an-interview-with-loops-influencer-marketeer-arina-lipina\u001b[0m\n",
      "\u001b[32m2024-08-13 12:41:20,022 - root - INFO - Adding new webpage: https://www.loopearplugs.com/blogs/life-at-loop/an-interview-with-loops-influencer-marketeer-arina-lipina\u001b[0m\n"
     ]
    },
    {
     "name": "stdout",
     "output_type": "stream",
     "text": [
      "Added new webpage: https://www.loopearplugs.com/blogs/life-at-loop/an-interview-with-loops-influencer-marketeer-arina-lipina\n"
     ]
    },
    {
     "name": "stderr",
     "output_type": "stream",
     "text": [
      "\u001b[32m2024-08-13 12:41:21,544 - root - INFO - Adding new webpage: https://www.loopearplugs.com/blogs/blog/5-tips-to-brighten-up-your-january\u001b[0m\n",
      "\u001b[32m2024-08-13 12:41:21,544 - root - INFO - Adding new webpage: https://www.loopearplugs.com/blogs/blog/5-tips-to-brighten-up-your-january\u001b[0m\n",
      "\u001b[32m2024-08-13 12:41:21,544 - root - INFO - Adding new webpage: https://www.loopearplugs.com/blogs/blog/5-tips-to-brighten-up-your-january\u001b[0m\n",
      "\u001b[32m2024-08-13 12:41:21,544 - root - INFO - Adding new webpage: https://www.loopearplugs.com/blogs/blog/5-tips-to-brighten-up-your-january\u001b[0m\n",
      "\u001b[32m2024-08-13 12:41:21,544 - root - INFO - Adding new webpage: https://www.loopearplugs.com/blogs/blog/5-tips-to-brighten-up-your-january\u001b[0m\n",
      "\u001b[32m2024-08-13 12:41:21,544 - root - INFO - Adding new webpage: https://www.loopearplugs.com/blogs/blog/5-tips-to-brighten-up-your-january\u001b[0m\n"
     ]
    },
    {
     "name": "stdout",
     "output_type": "stream",
     "text": [
      "Added new webpage: https://www.loopearplugs.com/blogs/blog/5-tips-to-brighten-up-your-january\n"
     ]
    },
    {
     "name": "stderr",
     "output_type": "stream",
     "text": [
      "\u001b[32m2024-08-13 12:41:23,095 - root - INFO - Adding new webpage: https://www.loopearplugs.com/blogs/blog/best-apps-for-managing-tinnitus\u001b[0m\n",
      "\u001b[32m2024-08-13 12:41:23,095 - root - INFO - Adding new webpage: https://www.loopearplugs.com/blogs/blog/best-apps-for-managing-tinnitus\u001b[0m\n",
      "\u001b[32m2024-08-13 12:41:23,095 - root - INFO - Adding new webpage: https://www.loopearplugs.com/blogs/blog/best-apps-for-managing-tinnitus\u001b[0m\n",
      "\u001b[32m2024-08-13 12:41:23,095 - root - INFO - Adding new webpage: https://www.loopearplugs.com/blogs/blog/best-apps-for-managing-tinnitus\u001b[0m\n",
      "\u001b[32m2024-08-13 12:41:23,095 - root - INFO - Adding new webpage: https://www.loopearplugs.com/blogs/blog/best-apps-for-managing-tinnitus\u001b[0m\n",
      "\u001b[32m2024-08-13 12:41:23,095 - root - INFO - Adding new webpage: https://www.loopearplugs.com/blogs/blog/best-apps-for-managing-tinnitus\u001b[0m\n"
     ]
    },
    {
     "name": "stdout",
     "output_type": "stream",
     "text": [
      "Added new webpage: https://www.loopearplugs.com/blogs/blog/best-apps-for-managing-tinnitus\n"
     ]
    },
    {
     "name": "stderr",
     "output_type": "stream",
     "text": [
      "\u001b[32m2024-08-13 12:41:24,640 - root - INFO - Adding new webpage: https://www.loopearplugs.com/blogs/blog/gift-guide-ideas\u001b[0m\n",
      "\u001b[32m2024-08-13 12:41:24,640 - root - INFO - Adding new webpage: https://www.loopearplugs.com/blogs/blog/gift-guide-ideas\u001b[0m\n",
      "\u001b[32m2024-08-13 12:41:24,640 - root - INFO - Adding new webpage: https://www.loopearplugs.com/blogs/blog/gift-guide-ideas\u001b[0m\n",
      "\u001b[32m2024-08-13 12:41:24,640 - root - INFO - Adding new webpage: https://www.loopearplugs.com/blogs/blog/gift-guide-ideas\u001b[0m\n",
      "\u001b[32m2024-08-13 12:41:24,640 - root - INFO - Adding new webpage: https://www.loopearplugs.com/blogs/blog/gift-guide-ideas\u001b[0m\n",
      "\u001b[32m2024-08-13 12:41:24,640 - root - INFO - Adding new webpage: https://www.loopearplugs.com/blogs/blog/gift-guide-ideas\u001b[0m\n"
     ]
    },
    {
     "name": "stdout",
     "output_type": "stream",
     "text": [
      "Added new webpage: https://www.loopearplugs.com/blogs/blog/gift-guide-ideas\n"
     ]
    },
    {
     "name": "stderr",
     "output_type": "stream",
     "text": [
      "\u001b[32m2024-08-13 12:41:26,091 - root - INFO - Adding new webpage: https://www.loopearplugs.com/blogs/blog/behind-the-scenes-iridescent-photoshoot\u001b[0m\n",
      "\u001b[32m2024-08-13 12:41:26,091 - root - INFO - Adding new webpage: https://www.loopearplugs.com/blogs/blog/behind-the-scenes-iridescent-photoshoot\u001b[0m\n",
      "\u001b[32m2024-08-13 12:41:26,091 - root - INFO - Adding new webpage: https://www.loopearplugs.com/blogs/blog/behind-the-scenes-iridescent-photoshoot\u001b[0m\n",
      "\u001b[32m2024-08-13 12:41:26,091 - root - INFO - Adding new webpage: https://www.loopearplugs.com/blogs/blog/behind-the-scenes-iridescent-photoshoot\u001b[0m\n",
      "\u001b[32m2024-08-13 12:41:26,091 - root - INFO - Adding new webpage: https://www.loopearplugs.com/blogs/blog/behind-the-scenes-iridescent-photoshoot\u001b[0m\n",
      "\u001b[32m2024-08-13 12:41:26,091 - root - INFO - Adding new webpage: https://www.loopearplugs.com/blogs/blog/behind-the-scenes-iridescent-photoshoot\u001b[0m\n"
     ]
    },
    {
     "name": "stdout",
     "output_type": "stream",
     "text": [
      "Added new webpage: https://www.loopearplugs.com/blogs/blog/behind-the-scenes-iridescent-photoshoot\n"
     ]
    },
    {
     "name": "stderr",
     "output_type": "stream",
     "text": [
      "\u001b[32m2024-08-13 12:41:27,588 - root - INFO - Adding new webpage: https://www.loopearplugs.com/blogs/blog/which-ear-tips-should-you-use-silicone-vs-foam-ear-tips\u001b[0m\n",
      "\u001b[32m2024-08-13 12:41:27,588 - root - INFO - Adding new webpage: https://www.loopearplugs.com/blogs/blog/which-ear-tips-should-you-use-silicone-vs-foam-ear-tips\u001b[0m\n",
      "\u001b[32m2024-08-13 12:41:27,588 - root - INFO - Adding new webpage: https://www.loopearplugs.com/blogs/blog/which-ear-tips-should-you-use-silicone-vs-foam-ear-tips\u001b[0m\n",
      "\u001b[32m2024-08-13 12:41:27,588 - root - INFO - Adding new webpage: https://www.loopearplugs.com/blogs/blog/which-ear-tips-should-you-use-silicone-vs-foam-ear-tips\u001b[0m\n",
      "\u001b[32m2024-08-13 12:41:27,588 - root - INFO - Adding new webpage: https://www.loopearplugs.com/blogs/blog/which-ear-tips-should-you-use-silicone-vs-foam-ear-tips\u001b[0m\n",
      "\u001b[32m2024-08-13 12:41:27,588 - root - INFO - Adding new webpage: https://www.loopearplugs.com/blogs/blog/which-ear-tips-should-you-use-silicone-vs-foam-ear-tips\u001b[0m\n"
     ]
    },
    {
     "name": "stdout",
     "output_type": "stream",
     "text": [
      "Added new webpage: https://www.loopearplugs.com/blogs/blog/which-ear-tips-should-you-use-silicone-vs-foam-ear-tips\n"
     ]
    },
    {
     "name": "stderr",
     "output_type": "stream",
     "text": [
      "\u001b[32m2024-08-13 12:41:29,047 - root - INFO - Adding new webpage: https://www.loopearplugs.com/blogs/blog/causes-airplane-ear\u001b[0m\n",
      "\u001b[32m2024-08-13 12:41:29,047 - root - INFO - Adding new webpage: https://www.loopearplugs.com/blogs/blog/causes-airplane-ear\u001b[0m\n",
      "\u001b[32m2024-08-13 12:41:29,047 - root - INFO - Adding new webpage: https://www.loopearplugs.com/blogs/blog/causes-airplane-ear\u001b[0m\n",
      "\u001b[32m2024-08-13 12:41:29,047 - root - INFO - Adding new webpage: https://www.loopearplugs.com/blogs/blog/causes-airplane-ear\u001b[0m\n",
      "\u001b[32m2024-08-13 12:41:29,047 - root - INFO - Adding new webpage: https://www.loopearplugs.com/blogs/blog/causes-airplane-ear\u001b[0m\n",
      "\u001b[32m2024-08-13 12:41:29,047 - root - INFO - Adding new webpage: https://www.loopearplugs.com/blogs/blog/causes-airplane-ear\u001b[0m\n"
     ]
    },
    {
     "name": "stdout",
     "output_type": "stream",
     "text": [
      "Added new webpage: https://www.loopearplugs.com/blogs/blog/causes-airplane-ear\n"
     ]
    },
    {
     "name": "stderr",
     "output_type": "stream",
     "text": [
      "\u001b[32m2024-08-13 12:41:30,257 - root - INFO - Adding new webpage: https://www.loopearplugs.com/blogs/blog/djs-over-40\u001b[0m\n",
      "\u001b[32m2024-08-13 12:41:30,257 - root - INFO - Adding new webpage: https://www.loopearplugs.com/blogs/blog/djs-over-40\u001b[0m\n",
      "\u001b[32m2024-08-13 12:41:30,257 - root - INFO - Adding new webpage: https://www.loopearplugs.com/blogs/blog/djs-over-40\u001b[0m\n",
      "\u001b[32m2024-08-13 12:41:30,257 - root - INFO - Adding new webpage: https://www.loopearplugs.com/blogs/blog/djs-over-40\u001b[0m\n",
      "\u001b[32m2024-08-13 12:41:30,257 - root - INFO - Adding new webpage: https://www.loopearplugs.com/blogs/blog/djs-over-40\u001b[0m\n",
      "\u001b[32m2024-08-13 12:41:30,257 - root - INFO - Adding new webpage: https://www.loopearplugs.com/blogs/blog/djs-over-40\u001b[0m\n"
     ]
    },
    {
     "name": "stdout",
     "output_type": "stream",
     "text": [
      "Added new webpage: https://www.loopearplugs.com/blogs/blog/djs-over-40\n"
     ]
    },
    {
     "name": "stderr",
     "output_type": "stream",
     "text": [
      "\u001b[32m2024-08-13 12:41:31,765 - root - INFO - Adding new webpage: https://www.loopearplugs.com/blogs/blog/protecting-your-hearing-as-a-musician\u001b[0m\n",
      "\u001b[32m2024-08-13 12:41:31,765 - root - INFO - Adding new webpage: https://www.loopearplugs.com/blogs/blog/protecting-your-hearing-as-a-musician\u001b[0m\n",
      "\u001b[32m2024-08-13 12:41:31,765 - root - INFO - Adding new webpage: https://www.loopearplugs.com/blogs/blog/protecting-your-hearing-as-a-musician\u001b[0m\n",
      "\u001b[32m2024-08-13 12:41:31,765 - root - INFO - Adding new webpage: https://www.loopearplugs.com/blogs/blog/protecting-your-hearing-as-a-musician\u001b[0m\n",
      "\u001b[32m2024-08-13 12:41:31,765 - root - INFO - Adding new webpage: https://www.loopearplugs.com/blogs/blog/protecting-your-hearing-as-a-musician\u001b[0m\n",
      "\u001b[32m2024-08-13 12:41:31,765 - root - INFO - Adding new webpage: https://www.loopearplugs.com/blogs/blog/protecting-your-hearing-as-a-musician\u001b[0m\n"
     ]
    },
    {
     "name": "stdout",
     "output_type": "stream",
     "text": [
      "Added new webpage: https://www.loopearplugs.com/blogs/blog/protecting-your-hearing-as-a-musician\n"
     ]
    },
    {
     "name": "stderr",
     "output_type": "stream",
     "text": [
      "\u001b[32m2024-08-13 12:41:33,624 - root - INFO - Adding new webpage: https://www.loopearplugs.com/blogs/blog/big-things-are-coming\u001b[0m\n",
      "\u001b[32m2024-08-13 12:41:33,624 - root - INFO - Adding new webpage: https://www.loopearplugs.com/blogs/blog/big-things-are-coming\u001b[0m\n",
      "\u001b[32m2024-08-13 12:41:33,624 - root - INFO - Adding new webpage: https://www.loopearplugs.com/blogs/blog/big-things-are-coming\u001b[0m\n",
      "\u001b[32m2024-08-13 12:41:33,624 - root - INFO - Adding new webpage: https://www.loopearplugs.com/blogs/blog/big-things-are-coming\u001b[0m\n",
      "\u001b[32m2024-08-13 12:41:33,624 - root - INFO - Adding new webpage: https://www.loopearplugs.com/blogs/blog/big-things-are-coming\u001b[0m\n",
      "\u001b[32m2024-08-13 12:41:33,624 - root - INFO - Adding new webpage: https://www.loopearplugs.com/blogs/blog/big-things-are-coming\u001b[0m\n"
     ]
    },
    {
     "name": "stdout",
     "output_type": "stream",
     "text": [
      "Added new webpage: https://www.loopearplugs.com/blogs/blog/big-things-are-coming\n"
     ]
    },
    {
     "name": "stderr",
     "output_type": "stream",
     "text": [
      "\u001b[32m2024-08-13 12:41:35,181 - root - INFO - Adding new webpage: https://www.loopearplugs.com/blogs/blog/how-to-choose-best-earplugs\u001b[0m\n",
      "\u001b[32m2024-08-13 12:41:35,181 - root - INFO - Adding new webpage: https://www.loopearplugs.com/blogs/blog/how-to-choose-best-earplugs\u001b[0m\n",
      "\u001b[32m2024-08-13 12:41:35,181 - root - INFO - Adding new webpage: https://www.loopearplugs.com/blogs/blog/how-to-choose-best-earplugs\u001b[0m\n",
      "\u001b[32m2024-08-13 12:41:35,181 - root - INFO - Adding new webpage: https://www.loopearplugs.com/blogs/blog/how-to-choose-best-earplugs\u001b[0m\n",
      "\u001b[32m2024-08-13 12:41:35,181 - root - INFO - Adding new webpage: https://www.loopearplugs.com/blogs/blog/how-to-choose-best-earplugs\u001b[0m\n",
      "\u001b[32m2024-08-13 12:41:35,181 - root - INFO - Adding new webpage: https://www.loopearplugs.com/blogs/blog/how-to-choose-best-earplugs\u001b[0m\n"
     ]
    },
    {
     "name": "stdout",
     "output_type": "stream",
     "text": [
      "Added new webpage: https://www.loopearplugs.com/blogs/blog/how-to-choose-best-earplugs\n"
     ]
    },
    {
     "name": "stderr",
     "output_type": "stream",
     "text": [
      "\u001b[32m2024-08-13 12:41:36,437 - root - INFO - Adding new webpage: https://www.loopearplugs.com/blogs/blog/how-sleep-apnea-is-affecting-your-sleep\u001b[0m\n",
      "\u001b[32m2024-08-13 12:41:36,437 - root - INFO - Adding new webpage: https://www.loopearplugs.com/blogs/blog/how-sleep-apnea-is-affecting-your-sleep\u001b[0m\n",
      "\u001b[32m2024-08-13 12:41:36,437 - root - INFO - Adding new webpage: https://www.loopearplugs.com/blogs/blog/how-sleep-apnea-is-affecting-your-sleep\u001b[0m\n",
      "\u001b[32m2024-08-13 12:41:36,437 - root - INFO - Adding new webpage: https://www.loopearplugs.com/blogs/blog/how-sleep-apnea-is-affecting-your-sleep\u001b[0m\n",
      "\u001b[32m2024-08-13 12:41:36,437 - root - INFO - Adding new webpage: https://www.loopearplugs.com/blogs/blog/how-sleep-apnea-is-affecting-your-sleep\u001b[0m\n",
      "\u001b[32m2024-08-13 12:41:36,437 - root - INFO - Adding new webpage: https://www.loopearplugs.com/blogs/blog/how-sleep-apnea-is-affecting-your-sleep\u001b[0m\n"
     ]
    },
    {
     "name": "stdout",
     "output_type": "stream",
     "text": [
      "Added new webpage: https://www.loopearplugs.com/blogs/blog/how-sleep-apnea-is-affecting-your-sleep\n"
     ]
    },
    {
     "name": "stderr",
     "output_type": "stream",
     "text": [
      "\u001b[32m2024-08-13 12:41:37,887 - root - INFO - Adding new webpage: https://www.loopearplugs.com/blogs/blog/noisy-neighbors\u001b[0m\n",
      "\u001b[32m2024-08-13 12:41:37,887 - root - INFO - Adding new webpage: https://www.loopearplugs.com/blogs/blog/noisy-neighbors\u001b[0m\n",
      "\u001b[32m2024-08-13 12:41:37,887 - root - INFO - Adding new webpage: https://www.loopearplugs.com/blogs/blog/noisy-neighbors\u001b[0m\n",
      "\u001b[32m2024-08-13 12:41:37,887 - root - INFO - Adding new webpage: https://www.loopearplugs.com/blogs/blog/noisy-neighbors\u001b[0m\n",
      "\u001b[32m2024-08-13 12:41:37,887 - root - INFO - Adding new webpage: https://www.loopearplugs.com/blogs/blog/noisy-neighbors\u001b[0m\n",
      "\u001b[32m2024-08-13 12:41:37,887 - root - INFO - Adding new webpage: https://www.loopearplugs.com/blogs/blog/noisy-neighbors\u001b[0m\n"
     ]
    },
    {
     "name": "stdout",
     "output_type": "stream",
     "text": [
      "Added new webpage: https://www.loopearplugs.com/blogs/blog/noisy-neighbors\n"
     ]
    },
    {
     "name": "stderr",
     "output_type": "stream",
     "text": [
      "\u001b[32m2024-08-13 12:41:39,311 - root - INFO - Adding new webpage: https://www.loopearplugs.com/blogs/blog/misophonia\u001b[0m\n",
      "\u001b[32m2024-08-13 12:41:39,311 - root - INFO - Adding new webpage: https://www.loopearplugs.com/blogs/blog/misophonia\u001b[0m\n",
      "\u001b[32m2024-08-13 12:41:39,311 - root - INFO - Adding new webpage: https://www.loopearplugs.com/blogs/blog/misophonia\u001b[0m\n",
      "\u001b[32m2024-08-13 12:41:39,311 - root - INFO - Adding new webpage: https://www.loopearplugs.com/blogs/blog/misophonia\u001b[0m\n",
      "\u001b[32m2024-08-13 12:41:39,311 - root - INFO - Adding new webpage: https://www.loopearplugs.com/blogs/blog/misophonia\u001b[0m\n",
      "\u001b[32m2024-08-13 12:41:39,311 - root - INFO - Adding new webpage: https://www.loopearplugs.com/blogs/blog/misophonia\u001b[0m\n"
     ]
    },
    {
     "name": "stdout",
     "output_type": "stream",
     "text": [
      "Added new webpage: https://www.loopearplugs.com/blogs/blog/misophonia\n"
     ]
    },
    {
     "name": "stderr",
     "output_type": "stream",
     "text": [
      "\u001b[32m2024-08-13 12:41:40,854 - root - INFO - Adding new webpage: https://www.loopearplugs.com/blogs/blog/8-essential-motorcycle-safety-tips\u001b[0m\n",
      "\u001b[32m2024-08-13 12:41:40,854 - root - INFO - Adding new webpage: https://www.loopearplugs.com/blogs/blog/8-essential-motorcycle-safety-tips\u001b[0m\n",
      "\u001b[32m2024-08-13 12:41:40,854 - root - INFO - Adding new webpage: https://www.loopearplugs.com/blogs/blog/8-essential-motorcycle-safety-tips\u001b[0m\n",
      "\u001b[32m2024-08-13 12:41:40,854 - root - INFO - Adding new webpage: https://www.loopearplugs.com/blogs/blog/8-essential-motorcycle-safety-tips\u001b[0m\n",
      "\u001b[32m2024-08-13 12:41:40,854 - root - INFO - Adding new webpage: https://www.loopearplugs.com/blogs/blog/8-essential-motorcycle-safety-tips\u001b[0m\n",
      "\u001b[32m2024-08-13 12:41:40,854 - root - INFO - Adding new webpage: https://www.loopearplugs.com/blogs/blog/8-essential-motorcycle-safety-tips\u001b[0m\n"
     ]
    },
    {
     "name": "stdout",
     "output_type": "stream",
     "text": [
      "Added new webpage: https://www.loopearplugs.com/blogs/blog/8-essential-motorcycle-safety-tips\n"
     ]
    },
    {
     "name": "stderr",
     "output_type": "stream",
     "text": [
      "\u001b[32m2024-08-13 12:41:42,013 - root - INFO - Adding new webpage: https://www.loopearplugs.com/blogs/blog/incredible-music-stages\u001b[0m\n",
      "\u001b[32m2024-08-13 12:41:42,013 - root - INFO - Adding new webpage: https://www.loopearplugs.com/blogs/blog/incredible-music-stages\u001b[0m\n",
      "\u001b[32m2024-08-13 12:41:42,013 - root - INFO - Adding new webpage: https://www.loopearplugs.com/blogs/blog/incredible-music-stages\u001b[0m\n",
      "\u001b[32m2024-08-13 12:41:42,013 - root - INFO - Adding new webpage: https://www.loopearplugs.com/blogs/blog/incredible-music-stages\u001b[0m\n",
      "\u001b[32m2024-08-13 12:41:42,013 - root - INFO - Adding new webpage: https://www.loopearplugs.com/blogs/blog/incredible-music-stages\u001b[0m\n",
      "\u001b[32m2024-08-13 12:41:42,013 - root - INFO - Adding new webpage: https://www.loopearplugs.com/blogs/blog/incredible-music-stages\u001b[0m\n"
     ]
    },
    {
     "name": "stdout",
     "output_type": "stream",
     "text": [
      "Added new webpage: https://www.loopearplugs.com/blogs/blog/incredible-music-stages\n"
     ]
    },
    {
     "name": "stderr",
     "output_type": "stream",
     "text": [
      "\u001b[32m2024-08-13 12:41:43,492 - root - INFO - Adding new webpage: https://www.loopearplugs.com/blogs/blog/the-founders-story\u001b[0m\n",
      "\u001b[32m2024-08-13 12:41:43,492 - root - INFO - Adding new webpage: https://www.loopearplugs.com/blogs/blog/the-founders-story\u001b[0m\n",
      "\u001b[32m2024-08-13 12:41:43,492 - root - INFO - Adding new webpage: https://www.loopearplugs.com/blogs/blog/the-founders-story\u001b[0m\n",
      "\u001b[32m2024-08-13 12:41:43,492 - root - INFO - Adding new webpage: https://www.loopearplugs.com/blogs/blog/the-founders-story\u001b[0m\n",
      "\u001b[32m2024-08-13 12:41:43,492 - root - INFO - Adding new webpage: https://www.loopearplugs.com/blogs/blog/the-founders-story\u001b[0m\n",
      "\u001b[32m2024-08-13 12:41:43,492 - root - INFO - Adding new webpage: https://www.loopearplugs.com/blogs/blog/the-founders-story\u001b[0m\n"
     ]
    },
    {
     "name": "stdout",
     "output_type": "stream",
     "text": [
      "Added new webpage: https://www.loopearplugs.com/blogs/blog/the-founders-story\n"
     ]
    },
    {
     "name": "stderr",
     "output_type": "stream",
     "text": [
      "\u001b[32m2024-08-13 12:41:44,875 - root - INFO - Adding new webpage: https://www.loopearplugs.com/blogs/blog/how-to-help-a-distracted-child-in-the-classroom\u001b[0m\n",
      "\u001b[32m2024-08-13 12:41:44,875 - root - INFO - Adding new webpage: https://www.loopearplugs.com/blogs/blog/how-to-help-a-distracted-child-in-the-classroom\u001b[0m\n",
      "\u001b[32m2024-08-13 12:41:44,875 - root - INFO - Adding new webpage: https://www.loopearplugs.com/blogs/blog/how-to-help-a-distracted-child-in-the-classroom\u001b[0m\n",
      "\u001b[32m2024-08-13 12:41:44,875 - root - INFO - Adding new webpage: https://www.loopearplugs.com/blogs/blog/how-to-help-a-distracted-child-in-the-classroom\u001b[0m\n",
      "\u001b[32m2024-08-13 12:41:44,875 - root - INFO - Adding new webpage: https://www.loopearplugs.com/blogs/blog/how-to-help-a-distracted-child-in-the-classroom\u001b[0m\n",
      "\u001b[32m2024-08-13 12:41:44,875 - root - INFO - Adding new webpage: https://www.loopearplugs.com/blogs/blog/how-to-help-a-distracted-child-in-the-classroom\u001b[0m\n"
     ]
    },
    {
     "name": "stdout",
     "output_type": "stream",
     "text": [
      "Added new webpage: https://www.loopearplugs.com/blogs/blog/how-to-help-a-distracted-child-in-the-classroom\n"
     ]
    },
    {
     "name": "stderr",
     "output_type": "stream",
     "text": [
      "\u001b[32m2024-08-13 12:41:46,367 - root - INFO - Adding new webpage: https://www.loopearplugs.com/blogs/blog/misophonia-treatment\u001b[0m\n",
      "\u001b[32m2024-08-13 12:41:46,367 - root - INFO - Adding new webpage: https://www.loopearplugs.com/blogs/blog/misophonia-treatment\u001b[0m\n",
      "\u001b[32m2024-08-13 12:41:46,367 - root - INFO - Adding new webpage: https://www.loopearplugs.com/blogs/blog/misophonia-treatment\u001b[0m\n",
      "\u001b[32m2024-08-13 12:41:46,367 - root - INFO - Adding new webpage: https://www.loopearplugs.com/blogs/blog/misophonia-treatment\u001b[0m\n",
      "\u001b[32m2024-08-13 12:41:46,367 - root - INFO - Adding new webpage: https://www.loopearplugs.com/blogs/blog/misophonia-treatment\u001b[0m\n",
      "\u001b[32m2024-08-13 12:41:46,367 - root - INFO - Adding new webpage: https://www.loopearplugs.com/blogs/blog/misophonia-treatment\u001b[0m\n"
     ]
    },
    {
     "name": "stdout",
     "output_type": "stream",
     "text": [
      "Added new webpage: https://www.loopearplugs.com/blogs/blog/misophonia-treatment\n"
     ]
    },
    {
     "name": "stderr",
     "output_type": "stream",
     "text": [
      "\u001b[32m2024-08-13 12:41:47,796 - root - INFO - Adding new webpage: https://www.loopearplugs.com/blogs/blog/how-to-deal-with-stress-at-work-loop-earplugs\u001b[0m\n",
      "\u001b[32m2024-08-13 12:41:47,796 - root - INFO - Adding new webpage: https://www.loopearplugs.com/blogs/blog/how-to-deal-with-stress-at-work-loop-earplugs\u001b[0m\n",
      "\u001b[32m2024-08-13 12:41:47,796 - root - INFO - Adding new webpage: https://www.loopearplugs.com/blogs/blog/how-to-deal-with-stress-at-work-loop-earplugs\u001b[0m\n",
      "\u001b[32m2024-08-13 12:41:47,796 - root - INFO - Adding new webpage: https://www.loopearplugs.com/blogs/blog/how-to-deal-with-stress-at-work-loop-earplugs\u001b[0m\n",
      "\u001b[32m2024-08-13 12:41:47,796 - root - INFO - Adding new webpage: https://www.loopearplugs.com/blogs/blog/how-to-deal-with-stress-at-work-loop-earplugs\u001b[0m\n",
      "\u001b[32m2024-08-13 12:41:47,796 - root - INFO - Adding new webpage: https://www.loopearplugs.com/blogs/blog/how-to-deal-with-stress-at-work-loop-earplugs\u001b[0m\n"
     ]
    },
    {
     "name": "stdout",
     "output_type": "stream",
     "text": [
      "Added new webpage: https://www.loopearplugs.com/blogs/blog/how-to-deal-with-stress-at-work-loop-earplugs\n"
     ]
    },
    {
     "name": "stderr",
     "output_type": "stream",
     "text": [
      "\u001b[32m2024-08-13 12:41:49,162 - root - INFO - Adding new webpage: https://www.loopearplugs.com/blogs/blog/springcleaning\u001b[0m\n",
      "\u001b[32m2024-08-13 12:41:49,162 - root - INFO - Adding new webpage: https://www.loopearplugs.com/blogs/blog/springcleaning\u001b[0m\n",
      "\u001b[32m2024-08-13 12:41:49,162 - root - INFO - Adding new webpage: https://www.loopearplugs.com/blogs/blog/springcleaning\u001b[0m\n",
      "\u001b[32m2024-08-13 12:41:49,162 - root - INFO - Adding new webpage: https://www.loopearplugs.com/blogs/blog/springcleaning\u001b[0m\n",
      "\u001b[32m2024-08-13 12:41:49,162 - root - INFO - Adding new webpage: https://www.loopearplugs.com/blogs/blog/springcleaning\u001b[0m\n",
      "\u001b[32m2024-08-13 12:41:49,162 - root - INFO - Adding new webpage: https://www.loopearplugs.com/blogs/blog/springcleaning\u001b[0m\n"
     ]
    },
    {
     "name": "stdout",
     "output_type": "stream",
     "text": [
      "Added new webpage: https://www.loopearplugs.com/blogs/blog/springcleaning\n"
     ]
    },
    {
     "name": "stderr",
     "output_type": "stream",
     "text": [
      "\u001b[32m2024-08-13 12:41:50,457 - root - INFO - Adding new webpage: https://www.loopearplugs.com/blogs/life-at-loop/all-ears-to-the-future-loop-ces-2024\u001b[0m\n",
      "\u001b[32m2024-08-13 12:41:50,457 - root - INFO - Adding new webpage: https://www.loopearplugs.com/blogs/life-at-loop/all-ears-to-the-future-loop-ces-2024\u001b[0m\n",
      "\u001b[32m2024-08-13 12:41:50,457 - root - INFO - Adding new webpage: https://www.loopearplugs.com/blogs/life-at-loop/all-ears-to-the-future-loop-ces-2024\u001b[0m\n",
      "\u001b[32m2024-08-13 12:41:50,457 - root - INFO - Adding new webpage: https://www.loopearplugs.com/blogs/life-at-loop/all-ears-to-the-future-loop-ces-2024\u001b[0m\n",
      "\u001b[32m2024-08-13 12:41:50,457 - root - INFO - Adding new webpage: https://www.loopearplugs.com/blogs/life-at-loop/all-ears-to-the-future-loop-ces-2024\u001b[0m\n",
      "\u001b[32m2024-08-13 12:41:50,457 - root - INFO - Adding new webpage: https://www.loopearplugs.com/blogs/life-at-loop/all-ears-to-the-future-loop-ces-2024\u001b[0m\n"
     ]
    },
    {
     "name": "stdout",
     "output_type": "stream",
     "text": [
      "Added new webpage: https://www.loopearplugs.com/blogs/life-at-loop/all-ears-to-the-future-loop-ces-2024\n"
     ]
    },
    {
     "name": "stderr",
     "output_type": "stream",
     "text": [
      "\u001b[32m2024-08-13 12:41:51,617 - root - INFO - Adding new webpage: https://www.loopearplugs.com/blogs/life-at-loop/looper-story-meet-astrid\u001b[0m\n",
      "\u001b[32m2024-08-13 12:41:51,617 - root - INFO - Adding new webpage: https://www.loopearplugs.com/blogs/life-at-loop/looper-story-meet-astrid\u001b[0m\n",
      "\u001b[32m2024-08-13 12:41:51,617 - root - INFO - Adding new webpage: https://www.loopearplugs.com/blogs/life-at-loop/looper-story-meet-astrid\u001b[0m\n",
      "\u001b[32m2024-08-13 12:41:51,617 - root - INFO - Adding new webpage: https://www.loopearplugs.com/blogs/life-at-loop/looper-story-meet-astrid\u001b[0m\n",
      "\u001b[32m2024-08-13 12:41:51,617 - root - INFO - Adding new webpage: https://www.loopearplugs.com/blogs/life-at-loop/looper-story-meet-astrid\u001b[0m\n",
      "\u001b[32m2024-08-13 12:41:51,617 - root - INFO - Adding new webpage: https://www.loopearplugs.com/blogs/life-at-loop/looper-story-meet-astrid\u001b[0m\n"
     ]
    },
    {
     "name": "stdout",
     "output_type": "stream",
     "text": [
      "Added new webpage: https://www.loopearplugs.com/blogs/life-at-loop/looper-story-meet-astrid\n"
     ]
    },
    {
     "name": "stderr",
     "output_type": "stream",
     "text": [
      "\u001b[32m2024-08-13 12:41:53,046 - root - INFO - Adding new webpage: https://www.loopearplugs.com/blogs/blog/block-out-noise-when-sleeping\u001b[0m\n",
      "\u001b[32m2024-08-13 12:41:53,046 - root - INFO - Adding new webpage: https://www.loopearplugs.com/blogs/blog/block-out-noise-when-sleeping\u001b[0m\n",
      "\u001b[32m2024-08-13 12:41:53,046 - root - INFO - Adding new webpage: https://www.loopearplugs.com/blogs/blog/block-out-noise-when-sleeping\u001b[0m\n",
      "\u001b[32m2024-08-13 12:41:53,046 - root - INFO - Adding new webpage: https://www.loopearplugs.com/blogs/blog/block-out-noise-when-sleeping\u001b[0m\n",
      "\u001b[32m2024-08-13 12:41:53,046 - root - INFO - Adding new webpage: https://www.loopearplugs.com/blogs/blog/block-out-noise-when-sleeping\u001b[0m\n",
      "\u001b[32m2024-08-13 12:41:53,046 - root - INFO - Adding new webpage: https://www.loopearplugs.com/blogs/blog/block-out-noise-when-sleeping\u001b[0m\n"
     ]
    },
    {
     "name": "stdout",
     "output_type": "stream",
     "text": [
      "Added new webpage: https://www.loopearplugs.com/blogs/blog/block-out-noise-when-sleeping\n"
     ]
    },
    {
     "name": "stderr",
     "output_type": "stream",
     "text": [
      "\u001b[32m2024-08-13 12:41:54,446 - root - INFO - Adding new webpage: https://www.loopearplugs.com/blogs/blog/calmer-parent\u001b[0m\n",
      "\u001b[32m2024-08-13 12:41:54,446 - root - INFO - Adding new webpage: https://www.loopearplugs.com/blogs/blog/calmer-parent\u001b[0m\n",
      "\u001b[32m2024-08-13 12:41:54,446 - root - INFO - Adding new webpage: https://www.loopearplugs.com/blogs/blog/calmer-parent\u001b[0m\n",
      "\u001b[32m2024-08-13 12:41:54,446 - root - INFO - Adding new webpage: https://www.loopearplugs.com/blogs/blog/calmer-parent\u001b[0m\n",
      "\u001b[32m2024-08-13 12:41:54,446 - root - INFO - Adding new webpage: https://www.loopearplugs.com/blogs/blog/calmer-parent\u001b[0m\n",
      "\u001b[32m2024-08-13 12:41:54,446 - root - INFO - Adding new webpage: https://www.loopearplugs.com/blogs/blog/calmer-parent\u001b[0m\n"
     ]
    },
    {
     "name": "stdout",
     "output_type": "stream",
     "text": [
      "Added new webpage: https://www.loopearplugs.com/blogs/blog/calmer-parent\n"
     ]
    },
    {
     "name": "stderr",
     "output_type": "stream",
     "text": [
      "\u001b[32m2024-08-13 12:41:55,886 - root - INFO - Adding new webpage: https://www.loopearplugs.com/blogs/blog/phonophobia\u001b[0m\n",
      "\u001b[32m2024-08-13 12:41:55,886 - root - INFO - Adding new webpage: https://www.loopearplugs.com/blogs/blog/phonophobia\u001b[0m\n",
      "\u001b[32m2024-08-13 12:41:55,886 - root - INFO - Adding new webpage: https://www.loopearplugs.com/blogs/blog/phonophobia\u001b[0m\n",
      "\u001b[32m2024-08-13 12:41:55,886 - root - INFO - Adding new webpage: https://www.loopearplugs.com/blogs/blog/phonophobia\u001b[0m\n",
      "\u001b[32m2024-08-13 12:41:55,886 - root - INFO - Adding new webpage: https://www.loopearplugs.com/blogs/blog/phonophobia\u001b[0m\n",
      "\u001b[32m2024-08-13 12:41:55,886 - root - INFO - Adding new webpage: https://www.loopearplugs.com/blogs/blog/phonophobia\u001b[0m\n"
     ]
    },
    {
     "name": "stdout",
     "output_type": "stream",
     "text": [
      "Added new webpage: https://www.loopearplugs.com/blogs/blog/phonophobia\n"
     ]
    },
    {
     "name": "stderr",
     "output_type": "stream",
     "text": [
      "\u001b[32m2024-08-13 12:41:57,542 - root - INFO - Adding new webpage: https://www.loopearplugs.com/blogs/blog/why-people-wear-earplugs\u001b[0m\n",
      "\u001b[32m2024-08-13 12:41:57,542 - root - INFO - Adding new webpage: https://www.loopearplugs.com/blogs/blog/why-people-wear-earplugs\u001b[0m\n",
      "\u001b[32m2024-08-13 12:41:57,542 - root - INFO - Adding new webpage: https://www.loopearplugs.com/blogs/blog/why-people-wear-earplugs\u001b[0m\n",
      "\u001b[32m2024-08-13 12:41:57,542 - root - INFO - Adding new webpage: https://www.loopearplugs.com/blogs/blog/why-people-wear-earplugs\u001b[0m\n",
      "\u001b[32m2024-08-13 12:41:57,542 - root - INFO - Adding new webpage: https://www.loopearplugs.com/blogs/blog/why-people-wear-earplugs\u001b[0m\n",
      "\u001b[32m2024-08-13 12:41:57,542 - root - INFO - Adding new webpage: https://www.loopearplugs.com/blogs/blog/why-people-wear-earplugs\u001b[0m\n"
     ]
    },
    {
     "name": "stdout",
     "output_type": "stream",
     "text": [
      "Added new webpage: https://www.loopearplugs.com/blogs/blog/why-people-wear-earplugs\n"
     ]
    },
    {
     "name": "stderr",
     "output_type": "stream",
     "text": [
      "\u001b[32m2024-08-13 12:41:59,808 - root - INFO - Adding new webpage: https://www.loopearplugs.com/blogs/blog/improving-sleep-hygiene\u001b[0m\n",
      "\u001b[32m2024-08-13 12:41:59,808 - root - INFO - Adding new webpage: https://www.loopearplugs.com/blogs/blog/improving-sleep-hygiene\u001b[0m\n",
      "\u001b[32m2024-08-13 12:41:59,808 - root - INFO - Adding new webpage: https://www.loopearplugs.com/blogs/blog/improving-sleep-hygiene\u001b[0m\n",
      "\u001b[32m2024-08-13 12:41:59,808 - root - INFO - Adding new webpage: https://www.loopearplugs.com/blogs/blog/improving-sleep-hygiene\u001b[0m\n",
      "\u001b[32m2024-08-13 12:41:59,808 - root - INFO - Adding new webpage: https://www.loopearplugs.com/blogs/blog/improving-sleep-hygiene\u001b[0m\n",
      "\u001b[32m2024-08-13 12:41:59,808 - root - INFO - Adding new webpage: https://www.loopearplugs.com/blogs/blog/improving-sleep-hygiene\u001b[0m\n"
     ]
    },
    {
     "name": "stdout",
     "output_type": "stream",
     "text": [
      "Added new webpage: https://www.loopearplugs.com/blogs/blog/improving-sleep-hygiene\n"
     ]
    },
    {
     "name": "stderr",
     "output_type": "stream",
     "text": [
      "\u001b[32m2024-08-13 12:42:01,344 - root - INFO - Adding new webpage: https://www.loopearplugs.com/blogs/blog/autism\u001b[0m\n",
      "\u001b[32m2024-08-13 12:42:01,344 - root - INFO - Adding new webpage: https://www.loopearplugs.com/blogs/blog/autism\u001b[0m\n",
      "\u001b[32m2024-08-13 12:42:01,344 - root - INFO - Adding new webpage: https://www.loopearplugs.com/blogs/blog/autism\u001b[0m\n",
      "\u001b[32m2024-08-13 12:42:01,344 - root - INFO - Adding new webpage: https://www.loopearplugs.com/blogs/blog/autism\u001b[0m\n",
      "\u001b[32m2024-08-13 12:42:01,344 - root - INFO - Adding new webpage: https://www.loopearplugs.com/blogs/blog/autism\u001b[0m\n",
      "\u001b[32m2024-08-13 12:42:01,344 - root - INFO - Adding new webpage: https://www.loopearplugs.com/blogs/blog/autism\u001b[0m\n"
     ]
    },
    {
     "name": "stdout",
     "output_type": "stream",
     "text": [
      "Added new webpage: https://www.loopearplugs.com/blogs/blog/autism\n"
     ]
    },
    {
     "name": "stderr",
     "output_type": "stream",
     "text": [
      "\u001b[32m2024-08-13 12:42:03,686 - root - INFO - Adding new webpage: https://www.loopearplugs.com/blogs/blog/it-s-not-you-7-things-you-might-not-even-realize-are-symptoms-of-noise-sensitivity\u001b[0m\n",
      "\u001b[32m2024-08-13 12:42:03,686 - root - INFO - Adding new webpage: https://www.loopearplugs.com/blogs/blog/it-s-not-you-7-things-you-might-not-even-realize-are-symptoms-of-noise-sensitivity\u001b[0m\n",
      "\u001b[32m2024-08-13 12:42:03,686 - root - INFO - Adding new webpage: https://www.loopearplugs.com/blogs/blog/it-s-not-you-7-things-you-might-not-even-realize-are-symptoms-of-noise-sensitivity\u001b[0m\n",
      "\u001b[32m2024-08-13 12:42:03,686 - root - INFO - Adding new webpage: https://www.loopearplugs.com/blogs/blog/it-s-not-you-7-things-you-might-not-even-realize-are-symptoms-of-noise-sensitivity\u001b[0m\n",
      "\u001b[32m2024-08-13 12:42:03,686 - root - INFO - Adding new webpage: https://www.loopearplugs.com/blogs/blog/it-s-not-you-7-things-you-might-not-even-realize-are-symptoms-of-noise-sensitivity\u001b[0m\n",
      "\u001b[32m2024-08-13 12:42:03,686 - root - INFO - Adding new webpage: https://www.loopearplugs.com/blogs/blog/it-s-not-you-7-things-you-might-not-even-realize-are-symptoms-of-noise-sensitivity\u001b[0m\n"
     ]
    },
    {
     "name": "stdout",
     "output_type": "stream",
     "text": [
      "Added new webpage: https://www.loopearplugs.com/blogs/blog/it-s-not-you-7-things-you-might-not-even-realize-are-symptoms-of-noise-sensitivity\n"
     ]
    },
    {
     "name": "stderr",
     "output_type": "stream",
     "text": [
      "\u001b[32m2024-08-13 12:42:05,190 - root - INFO - Adding new webpage: https://www.loopearplugs.com/blogs/blog/how-to-prevent-tinnitus-and-protect-your-ears\u001b[0m\n",
      "\u001b[32m2024-08-13 12:42:05,190 - root - INFO - Adding new webpage: https://www.loopearplugs.com/blogs/blog/how-to-prevent-tinnitus-and-protect-your-ears\u001b[0m\n",
      "\u001b[32m2024-08-13 12:42:05,190 - root - INFO - Adding new webpage: https://www.loopearplugs.com/blogs/blog/how-to-prevent-tinnitus-and-protect-your-ears\u001b[0m\n",
      "\u001b[32m2024-08-13 12:42:05,190 - root - INFO - Adding new webpage: https://www.loopearplugs.com/blogs/blog/how-to-prevent-tinnitus-and-protect-your-ears\u001b[0m\n",
      "\u001b[32m2024-08-13 12:42:05,190 - root - INFO - Adding new webpage: https://www.loopearplugs.com/blogs/blog/how-to-prevent-tinnitus-and-protect-your-ears\u001b[0m\n",
      "\u001b[32m2024-08-13 12:42:05,190 - root - INFO - Adding new webpage: https://www.loopearplugs.com/blogs/blog/how-to-prevent-tinnitus-and-protect-your-ears\u001b[0m\n"
     ]
    },
    {
     "name": "stdout",
     "output_type": "stream",
     "text": [
      "Added new webpage: https://www.loopearplugs.com/blogs/blog/how-to-prevent-tinnitus-and-protect-your-ears\n"
     ]
    },
    {
     "name": "stderr",
     "output_type": "stream",
     "text": [
      "\u001b[32m2024-08-13 12:42:06,408 - root - INFO - Adding new webpage: https://www.loopearplugs.com/blogs/blog/do-you-have-the-ears-of-a-superhuman-or-just-an-average-mortal\u001b[0m\n",
      "\u001b[32m2024-08-13 12:42:06,408 - root - INFO - Adding new webpage: https://www.loopearplugs.com/blogs/blog/do-you-have-the-ears-of-a-superhuman-or-just-an-average-mortal\u001b[0m\n",
      "\u001b[32m2024-08-13 12:42:06,408 - root - INFO - Adding new webpage: https://www.loopearplugs.com/blogs/blog/do-you-have-the-ears-of-a-superhuman-or-just-an-average-mortal\u001b[0m\n",
      "\u001b[32m2024-08-13 12:42:06,408 - root - INFO - Adding new webpage: https://www.loopearplugs.com/blogs/blog/do-you-have-the-ears-of-a-superhuman-or-just-an-average-mortal\u001b[0m\n",
      "\u001b[32m2024-08-13 12:42:06,408 - root - INFO - Adding new webpage: https://www.loopearplugs.com/blogs/blog/do-you-have-the-ears-of-a-superhuman-or-just-an-average-mortal\u001b[0m\n",
      "\u001b[32m2024-08-13 12:42:06,408 - root - INFO - Adding new webpage: https://www.loopearplugs.com/blogs/blog/do-you-have-the-ears-of-a-superhuman-or-just-an-average-mortal\u001b[0m\n"
     ]
    },
    {
     "name": "stdout",
     "output_type": "stream",
     "text": [
      "Added new webpage: https://www.loopearplugs.com/blogs/blog/do-you-have-the-ears-of-a-superhuman-or-just-an-average-mortal\n"
     ]
    },
    {
     "name": "stderr",
     "output_type": "stream",
     "text": [
      "\u001b[32m2024-08-13 12:42:07,950 - root - INFO - Adding new webpage: https://www.loopearplugs.com/blogs/blog/noise-sensitivity\u001b[0m\n",
      "\u001b[32m2024-08-13 12:42:07,950 - root - INFO - Adding new webpage: https://www.loopearplugs.com/blogs/blog/noise-sensitivity\u001b[0m\n",
      "\u001b[32m2024-08-13 12:42:07,950 - root - INFO - Adding new webpage: https://www.loopearplugs.com/blogs/blog/noise-sensitivity\u001b[0m\n",
      "\u001b[32m2024-08-13 12:42:07,950 - root - INFO - Adding new webpage: https://www.loopearplugs.com/blogs/blog/noise-sensitivity\u001b[0m\n",
      "\u001b[32m2024-08-13 12:42:07,950 - root - INFO - Adding new webpage: https://www.loopearplugs.com/blogs/blog/noise-sensitivity\u001b[0m\n",
      "\u001b[32m2024-08-13 12:42:07,950 - root - INFO - Adding new webpage: https://www.loopearplugs.com/blogs/blog/noise-sensitivity\u001b[0m\n"
     ]
    },
    {
     "name": "stdout",
     "output_type": "stream",
     "text": [
      "Added new webpage: https://www.loopearplugs.com/blogs/blog/noise-sensitivity\n"
     ]
    },
    {
     "name": "stderr",
     "output_type": "stream",
     "text": [
      "\u001b[32m2024-08-13 12:42:09,446 - root - INFO - Adding new webpage: https://www.loopearplugs.com/blogs/blog/concerts\u001b[0m\n",
      "\u001b[32m2024-08-13 12:42:09,446 - root - INFO - Adding new webpage: https://www.loopearplugs.com/blogs/blog/concerts\u001b[0m\n",
      "\u001b[32m2024-08-13 12:42:09,446 - root - INFO - Adding new webpage: https://www.loopearplugs.com/blogs/blog/concerts\u001b[0m\n",
      "\u001b[32m2024-08-13 12:42:09,446 - root - INFO - Adding new webpage: https://www.loopearplugs.com/blogs/blog/concerts\u001b[0m\n",
      "\u001b[32m2024-08-13 12:42:09,446 - root - INFO - Adding new webpage: https://www.loopearplugs.com/blogs/blog/concerts\u001b[0m\n",
      "\u001b[32m2024-08-13 12:42:09,446 - root - INFO - Adding new webpage: https://www.loopearplugs.com/blogs/blog/concerts\u001b[0m\n"
     ]
    },
    {
     "name": "stdout",
     "output_type": "stream",
     "text": [
      "Added new webpage: https://www.loopearplugs.com/blogs/blog/concerts\n"
     ]
    },
    {
     "name": "stderr",
     "output_type": "stream",
     "text": [
      "\u001b[32m2024-08-13 12:42:11,147 - root - INFO - Adding new webpage: https://www.loopearplugs.com/blogs/news/untitled-jul-4-22-8-25\u001b[0m\n",
      "\u001b[32m2024-08-13 12:42:11,147 - root - INFO - Adding new webpage: https://www.loopearplugs.com/blogs/news/untitled-jul-4-22-8-25\u001b[0m\n",
      "\u001b[32m2024-08-13 12:42:11,147 - root - INFO - Adding new webpage: https://www.loopearplugs.com/blogs/news/untitled-jul-4-22-8-25\u001b[0m\n",
      "\u001b[32m2024-08-13 12:42:11,147 - root - INFO - Adding new webpage: https://www.loopearplugs.com/blogs/news/untitled-jul-4-22-8-25\u001b[0m\n",
      "\u001b[32m2024-08-13 12:42:11,147 - root - INFO - Adding new webpage: https://www.loopearplugs.com/blogs/news/untitled-jul-4-22-8-25\u001b[0m\n",
      "\u001b[32m2024-08-13 12:42:11,147 - root - INFO - Adding new webpage: https://www.loopearplugs.com/blogs/news/untitled-jul-4-22-8-25\u001b[0m\n"
     ]
    },
    {
     "name": "stdout",
     "output_type": "stream",
     "text": [
      "Added new webpage: https://www.loopearplugs.com/blogs/news/untitled-jul-4-22-8-25\n"
     ]
    },
    {
     "name": "stderr",
     "output_type": "stream",
     "text": [
      "\u001b[33m2024-08-13 12:42:12,535 - trafilatura.xml - WARNING - missing link attribute: View full details {}'\u001b[0m\n",
      "\u001b[33m2024-08-13 12:42:12,535 - trafilatura.xml - WARNING - missing link attribute: View full details {}'\u001b[0m\n",
      "\u001b[33m2024-08-13 12:42:12,535 - trafilatura.xml - WARNING - missing link attribute: View full details {}'\u001b[0m\n",
      "\u001b[33m2024-08-13 12:42:12,535 - trafilatura.xml - WARNING - missing link attribute: View full details {}'\u001b[0m\n",
      "\u001b[33m2024-08-13 12:42:12,535 - trafilatura.xml - WARNING - missing link attribute: View full details {}'\u001b[0m\n",
      "\u001b[33m2024-08-13 12:42:12,535 - trafilatura.xml - WARNING - missing link attribute: View full details {}'\u001b[0m\n",
      "\u001b[32m2024-08-13 12:42:12,537 - root - INFO - Adding new webpage: https://www.loopearplugs.com/blogs/blog/music-festival-tips-and-advice\u001b[0m\n",
      "\u001b[32m2024-08-13 12:42:12,537 - root - INFO - Adding new webpage: https://www.loopearplugs.com/blogs/blog/music-festival-tips-and-advice\u001b[0m\n",
      "\u001b[32m2024-08-13 12:42:12,537 - root - INFO - Adding new webpage: https://www.loopearplugs.com/blogs/blog/music-festival-tips-and-advice\u001b[0m\n",
      "\u001b[32m2024-08-13 12:42:12,537 - root - INFO - Adding new webpage: https://www.loopearplugs.com/blogs/blog/music-festival-tips-and-advice\u001b[0m\n",
      "\u001b[32m2024-08-13 12:42:12,537 - root - INFO - Adding new webpage: https://www.loopearplugs.com/blogs/blog/music-festival-tips-and-advice\u001b[0m\n",
      "\u001b[32m2024-08-13 12:42:12,537 - root - INFO - Adding new webpage: https://www.loopearplugs.com/blogs/blog/music-festival-tips-and-advice\u001b[0m\n"
     ]
    },
    {
     "name": "stdout",
     "output_type": "stream",
     "text": [
      "Added new webpage: https://www.loopearplugs.com/blogs/blog/music-festival-tips-and-advice\n"
     ]
    },
    {
     "name": "stderr",
     "output_type": "stream",
     "text": [
      "\u001b[32m2024-08-13 12:42:14,091 - root - INFO - Adding new webpage: https://www.loopearplugs.com/blogs/blog/the-power-of-sound-what-is-a-decibel-and-how-is-it-measured\u001b[0m\n",
      "\u001b[32m2024-08-13 12:42:14,091 - root - INFO - Adding new webpage: https://www.loopearplugs.com/blogs/blog/the-power-of-sound-what-is-a-decibel-and-how-is-it-measured\u001b[0m\n",
      "\u001b[32m2024-08-13 12:42:14,091 - root - INFO - Adding new webpage: https://www.loopearplugs.com/blogs/blog/the-power-of-sound-what-is-a-decibel-and-how-is-it-measured\u001b[0m\n",
      "\u001b[32m2024-08-13 12:42:14,091 - root - INFO - Adding new webpage: https://www.loopearplugs.com/blogs/blog/the-power-of-sound-what-is-a-decibel-and-how-is-it-measured\u001b[0m\n",
      "\u001b[32m2024-08-13 12:42:14,091 - root - INFO - Adding new webpage: https://www.loopearplugs.com/blogs/blog/the-power-of-sound-what-is-a-decibel-and-how-is-it-measured\u001b[0m\n",
      "\u001b[32m2024-08-13 12:42:14,091 - root - INFO - Adding new webpage: https://www.loopearplugs.com/blogs/blog/the-power-of-sound-what-is-a-decibel-and-how-is-it-measured\u001b[0m\n"
     ]
    },
    {
     "name": "stdout",
     "output_type": "stream",
     "text": [
      "Added new webpage: https://www.loopearplugs.com/blogs/blog/the-power-of-sound-what-is-a-decibel-and-how-is-it-measured\n"
     ]
    },
    {
     "name": "stderr",
     "output_type": "stream",
     "text": [
      "\u001b[32m2024-08-13 12:42:15,387 - root - INFO - Adding new webpage: https://www.loopearplugs.com/blogs/blog/three-different-types-of-tinnitus\u001b[0m\n",
      "\u001b[32m2024-08-13 12:42:15,387 - root - INFO - Adding new webpage: https://www.loopearplugs.com/blogs/blog/three-different-types-of-tinnitus\u001b[0m\n",
      "\u001b[32m2024-08-13 12:42:15,387 - root - INFO - Adding new webpage: https://www.loopearplugs.com/blogs/blog/three-different-types-of-tinnitus\u001b[0m\n",
      "\u001b[32m2024-08-13 12:42:15,387 - root - INFO - Adding new webpage: https://www.loopearplugs.com/blogs/blog/three-different-types-of-tinnitus\u001b[0m\n",
      "\u001b[32m2024-08-13 12:42:15,387 - root - INFO - Adding new webpage: https://www.loopearplugs.com/blogs/blog/three-different-types-of-tinnitus\u001b[0m\n",
      "\u001b[32m2024-08-13 12:42:15,387 - root - INFO - Adding new webpage: https://www.loopearplugs.com/blogs/blog/three-different-types-of-tinnitus\u001b[0m\n"
     ]
    },
    {
     "name": "stdout",
     "output_type": "stream",
     "text": [
      "Added new webpage: https://www.loopearplugs.com/blogs/blog/three-different-types-of-tinnitus\n"
     ]
    },
    {
     "name": "stderr",
     "output_type": "stream",
     "text": [
      "\u001b[32m2024-08-13 12:42:16,875 - root - INFO - Adding new webpage: https://www.loopearplugs.com/blogs/blog/ear-protection\u001b[0m\n",
      "\u001b[32m2024-08-13 12:42:16,875 - root - INFO - Adding new webpage: https://www.loopearplugs.com/blogs/blog/ear-protection\u001b[0m\n",
      "\u001b[32m2024-08-13 12:42:16,875 - root - INFO - Adding new webpage: https://www.loopearplugs.com/blogs/blog/ear-protection\u001b[0m\n",
      "\u001b[32m2024-08-13 12:42:16,875 - root - INFO - Adding new webpage: https://www.loopearplugs.com/blogs/blog/ear-protection\u001b[0m\n",
      "\u001b[32m2024-08-13 12:42:16,875 - root - INFO - Adding new webpage: https://www.loopearplugs.com/blogs/blog/ear-protection\u001b[0m\n",
      "\u001b[32m2024-08-13 12:42:16,875 - root - INFO - Adding new webpage: https://www.loopearplugs.com/blogs/blog/ear-protection\u001b[0m\n"
     ]
    },
    {
     "name": "stdout",
     "output_type": "stream",
     "text": [
      "Added new webpage: https://www.loopearplugs.com/blogs/blog/ear-protection\n"
     ]
    },
    {
     "name": "stderr",
     "output_type": "stream",
     "text": [
      "\u001b[32m2024-08-13 12:42:18,027 - root - INFO - Adding new webpage: https://www.loopearplugs.com/blogs/life-at-loop/looper-story-meet-maks\u001b[0m\n",
      "\u001b[32m2024-08-13 12:42:18,027 - root - INFO - Adding new webpage: https://www.loopearplugs.com/blogs/life-at-loop/looper-story-meet-maks\u001b[0m\n",
      "\u001b[32m2024-08-13 12:42:18,027 - root - INFO - Adding new webpage: https://www.loopearplugs.com/blogs/life-at-loop/looper-story-meet-maks\u001b[0m\n",
      "\u001b[32m2024-08-13 12:42:18,027 - root - INFO - Adding new webpage: https://www.loopearplugs.com/blogs/life-at-loop/looper-story-meet-maks\u001b[0m\n",
      "\u001b[32m2024-08-13 12:42:18,027 - root - INFO - Adding new webpage: https://www.loopearplugs.com/blogs/life-at-loop/looper-story-meet-maks\u001b[0m\n",
      "\u001b[32m2024-08-13 12:42:18,027 - root - INFO - Adding new webpage: https://www.loopearplugs.com/blogs/life-at-loop/looper-story-meet-maks\u001b[0m\n"
     ]
    },
    {
     "name": "stdout",
     "output_type": "stream",
     "text": [
      "Added new webpage: https://www.loopearplugs.com/blogs/life-at-loop/looper-story-meet-maks\n"
     ]
    },
    {
     "name": "stderr",
     "output_type": "stream",
     "text": [
      "\u001b[32m2024-08-13 12:42:19,452 - root - INFO - Adding new webpage: https://www.loopearplugs.com/blogs/blog/how-to-overcome-the-effects-of-noise-in-the-workplace\u001b[0m\n",
      "\u001b[32m2024-08-13 12:42:19,452 - root - INFO - Adding new webpage: https://www.loopearplugs.com/blogs/blog/how-to-overcome-the-effects-of-noise-in-the-workplace\u001b[0m\n",
      "\u001b[32m2024-08-13 12:42:19,452 - root - INFO - Adding new webpage: https://www.loopearplugs.com/blogs/blog/how-to-overcome-the-effects-of-noise-in-the-workplace\u001b[0m\n",
      "\u001b[32m2024-08-13 12:42:19,452 - root - INFO - Adding new webpage: https://www.loopearplugs.com/blogs/blog/how-to-overcome-the-effects-of-noise-in-the-workplace\u001b[0m\n",
      "\u001b[32m2024-08-13 12:42:19,452 - root - INFO - Adding new webpage: https://www.loopearplugs.com/blogs/blog/how-to-overcome-the-effects-of-noise-in-the-workplace\u001b[0m\n",
      "\u001b[32m2024-08-13 12:42:19,452 - root - INFO - Adding new webpage: https://www.loopearplugs.com/blogs/blog/how-to-overcome-the-effects-of-noise-in-the-workplace\u001b[0m\n"
     ]
    },
    {
     "name": "stdout",
     "output_type": "stream",
     "text": [
      "Added new webpage: https://www.loopearplugs.com/blogs/blog/how-to-overcome-the-effects-of-noise-in-the-workplace\n"
     ]
    },
    {
     "name": "stderr",
     "output_type": "stream",
     "text": [
      "\u001b[32m2024-08-13 12:42:20,871 - root - INFO - Adding new webpage: https://www.loopearplugs.com/blogs/blog/15-annoying-sounds-that-need-to-go-away-forever\u001b[0m\n",
      "\u001b[32m2024-08-13 12:42:20,871 - root - INFO - Adding new webpage: https://www.loopearplugs.com/blogs/blog/15-annoying-sounds-that-need-to-go-away-forever\u001b[0m\n",
      "\u001b[32m2024-08-13 12:42:20,871 - root - INFO - Adding new webpage: https://www.loopearplugs.com/blogs/blog/15-annoying-sounds-that-need-to-go-away-forever\u001b[0m\n",
      "\u001b[32m2024-08-13 12:42:20,871 - root - INFO - Adding new webpage: https://www.loopearplugs.com/blogs/blog/15-annoying-sounds-that-need-to-go-away-forever\u001b[0m\n",
      "\u001b[32m2024-08-13 12:42:20,871 - root - INFO - Adding new webpage: https://www.loopearplugs.com/blogs/blog/15-annoying-sounds-that-need-to-go-away-forever\u001b[0m\n",
      "\u001b[32m2024-08-13 12:42:20,871 - root - INFO - Adding new webpage: https://www.loopearplugs.com/blogs/blog/15-annoying-sounds-that-need-to-go-away-forever\u001b[0m\n"
     ]
    },
    {
     "name": "stdout",
     "output_type": "stream",
     "text": [
      "Added new webpage: https://www.loopearplugs.com/blogs/blog/15-annoying-sounds-that-need-to-go-away-forever\n"
     ]
    },
    {
     "name": "stderr",
     "output_type": "stream",
     "text": [
      "\u001b[32m2024-08-13 12:42:22,224 - root - INFO - Adding new webpage: https://www.loopearplugs.com/blogs/life-at-loop/how-innovative-can-an-earplug-get\u001b[0m\n",
      "\u001b[32m2024-08-13 12:42:22,224 - root - INFO - Adding new webpage: https://www.loopearplugs.com/blogs/life-at-loop/how-innovative-can-an-earplug-get\u001b[0m\n",
      "\u001b[32m2024-08-13 12:42:22,224 - root - INFO - Adding new webpage: https://www.loopearplugs.com/blogs/life-at-loop/how-innovative-can-an-earplug-get\u001b[0m\n",
      "\u001b[32m2024-08-13 12:42:22,224 - root - INFO - Adding new webpage: https://www.loopearplugs.com/blogs/life-at-loop/how-innovative-can-an-earplug-get\u001b[0m\n",
      "\u001b[32m2024-08-13 12:42:22,224 - root - INFO - Adding new webpage: https://www.loopearplugs.com/blogs/life-at-loop/how-innovative-can-an-earplug-get\u001b[0m\n",
      "\u001b[32m2024-08-13 12:42:22,224 - root - INFO - Adding new webpage: https://www.loopearplugs.com/blogs/life-at-loop/how-innovative-can-an-earplug-get\u001b[0m\n"
     ]
    },
    {
     "name": "stdout",
     "output_type": "stream",
     "text": [
      "Added new webpage: https://www.loopearplugs.com/blogs/life-at-loop/how-innovative-can-an-earplug-get\n"
     ]
    },
    {
     "name": "stderr",
     "output_type": "stream",
     "text": [
      "\u001b[32m2024-08-13 12:42:23,686 - root - INFO - Adding new webpage: https://www.loopearplugs.com/blogs/blog/a-look-at-the-use-of-earplugs-for-nightclubs-and-festivals\u001b[0m\n",
      "\u001b[32m2024-08-13 12:42:23,686 - root - INFO - Adding new webpage: https://www.loopearplugs.com/blogs/blog/a-look-at-the-use-of-earplugs-for-nightclubs-and-festivals\u001b[0m\n",
      "\u001b[32m2024-08-13 12:42:23,686 - root - INFO - Adding new webpage: https://www.loopearplugs.com/blogs/blog/a-look-at-the-use-of-earplugs-for-nightclubs-and-festivals\u001b[0m\n",
      "\u001b[32m2024-08-13 12:42:23,686 - root - INFO - Adding new webpage: https://www.loopearplugs.com/blogs/blog/a-look-at-the-use-of-earplugs-for-nightclubs-and-festivals\u001b[0m\n",
      "\u001b[32m2024-08-13 12:42:23,686 - root - INFO - Adding new webpage: https://www.loopearplugs.com/blogs/blog/a-look-at-the-use-of-earplugs-for-nightclubs-and-festivals\u001b[0m\n",
      "\u001b[32m2024-08-13 12:42:23,686 - root - INFO - Adding new webpage: https://www.loopearplugs.com/blogs/blog/a-look-at-the-use-of-earplugs-for-nightclubs-and-festivals\u001b[0m\n"
     ]
    },
    {
     "name": "stdout",
     "output_type": "stream",
     "text": [
      "Added new webpage: https://www.loopearplugs.com/blogs/blog/a-look-at-the-use-of-earplugs-for-nightclubs-and-festivals\n"
     ]
    },
    {
     "name": "stderr",
     "output_type": "stream",
     "text": [
      "\u001b[32m2024-08-13 12:42:25,196 - root - INFO - Adding new webpage: https://www.loopearplugs.com/blogs/blog/noisiest-cities-in-the-world\u001b[0m\n",
      "\u001b[32m2024-08-13 12:42:25,196 - root - INFO - Adding new webpage: https://www.loopearplugs.com/blogs/blog/noisiest-cities-in-the-world\u001b[0m\n",
      "\u001b[32m2024-08-13 12:42:25,196 - root - INFO - Adding new webpage: https://www.loopearplugs.com/blogs/blog/noisiest-cities-in-the-world\u001b[0m\n",
      "\u001b[32m2024-08-13 12:42:25,196 - root - INFO - Adding new webpage: https://www.loopearplugs.com/blogs/blog/noisiest-cities-in-the-world\u001b[0m\n",
      "\u001b[32m2024-08-13 12:42:25,196 - root - INFO - Adding new webpage: https://www.loopearplugs.com/blogs/blog/noisiest-cities-in-the-world\u001b[0m\n",
      "\u001b[32m2024-08-13 12:42:25,196 - root - INFO - Adding new webpage: https://www.loopearplugs.com/blogs/blog/noisiest-cities-in-the-world\u001b[0m\n"
     ]
    },
    {
     "name": "stdout",
     "output_type": "stream",
     "text": [
      "Added new webpage: https://www.loopearplugs.com/blogs/blog/noisiest-cities-in-the-world\n"
     ]
    },
    {
     "name": "stderr",
     "output_type": "stream",
     "text": [
      "\u001b[32m2024-08-13 12:42:26,317 - root - INFO - Adding new webpage: https://www.loopearplugs.com/blogs/life-at-loop/5-social-media-trends-to-watch-in-2022\u001b[0m\n",
      "\u001b[32m2024-08-13 12:42:26,317 - root - INFO - Adding new webpage: https://www.loopearplugs.com/blogs/life-at-loop/5-social-media-trends-to-watch-in-2022\u001b[0m\n",
      "\u001b[32m2024-08-13 12:42:26,317 - root - INFO - Adding new webpage: https://www.loopearplugs.com/blogs/life-at-loop/5-social-media-trends-to-watch-in-2022\u001b[0m\n",
      "\u001b[32m2024-08-13 12:42:26,317 - root - INFO - Adding new webpage: https://www.loopearplugs.com/blogs/life-at-loop/5-social-media-trends-to-watch-in-2022\u001b[0m\n",
      "\u001b[32m2024-08-13 12:42:26,317 - root - INFO - Adding new webpage: https://www.loopearplugs.com/blogs/life-at-loop/5-social-media-trends-to-watch-in-2022\u001b[0m\n",
      "\u001b[32m2024-08-13 12:42:26,317 - root - INFO - Adding new webpage: https://www.loopearplugs.com/blogs/life-at-loop/5-social-media-trends-to-watch-in-2022\u001b[0m\n"
     ]
    },
    {
     "name": "stdout",
     "output_type": "stream",
     "text": [
      "Added new webpage: https://www.loopearplugs.com/blogs/life-at-loop/5-social-media-trends-to-watch-in-2022\n"
     ]
    },
    {
     "name": "stderr",
     "output_type": "stream",
     "text": [
      "\u001b[32m2024-08-13 12:42:27,804 - root - INFO - Adding new webpage: https://www.loopearplugs.com/blogs/blog/what-to-wear-to-a-nightclub-the-2023-guide-for-women\u001b[0m\n",
      "\u001b[32m2024-08-13 12:42:27,804 - root - INFO - Adding new webpage: https://www.loopearplugs.com/blogs/blog/what-to-wear-to-a-nightclub-the-2023-guide-for-women\u001b[0m\n",
      "\u001b[32m2024-08-13 12:42:27,804 - root - INFO - Adding new webpage: https://www.loopearplugs.com/blogs/blog/what-to-wear-to-a-nightclub-the-2023-guide-for-women\u001b[0m\n",
      "\u001b[32m2024-08-13 12:42:27,804 - root - INFO - Adding new webpage: https://www.loopearplugs.com/blogs/blog/what-to-wear-to-a-nightclub-the-2023-guide-for-women\u001b[0m\n",
      "\u001b[32m2024-08-13 12:42:27,804 - root - INFO - Adding new webpage: https://www.loopearplugs.com/blogs/blog/what-to-wear-to-a-nightclub-the-2023-guide-for-women\u001b[0m\n",
      "\u001b[32m2024-08-13 12:42:27,804 - root - INFO - Adding new webpage: https://www.loopearplugs.com/blogs/blog/what-to-wear-to-a-nightclub-the-2023-guide-for-women\u001b[0m\n"
     ]
    },
    {
     "name": "stdout",
     "output_type": "stream",
     "text": [
      "Added new webpage: https://www.loopearplugs.com/blogs/blog/what-to-wear-to-a-nightclub-the-2023-guide-for-women\n"
     ]
    },
    {
     "name": "stderr",
     "output_type": "stream",
     "text": [
      "\u001b[32m2024-08-13 12:42:30,252 - root - INFO - Adding new webpage: https://www.loopearplugs.com/blogs/blog/you-asked-we-listened\u001b[0m\n",
      "\u001b[32m2024-08-13 12:42:30,252 - root - INFO - Adding new webpage: https://www.loopearplugs.com/blogs/blog/you-asked-we-listened\u001b[0m\n",
      "\u001b[32m2024-08-13 12:42:30,252 - root - INFO - Adding new webpage: https://www.loopearplugs.com/blogs/blog/you-asked-we-listened\u001b[0m\n",
      "\u001b[32m2024-08-13 12:42:30,252 - root - INFO - Adding new webpage: https://www.loopearplugs.com/blogs/blog/you-asked-we-listened\u001b[0m\n",
      "\u001b[32m2024-08-13 12:42:30,252 - root - INFO - Adding new webpage: https://www.loopearplugs.com/blogs/blog/you-asked-we-listened\u001b[0m\n",
      "\u001b[32m2024-08-13 12:42:30,252 - root - INFO - Adding new webpage: https://www.loopearplugs.com/blogs/blog/you-asked-we-listened\u001b[0m\n"
     ]
    },
    {
     "name": "stdout",
     "output_type": "stream",
     "text": [
      "Added new webpage: https://www.loopearplugs.com/blogs/blog/you-asked-we-listened\n"
     ]
    },
    {
     "name": "stderr",
     "output_type": "stream",
     "text": [
      "\u001b[32m2024-08-13 12:42:31,666 - root - INFO - Adding new webpage: https://www.loopearplugs.com/blogs/blog/top-tips-for-choosing-earplugs-for-sleeping\u001b[0m\n",
      "\u001b[32m2024-08-13 12:42:31,666 - root - INFO - Adding new webpage: https://www.loopearplugs.com/blogs/blog/top-tips-for-choosing-earplugs-for-sleeping\u001b[0m\n",
      "\u001b[32m2024-08-13 12:42:31,666 - root - INFO - Adding new webpage: https://www.loopearplugs.com/blogs/blog/top-tips-for-choosing-earplugs-for-sleeping\u001b[0m\n",
      "\u001b[32m2024-08-13 12:42:31,666 - root - INFO - Adding new webpage: https://www.loopearplugs.com/blogs/blog/top-tips-for-choosing-earplugs-for-sleeping\u001b[0m\n",
      "\u001b[32m2024-08-13 12:42:31,666 - root - INFO - Adding new webpage: https://www.loopearplugs.com/blogs/blog/top-tips-for-choosing-earplugs-for-sleeping\u001b[0m\n",
      "\u001b[32m2024-08-13 12:42:31,666 - root - INFO - Adding new webpage: https://www.loopearplugs.com/blogs/blog/top-tips-for-choosing-earplugs-for-sleeping\u001b[0m\n"
     ]
    },
    {
     "name": "stdout",
     "output_type": "stream",
     "text": [
      "Added new webpage: https://www.loopearplugs.com/blogs/blog/top-tips-for-choosing-earplugs-for-sleeping\n"
     ]
    },
    {
     "name": "stderr",
     "output_type": "stream",
     "text": [
      "\u001b[32m2024-08-13 12:42:32,877 - root - INFO - Adding new webpage: https://www.loopearplugs.com/blogs/life-at-loop/introducing-ludovic-s-loop-story\u001b[0m\n",
      "\u001b[32m2024-08-13 12:42:32,877 - root - INFO - Adding new webpage: https://www.loopearplugs.com/blogs/life-at-loop/introducing-ludovic-s-loop-story\u001b[0m\n",
      "\u001b[32m2024-08-13 12:42:32,877 - root - INFO - Adding new webpage: https://www.loopearplugs.com/blogs/life-at-loop/introducing-ludovic-s-loop-story\u001b[0m\n",
      "\u001b[32m2024-08-13 12:42:32,877 - root - INFO - Adding new webpage: https://www.loopearplugs.com/blogs/life-at-loop/introducing-ludovic-s-loop-story\u001b[0m\n",
      "\u001b[32m2024-08-13 12:42:32,877 - root - INFO - Adding new webpage: https://www.loopearplugs.com/blogs/life-at-loop/introducing-ludovic-s-loop-story\u001b[0m\n",
      "\u001b[32m2024-08-13 12:42:32,877 - root - INFO - Adding new webpage: https://www.loopearplugs.com/blogs/life-at-loop/introducing-ludovic-s-loop-story\u001b[0m\n"
     ]
    },
    {
     "name": "stdout",
     "output_type": "stream",
     "text": [
      "Added new webpage: https://www.loopearplugs.com/blogs/life-at-loop/introducing-ludovic-s-loop-story\n"
     ]
    },
    {
     "name": "stderr",
     "output_type": "stream",
     "text": [
      "\u001b[32m2024-08-13 12:42:34,406 - root - INFO - Adding new webpage: https://www.loopearplugs.com/blogs/blog/silencing-the-stigma-on-hearing-protection-loop-earplugs-x-tomorrowland\u001b[0m\n",
      "\u001b[32m2024-08-13 12:42:34,406 - root - INFO - Adding new webpage: https://www.loopearplugs.com/blogs/blog/silencing-the-stigma-on-hearing-protection-loop-earplugs-x-tomorrowland\u001b[0m\n",
      "\u001b[32m2024-08-13 12:42:34,406 - root - INFO - Adding new webpage: https://www.loopearplugs.com/blogs/blog/silencing-the-stigma-on-hearing-protection-loop-earplugs-x-tomorrowland\u001b[0m\n",
      "\u001b[32m2024-08-13 12:42:34,406 - root - INFO - Adding new webpage: https://www.loopearplugs.com/blogs/blog/silencing-the-stigma-on-hearing-protection-loop-earplugs-x-tomorrowland\u001b[0m\n",
      "\u001b[32m2024-08-13 12:42:34,406 - root - INFO - Adding new webpage: https://www.loopearplugs.com/blogs/blog/silencing-the-stigma-on-hearing-protection-loop-earplugs-x-tomorrowland\u001b[0m\n",
      "\u001b[32m2024-08-13 12:42:34,406 - root - INFO - Adding new webpage: https://www.loopearplugs.com/blogs/blog/silencing-the-stigma-on-hearing-protection-loop-earplugs-x-tomorrowland\u001b[0m\n"
     ]
    },
    {
     "name": "stdout",
     "output_type": "stream",
     "text": [
      "Added new webpage: https://www.loopearplugs.com/blogs/blog/silencing-the-stigma-on-hearing-protection-loop-earplugs-x-tomorrowland\n"
     ]
    },
    {
     "name": "stderr",
     "output_type": "stream",
     "text": [
      "\u001b[32m2024-08-13 12:42:36,155 - root - INFO - Adding new webpage: https://www.loopearplugs.com/blogs/blog/calling-all-overstimulated-parents-reclaim-your-calm\u001b[0m\n",
      "\u001b[32m2024-08-13 12:42:36,155 - root - INFO - Adding new webpage: https://www.loopearplugs.com/blogs/blog/calling-all-overstimulated-parents-reclaim-your-calm\u001b[0m\n",
      "\u001b[32m2024-08-13 12:42:36,155 - root - INFO - Adding new webpage: https://www.loopearplugs.com/blogs/blog/calling-all-overstimulated-parents-reclaim-your-calm\u001b[0m\n",
      "\u001b[32m2024-08-13 12:42:36,155 - root - INFO - Adding new webpage: https://www.loopearplugs.com/blogs/blog/calling-all-overstimulated-parents-reclaim-your-calm\u001b[0m\n",
      "\u001b[32m2024-08-13 12:42:36,155 - root - INFO - Adding new webpage: https://www.loopearplugs.com/blogs/blog/calling-all-overstimulated-parents-reclaim-your-calm\u001b[0m\n",
      "\u001b[32m2024-08-13 12:42:36,155 - root - INFO - Adding new webpage: https://www.loopearplugs.com/blogs/blog/calling-all-overstimulated-parents-reclaim-your-calm\u001b[0m\n"
     ]
    },
    {
     "name": "stdout",
     "output_type": "stream",
     "text": [
      "Added new webpage: https://www.loopearplugs.com/blogs/blog/calling-all-overstimulated-parents-reclaim-your-calm\n"
     ]
    },
    {
     "name": "stderr",
     "output_type": "stream",
     "text": [
      "\u001b[32m2024-08-13 12:42:37,776 - root - INFO - Adding new webpage: https://www.loopearplugs.com/blogs/blog/tinnitus-does-it-ever-truly-go-away\u001b[0m\n",
      "\u001b[32m2024-08-13 12:42:37,776 - root - INFO - Adding new webpage: https://www.loopearplugs.com/blogs/blog/tinnitus-does-it-ever-truly-go-away\u001b[0m\n",
      "\u001b[32m2024-08-13 12:42:37,776 - root - INFO - Adding new webpage: https://www.loopearplugs.com/blogs/blog/tinnitus-does-it-ever-truly-go-away\u001b[0m\n",
      "\u001b[32m2024-08-13 12:42:37,776 - root - INFO - Adding new webpage: https://www.loopearplugs.com/blogs/blog/tinnitus-does-it-ever-truly-go-away\u001b[0m\n",
      "\u001b[32m2024-08-13 12:42:37,776 - root - INFO - Adding new webpage: https://www.loopearplugs.com/blogs/blog/tinnitus-does-it-ever-truly-go-away\u001b[0m\n",
      "\u001b[32m2024-08-13 12:42:37,776 - root - INFO - Adding new webpage: https://www.loopearplugs.com/blogs/blog/tinnitus-does-it-ever-truly-go-away\u001b[0m\n"
     ]
    },
    {
     "name": "stdout",
     "output_type": "stream",
     "text": [
      "Added new webpage: https://www.loopearplugs.com/blogs/blog/tinnitus-does-it-ever-truly-go-away\n"
     ]
    },
    {
     "name": "stderr",
     "output_type": "stream",
     "text": [
      "\u001b[33m2024-08-13 12:42:39,129 - trafilatura.xml - WARNING - empty link:  {'target': 'https://www.loopearplugs.com/?utm_source=loopearplugs-blog&utm_medium=forum&utm_campaign=music-personalities'}\u001b[0m\n",
      "\u001b[33m2024-08-13 12:42:39,129 - trafilatura.xml - WARNING - empty link:  {'target': 'https://www.loopearplugs.com/?utm_source=loopearplugs-blog&utm_medium=forum&utm_campaign=music-personalities'}\u001b[0m\n",
      "\u001b[33m2024-08-13 12:42:39,129 - trafilatura.xml - WARNING - empty link:  {'target': 'https://www.loopearplugs.com/?utm_source=loopearplugs-blog&utm_medium=forum&utm_campaign=music-personalities'}\u001b[0m\n",
      "\u001b[33m2024-08-13 12:42:39,129 - trafilatura.xml - WARNING - empty link:  {'target': 'https://www.loopearplugs.com/?utm_source=loopearplugs-blog&utm_medium=forum&utm_campaign=music-personalities'}\u001b[0m\n",
      "\u001b[33m2024-08-13 12:42:39,129 - trafilatura.xml - WARNING - empty link:  {'target': 'https://www.loopearplugs.com/?utm_source=loopearplugs-blog&utm_medium=forum&utm_campaign=music-personalities'}\u001b[0m\n",
      "\u001b[33m2024-08-13 12:42:39,129 - trafilatura.xml - WARNING - empty link:  {'target': 'https://www.loopearplugs.com/?utm_source=loopearplugs-blog&utm_medium=forum&utm_campaign=music-personalities'}\u001b[0m\n",
      "\u001b[32m2024-08-13 12:42:39,132 - root - INFO - Adding new webpage: https://www.loopearplugs.com/blogs/blog/music-genres-personality-type\u001b[0m\n",
      "\u001b[32m2024-08-13 12:42:39,132 - root - INFO - Adding new webpage: https://www.loopearplugs.com/blogs/blog/music-genres-personality-type\u001b[0m\n",
      "\u001b[32m2024-08-13 12:42:39,132 - root - INFO - Adding new webpage: https://www.loopearplugs.com/blogs/blog/music-genres-personality-type\u001b[0m\n",
      "\u001b[32m2024-08-13 12:42:39,132 - root - INFO - Adding new webpage: https://www.loopearplugs.com/blogs/blog/music-genres-personality-type\u001b[0m\n",
      "\u001b[32m2024-08-13 12:42:39,132 - root - INFO - Adding new webpage: https://www.loopearplugs.com/blogs/blog/music-genres-personality-type\u001b[0m\n",
      "\u001b[32m2024-08-13 12:42:39,132 - root - INFO - Adding new webpage: https://www.loopearplugs.com/blogs/blog/music-genres-personality-type\u001b[0m\n"
     ]
    },
    {
     "name": "stdout",
     "output_type": "stream",
     "text": [
      "Added new webpage: https://www.loopearplugs.com/blogs/blog/music-genres-personality-type\n"
     ]
    },
    {
     "name": "stderr",
     "output_type": "stream",
     "text": [
      "\u001b[32m2024-08-13 12:42:40,552 - root - INFO - Adding new webpage: https://www.loopearplugs.com/blogs/blog/ready-for-the-night-of-your-life-our-ultimate-clubbing-guide-will-show-you-how\u001b[0m\n",
      "\u001b[32m2024-08-13 12:42:40,552 - root - INFO - Adding new webpage: https://www.loopearplugs.com/blogs/blog/ready-for-the-night-of-your-life-our-ultimate-clubbing-guide-will-show-you-how\u001b[0m\n",
      "\u001b[32m2024-08-13 12:42:40,552 - root - INFO - Adding new webpage: https://www.loopearplugs.com/blogs/blog/ready-for-the-night-of-your-life-our-ultimate-clubbing-guide-will-show-you-how\u001b[0m\n",
      "\u001b[32m2024-08-13 12:42:40,552 - root - INFO - Adding new webpage: https://www.loopearplugs.com/blogs/blog/ready-for-the-night-of-your-life-our-ultimate-clubbing-guide-will-show-you-how\u001b[0m\n",
      "\u001b[32m2024-08-13 12:42:40,552 - root - INFO - Adding new webpage: https://www.loopearplugs.com/blogs/blog/ready-for-the-night-of-your-life-our-ultimate-clubbing-guide-will-show-you-how\u001b[0m\n",
      "\u001b[32m2024-08-13 12:42:40,552 - root - INFO - Adding new webpage: https://www.loopearplugs.com/blogs/blog/ready-for-the-night-of-your-life-our-ultimate-clubbing-guide-will-show-you-how\u001b[0m\n"
     ]
    },
    {
     "name": "stdout",
     "output_type": "stream",
     "text": [
      "Added new webpage: https://www.loopearplugs.com/blogs/blog/ready-for-the-night-of-your-life-our-ultimate-clubbing-guide-will-show-you-how\n"
     ]
    },
    {
     "name": "stderr",
     "output_type": "stream",
     "text": [
      "\u001b[32m2024-08-13 12:42:42,045 - root - INFO - Adding new webpage: https://www.loopearplugs.com/blogs/blog/why-are-motorcycles-so-loud\u001b[0m\n",
      "\u001b[32m2024-08-13 12:42:42,045 - root - INFO - Adding new webpage: https://www.loopearplugs.com/blogs/blog/why-are-motorcycles-so-loud\u001b[0m\n",
      "\u001b[32m2024-08-13 12:42:42,045 - root - INFO - Adding new webpage: https://www.loopearplugs.com/blogs/blog/why-are-motorcycles-so-loud\u001b[0m\n",
      "\u001b[32m2024-08-13 12:42:42,045 - root - INFO - Adding new webpage: https://www.loopearplugs.com/blogs/blog/why-are-motorcycles-so-loud\u001b[0m\n",
      "\u001b[32m2024-08-13 12:42:42,045 - root - INFO - Adding new webpage: https://www.loopearplugs.com/blogs/blog/why-are-motorcycles-so-loud\u001b[0m\n",
      "\u001b[32m2024-08-13 12:42:42,045 - root - INFO - Adding new webpage: https://www.loopearplugs.com/blogs/blog/why-are-motorcycles-so-loud\u001b[0m\n"
     ]
    },
    {
     "name": "stdout",
     "output_type": "stream",
     "text": [
      "Added new webpage: https://www.loopearplugs.com/blogs/blog/why-are-motorcycles-so-loud\n"
     ]
    },
    {
     "name": "stderr",
     "output_type": "stream",
     "text": [
      "\u001b[32m2024-08-13 12:42:43,595 - root - INFO - Adding new webpage: https://www.loopearplugs.com/blogs/blog/parents-and-sleep-deprivation-our-top-tips-for-survival\u001b[0m\n",
      "\u001b[32m2024-08-13 12:42:43,595 - root - INFO - Adding new webpage: https://www.loopearplugs.com/blogs/blog/parents-and-sleep-deprivation-our-top-tips-for-survival\u001b[0m\n",
      "\u001b[32m2024-08-13 12:42:43,595 - root - INFO - Adding new webpage: https://www.loopearplugs.com/blogs/blog/parents-and-sleep-deprivation-our-top-tips-for-survival\u001b[0m\n",
      "\u001b[32m2024-08-13 12:42:43,595 - root - INFO - Adding new webpage: https://www.loopearplugs.com/blogs/blog/parents-and-sleep-deprivation-our-top-tips-for-survival\u001b[0m\n",
      "\u001b[32m2024-08-13 12:42:43,595 - root - INFO - Adding new webpage: https://www.loopearplugs.com/blogs/blog/parents-and-sleep-deprivation-our-top-tips-for-survival\u001b[0m\n",
      "\u001b[32m2024-08-13 12:42:43,595 - root - INFO - Adding new webpage: https://www.loopearplugs.com/blogs/blog/parents-and-sleep-deprivation-our-top-tips-for-survival\u001b[0m\n"
     ]
    },
    {
     "name": "stdout",
     "output_type": "stream",
     "text": [
      "Added new webpage: https://www.loopearplugs.com/blogs/blog/parents-and-sleep-deprivation-our-top-tips-for-survival\n"
     ]
    },
    {
     "name": "stderr",
     "output_type": "stream",
     "text": [
      "\u001b[32m2024-08-13 12:42:45,109 - root - INFO - Adding new webpage: https://www.loopearplugs.com/blogs/life-at-loop/the-reality-of-a-workaway\u001b[0m\n",
      "\u001b[32m2024-08-13 12:42:45,109 - root - INFO - Adding new webpage: https://www.loopearplugs.com/blogs/life-at-loop/the-reality-of-a-workaway\u001b[0m\n",
      "\u001b[32m2024-08-13 12:42:45,109 - root - INFO - Adding new webpage: https://www.loopearplugs.com/blogs/life-at-loop/the-reality-of-a-workaway\u001b[0m\n",
      "\u001b[32m2024-08-13 12:42:45,109 - root - INFO - Adding new webpage: https://www.loopearplugs.com/blogs/life-at-loop/the-reality-of-a-workaway\u001b[0m\n",
      "\u001b[32m2024-08-13 12:42:45,109 - root - INFO - Adding new webpage: https://www.loopearplugs.com/blogs/life-at-loop/the-reality-of-a-workaway\u001b[0m\n",
      "\u001b[32m2024-08-13 12:42:45,109 - root - INFO - Adding new webpage: https://www.loopearplugs.com/blogs/life-at-loop/the-reality-of-a-workaway\u001b[0m\n"
     ]
    },
    {
     "name": "stdout",
     "output_type": "stream",
     "text": [
      "Added new webpage: https://www.loopearplugs.com/blogs/life-at-loop/the-reality-of-a-workaway\n"
     ]
    },
    {
     "name": "stderr",
     "output_type": "stream",
     "text": [
      "\u001b[32m2024-08-13 12:42:46,696 - root - INFO - Adding new webpage: https://www.loopearplugs.com/blogs/blog/loop-elements-edition\u001b[0m\n",
      "\u001b[32m2024-08-13 12:42:46,696 - root - INFO - Adding new webpage: https://www.loopearplugs.com/blogs/blog/loop-elements-edition\u001b[0m\n",
      "\u001b[32m2024-08-13 12:42:46,696 - root - INFO - Adding new webpage: https://www.loopearplugs.com/blogs/blog/loop-elements-edition\u001b[0m\n",
      "\u001b[32m2024-08-13 12:42:46,696 - root - INFO - Adding new webpage: https://www.loopearplugs.com/blogs/blog/loop-elements-edition\u001b[0m\n",
      "\u001b[32m2024-08-13 12:42:46,696 - root - INFO - Adding new webpage: https://www.loopearplugs.com/blogs/blog/loop-elements-edition\u001b[0m\n",
      "\u001b[32m2024-08-13 12:42:46,696 - root - INFO - Adding new webpage: https://www.loopearplugs.com/blogs/blog/loop-elements-edition\u001b[0m\n"
     ]
    },
    {
     "name": "stdout",
     "output_type": "stream",
     "text": [
      "Added new webpage: https://www.loopearplugs.com/blogs/blog/loop-elements-edition\n"
     ]
    },
    {
     "name": "stderr",
     "output_type": "stream",
     "text": [
      "\u001b[32m2024-08-13 12:42:48,283 - root - INFO - Adding new webpage: https://www.loopearplugs.com/blogs/blog/kinetic-seasonal-collection\u001b[0m\n",
      "\u001b[32m2024-08-13 12:42:48,283 - root - INFO - Adding new webpage: https://www.loopearplugs.com/blogs/blog/kinetic-seasonal-collection\u001b[0m\n",
      "\u001b[32m2024-08-13 12:42:48,283 - root - INFO - Adding new webpage: https://www.loopearplugs.com/blogs/blog/kinetic-seasonal-collection\u001b[0m\n",
      "\u001b[32m2024-08-13 12:42:48,283 - root - INFO - Adding new webpage: https://www.loopearplugs.com/blogs/blog/kinetic-seasonal-collection\u001b[0m\n",
      "\u001b[32m2024-08-13 12:42:48,283 - root - INFO - Adding new webpage: https://www.loopearplugs.com/blogs/blog/kinetic-seasonal-collection\u001b[0m\n",
      "\u001b[32m2024-08-13 12:42:48,283 - root - INFO - Adding new webpage: https://www.loopearplugs.com/blogs/blog/kinetic-seasonal-collection\u001b[0m\n"
     ]
    },
    {
     "name": "stdout",
     "output_type": "stream",
     "text": [
      "Added new webpage: https://www.loopearplugs.com/blogs/blog/kinetic-seasonal-collection\n"
     ]
    },
    {
     "name": "stderr",
     "output_type": "stream",
     "text": [
      "\u001b[32m2024-08-13 12:42:49,736 - root - INFO - Adding new webpage: https://www.loopearplugs.com/blogs/blog/studying\u001b[0m\n",
      "\u001b[32m2024-08-13 12:42:49,736 - root - INFO - Adding new webpage: https://www.loopearplugs.com/blogs/blog/studying\u001b[0m\n",
      "\u001b[32m2024-08-13 12:42:49,736 - root - INFO - Adding new webpage: https://www.loopearplugs.com/blogs/blog/studying\u001b[0m\n",
      "\u001b[32m2024-08-13 12:42:49,736 - root - INFO - Adding new webpage: https://www.loopearplugs.com/blogs/blog/studying\u001b[0m\n",
      "\u001b[32m2024-08-13 12:42:49,736 - root - INFO - Adding new webpage: https://www.loopearplugs.com/blogs/blog/studying\u001b[0m\n",
      "\u001b[32m2024-08-13 12:42:49,736 - root - INFO - Adding new webpage: https://www.loopearplugs.com/blogs/blog/studying\u001b[0m\n"
     ]
    },
    {
     "name": "stdout",
     "output_type": "stream",
     "text": [
      "Added new webpage: https://www.loopearplugs.com/blogs/blog/studying\n"
     ]
    },
    {
     "name": "stderr",
     "output_type": "stream",
     "text": [
      "\u001b[32m2024-08-13 12:42:50,966 - root - INFO - Adding new webpage: https://www.loopearplugs.com/blogs/life-at-loop/our-marketing-vision-at-loop\u001b[0m\n",
      "\u001b[32m2024-08-13 12:42:50,966 - root - INFO - Adding new webpage: https://www.loopearplugs.com/blogs/life-at-loop/our-marketing-vision-at-loop\u001b[0m\n",
      "\u001b[32m2024-08-13 12:42:50,966 - root - INFO - Adding new webpage: https://www.loopearplugs.com/blogs/life-at-loop/our-marketing-vision-at-loop\u001b[0m\n",
      "\u001b[32m2024-08-13 12:42:50,966 - root - INFO - Adding new webpage: https://www.loopearplugs.com/blogs/life-at-loop/our-marketing-vision-at-loop\u001b[0m\n",
      "\u001b[32m2024-08-13 12:42:50,966 - root - INFO - Adding new webpage: https://www.loopearplugs.com/blogs/life-at-loop/our-marketing-vision-at-loop\u001b[0m\n",
      "\u001b[32m2024-08-13 12:42:50,966 - root - INFO - Adding new webpage: https://www.loopearplugs.com/blogs/life-at-loop/our-marketing-vision-at-loop\u001b[0m\n"
     ]
    },
    {
     "name": "stdout",
     "output_type": "stream",
     "text": [
      "Added new webpage: https://www.loopearplugs.com/blogs/life-at-loop/our-marketing-vision-at-loop\n"
     ]
    },
    {
     "name": "stderr",
     "output_type": "stream",
     "text": [
      "\u001b[33m2024-08-13 12:42:52,458 - trafilatura.xml - WARNING - missing link attribute: View full details {}'\u001b[0m\n",
      "\u001b[33m2024-08-13 12:42:52,458 - trafilatura.xml - WARNING - missing link attribute: View full details {}'\u001b[0m\n",
      "\u001b[33m2024-08-13 12:42:52,458 - trafilatura.xml - WARNING - missing link attribute: View full details {}'\u001b[0m\n",
      "\u001b[33m2024-08-13 12:42:52,458 - trafilatura.xml - WARNING - missing link attribute: View full details {}'\u001b[0m\n",
      "\u001b[33m2024-08-13 12:42:52,458 - trafilatura.xml - WARNING - missing link attribute: View full details {}'\u001b[0m\n",
      "\u001b[33m2024-08-13 12:42:52,458 - trafilatura.xml - WARNING - missing link attribute: View full details {}'\u001b[0m\n",
      "\u001b[32m2024-08-13 12:42:52,460 - root - INFO - Adding new webpage: https://www.loopearplugs.com/blogs/blog/hearing-protection-tips-for-musicians\u001b[0m\n",
      "\u001b[32m2024-08-13 12:42:52,460 - root - INFO - Adding new webpage: https://www.loopearplugs.com/blogs/blog/hearing-protection-tips-for-musicians\u001b[0m\n",
      "\u001b[32m2024-08-13 12:42:52,460 - root - INFO - Adding new webpage: https://www.loopearplugs.com/blogs/blog/hearing-protection-tips-for-musicians\u001b[0m\n",
      "\u001b[32m2024-08-13 12:42:52,460 - root - INFO - Adding new webpage: https://www.loopearplugs.com/blogs/blog/hearing-protection-tips-for-musicians\u001b[0m\n",
      "\u001b[32m2024-08-13 12:42:52,460 - root - INFO - Adding new webpage: https://www.loopearplugs.com/blogs/blog/hearing-protection-tips-for-musicians\u001b[0m\n",
      "\u001b[32m2024-08-13 12:42:52,460 - root - INFO - Adding new webpage: https://www.loopearplugs.com/blogs/blog/hearing-protection-tips-for-musicians\u001b[0m\n"
     ]
    },
    {
     "name": "stdout",
     "output_type": "stream",
     "text": [
      "Added new webpage: https://www.loopearplugs.com/blogs/blog/hearing-protection-tips-for-musicians\n"
     ]
    },
    {
     "name": "stderr",
     "output_type": "stream",
     "text": [
      "\u001b[32m2024-08-13 12:42:53,986 - root - INFO - Adding new webpage: https://www.loopearplugs.com/blogs/blog/noise-cancelling\u001b[0m\n",
      "\u001b[32m2024-08-13 12:42:53,986 - root - INFO - Adding new webpage: https://www.loopearplugs.com/blogs/blog/noise-cancelling\u001b[0m\n",
      "\u001b[32m2024-08-13 12:42:53,986 - root - INFO - Adding new webpage: https://www.loopearplugs.com/blogs/blog/noise-cancelling\u001b[0m\n",
      "\u001b[32m2024-08-13 12:42:53,986 - root - INFO - Adding new webpage: https://www.loopearplugs.com/blogs/blog/noise-cancelling\u001b[0m\n",
      "\u001b[32m2024-08-13 12:42:53,986 - root - INFO - Adding new webpage: https://www.loopearplugs.com/blogs/blog/noise-cancelling\u001b[0m\n",
      "\u001b[32m2024-08-13 12:42:53,986 - root - INFO - Adding new webpage: https://www.loopearplugs.com/blogs/blog/noise-cancelling\u001b[0m\n"
     ]
    },
    {
     "name": "stdout",
     "output_type": "stream",
     "text": [
      "Added new webpage: https://www.loopearplugs.com/blogs/blog/noise-cancelling\n"
     ]
    },
    {
     "name": "stderr",
     "output_type": "stream",
     "text": [
      "\u001b[32m2024-08-13 12:42:55,625 - root - INFO - Adding new webpage: https://www.loopearplugs.com/blogs/blog/what-is-tinnitus\u001b[0m\n",
      "\u001b[32m2024-08-13 12:42:55,625 - root - INFO - Adding new webpage: https://www.loopearplugs.com/blogs/blog/what-is-tinnitus\u001b[0m\n",
      "\u001b[32m2024-08-13 12:42:55,625 - root - INFO - Adding new webpage: https://www.loopearplugs.com/blogs/blog/what-is-tinnitus\u001b[0m\n",
      "\u001b[32m2024-08-13 12:42:55,625 - root - INFO - Adding new webpage: https://www.loopearplugs.com/blogs/blog/what-is-tinnitus\u001b[0m\n",
      "\u001b[32m2024-08-13 12:42:55,625 - root - INFO - Adding new webpage: https://www.loopearplugs.com/blogs/blog/what-is-tinnitus\u001b[0m\n",
      "\u001b[32m2024-08-13 12:42:55,625 - root - INFO - Adding new webpage: https://www.loopearplugs.com/blogs/blog/what-is-tinnitus\u001b[0m\n"
     ]
    },
    {
     "name": "stdout",
     "output_type": "stream",
     "text": [
      "Added new webpage: https://www.loopearplugs.com/blogs/blog/what-is-tinnitus\n"
     ]
    },
    {
     "name": "stderr",
     "output_type": "stream",
     "text": [
      "\u001b[32m2024-08-13 12:42:56,999 - root - INFO - Adding new webpage: https://www.loopearplugs.com/blogs/blog/introducing-loop-engage-kids\u001b[0m\n",
      "\u001b[32m2024-08-13 12:42:56,999 - root - INFO - Adding new webpage: https://www.loopearplugs.com/blogs/blog/introducing-loop-engage-kids\u001b[0m\n",
      "\u001b[32m2024-08-13 12:42:56,999 - root - INFO - Adding new webpage: https://www.loopearplugs.com/blogs/blog/introducing-loop-engage-kids\u001b[0m\n",
      "\u001b[32m2024-08-13 12:42:56,999 - root - INFO - Adding new webpage: https://www.loopearplugs.com/blogs/blog/introducing-loop-engage-kids\u001b[0m\n",
      "\u001b[32m2024-08-13 12:42:56,999 - root - INFO - Adding new webpage: https://www.loopearplugs.com/blogs/blog/introducing-loop-engage-kids\u001b[0m\n",
      "\u001b[32m2024-08-13 12:42:56,999 - root - INFO - Adding new webpage: https://www.loopearplugs.com/blogs/blog/introducing-loop-engage-kids\u001b[0m\n"
     ]
    },
    {
     "name": "stdout",
     "output_type": "stream",
     "text": [
      "Added new webpage: https://www.loopearplugs.com/blogs/blog/introducing-loop-engage-kids\n"
     ]
    },
    {
     "name": "stderr",
     "output_type": "stream",
     "text": [
      "\u001b[32m2024-08-13 12:42:58,687 - root - INFO - Adding new webpage: https://www.loopearplugs.com/blogs/blog/tinnitus\u001b[0m\n",
      "\u001b[32m2024-08-13 12:42:58,687 - root - INFO - Adding new webpage: https://www.loopearplugs.com/blogs/blog/tinnitus\u001b[0m\n",
      "\u001b[32m2024-08-13 12:42:58,687 - root - INFO - Adding new webpage: https://www.loopearplugs.com/blogs/blog/tinnitus\u001b[0m\n",
      "\u001b[32m2024-08-13 12:42:58,687 - root - INFO - Adding new webpage: https://www.loopearplugs.com/blogs/blog/tinnitus\u001b[0m\n",
      "\u001b[32m2024-08-13 12:42:58,687 - root - INFO - Adding new webpage: https://www.loopearplugs.com/blogs/blog/tinnitus\u001b[0m\n",
      "\u001b[32m2024-08-13 12:42:58,687 - root - INFO - Adding new webpage: https://www.loopearplugs.com/blogs/blog/tinnitus\u001b[0m\n"
     ]
    },
    {
     "name": "stdout",
     "output_type": "stream",
     "text": [
      "Added new webpage: https://www.loopearplugs.com/blogs/blog/tinnitus\n"
     ]
    },
    {
     "name": "stderr",
     "output_type": "stream",
     "text": [
      "\u001b[32m2024-08-13 12:43:00,057 - root - INFO - Adding new webpage: https://www.loopearplugs.com/blogs/blog/guide-to-mens-rave-outfits\u001b[0m\n",
      "\u001b[32m2024-08-13 12:43:00,057 - root - INFO - Adding new webpage: https://www.loopearplugs.com/blogs/blog/guide-to-mens-rave-outfits\u001b[0m\n",
      "\u001b[32m2024-08-13 12:43:00,057 - root - INFO - Adding new webpage: https://www.loopearplugs.com/blogs/blog/guide-to-mens-rave-outfits\u001b[0m\n",
      "\u001b[32m2024-08-13 12:43:00,057 - root - INFO - Adding new webpage: https://www.loopearplugs.com/blogs/blog/guide-to-mens-rave-outfits\u001b[0m\n",
      "\u001b[32m2024-08-13 12:43:00,057 - root - INFO - Adding new webpage: https://www.loopearplugs.com/blogs/blog/guide-to-mens-rave-outfits\u001b[0m\n",
      "\u001b[32m2024-08-13 12:43:00,057 - root - INFO - Adding new webpage: https://www.loopearplugs.com/blogs/blog/guide-to-mens-rave-outfits\u001b[0m\n"
     ]
    },
    {
     "name": "stdout",
     "output_type": "stream",
     "text": [
      "Added new webpage: https://www.loopearplugs.com/blogs/blog/guide-to-mens-rave-outfits\n"
     ]
    },
    {
     "name": "stderr",
     "output_type": "stream",
     "text": [
      "\u001b[32m2024-08-13 12:43:01,502 - root - INFO - Adding new webpage: https://www.loopearplugs.com/blogs/life-at-loop/tips-for-giving-tips\u001b[0m\n",
      "\u001b[32m2024-08-13 12:43:01,502 - root - INFO - Adding new webpage: https://www.loopearplugs.com/blogs/life-at-loop/tips-for-giving-tips\u001b[0m\n",
      "\u001b[32m2024-08-13 12:43:01,502 - root - INFO - Adding new webpage: https://www.loopearplugs.com/blogs/life-at-loop/tips-for-giving-tips\u001b[0m\n",
      "\u001b[32m2024-08-13 12:43:01,502 - root - INFO - Adding new webpage: https://www.loopearplugs.com/blogs/life-at-loop/tips-for-giving-tips\u001b[0m\n",
      "\u001b[32m2024-08-13 12:43:01,502 - root - INFO - Adding new webpage: https://www.loopearplugs.com/blogs/life-at-loop/tips-for-giving-tips\u001b[0m\n",
      "\u001b[32m2024-08-13 12:43:01,502 - root - INFO - Adding new webpage: https://www.loopearplugs.com/blogs/life-at-loop/tips-for-giving-tips\u001b[0m\n"
     ]
    },
    {
     "name": "stdout",
     "output_type": "stream",
     "text": [
      "Added new webpage: https://www.loopearplugs.com/blogs/life-at-loop/tips-for-giving-tips\n"
     ]
    },
    {
     "name": "stderr",
     "output_type": "stream",
     "text": [
      "\u001b[32m2024-08-13 12:43:03,007 - root - INFO - Adding new webpage: https://www.loopearplugs.com/blogs/blog/sensory-overload\u001b[0m\n",
      "\u001b[32m2024-08-13 12:43:03,007 - root - INFO - Adding new webpage: https://www.loopearplugs.com/blogs/blog/sensory-overload\u001b[0m\n",
      "\u001b[32m2024-08-13 12:43:03,007 - root - INFO - Adding new webpage: https://www.loopearplugs.com/blogs/blog/sensory-overload\u001b[0m\n",
      "\u001b[32m2024-08-13 12:43:03,007 - root - INFO - Adding new webpage: https://www.loopearplugs.com/blogs/blog/sensory-overload\u001b[0m\n",
      "\u001b[32m2024-08-13 12:43:03,007 - root - INFO - Adding new webpage: https://www.loopearplugs.com/blogs/blog/sensory-overload\u001b[0m\n",
      "\u001b[32m2024-08-13 12:43:03,007 - root - INFO - Adding new webpage: https://www.loopearplugs.com/blogs/blog/sensory-overload\u001b[0m\n"
     ]
    },
    {
     "name": "stdout",
     "output_type": "stream",
     "text": [
      "Added new webpage: https://www.loopearplugs.com/blogs/blog/sensory-overload\n"
     ]
    },
    {
     "name": "stderr",
     "output_type": "stream",
     "text": [
      "\u001b[32m2024-08-13 12:43:04,515 - root - INFO - Adding new webpage: https://www.loopearplugs.com/blogs/life-at-loop/looper-story-meet-tiemen\u001b[0m\n",
      "\u001b[32m2024-08-13 12:43:04,515 - root - INFO - Adding new webpage: https://www.loopearplugs.com/blogs/life-at-loop/looper-story-meet-tiemen\u001b[0m\n",
      "\u001b[32m2024-08-13 12:43:04,515 - root - INFO - Adding new webpage: https://www.loopearplugs.com/blogs/life-at-loop/looper-story-meet-tiemen\u001b[0m\n",
      "\u001b[32m2024-08-13 12:43:04,515 - root - INFO - Adding new webpage: https://www.loopearplugs.com/blogs/life-at-loop/looper-story-meet-tiemen\u001b[0m\n",
      "\u001b[32m2024-08-13 12:43:04,515 - root - INFO - Adding new webpage: https://www.loopearplugs.com/blogs/life-at-loop/looper-story-meet-tiemen\u001b[0m\n",
      "\u001b[32m2024-08-13 12:43:04,515 - root - INFO - Adding new webpage: https://www.loopearplugs.com/blogs/life-at-loop/looper-story-meet-tiemen\u001b[0m\n"
     ]
    },
    {
     "name": "stdout",
     "output_type": "stream",
     "text": [
      "Added new webpage: https://www.loopearplugs.com/blogs/life-at-loop/looper-story-meet-tiemen\n"
     ]
    },
    {
     "name": "stderr",
     "output_type": "stream",
     "text": [
      "\u001b[32m2024-08-13 12:43:06,362 - root - INFO - Adding new webpage: https://www.loopearplugs.com/blogs/blog/how-to-identify-if-you-have-hearing-loss-caused-by-loud-noise\u001b[0m\n",
      "\u001b[32m2024-08-13 12:43:06,362 - root - INFO - Adding new webpage: https://www.loopearplugs.com/blogs/blog/how-to-identify-if-you-have-hearing-loss-caused-by-loud-noise\u001b[0m\n",
      "\u001b[32m2024-08-13 12:43:06,362 - root - INFO - Adding new webpage: https://www.loopearplugs.com/blogs/blog/how-to-identify-if-you-have-hearing-loss-caused-by-loud-noise\u001b[0m\n",
      "\u001b[32m2024-08-13 12:43:06,362 - root - INFO - Adding new webpage: https://www.loopearplugs.com/blogs/blog/how-to-identify-if-you-have-hearing-loss-caused-by-loud-noise\u001b[0m\n",
      "\u001b[32m2024-08-13 12:43:06,362 - root - INFO - Adding new webpage: https://www.loopearplugs.com/blogs/blog/how-to-identify-if-you-have-hearing-loss-caused-by-loud-noise\u001b[0m\n",
      "\u001b[32m2024-08-13 12:43:06,362 - root - INFO - Adding new webpage: https://www.loopearplugs.com/blogs/blog/how-to-identify-if-you-have-hearing-loss-caused-by-loud-noise\u001b[0m\n"
     ]
    },
    {
     "name": "stdout",
     "output_type": "stream",
     "text": [
      "Added new webpage: https://www.loopearplugs.com/blogs/blog/how-to-identify-if-you-have-hearing-loss-caused-by-loud-noise\n"
     ]
    },
    {
     "name": "stderr",
     "output_type": "stream",
     "text": [
      "\u001b[32m2024-08-13 12:43:08,338 - root - INFO - Adding new webpage: https://www.loopearplugs.com/blogs/blog/sound-sensitivities-in-autistic-children-how-best-to-understand-and-support\u001b[0m\n",
      "\u001b[32m2024-08-13 12:43:08,338 - root - INFO - Adding new webpage: https://www.loopearplugs.com/blogs/blog/sound-sensitivities-in-autistic-children-how-best-to-understand-and-support\u001b[0m\n",
      "\u001b[32m2024-08-13 12:43:08,338 - root - INFO - Adding new webpage: https://www.loopearplugs.com/blogs/blog/sound-sensitivities-in-autistic-children-how-best-to-understand-and-support\u001b[0m\n",
      "\u001b[32m2024-08-13 12:43:08,338 - root - INFO - Adding new webpage: https://www.loopearplugs.com/blogs/blog/sound-sensitivities-in-autistic-children-how-best-to-understand-and-support\u001b[0m\n",
      "\u001b[32m2024-08-13 12:43:08,338 - root - INFO - Adding new webpage: https://www.loopearplugs.com/blogs/blog/sound-sensitivities-in-autistic-children-how-best-to-understand-and-support\u001b[0m\n",
      "\u001b[32m2024-08-13 12:43:08,338 - root - INFO - Adding new webpage: https://www.loopearplugs.com/blogs/blog/sound-sensitivities-in-autistic-children-how-best-to-understand-and-support\u001b[0m\n"
     ]
    },
    {
     "name": "stdout",
     "output_type": "stream",
     "text": [
      "Added new webpage: https://www.loopearplugs.com/blogs/blog/sound-sensitivities-in-autistic-children-how-best-to-understand-and-support\n"
     ]
    },
    {
     "name": "stderr",
     "output_type": "stream",
     "text": [
      "\u001b[32m2024-08-13 12:43:10,380 - root - INFO - Adding new webpage: https://www.loopearplugs.com/blogs/blog/what-is-white-noise\u001b[0m\n",
      "\u001b[32m2024-08-13 12:43:10,380 - root - INFO - Adding new webpage: https://www.loopearplugs.com/blogs/blog/what-is-white-noise\u001b[0m\n",
      "\u001b[32m2024-08-13 12:43:10,380 - root - INFO - Adding new webpage: https://www.loopearplugs.com/blogs/blog/what-is-white-noise\u001b[0m\n",
      "\u001b[32m2024-08-13 12:43:10,380 - root - INFO - Adding new webpage: https://www.loopearplugs.com/blogs/blog/what-is-white-noise\u001b[0m\n",
      "\u001b[32m2024-08-13 12:43:10,380 - root - INFO - Adding new webpage: https://www.loopearplugs.com/blogs/blog/what-is-white-noise\u001b[0m\n",
      "\u001b[32m2024-08-13 12:43:10,380 - root - INFO - Adding new webpage: https://www.loopearplugs.com/blogs/blog/what-is-white-noise\u001b[0m\n"
     ]
    },
    {
     "name": "stdout",
     "output_type": "stream",
     "text": [
      "Added new webpage: https://www.loopearplugs.com/blogs/blog/what-is-white-noise\n"
     ]
    },
    {
     "name": "stderr",
     "output_type": "stream",
     "text": [
      "\u001b[32m2024-08-13 12:43:12,126 - root - INFO - Adding new webpage: https://www.loopearplugs.com/blogs/blog/concert-ready-tips-for-first-time-concertgoers\u001b[0m\n",
      "\u001b[32m2024-08-13 12:43:12,126 - root - INFO - Adding new webpage: https://www.loopearplugs.com/blogs/blog/concert-ready-tips-for-first-time-concertgoers\u001b[0m\n",
      "\u001b[32m2024-08-13 12:43:12,126 - root - INFO - Adding new webpage: https://www.loopearplugs.com/blogs/blog/concert-ready-tips-for-first-time-concertgoers\u001b[0m\n",
      "\u001b[32m2024-08-13 12:43:12,126 - root - INFO - Adding new webpage: https://www.loopearplugs.com/blogs/blog/concert-ready-tips-for-first-time-concertgoers\u001b[0m\n",
      "\u001b[32m2024-08-13 12:43:12,126 - root - INFO - Adding new webpage: https://www.loopearplugs.com/blogs/blog/concert-ready-tips-for-first-time-concertgoers\u001b[0m\n",
      "\u001b[32m2024-08-13 12:43:12,126 - root - INFO - Adding new webpage: https://www.loopearplugs.com/blogs/blog/concert-ready-tips-for-first-time-concertgoers\u001b[0m\n"
     ]
    },
    {
     "name": "stdout",
     "output_type": "stream",
     "text": [
      "Added new webpage: https://www.loopearplugs.com/blogs/blog/concert-ready-tips-for-first-time-concertgoers\n"
     ]
    },
    {
     "name": "stderr",
     "output_type": "stream",
     "text": [
      "\u001b[32m2024-08-13 12:43:13,476 - root - INFO - Adding new webpage: https://www.loopearplugs.com/blogs/life-at-loop/8-employees-2-questions-part-one\u001b[0m\n",
      "\u001b[32m2024-08-13 12:43:13,476 - root - INFO - Adding new webpage: https://www.loopearplugs.com/blogs/life-at-loop/8-employees-2-questions-part-one\u001b[0m\n",
      "\u001b[32m2024-08-13 12:43:13,476 - root - INFO - Adding new webpage: https://www.loopearplugs.com/blogs/life-at-loop/8-employees-2-questions-part-one\u001b[0m\n",
      "\u001b[32m2024-08-13 12:43:13,476 - root - INFO - Adding new webpage: https://www.loopearplugs.com/blogs/life-at-loop/8-employees-2-questions-part-one\u001b[0m\n",
      "\u001b[32m2024-08-13 12:43:13,476 - root - INFO - Adding new webpage: https://www.loopearplugs.com/blogs/life-at-loop/8-employees-2-questions-part-one\u001b[0m\n",
      "\u001b[32m2024-08-13 12:43:13,476 - root - INFO - Adding new webpage: https://www.loopearplugs.com/blogs/life-at-loop/8-employees-2-questions-part-one\u001b[0m\n"
     ]
    },
    {
     "name": "stdout",
     "output_type": "stream",
     "text": [
      "Added new webpage: https://www.loopearplugs.com/blogs/life-at-loop/8-employees-2-questions-part-one\n"
     ]
    },
    {
     "name": "stderr",
     "output_type": "stream",
     "text": [
      "\u001b[32m2024-08-13 12:43:15,209 - root - INFO - Adding new webpage: https://www.loopearplugs.com/blogs/blog/earplugs-better-sleep\u001b[0m\n",
      "\u001b[32m2024-08-13 12:43:15,209 - root - INFO - Adding new webpage: https://www.loopearplugs.com/blogs/blog/earplugs-better-sleep\u001b[0m\n",
      "\u001b[32m2024-08-13 12:43:15,209 - root - INFO - Adding new webpage: https://www.loopearplugs.com/blogs/blog/earplugs-better-sleep\u001b[0m\n",
      "\u001b[32m2024-08-13 12:43:15,209 - root - INFO - Adding new webpage: https://www.loopearplugs.com/blogs/blog/earplugs-better-sleep\u001b[0m\n",
      "\u001b[32m2024-08-13 12:43:15,209 - root - INFO - Adding new webpage: https://www.loopearplugs.com/blogs/blog/earplugs-better-sleep\u001b[0m\n",
      "\u001b[32m2024-08-13 12:43:15,209 - root - INFO - Adding new webpage: https://www.loopearplugs.com/blogs/blog/earplugs-better-sleep\u001b[0m\n"
     ]
    },
    {
     "name": "stdout",
     "output_type": "stream",
     "text": [
      "Added new webpage: https://www.loopearplugs.com/blogs/blog/earplugs-better-sleep\n"
     ]
    },
    {
     "name": "stderr",
     "output_type": "stream",
     "text": [
      "\u001b[32m2024-08-13 12:43:16,767 - root - INFO - Adding new webpage: https://www.loopearplugs.com/blogs/blog/how-to-cope-when-your-baby-won-t-stop-crying\u001b[0m\n",
      "\u001b[32m2024-08-13 12:43:16,767 - root - INFO - Adding new webpage: https://www.loopearplugs.com/blogs/blog/how-to-cope-when-your-baby-won-t-stop-crying\u001b[0m\n",
      "\u001b[32m2024-08-13 12:43:16,767 - root - INFO - Adding new webpage: https://www.loopearplugs.com/blogs/blog/how-to-cope-when-your-baby-won-t-stop-crying\u001b[0m\n",
      "\u001b[32m2024-08-13 12:43:16,767 - root - INFO - Adding new webpage: https://www.loopearplugs.com/blogs/blog/how-to-cope-when-your-baby-won-t-stop-crying\u001b[0m\n",
      "\u001b[32m2024-08-13 12:43:16,767 - root - INFO - Adding new webpage: https://www.loopearplugs.com/blogs/blog/how-to-cope-when-your-baby-won-t-stop-crying\u001b[0m\n",
      "\u001b[32m2024-08-13 12:43:16,767 - root - INFO - Adding new webpage: https://www.loopearplugs.com/blogs/blog/how-to-cope-when-your-baby-won-t-stop-crying\u001b[0m\n"
     ]
    },
    {
     "name": "stdout",
     "output_type": "stream",
     "text": [
      "Added new webpage: https://www.loopearplugs.com/blogs/blog/how-to-cope-when-your-baby-won-t-stop-crying\n"
     ]
    },
    {
     "name": "stderr",
     "output_type": "stream",
     "text": [
      "\u001b[32m2024-08-13 12:43:18,433 - root - INFO - Adding new webpage: https://www.loopearplugs.com/blogs/blog/how-to-stop-ringing-ears-after-a-concert\u001b[0m\n",
      "\u001b[32m2024-08-13 12:43:18,433 - root - INFO - Adding new webpage: https://www.loopearplugs.com/blogs/blog/how-to-stop-ringing-ears-after-a-concert\u001b[0m\n",
      "\u001b[32m2024-08-13 12:43:18,433 - root - INFO - Adding new webpage: https://www.loopearplugs.com/blogs/blog/how-to-stop-ringing-ears-after-a-concert\u001b[0m\n",
      "\u001b[32m2024-08-13 12:43:18,433 - root - INFO - Adding new webpage: https://www.loopearplugs.com/blogs/blog/how-to-stop-ringing-ears-after-a-concert\u001b[0m\n",
      "\u001b[32m2024-08-13 12:43:18,433 - root - INFO - Adding new webpage: https://www.loopearplugs.com/blogs/blog/how-to-stop-ringing-ears-after-a-concert\u001b[0m\n",
      "\u001b[32m2024-08-13 12:43:18,433 - root - INFO - Adding new webpage: https://www.loopearplugs.com/blogs/blog/how-to-stop-ringing-ears-after-a-concert\u001b[0m\n"
     ]
    },
    {
     "name": "stdout",
     "output_type": "stream",
     "text": [
      "Added new webpage: https://www.loopearplugs.com/blogs/blog/how-to-stop-ringing-ears-after-a-concert\n"
     ]
    },
    {
     "name": "stderr",
     "output_type": "stream",
     "text": [
      "\u001b[32m2024-08-13 12:43:20,164 - root - INFO - Adding new webpage: https://www.loopearplugs.com/blogs/blog/expert-tips-how-to-stay-focused-while-studying\u001b[0m\n",
      "\u001b[32m2024-08-13 12:43:20,164 - root - INFO - Adding new webpage: https://www.loopearplugs.com/blogs/blog/expert-tips-how-to-stay-focused-while-studying\u001b[0m\n",
      "\u001b[32m2024-08-13 12:43:20,164 - root - INFO - Adding new webpage: https://www.loopearplugs.com/blogs/blog/expert-tips-how-to-stay-focused-while-studying\u001b[0m\n",
      "\u001b[32m2024-08-13 12:43:20,164 - root - INFO - Adding new webpage: https://www.loopearplugs.com/blogs/blog/expert-tips-how-to-stay-focused-while-studying\u001b[0m\n",
      "\u001b[32m2024-08-13 12:43:20,164 - root - INFO - Adding new webpage: https://www.loopearplugs.com/blogs/blog/expert-tips-how-to-stay-focused-while-studying\u001b[0m\n",
      "\u001b[32m2024-08-13 12:43:20,164 - root - INFO - Adding new webpage: https://www.loopearplugs.com/blogs/blog/expert-tips-how-to-stay-focused-while-studying\u001b[0m\n"
     ]
    },
    {
     "name": "stdout",
     "output_type": "stream",
     "text": [
      "Added new webpage: https://www.loopearplugs.com/blogs/blog/expert-tips-how-to-stay-focused-while-studying\n"
     ]
    },
    {
     "name": "stderr",
     "output_type": "stream",
     "text": [
      "\u001b[32m2024-08-13 12:43:21,871 - root - INFO - Adding new webpage: https://www.loopearplugs.com/blogs/blog/how-to-handle-insomnia\u001b[0m\n",
      "\u001b[32m2024-08-13 12:43:21,871 - root - INFO - Adding new webpage: https://www.loopearplugs.com/blogs/blog/how-to-handle-insomnia\u001b[0m\n",
      "\u001b[32m2024-08-13 12:43:21,871 - root - INFO - Adding new webpage: https://www.loopearplugs.com/blogs/blog/how-to-handle-insomnia\u001b[0m\n",
      "\u001b[32m2024-08-13 12:43:21,871 - root - INFO - Adding new webpage: https://www.loopearplugs.com/blogs/blog/how-to-handle-insomnia\u001b[0m\n",
      "\u001b[32m2024-08-13 12:43:21,871 - root - INFO - Adding new webpage: https://www.loopearplugs.com/blogs/blog/how-to-handle-insomnia\u001b[0m\n",
      "\u001b[32m2024-08-13 12:43:21,871 - root - INFO - Adding new webpage: https://www.loopearplugs.com/blogs/blog/how-to-handle-insomnia\u001b[0m\n"
     ]
    },
    {
     "name": "stdout",
     "output_type": "stream",
     "text": [
      "Added new webpage: https://www.loopearplugs.com/blogs/blog/how-to-handle-insomnia\n"
     ]
    },
    {
     "name": "stderr",
     "output_type": "stream",
     "text": [
      "\u001b[32m2024-08-13 12:43:23,410 - root - INFO - Adding new webpage: https://www.loopearplugs.com/blogs/blog/how-to-sleep-comfortably-while-camping-at-a-festival\u001b[0m\n",
      "\u001b[32m2024-08-13 12:43:23,410 - root - INFO - Adding new webpage: https://www.loopearplugs.com/blogs/blog/how-to-sleep-comfortably-while-camping-at-a-festival\u001b[0m\n",
      "\u001b[32m2024-08-13 12:43:23,410 - root - INFO - Adding new webpage: https://www.loopearplugs.com/blogs/blog/how-to-sleep-comfortably-while-camping-at-a-festival\u001b[0m\n",
      "\u001b[32m2024-08-13 12:43:23,410 - root - INFO - Adding new webpage: https://www.loopearplugs.com/blogs/blog/how-to-sleep-comfortably-while-camping-at-a-festival\u001b[0m\n",
      "\u001b[32m2024-08-13 12:43:23,410 - root - INFO - Adding new webpage: https://www.loopearplugs.com/blogs/blog/how-to-sleep-comfortably-while-camping-at-a-festival\u001b[0m\n",
      "\u001b[32m2024-08-13 12:43:23,410 - root - INFO - Adding new webpage: https://www.loopearplugs.com/blogs/blog/how-to-sleep-comfortably-while-camping-at-a-festival\u001b[0m\n"
     ]
    },
    {
     "name": "stdout",
     "output_type": "stream",
     "text": [
      "Added new webpage: https://www.loopearplugs.com/blogs/blog/how-to-sleep-comfortably-while-camping-at-a-festival\n"
     ]
    },
    {
     "name": "stderr",
     "output_type": "stream",
     "text": [
      "\u001b[32m2024-08-13 12:43:24,954 - root - INFO - Adding new webpage: https://www.loopearplugs.com/blogs/blog/how-to-overcome-phonophobia\u001b[0m\n",
      "\u001b[32m2024-08-13 12:43:24,954 - root - INFO - Adding new webpage: https://www.loopearplugs.com/blogs/blog/how-to-overcome-phonophobia\u001b[0m\n",
      "\u001b[32m2024-08-13 12:43:24,954 - root - INFO - Adding new webpage: https://www.loopearplugs.com/blogs/blog/how-to-overcome-phonophobia\u001b[0m\n",
      "\u001b[32m2024-08-13 12:43:24,954 - root - INFO - Adding new webpage: https://www.loopearplugs.com/blogs/blog/how-to-overcome-phonophobia\u001b[0m\n",
      "\u001b[32m2024-08-13 12:43:24,954 - root - INFO - Adding new webpage: https://www.loopearplugs.com/blogs/blog/how-to-overcome-phonophobia\u001b[0m\n",
      "\u001b[32m2024-08-13 12:43:24,954 - root - INFO - Adding new webpage: https://www.loopearplugs.com/blogs/blog/how-to-overcome-phonophobia\u001b[0m\n"
     ]
    },
    {
     "name": "stdout",
     "output_type": "stream",
     "text": [
      "Added new webpage: https://www.loopearplugs.com/blogs/blog/how-to-overcome-phonophobia\n"
     ]
    },
    {
     "name": "stderr",
     "output_type": "stream",
     "text": [
      "\u001b[32m2024-08-13 12:43:26,061 - root - INFO - Adding new webpage: https://www.loopearplugs.com/blogs/blog/loop-redefines-how-an-earplug-should-perform-and-look-e2-80-af\u001b[0m\n",
      "\u001b[32m2024-08-13 12:43:26,061 - root - INFO - Adding new webpage: https://www.loopearplugs.com/blogs/blog/loop-redefines-how-an-earplug-should-perform-and-look-e2-80-af\u001b[0m\n",
      "\u001b[32m2024-08-13 12:43:26,061 - root - INFO - Adding new webpage: https://www.loopearplugs.com/blogs/blog/loop-redefines-how-an-earplug-should-perform-and-look-e2-80-af\u001b[0m\n",
      "\u001b[32m2024-08-13 12:43:26,061 - root - INFO - Adding new webpage: https://www.loopearplugs.com/blogs/blog/loop-redefines-how-an-earplug-should-perform-and-look-e2-80-af\u001b[0m\n",
      "\u001b[32m2024-08-13 12:43:26,061 - root - INFO - Adding new webpage: https://www.loopearplugs.com/blogs/blog/loop-redefines-how-an-earplug-should-perform-and-look-e2-80-af\u001b[0m\n",
      "\u001b[32m2024-08-13 12:43:26,061 - root - INFO - Adding new webpage: https://www.loopearplugs.com/blogs/blog/loop-redefines-how-an-earplug-should-perform-and-look-e2-80-af\u001b[0m\n"
     ]
    },
    {
     "name": "stdout",
     "output_type": "stream",
     "text": [
      "Added new webpage: https://www.loopearplugs.com/blogs/blog/loop-redefines-how-an-earplug-should-perform-and-look-e2-80-af\n"
     ]
    },
    {
     "name": "stderr",
     "output_type": "stream",
     "text": [
      "\u001b[32m2024-08-13 12:43:27,561 - root - INFO - Adding new webpage: https://www.loopearplugs.com/blogs/blog/the-ultimate-guide-to-raves\u001b[0m\n",
      "\u001b[32m2024-08-13 12:43:27,561 - root - INFO - Adding new webpage: https://www.loopearplugs.com/blogs/blog/the-ultimate-guide-to-raves\u001b[0m\n",
      "\u001b[32m2024-08-13 12:43:27,561 - root - INFO - Adding new webpage: https://www.loopearplugs.com/blogs/blog/the-ultimate-guide-to-raves\u001b[0m\n",
      "\u001b[32m2024-08-13 12:43:27,561 - root - INFO - Adding new webpage: https://www.loopearplugs.com/blogs/blog/the-ultimate-guide-to-raves\u001b[0m\n",
      "\u001b[32m2024-08-13 12:43:27,561 - root - INFO - Adding new webpage: https://www.loopearplugs.com/blogs/blog/the-ultimate-guide-to-raves\u001b[0m\n",
      "\u001b[32m2024-08-13 12:43:27,561 - root - INFO - Adding new webpage: https://www.loopearplugs.com/blogs/blog/the-ultimate-guide-to-raves\u001b[0m\n"
     ]
    },
    {
     "name": "stdout",
     "output_type": "stream",
     "text": [
      "Added new webpage: https://www.loopearplugs.com/blogs/blog/the-ultimate-guide-to-raves\n"
     ]
    },
    {
     "name": "stderr",
     "output_type": "stream",
     "text": [
      "\u001b[32m2024-08-13 12:43:29,027 - root - INFO - Adding new webpage: https://www.loopearplugs.com/blogs/blog/self-love-february\u001b[0m\n",
      "\u001b[32m2024-08-13 12:43:29,027 - root - INFO - Adding new webpage: https://www.loopearplugs.com/blogs/blog/self-love-february\u001b[0m\n",
      "\u001b[32m2024-08-13 12:43:29,027 - root - INFO - Adding new webpage: https://www.loopearplugs.com/blogs/blog/self-love-february\u001b[0m\n",
      "\u001b[32m2024-08-13 12:43:29,027 - root - INFO - Adding new webpage: https://www.loopearplugs.com/blogs/blog/self-love-february\u001b[0m\n",
      "\u001b[32m2024-08-13 12:43:29,027 - root - INFO - Adding new webpage: https://www.loopearplugs.com/blogs/blog/self-love-february\u001b[0m\n",
      "\u001b[32m2024-08-13 12:43:29,027 - root - INFO - Adding new webpage: https://www.loopearplugs.com/blogs/blog/self-love-february\u001b[0m\n"
     ]
    },
    {
     "name": "stdout",
     "output_type": "stream",
     "text": [
      "Added new webpage: https://www.loopearplugs.com/blogs/blog/self-love-february\n"
     ]
    },
    {
     "name": "stderr",
     "output_type": "stream",
     "text": [
      "\u001b[32m2024-08-13 12:43:30,507 - root - INFO - Adding new webpage: https://www.loopearplugs.com/blogs/blog/elevate-your-comfort-with-quiet-2\u001b[0m\n",
      "\u001b[32m2024-08-13 12:43:30,507 - root - INFO - Adding new webpage: https://www.loopearplugs.com/blogs/blog/elevate-your-comfort-with-quiet-2\u001b[0m\n",
      "\u001b[32m2024-08-13 12:43:30,507 - root - INFO - Adding new webpage: https://www.loopearplugs.com/blogs/blog/elevate-your-comfort-with-quiet-2\u001b[0m\n",
      "\u001b[32m2024-08-13 12:43:30,507 - root - INFO - Adding new webpage: https://www.loopearplugs.com/blogs/blog/elevate-your-comfort-with-quiet-2\u001b[0m\n",
      "\u001b[32m2024-08-13 12:43:30,507 - root - INFO - Adding new webpage: https://www.loopearplugs.com/blogs/blog/elevate-your-comfort-with-quiet-2\u001b[0m\n",
      "\u001b[32m2024-08-13 12:43:30,507 - root - INFO - Adding new webpage: https://www.loopearplugs.com/blogs/blog/elevate-your-comfort-with-quiet-2\u001b[0m\n"
     ]
    },
    {
     "name": "stdout",
     "output_type": "stream",
     "text": [
      "Added new webpage: https://www.loopearplugs.com/blogs/blog/elevate-your-comfort-with-quiet-2\n"
     ]
    },
    {
     "name": "stderr",
     "output_type": "stream",
     "text": [
      "\u001b[32m2024-08-13 12:43:32,026 - root - INFO - Adding new webpage: https://www.loopearplugs.com/blogs/blog/how-to-protect-your-ears-when-flying\u001b[0m\n",
      "\u001b[32m2024-08-13 12:43:32,026 - root - INFO - Adding new webpage: https://www.loopearplugs.com/blogs/blog/how-to-protect-your-ears-when-flying\u001b[0m\n",
      "\u001b[32m2024-08-13 12:43:32,026 - root - INFO - Adding new webpage: https://www.loopearplugs.com/blogs/blog/how-to-protect-your-ears-when-flying\u001b[0m\n",
      "\u001b[32m2024-08-13 12:43:32,026 - root - INFO - Adding new webpage: https://www.loopearplugs.com/blogs/blog/how-to-protect-your-ears-when-flying\u001b[0m\n",
      "\u001b[32m2024-08-13 12:43:32,026 - root - INFO - Adding new webpage: https://www.loopearplugs.com/blogs/blog/how-to-protect-your-ears-when-flying\u001b[0m\n",
      "\u001b[32m2024-08-13 12:43:32,026 - root - INFO - Adding new webpage: https://www.loopearplugs.com/blogs/blog/how-to-protect-your-ears-when-flying\u001b[0m\n"
     ]
    },
    {
     "name": "stdout",
     "output_type": "stream",
     "text": [
      "Added new webpage: https://www.loopearplugs.com/blogs/blog/how-to-protect-your-ears-when-flying\n"
     ]
    },
    {
     "name": "stderr",
     "output_type": "stream",
     "text": [
      "\u001b[32m2024-08-13 12:43:34,021 - root - INFO - Adding new webpage: https://www.loopearplugs.com/blogs/blog/hearing-loss-prevention-tips\u001b[0m\n",
      "\u001b[32m2024-08-13 12:43:34,021 - root - INFO - Adding new webpage: https://www.loopearplugs.com/blogs/blog/hearing-loss-prevention-tips\u001b[0m\n",
      "\u001b[32m2024-08-13 12:43:34,021 - root - INFO - Adding new webpage: https://www.loopearplugs.com/blogs/blog/hearing-loss-prevention-tips\u001b[0m\n",
      "\u001b[32m2024-08-13 12:43:34,021 - root - INFO - Adding new webpage: https://www.loopearplugs.com/blogs/blog/hearing-loss-prevention-tips\u001b[0m\n",
      "\u001b[32m2024-08-13 12:43:34,021 - root - INFO - Adding new webpage: https://www.loopearplugs.com/blogs/blog/hearing-loss-prevention-tips\u001b[0m\n",
      "\u001b[32m2024-08-13 12:43:34,021 - root - INFO - Adding new webpage: https://www.loopearplugs.com/blogs/blog/hearing-loss-prevention-tips\u001b[0m\n"
     ]
    },
    {
     "name": "stdout",
     "output_type": "stream",
     "text": [
      "Added new webpage: https://www.loopearplugs.com/blogs/blog/hearing-loss-prevention-tips\n"
     ]
    },
    {
     "name": "stderr",
     "output_type": "stream",
     "text": [
      "\u001b[33m2024-08-13 12:43:35,531 - trafilatura.xml - WARNING - missing link attribute: Example product title {}'\u001b[0m\n",
      "\u001b[33m2024-08-13 12:43:35,531 - trafilatura.xml - WARNING - missing link attribute: Example product title {}'\u001b[0m\n",
      "\u001b[33m2024-08-13 12:43:35,531 - trafilatura.xml - WARNING - missing link attribute: Example product title {}'\u001b[0m\n",
      "\u001b[33m2024-08-13 12:43:35,531 - trafilatura.xml - WARNING - missing link attribute: Example product title {}'\u001b[0m\n",
      "\u001b[33m2024-08-13 12:43:35,531 - trafilatura.xml - WARNING - missing link attribute: Example product title {}'\u001b[0m\n",
      "\u001b[33m2024-08-13 12:43:35,531 - trafilatura.xml - WARNING - missing link attribute: Example product title {}'\u001b[0m\n",
      "\u001b[32m2024-08-13 12:43:35,534 - root - INFO - Adding new webpage: https://www.loopearplugs.com/blogs/blog/something-for-everyone-at-the-table\u001b[0m\n",
      "\u001b[32m2024-08-13 12:43:35,534 - root - INFO - Adding new webpage: https://www.loopearplugs.com/blogs/blog/something-for-everyone-at-the-table\u001b[0m\n",
      "\u001b[32m2024-08-13 12:43:35,534 - root - INFO - Adding new webpage: https://www.loopearplugs.com/blogs/blog/something-for-everyone-at-the-table\u001b[0m\n",
      "\u001b[32m2024-08-13 12:43:35,534 - root - INFO - Adding new webpage: https://www.loopearplugs.com/blogs/blog/something-for-everyone-at-the-table\u001b[0m\n",
      "\u001b[32m2024-08-13 12:43:35,534 - root - INFO - Adding new webpage: https://www.loopearplugs.com/blogs/blog/something-for-everyone-at-the-table\u001b[0m\n",
      "\u001b[32m2024-08-13 12:43:35,534 - root - INFO - Adding new webpage: https://www.loopearplugs.com/blogs/blog/something-for-everyone-at-the-table\u001b[0m\n"
     ]
    },
    {
     "name": "stdout",
     "output_type": "stream",
     "text": [
      "Added new webpage: https://www.loopearplugs.com/blogs/blog/something-for-everyone-at-the-table\n"
     ]
    },
    {
     "name": "stderr",
     "output_type": "stream",
     "text": [
      "\u001b[32m2024-08-13 12:43:36,708 - root - INFO - Adding new webpage: https://www.loopearplugs.com/blogs/life-at-loop/5-years-of-loop\u001b[0m\n",
      "\u001b[32m2024-08-13 12:43:36,708 - root - INFO - Adding new webpage: https://www.loopearplugs.com/blogs/life-at-loop/5-years-of-loop\u001b[0m\n",
      "\u001b[32m2024-08-13 12:43:36,708 - root - INFO - Adding new webpage: https://www.loopearplugs.com/blogs/life-at-loop/5-years-of-loop\u001b[0m\n",
      "\u001b[32m2024-08-13 12:43:36,708 - root - INFO - Adding new webpage: https://www.loopearplugs.com/blogs/life-at-loop/5-years-of-loop\u001b[0m\n",
      "\u001b[32m2024-08-13 12:43:36,708 - root - INFO - Adding new webpage: https://www.loopearplugs.com/blogs/life-at-loop/5-years-of-loop\u001b[0m\n",
      "\u001b[32m2024-08-13 12:43:36,708 - root - INFO - Adding new webpage: https://www.loopearplugs.com/blogs/life-at-loop/5-years-of-loop\u001b[0m\n"
     ]
    },
    {
     "name": "stdout",
     "output_type": "stream",
     "text": [
      "Added new webpage: https://www.loopearplugs.com/blogs/life-at-loop/5-years-of-loop\n"
     ]
    },
    {
     "name": "stderr",
     "output_type": "stream",
     "text": [
      "\u001b[32m2024-08-13 12:43:37,924 - root - INFO - Adding new webpage: https://www.loopearplugs.com/blogs/life-at-loop/walk-talk-with-michiel\u001b[0m\n",
      "\u001b[32m2024-08-13 12:43:37,924 - root - INFO - Adding new webpage: https://www.loopearplugs.com/blogs/life-at-loop/walk-talk-with-michiel\u001b[0m\n",
      "\u001b[32m2024-08-13 12:43:37,924 - root - INFO - Adding new webpage: https://www.loopearplugs.com/blogs/life-at-loop/walk-talk-with-michiel\u001b[0m\n",
      "\u001b[32m2024-08-13 12:43:37,924 - root - INFO - Adding new webpage: https://www.loopearplugs.com/blogs/life-at-loop/walk-talk-with-michiel\u001b[0m\n",
      "\u001b[32m2024-08-13 12:43:37,924 - root - INFO - Adding new webpage: https://www.loopearplugs.com/blogs/life-at-loop/walk-talk-with-michiel\u001b[0m\n",
      "\u001b[32m2024-08-13 12:43:37,924 - root - INFO - Adding new webpage: https://www.loopearplugs.com/blogs/life-at-loop/walk-talk-with-michiel\u001b[0m\n"
     ]
    },
    {
     "name": "stdout",
     "output_type": "stream",
     "text": [
      "Added new webpage: https://www.loopearplugs.com/blogs/life-at-loop/walk-talk-with-michiel\n"
     ]
    },
    {
     "name": "stderr",
     "output_type": "stream",
     "text": [
      "\u001b[32m2024-08-13 12:43:39,276 - root - INFO - Adding new webpage: https://www.loopearplugs.com/blogs/blog/the-top-distractions-for-children\u001b[0m\n",
      "\u001b[32m2024-08-13 12:43:39,276 - root - INFO - Adding new webpage: https://www.loopearplugs.com/blogs/blog/the-top-distractions-for-children\u001b[0m\n",
      "\u001b[32m2024-08-13 12:43:39,276 - root - INFO - Adding new webpage: https://www.loopearplugs.com/blogs/blog/the-top-distractions-for-children\u001b[0m\n",
      "\u001b[32m2024-08-13 12:43:39,276 - root - INFO - Adding new webpage: https://www.loopearplugs.com/blogs/blog/the-top-distractions-for-children\u001b[0m\n",
      "\u001b[32m2024-08-13 12:43:39,276 - root - INFO - Adding new webpage: https://www.loopearplugs.com/blogs/blog/the-top-distractions-for-children\u001b[0m\n",
      "\u001b[32m2024-08-13 12:43:39,276 - root - INFO - Adding new webpage: https://www.loopearplugs.com/blogs/blog/the-top-distractions-for-children\u001b[0m\n"
     ]
    },
    {
     "name": "stdout",
     "output_type": "stream",
     "text": [
      "Added new webpage: https://www.loopearplugs.com/blogs/blog/the-top-distractions-for-children\n"
     ]
    },
    {
     "name": "stderr",
     "output_type": "stream",
     "text": [
      "\u001b[32m2024-08-13 12:43:40,753 - root - INFO - Adding new webpage: https://www.loopearplugs.com/blogs/blog/practical-work-life-balance-tips-for-a-healthier-and-happier-you\u001b[0m\n",
      "\u001b[32m2024-08-13 12:43:40,753 - root - INFO - Adding new webpage: https://www.loopearplugs.com/blogs/blog/practical-work-life-balance-tips-for-a-healthier-and-happier-you\u001b[0m\n",
      "\u001b[32m2024-08-13 12:43:40,753 - root - INFO - Adding new webpage: https://www.loopearplugs.com/blogs/blog/practical-work-life-balance-tips-for-a-healthier-and-happier-you\u001b[0m\n",
      "\u001b[32m2024-08-13 12:43:40,753 - root - INFO - Adding new webpage: https://www.loopearplugs.com/blogs/blog/practical-work-life-balance-tips-for-a-healthier-and-happier-you\u001b[0m\n",
      "\u001b[32m2024-08-13 12:43:40,753 - root - INFO - Adding new webpage: https://www.loopearplugs.com/blogs/blog/practical-work-life-balance-tips-for-a-healthier-and-happier-you\u001b[0m\n",
      "\u001b[32m2024-08-13 12:43:40,753 - root - INFO - Adding new webpage: https://www.loopearplugs.com/blogs/blog/practical-work-life-balance-tips-for-a-healthier-and-happier-you\u001b[0m\n"
     ]
    },
    {
     "name": "stdout",
     "output_type": "stream",
     "text": [
      "Added new webpage: https://www.loopearplugs.com/blogs/blog/practical-work-life-balance-tips-for-a-healthier-and-happier-you\n"
     ]
    },
    {
     "name": "stderr",
     "output_type": "stream",
     "text": [
      "\u001b[32m2024-08-13 12:43:42,114 - root - INFO - Adding new webpage: https://www.loopearplugs.com/blogs/blog/baby-crying-anxiety\u001b[0m\n",
      "\u001b[32m2024-08-13 12:43:42,114 - root - INFO - Adding new webpage: https://www.loopearplugs.com/blogs/blog/baby-crying-anxiety\u001b[0m\n",
      "\u001b[32m2024-08-13 12:43:42,114 - root - INFO - Adding new webpage: https://www.loopearplugs.com/blogs/blog/baby-crying-anxiety\u001b[0m\n",
      "\u001b[32m2024-08-13 12:43:42,114 - root - INFO - Adding new webpage: https://www.loopearplugs.com/blogs/blog/baby-crying-anxiety\u001b[0m\n",
      "\u001b[32m2024-08-13 12:43:42,114 - root - INFO - Adding new webpage: https://www.loopearplugs.com/blogs/blog/baby-crying-anxiety\u001b[0m\n",
      "\u001b[32m2024-08-13 12:43:42,114 - root - INFO - Adding new webpage: https://www.loopearplugs.com/blogs/blog/baby-crying-anxiety\u001b[0m\n"
     ]
    },
    {
     "name": "stdout",
     "output_type": "stream",
     "text": [
      "Added new webpage: https://www.loopearplugs.com/blogs/blog/baby-crying-anxiety\n"
     ]
    },
    {
     "name": "stderr",
     "output_type": "stream",
     "text": [
      "\u001b[32m2024-08-13 12:43:43,340 - root - INFO - Adding new webpage: https://www.loopearplugs.com/blogs/blog/7-best-earplugs-for-music\u001b[0m\n",
      "\u001b[32m2024-08-13 12:43:43,340 - root - INFO - Adding new webpage: https://www.loopearplugs.com/blogs/blog/7-best-earplugs-for-music\u001b[0m\n",
      "\u001b[32m2024-08-13 12:43:43,340 - root - INFO - Adding new webpage: https://www.loopearplugs.com/blogs/blog/7-best-earplugs-for-music\u001b[0m\n",
      "\u001b[32m2024-08-13 12:43:43,340 - root - INFO - Adding new webpage: https://www.loopearplugs.com/blogs/blog/7-best-earplugs-for-music\u001b[0m\n",
      "\u001b[32m2024-08-13 12:43:43,340 - root - INFO - Adding new webpage: https://www.loopearplugs.com/blogs/blog/7-best-earplugs-for-music\u001b[0m\n",
      "\u001b[32m2024-08-13 12:43:43,340 - root - INFO - Adding new webpage: https://www.loopearplugs.com/blogs/blog/7-best-earplugs-for-music\u001b[0m\n"
     ]
    },
    {
     "name": "stdout",
     "output_type": "stream",
     "text": [
      "Added new webpage: https://www.loopearplugs.com/blogs/blog/7-best-earplugs-for-music\n"
     ]
    },
    {
     "name": "stderr",
     "output_type": "stream",
     "text": [
      "\u001b[32m2024-08-13 12:43:44,873 - root - INFO - Adding new webpage: https://www.loopearplugs.com/blogs/blog/how-caffeine-may-be-sabotaging-your-sleep-the-connection-to-insomnia\u001b[0m\n",
      "\u001b[32m2024-08-13 12:43:44,873 - root - INFO - Adding new webpage: https://www.loopearplugs.com/blogs/blog/how-caffeine-may-be-sabotaging-your-sleep-the-connection-to-insomnia\u001b[0m\n",
      "\u001b[32m2024-08-13 12:43:44,873 - root - INFO - Adding new webpage: https://www.loopearplugs.com/blogs/blog/how-caffeine-may-be-sabotaging-your-sleep-the-connection-to-insomnia\u001b[0m\n",
      "\u001b[32m2024-08-13 12:43:44,873 - root - INFO - Adding new webpage: https://www.loopearplugs.com/blogs/blog/how-caffeine-may-be-sabotaging-your-sleep-the-connection-to-insomnia\u001b[0m\n",
      "\u001b[32m2024-08-13 12:43:44,873 - root - INFO - Adding new webpage: https://www.loopearplugs.com/blogs/blog/how-caffeine-may-be-sabotaging-your-sleep-the-connection-to-insomnia\u001b[0m\n",
      "\u001b[32m2024-08-13 12:43:44,873 - root - INFO - Adding new webpage: https://www.loopearplugs.com/blogs/blog/how-caffeine-may-be-sabotaging-your-sleep-the-connection-to-insomnia\u001b[0m\n"
     ]
    },
    {
     "name": "stdout",
     "output_type": "stream",
     "text": [
      "Added new webpage: https://www.loopearplugs.com/blogs/blog/how-caffeine-may-be-sabotaging-your-sleep-the-connection-to-insomnia\n"
     ]
    },
    {
     "name": "stderr",
     "output_type": "stream",
     "text": [
      "\u001b[32m2024-08-13 12:43:46,288 - root - INFO - Adding new webpage: https://www.loopearplugs.com/blogs/blog/how-to-get-into-berlin-clubs\u001b[0m\n",
      "\u001b[32m2024-08-13 12:43:46,288 - root - INFO - Adding new webpage: https://www.loopearplugs.com/blogs/blog/how-to-get-into-berlin-clubs\u001b[0m\n",
      "\u001b[32m2024-08-13 12:43:46,288 - root - INFO - Adding new webpage: https://www.loopearplugs.com/blogs/blog/how-to-get-into-berlin-clubs\u001b[0m\n",
      "\u001b[32m2024-08-13 12:43:46,288 - root - INFO - Adding new webpage: https://www.loopearplugs.com/blogs/blog/how-to-get-into-berlin-clubs\u001b[0m\n",
      "\u001b[32m2024-08-13 12:43:46,288 - root - INFO - Adding new webpage: https://www.loopearplugs.com/blogs/blog/how-to-get-into-berlin-clubs\u001b[0m\n",
      "\u001b[32m2024-08-13 12:43:46,288 - root - INFO - Adding new webpage: https://www.loopearplugs.com/blogs/blog/how-to-get-into-berlin-clubs\u001b[0m\n"
     ]
    },
    {
     "name": "stdout",
     "output_type": "stream",
     "text": [
      "Added new webpage: https://www.loopearplugs.com/blogs/blog/how-to-get-into-berlin-clubs\n"
     ]
    },
    {
     "name": "stderr",
     "output_type": "stream",
     "text": [
      "\u001b[32m2024-08-13 12:43:48,071 - root - INFO - Adding new webpage: https://www.loopearplugs.com/blogs/news/untitled-jul-13-0-19-25\u001b[0m\n",
      "\u001b[32m2024-08-13 12:43:48,071 - root - INFO - Adding new webpage: https://www.loopearplugs.com/blogs/news/untitled-jul-13-0-19-25\u001b[0m\n",
      "\u001b[32m2024-08-13 12:43:48,071 - root - INFO - Adding new webpage: https://www.loopearplugs.com/blogs/news/untitled-jul-13-0-19-25\u001b[0m\n",
      "\u001b[32m2024-08-13 12:43:48,071 - root - INFO - Adding new webpage: https://www.loopearplugs.com/blogs/news/untitled-jul-13-0-19-25\u001b[0m\n",
      "\u001b[32m2024-08-13 12:43:48,071 - root - INFO - Adding new webpage: https://www.loopearplugs.com/blogs/news/untitled-jul-13-0-19-25\u001b[0m\n",
      "\u001b[32m2024-08-13 12:43:48,071 - root - INFO - Adding new webpage: https://www.loopearplugs.com/blogs/news/untitled-jul-13-0-19-25\u001b[0m\n"
     ]
    },
    {
     "name": "stdout",
     "output_type": "stream",
     "text": [
      "Added new webpage: https://www.loopearplugs.com/blogs/news/untitled-jul-13-0-19-25\n"
     ]
    },
    {
     "name": "stderr",
     "output_type": "stream",
     "text": [
      "\u001b[33m2024-08-13 12:43:49,434 - trafilatura.xml - WARNING - missing link attribute: View full details {}'\u001b[0m\n",
      "\u001b[33m2024-08-13 12:43:49,434 - trafilatura.xml - WARNING - missing link attribute: View full details {}'\u001b[0m\n",
      "\u001b[33m2024-08-13 12:43:49,434 - trafilatura.xml - WARNING - missing link attribute: View full details {}'\u001b[0m\n",
      "\u001b[33m2024-08-13 12:43:49,434 - trafilatura.xml - WARNING - missing link attribute: View full details {}'\u001b[0m\n",
      "\u001b[33m2024-08-13 12:43:49,434 - trafilatura.xml - WARNING - missing link attribute: View full details {}'\u001b[0m\n",
      "\u001b[33m2024-08-13 12:43:49,434 - trafilatura.xml - WARNING - missing link attribute: View full details {}'\u001b[0m\n",
      "\u001b[32m2024-08-13 12:43:49,436 - root - INFO - Adding new webpage: https://www.loopearplugs.com/blogs/blog/make-a-splash-with-loop-x-andrew-footit\u001b[0m\n",
      "\u001b[32m2024-08-13 12:43:49,436 - root - INFO - Adding new webpage: https://www.loopearplugs.com/blogs/blog/make-a-splash-with-loop-x-andrew-footit\u001b[0m\n",
      "\u001b[32m2024-08-13 12:43:49,436 - root - INFO - Adding new webpage: https://www.loopearplugs.com/blogs/blog/make-a-splash-with-loop-x-andrew-footit\u001b[0m\n",
      "\u001b[32m2024-08-13 12:43:49,436 - root - INFO - Adding new webpage: https://www.loopearplugs.com/blogs/blog/make-a-splash-with-loop-x-andrew-footit\u001b[0m\n",
      "\u001b[32m2024-08-13 12:43:49,436 - root - INFO - Adding new webpage: https://www.loopearplugs.com/blogs/blog/make-a-splash-with-loop-x-andrew-footit\u001b[0m\n",
      "\u001b[32m2024-08-13 12:43:49,436 - root - INFO - Adding new webpage: https://www.loopearplugs.com/blogs/blog/make-a-splash-with-loop-x-andrew-footit\u001b[0m\n"
     ]
    },
    {
     "name": "stdout",
     "output_type": "stream",
     "text": [
      "Added new webpage: https://www.loopearplugs.com/blogs/blog/make-a-splash-with-loop-x-andrew-footit\n"
     ]
    },
    {
     "name": "stderr",
     "output_type": "stream",
     "text": [
      "\u001b[32m2024-08-13 12:43:50,898 - root - INFO - Adding new webpage: https://www.loopearplugs.com/blogs/news/loop-redefines-how-an-earplug-should-perform-and-look\u001b[0m\n",
      "\u001b[32m2024-08-13 12:43:50,898 - root - INFO - Adding new webpage: https://www.loopearplugs.com/blogs/news/loop-redefines-how-an-earplug-should-perform-and-look\u001b[0m\n",
      "\u001b[32m2024-08-13 12:43:50,898 - root - INFO - Adding new webpage: https://www.loopearplugs.com/blogs/news/loop-redefines-how-an-earplug-should-perform-and-look\u001b[0m\n",
      "\u001b[32m2024-08-13 12:43:50,898 - root - INFO - Adding new webpage: https://www.loopearplugs.com/blogs/news/loop-redefines-how-an-earplug-should-perform-and-look\u001b[0m\n",
      "\u001b[32m2024-08-13 12:43:50,898 - root - INFO - Adding new webpage: https://www.loopearplugs.com/blogs/news/loop-redefines-how-an-earplug-should-perform-and-look\u001b[0m\n",
      "\u001b[32m2024-08-13 12:43:50,898 - root - INFO - Adding new webpage: https://www.loopearplugs.com/blogs/news/loop-redefines-how-an-earplug-should-perform-and-look\u001b[0m\n"
     ]
    },
    {
     "name": "stdout",
     "output_type": "stream",
     "text": [
      "Added new webpage: https://www.loopearplugs.com/blogs/news/loop-redefines-how-an-earplug-should-perform-and-look\n"
     ]
    },
    {
     "name": "stderr",
     "output_type": "stream",
     "text": [
      "\u001b[32m2024-08-13 12:43:52,167 - root - INFO - Adding new webpage: https://www.loopearplugs.com/blogs/blog/survey-noise-sensitivity-impacts-the-daily-lives-of-many\u001b[0m\n",
      "\u001b[32m2024-08-13 12:43:52,167 - root - INFO - Adding new webpage: https://www.loopearplugs.com/blogs/blog/survey-noise-sensitivity-impacts-the-daily-lives-of-many\u001b[0m\n",
      "\u001b[32m2024-08-13 12:43:52,167 - root - INFO - Adding new webpage: https://www.loopearplugs.com/blogs/blog/survey-noise-sensitivity-impacts-the-daily-lives-of-many\u001b[0m\n",
      "\u001b[32m2024-08-13 12:43:52,167 - root - INFO - Adding new webpage: https://www.loopearplugs.com/blogs/blog/survey-noise-sensitivity-impacts-the-daily-lives-of-many\u001b[0m\n",
      "\u001b[32m2024-08-13 12:43:52,167 - root - INFO - Adding new webpage: https://www.loopearplugs.com/blogs/blog/survey-noise-sensitivity-impacts-the-daily-lives-of-many\u001b[0m\n",
      "\u001b[32m2024-08-13 12:43:52,167 - root - INFO - Adding new webpage: https://www.loopearplugs.com/blogs/blog/survey-noise-sensitivity-impacts-the-daily-lives-of-many\u001b[0m\n"
     ]
    },
    {
     "name": "stdout",
     "output_type": "stream",
     "text": [
      "Added new webpage: https://www.loopearplugs.com/blogs/blog/survey-noise-sensitivity-impacts-the-daily-lives-of-many\n"
     ]
    },
    {
     "name": "stderr",
     "output_type": "stream",
     "text": [
      "\u001b[32m2024-08-13 12:43:53,631 - root - INFO - Adding new webpage: https://www.loopearplugs.com/blogs/blog/sleep\u001b[0m\n",
      "\u001b[32m2024-08-13 12:43:53,631 - root - INFO - Adding new webpage: https://www.loopearplugs.com/blogs/blog/sleep\u001b[0m\n",
      "\u001b[32m2024-08-13 12:43:53,631 - root - INFO - Adding new webpage: https://www.loopearplugs.com/blogs/blog/sleep\u001b[0m\n",
      "\u001b[32m2024-08-13 12:43:53,631 - root - INFO - Adding new webpage: https://www.loopearplugs.com/blogs/blog/sleep\u001b[0m\n",
      "\u001b[32m2024-08-13 12:43:53,631 - root - INFO - Adding new webpage: https://www.loopearplugs.com/blogs/blog/sleep\u001b[0m\n",
      "\u001b[32m2024-08-13 12:43:53,631 - root - INFO - Adding new webpage: https://www.loopearplugs.com/blogs/blog/sleep\u001b[0m\n"
     ]
    },
    {
     "name": "stdout",
     "output_type": "stream",
     "text": [
      "Added new webpage: https://www.loopearplugs.com/blogs/blog/sleep\n"
     ]
    },
    {
     "name": "stderr",
     "output_type": "stream",
     "text": [
      "\u001b[32m2024-08-13 12:43:55,146 - root - INFO - Adding new webpage: https://www.loopearplugs.com/blogs/blog/how-to-go-to-sleep-faster\u001b[0m\n",
      "\u001b[32m2024-08-13 12:43:55,146 - root - INFO - Adding new webpage: https://www.loopearplugs.com/blogs/blog/how-to-go-to-sleep-faster\u001b[0m\n",
      "\u001b[32m2024-08-13 12:43:55,146 - root - INFO - Adding new webpage: https://www.loopearplugs.com/blogs/blog/how-to-go-to-sleep-faster\u001b[0m\n",
      "\u001b[32m2024-08-13 12:43:55,146 - root - INFO - Adding new webpage: https://www.loopearplugs.com/blogs/blog/how-to-go-to-sleep-faster\u001b[0m\n",
      "\u001b[32m2024-08-13 12:43:55,146 - root - INFO - Adding new webpage: https://www.loopearplugs.com/blogs/blog/how-to-go-to-sleep-faster\u001b[0m\n",
      "\u001b[32m2024-08-13 12:43:55,146 - root - INFO - Adding new webpage: https://www.loopearplugs.com/blogs/blog/how-to-go-to-sleep-faster\u001b[0m\n"
     ]
    },
    {
     "name": "stdout",
     "output_type": "stream",
     "text": [
      "Added new webpage: https://www.loopearplugs.com/blogs/blog/how-to-go-to-sleep-faster\n"
     ]
    },
    {
     "name": "stderr",
     "output_type": "stream",
     "text": [
      "\u001b[32m2024-08-13 12:43:56,658 - root - INFO - Adding new webpage: https://www.loopearplugs.com/blogs/blog/nightlife-style-the-best-club-outfits-for-men-in-2023-to-up-their-game\u001b[0m\n",
      "\u001b[32m2024-08-13 12:43:56,658 - root - INFO - Adding new webpage: https://www.loopearplugs.com/blogs/blog/nightlife-style-the-best-club-outfits-for-men-in-2023-to-up-their-game\u001b[0m\n",
      "\u001b[32m2024-08-13 12:43:56,658 - root - INFO - Adding new webpage: https://www.loopearplugs.com/blogs/blog/nightlife-style-the-best-club-outfits-for-men-in-2023-to-up-their-game\u001b[0m\n",
      "\u001b[32m2024-08-13 12:43:56,658 - root - INFO - Adding new webpage: https://www.loopearplugs.com/blogs/blog/nightlife-style-the-best-club-outfits-for-men-in-2023-to-up-their-game\u001b[0m\n",
      "\u001b[32m2024-08-13 12:43:56,658 - root - INFO - Adding new webpage: https://www.loopearplugs.com/blogs/blog/nightlife-style-the-best-club-outfits-for-men-in-2023-to-up-their-game\u001b[0m\n",
      "\u001b[32m2024-08-13 12:43:56,658 - root - INFO - Adding new webpage: https://www.loopearplugs.com/blogs/blog/nightlife-style-the-best-club-outfits-for-men-in-2023-to-up-their-game\u001b[0m\n"
     ]
    },
    {
     "name": "stdout",
     "output_type": "stream",
     "text": [
      "Added new webpage: https://www.loopearplugs.com/blogs/blog/nightlife-style-the-best-club-outfits-for-men-in-2023-to-up-their-game\n"
     ]
    },
    {
     "name": "stderr",
     "output_type": "stream",
     "text": [
      "\u001b[32m2024-08-13 12:43:57,692 - root - INFO - Adding new webpage: https://www.loopearplugs.com/blogs/blog/noise-cancelling-ear-plugs-for-noise-sensitivity\u001b[0m\n",
      "\u001b[32m2024-08-13 12:43:57,692 - root - INFO - Adding new webpage: https://www.loopearplugs.com/blogs/blog/noise-cancelling-ear-plugs-for-noise-sensitivity\u001b[0m\n",
      "\u001b[32m2024-08-13 12:43:57,692 - root - INFO - Adding new webpage: https://www.loopearplugs.com/blogs/blog/noise-cancelling-ear-plugs-for-noise-sensitivity\u001b[0m\n",
      "\u001b[32m2024-08-13 12:43:57,692 - root - INFO - Adding new webpage: https://www.loopearplugs.com/blogs/blog/noise-cancelling-ear-plugs-for-noise-sensitivity\u001b[0m\n",
      "\u001b[32m2024-08-13 12:43:57,692 - root - INFO - Adding new webpage: https://www.loopearplugs.com/blogs/blog/noise-cancelling-ear-plugs-for-noise-sensitivity\u001b[0m\n",
      "\u001b[32m2024-08-13 12:43:57,692 - root - INFO - Adding new webpage: https://www.loopearplugs.com/blogs/blog/noise-cancelling-ear-plugs-for-noise-sensitivity\u001b[0m\n"
     ]
    },
    {
     "name": "stdout",
     "output_type": "stream",
     "text": [
      "Added new webpage: https://www.loopearplugs.com/blogs/blog/noise-cancelling-ear-plugs-for-noise-sensitivity\n"
     ]
    },
    {
     "name": "stderr",
     "output_type": "stream",
     "text": [
      "\u001b[32m2024-08-13 12:43:59,081 - root - INFO - Adding new webpage: https://www.loopearplugs.com/blogs/blog/study-tips-for-school-children-skills-and-techniques-for-effective-learning\u001b[0m\n",
      "\u001b[32m2024-08-13 12:43:59,081 - root - INFO - Adding new webpage: https://www.loopearplugs.com/blogs/blog/study-tips-for-school-children-skills-and-techniques-for-effective-learning\u001b[0m\n",
      "\u001b[32m2024-08-13 12:43:59,081 - root - INFO - Adding new webpage: https://www.loopearplugs.com/blogs/blog/study-tips-for-school-children-skills-and-techniques-for-effective-learning\u001b[0m\n",
      "\u001b[32m2024-08-13 12:43:59,081 - root - INFO - Adding new webpage: https://www.loopearplugs.com/blogs/blog/study-tips-for-school-children-skills-and-techniques-for-effective-learning\u001b[0m\n",
      "\u001b[32m2024-08-13 12:43:59,081 - root - INFO - Adding new webpage: https://www.loopearplugs.com/blogs/blog/study-tips-for-school-children-skills-and-techniques-for-effective-learning\u001b[0m\n",
      "\u001b[32m2024-08-13 12:43:59,081 - root - INFO - Adding new webpage: https://www.loopearplugs.com/blogs/blog/study-tips-for-school-children-skills-and-techniques-for-effective-learning\u001b[0m\n"
     ]
    },
    {
     "name": "stdout",
     "output_type": "stream",
     "text": [
      "Added new webpage: https://www.loopearplugs.com/blogs/blog/study-tips-for-school-children-skills-and-techniques-for-effective-learning\n"
     ]
    },
    {
     "name": "stderr",
     "output_type": "stream",
     "text": [
      "\u001b[32m2024-08-13 12:44:00,312 - root - INFO - Adding new webpage: https://www.loopearplugs.com/blogs/press/start-up-loop-combineert-hightech-met-design-in-nieuwe-oordopjes-voor-nachtleven\u001b[0m\n",
      "\u001b[32m2024-08-13 12:44:00,312 - root - INFO - Adding new webpage: https://www.loopearplugs.com/blogs/press/start-up-loop-combineert-hightech-met-design-in-nieuwe-oordopjes-voor-nachtleven\u001b[0m\n",
      "\u001b[32m2024-08-13 12:44:00,312 - root - INFO - Adding new webpage: https://www.loopearplugs.com/blogs/press/start-up-loop-combineert-hightech-met-design-in-nieuwe-oordopjes-voor-nachtleven\u001b[0m\n",
      "\u001b[32m2024-08-13 12:44:00,312 - root - INFO - Adding new webpage: https://www.loopearplugs.com/blogs/press/start-up-loop-combineert-hightech-met-design-in-nieuwe-oordopjes-voor-nachtleven\u001b[0m\n",
      "\u001b[32m2024-08-13 12:44:00,312 - root - INFO - Adding new webpage: https://www.loopearplugs.com/blogs/press/start-up-loop-combineert-hightech-met-design-in-nieuwe-oordopjes-voor-nachtleven\u001b[0m\n",
      "\u001b[32m2024-08-13 12:44:00,312 - root - INFO - Adding new webpage: https://www.loopearplugs.com/blogs/press/start-up-loop-combineert-hightech-met-design-in-nieuwe-oordopjes-voor-nachtleven\u001b[0m\n"
     ]
    },
    {
     "name": "stdout",
     "output_type": "stream",
     "text": [
      "Added new webpage: https://www.loopearplugs.com/blogs/press/start-up-loop-combineert-hightech-met-design-in-nieuwe-oordopjes-voor-nachtleven\n"
     ]
    },
    {
     "name": "stderr",
     "output_type": "stream",
     "text": [
      "\u001b[32m2024-08-13 12:44:01,852 - root - INFO - Adding new webpage: https://www.loopearplugs.com/blogs/blog/sensitivity-to-sound-how-to-deal-with-noise-sensitivity\u001b[0m\n",
      "\u001b[32m2024-08-13 12:44:01,852 - root - INFO - Adding new webpage: https://www.loopearplugs.com/blogs/blog/sensitivity-to-sound-how-to-deal-with-noise-sensitivity\u001b[0m\n",
      "\u001b[32m2024-08-13 12:44:01,852 - root - INFO - Adding new webpage: https://www.loopearplugs.com/blogs/blog/sensitivity-to-sound-how-to-deal-with-noise-sensitivity\u001b[0m\n",
      "\u001b[32m2024-08-13 12:44:01,852 - root - INFO - Adding new webpage: https://www.loopearplugs.com/blogs/blog/sensitivity-to-sound-how-to-deal-with-noise-sensitivity\u001b[0m\n",
      "\u001b[32m2024-08-13 12:44:01,852 - root - INFO - Adding new webpage: https://www.loopearplugs.com/blogs/blog/sensitivity-to-sound-how-to-deal-with-noise-sensitivity\u001b[0m\n",
      "\u001b[32m2024-08-13 12:44:01,852 - root - INFO - Adding new webpage: https://www.loopearplugs.com/blogs/blog/sensitivity-to-sound-how-to-deal-with-noise-sensitivity\u001b[0m\n"
     ]
    },
    {
     "name": "stdout",
     "output_type": "stream",
     "text": [
      "Added new webpage: https://www.loopearplugs.com/blogs/blog/sensitivity-to-sound-how-to-deal-with-noise-sensitivity\n"
     ]
    },
    {
     "name": "stderr",
     "output_type": "stream",
     "text": [
      "\u001b[32m2024-08-13 12:44:03,351 - root - INFO - Adding new webpage: https://www.loopearplugs.com/blogs/blog/focus\u001b[0m\n",
      "\u001b[32m2024-08-13 12:44:03,351 - root - INFO - Adding new webpage: https://www.loopearplugs.com/blogs/blog/focus\u001b[0m\n",
      "\u001b[32m2024-08-13 12:44:03,351 - root - INFO - Adding new webpage: https://www.loopearplugs.com/blogs/blog/focus\u001b[0m\n",
      "\u001b[32m2024-08-13 12:44:03,351 - root - INFO - Adding new webpage: https://www.loopearplugs.com/blogs/blog/focus\u001b[0m\n",
      "\u001b[32m2024-08-13 12:44:03,351 - root - INFO - Adding new webpage: https://www.loopearplugs.com/blogs/blog/focus\u001b[0m\n",
      "\u001b[32m2024-08-13 12:44:03,351 - root - INFO - Adding new webpage: https://www.loopearplugs.com/blogs/blog/focus\u001b[0m\n"
     ]
    },
    {
     "name": "stdout",
     "output_type": "stream",
     "text": [
      "Added new webpage: https://www.loopearplugs.com/blogs/blog/focus\n"
     ]
    },
    {
     "name": "stderr",
     "output_type": "stream",
     "text": [
      "\u001b[32m2024-08-13 12:44:04,807 - root - INFO - Adding new webpage: https://www.loopearplugs.com/blogs/blog/hearing-damage-decibels-levels\u001b[0m\n",
      "\u001b[32m2024-08-13 12:44:04,807 - root - INFO - Adding new webpage: https://www.loopearplugs.com/blogs/blog/hearing-damage-decibels-levels\u001b[0m\n",
      "\u001b[32m2024-08-13 12:44:04,807 - root - INFO - Adding new webpage: https://www.loopearplugs.com/blogs/blog/hearing-damage-decibels-levels\u001b[0m\n",
      "\u001b[32m2024-08-13 12:44:04,807 - root - INFO - Adding new webpage: https://www.loopearplugs.com/blogs/blog/hearing-damage-decibels-levels\u001b[0m\n",
      "\u001b[32m2024-08-13 12:44:04,807 - root - INFO - Adding new webpage: https://www.loopearplugs.com/blogs/blog/hearing-damage-decibels-levels\u001b[0m\n",
      "\u001b[32m2024-08-13 12:44:04,807 - root - INFO - Adding new webpage: https://www.loopearplugs.com/blogs/blog/hearing-damage-decibels-levels\u001b[0m\n"
     ]
    },
    {
     "name": "stdout",
     "output_type": "stream",
     "text": [
      "Added new webpage: https://www.loopearplugs.com/blogs/blog/hearing-damage-decibels-levels\n"
     ]
    },
    {
     "name": "stderr",
     "output_type": "stream",
     "text": [
      "\u001b[32m2024-08-13 12:44:06,386 - root - INFO - Adding new webpage: https://www.loopearplugs.com/blogs/blog/adhd\u001b[0m\n",
      "\u001b[32m2024-08-13 12:44:06,386 - root - INFO - Adding new webpage: https://www.loopearplugs.com/blogs/blog/adhd\u001b[0m\n",
      "\u001b[32m2024-08-13 12:44:06,386 - root - INFO - Adding new webpage: https://www.loopearplugs.com/blogs/blog/adhd\u001b[0m\n",
      "\u001b[32m2024-08-13 12:44:06,386 - root - INFO - Adding new webpage: https://www.loopearplugs.com/blogs/blog/adhd\u001b[0m\n",
      "\u001b[32m2024-08-13 12:44:06,386 - root - INFO - Adding new webpage: https://www.loopearplugs.com/blogs/blog/adhd\u001b[0m\n",
      "\u001b[32m2024-08-13 12:44:06,386 - root - INFO - Adding new webpage: https://www.loopearplugs.com/blogs/blog/adhd\u001b[0m\n"
     ]
    },
    {
     "name": "stdout",
     "output_type": "stream",
     "text": [
      "Added new webpage: https://www.loopearplugs.com/blogs/blog/adhd\n"
     ]
    },
    {
     "name": "stderr",
     "output_type": "stream",
     "text": [
      "\u001b[32m2024-08-13 12:44:07,832 - root - INFO - Adding new webpage: https://www.loopearplugs.com/blogs/blog/living-with-hyperacusis-coping-strategies-and-treatment-options-loop-earplugs\u001b[0m\n",
      "\u001b[32m2024-08-13 12:44:07,832 - root - INFO - Adding new webpage: https://www.loopearplugs.com/blogs/blog/living-with-hyperacusis-coping-strategies-and-treatment-options-loop-earplugs\u001b[0m\n",
      "\u001b[32m2024-08-13 12:44:07,832 - root - INFO - Adding new webpage: https://www.loopearplugs.com/blogs/blog/living-with-hyperacusis-coping-strategies-and-treatment-options-loop-earplugs\u001b[0m\n",
      "\u001b[32m2024-08-13 12:44:07,832 - root - INFO - Adding new webpage: https://www.loopearplugs.com/blogs/blog/living-with-hyperacusis-coping-strategies-and-treatment-options-loop-earplugs\u001b[0m\n",
      "\u001b[32m2024-08-13 12:44:07,832 - root - INFO - Adding new webpage: https://www.loopearplugs.com/blogs/blog/living-with-hyperacusis-coping-strategies-and-treatment-options-loop-earplugs\u001b[0m\n",
      "\u001b[32m2024-08-13 12:44:07,832 - root - INFO - Adding new webpage: https://www.loopearplugs.com/blogs/blog/living-with-hyperacusis-coping-strategies-and-treatment-options-loop-earplugs\u001b[0m\n"
     ]
    },
    {
     "name": "stdout",
     "output_type": "stream",
     "text": [
      "Added new webpage: https://www.loopearplugs.com/blogs/blog/living-with-hyperacusis-coping-strategies-and-treatment-options-loop-earplugs\n"
     ]
    },
    {
     "name": "stderr",
     "output_type": "stream",
     "text": [
      "\u001b[32m2024-08-13 12:44:09,221 - root - INFO - Adding new webpage: https://www.loopearplugs.com/blogs/blog/how-to-block-noise-from-your-next-door-neighbors\u001b[0m\n",
      "\u001b[32m2024-08-13 12:44:09,221 - root - INFO - Adding new webpage: https://www.loopearplugs.com/blogs/blog/how-to-block-noise-from-your-next-door-neighbors\u001b[0m\n",
      "\u001b[32m2024-08-13 12:44:09,221 - root - INFO - Adding new webpage: https://www.loopearplugs.com/blogs/blog/how-to-block-noise-from-your-next-door-neighbors\u001b[0m\n",
      "\u001b[32m2024-08-13 12:44:09,221 - root - INFO - Adding new webpage: https://www.loopearplugs.com/blogs/blog/how-to-block-noise-from-your-next-door-neighbors\u001b[0m\n",
      "\u001b[32m2024-08-13 12:44:09,221 - root - INFO - Adding new webpage: https://www.loopearplugs.com/blogs/blog/how-to-block-noise-from-your-next-door-neighbors\u001b[0m\n",
      "\u001b[32m2024-08-13 12:44:09,221 - root - INFO - Adding new webpage: https://www.loopearplugs.com/blogs/blog/how-to-block-noise-from-your-next-door-neighbors\u001b[0m\n"
     ]
    },
    {
     "name": "stdout",
     "output_type": "stream",
     "text": [
      "Added new webpage: https://www.loopearplugs.com/blogs/blog/how-to-block-noise-from-your-next-door-neighbors\n"
     ]
    },
    {
     "name": "stderr",
     "output_type": "stream",
     "text": [
      "\u001b[32m2024-08-13 12:44:10,701 - root - INFO - Adding new webpage: https://www.loopearplugs.com/blogs/blog/musicians-orchestra-avoid-hearing-damage\u001b[0m\n",
      "\u001b[32m2024-08-13 12:44:10,701 - root - INFO - Adding new webpage: https://www.loopearplugs.com/blogs/blog/musicians-orchestra-avoid-hearing-damage\u001b[0m\n",
      "\u001b[32m2024-08-13 12:44:10,701 - root - INFO - Adding new webpage: https://www.loopearplugs.com/blogs/blog/musicians-orchestra-avoid-hearing-damage\u001b[0m\n",
      "\u001b[32m2024-08-13 12:44:10,701 - root - INFO - Adding new webpage: https://www.loopearplugs.com/blogs/blog/musicians-orchestra-avoid-hearing-damage\u001b[0m\n",
      "\u001b[32m2024-08-13 12:44:10,701 - root - INFO - Adding new webpage: https://www.loopearplugs.com/blogs/blog/musicians-orchestra-avoid-hearing-damage\u001b[0m\n",
      "\u001b[32m2024-08-13 12:44:10,701 - root - INFO - Adding new webpage: https://www.loopearplugs.com/blogs/blog/musicians-orchestra-avoid-hearing-damage\u001b[0m\n"
     ]
    },
    {
     "name": "stdout",
     "output_type": "stream",
     "text": [
      "Added new webpage: https://www.loopearplugs.com/blogs/blog/musicians-orchestra-avoid-hearing-damage\n"
     ]
    },
    {
     "name": "stderr",
     "output_type": "stream",
     "text": [
      "\u001b[32m2024-08-13 12:44:12,193 - root - INFO - Adding new webpage: https://www.loopearplugs.com/blogs/blog/how-is-tinnitus-diagnosed\u001b[0m\n",
      "\u001b[32m2024-08-13 12:44:12,193 - root - INFO - Adding new webpage: https://www.loopearplugs.com/blogs/blog/how-is-tinnitus-diagnosed\u001b[0m\n",
      "\u001b[32m2024-08-13 12:44:12,193 - root - INFO - Adding new webpage: https://www.loopearplugs.com/blogs/blog/how-is-tinnitus-diagnosed\u001b[0m\n",
      "\u001b[32m2024-08-13 12:44:12,193 - root - INFO - Adding new webpage: https://www.loopearplugs.com/blogs/blog/how-is-tinnitus-diagnosed\u001b[0m\n",
      "\u001b[32m2024-08-13 12:44:12,193 - root - INFO - Adding new webpage: https://www.loopearplugs.com/blogs/blog/how-is-tinnitus-diagnosed\u001b[0m\n",
      "\u001b[32m2024-08-13 12:44:12,193 - root - INFO - Adding new webpage: https://www.loopearplugs.com/blogs/blog/how-is-tinnitus-diagnosed\u001b[0m\n"
     ]
    },
    {
     "name": "stdout",
     "output_type": "stream",
     "text": [
      "Added new webpage: https://www.loopearplugs.com/blogs/blog/how-is-tinnitus-diagnosed\n"
     ]
    },
    {
     "name": "stderr",
     "output_type": "stream",
     "text": [
      "\u001b[32m2024-08-13 12:44:13,693 - root - INFO - Adding new webpage: https://www.loopearplugs.com/blogs/blog/artificial-intelligence-is-reinventing-the-earplug\u001b[0m\n",
      "\u001b[32m2024-08-13 12:44:13,693 - root - INFO - Adding new webpage: https://www.loopearplugs.com/blogs/blog/artificial-intelligence-is-reinventing-the-earplug\u001b[0m\n",
      "\u001b[32m2024-08-13 12:44:13,693 - root - INFO - Adding new webpage: https://www.loopearplugs.com/blogs/blog/artificial-intelligence-is-reinventing-the-earplug\u001b[0m\n",
      "\u001b[32m2024-08-13 12:44:13,693 - root - INFO - Adding new webpage: https://www.loopearplugs.com/blogs/blog/artificial-intelligence-is-reinventing-the-earplug\u001b[0m\n",
      "\u001b[32m2024-08-13 12:44:13,693 - root - INFO - Adding new webpage: https://www.loopearplugs.com/blogs/blog/artificial-intelligence-is-reinventing-the-earplug\u001b[0m\n",
      "\u001b[32m2024-08-13 12:44:13,693 - root - INFO - Adding new webpage: https://www.loopearplugs.com/blogs/blog/artificial-intelligence-is-reinventing-the-earplug\u001b[0m\n"
     ]
    },
    {
     "name": "stdout",
     "output_type": "stream",
     "text": [
      "Added new webpage: https://www.loopearplugs.com/blogs/blog/artificial-intelligence-is-reinventing-the-earplug\n"
     ]
    },
    {
     "name": "stderr",
     "output_type": "stream",
     "text": [
      "\u001b[32m2024-08-13 12:44:15,306 - root - INFO - Adding new webpage: https://www.loopearplugs.com/blogs/blog/ear-protection-earplugs\u001b[0m\n",
      "\u001b[32m2024-08-13 12:44:15,306 - root - INFO - Adding new webpage: https://www.loopearplugs.com/blogs/blog/ear-protection-earplugs\u001b[0m\n",
      "\u001b[32m2024-08-13 12:44:15,306 - root - INFO - Adding new webpage: https://www.loopearplugs.com/blogs/blog/ear-protection-earplugs\u001b[0m\n",
      "\u001b[32m2024-08-13 12:44:15,306 - root - INFO - Adding new webpage: https://www.loopearplugs.com/blogs/blog/ear-protection-earplugs\u001b[0m\n",
      "\u001b[32m2024-08-13 12:44:15,306 - root - INFO - Adding new webpage: https://www.loopearplugs.com/blogs/blog/ear-protection-earplugs\u001b[0m\n",
      "\u001b[32m2024-08-13 12:44:15,306 - root - INFO - Adding new webpage: https://www.loopearplugs.com/blogs/blog/ear-protection-earplugs\u001b[0m\n"
     ]
    },
    {
     "name": "stdout",
     "output_type": "stream",
     "text": [
      "Added new webpage: https://www.loopearplugs.com/blogs/blog/ear-protection-earplugs\n"
     ]
    },
    {
     "name": "stderr",
     "output_type": "stream",
     "text": [
      "\u001b[32m2024-08-13 12:44:16,639 - root - INFO - Adding new webpage: https://www.loopearplugs.com/blogs/blog/how-to-help-an-easily-distracted-child-at-home\u001b[0m\n",
      "\u001b[32m2024-08-13 12:44:16,639 - root - INFO - Adding new webpage: https://www.loopearplugs.com/blogs/blog/how-to-help-an-easily-distracted-child-at-home\u001b[0m\n",
      "\u001b[32m2024-08-13 12:44:16,639 - root - INFO - Adding new webpage: https://www.loopearplugs.com/blogs/blog/how-to-help-an-easily-distracted-child-at-home\u001b[0m\n",
      "\u001b[32m2024-08-13 12:44:16,639 - root - INFO - Adding new webpage: https://www.loopearplugs.com/blogs/blog/how-to-help-an-easily-distracted-child-at-home\u001b[0m\n",
      "\u001b[32m2024-08-13 12:44:16,639 - root - INFO - Adding new webpage: https://www.loopearplugs.com/blogs/blog/how-to-help-an-easily-distracted-child-at-home\u001b[0m\n",
      "\u001b[32m2024-08-13 12:44:16,639 - root - INFO - Adding new webpage: https://www.loopearplugs.com/blogs/blog/how-to-help-an-easily-distracted-child-at-home\u001b[0m\n"
     ]
    },
    {
     "name": "stdout",
     "output_type": "stream",
     "text": [
      "Added new webpage: https://www.loopearplugs.com/blogs/blog/how-to-help-an-easily-distracted-child-at-home\n"
     ]
    },
    {
     "name": "stderr",
     "output_type": "stream",
     "text": [
      "\u001b[32m2024-08-13 12:44:18,532 - root - INFO - Adding new webpage: https://www.loopearplugs.com/blogs/news/untitled-jul-4-21-37-47\u001b[0m\n",
      "\u001b[32m2024-08-13 12:44:18,532 - root - INFO - Adding new webpage: https://www.loopearplugs.com/blogs/news/untitled-jul-4-21-37-47\u001b[0m\n",
      "\u001b[32m2024-08-13 12:44:18,532 - root - INFO - Adding new webpage: https://www.loopearplugs.com/blogs/news/untitled-jul-4-21-37-47\u001b[0m\n",
      "\u001b[32m2024-08-13 12:44:18,532 - root - INFO - Adding new webpage: https://www.loopearplugs.com/blogs/news/untitled-jul-4-21-37-47\u001b[0m\n",
      "\u001b[32m2024-08-13 12:44:18,532 - root - INFO - Adding new webpage: https://www.loopearplugs.com/blogs/news/untitled-jul-4-21-37-47\u001b[0m\n",
      "\u001b[32m2024-08-13 12:44:18,532 - root - INFO - Adding new webpage: https://www.loopearplugs.com/blogs/news/untitled-jul-4-21-37-47\u001b[0m\n"
     ]
    },
    {
     "name": "stdout",
     "output_type": "stream",
     "text": [
      "Added new webpage: https://www.loopearplugs.com/blogs/news/untitled-jul-4-21-37-47\n"
     ]
    },
    {
     "name": "stderr",
     "output_type": "stream",
     "text": [
      "\u001b[32m2024-08-13 12:44:20,131 - root - INFO - Adding new webpage: https://www.loopearplugs.com/blogs/blog/how-to-improve-work-life-balance-for-employees\u001b[0m\n",
      "\u001b[32m2024-08-13 12:44:20,131 - root - INFO - Adding new webpage: https://www.loopearplugs.com/blogs/blog/how-to-improve-work-life-balance-for-employees\u001b[0m\n",
      "\u001b[32m2024-08-13 12:44:20,131 - root - INFO - Adding new webpage: https://www.loopearplugs.com/blogs/blog/how-to-improve-work-life-balance-for-employees\u001b[0m\n",
      "\u001b[32m2024-08-13 12:44:20,131 - root - INFO - Adding new webpage: https://www.loopearplugs.com/blogs/blog/how-to-improve-work-life-balance-for-employees\u001b[0m\n",
      "\u001b[32m2024-08-13 12:44:20,131 - root - INFO - Adding new webpage: https://www.loopearplugs.com/blogs/blog/how-to-improve-work-life-balance-for-employees\u001b[0m\n",
      "\u001b[32m2024-08-13 12:44:20,131 - root - INFO - Adding new webpage: https://www.loopearplugs.com/blogs/blog/how-to-improve-work-life-balance-for-employees\u001b[0m\n"
     ]
    },
    {
     "name": "stdout",
     "output_type": "stream",
     "text": [
      "Added new webpage: https://www.loopearplugs.com/blogs/blog/how-to-improve-work-life-balance-for-employees\n"
     ]
    },
    {
     "name": "stderr",
     "output_type": "stream",
     "text": [
      "\u001b[32m2024-08-13 12:44:21,388 - root - INFO - Adding new webpage: https://www.loopearplugs.com/blogs/blog/how-loop-lovers-look-live-iridescent\u001b[0m\n",
      "\u001b[32m2024-08-13 12:44:21,388 - root - INFO - Adding new webpage: https://www.loopearplugs.com/blogs/blog/how-loop-lovers-look-live-iridescent\u001b[0m\n",
      "\u001b[32m2024-08-13 12:44:21,388 - root - INFO - Adding new webpage: https://www.loopearplugs.com/blogs/blog/how-loop-lovers-look-live-iridescent\u001b[0m\n",
      "\u001b[32m2024-08-13 12:44:21,388 - root - INFO - Adding new webpage: https://www.loopearplugs.com/blogs/blog/how-loop-lovers-look-live-iridescent\u001b[0m\n",
      "\u001b[32m2024-08-13 12:44:21,388 - root - INFO - Adding new webpage: https://www.loopearplugs.com/blogs/blog/how-loop-lovers-look-live-iridescent\u001b[0m\n",
      "\u001b[32m2024-08-13 12:44:21,388 - root - INFO - Adding new webpage: https://www.loopearplugs.com/blogs/blog/how-loop-lovers-look-live-iridescent\u001b[0m\n"
     ]
    },
    {
     "name": "stdout",
     "output_type": "stream",
     "text": [
      "Added new webpage: https://www.loopearplugs.com/blogs/blog/how-loop-lovers-look-live-iridescent\n"
     ]
    },
    {
     "name": "stderr",
     "output_type": "stream",
     "text": [
      "\u001b[32m2024-08-13 12:44:22,898 - root - INFO - Adding new webpage: https://www.loopearplugs.com/blogs/blog/the-real-effects-of-noise-pollution-and-how-to-combat-it\u001b[0m\n",
      "\u001b[32m2024-08-13 12:44:22,898 - root - INFO - Adding new webpage: https://www.loopearplugs.com/blogs/blog/the-real-effects-of-noise-pollution-and-how-to-combat-it\u001b[0m\n",
      "\u001b[32m2024-08-13 12:44:22,898 - root - INFO - Adding new webpage: https://www.loopearplugs.com/blogs/blog/the-real-effects-of-noise-pollution-and-how-to-combat-it\u001b[0m\n",
      "\u001b[32m2024-08-13 12:44:22,898 - root - INFO - Adding new webpage: https://www.loopearplugs.com/blogs/blog/the-real-effects-of-noise-pollution-and-how-to-combat-it\u001b[0m\n",
      "\u001b[32m2024-08-13 12:44:22,898 - root - INFO - Adding new webpage: https://www.loopearplugs.com/blogs/blog/the-real-effects-of-noise-pollution-and-how-to-combat-it\u001b[0m\n",
      "\u001b[32m2024-08-13 12:44:22,898 - root - INFO - Adding new webpage: https://www.loopearplugs.com/blogs/blog/the-real-effects-of-noise-pollution-and-how-to-combat-it\u001b[0m\n"
     ]
    },
    {
     "name": "stdout",
     "output_type": "stream",
     "text": [
      "Added new webpage: https://www.loopearplugs.com/blogs/blog/the-real-effects-of-noise-pollution-and-how-to-combat-it\n"
     ]
    },
    {
     "name": "stderr",
     "output_type": "stream",
     "text": [
      "\u001b[32m2024-08-13 12:44:24,072 - root - INFO - Adding new webpage: https://www.loopearplugs.com/blogs/blog/motorcycle-riding-its-impact-on-hearing\u001b[0m\n",
      "\u001b[32m2024-08-13 12:44:24,072 - root - INFO - Adding new webpage: https://www.loopearplugs.com/blogs/blog/motorcycle-riding-its-impact-on-hearing\u001b[0m\n",
      "\u001b[32m2024-08-13 12:44:24,072 - root - INFO - Adding new webpage: https://www.loopearplugs.com/blogs/blog/motorcycle-riding-its-impact-on-hearing\u001b[0m\n",
      "\u001b[32m2024-08-13 12:44:24,072 - root - INFO - Adding new webpage: https://www.loopearplugs.com/blogs/blog/motorcycle-riding-its-impact-on-hearing\u001b[0m\n",
      "\u001b[32m2024-08-13 12:44:24,072 - root - INFO - Adding new webpage: https://www.loopearplugs.com/blogs/blog/motorcycle-riding-its-impact-on-hearing\u001b[0m\n",
      "\u001b[32m2024-08-13 12:44:24,072 - root - INFO - Adding new webpage: https://www.loopearplugs.com/blogs/blog/motorcycle-riding-its-impact-on-hearing\u001b[0m\n"
     ]
    },
    {
     "name": "stdout",
     "output_type": "stream",
     "text": [
      "Added new webpage: https://www.loopearplugs.com/blogs/blog/motorcycle-riding-its-impact-on-hearing\n"
     ]
    },
    {
     "name": "stderr",
     "output_type": "stream",
     "text": [
      "\u001b[32m2024-08-13 12:44:25,198 - root - INFO - Adding new webpage: https://www.loopearplugs.com/blogs/press/loop-redefines-how-an-earplug-should-perform-and-look\u001b[0m\n",
      "\u001b[32m2024-08-13 12:44:25,198 - root - INFO - Adding new webpage: https://www.loopearplugs.com/blogs/press/loop-redefines-how-an-earplug-should-perform-and-look\u001b[0m\n",
      "\u001b[32m2024-08-13 12:44:25,198 - root - INFO - Adding new webpage: https://www.loopearplugs.com/blogs/press/loop-redefines-how-an-earplug-should-perform-and-look\u001b[0m\n",
      "\u001b[32m2024-08-13 12:44:25,198 - root - INFO - Adding new webpage: https://www.loopearplugs.com/blogs/press/loop-redefines-how-an-earplug-should-perform-and-look\u001b[0m\n",
      "\u001b[32m2024-08-13 12:44:25,198 - root - INFO - Adding new webpage: https://www.loopearplugs.com/blogs/press/loop-redefines-how-an-earplug-should-perform-and-look\u001b[0m\n",
      "\u001b[32m2024-08-13 12:44:25,198 - root - INFO - Adding new webpage: https://www.loopearplugs.com/blogs/press/loop-redefines-how-an-earplug-should-perform-and-look\u001b[0m\n"
     ]
    },
    {
     "name": "stdout",
     "output_type": "stream",
     "text": [
      "Added new webpage: https://www.loopearplugs.com/blogs/press/loop-redefines-how-an-earplug-should-perform-and-look\n"
     ]
    },
    {
     "name": "stderr",
     "output_type": "stream",
     "text": [
      "\u001b[32m2024-08-13 12:44:26,655 - root - INFO - Adding new webpage: https://www.loopearplugs.com/blogs/blog/how-can-employers-reduce-stress-in-the-workplace\u001b[0m\n",
      "\u001b[32m2024-08-13 12:44:26,655 - root - INFO - Adding new webpage: https://www.loopearplugs.com/blogs/blog/how-can-employers-reduce-stress-in-the-workplace\u001b[0m\n",
      "\u001b[32m2024-08-13 12:44:26,655 - root - INFO - Adding new webpage: https://www.loopearplugs.com/blogs/blog/how-can-employers-reduce-stress-in-the-workplace\u001b[0m\n",
      "\u001b[32m2024-08-13 12:44:26,655 - root - INFO - Adding new webpage: https://www.loopearplugs.com/blogs/blog/how-can-employers-reduce-stress-in-the-workplace\u001b[0m\n",
      "\u001b[32m2024-08-13 12:44:26,655 - root - INFO - Adding new webpage: https://www.loopearplugs.com/blogs/blog/how-can-employers-reduce-stress-in-the-workplace\u001b[0m\n",
      "\u001b[32m2024-08-13 12:44:26,655 - root - INFO - Adding new webpage: https://www.loopearplugs.com/blogs/blog/how-can-employers-reduce-stress-in-the-workplace\u001b[0m\n"
     ]
    },
    {
     "name": "stdout",
     "output_type": "stream",
     "text": [
      "Added new webpage: https://www.loopearplugs.com/blogs/blog/how-can-employers-reduce-stress-in-the-workplace\n"
     ]
    },
    {
     "name": "stderr",
     "output_type": "stream",
     "text": [
      "\u001b[32m2024-08-13 12:44:28,087 - root - INFO - Adding new webpage: https://www.loopearplugs.com/blogs/blog/understanding-the-different-types-of-tinnitus\u001b[0m\n",
      "\u001b[32m2024-08-13 12:44:28,087 - root - INFO - Adding new webpage: https://www.loopearplugs.com/blogs/blog/understanding-the-different-types-of-tinnitus\u001b[0m\n",
      "\u001b[32m2024-08-13 12:44:28,087 - root - INFO - Adding new webpage: https://www.loopearplugs.com/blogs/blog/understanding-the-different-types-of-tinnitus\u001b[0m\n",
      "\u001b[32m2024-08-13 12:44:28,087 - root - INFO - Adding new webpage: https://www.loopearplugs.com/blogs/blog/understanding-the-different-types-of-tinnitus\u001b[0m\n",
      "\u001b[32m2024-08-13 12:44:28,087 - root - INFO - Adding new webpage: https://www.loopearplugs.com/blogs/blog/understanding-the-different-types-of-tinnitus\u001b[0m\n",
      "\u001b[32m2024-08-13 12:44:28,087 - root - INFO - Adding new webpage: https://www.loopearplugs.com/blogs/blog/understanding-the-different-types-of-tinnitus\u001b[0m\n"
     ]
    },
    {
     "name": "stdout",
     "output_type": "stream",
     "text": [
      "Added new webpage: https://www.loopearplugs.com/blogs/blog/understanding-the-different-types-of-tinnitus\n"
     ]
    },
    {
     "name": "stderr",
     "output_type": "stream",
     "text": [
      "\u001b[32m2024-08-13 12:44:29,589 - root - INFO - Adding new webpage: https://www.loopearplugs.com/blogs/blog/what-to-do-if-youre-triggered-by-noise-blog-loop-earplugs\u001b[0m\n",
      "\u001b[32m2024-08-13 12:44:29,589 - root - INFO - Adding new webpage: https://www.loopearplugs.com/blogs/blog/what-to-do-if-youre-triggered-by-noise-blog-loop-earplugs\u001b[0m\n",
      "\u001b[32m2024-08-13 12:44:29,589 - root - INFO - Adding new webpage: https://www.loopearplugs.com/blogs/blog/what-to-do-if-youre-triggered-by-noise-blog-loop-earplugs\u001b[0m\n",
      "\u001b[32m2024-08-13 12:44:29,589 - root - INFO - Adding new webpage: https://www.loopearplugs.com/blogs/blog/what-to-do-if-youre-triggered-by-noise-blog-loop-earplugs\u001b[0m\n",
      "\u001b[32m2024-08-13 12:44:29,589 - root - INFO - Adding new webpage: https://www.loopearplugs.com/blogs/blog/what-to-do-if-youre-triggered-by-noise-blog-loop-earplugs\u001b[0m\n",
      "\u001b[32m2024-08-13 12:44:29,589 - root - INFO - Adding new webpage: https://www.loopearplugs.com/blogs/blog/what-to-do-if-youre-triggered-by-noise-blog-loop-earplugs\u001b[0m\n"
     ]
    },
    {
     "name": "stdout",
     "output_type": "stream",
     "text": [
      "Added new webpage: https://www.loopearplugs.com/blogs/blog/what-to-do-if-youre-triggered-by-noise-blog-loop-earplugs\n"
     ]
    },
    {
     "name": "stderr",
     "output_type": "stream",
     "text": [
      "\u001b[32m2024-08-13 12:44:31,105 - root - INFO - Adding new webpage: https://www.loopearplugs.com/blogs/blog/your-questions-answered\u001b[0m\n",
      "\u001b[32m2024-08-13 12:44:31,105 - root - INFO - Adding new webpage: https://www.loopearplugs.com/blogs/blog/your-questions-answered\u001b[0m\n",
      "\u001b[32m2024-08-13 12:44:31,105 - root - INFO - Adding new webpage: https://www.loopearplugs.com/blogs/blog/your-questions-answered\u001b[0m\n",
      "\u001b[32m2024-08-13 12:44:31,105 - root - INFO - Adding new webpage: https://www.loopearplugs.com/blogs/blog/your-questions-answered\u001b[0m\n",
      "\u001b[32m2024-08-13 12:44:31,105 - root - INFO - Adding new webpage: https://www.loopearplugs.com/blogs/blog/your-questions-answered\u001b[0m\n",
      "\u001b[32m2024-08-13 12:44:31,105 - root - INFO - Adding new webpage: https://www.loopearplugs.com/blogs/blog/your-questions-answered\u001b[0m\n"
     ]
    },
    {
     "name": "stdout",
     "output_type": "stream",
     "text": [
      "Added new webpage: https://www.loopearplugs.com/blogs/blog/your-questions-answered\n"
     ]
    },
    {
     "name": "stderr",
     "output_type": "stream",
     "text": [
      "\u001b[32m2024-08-13 12:44:32,647 - root - INFO - Adding new webpage: https://www.loopearplugs.com/blogs/blog/top-tips-for-flying-with-children-essential-advice-for-stress-free-travel\u001b[0m\n",
      "\u001b[32m2024-08-13 12:44:32,647 - root - INFO - Adding new webpage: https://www.loopearplugs.com/blogs/blog/top-tips-for-flying-with-children-essential-advice-for-stress-free-travel\u001b[0m\n",
      "\u001b[32m2024-08-13 12:44:32,647 - root - INFO - Adding new webpage: https://www.loopearplugs.com/blogs/blog/top-tips-for-flying-with-children-essential-advice-for-stress-free-travel\u001b[0m\n",
      "\u001b[32m2024-08-13 12:44:32,647 - root - INFO - Adding new webpage: https://www.loopearplugs.com/blogs/blog/top-tips-for-flying-with-children-essential-advice-for-stress-free-travel\u001b[0m\n",
      "\u001b[32m2024-08-13 12:44:32,647 - root - INFO - Adding new webpage: https://www.loopearplugs.com/blogs/blog/top-tips-for-flying-with-children-essential-advice-for-stress-free-travel\u001b[0m\n",
      "\u001b[32m2024-08-13 12:44:32,647 - root - INFO - Adding new webpage: https://www.loopearplugs.com/blogs/blog/top-tips-for-flying-with-children-essential-advice-for-stress-free-travel\u001b[0m\n"
     ]
    },
    {
     "name": "stdout",
     "output_type": "stream",
     "text": [
      "Added new webpage: https://www.loopearplugs.com/blogs/blog/top-tips-for-flying-with-children-essential-advice-for-stress-free-travel\n"
     ]
    },
    {
     "name": "stderr",
     "output_type": "stream",
     "text": [
      "\u001b[32m2024-08-13 12:44:34,182 - root - INFO - Adding new webpage: https://www.loopearplugs.com/blogs/blog/how-to-survive-your-first-festival-our-music-festival-guide-for-beginners\u001b[0m\n",
      "\u001b[32m2024-08-13 12:44:34,182 - root - INFO - Adding new webpage: https://www.loopearplugs.com/blogs/blog/how-to-survive-your-first-festival-our-music-festival-guide-for-beginners\u001b[0m\n",
      "\u001b[32m2024-08-13 12:44:34,182 - root - INFO - Adding new webpage: https://www.loopearplugs.com/blogs/blog/how-to-survive-your-first-festival-our-music-festival-guide-for-beginners\u001b[0m\n",
      "\u001b[32m2024-08-13 12:44:34,182 - root - INFO - Adding new webpage: https://www.loopearplugs.com/blogs/blog/how-to-survive-your-first-festival-our-music-festival-guide-for-beginners\u001b[0m\n",
      "\u001b[32m2024-08-13 12:44:34,182 - root - INFO - Adding new webpage: https://www.loopearplugs.com/blogs/blog/how-to-survive-your-first-festival-our-music-festival-guide-for-beginners\u001b[0m\n",
      "\u001b[32m2024-08-13 12:44:34,182 - root - INFO - Adding new webpage: https://www.loopearplugs.com/blogs/blog/how-to-survive-your-first-festival-our-music-festival-guide-for-beginners\u001b[0m\n"
     ]
    },
    {
     "name": "stdout",
     "output_type": "stream",
     "text": [
      "Added new webpage: https://www.loopearplugs.com/blogs/blog/how-to-survive-your-first-festival-our-music-festival-guide-for-beginners\n"
     ]
    },
    {
     "name": "stderr",
     "output_type": "stream",
     "text": [
      "\u001b[32m2024-08-13 12:44:35,375 - root - INFO - Adding new webpage: https://www.loopearplugs.com/blogs/life-at-loop/working-at-loop-the-good-the-bad-and-the-ugly\u001b[0m\n",
      "\u001b[32m2024-08-13 12:44:35,375 - root - INFO - Adding new webpage: https://www.loopearplugs.com/blogs/life-at-loop/working-at-loop-the-good-the-bad-and-the-ugly\u001b[0m\n",
      "\u001b[32m2024-08-13 12:44:35,375 - root - INFO - Adding new webpage: https://www.loopearplugs.com/blogs/life-at-loop/working-at-loop-the-good-the-bad-and-the-ugly\u001b[0m\n",
      "\u001b[32m2024-08-13 12:44:35,375 - root - INFO - Adding new webpage: https://www.loopearplugs.com/blogs/life-at-loop/working-at-loop-the-good-the-bad-and-the-ugly\u001b[0m\n",
      "\u001b[32m2024-08-13 12:44:35,375 - root - INFO - Adding new webpage: https://www.loopearplugs.com/blogs/life-at-loop/working-at-loop-the-good-the-bad-and-the-ugly\u001b[0m\n",
      "\u001b[32m2024-08-13 12:44:35,375 - root - INFO - Adding new webpage: https://www.loopearplugs.com/blogs/life-at-loop/working-at-loop-the-good-the-bad-and-the-ugly\u001b[0m\n"
     ]
    },
    {
     "name": "stdout",
     "output_type": "stream",
     "text": [
      "Added new webpage: https://www.loopearplugs.com/blogs/life-at-loop/working-at-loop-the-good-the-bad-and-the-ugly\n"
     ]
    },
    {
     "name": "stderr",
     "output_type": "stream",
     "text": [
      "\u001b[32m2024-08-13 12:44:37,162 - root - INFO - Adding new webpage: https://www.loopearplugs.com/blogs/blog/stop-ringing-ears\u001b[0m\n",
      "\u001b[32m2024-08-13 12:44:37,162 - root - INFO - Adding new webpage: https://www.loopearplugs.com/blogs/blog/stop-ringing-ears\u001b[0m\n",
      "\u001b[32m2024-08-13 12:44:37,162 - root - INFO - Adding new webpage: https://www.loopearplugs.com/blogs/blog/stop-ringing-ears\u001b[0m\n",
      "\u001b[32m2024-08-13 12:44:37,162 - root - INFO - Adding new webpage: https://www.loopearplugs.com/blogs/blog/stop-ringing-ears\u001b[0m\n",
      "\u001b[32m2024-08-13 12:44:37,162 - root - INFO - Adding new webpage: https://www.loopearplugs.com/blogs/blog/stop-ringing-ears\u001b[0m\n",
      "\u001b[32m2024-08-13 12:44:37,162 - root - INFO - Adding new webpage: https://www.loopearplugs.com/blogs/blog/stop-ringing-ears\u001b[0m\n"
     ]
    },
    {
     "name": "stdout",
     "output_type": "stream",
     "text": [
      "Added new webpage: https://www.loopearplugs.com/blogs/blog/stop-ringing-ears\n"
     ]
    },
    {
     "name": "stderr",
     "output_type": "stream",
     "text": [
      "\u001b[32m2024-08-13 12:44:38,640 - root - INFO - Adding new webpage: https://www.loopearplugs.com/blogs/blog/how-to-sleep-on-a-plane\u001b[0m\n",
      "\u001b[32m2024-08-13 12:44:38,640 - root - INFO - Adding new webpage: https://www.loopearplugs.com/blogs/blog/how-to-sleep-on-a-plane\u001b[0m\n",
      "\u001b[32m2024-08-13 12:44:38,640 - root - INFO - Adding new webpage: https://www.loopearplugs.com/blogs/blog/how-to-sleep-on-a-plane\u001b[0m\n",
      "\u001b[32m2024-08-13 12:44:38,640 - root - INFO - Adding new webpage: https://www.loopearplugs.com/blogs/blog/how-to-sleep-on-a-plane\u001b[0m\n",
      "\u001b[32m2024-08-13 12:44:38,640 - root - INFO - Adding new webpage: https://www.loopearplugs.com/blogs/blog/how-to-sleep-on-a-plane\u001b[0m\n",
      "\u001b[32m2024-08-13 12:44:38,640 - root - INFO - Adding new webpage: https://www.loopearplugs.com/blogs/blog/how-to-sleep-on-a-plane\u001b[0m\n"
     ]
    },
    {
     "name": "stdout",
     "output_type": "stream",
     "text": [
      "Added new webpage: https://www.loopearplugs.com/blogs/blog/how-to-sleep-on-a-plane\n"
     ]
    },
    {
     "name": "stderr",
     "output_type": "stream",
     "text": [
      "\u001b[32m2024-08-13 12:44:40,307 - root - INFO - Adding new webpage: https://www.loopearplugs.com/blogs/blog/protect-your-ears-when-riding-a-motorcycle\u001b[0m\n",
      "\u001b[32m2024-08-13 12:44:40,307 - root - INFO - Adding new webpage: https://www.loopearplugs.com/blogs/blog/protect-your-ears-when-riding-a-motorcycle\u001b[0m\n",
      "\u001b[32m2024-08-13 12:44:40,307 - root - INFO - Adding new webpage: https://www.loopearplugs.com/blogs/blog/protect-your-ears-when-riding-a-motorcycle\u001b[0m\n",
      "\u001b[32m2024-08-13 12:44:40,307 - root - INFO - Adding new webpage: https://www.loopearplugs.com/blogs/blog/protect-your-ears-when-riding-a-motorcycle\u001b[0m\n",
      "\u001b[32m2024-08-13 12:44:40,307 - root - INFO - Adding new webpage: https://www.loopearplugs.com/blogs/blog/protect-your-ears-when-riding-a-motorcycle\u001b[0m\n",
      "\u001b[32m2024-08-13 12:44:40,307 - root - INFO - Adding new webpage: https://www.loopearplugs.com/blogs/blog/protect-your-ears-when-riding-a-motorcycle\u001b[0m\n"
     ]
    },
    {
     "name": "stdout",
     "output_type": "stream",
     "text": [
      "Added new webpage: https://www.loopearplugs.com/blogs/blog/protect-your-ears-when-riding-a-motorcycle\n"
     ]
    },
    {
     "name": "stderr",
     "output_type": "stream",
     "text": [
      "\u001b[32m2024-08-13 12:44:41,809 - root - INFO - Adding new webpage: https://www.loopearplugs.com/blogs/blog/what-is-misophonia\u001b[0m\n",
      "\u001b[32m2024-08-13 12:44:41,809 - root - INFO - Adding new webpage: https://www.loopearplugs.com/blogs/blog/what-is-misophonia\u001b[0m\n",
      "\u001b[32m2024-08-13 12:44:41,809 - root - INFO - Adding new webpage: https://www.loopearplugs.com/blogs/blog/what-is-misophonia\u001b[0m\n",
      "\u001b[32m2024-08-13 12:44:41,809 - root - INFO - Adding new webpage: https://www.loopearplugs.com/blogs/blog/what-is-misophonia\u001b[0m\n",
      "\u001b[32m2024-08-13 12:44:41,809 - root - INFO - Adding new webpage: https://www.loopearplugs.com/blogs/blog/what-is-misophonia\u001b[0m\n",
      "\u001b[32m2024-08-13 12:44:41,809 - root - INFO - Adding new webpage: https://www.loopearplugs.com/blogs/blog/what-is-misophonia\u001b[0m\n"
     ]
    },
    {
     "name": "stdout",
     "output_type": "stream",
     "text": [
      "Added new webpage: https://www.loopearplugs.com/blogs/blog/what-is-misophonia\n"
     ]
    },
    {
     "name": "stderr",
     "output_type": "stream",
     "text": [
      "\u001b[32m2024-08-13 12:44:43,034 - root - INFO - Adding new webpage: https://www.loopearplugs.com/blogs/life-at-loop/meet-our-customer-happiness-team\u001b[0m\n",
      "\u001b[32m2024-08-13 12:44:43,034 - root - INFO - Adding new webpage: https://www.loopearplugs.com/blogs/life-at-loop/meet-our-customer-happiness-team\u001b[0m\n",
      "\u001b[32m2024-08-13 12:44:43,034 - root - INFO - Adding new webpage: https://www.loopearplugs.com/blogs/life-at-loop/meet-our-customer-happiness-team\u001b[0m\n",
      "\u001b[32m2024-08-13 12:44:43,034 - root - INFO - Adding new webpage: https://www.loopearplugs.com/blogs/life-at-loop/meet-our-customer-happiness-team\u001b[0m\n",
      "\u001b[32m2024-08-13 12:44:43,034 - root - INFO - Adding new webpage: https://www.loopearplugs.com/blogs/life-at-loop/meet-our-customer-happiness-team\u001b[0m\n",
      "\u001b[32m2024-08-13 12:44:43,034 - root - INFO - Adding new webpage: https://www.loopearplugs.com/blogs/life-at-loop/meet-our-customer-happiness-team\u001b[0m\n"
     ]
    },
    {
     "name": "stdout",
     "output_type": "stream",
     "text": [
      "Added new webpage: https://www.loopearplugs.com/blogs/life-at-loop/meet-our-customer-happiness-team\n"
     ]
    },
    {
     "name": "stderr",
     "output_type": "stream",
     "text": [
      "\u001b[32m2024-08-13 12:44:44,607 - root - INFO - Adding new webpage: https://www.loopearplugs.com/blogs/blog/introducing-engage-and-experience-2\u001b[0m\n",
      "\u001b[32m2024-08-13 12:44:44,607 - root - INFO - Adding new webpage: https://www.loopearplugs.com/blogs/blog/introducing-engage-and-experience-2\u001b[0m\n",
      "\u001b[32m2024-08-13 12:44:44,607 - root - INFO - Adding new webpage: https://www.loopearplugs.com/blogs/blog/introducing-engage-and-experience-2\u001b[0m\n",
      "\u001b[32m2024-08-13 12:44:44,607 - root - INFO - Adding new webpage: https://www.loopearplugs.com/blogs/blog/introducing-engage-and-experience-2\u001b[0m\n",
      "\u001b[32m2024-08-13 12:44:44,607 - root - INFO - Adding new webpage: https://www.loopearplugs.com/blogs/blog/introducing-engage-and-experience-2\u001b[0m\n",
      "\u001b[32m2024-08-13 12:44:44,607 - root - INFO - Adding new webpage: https://www.loopearplugs.com/blogs/blog/introducing-engage-and-experience-2\u001b[0m\n"
     ]
    },
    {
     "name": "stdout",
     "output_type": "stream",
     "text": [
      "Added new webpage: https://www.loopearplugs.com/blogs/blog/introducing-engage-and-experience-2\n"
     ]
    },
    {
     "name": "stderr",
     "output_type": "stream",
     "text": [
      "\u001b[32m2024-08-13 12:44:46,315 - root - INFO - Adding new webpage: https://www.loopearplugs.com/blogs/blog/noise-disturbances\u001b[0m\n",
      "\u001b[32m2024-08-13 12:44:46,315 - root - INFO - Adding new webpage: https://www.loopearplugs.com/blogs/blog/noise-disturbances\u001b[0m\n",
      "\u001b[32m2024-08-13 12:44:46,315 - root - INFO - Adding new webpage: https://www.loopearplugs.com/blogs/blog/noise-disturbances\u001b[0m\n",
      "\u001b[32m2024-08-13 12:44:46,315 - root - INFO - Adding new webpage: https://www.loopearplugs.com/blogs/blog/noise-disturbances\u001b[0m\n",
      "\u001b[32m2024-08-13 12:44:46,315 - root - INFO - Adding new webpage: https://www.loopearplugs.com/blogs/blog/noise-disturbances\u001b[0m\n",
      "\u001b[32m2024-08-13 12:44:46,315 - root - INFO - Adding new webpage: https://www.loopearplugs.com/blogs/blog/noise-disturbances\u001b[0m\n"
     ]
    },
    {
     "name": "stdout",
     "output_type": "stream",
     "text": [
      "Added new webpage: https://www.loopearplugs.com/blogs/blog/noise-disturbances\n"
     ]
    },
    {
     "name": "stderr",
     "output_type": "stream",
     "text": [
      "\u001b[32m2024-08-13 12:44:47,484 - root - INFO - Adding new webpage: https://www.loopearplugs.com/blogs/blog/7-of-the-loudest-sounds-that-shook-the-world\u001b[0m\n",
      "\u001b[32m2024-08-13 12:44:47,484 - root - INFO - Adding new webpage: https://www.loopearplugs.com/blogs/blog/7-of-the-loudest-sounds-that-shook-the-world\u001b[0m\n",
      "\u001b[32m2024-08-13 12:44:47,484 - root - INFO - Adding new webpage: https://www.loopearplugs.com/blogs/blog/7-of-the-loudest-sounds-that-shook-the-world\u001b[0m\n",
      "\u001b[32m2024-08-13 12:44:47,484 - root - INFO - Adding new webpage: https://www.loopearplugs.com/blogs/blog/7-of-the-loudest-sounds-that-shook-the-world\u001b[0m\n",
      "\u001b[32m2024-08-13 12:44:47,484 - root - INFO - Adding new webpage: https://www.loopearplugs.com/blogs/blog/7-of-the-loudest-sounds-that-shook-the-world\u001b[0m\n",
      "\u001b[32m2024-08-13 12:44:47,484 - root - INFO - Adding new webpage: https://www.loopearplugs.com/blogs/blog/7-of-the-loudest-sounds-that-shook-the-world\u001b[0m\n"
     ]
    },
    {
     "name": "stdout",
     "output_type": "stream",
     "text": [
      "Added new webpage: https://www.loopearplugs.com/blogs/blog/7-of-the-loudest-sounds-that-shook-the-world\n"
     ]
    },
    {
     "name": "stderr",
     "output_type": "stream",
     "text": [
      "\u001b[32m2024-08-13 12:44:48,926 - root - INFO - Adding new webpage: https://www.loopearplugs.com/blogs/blog/travel\u001b[0m\n",
      "\u001b[32m2024-08-13 12:44:48,926 - root - INFO - Adding new webpage: https://www.loopearplugs.com/blogs/blog/travel\u001b[0m\n",
      "\u001b[32m2024-08-13 12:44:48,926 - root - INFO - Adding new webpage: https://www.loopearplugs.com/blogs/blog/travel\u001b[0m\n",
      "\u001b[32m2024-08-13 12:44:48,926 - root - INFO - Adding new webpage: https://www.loopearplugs.com/blogs/blog/travel\u001b[0m\n",
      "\u001b[32m2024-08-13 12:44:48,926 - root - INFO - Adding new webpage: https://www.loopearplugs.com/blogs/blog/travel\u001b[0m\n",
      "\u001b[32m2024-08-13 12:44:48,926 - root - INFO - Adding new webpage: https://www.loopearplugs.com/blogs/blog/travel\u001b[0m\n"
     ]
    },
    {
     "name": "stdout",
     "output_type": "stream",
     "text": [
      "Added new webpage: https://www.loopearplugs.com/blogs/blog/travel\n"
     ]
    },
    {
     "name": "stderr",
     "output_type": "stream",
     "text": [
      "\u001b[33m2024-08-13 12:44:50,485 - trafilatura.xml - WARNING - missing link attribute: Example product title {}'\u001b[0m\n",
      "\u001b[33m2024-08-13 12:44:50,485 - trafilatura.xml - WARNING - missing link attribute: Example product title {}'\u001b[0m\n",
      "\u001b[33m2024-08-13 12:44:50,485 - trafilatura.xml - WARNING - missing link attribute: Example product title {}'\u001b[0m\n",
      "\u001b[33m2024-08-13 12:44:50,485 - trafilatura.xml - WARNING - missing link attribute: Example product title {}'\u001b[0m\n",
      "\u001b[33m2024-08-13 12:44:50,485 - trafilatura.xml - WARNING - missing link attribute: Example product title {}'\u001b[0m\n",
      "\u001b[33m2024-08-13 12:44:50,485 - trafilatura.xml - WARNING - missing link attribute: Example product title {}'\u001b[0m\n",
      "\u001b[33m2024-08-13 12:44:50,487 - trafilatura.xml - WARNING - missing link attribute: View full details {}'\u001b[0m\n",
      "\u001b[33m2024-08-13 12:44:50,487 - trafilatura.xml - WARNING - missing link attribute: View full details {}'\u001b[0m\n",
      "\u001b[33m2024-08-13 12:44:50,487 - trafilatura.xml - WARNING - missing link attribute: View full details {}'\u001b[0m\n",
      "\u001b[33m2024-08-13 12:44:50,487 - trafilatura.xml - WARNING - missing link attribute: View full details {}'\u001b[0m\n",
      "\u001b[33m2024-08-13 12:44:50,487 - trafilatura.xml - WARNING - missing link attribute: View full details {}'\u001b[0m\n",
      "\u001b[33m2024-08-13 12:44:50,487 - trafilatura.xml - WARNING - missing link attribute: View full details {}'\u001b[0m\n",
      "\u001b[32m2024-08-13 12:44:50,489 - root - INFO - Adding new webpage: https://www.loopearplugs.com/blogs/blog/gift-guide-for-the-new-year\u001b[0m\n",
      "\u001b[32m2024-08-13 12:44:50,489 - root - INFO - Adding new webpage: https://www.loopearplugs.com/blogs/blog/gift-guide-for-the-new-year\u001b[0m\n",
      "\u001b[32m2024-08-13 12:44:50,489 - root - INFO - Adding new webpage: https://www.loopearplugs.com/blogs/blog/gift-guide-for-the-new-year\u001b[0m\n",
      "\u001b[32m2024-08-13 12:44:50,489 - root - INFO - Adding new webpage: https://www.loopearplugs.com/blogs/blog/gift-guide-for-the-new-year\u001b[0m\n",
      "\u001b[32m2024-08-13 12:44:50,489 - root - INFO - Adding new webpage: https://www.loopearplugs.com/blogs/blog/gift-guide-for-the-new-year\u001b[0m\n",
      "\u001b[32m2024-08-13 12:44:50,489 - root - INFO - Adding new webpage: https://www.loopearplugs.com/blogs/blog/gift-guide-for-the-new-year\u001b[0m\n"
     ]
    },
    {
     "name": "stdout",
     "output_type": "stream",
     "text": [
      "Added new webpage: https://www.loopearplugs.com/blogs/blog/gift-guide-for-the-new-year\n"
     ]
    },
    {
     "name": "stderr",
     "output_type": "stream",
     "text": [
      "\u001b[32m2024-08-13 12:44:51,735 - root - INFO - Adding new webpage: https://www.loopearplugs.com/blogs/life-at-loop/walk-talk-with-stijn\u001b[0m\n",
      "\u001b[32m2024-08-13 12:44:51,735 - root - INFO - Adding new webpage: https://www.loopearplugs.com/blogs/life-at-loop/walk-talk-with-stijn\u001b[0m\n",
      "\u001b[32m2024-08-13 12:44:51,735 - root - INFO - Adding new webpage: https://www.loopearplugs.com/blogs/life-at-loop/walk-talk-with-stijn\u001b[0m\n",
      "\u001b[32m2024-08-13 12:44:51,735 - root - INFO - Adding new webpage: https://www.loopearplugs.com/blogs/life-at-loop/walk-talk-with-stijn\u001b[0m\n",
      "\u001b[32m2024-08-13 12:44:51,735 - root - INFO - Adding new webpage: https://www.loopearplugs.com/blogs/life-at-loop/walk-talk-with-stijn\u001b[0m\n",
      "\u001b[32m2024-08-13 12:44:51,735 - root - INFO - Adding new webpage: https://www.loopearplugs.com/blogs/life-at-loop/walk-talk-with-stijn\u001b[0m\n"
     ]
    },
    {
     "name": "stdout",
     "output_type": "stream",
     "text": [
      "Added new webpage: https://www.loopearplugs.com/blogs/life-at-loop/walk-talk-with-stijn\n"
     ]
    },
    {
     "name": "stderr",
     "output_type": "stream",
     "text": [
      "\u001b[32m2024-08-13 12:44:53,211 - root - INFO - Adding new webpage: https://www.loopearplugs.com/blogs/blog/relationship-between-noise-and-concentration\u001b[0m\n",
      "\u001b[32m2024-08-13 12:44:53,211 - root - INFO - Adding new webpage: https://www.loopearplugs.com/blogs/blog/relationship-between-noise-and-concentration\u001b[0m\n",
      "\u001b[32m2024-08-13 12:44:53,211 - root - INFO - Adding new webpage: https://www.loopearplugs.com/blogs/blog/relationship-between-noise-and-concentration\u001b[0m\n",
      "\u001b[32m2024-08-13 12:44:53,211 - root - INFO - Adding new webpage: https://www.loopearplugs.com/blogs/blog/relationship-between-noise-and-concentration\u001b[0m\n",
      "\u001b[32m2024-08-13 12:44:53,211 - root - INFO - Adding new webpage: https://www.loopearplugs.com/blogs/blog/relationship-between-noise-and-concentration\u001b[0m\n",
      "\u001b[32m2024-08-13 12:44:53,211 - root - INFO - Adding new webpage: https://www.loopearplugs.com/blogs/blog/relationship-between-noise-and-concentration\u001b[0m\n"
     ]
    },
    {
     "name": "stdout",
     "output_type": "stream",
     "text": [
      "Added new webpage: https://www.loopearplugs.com/blogs/blog/relationship-between-noise-and-concentration\n"
     ]
    },
    {
     "name": "stderr",
     "output_type": "stream",
     "text": [
      "\u001b[32m2024-08-13 12:44:54,422 - root - INFO - Adding new webpage: https://www.loopearplugs.com/blogs/press/la-startup-loop-combine-la-technologie-de-pointe-avec-un-design-unique-dans-ses-nouveaux-bouchons-d-oreilles-pour-la-vie-nocturne\u001b[0m\n",
      "\u001b[32m2024-08-13 12:44:54,422 - root - INFO - Adding new webpage: https://www.loopearplugs.com/blogs/press/la-startup-loop-combine-la-technologie-de-pointe-avec-un-design-unique-dans-ses-nouveaux-bouchons-d-oreilles-pour-la-vie-nocturne\u001b[0m\n",
      "\u001b[32m2024-08-13 12:44:54,422 - root - INFO - Adding new webpage: https://www.loopearplugs.com/blogs/press/la-startup-loop-combine-la-technologie-de-pointe-avec-un-design-unique-dans-ses-nouveaux-bouchons-d-oreilles-pour-la-vie-nocturne\u001b[0m\n",
      "\u001b[32m2024-08-13 12:44:54,422 - root - INFO - Adding new webpage: https://www.loopearplugs.com/blogs/press/la-startup-loop-combine-la-technologie-de-pointe-avec-un-design-unique-dans-ses-nouveaux-bouchons-d-oreilles-pour-la-vie-nocturne\u001b[0m\n",
      "\u001b[32m2024-08-13 12:44:54,422 - root - INFO - Adding new webpage: https://www.loopearplugs.com/blogs/press/la-startup-loop-combine-la-technologie-de-pointe-avec-un-design-unique-dans-ses-nouveaux-bouchons-d-oreilles-pour-la-vie-nocturne\u001b[0m\n",
      "\u001b[32m2024-08-13 12:44:54,422 - root - INFO - Adding new webpage: https://www.loopearplugs.com/blogs/press/la-startup-loop-combine-la-technologie-de-pointe-avec-un-design-unique-dans-ses-nouveaux-bouchons-d-oreilles-pour-la-vie-nocturne\u001b[0m\n"
     ]
    },
    {
     "name": "stdout",
     "output_type": "stream",
     "text": [
      "Added new webpage: https://www.loopearplugs.com/blogs/press/la-startup-loop-combine-la-technologie-de-pointe-avec-un-design-unique-dans-ses-nouveaux-bouchons-d-oreilles-pour-la-vie-nocturne\n"
     ]
    },
    {
     "name": "stderr",
     "output_type": "stream",
     "text": [
      "\u001b[32m2024-08-13 12:44:55,751 - root - INFO - Adding new webpage: https://www.loopearplugs.com/blogs/life-at-loop/the-loop-earplugs-product-vision\u001b[0m\n",
      "\u001b[32m2024-08-13 12:44:55,751 - root - INFO - Adding new webpage: https://www.loopearplugs.com/blogs/life-at-loop/the-loop-earplugs-product-vision\u001b[0m\n",
      "\u001b[32m2024-08-13 12:44:55,751 - root - INFO - Adding new webpage: https://www.loopearplugs.com/blogs/life-at-loop/the-loop-earplugs-product-vision\u001b[0m\n",
      "\u001b[32m2024-08-13 12:44:55,751 - root - INFO - Adding new webpage: https://www.loopearplugs.com/blogs/life-at-loop/the-loop-earplugs-product-vision\u001b[0m\n",
      "\u001b[32m2024-08-13 12:44:55,751 - root - INFO - Adding new webpage: https://www.loopearplugs.com/blogs/life-at-loop/the-loop-earplugs-product-vision\u001b[0m\n",
      "\u001b[32m2024-08-13 12:44:55,751 - root - INFO - Adding new webpage: https://www.loopearplugs.com/blogs/life-at-loop/the-loop-earplugs-product-vision\u001b[0m\n"
     ]
    },
    {
     "name": "stdout",
     "output_type": "stream",
     "text": [
      "Added new webpage: https://www.loopearplugs.com/blogs/life-at-loop/the-loop-earplugs-product-vision\n"
     ]
    },
    {
     "name": "stderr",
     "output_type": "stream",
     "text": [
      "\u001b[32m2024-08-13 12:44:57,318 - root - INFO - Adding new webpage: https://www.loopearplugs.com/blogs/blog/hearing-damage-online-test\u001b[0m\n",
      "\u001b[32m2024-08-13 12:44:57,318 - root - INFO - Adding new webpage: https://www.loopearplugs.com/blogs/blog/hearing-damage-online-test\u001b[0m\n",
      "\u001b[32m2024-08-13 12:44:57,318 - root - INFO - Adding new webpage: https://www.loopearplugs.com/blogs/blog/hearing-damage-online-test\u001b[0m\n",
      "\u001b[32m2024-08-13 12:44:57,318 - root - INFO - Adding new webpage: https://www.loopearplugs.com/blogs/blog/hearing-damage-online-test\u001b[0m\n",
      "\u001b[32m2024-08-13 12:44:57,318 - root - INFO - Adding new webpage: https://www.loopearplugs.com/blogs/blog/hearing-damage-online-test\u001b[0m\n",
      "\u001b[32m2024-08-13 12:44:57,318 - root - INFO - Adding new webpage: https://www.loopearplugs.com/blogs/blog/hearing-damage-online-test\u001b[0m\n"
     ]
    },
    {
     "name": "stdout",
     "output_type": "stream",
     "text": [
      "Added new webpage: https://www.loopearplugs.com/blogs/blog/hearing-damage-online-test\n"
     ]
    },
    {
     "name": "stderr",
     "output_type": "stream",
     "text": [
      "\u001b[32m2024-08-13 12:44:58,814 - root - INFO - Adding new webpage: https://www.loopearplugs.com/blogs/blog/what-to-look-for-in-noise-reduction-earplugs\u001b[0m\n",
      "\u001b[32m2024-08-13 12:44:58,814 - root - INFO - Adding new webpage: https://www.loopearplugs.com/blogs/blog/what-to-look-for-in-noise-reduction-earplugs\u001b[0m\n",
      "\u001b[32m2024-08-13 12:44:58,814 - root - INFO - Adding new webpage: https://www.loopearplugs.com/blogs/blog/what-to-look-for-in-noise-reduction-earplugs\u001b[0m\n",
      "\u001b[32m2024-08-13 12:44:58,814 - root - INFO - Adding new webpage: https://www.loopearplugs.com/blogs/blog/what-to-look-for-in-noise-reduction-earplugs\u001b[0m\n",
      "\u001b[32m2024-08-13 12:44:58,814 - root - INFO - Adding new webpage: https://www.loopearplugs.com/blogs/blog/what-to-look-for-in-noise-reduction-earplugs\u001b[0m\n",
      "\u001b[32m2024-08-13 12:44:58,814 - root - INFO - Adding new webpage: https://www.loopearplugs.com/blogs/blog/what-to-look-for-in-noise-reduction-earplugs\u001b[0m\n"
     ]
    },
    {
     "name": "stdout",
     "output_type": "stream",
     "text": [
      "Added new webpage: https://www.loopearplugs.com/blogs/blog/what-to-look-for-in-noise-reduction-earplugs\n"
     ]
    },
    {
     "name": "stderr",
     "output_type": "stream",
     "text": [
      "\u001b[32m2024-08-13 12:45:00,265 - root - INFO - Adding new webpage: https://www.loopearplugs.com/blogs/blog/good-sleep-with-earplugs\u001b[0m\n",
      "\u001b[32m2024-08-13 12:45:00,265 - root - INFO - Adding new webpage: https://www.loopearplugs.com/blogs/blog/good-sleep-with-earplugs\u001b[0m\n",
      "\u001b[32m2024-08-13 12:45:00,265 - root - INFO - Adding new webpage: https://www.loopearplugs.com/blogs/blog/good-sleep-with-earplugs\u001b[0m\n",
      "\u001b[32m2024-08-13 12:45:00,265 - root - INFO - Adding new webpage: https://www.loopearplugs.com/blogs/blog/good-sleep-with-earplugs\u001b[0m\n",
      "\u001b[32m2024-08-13 12:45:00,265 - root - INFO - Adding new webpage: https://www.loopearplugs.com/blogs/blog/good-sleep-with-earplugs\u001b[0m\n",
      "\u001b[32m2024-08-13 12:45:00,265 - root - INFO - Adding new webpage: https://www.loopearplugs.com/blogs/blog/good-sleep-with-earplugs\u001b[0m\n"
     ]
    },
    {
     "name": "stdout",
     "output_type": "stream",
     "text": [
      "Added new webpage: https://www.loopearplugs.com/blogs/blog/good-sleep-with-earplugs\n"
     ]
    },
    {
     "name": "stderr",
     "output_type": "stream",
     "text": [
      "\u001b[33m2024-08-13 12:45:01,619 - trafilatura.xml - WARNING - missing link attribute: View full details {}'\u001b[0m\n",
      "\u001b[33m2024-08-13 12:45:01,619 - trafilatura.xml - WARNING - missing link attribute: View full details {}'\u001b[0m\n",
      "\u001b[33m2024-08-13 12:45:01,619 - trafilatura.xml - WARNING - missing link attribute: View full details {}'\u001b[0m\n",
      "\u001b[33m2024-08-13 12:45:01,619 - trafilatura.xml - WARNING - missing link attribute: View full details {}'\u001b[0m\n",
      "\u001b[33m2024-08-13 12:45:01,619 - trafilatura.xml - WARNING - missing link attribute: View full details {}'\u001b[0m\n",
      "\u001b[33m2024-08-13 12:45:01,619 - trafilatura.xml - WARNING - missing link attribute: View full details {}'\u001b[0m\n",
      "\u001b[32m2024-08-13 12:45:01,622 - root - INFO - Adding new webpage: https://www.loopearplugs.com/blogs/blog/why-people-love-loud-music\u001b[0m\n",
      "\u001b[32m2024-08-13 12:45:01,622 - root - INFO - Adding new webpage: https://www.loopearplugs.com/blogs/blog/why-people-love-loud-music\u001b[0m\n",
      "\u001b[32m2024-08-13 12:45:01,622 - root - INFO - Adding new webpage: https://www.loopearplugs.com/blogs/blog/why-people-love-loud-music\u001b[0m\n",
      "\u001b[32m2024-08-13 12:45:01,622 - root - INFO - Adding new webpage: https://www.loopearplugs.com/blogs/blog/why-people-love-loud-music\u001b[0m\n",
      "\u001b[32m2024-08-13 12:45:01,622 - root - INFO - Adding new webpage: https://www.loopearplugs.com/blogs/blog/why-people-love-loud-music\u001b[0m\n",
      "\u001b[32m2024-08-13 12:45:01,622 - root - INFO - Adding new webpage: https://www.loopearplugs.com/blogs/blog/why-people-love-loud-music\u001b[0m\n"
     ]
    },
    {
     "name": "stdout",
     "output_type": "stream",
     "text": [
      "Added new webpage: https://www.loopearplugs.com/blogs/blog/why-people-love-loud-music\n"
     ]
    },
    {
     "name": "stderr",
     "output_type": "stream",
     "text": [
      "\u001b[32m2024-08-13 12:45:03,673 - root - INFO - Adding new webpage: https://www.loopearplugs.com/blogs/blog/is-noise-stopping-you-from-sleeping-loop-earplugs-tips-tricks\u001b[0m\n",
      "\u001b[32m2024-08-13 12:45:03,673 - root - INFO - Adding new webpage: https://www.loopearplugs.com/blogs/blog/is-noise-stopping-you-from-sleeping-loop-earplugs-tips-tricks\u001b[0m\n",
      "\u001b[32m2024-08-13 12:45:03,673 - root - INFO - Adding new webpage: https://www.loopearplugs.com/blogs/blog/is-noise-stopping-you-from-sleeping-loop-earplugs-tips-tricks\u001b[0m\n",
      "\u001b[32m2024-08-13 12:45:03,673 - root - INFO - Adding new webpage: https://www.loopearplugs.com/blogs/blog/is-noise-stopping-you-from-sleeping-loop-earplugs-tips-tricks\u001b[0m\n",
      "\u001b[32m2024-08-13 12:45:03,673 - root - INFO - Adding new webpage: https://www.loopearplugs.com/blogs/blog/is-noise-stopping-you-from-sleeping-loop-earplugs-tips-tricks\u001b[0m\n",
      "\u001b[32m2024-08-13 12:45:03,673 - root - INFO - Adding new webpage: https://www.loopearplugs.com/blogs/blog/is-noise-stopping-you-from-sleeping-loop-earplugs-tips-tricks\u001b[0m\n"
     ]
    },
    {
     "name": "stdout",
     "output_type": "stream",
     "text": [
      "Added new webpage: https://www.loopearplugs.com/blogs/blog/is-noise-stopping-you-from-sleeping-loop-earplugs-tips-tricks\n"
     ]
    },
    {
     "name": "stderr",
     "output_type": "stream",
     "text": [
      "\u001b[32m2024-08-13 12:45:05,637 - root - INFO - Adding new webpage: https://www.loopearplugs.com/blogs/blog/hyperacusis\u001b[0m\n",
      "\u001b[32m2024-08-13 12:45:05,637 - root - INFO - Adding new webpage: https://www.loopearplugs.com/blogs/blog/hyperacusis\u001b[0m\n",
      "\u001b[32m2024-08-13 12:45:05,637 - root - INFO - Adding new webpage: https://www.loopearplugs.com/blogs/blog/hyperacusis\u001b[0m\n",
      "\u001b[32m2024-08-13 12:45:05,637 - root - INFO - Adding new webpage: https://www.loopearplugs.com/blogs/blog/hyperacusis\u001b[0m\n",
      "\u001b[32m2024-08-13 12:45:05,637 - root - INFO - Adding new webpage: https://www.loopearplugs.com/blogs/blog/hyperacusis\u001b[0m\n",
      "\u001b[32m2024-08-13 12:45:05,637 - root - INFO - Adding new webpage: https://www.loopearplugs.com/blogs/blog/hyperacusis\u001b[0m\n"
     ]
    },
    {
     "name": "stdout",
     "output_type": "stream",
     "text": [
      "Added new webpage: https://www.loopearplugs.com/blogs/blog/hyperacusis\n"
     ]
    },
    {
     "name": "stderr",
     "output_type": "stream",
     "text": [
      "\u001b[32m2024-08-13 12:45:07,134 - root - INFO - Adding new webpage: https://www.loopearplugs.com/blogs/blog/loop-earplugs-x-tomorrowland\u001b[0m\n",
      "\u001b[32m2024-08-13 12:45:07,134 - root - INFO - Adding new webpage: https://www.loopearplugs.com/blogs/blog/loop-earplugs-x-tomorrowland\u001b[0m\n",
      "\u001b[32m2024-08-13 12:45:07,134 - root - INFO - Adding new webpage: https://www.loopearplugs.com/blogs/blog/loop-earplugs-x-tomorrowland\u001b[0m\n",
      "\u001b[32m2024-08-13 12:45:07,134 - root - INFO - Adding new webpage: https://www.loopearplugs.com/blogs/blog/loop-earplugs-x-tomorrowland\u001b[0m\n",
      "\u001b[32m2024-08-13 12:45:07,134 - root - INFO - Adding new webpage: https://www.loopearplugs.com/blogs/blog/loop-earplugs-x-tomorrowland\u001b[0m\n",
      "\u001b[32m2024-08-13 12:45:07,134 - root - INFO - Adding new webpage: https://www.loopearplugs.com/blogs/blog/loop-earplugs-x-tomorrowland\u001b[0m\n"
     ]
    },
    {
     "name": "stdout",
     "output_type": "stream",
     "text": [
      "Added new webpage: https://www.loopearplugs.com/blogs/blog/loop-earplugs-x-tomorrowland\n"
     ]
    },
    {
     "name": "stderr",
     "output_type": "stream",
     "text": [
      "\u001b[32m2024-08-13 12:45:08,624 - root - INFO - Adding new webpage: https://www.loopearplugs.com/blogs/blog/how-to-get-your-newborn-sleeping-like-a-baby\u001b[0m\n",
      "\u001b[32m2024-08-13 12:45:08,624 - root - INFO - Adding new webpage: https://www.loopearplugs.com/blogs/blog/how-to-get-your-newborn-sleeping-like-a-baby\u001b[0m\n",
      "\u001b[32m2024-08-13 12:45:08,624 - root - INFO - Adding new webpage: https://www.loopearplugs.com/blogs/blog/how-to-get-your-newborn-sleeping-like-a-baby\u001b[0m\n",
      "\u001b[32m2024-08-13 12:45:08,624 - root - INFO - Adding new webpage: https://www.loopearplugs.com/blogs/blog/how-to-get-your-newborn-sleeping-like-a-baby\u001b[0m\n",
      "\u001b[32m2024-08-13 12:45:08,624 - root - INFO - Adding new webpage: https://www.loopearplugs.com/blogs/blog/how-to-get-your-newborn-sleeping-like-a-baby\u001b[0m\n",
      "\u001b[32m2024-08-13 12:45:08,624 - root - INFO - Adding new webpage: https://www.loopearplugs.com/blogs/blog/how-to-get-your-newborn-sleeping-like-a-baby\u001b[0m\n"
     ]
    },
    {
     "name": "stdout",
     "output_type": "stream",
     "text": [
      "Added new webpage: https://www.loopearplugs.com/blogs/blog/how-to-get-your-newborn-sleeping-like-a-baby\n"
     ]
    },
    {
     "name": "stderr",
     "output_type": "stream",
     "text": [
      "\u001b[32m2024-08-13 12:45:10,089 - root - INFO - Adding new webpage: https://www.loopearplugs.com/blogs/blog/11-hacks-for-a-comfortable-flight\u001b[0m\n",
      "\u001b[32m2024-08-13 12:45:10,089 - root - INFO - Adding new webpage: https://www.loopearplugs.com/blogs/blog/11-hacks-for-a-comfortable-flight\u001b[0m\n",
      "\u001b[32m2024-08-13 12:45:10,089 - root - INFO - Adding new webpage: https://www.loopearplugs.com/blogs/blog/11-hacks-for-a-comfortable-flight\u001b[0m\n",
      "\u001b[32m2024-08-13 12:45:10,089 - root - INFO - Adding new webpage: https://www.loopearplugs.com/blogs/blog/11-hacks-for-a-comfortable-flight\u001b[0m\n",
      "\u001b[32m2024-08-13 12:45:10,089 - root - INFO - Adding new webpage: https://www.loopearplugs.com/blogs/blog/11-hacks-for-a-comfortable-flight\u001b[0m\n",
      "\u001b[32m2024-08-13 12:45:10,089 - root - INFO - Adding new webpage: https://www.loopearplugs.com/blogs/blog/11-hacks-for-a-comfortable-flight\u001b[0m\n"
     ]
    },
    {
     "name": "stdout",
     "output_type": "stream",
     "text": [
      "Added new webpage: https://www.loopearplugs.com/blogs/blog/11-hacks-for-a-comfortable-flight\n"
     ]
    },
    {
     "name": "stderr",
     "output_type": "stream",
     "text": [
      "\u001b[32m2024-08-13 12:45:12,092 - root - INFO - Adding new webpage: https://www.loopearplugs.com/blogs/blog/parent-sensory-overload\u001b[0m\n",
      "\u001b[32m2024-08-13 12:45:12,092 - root - INFO - Adding new webpage: https://www.loopearplugs.com/blogs/blog/parent-sensory-overload\u001b[0m\n",
      "\u001b[32m2024-08-13 12:45:12,092 - root - INFO - Adding new webpage: https://www.loopearplugs.com/blogs/blog/parent-sensory-overload\u001b[0m\n",
      "\u001b[32m2024-08-13 12:45:12,092 - root - INFO - Adding new webpage: https://www.loopearplugs.com/blogs/blog/parent-sensory-overload\u001b[0m\n",
      "\u001b[32m2024-08-13 12:45:12,092 - root - INFO - Adding new webpage: https://www.loopearplugs.com/blogs/blog/parent-sensory-overload\u001b[0m\n",
      "\u001b[32m2024-08-13 12:45:12,092 - root - INFO - Adding new webpage: https://www.loopearplugs.com/blogs/blog/parent-sensory-overload\u001b[0m\n"
     ]
    },
    {
     "name": "stdout",
     "output_type": "stream",
     "text": [
      "Added new webpage: https://www.loopearplugs.com/blogs/blog/parent-sensory-overload\n"
     ]
    },
    {
     "name": "stderr",
     "output_type": "stream",
     "text": [
      "\u001b[32m2024-08-13 12:45:13,328 - root - INFO - Adding new webpage: https://www.loopearplugs.com/blogs/news/blog-prevent-hearing-loss\u001b[0m\n",
      "\u001b[32m2024-08-13 12:45:13,328 - root - INFO - Adding new webpage: https://www.loopearplugs.com/blogs/news/blog-prevent-hearing-loss\u001b[0m\n",
      "\u001b[32m2024-08-13 12:45:13,328 - root - INFO - Adding new webpage: https://www.loopearplugs.com/blogs/news/blog-prevent-hearing-loss\u001b[0m\n",
      "\u001b[32m2024-08-13 12:45:13,328 - root - INFO - Adding new webpage: https://www.loopearplugs.com/blogs/news/blog-prevent-hearing-loss\u001b[0m\n",
      "\u001b[32m2024-08-13 12:45:13,328 - root - INFO - Adding new webpage: https://www.loopearplugs.com/blogs/news/blog-prevent-hearing-loss\u001b[0m\n",
      "\u001b[32m2024-08-13 12:45:13,328 - root - INFO - Adding new webpage: https://www.loopearplugs.com/blogs/news/blog-prevent-hearing-loss\u001b[0m\n"
     ]
    },
    {
     "name": "stdout",
     "output_type": "stream",
     "text": [
      "Added new webpage: https://www.loopearplugs.com/blogs/news/blog-prevent-hearing-loss\n"
     ]
    },
    {
     "name": "stderr",
     "output_type": "stream",
     "text": [
      "\u001b[32m2024-08-13 12:45:14,785 - root - INFO - Adding new webpage: https://www.loopearplugs.com/blogs/blog/teaming-up-with-marie-wynants\u001b[0m\n",
      "\u001b[32m2024-08-13 12:45:14,785 - root - INFO - Adding new webpage: https://www.loopearplugs.com/blogs/blog/teaming-up-with-marie-wynants\u001b[0m\n",
      "\u001b[32m2024-08-13 12:45:14,785 - root - INFO - Adding new webpage: https://www.loopearplugs.com/blogs/blog/teaming-up-with-marie-wynants\u001b[0m\n",
      "\u001b[32m2024-08-13 12:45:14,785 - root - INFO - Adding new webpage: https://www.loopearplugs.com/blogs/blog/teaming-up-with-marie-wynants\u001b[0m\n",
      "\u001b[32m2024-08-13 12:45:14,785 - root - INFO - Adding new webpage: https://www.loopearplugs.com/blogs/blog/teaming-up-with-marie-wynants\u001b[0m\n",
      "\u001b[32m2024-08-13 12:45:14,785 - root - INFO - Adding new webpage: https://www.loopearplugs.com/blogs/blog/teaming-up-with-marie-wynants\u001b[0m\n"
     ]
    },
    {
     "name": "stdout",
     "output_type": "stream",
     "text": [
      "Added new webpage: https://www.loopearplugs.com/blogs/blog/teaming-up-with-marie-wynants\n"
     ]
    },
    {
     "name": "stderr",
     "output_type": "stream",
     "text": [
      "\u001b[33m2024-08-13 12:45:15,605 - trafilatura.xml - WARNING - missing link attribute: \n",
      "              \n",
      "            \n",
      "            \n",
      "              \n",
      "            \n",
      "\n",
      "            \n",
      "              \n",
      "            \n",
      "          \n",
      "         {}'\u001b[0m\n",
      "\u001b[33m2024-08-13 12:45:15,605 - trafilatura.xml - WARNING - missing link attribute: \n",
      "              \n",
      "            \n",
      "            \n",
      "              \n",
      "            \n",
      "\n",
      "            \n",
      "              \n",
      "            \n",
      "          \n",
      "         {}'\u001b[0m\n",
      "\u001b[33m2024-08-13 12:45:15,605 - trafilatura.xml - WARNING - missing link attribute: \n",
      "              \n",
      "            \n",
      "            \n",
      "              \n",
      "            \n",
      "\n",
      "            \n",
      "              \n",
      "            \n",
      "          \n",
      "         {}'\u001b[0m\n",
      "\u001b[33m2024-08-13 12:45:15,605 - trafilatura.xml - WARNING - missing link attribute: \n",
      "              \n",
      "            \n",
      "            \n",
      "              \n",
      "            \n",
      "\n",
      "            \n",
      "              \n",
      "            \n",
      "          \n",
      "         {}'\u001b[0m\n",
      "\u001b[33m2024-08-13 12:45:15,605 - trafilatura.xml - WARNING - missing link attribute: \n",
      "              \n",
      "            \n",
      "            \n",
      "              \n",
      "            \n",
      "\n",
      "            \n",
      "              \n",
      "            \n",
      "          \n",
      "         {}'\u001b[0m\n",
      "\u001b[33m2024-08-13 12:45:15,605 - trafilatura.xml - WARNING - missing link attribute: \n",
      "              \n",
      "            \n",
      "            \n",
      "              \n",
      "            \n",
      "\n",
      "            \n",
      "              \n",
      "            \n",
      "          \n",
      "         {}'\u001b[0m\n",
      "\u001b[32m2024-08-13 12:45:15,608 - root - INFO - Adding new webpage: https://www.loopearplugs.com/pages/earplugs-for-snoring\u001b[0m\n",
      "\u001b[32m2024-08-13 12:45:15,608 - root - INFO - Adding new webpage: https://www.loopearplugs.com/pages/earplugs-for-snoring\u001b[0m\n",
      "\u001b[32m2024-08-13 12:45:15,608 - root - INFO - Adding new webpage: https://www.loopearplugs.com/pages/earplugs-for-snoring\u001b[0m\n",
      "\u001b[32m2024-08-13 12:45:15,608 - root - INFO - Adding new webpage: https://www.loopearplugs.com/pages/earplugs-for-snoring\u001b[0m\n",
      "\u001b[32m2024-08-13 12:45:15,608 - root - INFO - Adding new webpage: https://www.loopearplugs.com/pages/earplugs-for-snoring\u001b[0m\n",
      "\u001b[32m2024-08-13 12:45:15,608 - root - INFO - Adding new webpage: https://www.loopearplugs.com/pages/earplugs-for-snoring\u001b[0m\n"
     ]
    },
    {
     "name": "stdout",
     "output_type": "stream",
     "text": [
      "Added new webpage: https://www.loopearplugs.com/pages/earplugs-for-snoring\n"
     ]
    },
    {
     "name": "stderr",
     "output_type": "stream",
     "text": [
      "\u001b[31m2024-08-13 12:45:16,687 - trafilatura.downloads - ERROR - not a 200 response: 404 for URL https://www.loopearplugs.com/pages/cancellation-and-refunds\u001b[0m\n",
      "\u001b[31m2024-08-13 12:45:16,687 - trafilatura.downloads - ERROR - not a 200 response: 404 for URL https://www.loopearplugs.com/pages/cancellation-and-refunds\u001b[0m\n",
      "\u001b[31m2024-08-13 12:45:16,687 - trafilatura.downloads - ERROR - not a 200 response: 404 for URL https://www.loopearplugs.com/pages/cancellation-and-refunds\u001b[0m\n",
      "\u001b[31m2024-08-13 12:45:16,687 - trafilatura.downloads - ERROR - not a 200 response: 404 for URL https://www.loopearplugs.com/pages/cancellation-and-refunds\u001b[0m\n",
      "\u001b[31m2024-08-13 12:45:16,687 - trafilatura.downloads - ERROR - not a 200 response: 404 for URL https://www.loopearplugs.com/pages/cancellation-and-refunds\u001b[0m\n",
      "\u001b[31m2024-08-13 12:45:16,687 - trafilatura.downloads - ERROR - not a 200 response: 404 for URL https://www.loopearplugs.com/pages/cancellation-and-refunds\u001b[0m\n",
      "\u001b[33m2024-08-13 12:45:16,689 - trafilatura.core - WARNING - discarding data: None\u001b[0m\n",
      "\u001b[33m2024-08-13 12:45:16,689 - trafilatura.core - WARNING - discarding data: None\u001b[0m\n",
      "\u001b[33m2024-08-13 12:45:16,689 - trafilatura.core - WARNING - discarding data: None\u001b[0m\n",
      "\u001b[33m2024-08-13 12:45:16,689 - trafilatura.core - WARNING - discarding data: None\u001b[0m\n",
      "\u001b[33m2024-08-13 12:45:16,689 - trafilatura.core - WARNING - discarding data: None\u001b[0m\n",
      "\u001b[33m2024-08-13 12:45:16,689 - trafilatura.core - WARNING - discarding data: None\u001b[0m\n",
      "\u001b[32m2024-08-13 12:45:18,173 - root - INFO - Adding new webpage: https://www.loopearplugs.com/pages/best-earplugs-for-clubs\u001b[0m\n",
      "\u001b[32m2024-08-13 12:45:18,173 - root - INFO - Adding new webpage: https://www.loopearplugs.com/pages/best-earplugs-for-clubs\u001b[0m\n",
      "\u001b[32m2024-08-13 12:45:18,173 - root - INFO - Adding new webpage: https://www.loopearplugs.com/pages/best-earplugs-for-clubs\u001b[0m\n",
      "\u001b[32m2024-08-13 12:45:18,173 - root - INFO - Adding new webpage: https://www.loopearplugs.com/pages/best-earplugs-for-clubs\u001b[0m\n",
      "\u001b[32m2024-08-13 12:45:18,173 - root - INFO - Adding new webpage: https://www.loopearplugs.com/pages/best-earplugs-for-clubs\u001b[0m\n",
      "\u001b[32m2024-08-13 12:45:18,173 - root - INFO - Adding new webpage: https://www.loopearplugs.com/pages/best-earplugs-for-clubs\u001b[0m\n"
     ]
    },
    {
     "name": "stdout",
     "output_type": "stream",
     "text": [
      "Added new webpage: https://www.loopearplugs.com/pages/best-earplugs-for-clubs\n"
     ]
    },
    {
     "name": "stderr",
     "output_type": "stream",
     "text": [
      "\u001b[31m2024-08-13 12:45:18,441 - trafilatura.downloads - ERROR - not a 200 response: 404 for URL https://www.loopearplugs.com/products/mute-pack\u001b[0m\n",
      "\u001b[31m2024-08-13 12:45:18,441 - trafilatura.downloads - ERROR - not a 200 response: 404 for URL https://www.loopearplugs.com/products/mute-pack\u001b[0m\n",
      "\u001b[31m2024-08-13 12:45:18,441 - trafilatura.downloads - ERROR - not a 200 response: 404 for URL https://www.loopearplugs.com/products/mute-pack\u001b[0m\n",
      "\u001b[31m2024-08-13 12:45:18,441 - trafilatura.downloads - ERROR - not a 200 response: 404 for URL https://www.loopearplugs.com/products/mute-pack\u001b[0m\n",
      "\u001b[31m2024-08-13 12:45:18,441 - trafilatura.downloads - ERROR - not a 200 response: 404 for URL https://www.loopearplugs.com/products/mute-pack\u001b[0m\n",
      "\u001b[31m2024-08-13 12:45:18,441 - trafilatura.downloads - ERROR - not a 200 response: 404 for URL https://www.loopearplugs.com/products/mute-pack\u001b[0m\n",
      "\u001b[33m2024-08-13 12:45:18,444 - trafilatura.core - WARNING - discarding data: None\u001b[0m\n",
      "\u001b[33m2024-08-13 12:45:18,444 - trafilatura.core - WARNING - discarding data: None\u001b[0m\n",
      "\u001b[33m2024-08-13 12:45:18,444 - trafilatura.core - WARNING - discarding data: None\u001b[0m\n",
      "\u001b[33m2024-08-13 12:45:18,444 - trafilatura.core - WARNING - discarding data: None\u001b[0m\n",
      "\u001b[33m2024-08-13 12:45:18,444 - trafilatura.core - WARNING - discarding data: None\u001b[0m\n",
      "\u001b[33m2024-08-13 12:45:18,444 - trafilatura.core - WARNING - discarding data: None\u001b[0m\n",
      "\u001b[32m2024-08-13 12:45:19,702 - root - INFO - Adding new webpage: https://www.loopearplugs.com/blogs/press-corner/loop-earplugs-launches-a-dazzling-array-of-new-products-and-styles-in-major-brand-moment-set-to-shake-up-the-earwear-space\u001b[0m\n",
      "\u001b[32m2024-08-13 12:45:19,702 - root - INFO - Adding new webpage: https://www.loopearplugs.com/blogs/press-corner/loop-earplugs-launches-a-dazzling-array-of-new-products-and-styles-in-major-brand-moment-set-to-shake-up-the-earwear-space\u001b[0m\n",
      "\u001b[32m2024-08-13 12:45:19,702 - root - INFO - Adding new webpage: https://www.loopearplugs.com/blogs/press-corner/loop-earplugs-launches-a-dazzling-array-of-new-products-and-styles-in-major-brand-moment-set-to-shake-up-the-earwear-space\u001b[0m\n",
      "\u001b[32m2024-08-13 12:45:19,702 - root - INFO - Adding new webpage: https://www.loopearplugs.com/blogs/press-corner/loop-earplugs-launches-a-dazzling-array-of-new-products-and-styles-in-major-brand-moment-set-to-shake-up-the-earwear-space\u001b[0m\n",
      "\u001b[32m2024-08-13 12:45:19,702 - root - INFO - Adding new webpage: https://www.loopearplugs.com/blogs/press-corner/loop-earplugs-launches-a-dazzling-array-of-new-products-and-styles-in-major-brand-moment-set-to-shake-up-the-earwear-space\u001b[0m\n",
      "\u001b[32m2024-08-13 12:45:19,702 - root - INFO - Adding new webpage: https://www.loopearplugs.com/blogs/press-corner/loop-earplugs-launches-a-dazzling-array-of-new-products-and-styles-in-major-brand-moment-set-to-shake-up-the-earwear-space\u001b[0m\n"
     ]
    },
    {
     "name": "stdout",
     "output_type": "stream",
     "text": [
      "Added new webpage: https://www.loopearplugs.com/blogs/press-corner/loop-earplugs-launches-a-dazzling-array-of-new-products-and-styles-in-major-brand-moment-set-to-shake-up-the-earwear-space\n"
     ]
    },
    {
     "name": "stderr",
     "output_type": "stream",
     "text": [
      "\u001b[32m2024-08-13 12:45:20,840 - root - INFO - Adding new webpage: https://www.loopearplugs.com/blogs/press-corner/stay-ready-with-switch-loop-s-highest-tech-earplug-yet-allows-users-to-toggle-between-sound-states-on-the-go\u001b[0m\n",
      "\u001b[32m2024-08-13 12:45:20,840 - root - INFO - Adding new webpage: https://www.loopearplugs.com/blogs/press-corner/stay-ready-with-switch-loop-s-highest-tech-earplug-yet-allows-users-to-toggle-between-sound-states-on-the-go\u001b[0m\n",
      "\u001b[32m2024-08-13 12:45:20,840 - root - INFO - Adding new webpage: https://www.loopearplugs.com/blogs/press-corner/stay-ready-with-switch-loop-s-highest-tech-earplug-yet-allows-users-to-toggle-between-sound-states-on-the-go\u001b[0m\n",
      "\u001b[32m2024-08-13 12:45:20,840 - root - INFO - Adding new webpage: https://www.loopearplugs.com/blogs/press-corner/stay-ready-with-switch-loop-s-highest-tech-earplug-yet-allows-users-to-toggle-between-sound-states-on-the-go\u001b[0m\n",
      "\u001b[32m2024-08-13 12:45:20,840 - root - INFO - Adding new webpage: https://www.loopearplugs.com/blogs/press-corner/stay-ready-with-switch-loop-s-highest-tech-earplug-yet-allows-users-to-toggle-between-sound-states-on-the-go\u001b[0m\n",
      "\u001b[32m2024-08-13 12:45:20,840 - root - INFO - Adding new webpage: https://www.loopearplugs.com/blogs/press-corner/stay-ready-with-switch-loop-s-highest-tech-earplug-yet-allows-users-to-toggle-between-sound-states-on-the-go\u001b[0m\n"
     ]
    },
    {
     "name": "stdout",
     "output_type": "stream",
     "text": [
      "Added new webpage: https://www.loopearplugs.com/blogs/press-corner/stay-ready-with-switch-loop-s-highest-tech-earplug-yet-allows-users-to-toggle-between-sound-states-on-the-go\n"
     ]
    },
    {
     "name": "stderr",
     "output_type": "stream",
     "text": [
      "\u001b[32m2024-08-13 12:45:22,077 - root - INFO - Adding new webpage: https://www.loopearplugs.com/blogs/press-corner/no-beep-only-beats-loop-and-tomorrowland-aim-to-normalize-hearing-protection\u001b[0m\n",
      "\u001b[32m2024-08-13 12:45:22,077 - root - INFO - Adding new webpage: https://www.loopearplugs.com/blogs/press-corner/no-beep-only-beats-loop-and-tomorrowland-aim-to-normalize-hearing-protection\u001b[0m\n",
      "\u001b[32m2024-08-13 12:45:22,077 - root - INFO - Adding new webpage: https://www.loopearplugs.com/blogs/press-corner/no-beep-only-beats-loop-and-tomorrowland-aim-to-normalize-hearing-protection\u001b[0m\n",
      "\u001b[32m2024-08-13 12:45:22,077 - root - INFO - Adding new webpage: https://www.loopearplugs.com/blogs/press-corner/no-beep-only-beats-loop-and-tomorrowland-aim-to-normalize-hearing-protection\u001b[0m\n",
      "\u001b[32m2024-08-13 12:45:22,077 - root - INFO - Adding new webpage: https://www.loopearplugs.com/blogs/press-corner/no-beep-only-beats-loop-and-tomorrowland-aim-to-normalize-hearing-protection\u001b[0m\n",
      "\u001b[32m2024-08-13 12:45:22,077 - root - INFO - Adding new webpage: https://www.loopearplugs.com/blogs/press-corner/no-beep-only-beats-loop-and-tomorrowland-aim-to-normalize-hearing-protection\u001b[0m\n"
     ]
    },
    {
     "name": "stdout",
     "output_type": "stream",
     "text": [
      "Added new webpage: https://www.loopearplugs.com/blogs/press-corner/no-beep-only-beats-loop-and-tomorrowland-aim-to-normalize-hearing-protection\n"
     ]
    },
    {
     "name": "stderr",
     "output_type": "stream",
     "text": [
      "\u001b[32m2024-08-13 12:45:23,548 - root - INFO - Adding new webpage: https://www.loopearplugs.com/pages/earplugs-for-tinnitus\u001b[0m\n",
      "\u001b[32m2024-08-13 12:45:23,548 - root - INFO - Adding new webpage: https://www.loopearplugs.com/pages/earplugs-for-tinnitus\u001b[0m\n",
      "\u001b[32m2024-08-13 12:45:23,548 - root - INFO - Adding new webpage: https://www.loopearplugs.com/pages/earplugs-for-tinnitus\u001b[0m\n",
      "\u001b[32m2024-08-13 12:45:23,548 - root - INFO - Adding new webpage: https://www.loopearplugs.com/pages/earplugs-for-tinnitus\u001b[0m\n",
      "\u001b[32m2024-08-13 12:45:23,548 - root - INFO - Adding new webpage: https://www.loopearplugs.com/pages/earplugs-for-tinnitus\u001b[0m\n",
      "\u001b[32m2024-08-13 12:45:23,548 - root - INFO - Adding new webpage: https://www.loopearplugs.com/pages/earplugs-for-tinnitus\u001b[0m\n"
     ]
    },
    {
     "name": "stdout",
     "output_type": "stream",
     "text": [
      "Added new webpage: https://www.loopearplugs.com/pages/earplugs-for-tinnitus\n"
     ]
    },
    {
     "name": "stderr",
     "output_type": "stream",
     "text": [
      "\u001b[32m2024-08-13 12:45:24,882 - root - INFO - Adding new webpage: https://www.loopearplugs.com/blogs/press-corner/loop-earplugs-and-tomorrowland-kick-off-third-year\u001b[0m\n",
      "\u001b[32m2024-08-13 12:45:24,882 - root - INFO - Adding new webpage: https://www.loopearplugs.com/blogs/press-corner/loop-earplugs-and-tomorrowland-kick-off-third-year\u001b[0m\n",
      "\u001b[32m2024-08-13 12:45:24,882 - root - INFO - Adding new webpage: https://www.loopearplugs.com/blogs/press-corner/loop-earplugs-and-tomorrowland-kick-off-third-year\u001b[0m\n",
      "\u001b[32m2024-08-13 12:45:24,882 - root - INFO - Adding new webpage: https://www.loopearplugs.com/blogs/press-corner/loop-earplugs-and-tomorrowland-kick-off-third-year\u001b[0m\n",
      "\u001b[32m2024-08-13 12:45:24,882 - root - INFO - Adding new webpage: https://www.loopearplugs.com/blogs/press-corner/loop-earplugs-and-tomorrowland-kick-off-third-year\u001b[0m\n",
      "\u001b[32m2024-08-13 12:45:24,882 - root - INFO - Adding new webpage: https://www.loopearplugs.com/blogs/press-corner/loop-earplugs-and-tomorrowland-kick-off-third-year\u001b[0m\n"
     ]
    },
    {
     "name": "stdout",
     "output_type": "stream",
     "text": [
      "Added new webpage: https://www.loopearplugs.com/blogs/press-corner/loop-earplugs-and-tomorrowland-kick-off-third-year\n"
     ]
    },
    {
     "name": "stderr",
     "output_type": "stream",
     "text": [
      "\u001b[31m2024-08-13 12:45:25,495 - trafilatura.downloads - ERROR - not a 200 response: 404 for URL https://www.loopearplugs.com/blogs/blog/relationship-between-noise-and-concentratio\u001b[0m\n",
      "\u001b[31m2024-08-13 12:45:25,495 - trafilatura.downloads - ERROR - not a 200 response: 404 for URL https://www.loopearplugs.com/blogs/blog/relationship-between-noise-and-concentratio\u001b[0m\n",
      "\u001b[31m2024-08-13 12:45:25,495 - trafilatura.downloads - ERROR - not a 200 response: 404 for URL https://www.loopearplugs.com/blogs/blog/relationship-between-noise-and-concentratio\u001b[0m\n",
      "\u001b[31m2024-08-13 12:45:25,495 - trafilatura.downloads - ERROR - not a 200 response: 404 for URL https://www.loopearplugs.com/blogs/blog/relationship-between-noise-and-concentratio\u001b[0m\n",
      "\u001b[31m2024-08-13 12:45:25,495 - trafilatura.downloads - ERROR - not a 200 response: 404 for URL https://www.loopearplugs.com/blogs/blog/relationship-between-noise-and-concentratio\u001b[0m\n",
      "\u001b[31m2024-08-13 12:45:25,495 - trafilatura.downloads - ERROR - not a 200 response: 404 for URL https://www.loopearplugs.com/blogs/blog/relationship-between-noise-and-concentratio\u001b[0m\n",
      "\u001b[33m2024-08-13 12:45:25,501 - trafilatura.core - WARNING - discarding data: None\u001b[0m\n",
      "\u001b[33m2024-08-13 12:45:25,501 - trafilatura.core - WARNING - discarding data: None\u001b[0m\n",
      "\u001b[33m2024-08-13 12:45:25,501 - trafilatura.core - WARNING - discarding data: None\u001b[0m\n",
      "\u001b[33m2024-08-13 12:45:25,501 - trafilatura.core - WARNING - discarding data: None\u001b[0m\n",
      "\u001b[33m2024-08-13 12:45:25,501 - trafilatura.core - WARNING - discarding data: None\u001b[0m\n",
      "\u001b[33m2024-08-13 12:45:25,501 - trafilatura.core - WARNING - discarding data: None\u001b[0m\n",
      "\u001b[32m2024-08-13 12:45:26,964 - root - INFO - Adding new webpage: https://www.loopearplugs.com/pages/earplugs-for-studying\u001b[0m\n",
      "\u001b[32m2024-08-13 12:45:26,964 - root - INFO - Adding new webpage: https://www.loopearplugs.com/pages/earplugs-for-studying\u001b[0m\n",
      "\u001b[32m2024-08-13 12:45:26,964 - root - INFO - Adding new webpage: https://www.loopearplugs.com/pages/earplugs-for-studying\u001b[0m\n",
      "\u001b[32m2024-08-13 12:45:26,964 - root - INFO - Adding new webpage: https://www.loopearplugs.com/pages/earplugs-for-studying\u001b[0m\n",
      "\u001b[32m2024-08-13 12:45:26,964 - root - INFO - Adding new webpage: https://www.loopearplugs.com/pages/earplugs-for-studying\u001b[0m\n",
      "\u001b[32m2024-08-13 12:45:26,964 - root - INFO - Adding new webpage: https://www.loopearplugs.com/pages/earplugs-for-studying\u001b[0m\n"
     ]
    },
    {
     "name": "stdout",
     "output_type": "stream",
     "text": [
      "Added new webpage: https://www.loopearplugs.com/pages/earplugs-for-studying\n"
     ]
    },
    {
     "name": "stderr",
     "output_type": "stream",
     "text": [
      "\u001b[32m2024-08-13 12:45:28,386 - root - INFO - Adding new webpage: https://www.loopearplugs.com/blogs/press-corner/introducing-loop-engage-the-next-generation-of-noise-reducing-earplugs-designed-with-conversation-in-mind\u001b[0m\n",
      "\u001b[32m2024-08-13 12:45:28,386 - root - INFO - Adding new webpage: https://www.loopearplugs.com/blogs/press-corner/introducing-loop-engage-the-next-generation-of-noise-reducing-earplugs-designed-with-conversation-in-mind\u001b[0m\n",
      "\u001b[32m2024-08-13 12:45:28,386 - root - INFO - Adding new webpage: https://www.loopearplugs.com/blogs/press-corner/introducing-loop-engage-the-next-generation-of-noise-reducing-earplugs-designed-with-conversation-in-mind\u001b[0m\n",
      "\u001b[32m2024-08-13 12:45:28,386 - root - INFO - Adding new webpage: https://www.loopearplugs.com/blogs/press-corner/introducing-loop-engage-the-next-generation-of-noise-reducing-earplugs-designed-with-conversation-in-mind\u001b[0m\n",
      "\u001b[32m2024-08-13 12:45:28,386 - root - INFO - Adding new webpage: https://www.loopearplugs.com/blogs/press-corner/introducing-loop-engage-the-next-generation-of-noise-reducing-earplugs-designed-with-conversation-in-mind\u001b[0m\n",
      "\u001b[32m2024-08-13 12:45:28,386 - root - INFO - Adding new webpage: https://www.loopearplugs.com/blogs/press-corner/introducing-loop-engage-the-next-generation-of-noise-reducing-earplugs-designed-with-conversation-in-mind\u001b[0m\n"
     ]
    },
    {
     "name": "stdout",
     "output_type": "stream",
     "text": [
      "Added new webpage: https://www.loopearplugs.com/blogs/press-corner/introducing-loop-engage-the-next-generation-of-noise-reducing-earplugs-designed-with-conversation-in-mind\n"
     ]
    },
    {
     "name": "stderr",
     "output_type": "stream",
     "text": [
      "\u001b[32m2024-08-13 12:45:29,944 - root - INFO - Adding new webpage: https://www.loopearplugs.com/pages/earplugs-for-flying\u001b[0m\n",
      "\u001b[32m2024-08-13 12:45:29,944 - root - INFO - Adding new webpage: https://www.loopearplugs.com/pages/earplugs-for-flying\u001b[0m\n",
      "\u001b[32m2024-08-13 12:45:29,944 - root - INFO - Adding new webpage: https://www.loopearplugs.com/pages/earplugs-for-flying\u001b[0m\n",
      "\u001b[32m2024-08-13 12:45:29,944 - root - INFO - Adding new webpage: https://www.loopearplugs.com/pages/earplugs-for-flying\u001b[0m\n",
      "\u001b[32m2024-08-13 12:45:29,944 - root - INFO - Adding new webpage: https://www.loopearplugs.com/pages/earplugs-for-flying\u001b[0m\n",
      "\u001b[32m2024-08-13 12:45:29,944 - root - INFO - Adding new webpage: https://www.loopearplugs.com/pages/earplugs-for-flying\u001b[0m\n"
     ]
    },
    {
     "name": "stdout",
     "output_type": "stream",
     "text": [
      "Added new webpage: https://www.loopearplugs.com/pages/earplugs-for-flying\n"
     ]
    },
    {
     "name": "stderr",
     "output_type": "stream",
     "text": [
      "\u001b[32m2024-08-13 12:45:31,612 - root - INFO - Adding new webpage: https://www.loopearplugs.com/pages/earplugs-for-musicians\u001b[0m\n",
      "\u001b[32m2024-08-13 12:45:31,612 - root - INFO - Adding new webpage: https://www.loopearplugs.com/pages/earplugs-for-musicians\u001b[0m\n",
      "\u001b[32m2024-08-13 12:45:31,612 - root - INFO - Adding new webpage: https://www.loopearplugs.com/pages/earplugs-for-musicians\u001b[0m\n",
      "\u001b[32m2024-08-13 12:45:31,612 - root - INFO - Adding new webpage: https://www.loopearplugs.com/pages/earplugs-for-musicians\u001b[0m\n",
      "\u001b[32m2024-08-13 12:45:31,612 - root - INFO - Adding new webpage: https://www.loopearplugs.com/pages/earplugs-for-musicians\u001b[0m\n",
      "\u001b[32m2024-08-13 12:45:31,612 - root - INFO - Adding new webpage: https://www.loopearplugs.com/pages/earplugs-for-musicians\u001b[0m\n"
     ]
    },
    {
     "name": "stdout",
     "output_type": "stream",
     "text": [
      "Added new webpage: https://www.loopearplugs.com/pages/earplugs-for-musicians\n"
     ]
    },
    {
     "name": "stderr",
     "output_type": "stream",
     "text": [
      "\u001b[32m2024-08-13 12:45:35,555 - root - INFO - Adding new webpage: https://www.loopearplugs.com/pages/earplugs-for-motorcycle\u001b[0m\n",
      "\u001b[32m2024-08-13 12:45:35,555 - root - INFO - Adding new webpage: https://www.loopearplugs.com/pages/earplugs-for-motorcycle\u001b[0m\n",
      "\u001b[32m2024-08-13 12:45:35,555 - root - INFO - Adding new webpage: https://www.loopearplugs.com/pages/earplugs-for-motorcycle\u001b[0m\n",
      "\u001b[32m2024-08-13 12:45:35,555 - root - INFO - Adding new webpage: https://www.loopearplugs.com/pages/earplugs-for-motorcycle\u001b[0m\n",
      "\u001b[32m2024-08-13 12:45:35,555 - root - INFO - Adding new webpage: https://www.loopearplugs.com/pages/earplugs-for-motorcycle\u001b[0m\n",
      "\u001b[32m2024-08-13 12:45:35,555 - root - INFO - Adding new webpage: https://www.loopearplugs.com/pages/earplugs-for-motorcycle\u001b[0m\n"
     ]
    },
    {
     "name": "stdout",
     "output_type": "stream",
     "text": [
      "Added new webpage: https://www.loopearplugs.com/pages/earplugs-for-motorcycle\n"
     ]
    },
    {
     "name": "stderr",
     "output_type": "stream",
     "text": [
      "\u001b[32m2024-08-13 12:45:35,911 - urllib3.poolmanager - INFO - Redirecting https://www.loopearplugs.com/blogs/news/sensitivity-to-sound-how-to-deal-with-noise-sensitivity -> https://www.loopearplugs.com/blogs/blog/sensitivity-to-sound-how-to-deal-with-noise-sensitivity\u001b[0m\n",
      "\u001b[32m2024-08-13 12:45:35,911 - urllib3.poolmanager - INFO - Redirecting https://www.loopearplugs.com/blogs/news/sensitivity-to-sound-how-to-deal-with-noise-sensitivity -> https://www.loopearplugs.com/blogs/blog/sensitivity-to-sound-how-to-deal-with-noise-sensitivity\u001b[0m\n",
      "\u001b[32m2024-08-13 12:45:35,911 - urllib3.poolmanager - INFO - Redirecting https://www.loopearplugs.com/blogs/news/sensitivity-to-sound-how-to-deal-with-noise-sensitivity -> https://www.loopearplugs.com/blogs/blog/sensitivity-to-sound-how-to-deal-with-noise-sensitivity\u001b[0m\n",
      "\u001b[32m2024-08-13 12:45:35,911 - urllib3.poolmanager - INFO - Redirecting https://www.loopearplugs.com/blogs/news/sensitivity-to-sound-how-to-deal-with-noise-sensitivity -> https://www.loopearplugs.com/blogs/blog/sensitivity-to-sound-how-to-deal-with-noise-sensitivity\u001b[0m\n",
      "\u001b[32m2024-08-13 12:45:35,911 - urllib3.poolmanager - INFO - Redirecting https://www.loopearplugs.com/blogs/news/sensitivity-to-sound-how-to-deal-with-noise-sensitivity -> https://www.loopearplugs.com/blogs/blog/sensitivity-to-sound-how-to-deal-with-noise-sensitivity\u001b[0m\n",
      "\u001b[32m2024-08-13 12:45:35,911 - urllib3.poolmanager - INFO - Redirecting https://www.loopearplugs.com/blogs/news/sensitivity-to-sound-how-to-deal-with-noise-sensitivity -> https://www.loopearplugs.com/blogs/blog/sensitivity-to-sound-how-to-deal-with-noise-sensitivity\u001b[0m\n",
      "\u001b[32m2024-08-13 12:45:37,864 - root - INFO - Adding new webpage: https://www.loopearplugs.com/blogs/news/sensitivity-to-sound-how-to-deal-with-noise-sensitivity\u001b[0m\n",
      "\u001b[32m2024-08-13 12:45:37,864 - root - INFO - Adding new webpage: https://www.loopearplugs.com/blogs/news/sensitivity-to-sound-how-to-deal-with-noise-sensitivity\u001b[0m\n",
      "\u001b[32m2024-08-13 12:45:37,864 - root - INFO - Adding new webpage: https://www.loopearplugs.com/blogs/news/sensitivity-to-sound-how-to-deal-with-noise-sensitivity\u001b[0m\n",
      "\u001b[32m2024-08-13 12:45:37,864 - root - INFO - Adding new webpage: https://www.loopearplugs.com/blogs/news/sensitivity-to-sound-how-to-deal-with-noise-sensitivity\u001b[0m\n",
      "\u001b[32m2024-08-13 12:45:37,864 - root - INFO - Adding new webpage: https://www.loopearplugs.com/blogs/news/sensitivity-to-sound-how-to-deal-with-noise-sensitivity\u001b[0m\n",
      "\u001b[32m2024-08-13 12:45:37,864 - root - INFO - Adding new webpage: https://www.loopearplugs.com/blogs/news/sensitivity-to-sound-how-to-deal-with-noise-sensitivity\u001b[0m\n"
     ]
    },
    {
     "name": "stdout",
     "output_type": "stream",
     "text": [
      "Added new webpage: https://www.loopearplugs.com/blogs/news/sensitivity-to-sound-how-to-deal-with-noise-sensitivity\n"
     ]
    },
    {
     "name": "stderr",
     "output_type": "stream",
     "text": [
      "\u001b[32m2024-08-13 12:45:38,631 - root - INFO - Adding new webpage: https://www.loopearplugs.com/collections/earplugs\u001b[0m\n",
      "\u001b[32m2024-08-13 12:45:38,631 - root - INFO - Adding new webpage: https://www.loopearplugs.com/collections/earplugs\u001b[0m\n",
      "\u001b[32m2024-08-13 12:45:38,631 - root - INFO - Adding new webpage: https://www.loopearplugs.com/collections/earplugs\u001b[0m\n",
      "\u001b[32m2024-08-13 12:45:38,631 - root - INFO - Adding new webpage: https://www.loopearplugs.com/collections/earplugs\u001b[0m\n",
      "\u001b[32m2024-08-13 12:45:38,631 - root - INFO - Adding new webpage: https://www.loopearplugs.com/collections/earplugs\u001b[0m\n",
      "\u001b[32m2024-08-13 12:45:38,631 - root - INFO - Adding new webpage: https://www.loopearplugs.com/collections/earplugs\u001b[0m\n"
     ]
    },
    {
     "name": "stdout",
     "output_type": "stream",
     "text": [
      "Added new webpage: https://www.loopearplugs.com/collections/earplugs\n"
     ]
    },
    {
     "name": "stderr",
     "output_type": "stream",
     "text": [
      "\u001b[32m2024-08-13 12:45:39,835 - root - INFO - Adding new webpage: https://www.loopearplugs.com/blogs/press-corner/loop-launches-equinox-a-seasonal-earwear-collection-of-electric-neon-colors\u001b[0m\n",
      "\u001b[32m2024-08-13 12:45:39,835 - root - INFO - Adding new webpage: https://www.loopearplugs.com/blogs/press-corner/loop-launches-equinox-a-seasonal-earwear-collection-of-electric-neon-colors\u001b[0m\n",
      "\u001b[32m2024-08-13 12:45:39,835 - root - INFO - Adding new webpage: https://www.loopearplugs.com/blogs/press-corner/loop-launches-equinox-a-seasonal-earwear-collection-of-electric-neon-colors\u001b[0m\n",
      "\u001b[32m2024-08-13 12:45:39,835 - root - INFO - Adding new webpage: https://www.loopearplugs.com/blogs/press-corner/loop-launches-equinox-a-seasonal-earwear-collection-of-electric-neon-colors\u001b[0m\n",
      "\u001b[32m2024-08-13 12:45:39,835 - root - INFO - Adding new webpage: https://www.loopearplugs.com/blogs/press-corner/loop-launches-equinox-a-seasonal-earwear-collection-of-electric-neon-colors\u001b[0m\n",
      "\u001b[32m2024-08-13 12:45:39,835 - root - INFO - Adding new webpage: https://www.loopearplugs.com/blogs/press-corner/loop-launches-equinox-a-seasonal-earwear-collection-of-electric-neon-colors\u001b[0m\n"
     ]
    },
    {
     "name": "stdout",
     "output_type": "stream",
     "text": [
      "Added new webpage: https://www.loopearplugs.com/blogs/press-corner/loop-launches-equinox-a-seasonal-earwear-collection-of-electric-neon-colors\n"
     ]
    },
    {
     "name": "stderr",
     "output_type": "stream",
     "text": [
      "\u001b[32m2024-08-13 12:45:41,990 - root - INFO - Adding new webpage: https://www.loopearplugs.com/blogs/news\u001b[0m\n",
      "\u001b[32m2024-08-13 12:45:41,990 - root - INFO - Adding new webpage: https://www.loopearplugs.com/blogs/news\u001b[0m\n",
      "\u001b[32m2024-08-13 12:45:41,990 - root - INFO - Adding new webpage: https://www.loopearplugs.com/blogs/news\u001b[0m\n",
      "\u001b[32m2024-08-13 12:45:41,990 - root - INFO - Adding new webpage: https://www.loopearplugs.com/blogs/news\u001b[0m\n",
      "\u001b[32m2024-08-13 12:45:41,990 - root - INFO - Adding new webpage: https://www.loopearplugs.com/blogs/news\u001b[0m\n",
      "\u001b[32m2024-08-13 12:45:41,990 - root - INFO - Adding new webpage: https://www.loopearplugs.com/blogs/news\u001b[0m\n"
     ]
    },
    {
     "name": "stdout",
     "output_type": "stream",
     "text": [
      "Added new webpage: https://www.loopearplugs.com/blogs/news\n"
     ]
    },
    {
     "name": "stderr",
     "output_type": "stream",
     "text": [
      "\u001b[32m2024-08-13 12:45:43,402 - root - INFO - Adding new webpage: https://www.loopearplugs.com/pages/deal-with-noise-sensitivity\u001b[0m\n",
      "\u001b[32m2024-08-13 12:45:43,402 - root - INFO - Adding new webpage: https://www.loopearplugs.com/pages/deal-with-noise-sensitivity\u001b[0m\n",
      "\u001b[32m2024-08-13 12:45:43,402 - root - INFO - Adding new webpage: https://www.loopearplugs.com/pages/deal-with-noise-sensitivity\u001b[0m\n",
      "\u001b[32m2024-08-13 12:45:43,402 - root - INFO - Adding new webpage: https://www.loopearplugs.com/pages/deal-with-noise-sensitivity\u001b[0m\n",
      "\u001b[32m2024-08-13 12:45:43,402 - root - INFO - Adding new webpage: https://www.loopearplugs.com/pages/deal-with-noise-sensitivity\u001b[0m\n",
      "\u001b[32m2024-08-13 12:45:43,402 - root - INFO - Adding new webpage: https://www.loopearplugs.com/pages/deal-with-noise-sensitivity\u001b[0m\n"
     ]
    },
    {
     "name": "stdout",
     "output_type": "stream",
     "text": [
      "Added new webpage: https://www.loopearplugs.com/pages/deal-with-noise-sensitivity\n"
     ]
    },
    {
     "name": "stderr",
     "output_type": "stream",
     "text": [
      "\u001b[32m2024-08-13 12:45:43,662 - urllib3.poolmanager - INFO - Redirecting https://www.loopearplugs.com/blogs/blog/tips-for-choosing-earplugs-for-sleeping -> https://www.loopearplugs.com/blogs/blog/top-tips-for-choosing-earplugs-for-sleeping\u001b[0m\n",
      "\u001b[32m2024-08-13 12:45:43,662 - urllib3.poolmanager - INFO - Redirecting https://www.loopearplugs.com/blogs/blog/tips-for-choosing-earplugs-for-sleeping -> https://www.loopearplugs.com/blogs/blog/top-tips-for-choosing-earplugs-for-sleeping\u001b[0m\n",
      "\u001b[32m2024-08-13 12:45:43,662 - urllib3.poolmanager - INFO - Redirecting https://www.loopearplugs.com/blogs/blog/tips-for-choosing-earplugs-for-sleeping -> https://www.loopearplugs.com/blogs/blog/top-tips-for-choosing-earplugs-for-sleeping\u001b[0m\n",
      "\u001b[32m2024-08-13 12:45:43,662 - urllib3.poolmanager - INFO - Redirecting https://www.loopearplugs.com/blogs/blog/tips-for-choosing-earplugs-for-sleeping -> https://www.loopearplugs.com/blogs/blog/top-tips-for-choosing-earplugs-for-sleeping\u001b[0m\n",
      "\u001b[32m2024-08-13 12:45:43,662 - urllib3.poolmanager - INFO - Redirecting https://www.loopearplugs.com/blogs/blog/tips-for-choosing-earplugs-for-sleeping -> https://www.loopearplugs.com/blogs/blog/top-tips-for-choosing-earplugs-for-sleeping\u001b[0m\n",
      "\u001b[32m2024-08-13 12:45:43,662 - urllib3.poolmanager - INFO - Redirecting https://www.loopearplugs.com/blogs/blog/tips-for-choosing-earplugs-for-sleeping -> https://www.loopearplugs.com/blogs/blog/top-tips-for-choosing-earplugs-for-sleeping\u001b[0m\n",
      "\u001b[32m2024-08-13 12:45:45,053 - root - INFO - Adding new webpage: https://www.loopearplugs.com/blogs/blog/tips-for-choosing-earplugs-for-sleeping\u001b[0m\n",
      "\u001b[32m2024-08-13 12:45:45,053 - root - INFO - Adding new webpage: https://www.loopearplugs.com/blogs/blog/tips-for-choosing-earplugs-for-sleeping\u001b[0m\n",
      "\u001b[32m2024-08-13 12:45:45,053 - root - INFO - Adding new webpage: https://www.loopearplugs.com/blogs/blog/tips-for-choosing-earplugs-for-sleeping\u001b[0m\n",
      "\u001b[32m2024-08-13 12:45:45,053 - root - INFO - Adding new webpage: https://www.loopearplugs.com/blogs/blog/tips-for-choosing-earplugs-for-sleeping\u001b[0m\n",
      "\u001b[32m2024-08-13 12:45:45,053 - root - INFO - Adding new webpage: https://www.loopearplugs.com/blogs/blog/tips-for-choosing-earplugs-for-sleeping\u001b[0m\n",
      "\u001b[32m2024-08-13 12:45:45,053 - root - INFO - Adding new webpage: https://www.loopearplugs.com/blogs/blog/tips-for-choosing-earplugs-for-sleeping\u001b[0m\n"
     ]
    },
    {
     "name": "stdout",
     "output_type": "stream",
     "text": [
      "Added new webpage: https://www.loopearplugs.com/blogs/blog/tips-for-choosing-earplugs-for-sleeping\n"
     ]
    },
    {
     "name": "stderr",
     "output_type": "stream",
     "text": [
      "\u001b[32m2024-08-13 12:45:46,984 - root - INFO - Adding new webpage: https://www.loopearplugs.com/blogs/press\u001b[0m\n",
      "\u001b[32m2024-08-13 12:45:46,984 - root - INFO - Adding new webpage: https://www.loopearplugs.com/blogs/press\u001b[0m\n",
      "\u001b[32m2024-08-13 12:45:46,984 - root - INFO - Adding new webpage: https://www.loopearplugs.com/blogs/press\u001b[0m\n",
      "\u001b[32m2024-08-13 12:45:46,984 - root - INFO - Adding new webpage: https://www.loopearplugs.com/blogs/press\u001b[0m\n",
      "\u001b[32m2024-08-13 12:45:46,984 - root - INFO - Adding new webpage: https://www.loopearplugs.com/blogs/press\u001b[0m\n",
      "\u001b[32m2024-08-13 12:45:46,984 - root - INFO - Adding new webpage: https://www.loopearplugs.com/blogs/press\u001b[0m\n"
     ]
    },
    {
     "name": "stdout",
     "output_type": "stream",
     "text": [
      "Added new webpage: https://www.loopearplugs.com/blogs/press\n"
     ]
    },
    {
     "name": "stderr",
     "output_type": "stream",
     "text": [
      "\u001b[32m2024-08-13 12:45:47,367 - urllib3.poolmanager - INFO - Redirecting https://www.loopearplugs.com/pages/b2b -> https://b2b.loopearplugs.com/\u001b[0m\n",
      "\u001b[32m2024-08-13 12:45:47,367 - urllib3.poolmanager - INFO - Redirecting https://www.loopearplugs.com/pages/b2b -> https://b2b.loopearplugs.com/\u001b[0m\n",
      "\u001b[32m2024-08-13 12:45:47,367 - urllib3.poolmanager - INFO - Redirecting https://www.loopearplugs.com/pages/b2b -> https://b2b.loopearplugs.com/\u001b[0m\n",
      "\u001b[32m2024-08-13 12:45:47,367 - urllib3.poolmanager - INFO - Redirecting https://www.loopearplugs.com/pages/b2b -> https://b2b.loopearplugs.com/\u001b[0m\n",
      "\u001b[32m2024-08-13 12:45:47,367 - urllib3.poolmanager - INFO - Redirecting https://www.loopearplugs.com/pages/b2b -> https://b2b.loopearplugs.com/\u001b[0m\n",
      "\u001b[32m2024-08-13 12:45:47,367 - urllib3.poolmanager - INFO - Redirecting https://www.loopearplugs.com/pages/b2b -> https://b2b.loopearplugs.com/\u001b[0m\n",
      "\u001b[32m2024-08-13 12:45:48,853 - root - INFO - Adding new webpage: https://www.loopearplugs.com/pages/b2b\u001b[0m\n",
      "\u001b[32m2024-08-13 12:45:48,853 - root - INFO - Adding new webpage: https://www.loopearplugs.com/pages/b2b\u001b[0m\n",
      "\u001b[32m2024-08-13 12:45:48,853 - root - INFO - Adding new webpage: https://www.loopearplugs.com/pages/b2b\u001b[0m\n",
      "\u001b[32m2024-08-13 12:45:48,853 - root - INFO - Adding new webpage: https://www.loopearplugs.com/pages/b2b\u001b[0m\n",
      "\u001b[32m2024-08-13 12:45:48,853 - root - INFO - Adding new webpage: https://www.loopearplugs.com/pages/b2b\u001b[0m\n",
      "\u001b[32m2024-08-13 12:45:48,853 - root - INFO - Adding new webpage: https://www.loopearplugs.com/pages/b2b\u001b[0m\n",
      "\u001b[32m2024-08-13 12:45:49,029 - urllib3.poolmanager - INFO - Redirecting https://www.loopearplugs.com/collections/all-products -> https://www.loopearplugs.com/collections/all\u001b[0m\n",
      "\u001b[32m2024-08-13 12:45:49,029 - urllib3.poolmanager - INFO - Redirecting https://www.loopearplugs.com/collections/all-products -> https://www.loopearplugs.com/collections/all\u001b[0m\n",
      "\u001b[32m2024-08-13 12:45:49,029 - urllib3.poolmanager - INFO - Redirecting https://www.loopearplugs.com/collections/all-products -> https://www.loopearplugs.com/collections/all\u001b[0m\n",
      "\u001b[32m2024-08-13 12:45:49,029 - urllib3.poolmanager - INFO - Redirecting https://www.loopearplugs.com/collections/all-products -> https://www.loopearplugs.com/collections/all\u001b[0m\n",
      "\u001b[32m2024-08-13 12:45:49,029 - urllib3.poolmanager - INFO - Redirecting https://www.loopearplugs.com/collections/all-products -> https://www.loopearplugs.com/collections/all\u001b[0m\n",
      "\u001b[32m2024-08-13 12:45:49,029 - urllib3.poolmanager - INFO - Redirecting https://www.loopearplugs.com/collections/all-products -> https://www.loopearplugs.com/collections/all\u001b[0m\n"
     ]
    },
    {
     "name": "stdout",
     "output_type": "stream",
     "text": [
      "Added new webpage: https://www.loopearplugs.com/pages/b2b\n"
     ]
    },
    {
     "name": "stderr",
     "output_type": "stream",
     "text": [
      "\u001b[32m2024-08-13 12:45:51,854 - root - INFO - Adding new webpage: https://www.loopearplugs.com/collections/all-products\u001b[0m\n",
      "\u001b[32m2024-08-13 12:45:51,854 - root - INFO - Adding new webpage: https://www.loopearplugs.com/collections/all-products\u001b[0m\n",
      "\u001b[32m2024-08-13 12:45:51,854 - root - INFO - Adding new webpage: https://www.loopearplugs.com/collections/all-products\u001b[0m\n",
      "\u001b[32m2024-08-13 12:45:51,854 - root - INFO - Adding new webpage: https://www.loopearplugs.com/collections/all-products\u001b[0m\n",
      "\u001b[32m2024-08-13 12:45:51,854 - root - INFO - Adding new webpage: https://www.loopearplugs.com/collections/all-products\u001b[0m\n",
      "\u001b[32m2024-08-13 12:45:51,854 - root - INFO - Adding new webpage: https://www.loopearplugs.com/collections/all-products\u001b[0m\n",
      "\u001b[32m2024-08-13 12:45:52,040 - urllib3.poolmanager - INFO - Redirecting https://www.loopearplugs.com/collections/all-products/products/quiet -> https://www.loopearplugs.com/products/quiet\u001b[0m\n",
      "\u001b[32m2024-08-13 12:45:52,040 - urllib3.poolmanager - INFO - Redirecting https://www.loopearplugs.com/collections/all-products/products/quiet -> https://www.loopearplugs.com/products/quiet\u001b[0m\n",
      "\u001b[32m2024-08-13 12:45:52,040 - urllib3.poolmanager - INFO - Redirecting https://www.loopearplugs.com/collections/all-products/products/quiet -> https://www.loopearplugs.com/products/quiet\u001b[0m\n",
      "\u001b[32m2024-08-13 12:45:52,040 - urllib3.poolmanager - INFO - Redirecting https://www.loopearplugs.com/collections/all-products/products/quiet -> https://www.loopearplugs.com/products/quiet\u001b[0m\n",
      "\u001b[32m2024-08-13 12:45:52,040 - urllib3.poolmanager - INFO - Redirecting https://www.loopearplugs.com/collections/all-products/products/quiet -> https://www.loopearplugs.com/products/quiet\u001b[0m\n",
      "\u001b[32m2024-08-13 12:45:52,040 - urllib3.poolmanager - INFO - Redirecting https://www.loopearplugs.com/collections/all-products/products/quiet -> https://www.loopearplugs.com/products/quiet\u001b[0m\n"
     ]
    },
    {
     "name": "stdout",
     "output_type": "stream",
     "text": [
      "Added new webpage: https://www.loopearplugs.com/collections/all-products\n"
     ]
    },
    {
     "name": "stderr",
     "output_type": "stream",
     "text": [
      "\u001b[33m2024-08-13 12:45:52,861 - trafilatura.xml - WARNING - empty link:  {'target': 'https://www.loopearplugs.com/products/quiet'}\u001b[0m\n",
      "\u001b[33m2024-08-13 12:45:52,861 - trafilatura.xml - WARNING - empty link:  {'target': 'https://www.loopearplugs.com/products/quiet'}\u001b[0m\n",
      "\u001b[33m2024-08-13 12:45:52,861 - trafilatura.xml - WARNING - empty link:  {'target': 'https://www.loopearplugs.com/products/quiet'}\u001b[0m\n",
      "\u001b[33m2024-08-13 12:45:52,861 - trafilatura.xml - WARNING - empty link:  {'target': 'https://www.loopearplugs.com/products/quiet'}\u001b[0m\n",
      "\u001b[33m2024-08-13 12:45:52,861 - trafilatura.xml - WARNING - empty link:  {'target': 'https://www.loopearplugs.com/products/quiet'}\u001b[0m\n",
      "\u001b[33m2024-08-13 12:45:52,861 - trafilatura.xml - WARNING - empty link:  {'target': 'https://www.loopearplugs.com/products/quiet'}\u001b[0m\n",
      "\u001b[32m2024-08-13 12:45:52,864 - root - INFO - Adding new webpage: https://www.loopearplugs.com/collections/all-products/products/quiet\u001b[0m\n",
      "\u001b[32m2024-08-13 12:45:52,864 - root - INFO - Adding new webpage: https://www.loopearplugs.com/collections/all-products/products/quiet\u001b[0m\n",
      "\u001b[32m2024-08-13 12:45:52,864 - root - INFO - Adding new webpage: https://www.loopearplugs.com/collections/all-products/products/quiet\u001b[0m\n",
      "\u001b[32m2024-08-13 12:45:52,864 - root - INFO - Adding new webpage: https://www.loopearplugs.com/collections/all-products/products/quiet\u001b[0m\n",
      "\u001b[32m2024-08-13 12:45:52,864 - root - INFO - Adding new webpage: https://www.loopearplugs.com/collections/all-products/products/quiet\u001b[0m\n",
      "\u001b[32m2024-08-13 12:45:52,864 - root - INFO - Adding new webpage: https://www.loopearplugs.com/collections/all-products/products/quiet\u001b[0m\n"
     ]
    },
    {
     "name": "stdout",
     "output_type": "stream",
     "text": [
      "Added new webpage: https://www.loopearplugs.com/collections/all-products/products/quiet\n"
     ]
    },
    {
     "name": "stderr",
     "output_type": "stream",
     "text": [
      "\u001b[32m2024-08-13 12:45:53,990 - root - INFO - Adding new webpage: https://www.loopearplugs.com/blogs/press-corner/bestselling-belgian-earplugs-taking-over-the-world-dreamed-up-by-childhood-best-friends\u001b[0m\n",
      "\u001b[32m2024-08-13 12:45:53,990 - root - INFO - Adding new webpage: https://www.loopearplugs.com/blogs/press-corner/bestselling-belgian-earplugs-taking-over-the-world-dreamed-up-by-childhood-best-friends\u001b[0m\n",
      "\u001b[32m2024-08-13 12:45:53,990 - root - INFO - Adding new webpage: https://www.loopearplugs.com/blogs/press-corner/bestselling-belgian-earplugs-taking-over-the-world-dreamed-up-by-childhood-best-friends\u001b[0m\n",
      "\u001b[32m2024-08-13 12:45:53,990 - root - INFO - Adding new webpage: https://www.loopearplugs.com/blogs/press-corner/bestselling-belgian-earplugs-taking-over-the-world-dreamed-up-by-childhood-best-friends\u001b[0m\n",
      "\u001b[32m2024-08-13 12:45:53,990 - root - INFO - Adding new webpage: https://www.loopearplugs.com/blogs/press-corner/bestselling-belgian-earplugs-taking-over-the-world-dreamed-up-by-childhood-best-friends\u001b[0m\n",
      "\u001b[32m2024-08-13 12:45:53,990 - root - INFO - Adding new webpage: https://www.loopearplugs.com/blogs/press-corner/bestselling-belgian-earplugs-taking-over-the-world-dreamed-up-by-childhood-best-friends\u001b[0m\n"
     ]
    },
    {
     "name": "stdout",
     "output_type": "stream",
     "text": [
      "Added new webpage: https://www.loopearplugs.com/blogs/press-corner/bestselling-belgian-earplugs-taking-over-the-world-dreamed-up-by-childhood-best-friends\n"
     ]
    },
    {
     "name": "stderr",
     "output_type": "stream",
     "text": [
      "\u001b[33m2024-08-13 12:45:55,550 - trafilatura.xml - WARNING - missing link attribute: \n",
      "              \n",
      "            \n",
      "            \n",
      "              \n",
      "            \n",
      "\n",
      "            \n",
      "              \n",
      "            \n",
      "          \n",
      "         {}'\u001b[0m\n",
      "\u001b[33m2024-08-13 12:45:55,550 - trafilatura.xml - WARNING - missing link attribute: \n",
      "              \n",
      "            \n",
      "            \n",
      "              \n",
      "            \n",
      "\n",
      "            \n",
      "              \n",
      "            \n",
      "          \n",
      "         {}'\u001b[0m\n",
      "\u001b[33m2024-08-13 12:45:55,550 - trafilatura.xml - WARNING - missing link attribute: \n",
      "              \n",
      "            \n",
      "            \n",
      "              \n",
      "            \n",
      "\n",
      "            \n",
      "              \n",
      "            \n",
      "          \n",
      "         {}'\u001b[0m\n",
      "\u001b[33m2024-08-13 12:45:55,550 - trafilatura.xml - WARNING - missing link attribute: \n",
      "              \n",
      "            \n",
      "            \n",
      "              \n",
      "            \n",
      "\n",
      "            \n",
      "              \n",
      "            \n",
      "          \n",
      "         {}'\u001b[0m\n",
      "\u001b[33m2024-08-13 12:45:55,550 - trafilatura.xml - WARNING - missing link attribute: \n",
      "              \n",
      "            \n",
      "            \n",
      "              \n",
      "            \n",
      "\n",
      "            \n",
      "              \n",
      "            \n",
      "          \n",
      "         {}'\u001b[0m\n",
      "\u001b[33m2024-08-13 12:45:55,550 - trafilatura.xml - WARNING - missing link attribute: \n",
      "              \n",
      "            \n",
      "            \n",
      "              \n",
      "            \n",
      "\n",
      "            \n",
      "              \n",
      "            \n",
      "          \n",
      "         {}'\u001b[0m\n",
      "\u001b[32m2024-08-13 12:45:55,553 - root - INFO - Adding new webpage: https://www.loopearplugs.com/pages/earplugs-for-drummers\u001b[0m\n",
      "\u001b[32m2024-08-13 12:45:55,553 - root - INFO - Adding new webpage: https://www.loopearplugs.com/pages/earplugs-for-drummers\u001b[0m\n",
      "\u001b[32m2024-08-13 12:45:55,553 - root - INFO - Adding new webpage: https://www.loopearplugs.com/pages/earplugs-for-drummers\u001b[0m\n",
      "\u001b[32m2024-08-13 12:45:55,553 - root - INFO - Adding new webpage: https://www.loopearplugs.com/pages/earplugs-for-drummers\u001b[0m\n",
      "\u001b[32m2024-08-13 12:45:55,553 - root - INFO - Adding new webpage: https://www.loopearplugs.com/pages/earplugs-for-drummers\u001b[0m\n",
      "\u001b[32m2024-08-13 12:45:55,553 - root - INFO - Adding new webpage: https://www.loopearplugs.com/pages/earplugs-for-drummers\u001b[0m\n",
      "\u001b[32m2024-08-13 12:45:55,743 - urllib3.poolmanager - INFO - Redirecting https://www.loopearplugs.com/products/loop-link -> https://www.loopearplugs.com/products/link\u001b[0m\n",
      "\u001b[32m2024-08-13 12:45:55,743 - urllib3.poolmanager - INFO - Redirecting https://www.loopearplugs.com/products/loop-link -> https://www.loopearplugs.com/products/link\u001b[0m\n",
      "\u001b[32m2024-08-13 12:45:55,743 - urllib3.poolmanager - INFO - Redirecting https://www.loopearplugs.com/products/loop-link -> https://www.loopearplugs.com/products/link\u001b[0m\n",
      "\u001b[32m2024-08-13 12:45:55,743 - urllib3.poolmanager - INFO - Redirecting https://www.loopearplugs.com/products/loop-link -> https://www.loopearplugs.com/products/link\u001b[0m\n",
      "\u001b[32m2024-08-13 12:45:55,743 - urllib3.poolmanager - INFO - Redirecting https://www.loopearplugs.com/products/loop-link -> https://www.loopearplugs.com/products/link\u001b[0m\n",
      "\u001b[32m2024-08-13 12:45:55,743 - urllib3.poolmanager - INFO - Redirecting https://www.loopearplugs.com/products/loop-link -> https://www.loopearplugs.com/products/link\u001b[0m\n"
     ]
    },
    {
     "name": "stdout",
     "output_type": "stream",
     "text": [
      "Added new webpage: https://www.loopearplugs.com/pages/earplugs-for-drummers\n"
     ]
    },
    {
     "name": "stderr",
     "output_type": "stream",
     "text": [
      "\u001b[33m2024-08-13 12:45:56,292 - trafilatura.xml - WARNING - empty link:  {'target': 'https://www.loopearplugs.com/products/link'}\u001b[0m\n",
      "\u001b[33m2024-08-13 12:45:56,292 - trafilatura.xml - WARNING - empty link:  {'target': 'https://www.loopearplugs.com/products/link'}\u001b[0m\n",
      "\u001b[33m2024-08-13 12:45:56,292 - trafilatura.xml - WARNING - empty link:  {'target': 'https://www.loopearplugs.com/products/link'}\u001b[0m\n",
      "\u001b[33m2024-08-13 12:45:56,292 - trafilatura.xml - WARNING - empty link:  {'target': 'https://www.loopearplugs.com/products/link'}\u001b[0m\n",
      "\u001b[33m2024-08-13 12:45:56,292 - trafilatura.xml - WARNING - empty link:  {'target': 'https://www.loopearplugs.com/products/link'}\u001b[0m\n",
      "\u001b[33m2024-08-13 12:45:56,292 - trafilatura.xml - WARNING - empty link:  {'target': 'https://www.loopearplugs.com/products/link'}\u001b[0m\n",
      "\u001b[32m2024-08-13 12:45:56,295 - root - INFO - Adding new webpage: https://www.loopearplugs.com/products/loop-link\u001b[0m\n",
      "\u001b[32m2024-08-13 12:45:56,295 - root - INFO - Adding new webpage: https://www.loopearplugs.com/products/loop-link\u001b[0m\n",
      "\u001b[32m2024-08-13 12:45:56,295 - root - INFO - Adding new webpage: https://www.loopearplugs.com/products/loop-link\u001b[0m\n",
      "\u001b[32m2024-08-13 12:45:56,295 - root - INFO - Adding new webpage: https://www.loopearplugs.com/products/loop-link\u001b[0m\n",
      "\u001b[32m2024-08-13 12:45:56,295 - root - INFO - Adding new webpage: https://www.loopearplugs.com/products/loop-link\u001b[0m\n",
      "\u001b[32m2024-08-13 12:45:56,295 - root - INFO - Adding new webpage: https://www.loopearplugs.com/products/loop-link\u001b[0m\n"
     ]
    },
    {
     "name": "stdout",
     "output_type": "stream",
     "text": [
      "Added new webpage: https://www.loopearplugs.com/products/loop-link\n"
     ]
    },
    {
     "name": "stderr",
     "output_type": "stream",
     "text": [
      "\u001b[31m2024-08-13 12:45:57,365 - trafilatura.downloads - ERROR - not a 200 response: 404 for URL https://www.loopearplugs.com/pages/business-pricing\u001b[0m\n",
      "\u001b[31m2024-08-13 12:45:57,365 - trafilatura.downloads - ERROR - not a 200 response: 404 for URL https://www.loopearplugs.com/pages/business-pricing\u001b[0m\n",
      "\u001b[31m2024-08-13 12:45:57,365 - trafilatura.downloads - ERROR - not a 200 response: 404 for URL https://www.loopearplugs.com/pages/business-pricing\u001b[0m\n",
      "\u001b[31m2024-08-13 12:45:57,365 - trafilatura.downloads - ERROR - not a 200 response: 404 for URL https://www.loopearplugs.com/pages/business-pricing\u001b[0m\n",
      "\u001b[31m2024-08-13 12:45:57,365 - trafilatura.downloads - ERROR - not a 200 response: 404 for URL https://www.loopearplugs.com/pages/business-pricing\u001b[0m\n",
      "\u001b[31m2024-08-13 12:45:57,365 - trafilatura.downloads - ERROR - not a 200 response: 404 for URL https://www.loopearplugs.com/pages/business-pricing\u001b[0m\n",
      "\u001b[33m2024-08-13 12:45:57,369 - trafilatura.core - WARNING - discarding data: None\u001b[0m\n",
      "\u001b[33m2024-08-13 12:45:57,369 - trafilatura.core - WARNING - discarding data: None\u001b[0m\n",
      "\u001b[33m2024-08-13 12:45:57,369 - trafilatura.core - WARNING - discarding data: None\u001b[0m\n",
      "\u001b[33m2024-08-13 12:45:57,369 - trafilatura.core - WARNING - discarding data: None\u001b[0m\n",
      "\u001b[33m2024-08-13 12:45:57,369 - trafilatura.core - WARNING - discarding data: None\u001b[0m\n",
      "\u001b[33m2024-08-13 12:45:57,369 - trafilatura.core - WARNING - discarding data: None\u001b[0m\n",
      "\u001b[31m2024-08-13 12:45:57,584 - trafilatura.downloads - ERROR - not a 200 response: 404 for URL https://www.loopearplugs.com/products/quiet-3\u001b[0m\n",
      "\u001b[31m2024-08-13 12:45:57,584 - trafilatura.downloads - ERROR - not a 200 response: 404 for URL https://www.loopearplugs.com/products/quiet-3\u001b[0m\n",
      "\u001b[31m2024-08-13 12:45:57,584 - trafilatura.downloads - ERROR - not a 200 response: 404 for URL https://www.loopearplugs.com/products/quiet-3\u001b[0m\n",
      "\u001b[31m2024-08-13 12:45:57,584 - trafilatura.downloads - ERROR - not a 200 response: 404 for URL https://www.loopearplugs.com/products/quiet-3\u001b[0m\n",
      "\u001b[31m2024-08-13 12:45:57,584 - trafilatura.downloads - ERROR - not a 200 response: 404 for URL https://www.loopearplugs.com/products/quiet-3\u001b[0m\n",
      "\u001b[31m2024-08-13 12:45:57,584 - trafilatura.downloads - ERROR - not a 200 response: 404 for URL https://www.loopearplugs.com/products/quiet-3\u001b[0m\n",
      "\u001b[33m2024-08-13 12:45:57,587 - trafilatura.core - WARNING - discarding data: None\u001b[0m\n",
      "\u001b[33m2024-08-13 12:45:57,587 - trafilatura.core - WARNING - discarding data: None\u001b[0m\n",
      "\u001b[33m2024-08-13 12:45:57,587 - trafilatura.core - WARNING - discarding data: None\u001b[0m\n",
      "\u001b[33m2024-08-13 12:45:57,587 - trafilatura.core - WARNING - discarding data: None\u001b[0m\n",
      "\u001b[33m2024-08-13 12:45:57,587 - trafilatura.core - WARNING - discarding data: None\u001b[0m\n",
      "\u001b[33m2024-08-13 12:45:57,587 - trafilatura.core - WARNING - discarding data: None\u001b[0m\n",
      "\u001b[32m2024-08-13 12:45:57,767 - urllib3.poolmanager - INFO - Redirecting https://www.loopearplugs.com/products/experience-2-plus -> https://www.loopearplugs.com/products/experience-plus\u001b[0m\n",
      "\u001b[32m2024-08-13 12:45:57,767 - urllib3.poolmanager - INFO - Redirecting https://www.loopearplugs.com/products/experience-2-plus -> https://www.loopearplugs.com/products/experience-plus\u001b[0m\n",
      "\u001b[32m2024-08-13 12:45:57,767 - urllib3.poolmanager - INFO - Redirecting https://www.loopearplugs.com/products/experience-2-plus -> https://www.loopearplugs.com/products/experience-plus\u001b[0m\n",
      "\u001b[32m2024-08-13 12:45:57,767 - urllib3.poolmanager - INFO - Redirecting https://www.loopearplugs.com/products/experience-2-plus -> https://www.loopearplugs.com/products/experience-plus\u001b[0m\n",
      "\u001b[32m2024-08-13 12:45:57,767 - urllib3.poolmanager - INFO - Redirecting https://www.loopearplugs.com/products/experience-2-plus -> https://www.loopearplugs.com/products/experience-plus\u001b[0m\n",
      "\u001b[32m2024-08-13 12:45:57,767 - urllib3.poolmanager - INFO - Redirecting https://www.loopearplugs.com/products/experience-2-plus -> https://www.loopearplugs.com/products/experience-plus\u001b[0m\n",
      "\u001b[33m2024-08-13 12:45:58,364 - trafilatura.xml - WARNING - empty link:  {'target': 'https://www.loopearplugs.com/products/experience-plus'}\u001b[0m\n",
      "\u001b[33m2024-08-13 12:45:58,364 - trafilatura.xml - WARNING - empty link:  {'target': 'https://www.loopearplugs.com/products/experience-plus'}\u001b[0m\n",
      "\u001b[33m2024-08-13 12:45:58,364 - trafilatura.xml - WARNING - empty link:  {'target': 'https://www.loopearplugs.com/products/experience-plus'}\u001b[0m\n",
      "\u001b[33m2024-08-13 12:45:58,364 - trafilatura.xml - WARNING - empty link:  {'target': 'https://www.loopearplugs.com/products/experience-plus'}\u001b[0m\n",
      "\u001b[33m2024-08-13 12:45:58,364 - trafilatura.xml - WARNING - empty link:  {'target': 'https://www.loopearplugs.com/products/experience-plus'}\u001b[0m\n",
      "\u001b[33m2024-08-13 12:45:58,364 - trafilatura.xml - WARNING - empty link:  {'target': 'https://www.loopearplugs.com/products/experience-plus'}\u001b[0m\n",
      "\u001b[32m2024-08-13 12:45:58,369 - root - INFO - Adding new webpage: https://www.loopearplugs.com/products/experience-2-plus\u001b[0m\n",
      "\u001b[32m2024-08-13 12:45:58,369 - root - INFO - Adding new webpage: https://www.loopearplugs.com/products/experience-2-plus\u001b[0m\n",
      "\u001b[32m2024-08-13 12:45:58,369 - root - INFO - Adding new webpage: https://www.loopearplugs.com/products/experience-2-plus\u001b[0m\n",
      "\u001b[32m2024-08-13 12:45:58,369 - root - INFO - Adding new webpage: https://www.loopearplugs.com/products/experience-2-plus\u001b[0m\n",
      "\u001b[32m2024-08-13 12:45:58,369 - root - INFO - Adding new webpage: https://www.loopearplugs.com/products/experience-2-plus\u001b[0m\n",
      "\u001b[32m2024-08-13 12:45:58,369 - root - INFO - Adding new webpage: https://www.loopearplugs.com/products/experience-2-plus\u001b[0m\n"
     ]
    },
    {
     "name": "stdout",
     "output_type": "stream",
     "text": [
      "Added new webpage: https://www.loopearplugs.com/products/experience-2-plus\n"
     ]
    },
    {
     "name": "stderr",
     "output_type": "stream",
     "text": [
      "\u001b[31m2024-08-13 12:45:58,953 - trafilatura.downloads - ERROR - not a 200 response: 404 for URL https://www.loopearplugs.com/pages/help-me-choose\u001b[0m\n",
      "\u001b[31m2024-08-13 12:45:58,953 - trafilatura.downloads - ERROR - not a 200 response: 404 for URL https://www.loopearplugs.com/pages/help-me-choose\u001b[0m\n",
      "\u001b[31m2024-08-13 12:45:58,953 - trafilatura.downloads - ERROR - not a 200 response: 404 for URL https://www.loopearplugs.com/pages/help-me-choose\u001b[0m\n",
      "\u001b[31m2024-08-13 12:45:58,953 - trafilatura.downloads - ERROR - not a 200 response: 404 for URL https://www.loopearplugs.com/pages/help-me-choose\u001b[0m\n",
      "\u001b[31m2024-08-13 12:45:58,953 - trafilatura.downloads - ERROR - not a 200 response: 404 for URL https://www.loopearplugs.com/pages/help-me-choose\u001b[0m\n",
      "\u001b[31m2024-08-13 12:45:58,953 - trafilatura.downloads - ERROR - not a 200 response: 404 for URL https://www.loopearplugs.com/pages/help-me-choose\u001b[0m\n",
      "\u001b[33m2024-08-13 12:45:58,955 - trafilatura.core - WARNING - discarding data: None\u001b[0m\n",
      "\u001b[33m2024-08-13 12:45:58,955 - trafilatura.core - WARNING - discarding data: None\u001b[0m\n",
      "\u001b[33m2024-08-13 12:45:58,955 - trafilatura.core - WARNING - discarding data: None\u001b[0m\n",
      "\u001b[33m2024-08-13 12:45:58,955 - trafilatura.core - WARNING - discarding data: None\u001b[0m\n",
      "\u001b[33m2024-08-13 12:45:58,955 - trafilatura.core - WARNING - discarding data: None\u001b[0m\n",
      "\u001b[33m2024-08-13 12:45:58,955 - trafilatura.core - WARNING - discarding data: None\u001b[0m\n",
      "\u001b[31m2024-08-13 12:45:59,147 - trafilatura.downloads - ERROR - not a 200 response: 404 for URL https://www.loopearplugs.com/products/engage-2-plus\u001b[0m\n",
      "\u001b[31m2024-08-13 12:45:59,147 - trafilatura.downloads - ERROR - not a 200 response: 404 for URL https://www.loopearplugs.com/products/engage-2-plus\u001b[0m\n",
      "\u001b[31m2024-08-13 12:45:59,147 - trafilatura.downloads - ERROR - not a 200 response: 404 for URL https://www.loopearplugs.com/products/engage-2-plus\u001b[0m\n",
      "\u001b[31m2024-08-13 12:45:59,147 - trafilatura.downloads - ERROR - not a 200 response: 404 for URL https://www.loopearplugs.com/products/engage-2-plus\u001b[0m\n",
      "\u001b[31m2024-08-13 12:45:59,147 - trafilatura.downloads - ERROR - not a 200 response: 404 for URL https://www.loopearplugs.com/products/engage-2-plus\u001b[0m\n",
      "\u001b[31m2024-08-13 12:45:59,147 - trafilatura.downloads - ERROR - not a 200 response: 404 for URL https://www.loopearplugs.com/products/engage-2-plus\u001b[0m\n",
      "\u001b[33m2024-08-13 12:45:59,151 - trafilatura.core - WARNING - discarding data: None\u001b[0m\n",
      "\u001b[33m2024-08-13 12:45:59,151 - trafilatura.core - WARNING - discarding data: None\u001b[0m\n",
      "\u001b[33m2024-08-13 12:45:59,151 - trafilatura.core - WARNING - discarding data: None\u001b[0m\n",
      "\u001b[33m2024-08-13 12:45:59,151 - trafilatura.core - WARNING - discarding data: None\u001b[0m\n",
      "\u001b[33m2024-08-13 12:45:59,151 - trafilatura.core - WARNING - discarding data: None\u001b[0m\n",
      "\u001b[33m2024-08-13 12:45:59,151 - trafilatura.core - WARNING - discarding data: None\u001b[0m\n",
      "\u001b[31m2024-08-13 12:45:59,344 - trafilatura.downloads - ERROR - not a 200 response: 404 for URL https://www.loopearplugs.com/products/engage-4\u001b[0m\n",
      "\u001b[31m2024-08-13 12:45:59,344 - trafilatura.downloads - ERROR - not a 200 response: 404 for URL https://www.loopearplugs.com/products/engage-4\u001b[0m\n",
      "\u001b[31m2024-08-13 12:45:59,344 - trafilatura.downloads - ERROR - not a 200 response: 404 for URL https://www.loopearplugs.com/products/engage-4\u001b[0m\n",
      "\u001b[31m2024-08-13 12:45:59,344 - trafilatura.downloads - ERROR - not a 200 response: 404 for URL https://www.loopearplugs.com/products/engage-4\u001b[0m\n",
      "\u001b[31m2024-08-13 12:45:59,344 - trafilatura.downloads - ERROR - not a 200 response: 404 for URL https://www.loopearplugs.com/products/engage-4\u001b[0m\n",
      "\u001b[31m2024-08-13 12:45:59,344 - trafilatura.downloads - ERROR - not a 200 response: 404 for URL https://www.loopearplugs.com/products/engage-4\u001b[0m\n",
      "\u001b[33m2024-08-13 12:45:59,348 - trafilatura.core - WARNING - discarding data: None\u001b[0m\n",
      "\u001b[33m2024-08-13 12:45:59,348 - trafilatura.core - WARNING - discarding data: None\u001b[0m\n",
      "\u001b[33m2024-08-13 12:45:59,348 - trafilatura.core - WARNING - discarding data: None\u001b[0m\n",
      "\u001b[33m2024-08-13 12:45:59,348 - trafilatura.core - WARNING - discarding data: None\u001b[0m\n",
      "\u001b[33m2024-08-13 12:45:59,348 - trafilatura.core - WARNING - discarding data: None\u001b[0m\n",
      "\u001b[33m2024-08-13 12:45:59,348 - trafilatura.core - WARNING - discarding data: None\u001b[0m\n",
      "\u001b[31m2024-08-13 12:45:59,939 - trafilatura.downloads - ERROR - not a 200 response: 404 for URL https://www.loopearplugs.com/pages/sign-up-for-a-customer-account\u001b[0m\n",
      "\u001b[31m2024-08-13 12:45:59,939 - trafilatura.downloads - ERROR - not a 200 response: 404 for URL https://www.loopearplugs.com/pages/sign-up-for-a-customer-account\u001b[0m\n",
      "\u001b[31m2024-08-13 12:45:59,939 - trafilatura.downloads - ERROR - not a 200 response: 404 for URL https://www.loopearplugs.com/pages/sign-up-for-a-customer-account\u001b[0m\n",
      "\u001b[31m2024-08-13 12:45:59,939 - trafilatura.downloads - ERROR - not a 200 response: 404 for URL https://www.loopearplugs.com/pages/sign-up-for-a-customer-account\u001b[0m\n",
      "\u001b[31m2024-08-13 12:45:59,939 - trafilatura.downloads - ERROR - not a 200 response: 404 for URL https://www.loopearplugs.com/pages/sign-up-for-a-customer-account\u001b[0m\n",
      "\u001b[31m2024-08-13 12:45:59,939 - trafilatura.downloads - ERROR - not a 200 response: 404 for URL https://www.loopearplugs.com/pages/sign-up-for-a-customer-account\u001b[0m\n",
      "\u001b[33m2024-08-13 12:45:59,942 - trafilatura.core - WARNING - discarding data: None\u001b[0m\n",
      "\u001b[33m2024-08-13 12:45:59,942 - trafilatura.core - WARNING - discarding data: None\u001b[0m\n",
      "\u001b[33m2024-08-13 12:45:59,942 - trafilatura.core - WARNING - discarding data: None\u001b[0m\n",
      "\u001b[33m2024-08-13 12:45:59,942 - trafilatura.core - WARNING - discarding data: None\u001b[0m\n",
      "\u001b[33m2024-08-13 12:45:59,942 - trafilatura.core - WARNING - discarding data: None\u001b[0m\n",
      "\u001b[33m2024-08-13 12:45:59,942 - trafilatura.core - WARNING - discarding data: None\u001b[0m\n",
      "\u001b[31m2024-08-13 12:46:00,134 - trafilatura.downloads - ERROR - not a 200 response: 404 for URL https://www.loopearplugs.com/products/experience-4\u001b[0m\n",
      "\u001b[31m2024-08-13 12:46:00,134 - trafilatura.downloads - ERROR - not a 200 response: 404 for URL https://www.loopearplugs.com/products/experience-4\u001b[0m\n",
      "\u001b[31m2024-08-13 12:46:00,134 - trafilatura.downloads - ERROR - not a 200 response: 404 for URL https://www.loopearplugs.com/products/experience-4\u001b[0m\n",
      "\u001b[31m2024-08-13 12:46:00,134 - trafilatura.downloads - ERROR - not a 200 response: 404 for URL https://www.loopearplugs.com/products/experience-4\u001b[0m\n",
      "\u001b[31m2024-08-13 12:46:00,134 - trafilatura.downloads - ERROR - not a 200 response: 404 for URL https://www.loopearplugs.com/products/experience-4\u001b[0m\n",
      "\u001b[31m2024-08-13 12:46:00,134 - trafilatura.downloads - ERROR - not a 200 response: 404 for URL https://www.loopearplugs.com/products/experience-4\u001b[0m\n",
      "\u001b[33m2024-08-13 12:46:00,138 - trafilatura.core - WARNING - discarding data: None\u001b[0m\n",
      "\u001b[33m2024-08-13 12:46:00,138 - trafilatura.core - WARNING - discarding data: None\u001b[0m\n",
      "\u001b[33m2024-08-13 12:46:00,138 - trafilatura.core - WARNING - discarding data: None\u001b[0m\n",
      "\u001b[33m2024-08-13 12:46:00,138 - trafilatura.core - WARNING - discarding data: None\u001b[0m\n",
      "\u001b[33m2024-08-13 12:46:00,138 - trafilatura.core - WARNING - discarding data: None\u001b[0m\n",
      "\u001b[33m2024-08-13 12:46:00,138 - trafilatura.core - WARNING - discarding data: None\u001b[0m\n",
      "\u001b[32m2024-08-13 12:46:00,140 - root - INFO - Getting all documents for domain: www.loopearplugs.com\u001b[0m\n",
      "\u001b[32m2024-08-13 12:46:00,140 - root - INFO - Getting all documents for domain: www.loopearplugs.com\u001b[0m\n",
      "\u001b[32m2024-08-13 12:46:00,140 - root - INFO - Getting all documents for domain: www.loopearplugs.com\u001b[0m\n",
      "\u001b[32m2024-08-13 12:46:00,140 - root - INFO - Getting all documents for domain: www.loopearplugs.com\u001b[0m\n",
      "\u001b[32m2024-08-13 12:46:00,140 - root - INFO - Getting all documents for domain: www.loopearplugs.com\u001b[0m\n",
      "\u001b[32m2024-08-13 12:46:00,140 - root - INFO - Getting all documents for domain: www.loopearplugs.com\u001b[0m\n"
     ]
    },
    {
     "data": {
      "text/plain": [
       "288"
      ]
     },
     "execution_count": 17,
     "metadata": {},
     "output_type": "execute_result"
    }
   ],
   "source": [
    "web_pages = scraper.get_all_pages(all_links)\n",
    "len(web_pages)  "
   ]
  },
  {
   "cell_type": "markdown",
   "metadata": {},
   "source": [
    "## Data Preprocessing and Chunking\n",
    "In this step we will split all the extracted web pages into logical chunks. \n",
    "\n",
    "➡️ We will use the [trafilatura](https://trafilatura.readthedocs.io/en/latest/) library to extract the main content of the web pages. It will return the main content of the page, the title, and the meta description.\n",
    "\n",
    "➡️ We will pipe this to another splitter to further cut the sections into smaller chunks if they are too large. For this we use Langchains \n",
    "\n",
    "➡️  Also we will attach an LLM to the chain to ignore chunks that are not relevant, for example: navigation bars, footers, etc.\n",
    "\n"
   ]
  },
  {
   "cell_type": "markdown",
   "metadata": {},
   "source": [
    "### Chunking and metadata extraction\n",
    "Using the functions below we extract the medata and devide the text into chunks. "
   ]
  },
  {
   "cell_type": "code",
   "execution_count": 18,
   "metadata": {},
   "outputs": [
    {
     "name": "stdout",
     "output_type": "stream",
     "text": [
      "Before chunking we had 288 and after chunking 559\n"
     ]
    }
   ],
   "source": [
    "from vectrix.importers import chunk_content\n",
    "chunked_webpages = chunk_content(web_pages)\n",
    "\n",
    "\n",
    "print(f\"Before chunking we had {len(web_pages)} and after chunking {len(chunked_webpages)}\")"
   ]
  },
  {
   "cell_type": "markdown",
   "metadata": {},
   "source": [
    "## Storing the result in a Weaviate (cluster)"
   ]
  },
  {
   "cell_type": "markdown",
   "metadata": {},
   "source": [
    "### Initialize the Vector store and check that all the required modules are installed\n",
    "\n",
    "Download the Docker compose file if needed\n",
    "```bash\n",
    "curl -o docker-compose.yml \"https://configuration.weaviate.io/v2/docker-compose/docker-compose.yml?cohere_key_approval=yes&generative_anyscale=false&generative_aws=false&generative_cohere=false&generative_mistral=false&generative_octoai=false&generative_ollama=false&generative_openai=false&generative_palm=false&media_type=text&modules=modules&ner_module=false&qna_module=false&ref2vec_centroid=false&reranker_cohere=true&reranker_cohere_key_approval=yes&reranker_transformers=false&runtime=docker-compose&spellcheck_module=true&spellcheck_module_model=pyspellchecker-en&sum_module=false&text_module=text2vec-cohere&weaviate_version=v1.25.4&weaviate_volume=named-volume\"\n",
    "```\n",
    "\n",
    "Make sure to set the persistent directory to the correct value:\n",
    "```bash\n",
    "    volumes:\n",
    "    - ~/weaviate_data:/var/lib/weaviate\n",
    "```\n",
    "\n",
    "Also configure the Cohere API key:\n",
    "```bash\n",
    "environment:\n",
    "      SPELLCHECK_INFERENCE_API: 'http://text-spellcheck:8080'\n",
    "      COHERE_APIKEY: ***\n",
    "```"
   ]
  },
  {
   "cell_type": "code",
   "execution_count": 7,
   "metadata": {},
   "outputs": [
    {
     "name": "stderr",
     "output_type": "stream",
     "text": [
      "\u001b[32m2024-08-13 12:25:47,053 - httpx - INFO - HTTP Request: GET http://localhost:8080/v1/.well-known/openid-configuration \"HTTP/1.1 404 Not Found\"\u001b[0m\n",
      "\u001b[32m2024-08-13 12:25:47,053 - httpx - INFO - HTTP Request: GET http://localhost:8080/v1/.well-known/openid-configuration \"HTTP/1.1 404 Not Found\"\u001b[0m\n",
      "\u001b[32m2024-08-13 12:25:47,077 - httpx - INFO - HTTP Request: GET http://localhost:8080/v1/meta \"HTTP/1.1 200 OK\"\u001b[0m\n",
      "\u001b[32m2024-08-13 12:25:47,077 - httpx - INFO - HTTP Request: GET http://localhost:8080/v1/meta \"HTTP/1.1 200 OK\"\u001b[0m\n",
      "\u001b[32m2024-08-13 12:25:47,270 - httpx - INFO - HTTP Request: GET https://pypi.org/pypi/weaviate-client/json \"HTTP/1.1 200 OK\"\u001b[0m\n",
      "\u001b[32m2024-08-13 12:25:47,270 - httpx - INFO - HTTP Request: GET https://pypi.org/pypi/weaviate-client/json \"HTTP/1.1 200 OK\"\u001b[0m\n",
      "WARNING: All log messages before absl::InitializeLog() is called are written to STDERR\n",
      "I0000 00:00:1723544747.288321  463317 config.cc:230] gRPC experiments enabled: call_status_override_on_cancellation, event_engine_dns, event_engine_listener, http2_stats_fix, monitoring_experiment, pick_first_new, trace_record_callops, work_serializer_clears_time_cache\n"
     ]
    }
   ],
   "source": [
    "from vectrix.db import Weaviate\n",
    "\n",
    "weaviate = Weaviate()"
   ]
  },
  {
   "cell_type": "code",
   "execution_count": 25,
   "metadata": {},
   "outputs": [
    {
     "name": "stderr",
     "output_type": "stream",
     "text": [
      "\u001b[32m2024-08-13 12:47:30,912 - httpx - INFO - HTTP Request: POST http://localhost:8080/v1/schema \"HTTP/1.1 200 OK\"\u001b[0m\n",
      "\u001b[32m2024-08-13 12:47:30,912 - httpx - INFO - HTTP Request: POST http://localhost:8080/v1/schema \"HTTP/1.1 200 OK\"\u001b[0m\n",
      "\u001b[32m2024-08-13 12:47:30,912 - httpx - INFO - HTTP Request: POST http://localhost:8080/v1/schema \"HTTP/1.1 200 OK\"\u001b[0m\n",
      "\u001b[32m2024-08-13 12:47:30,912 - httpx - INFO - HTTP Request: POST http://localhost:8080/v1/schema \"HTTP/1.1 200 OK\"\u001b[0m\n",
      "\u001b[32m2024-08-13 12:47:30,912 - httpx - INFO - HTTP Request: POST http://localhost:8080/v1/schema \"HTTP/1.1 200 OK\"\u001b[0m\n",
      "\u001b[32m2024-08-13 12:47:30,912 - httpx - INFO - HTTP Request: POST http://localhost:8080/v1/schema \"HTTP/1.1 200 OK\"\u001b[0m\n"
     ]
    }
   ],
   "source": [
    "weaviate.create_collection(name='Loop', \n",
    "                           embedding_model='Ollama', \n",
    "                           model_name=\"mxbai-embed-large:335m\",\n",
    "                           model_url=\"http://host.docker.internal:11434\")"
   ]
  },
  {
   "cell_type": "code",
   "execution_count": 26,
   "metadata": {},
   "outputs": [
    {
     "name": "stderr",
     "output_type": "stream",
     "text": [
      "\u001b[32m2024-08-13 12:47:33,818 - httpx - INFO - HTTP Request: GET http://localhost:8080/v1/schema \"HTTP/1.1 200 OK\"\u001b[0m\n",
      "\u001b[32m2024-08-13 12:47:33,818 - httpx - INFO - HTTP Request: GET http://localhost:8080/v1/schema \"HTTP/1.1 200 OK\"\u001b[0m\n",
      "\u001b[32m2024-08-13 12:47:33,818 - httpx - INFO - HTTP Request: GET http://localhost:8080/v1/schema \"HTTP/1.1 200 OK\"\u001b[0m\n",
      "\u001b[32m2024-08-13 12:47:33,818 - httpx - INFO - HTTP Request: GET http://localhost:8080/v1/schema \"HTTP/1.1 200 OK\"\u001b[0m\n",
      "\u001b[32m2024-08-13 12:47:33,818 - httpx - INFO - HTTP Request: GET http://localhost:8080/v1/schema \"HTTP/1.1 200 OK\"\u001b[0m\n",
      "\u001b[32m2024-08-13 12:47:33,818 - httpx - INFO - HTTP Request: GET http://localhost:8080/v1/schema \"HTTP/1.1 200 OK\"\u001b[0m\n"
     ]
    },
    {
     "name": "stdout",
     "output_type": "stream",
     "text": [
      "['Vectrix', 'Elmos', 'Loop']\n"
     ]
    }
   ],
   "source": [
    "print(weaviate.list_collections())"
   ]
  },
  {
   "cell_type": "code",
   "execution_count": null,
   "metadata": {},
   "outputs": [],
   "source": [
    "weaviate.set_colleciton(name='Vectrix')"
   ]
  },
  {
   "cell_type": "code",
   "execution_count": 27,
   "metadata": {},
   "outputs": [
    {
     "name": "stderr",
     "output_type": "stream",
     "text": [
      "\u001b[32m2024-08-13 12:47:37,461 - httpx - INFO - HTTP Request: GET http://localhost:8080/v1/schema/Loop \"HTTP/1.1 200 OK\"\u001b[0m\n",
      "\u001b[32m2024-08-13 12:47:37,461 - httpx - INFO - HTTP Request: GET http://localhost:8080/v1/schema/Loop \"HTTP/1.1 200 OK\"\u001b[0m\n",
      "\u001b[32m2024-08-13 12:47:37,461 - httpx - INFO - HTTP Request: GET http://localhost:8080/v1/schema/Loop \"HTTP/1.1 200 OK\"\u001b[0m\n",
      "\u001b[32m2024-08-13 12:47:37,461 - httpx - INFO - HTTP Request: GET http://localhost:8080/v1/schema/Loop \"HTTP/1.1 200 OK\"\u001b[0m\n",
      "\u001b[32m2024-08-13 12:47:37,461 - httpx - INFO - HTTP Request: GET http://localhost:8080/v1/schema/Loop \"HTTP/1.1 200 OK\"\u001b[0m\n",
      "\u001b[32m2024-08-13 12:47:37,461 - httpx - INFO - HTTP Request: GET http://localhost:8080/v1/schema/Loop \"HTTP/1.1 200 OK\"\u001b[0m\n",
      "\u001b[32m2024-08-13 12:47:37,467 - httpx - INFO - HTTP Request: GET http://localhost:8080/v1/nodes \"HTTP/1.1 200 OK\"\u001b[0m\n",
      "\u001b[32m2024-08-13 12:47:37,467 - httpx - INFO - HTTP Request: GET http://localhost:8080/v1/nodes \"HTTP/1.1 200 OK\"\u001b[0m\n",
      "\u001b[32m2024-08-13 12:47:37,467 - httpx - INFO - HTTP Request: GET http://localhost:8080/v1/nodes \"HTTP/1.1 200 OK\"\u001b[0m\n",
      "\u001b[32m2024-08-13 12:47:37,467 - httpx - INFO - HTTP Request: GET http://localhost:8080/v1/nodes \"HTTP/1.1 200 OK\"\u001b[0m\n",
      "\u001b[32m2024-08-13 12:47:37,467 - httpx - INFO - HTTP Request: GET http://localhost:8080/v1/nodes \"HTTP/1.1 200 OK\"\u001b[0m\n",
      "\u001b[32m2024-08-13 12:47:37,467 - httpx - INFO - HTTP Request: GET http://localhost:8080/v1/nodes \"HTTP/1.1 200 OK\"\u001b[0m\n",
      "\u001b[32m2024-08-13 12:47:38,478 - httpx - INFO - HTTP Request: GET http://localhost:8080/v1/nodes \"HTTP/1.1 200 OK\"\u001b[0m\n",
      "\u001b[32m2024-08-13 12:47:38,478 - httpx - INFO - HTTP Request: GET http://localhost:8080/v1/nodes \"HTTP/1.1 200 OK\"\u001b[0m\n",
      "\u001b[32m2024-08-13 12:47:38,478 - httpx - INFO - HTTP Request: GET http://localhost:8080/v1/nodes \"HTTP/1.1 200 OK\"\u001b[0m\n",
      "\u001b[32m2024-08-13 12:47:38,478 - httpx - INFO - HTTP Request: GET http://localhost:8080/v1/nodes \"HTTP/1.1 200 OK\"\u001b[0m\n",
      "\u001b[32m2024-08-13 12:47:38,478 - httpx - INFO - HTTP Request: GET http://localhost:8080/v1/nodes \"HTTP/1.1 200 OK\"\u001b[0m\n",
      "\u001b[32m2024-08-13 12:47:38,478 - httpx - INFO - HTTP Request: GET http://localhost:8080/v1/nodes \"HTTP/1.1 200 OK\"\u001b[0m\n",
      "\u001b[32m2024-08-13 12:47:39,487 - httpx - INFO - HTTP Request: GET http://localhost:8080/v1/nodes \"HTTP/1.1 200 OK\"\u001b[0m\n",
      "\u001b[32m2024-08-13 12:47:39,487 - httpx - INFO - HTTP Request: GET http://localhost:8080/v1/nodes \"HTTP/1.1 200 OK\"\u001b[0m\n",
      "\u001b[32m2024-08-13 12:47:39,487 - httpx - INFO - HTTP Request: GET http://localhost:8080/v1/nodes \"HTTP/1.1 200 OK\"\u001b[0m\n",
      "\u001b[32m2024-08-13 12:47:39,487 - httpx - INFO - HTTP Request: GET http://localhost:8080/v1/nodes \"HTTP/1.1 200 OK\"\u001b[0m\n",
      "\u001b[32m2024-08-13 12:47:39,487 - httpx - INFO - HTTP Request: GET http://localhost:8080/v1/nodes \"HTTP/1.1 200 OK\"\u001b[0m\n",
      "\u001b[32m2024-08-13 12:47:39,487 - httpx - INFO - HTTP Request: GET http://localhost:8080/v1/nodes \"HTTP/1.1 200 OK\"\u001b[0m\n",
      "\u001b[32m2024-08-13 12:47:40,497 - httpx - INFO - HTTP Request: GET http://localhost:8080/v1/nodes \"HTTP/1.1 200 OK\"\u001b[0m\n",
      "\u001b[32m2024-08-13 12:47:40,497 - httpx - INFO - HTTP Request: GET http://localhost:8080/v1/nodes \"HTTP/1.1 200 OK\"\u001b[0m\n",
      "\u001b[32m2024-08-13 12:47:40,497 - httpx - INFO - HTTP Request: GET http://localhost:8080/v1/nodes \"HTTP/1.1 200 OK\"\u001b[0m\n",
      "\u001b[32m2024-08-13 12:47:40,497 - httpx - INFO - HTTP Request: GET http://localhost:8080/v1/nodes \"HTTP/1.1 200 OK\"\u001b[0m\n",
      "\u001b[32m2024-08-13 12:47:40,497 - httpx - INFO - HTTP Request: GET http://localhost:8080/v1/nodes \"HTTP/1.1 200 OK\"\u001b[0m\n",
      "\u001b[32m2024-08-13 12:47:40,497 - httpx - INFO - HTTP Request: GET http://localhost:8080/v1/nodes \"HTTP/1.1 200 OK\"\u001b[0m\n",
      "\u001b[32m2024-08-13 12:47:41,510 - httpx - INFO - HTTP Request: GET http://localhost:8080/v1/nodes \"HTTP/1.1 200 OK\"\u001b[0m\n",
      "\u001b[32m2024-08-13 12:47:41,510 - httpx - INFO - HTTP Request: GET http://localhost:8080/v1/nodes \"HTTP/1.1 200 OK\"\u001b[0m\n",
      "\u001b[32m2024-08-13 12:47:41,510 - httpx - INFO - HTTP Request: GET http://localhost:8080/v1/nodes \"HTTP/1.1 200 OK\"\u001b[0m\n",
      "\u001b[32m2024-08-13 12:47:41,510 - httpx - INFO - HTTP Request: GET http://localhost:8080/v1/nodes \"HTTP/1.1 200 OK\"\u001b[0m\n",
      "\u001b[32m2024-08-13 12:47:41,510 - httpx - INFO - HTTP Request: GET http://localhost:8080/v1/nodes \"HTTP/1.1 200 OK\"\u001b[0m\n",
      "\u001b[32m2024-08-13 12:47:41,510 - httpx - INFO - HTTP Request: GET http://localhost:8080/v1/nodes \"HTTP/1.1 200 OK\"\u001b[0m\n",
      "\u001b[32m2024-08-13 12:47:42,518 - httpx - INFO - HTTP Request: GET http://localhost:8080/v1/nodes \"HTTP/1.1 200 OK\"\u001b[0m\n",
      "\u001b[32m2024-08-13 12:47:42,518 - httpx - INFO - HTTP Request: GET http://localhost:8080/v1/nodes \"HTTP/1.1 200 OK\"\u001b[0m\n",
      "\u001b[32m2024-08-13 12:47:42,518 - httpx - INFO - HTTP Request: GET http://localhost:8080/v1/nodes \"HTTP/1.1 200 OK\"\u001b[0m\n",
      "\u001b[32m2024-08-13 12:47:42,518 - httpx - INFO - HTTP Request: GET http://localhost:8080/v1/nodes \"HTTP/1.1 200 OK\"\u001b[0m\n",
      "\u001b[32m2024-08-13 12:47:42,518 - httpx - INFO - HTTP Request: GET http://localhost:8080/v1/nodes \"HTTP/1.1 200 OK\"\u001b[0m\n",
      "\u001b[32m2024-08-13 12:47:42,518 - httpx - INFO - HTTP Request: GET http://localhost:8080/v1/nodes \"HTTP/1.1 200 OK\"\u001b[0m\n",
      "\u001b[32m2024-08-13 12:47:43,529 - httpx - INFO - HTTP Request: GET http://localhost:8080/v1/nodes \"HTTP/1.1 200 OK\"\u001b[0m\n",
      "\u001b[32m2024-08-13 12:47:43,529 - httpx - INFO - HTTP Request: GET http://localhost:8080/v1/nodes \"HTTP/1.1 200 OK\"\u001b[0m\n",
      "\u001b[32m2024-08-13 12:47:43,529 - httpx - INFO - HTTP Request: GET http://localhost:8080/v1/nodes \"HTTP/1.1 200 OK\"\u001b[0m\n",
      "\u001b[32m2024-08-13 12:47:43,529 - httpx - INFO - HTTP Request: GET http://localhost:8080/v1/nodes \"HTTP/1.1 200 OK\"\u001b[0m\n",
      "\u001b[32m2024-08-13 12:47:43,529 - httpx - INFO - HTTP Request: GET http://localhost:8080/v1/nodes \"HTTP/1.1 200 OK\"\u001b[0m\n",
      "\u001b[32m2024-08-13 12:47:43,529 - httpx - INFO - HTTP Request: GET http://localhost:8080/v1/nodes \"HTTP/1.1 200 OK\"\u001b[0m\n",
      "\u001b[32m2024-08-13 12:47:44,538 - httpx - INFO - HTTP Request: GET http://localhost:8080/v1/nodes \"HTTP/1.1 200 OK\"\u001b[0m\n",
      "\u001b[32m2024-08-13 12:47:44,538 - httpx - INFO - HTTP Request: GET http://localhost:8080/v1/nodes \"HTTP/1.1 200 OK\"\u001b[0m\n",
      "\u001b[32m2024-08-13 12:47:44,538 - httpx - INFO - HTTP Request: GET http://localhost:8080/v1/nodes \"HTTP/1.1 200 OK\"\u001b[0m\n",
      "\u001b[32m2024-08-13 12:47:44,538 - httpx - INFO - HTTP Request: GET http://localhost:8080/v1/nodes \"HTTP/1.1 200 OK\"\u001b[0m\n",
      "\u001b[32m2024-08-13 12:47:44,538 - httpx - INFO - HTTP Request: GET http://localhost:8080/v1/nodes \"HTTP/1.1 200 OK\"\u001b[0m\n",
      "\u001b[32m2024-08-13 12:47:44,538 - httpx - INFO - HTTP Request: GET http://localhost:8080/v1/nodes \"HTTP/1.1 200 OK\"\u001b[0m\n",
      "\u001b[32m2024-08-13 12:47:45,553 - httpx - INFO - HTTP Request: GET http://localhost:8080/v1/nodes \"HTTP/1.1 200 OK\"\u001b[0m\n",
      "\u001b[32m2024-08-13 12:47:45,553 - httpx - INFO - HTTP Request: GET http://localhost:8080/v1/nodes \"HTTP/1.1 200 OK\"\u001b[0m\n",
      "\u001b[32m2024-08-13 12:47:45,553 - httpx - INFO - HTTP Request: GET http://localhost:8080/v1/nodes \"HTTP/1.1 200 OK\"\u001b[0m\n",
      "\u001b[32m2024-08-13 12:47:45,553 - httpx - INFO - HTTP Request: GET http://localhost:8080/v1/nodes \"HTTP/1.1 200 OK\"\u001b[0m\n",
      "\u001b[32m2024-08-13 12:47:45,553 - httpx - INFO - HTTP Request: GET http://localhost:8080/v1/nodes \"HTTP/1.1 200 OK\"\u001b[0m\n",
      "\u001b[32m2024-08-13 12:47:45,553 - httpx - INFO - HTTP Request: GET http://localhost:8080/v1/nodes \"HTTP/1.1 200 OK\"\u001b[0m\n",
      "\u001b[32m2024-08-13 12:47:46,564 - httpx - INFO - HTTP Request: GET http://localhost:8080/v1/nodes \"HTTP/1.1 200 OK\"\u001b[0m\n",
      "\u001b[32m2024-08-13 12:47:46,564 - httpx - INFO - HTTP Request: GET http://localhost:8080/v1/nodes \"HTTP/1.1 200 OK\"\u001b[0m\n",
      "\u001b[32m2024-08-13 12:47:46,564 - httpx - INFO - HTTP Request: GET http://localhost:8080/v1/nodes \"HTTP/1.1 200 OK\"\u001b[0m\n",
      "\u001b[32m2024-08-13 12:47:46,564 - httpx - INFO - HTTP Request: GET http://localhost:8080/v1/nodes \"HTTP/1.1 200 OK\"\u001b[0m\n",
      "\u001b[32m2024-08-13 12:47:46,564 - httpx - INFO - HTTP Request: GET http://localhost:8080/v1/nodes \"HTTP/1.1 200 OK\"\u001b[0m\n",
      "\u001b[32m2024-08-13 12:47:46,564 - httpx - INFO - HTTP Request: GET http://localhost:8080/v1/nodes \"HTTP/1.1 200 OK\"\u001b[0m\n",
      "\u001b[32m2024-08-13 12:47:47,573 - httpx - INFO - HTTP Request: GET http://localhost:8080/v1/nodes \"HTTP/1.1 200 OK\"\u001b[0m\n",
      "\u001b[32m2024-08-13 12:47:47,573 - httpx - INFO - HTTP Request: GET http://localhost:8080/v1/nodes \"HTTP/1.1 200 OK\"\u001b[0m\n",
      "\u001b[32m2024-08-13 12:47:47,573 - httpx - INFO - HTTP Request: GET http://localhost:8080/v1/nodes \"HTTP/1.1 200 OK\"\u001b[0m\n",
      "\u001b[32m2024-08-13 12:47:47,573 - httpx - INFO - HTTP Request: GET http://localhost:8080/v1/nodes \"HTTP/1.1 200 OK\"\u001b[0m\n",
      "\u001b[32m2024-08-13 12:47:47,573 - httpx - INFO - HTTP Request: GET http://localhost:8080/v1/nodes \"HTTP/1.1 200 OK\"\u001b[0m\n",
      "\u001b[32m2024-08-13 12:47:47,573 - httpx - INFO - HTTP Request: GET http://localhost:8080/v1/nodes \"HTTP/1.1 200 OK\"\u001b[0m\n",
      "\u001b[32m2024-08-13 12:47:48,584 - httpx - INFO - HTTP Request: GET http://localhost:8080/v1/nodes \"HTTP/1.1 200 OK\"\u001b[0m\n",
      "\u001b[32m2024-08-13 12:47:48,584 - httpx - INFO - HTTP Request: GET http://localhost:8080/v1/nodes \"HTTP/1.1 200 OK\"\u001b[0m\n",
      "\u001b[32m2024-08-13 12:47:48,584 - httpx - INFO - HTTP Request: GET http://localhost:8080/v1/nodes \"HTTP/1.1 200 OK\"\u001b[0m\n",
      "\u001b[32m2024-08-13 12:47:48,584 - httpx - INFO - HTTP Request: GET http://localhost:8080/v1/nodes \"HTTP/1.1 200 OK\"\u001b[0m\n",
      "\u001b[32m2024-08-13 12:47:48,584 - httpx - INFO - HTTP Request: GET http://localhost:8080/v1/nodes \"HTTP/1.1 200 OK\"\u001b[0m\n",
      "\u001b[32m2024-08-13 12:47:48,584 - httpx - INFO - HTTP Request: GET http://localhost:8080/v1/nodes \"HTTP/1.1 200 OK\"\u001b[0m\n",
      "\u001b[32m2024-08-13 12:47:49,594 - httpx - INFO - HTTP Request: GET http://localhost:8080/v1/nodes \"HTTP/1.1 200 OK\"\u001b[0m\n",
      "\u001b[32m2024-08-13 12:47:49,594 - httpx - INFO - HTTP Request: GET http://localhost:8080/v1/nodes \"HTTP/1.1 200 OK\"\u001b[0m\n",
      "\u001b[32m2024-08-13 12:47:49,594 - httpx - INFO - HTTP Request: GET http://localhost:8080/v1/nodes \"HTTP/1.1 200 OK\"\u001b[0m\n",
      "\u001b[32m2024-08-13 12:47:49,594 - httpx - INFO - HTTP Request: GET http://localhost:8080/v1/nodes \"HTTP/1.1 200 OK\"\u001b[0m\n",
      "\u001b[32m2024-08-13 12:47:49,594 - httpx - INFO - HTTP Request: GET http://localhost:8080/v1/nodes \"HTTP/1.1 200 OK\"\u001b[0m\n",
      "\u001b[32m2024-08-13 12:47:49,594 - httpx - INFO - HTTP Request: GET http://localhost:8080/v1/nodes \"HTTP/1.1 200 OK\"\u001b[0m\n",
      "\u001b[32m2024-08-13 12:47:50,607 - httpx - INFO - HTTP Request: GET http://localhost:8080/v1/nodes \"HTTP/1.1 200 OK\"\u001b[0m\n",
      "\u001b[32m2024-08-13 12:47:50,607 - httpx - INFO - HTTP Request: GET http://localhost:8080/v1/nodes \"HTTP/1.1 200 OK\"\u001b[0m\n",
      "\u001b[32m2024-08-13 12:47:50,607 - httpx - INFO - HTTP Request: GET http://localhost:8080/v1/nodes \"HTTP/1.1 200 OK\"\u001b[0m\n",
      "\u001b[32m2024-08-13 12:47:50,607 - httpx - INFO - HTTP Request: GET http://localhost:8080/v1/nodes \"HTTP/1.1 200 OK\"\u001b[0m\n",
      "\u001b[32m2024-08-13 12:47:50,607 - httpx - INFO - HTTP Request: GET http://localhost:8080/v1/nodes \"HTTP/1.1 200 OK\"\u001b[0m\n",
      "\u001b[32m2024-08-13 12:47:50,607 - httpx - INFO - HTTP Request: GET http://localhost:8080/v1/nodes \"HTTP/1.1 200 OK\"\u001b[0m\n",
      "\u001b[32m2024-08-13 12:47:51,619 - httpx - INFO - HTTP Request: GET http://localhost:8080/v1/nodes \"HTTP/1.1 200 OK\"\u001b[0m\n",
      "\u001b[32m2024-08-13 12:47:51,619 - httpx - INFO - HTTP Request: GET http://localhost:8080/v1/nodes \"HTTP/1.1 200 OK\"\u001b[0m\n",
      "\u001b[32m2024-08-13 12:47:51,619 - httpx - INFO - HTTP Request: GET http://localhost:8080/v1/nodes \"HTTP/1.1 200 OK\"\u001b[0m\n",
      "\u001b[32m2024-08-13 12:47:51,619 - httpx - INFO - HTTP Request: GET http://localhost:8080/v1/nodes \"HTTP/1.1 200 OK\"\u001b[0m\n",
      "\u001b[32m2024-08-13 12:47:51,619 - httpx - INFO - HTTP Request: GET http://localhost:8080/v1/nodes \"HTTP/1.1 200 OK\"\u001b[0m\n",
      "\u001b[32m2024-08-13 12:47:51,619 - httpx - INFO - HTTP Request: GET http://localhost:8080/v1/nodes \"HTTP/1.1 200 OK\"\u001b[0m\n",
      "\u001b[32m2024-08-13 12:47:52,627 - httpx - INFO - HTTP Request: GET http://localhost:8080/v1/nodes \"HTTP/1.1 200 OK\"\u001b[0m\n",
      "\u001b[32m2024-08-13 12:47:52,627 - httpx - INFO - HTTP Request: GET http://localhost:8080/v1/nodes \"HTTP/1.1 200 OK\"\u001b[0m\n",
      "\u001b[32m2024-08-13 12:47:52,627 - httpx - INFO - HTTP Request: GET http://localhost:8080/v1/nodes \"HTTP/1.1 200 OK\"\u001b[0m\n",
      "\u001b[32m2024-08-13 12:47:52,627 - httpx - INFO - HTTP Request: GET http://localhost:8080/v1/nodes \"HTTP/1.1 200 OK\"\u001b[0m\n",
      "\u001b[32m2024-08-13 12:47:52,627 - httpx - INFO - HTTP Request: GET http://localhost:8080/v1/nodes \"HTTP/1.1 200 OK\"\u001b[0m\n",
      "\u001b[32m2024-08-13 12:47:52,627 - httpx - INFO - HTTP Request: GET http://localhost:8080/v1/nodes \"HTTP/1.1 200 OK\"\u001b[0m\n",
      "\u001b[32m2024-08-13 12:47:53,637 - httpx - INFO - HTTP Request: GET http://localhost:8080/v1/nodes \"HTTP/1.1 200 OK\"\u001b[0m\n",
      "\u001b[32m2024-08-13 12:47:53,637 - httpx - INFO - HTTP Request: GET http://localhost:8080/v1/nodes \"HTTP/1.1 200 OK\"\u001b[0m\n",
      "\u001b[32m2024-08-13 12:47:53,637 - httpx - INFO - HTTP Request: GET http://localhost:8080/v1/nodes \"HTTP/1.1 200 OK\"\u001b[0m\n",
      "\u001b[32m2024-08-13 12:47:53,637 - httpx - INFO - HTTP Request: GET http://localhost:8080/v1/nodes \"HTTP/1.1 200 OK\"\u001b[0m\n",
      "\u001b[32m2024-08-13 12:47:53,637 - httpx - INFO - HTTP Request: GET http://localhost:8080/v1/nodes \"HTTP/1.1 200 OK\"\u001b[0m\n",
      "\u001b[32m2024-08-13 12:47:53,637 - httpx - INFO - HTTP Request: GET http://localhost:8080/v1/nodes \"HTTP/1.1 200 OK\"\u001b[0m\n",
      "\u001b[32m2024-08-13 12:47:54,647 - httpx - INFO - HTTP Request: GET http://localhost:8080/v1/nodes \"HTTP/1.1 200 OK\"\u001b[0m\n",
      "\u001b[32m2024-08-13 12:47:54,647 - httpx - INFO - HTTP Request: GET http://localhost:8080/v1/nodes \"HTTP/1.1 200 OK\"\u001b[0m\n",
      "\u001b[32m2024-08-13 12:47:54,647 - httpx - INFO - HTTP Request: GET http://localhost:8080/v1/nodes \"HTTP/1.1 200 OK\"\u001b[0m\n",
      "\u001b[32m2024-08-13 12:47:54,647 - httpx - INFO - HTTP Request: GET http://localhost:8080/v1/nodes \"HTTP/1.1 200 OK\"\u001b[0m\n",
      "\u001b[32m2024-08-13 12:47:54,647 - httpx - INFO - HTTP Request: GET http://localhost:8080/v1/nodes \"HTTP/1.1 200 OK\"\u001b[0m\n",
      "\u001b[32m2024-08-13 12:47:54,647 - httpx - INFO - HTTP Request: GET http://localhost:8080/v1/nodes \"HTTP/1.1 200 OK\"\u001b[0m\n",
      "\u001b[32m2024-08-13 12:47:55,658 - httpx - INFO - HTTP Request: GET http://localhost:8080/v1/nodes \"HTTP/1.1 200 OK\"\u001b[0m\n",
      "\u001b[32m2024-08-13 12:47:55,658 - httpx - INFO - HTTP Request: GET http://localhost:8080/v1/nodes \"HTTP/1.1 200 OK\"\u001b[0m\n",
      "\u001b[32m2024-08-13 12:47:55,658 - httpx - INFO - HTTP Request: GET http://localhost:8080/v1/nodes \"HTTP/1.1 200 OK\"\u001b[0m\n",
      "\u001b[32m2024-08-13 12:47:55,658 - httpx - INFO - HTTP Request: GET http://localhost:8080/v1/nodes \"HTTP/1.1 200 OK\"\u001b[0m\n",
      "\u001b[32m2024-08-13 12:47:55,658 - httpx - INFO - HTTP Request: GET http://localhost:8080/v1/nodes \"HTTP/1.1 200 OK\"\u001b[0m\n",
      "\u001b[32m2024-08-13 12:47:55,658 - httpx - INFO - HTTP Request: GET http://localhost:8080/v1/nodes \"HTTP/1.1 200 OK\"\u001b[0m\n",
      "\u001b[32m2024-08-13 12:47:56,667 - httpx - INFO - HTTP Request: GET http://localhost:8080/v1/nodes \"HTTP/1.1 200 OK\"\u001b[0m\n",
      "\u001b[32m2024-08-13 12:47:56,667 - httpx - INFO - HTTP Request: GET http://localhost:8080/v1/nodes \"HTTP/1.1 200 OK\"\u001b[0m\n",
      "\u001b[32m2024-08-13 12:47:56,667 - httpx - INFO - HTTP Request: GET http://localhost:8080/v1/nodes \"HTTP/1.1 200 OK\"\u001b[0m\n",
      "\u001b[32m2024-08-13 12:47:56,667 - httpx - INFO - HTTP Request: GET http://localhost:8080/v1/nodes \"HTTP/1.1 200 OK\"\u001b[0m\n",
      "\u001b[32m2024-08-13 12:47:56,667 - httpx - INFO - HTTP Request: GET http://localhost:8080/v1/nodes \"HTTP/1.1 200 OK\"\u001b[0m\n",
      "\u001b[32m2024-08-13 12:47:56,667 - httpx - INFO - HTTP Request: GET http://localhost:8080/v1/nodes \"HTTP/1.1 200 OK\"\u001b[0m\n",
      "\u001b[32m2024-08-13 12:47:57,676 - httpx - INFO - HTTP Request: GET http://localhost:8080/v1/nodes \"HTTP/1.1 200 OK\"\u001b[0m\n",
      "\u001b[32m2024-08-13 12:47:57,676 - httpx - INFO - HTTP Request: GET http://localhost:8080/v1/nodes \"HTTP/1.1 200 OK\"\u001b[0m\n",
      "\u001b[32m2024-08-13 12:47:57,676 - httpx - INFO - HTTP Request: GET http://localhost:8080/v1/nodes \"HTTP/1.1 200 OK\"\u001b[0m\n",
      "\u001b[32m2024-08-13 12:47:57,676 - httpx - INFO - HTTP Request: GET http://localhost:8080/v1/nodes \"HTTP/1.1 200 OK\"\u001b[0m\n",
      "\u001b[32m2024-08-13 12:47:57,676 - httpx - INFO - HTTP Request: GET http://localhost:8080/v1/nodes \"HTTP/1.1 200 OK\"\u001b[0m\n",
      "\u001b[32m2024-08-13 12:47:57,676 - httpx - INFO - HTTP Request: GET http://localhost:8080/v1/nodes \"HTTP/1.1 200 OK\"\u001b[0m\n",
      "\u001b[32m2024-08-13 12:47:58,684 - httpx - INFO - HTTP Request: GET http://localhost:8080/v1/nodes \"HTTP/1.1 200 OK\"\u001b[0m\n",
      "\u001b[32m2024-08-13 12:47:58,684 - httpx - INFO - HTTP Request: GET http://localhost:8080/v1/nodes \"HTTP/1.1 200 OK\"\u001b[0m\n",
      "\u001b[32m2024-08-13 12:47:58,684 - httpx - INFO - HTTP Request: GET http://localhost:8080/v1/nodes \"HTTP/1.1 200 OK\"\u001b[0m\n",
      "\u001b[32m2024-08-13 12:47:58,684 - httpx - INFO - HTTP Request: GET http://localhost:8080/v1/nodes \"HTTP/1.1 200 OK\"\u001b[0m\n",
      "\u001b[32m2024-08-13 12:47:58,684 - httpx - INFO - HTTP Request: GET http://localhost:8080/v1/nodes \"HTTP/1.1 200 OK\"\u001b[0m\n",
      "\u001b[32m2024-08-13 12:47:58,684 - httpx - INFO - HTTP Request: GET http://localhost:8080/v1/nodes \"HTTP/1.1 200 OK\"\u001b[0m\n",
      "\u001b[32m2024-08-13 12:47:59,694 - httpx - INFO - HTTP Request: GET http://localhost:8080/v1/nodes \"HTTP/1.1 200 OK\"\u001b[0m\n",
      "\u001b[32m2024-08-13 12:47:59,694 - httpx - INFO - HTTP Request: GET http://localhost:8080/v1/nodes \"HTTP/1.1 200 OK\"\u001b[0m\n",
      "\u001b[32m2024-08-13 12:47:59,694 - httpx - INFO - HTTP Request: GET http://localhost:8080/v1/nodes \"HTTP/1.1 200 OK\"\u001b[0m\n",
      "\u001b[32m2024-08-13 12:47:59,694 - httpx - INFO - HTTP Request: GET http://localhost:8080/v1/nodes \"HTTP/1.1 200 OK\"\u001b[0m\n",
      "\u001b[32m2024-08-13 12:47:59,694 - httpx - INFO - HTTP Request: GET http://localhost:8080/v1/nodes \"HTTP/1.1 200 OK\"\u001b[0m\n",
      "\u001b[32m2024-08-13 12:47:59,694 - httpx - INFO - HTTP Request: GET http://localhost:8080/v1/nodes \"HTTP/1.1 200 OK\"\u001b[0m\n",
      "\u001b[32m2024-08-13 12:48:00,705 - httpx - INFO - HTTP Request: GET http://localhost:8080/v1/nodes \"HTTP/1.1 200 OK\"\u001b[0m\n",
      "\u001b[32m2024-08-13 12:48:00,705 - httpx - INFO - HTTP Request: GET http://localhost:8080/v1/nodes \"HTTP/1.1 200 OK\"\u001b[0m\n",
      "\u001b[32m2024-08-13 12:48:00,705 - httpx - INFO - HTTP Request: GET http://localhost:8080/v1/nodes \"HTTP/1.1 200 OK\"\u001b[0m\n",
      "\u001b[32m2024-08-13 12:48:00,705 - httpx - INFO - HTTP Request: GET http://localhost:8080/v1/nodes \"HTTP/1.1 200 OK\"\u001b[0m\n",
      "\u001b[32m2024-08-13 12:48:00,705 - httpx - INFO - HTTP Request: GET http://localhost:8080/v1/nodes \"HTTP/1.1 200 OK\"\u001b[0m\n",
      "\u001b[32m2024-08-13 12:48:00,705 - httpx - INFO - HTTP Request: GET http://localhost:8080/v1/nodes \"HTTP/1.1 200 OK\"\u001b[0m\n",
      "\u001b[32m2024-08-13 12:48:01,717 - httpx - INFO - HTTP Request: GET http://localhost:8080/v1/nodes \"HTTP/1.1 200 OK\"\u001b[0m\n",
      "\u001b[32m2024-08-13 12:48:01,717 - httpx - INFO - HTTP Request: GET http://localhost:8080/v1/nodes \"HTTP/1.1 200 OK\"\u001b[0m\n",
      "\u001b[32m2024-08-13 12:48:01,717 - httpx - INFO - HTTP Request: GET http://localhost:8080/v1/nodes \"HTTP/1.1 200 OK\"\u001b[0m\n",
      "\u001b[32m2024-08-13 12:48:01,717 - httpx - INFO - HTTP Request: GET http://localhost:8080/v1/nodes \"HTTP/1.1 200 OK\"\u001b[0m\n",
      "\u001b[32m2024-08-13 12:48:01,717 - httpx - INFO - HTTP Request: GET http://localhost:8080/v1/nodes \"HTTP/1.1 200 OK\"\u001b[0m\n",
      "\u001b[32m2024-08-13 12:48:01,717 - httpx - INFO - HTTP Request: GET http://localhost:8080/v1/nodes \"HTTP/1.1 200 OK\"\u001b[0m\n",
      "\u001b[32m2024-08-13 12:48:02,729 - httpx - INFO - HTTP Request: GET http://localhost:8080/v1/nodes \"HTTP/1.1 200 OK\"\u001b[0m\n",
      "\u001b[32m2024-08-13 12:48:02,729 - httpx - INFO - HTTP Request: GET http://localhost:8080/v1/nodes \"HTTP/1.1 200 OK\"\u001b[0m\n",
      "\u001b[32m2024-08-13 12:48:02,729 - httpx - INFO - HTTP Request: GET http://localhost:8080/v1/nodes \"HTTP/1.1 200 OK\"\u001b[0m\n",
      "\u001b[32m2024-08-13 12:48:02,729 - httpx - INFO - HTTP Request: GET http://localhost:8080/v1/nodes \"HTTP/1.1 200 OK\"\u001b[0m\n",
      "\u001b[32m2024-08-13 12:48:02,729 - httpx - INFO - HTTP Request: GET http://localhost:8080/v1/nodes \"HTTP/1.1 200 OK\"\u001b[0m\n",
      "\u001b[32m2024-08-13 12:48:02,729 - httpx - INFO - HTTP Request: GET http://localhost:8080/v1/nodes \"HTTP/1.1 200 OK\"\u001b[0m\n",
      "\u001b[32m2024-08-13 12:48:03,737 - httpx - INFO - HTTP Request: GET http://localhost:8080/v1/nodes \"HTTP/1.1 200 OK\"\u001b[0m\n",
      "\u001b[32m2024-08-13 12:48:03,737 - httpx - INFO - HTTP Request: GET http://localhost:8080/v1/nodes \"HTTP/1.1 200 OK\"\u001b[0m\n",
      "\u001b[32m2024-08-13 12:48:03,737 - httpx - INFO - HTTP Request: GET http://localhost:8080/v1/nodes \"HTTP/1.1 200 OK\"\u001b[0m\n",
      "\u001b[32m2024-08-13 12:48:03,737 - httpx - INFO - HTTP Request: GET http://localhost:8080/v1/nodes \"HTTP/1.1 200 OK\"\u001b[0m\n",
      "\u001b[32m2024-08-13 12:48:03,737 - httpx - INFO - HTTP Request: GET http://localhost:8080/v1/nodes \"HTTP/1.1 200 OK\"\u001b[0m\n",
      "\u001b[32m2024-08-13 12:48:03,737 - httpx - INFO - HTTP Request: GET http://localhost:8080/v1/nodes \"HTTP/1.1 200 OK\"\u001b[0m\n",
      "\u001b[32m2024-08-13 12:48:04,747 - httpx - INFO - HTTP Request: GET http://localhost:8080/v1/nodes \"HTTP/1.1 200 OK\"\u001b[0m\n",
      "\u001b[32m2024-08-13 12:48:04,747 - httpx - INFO - HTTP Request: GET http://localhost:8080/v1/nodes \"HTTP/1.1 200 OK\"\u001b[0m\n",
      "\u001b[32m2024-08-13 12:48:04,747 - httpx - INFO - HTTP Request: GET http://localhost:8080/v1/nodes \"HTTP/1.1 200 OK\"\u001b[0m\n",
      "\u001b[32m2024-08-13 12:48:04,747 - httpx - INFO - HTTP Request: GET http://localhost:8080/v1/nodes \"HTTP/1.1 200 OK\"\u001b[0m\n",
      "\u001b[32m2024-08-13 12:48:04,747 - httpx - INFO - HTTP Request: GET http://localhost:8080/v1/nodes \"HTTP/1.1 200 OK\"\u001b[0m\n",
      "\u001b[32m2024-08-13 12:48:04,747 - httpx - INFO - HTTP Request: GET http://localhost:8080/v1/nodes \"HTTP/1.1 200 OK\"\u001b[0m\n",
      "\u001b[32m2024-08-13 12:48:05,756 - httpx - INFO - HTTP Request: GET http://localhost:8080/v1/nodes \"HTTP/1.1 200 OK\"\u001b[0m\n",
      "\u001b[32m2024-08-13 12:48:05,756 - httpx - INFO - HTTP Request: GET http://localhost:8080/v1/nodes \"HTTP/1.1 200 OK\"\u001b[0m\n",
      "\u001b[32m2024-08-13 12:48:05,756 - httpx - INFO - HTTP Request: GET http://localhost:8080/v1/nodes \"HTTP/1.1 200 OK\"\u001b[0m\n",
      "\u001b[32m2024-08-13 12:48:05,756 - httpx - INFO - HTTP Request: GET http://localhost:8080/v1/nodes \"HTTP/1.1 200 OK\"\u001b[0m\n",
      "\u001b[32m2024-08-13 12:48:05,756 - httpx - INFO - HTTP Request: GET http://localhost:8080/v1/nodes \"HTTP/1.1 200 OK\"\u001b[0m\n",
      "\u001b[32m2024-08-13 12:48:05,756 - httpx - INFO - HTTP Request: GET http://localhost:8080/v1/nodes \"HTTP/1.1 200 OK\"\u001b[0m\n",
      "\u001b[32m2024-08-13 12:48:06,766 - httpx - INFO - HTTP Request: GET http://localhost:8080/v1/nodes \"HTTP/1.1 200 OK\"\u001b[0m\n",
      "\u001b[32m2024-08-13 12:48:06,766 - httpx - INFO - HTTP Request: GET http://localhost:8080/v1/nodes \"HTTP/1.1 200 OK\"\u001b[0m\n",
      "\u001b[32m2024-08-13 12:48:06,766 - httpx - INFO - HTTP Request: GET http://localhost:8080/v1/nodes \"HTTP/1.1 200 OK\"\u001b[0m\n",
      "\u001b[32m2024-08-13 12:48:06,766 - httpx - INFO - HTTP Request: GET http://localhost:8080/v1/nodes \"HTTP/1.1 200 OK\"\u001b[0m\n",
      "\u001b[32m2024-08-13 12:48:06,766 - httpx - INFO - HTTP Request: GET http://localhost:8080/v1/nodes \"HTTP/1.1 200 OK\"\u001b[0m\n",
      "\u001b[32m2024-08-13 12:48:06,766 - httpx - INFO - HTTP Request: GET http://localhost:8080/v1/nodes \"HTTP/1.1 200 OK\"\u001b[0m\n",
      "\u001b[32m2024-08-13 12:48:07,777 - httpx - INFO - HTTP Request: GET http://localhost:8080/v1/nodes \"HTTP/1.1 200 OK\"\u001b[0m\n",
      "\u001b[32m2024-08-13 12:48:07,777 - httpx - INFO - HTTP Request: GET http://localhost:8080/v1/nodes \"HTTP/1.1 200 OK\"\u001b[0m\n",
      "\u001b[32m2024-08-13 12:48:07,777 - httpx - INFO - HTTP Request: GET http://localhost:8080/v1/nodes \"HTTP/1.1 200 OK\"\u001b[0m\n",
      "\u001b[32m2024-08-13 12:48:07,777 - httpx - INFO - HTTP Request: GET http://localhost:8080/v1/nodes \"HTTP/1.1 200 OK\"\u001b[0m\n",
      "\u001b[32m2024-08-13 12:48:07,777 - httpx - INFO - HTTP Request: GET http://localhost:8080/v1/nodes \"HTTP/1.1 200 OK\"\u001b[0m\n",
      "\u001b[32m2024-08-13 12:48:07,777 - httpx - INFO - HTTP Request: GET http://localhost:8080/v1/nodes \"HTTP/1.1 200 OK\"\u001b[0m\n",
      "\u001b[32m2024-08-13 12:48:08,787 - httpx - INFO - HTTP Request: GET http://localhost:8080/v1/nodes \"HTTP/1.1 200 OK\"\u001b[0m\n",
      "\u001b[32m2024-08-13 12:48:08,787 - httpx - INFO - HTTP Request: GET http://localhost:8080/v1/nodes \"HTTP/1.1 200 OK\"\u001b[0m\n",
      "\u001b[32m2024-08-13 12:48:08,787 - httpx - INFO - HTTP Request: GET http://localhost:8080/v1/nodes \"HTTP/1.1 200 OK\"\u001b[0m\n",
      "\u001b[32m2024-08-13 12:48:08,787 - httpx - INFO - HTTP Request: GET http://localhost:8080/v1/nodes \"HTTP/1.1 200 OK\"\u001b[0m\n",
      "\u001b[32m2024-08-13 12:48:08,787 - httpx - INFO - HTTP Request: GET http://localhost:8080/v1/nodes \"HTTP/1.1 200 OK\"\u001b[0m\n",
      "\u001b[32m2024-08-13 12:48:08,787 - httpx - INFO - HTTP Request: GET http://localhost:8080/v1/nodes \"HTTP/1.1 200 OK\"\u001b[0m\n",
      "\u001b[32m2024-08-13 12:48:09,797 - httpx - INFO - HTTP Request: GET http://localhost:8080/v1/nodes \"HTTP/1.1 200 OK\"\u001b[0m\n",
      "\u001b[32m2024-08-13 12:48:09,797 - httpx - INFO - HTTP Request: GET http://localhost:8080/v1/nodes \"HTTP/1.1 200 OK\"\u001b[0m\n",
      "\u001b[32m2024-08-13 12:48:09,797 - httpx - INFO - HTTP Request: GET http://localhost:8080/v1/nodes \"HTTP/1.1 200 OK\"\u001b[0m\n",
      "\u001b[32m2024-08-13 12:48:09,797 - httpx - INFO - HTTP Request: GET http://localhost:8080/v1/nodes \"HTTP/1.1 200 OK\"\u001b[0m\n",
      "\u001b[32m2024-08-13 12:48:09,797 - httpx - INFO - HTTP Request: GET http://localhost:8080/v1/nodes \"HTTP/1.1 200 OK\"\u001b[0m\n",
      "\u001b[32m2024-08-13 12:48:09,797 - httpx - INFO - HTTP Request: GET http://localhost:8080/v1/nodes \"HTTP/1.1 200 OK\"\u001b[0m\n",
      "\u001b[32m2024-08-13 12:48:10,808 - httpx - INFO - HTTP Request: GET http://localhost:8080/v1/nodes \"HTTP/1.1 200 OK\"\u001b[0m\n",
      "\u001b[32m2024-08-13 12:48:10,808 - httpx - INFO - HTTP Request: GET http://localhost:8080/v1/nodes \"HTTP/1.1 200 OK\"\u001b[0m\n",
      "\u001b[32m2024-08-13 12:48:10,808 - httpx - INFO - HTTP Request: GET http://localhost:8080/v1/nodes \"HTTP/1.1 200 OK\"\u001b[0m\n",
      "\u001b[32m2024-08-13 12:48:10,808 - httpx - INFO - HTTP Request: GET http://localhost:8080/v1/nodes \"HTTP/1.1 200 OK\"\u001b[0m\n",
      "\u001b[32m2024-08-13 12:48:10,808 - httpx - INFO - HTTP Request: GET http://localhost:8080/v1/nodes \"HTTP/1.1 200 OK\"\u001b[0m\n",
      "\u001b[32m2024-08-13 12:48:10,808 - httpx - INFO - HTTP Request: GET http://localhost:8080/v1/nodes \"HTTP/1.1 200 OK\"\u001b[0m\n",
      "\u001b[32m2024-08-13 12:48:11,816 - httpx - INFO - HTTP Request: GET http://localhost:8080/v1/nodes \"HTTP/1.1 200 OK\"\u001b[0m\n",
      "\u001b[32m2024-08-13 12:48:11,816 - httpx - INFO - HTTP Request: GET http://localhost:8080/v1/nodes \"HTTP/1.1 200 OK\"\u001b[0m\n",
      "\u001b[32m2024-08-13 12:48:11,816 - httpx - INFO - HTTP Request: GET http://localhost:8080/v1/nodes \"HTTP/1.1 200 OK\"\u001b[0m\n",
      "\u001b[32m2024-08-13 12:48:11,816 - httpx - INFO - HTTP Request: GET http://localhost:8080/v1/nodes \"HTTP/1.1 200 OK\"\u001b[0m\n",
      "\u001b[32m2024-08-13 12:48:11,816 - httpx - INFO - HTTP Request: GET http://localhost:8080/v1/nodes \"HTTP/1.1 200 OK\"\u001b[0m\n",
      "\u001b[32m2024-08-13 12:48:11,816 - httpx - INFO - HTTP Request: GET http://localhost:8080/v1/nodes \"HTTP/1.1 200 OK\"\u001b[0m\n",
      "\u001b[32m2024-08-13 12:48:12,826 - httpx - INFO - HTTP Request: GET http://localhost:8080/v1/nodes \"HTTP/1.1 200 OK\"\u001b[0m\n",
      "\u001b[32m2024-08-13 12:48:12,826 - httpx - INFO - HTTP Request: GET http://localhost:8080/v1/nodes \"HTTP/1.1 200 OK\"\u001b[0m\n",
      "\u001b[32m2024-08-13 12:48:12,826 - httpx - INFO - HTTP Request: GET http://localhost:8080/v1/nodes \"HTTP/1.1 200 OK\"\u001b[0m\n",
      "\u001b[32m2024-08-13 12:48:12,826 - httpx - INFO - HTTP Request: GET http://localhost:8080/v1/nodes \"HTTP/1.1 200 OK\"\u001b[0m\n",
      "\u001b[32m2024-08-13 12:48:12,826 - httpx - INFO - HTTP Request: GET http://localhost:8080/v1/nodes \"HTTP/1.1 200 OK\"\u001b[0m\n",
      "\u001b[32m2024-08-13 12:48:12,826 - httpx - INFO - HTTP Request: GET http://localhost:8080/v1/nodes \"HTTP/1.1 200 OK\"\u001b[0m\n",
      "\u001b[32m2024-08-13 12:48:13,838 - httpx - INFO - HTTP Request: GET http://localhost:8080/v1/nodes \"HTTP/1.1 200 OK\"\u001b[0m\n",
      "\u001b[32m2024-08-13 12:48:13,838 - httpx - INFO - HTTP Request: GET http://localhost:8080/v1/nodes \"HTTP/1.1 200 OK\"\u001b[0m\n",
      "\u001b[32m2024-08-13 12:48:13,838 - httpx - INFO - HTTP Request: GET http://localhost:8080/v1/nodes \"HTTP/1.1 200 OK\"\u001b[0m\n",
      "\u001b[32m2024-08-13 12:48:13,838 - httpx - INFO - HTTP Request: GET http://localhost:8080/v1/nodes \"HTTP/1.1 200 OK\"\u001b[0m\n",
      "\u001b[32m2024-08-13 12:48:13,838 - httpx - INFO - HTTP Request: GET http://localhost:8080/v1/nodes \"HTTP/1.1 200 OK\"\u001b[0m\n",
      "\u001b[32m2024-08-13 12:48:13,838 - httpx - INFO - HTTP Request: GET http://localhost:8080/v1/nodes \"HTTP/1.1 200 OK\"\u001b[0m\n",
      "\u001b[32m2024-08-13 12:48:14,847 - httpx - INFO - HTTP Request: GET http://localhost:8080/v1/nodes \"HTTP/1.1 200 OK\"\u001b[0m\n",
      "\u001b[32m2024-08-13 12:48:14,847 - httpx - INFO - HTTP Request: GET http://localhost:8080/v1/nodes \"HTTP/1.1 200 OK\"\u001b[0m\n",
      "\u001b[32m2024-08-13 12:48:14,847 - httpx - INFO - HTTP Request: GET http://localhost:8080/v1/nodes \"HTTP/1.1 200 OK\"\u001b[0m\n",
      "\u001b[32m2024-08-13 12:48:14,847 - httpx - INFO - HTTP Request: GET http://localhost:8080/v1/nodes \"HTTP/1.1 200 OK\"\u001b[0m\n",
      "\u001b[32m2024-08-13 12:48:14,847 - httpx - INFO - HTTP Request: GET http://localhost:8080/v1/nodes \"HTTP/1.1 200 OK\"\u001b[0m\n",
      "\u001b[32m2024-08-13 12:48:14,847 - httpx - INFO - HTTP Request: GET http://localhost:8080/v1/nodes \"HTTP/1.1 200 OK\"\u001b[0m\n",
      "\u001b[32m2024-08-13 12:48:15,857 - httpx - INFO - HTTP Request: GET http://localhost:8080/v1/nodes \"HTTP/1.1 200 OK\"\u001b[0m\n",
      "\u001b[32m2024-08-13 12:48:15,857 - httpx - INFO - HTTP Request: GET http://localhost:8080/v1/nodes \"HTTP/1.1 200 OK\"\u001b[0m\n",
      "\u001b[32m2024-08-13 12:48:15,857 - httpx - INFO - HTTP Request: GET http://localhost:8080/v1/nodes \"HTTP/1.1 200 OK\"\u001b[0m\n",
      "\u001b[32m2024-08-13 12:48:15,857 - httpx - INFO - HTTP Request: GET http://localhost:8080/v1/nodes \"HTTP/1.1 200 OK\"\u001b[0m\n",
      "\u001b[32m2024-08-13 12:48:15,857 - httpx - INFO - HTTP Request: GET http://localhost:8080/v1/nodes \"HTTP/1.1 200 OK\"\u001b[0m\n",
      "\u001b[32m2024-08-13 12:48:15,857 - httpx - INFO - HTTP Request: GET http://localhost:8080/v1/nodes \"HTTP/1.1 200 OK\"\u001b[0m\n",
      "\u001b[32m2024-08-13 12:48:16,861 - httpx - INFO - HTTP Request: GET http://localhost:8080/v1/nodes \"HTTP/1.1 200 OK\"\u001b[0m\n",
      "\u001b[32m2024-08-13 12:48:16,861 - httpx - INFO - HTTP Request: GET http://localhost:8080/v1/nodes \"HTTP/1.1 200 OK\"\u001b[0m\n",
      "\u001b[32m2024-08-13 12:48:16,861 - httpx - INFO - HTTP Request: GET http://localhost:8080/v1/nodes \"HTTP/1.1 200 OK\"\u001b[0m\n",
      "\u001b[32m2024-08-13 12:48:16,861 - httpx - INFO - HTTP Request: GET http://localhost:8080/v1/nodes \"HTTP/1.1 200 OK\"\u001b[0m\n",
      "\u001b[32m2024-08-13 12:48:16,861 - httpx - INFO - HTTP Request: GET http://localhost:8080/v1/nodes \"HTTP/1.1 200 OK\"\u001b[0m\n",
      "\u001b[32m2024-08-13 12:48:16,861 - httpx - INFO - HTTP Request: GET http://localhost:8080/v1/nodes \"HTTP/1.1 200 OK\"\u001b[0m\n"
     ]
    }
   ],
   "source": [
    "weaviate.add_data(chunked_webpages)"
   ]
  },
  {
   "cell_type": "code",
   "execution_count": 14,
   "metadata": {},
   "outputs": [
    {
     "data": {
      "text/plain": [
       "[Document(metadata={'title': 'Digitale Transformatie in de haven van Antwerpen met NxtPort', 'url': 'https://elmos.be/content-hub/digitale-transformatie-de-haven-van-antwerpen-met-nxtport', 'source_type': 'webpage', 'source_format': 'html', 'uuid': 'b3fbbfb8-8797-4141-8f93-b8483e91a1fd', 'score': 0.699999988079071}, page_content=\"De haven van Antwerpen, een cruciaal knooppunt in de wereldhandel, ondergaat een significante digitale transformatie in samenwerking met NxtPort. Het 'Container Pickup' (CPU) project is daar een onderdeel van. Het platform verhoogt de efficiëntie en veiligheid voor de vrijgave van containers in de haven. Een digitaliseringsproject van deze omvang vereist een bekwaam IT-team waar ook onze consultants een rol in spelen. NxtPort heeft een innovatief digitaal platform ontwikkeld voor de vrijgave van containers. Het platform biedt real-time statusinformatie, maakt het aanmaken van commerciële releases mogelijk en wijst releaserechten toe. Dit initiatief vervangt het verouderde pincodesysteem, wat de veiligheid aanzienlijk verhoogt. Pincodes doorgeven is officieel verleden tijd. Door de geavanceerde technologieën kunnen werknemers van NxtPort het systeem zelf niet wijzigen, wat de veiligheid ten goede komt. Een digitaal project van deze omvang vereist een bekwaam IT-team voor de analyse, ontwikkeling en testing van het project. Achter de schermen speelt een kernteam, inclusief drie .NET developers van Elmos, een onmisbare rol. Met een mix van junior tot ervaren ontwikkelaars, gaan zij voor het succes van het CPU-project. Digitale Infrastructuur “Het CPU-project is meer dan een technische update. We gaan van handmatige naar geautomatiseerde processen en van geïsoleerde naar geïntegreerde processen.” aldus Koen Breemersch, CEO van NxtPort. Dit sluit aan bij de visie van NxtPort om een faciliterend data-delingsplatform te zijn. Het digitaliseren van processen draagt bij aan een efficiëntere en transparantere haveninfrastructuur. NxtPort streeft ernaar om een robuuste digitale infrastructuur op te bouwen. Dit doen ze door te focussen op digitale innovatie en samenwerkingen tussen diverse stakeholders, waaronder publieke instanties zoals de douane. Dit komt niet alleen de haven van Antwerpen ten goede, maar ook de gehele maritieme sector. Het verbeteren van de supply chain, het verhogen van klanttevredenheid en het waarborgen van hogere beveiligings- en compliance-niveaus, toont hun ambitie om voorop te lopen in de digitale evolutie van de maritieme industrie. CPu is een eerste belangrijke stap in het creëren van een digitale basisinfrastructuur in de haven de Antwerpen. Samen met de havengemeenschap en The Way Forward hebben we ondertussen ook het Inbound Release Platform (IRP) project opgestart om de integratie met douane verder te optimaliseren. Aan het woord: Sigfrid Maenhout, Freelancer bij Elmos Sigfrid Maenhout, een gedreven Freelance FullStack Developer, werkt momenteel aan het baanbrekende CPU-project. Met een passie voor de maritieme sector greep hij de kans die Elmos hem bood. Als Release Manager brengt hij doorzettingsvermogen en flexibiliteit mee naar een project van deze omvang. Sigfrid is ook een coach voor zijn team, leidend met expertise en een scherp oog voor detail. Koen Breemersch, CEO van NxtPort, ziet in Sigfrid een onmisbare schakel in dit project. Samen met twee andere senior developers stuurt Sigfrid het project in goede banen. Hij is enthousiast over de technologische mogelijkheden bij NxtPort. Dankzij hun status als preferred customer bij Microsoft, beschikken zij over de nieuwste technologieën en premium support – een droomscenario voor elke Full Stack Developer. Met ogen gericht op de toekomst, zijn Sigfrid en ook wij optimistisch over de voortgaande digitalisering van de haven en de rol die NxtPort hierin speelt.\"),\n",
       " Document(metadata={'title': 'Spill The Bits #1 - Een impactvolle Belgische startup lanceren, is dat nog mogelijk?', 'url': 'https://elmos.be/content-hub/spill-bits-1-een-impactvolle-belgische-startup-lanceren-dat-nog-mogelijk', 'source_type': 'webpage', 'source_format': 'html', 'uuid': '9fe7f4ed-1d85-4c35-ac17-64903452437c', 'score': 0.587424635887146}, page_content=\"Spill The Bits #1 - Een impactvolle Belgische startup lanceren, is dat nog mogelijk? In deze aflevering verwelkomen we Robin Wauters, een gerenommeerde technologiejournalist en de oprichter van [tech.eu], evenals co-founder van BeCentral en Syndicate One. Samen met Robin nemen we een diepe duik in het ecosysteem van startups en ondernemerschap, een wereld waar passie voor technologie en de drang naar innovatie centraal staan. Robin deelt zijn unieke inzichten over wat het betekent om in het hedendaagse digitale tijdperk een startup te leiden. Aan de hand van voorbeelden zoals Lorence Boogaard en Toon Coppens, de pioniers achter Netlog, kijken we naar succesvolle ondernemingen. Droom je van een eigen startup? Hoe moeilijk is het nu echt om je startup van de grond te tillen? Welke veelvoorkomende valkuilen liggen op de loer en welke strategische stappen leiden naar succes? We zetten de belangrijkste punten voor jou op een rijtje. Startup mentaliteit voor elke omvang Robin Wauters benadrukt dat de startup mentaliteit niet beperkt blijft tot kleine bedrijven. Een dynamische en flexibele aanpak kan ook binnen grotere bedrijven innovatie en groei teweegbrengen. Experimenteren, snel leren en zich snel aanpassen is de boodschap, ongeacht de grootte van het bedrijf. Impact boven winst Een terugkerend thema in het gesprek is de focus op impact. Succesvolle startups streven niet enkel financiële winst na, maar willen ook een positieve bijdragen leveren in de markt of maatschappij. Deze ambitie drijft ondernemers om bedrijven te lanceren die duurzaam zijn en verschillende generaties lang relevant blijven. Netwerk en mentorship is belangrijk Een sterk netwerk is en blijft belangrijk in de startupwereld. Robin spreekt over het concept van de ‘maffia’. Een groep van ondernemers die verbonden zijn en elkaar steunen. Dergelijke ecosystemen bevordert kennisdeling, ondersteuning en versnelde groei. Het voorbeeld van de PayPal maffia wordt hier ook aangehaald en uitgelegd. Financiering en klantenbestand variëren sterk De behoeften van startups variëren sterk per sector en markt. Sommige bedrijven hebben slechts een handvol klanten nodig om succesvol te zijn, terwijl anderen miljoenen gebruikers moeten aantrekken. Ook de benodigde financiering kan dus drastisch verschillen. Een specifieke strategie en planning per sector is cruciaal. De rol van onderwijs in ondernemerschap Tot slot benadrukt Robin het belang van onderwijs voor toekomstige ondernemers. Zowel in België als Europa wordt in het onderwijs niet vroeg genoeg - of zelfs niet- ingespeeld op wat het betekent om een ondernemer te zijn. Hij pleit voor een omgeving waarin ervaren ondernemers advies en begeleiding kunnen bieden aan nieuwkomers. Deze mentor-mentee relaties kunnen een 'familie' van ondernemers creëren, waardoor kennis wordt gedeeld en succes wordt versneld In deze podcastaflevering wordt duidelijk dat de lancering en groei van succesvolle startups niet alleen gaat over een innovatief idee of financiering. Maar het ook gaat over de juiste mentaliteit, het streven naar impact en blijven leren en aanpassen.\")]"
      ]
     },
     "execution_count": 14,
     "metadata": {},
     "output_type": "execute_result"
    }
   ],
   "source": [
    "retriever = weaviate.get_retriever()\n",
    "retriever.invoke('Who are the Vectrix founders ?')"
   ]
  },
  {
   "cell_type": "code",
   "execution_count": 24,
   "metadata": {},
   "outputs": [
    {
     "name": "stderr",
     "output_type": "stream",
     "text": [
      "\u001b[32m2024-08-13 12:47:28,446 - httpx - INFO - HTTP Request: DELETE http://localhost:8080/v1/schema/Loop \"HTTP/1.1 200 OK\"\u001b[0m\n",
      "\u001b[32m2024-08-13 12:47:28,446 - httpx - INFO - HTTP Request: DELETE http://localhost:8080/v1/schema/Loop \"HTTP/1.1 200 OK\"\u001b[0m\n",
      "\u001b[32m2024-08-13 12:47:28,446 - httpx - INFO - HTTP Request: DELETE http://localhost:8080/v1/schema/Loop \"HTTP/1.1 200 OK\"\u001b[0m\n",
      "\u001b[32m2024-08-13 12:47:28,446 - httpx - INFO - HTTP Request: DELETE http://localhost:8080/v1/schema/Loop \"HTTP/1.1 200 OK\"\u001b[0m\n",
      "\u001b[32m2024-08-13 12:47:28,446 - httpx - INFO - HTTP Request: DELETE http://localhost:8080/v1/schema/Loop \"HTTP/1.1 200 OK\"\u001b[0m\n",
      "\u001b[32m2024-08-13 12:47:28,446 - httpx - INFO - HTTP Request: DELETE http://localhost:8080/v1/schema/Loop \"HTTP/1.1 200 OK\"\u001b[0m\n"
     ]
    }
   ],
   "source": [
    "weaviate.remove_collection(\"Loop\")"
   ]
  },
  {
   "cell_type": "code",
   "execution_count": null,
   "metadata": {},
   "outputs": [],
   "source": [
    "weaviate.info()"
   ]
  },
  {
   "cell_type": "code",
   "execution_count": null,
   "metadata": {},
   "outputs": [],
   "source": [
    "weaviate.close()"
   ]
  }
 ],
 "metadata": {
  "kernelspec": {
   "display_name": ".venv",
   "language": "python",
   "name": "python3"
  },
  "language_info": {
   "codemirror_mode": {
    "name": "ipython",
    "version": 3
   },
   "file_extension": ".py",
   "mimetype": "text/x-python",
   "name": "python",
   "nbconvert_exporter": "python",
   "pygments_lexer": "ipython3",
   "version": "3.12.4"
  }
 },
 "nbformat": 4,
 "nbformat_minor": 2
}
