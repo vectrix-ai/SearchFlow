{
 "cells": [
  {
   "cell_type": "markdown",
   "metadata": {},
   "source": [
    "# OneDrive Importer\n",
    "This notebook will connect to a OneDrive account, list all the available files and download them for further processing by Vectrix\n",
    "We use the [python-o365](https://github.com/O365/python-o365) library to connect to OneDrive.\n",
    "\n",
    "## Connect to o365 and fetch the authentication token"
   ]
  },
  {
   "cell_type": "code",
   "execution_count": 3,
   "metadata": {},
   "outputs": [
    {
     "name": "stdout",
     "output_type": "stream",
     "text": [
      "Files and folders in OneDrive path: Documents\n",
      "File: pdf_with_images.pdf\n",
      "\n",
      "You can list files in a specific folder by calling list_onedrive_files('folder/path')\n"
     ]
    }
   ],
   "source": [
    "import os\n",
    "from O365 import Account, FileSystemTokenBackend\n",
    "\n",
    "# Get credentials from environment variables\n",
    "client_id = os.environ.get('AZURE_CLIENT_ID')\n",
    "client_secret = os.environ.get('AZURE_CLIENT_SECRET')\n",
    "\n",
    "if not client_id or not client_secret:\n",
    "    print(\"Error: AZURE_CLIENT_ID or AZURE_CLIENT_SECRET environment variables are not set.\")\n",
    "else:\n",
    "    # Set up the token backend\n",
    "    token_backend = FileSystemTokenBackend(token_path='.', token_filename='o365_token.txt')\n",
    "\n",
    "    # Create an Account object\n",
    "    account = Account((client_id, client_secret), token_backend=token_backend)\n",
    "\n",
    "    # Authenticate (if not already authenticated)\n",
    "    if not account.is_authenticated:\n",
    "        if account.authenticate(scopes=['onedrive_all']):\n",
    "            print(\"Authentication successful.\")\n",
    "        else:\n",
    "            print(\"Authentication failed.\")\n",
    "\n",
    "    # Function to list files and folders\n",
    "    \n",
    "\n",
    "    # Example usage\n",
    "    list_onedrive_files()\n",
    "\n",
    "    print(\"\\nYou can list files in a specific folder by calling list_onedrive_files('folder/path')\")"
   ]
  },
  {
   "cell_type": "markdown",
   "metadata": {},
   "source": [
    "## List OneDrive files\n",
    "This function will list all existing files in the specified folder. You can pass \"/\" if you want to list the root folder."
   ]
  },
  {
   "cell_type": "code",
   "execution_count": 5,
   "metadata": {},
   "outputs": [
    {
     "name": "stdout",
     "output_type": "stream",
     "text": [
      "Files and folders in OneDrive path: Documents\n",
      "File: pdf_with_images.pdf\n"
     ]
    }
   ],
   "source": [
    "def list_onedrive_files(folder_path='/'):\n",
    "        try:\n",
    "            # Get the storage instance (OneDrive)\n",
    "            storage = account.storage()\n",
    "\n",
    "            # Get the default drive (main OneDrive)\n",
    "            drive = storage.get_default_drive()\n",
    "\n",
    "            # Get the specified folder\n",
    "            if folder_path == '/':\n",
    "                folder = drive.get_root_folder()\n",
    "            else:\n",
    "                folder = drive.get_item_by_path(folder_path)\n",
    "\n",
    "            # List files and folders\n",
    "            items = folder.get_items()\n",
    "\n",
    "            print(f\"Files and folders in OneDrive path: {folder_path}\")\n",
    "            for item in items:\n",
    "                item_type = \"File\" if item.is_file else \"Folder\"\n",
    "                print(f\"{item_type}: {item.name}\")\n",
    "\n",
    "        except Exception as e:\n",
    "            print(f\"An error occurred: {str(e)}\")\n",
    "\n",
    "list_onedrive_files(folder_path=\"Documents\")"
   ]
  },
  {
   "cell_type": "markdown",
   "metadata": {},
   "source": [
    "## Download files by extension"
   ]
  },
  {
   "cell_type": "code",
   "execution_count": 34,
   "metadata": {},
   "outputs": [
    {
     "name": "stdout",
     "output_type": "stream",
     "text": [
      "https://1drv.ms/b/s!AHmU05abZem2gR0\n",
      "[Version Id: current | Modified on: 2024-07-23 17:52:35.480000+02:00 | by: Ben Selleslagh]\n",
      "Downloaded: pdf_with_images.pdf\n",
      "\n",
      "Downloaded 1 files with extension '.pdf' to ./temp/\n"
     ]
    }
   ],
   "source": [
    "def download_files_by_extension(folder_path='/', file_extension='.pdf', local_dir='./temp'):\n",
    "    try:\n",
    "        # Ensure the local directory exists\n",
    "        os.makedirs(local_dir, exist_ok=True)\n",
    "\n",
    "        # Get the storage instance (OneDrive)\n",
    "        storage = account.storage()\n",
    "\n",
    "\n",
    "        # Get the default drive (main OneDrive)\n",
    "        drive = storage.get_default_drive()\n",
    "\n",
    "\n",
    "        # Get the specified folder\n",
    "        if folder_path == '/':\n",
    "            folder = drive.get_root_folder()\n",
    "        else:\n",
    "            folder = drive.get_item_by_path(folder_path)\n",
    "\n",
    "        # List files in the folder\n",
    "        items = folder.get_items()\n",
    "\n",
    "        # Download files with the specified extension\n",
    "        downloaded_count = 0\n",
    "        for item in items:\n",
    "            if item.is_file and item.name.lower().endswith(file_extension.lower()):\n",
    "                local_path = os.path.join(local_dir, item.name)\n",
    "                print(item.web_url)\n",
    "                print(item.get_versions())\n",
    "                item.download(to_path=local_dir)\n",
    "                print(f\"Downloaded: {item.name}\")\n",
    "                downloaded_count += 1\n",
    "\n",
    "        print(f\"\\nDownloaded {downloaded_count} files with extension '{file_extension}' to {local_dir}\")\n",
    "\n",
    "    except Exception as e:\n",
    "        print(f\"An error occurred: {str(e)}\")\n",
    "\n",
    "# Example usage\n",
    "# \n",
    "download_files_by_extension('Documents', '.pdf', './temp/')"
   ]
  }
 ],
 "metadata": {
  "kernelspec": {
   "display_name": ".venv",
   "language": "python",
   "name": "python3"
  },
  "language_info": {
   "codemirror_mode": {
    "name": "ipython",
    "version": 3
   },
   "file_extension": ".py",
   "mimetype": "text/x-python",
   "name": "python",
   "nbconvert_exporter": "python",
   "pygments_lexer": "ipython3",
   "version": "3.12.4"
  }
 },
 "nbformat": 4,
 "nbformat_minor": 2
}
