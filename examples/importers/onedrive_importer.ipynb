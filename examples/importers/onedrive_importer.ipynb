{
 "cells": [
  {
   "cell_type": "markdown",
   "metadata": {},
   "source": [
    "# OneDrive Importer\n",
    "This notebook will connect to a OneDrive account, list all the available files and download them for further processing by Vectrix\n",
    "We use the [python-o365](https://github.com/O365/python-o365) library to connect to OneDrive.\n",
    "\n",
    "## Connect to o365 and fetch the authentication token"
   ]
  },
  {
   "cell_type": "code",
   "execution_count": 4,
   "metadata": {},
   "outputs": [],
   "source": [
    "import os\n",
    "import logging\n",
    "logging.basicConfig(level=logging.INFO)\n",
    "from vectrix.connectors.onedrive import OneDrive\n",
    "\n",
    "drive = OneDrive(azure_client_id = os.environ.get('AZURE_CLIENT_ID'), azure_client_secret = os.environ.get('AZURE_CLIENT_SECRET'))"
   ]
  },
  {
   "cell_type": "code",
   "execution_count": 5,
   "metadata": {},
   "outputs": [
    {
     "data": {
      "text/plain": [
       "[{'name': 'Documents', 'type': 'Folder'},\n",
       " {'name': 'Pictures', 'type': 'Folder'},\n",
       " {'name': 'Getting started with OneDrive.pdf', 'type': 'File'}]"
      ]
     },
     "execution_count": 5,
     "metadata": {},
     "output_type": "execute_result"
    }
   ],
   "source": [
    "drive.list_files()"
   ]
  },
  {
   "cell_type": "markdown",
   "metadata": {},
   "source": [
    "## Download files by extension"
   ]
  },
  {
   "cell_type": "code",
   "execution_count": 6,
   "metadata": {},
   "outputs": [
    {
     "name": "stderr",
     "output_type": "stream",
     "text": [
      "INFO:root:Downloading file: Getting started with OneDrive.pdf\n"
     ]
    },
    {
     "name": "stdout",
     "output_type": "stream",
     "text": [
      "[FileObject(file_path='./temp/b6e9659b96d39479/Getting started with OneDrive.pdf', file_type='.pdf', file_name='Getting started with OneDrive.pdf', url='https://1drv.ms/b/s!AHmU05abZem2Zg')]\n"
     ]
    }
   ],
   "source": [
    "# Set the logging to INFO\n",
    "\n",
    "downloaded_files = drive.download_files()\n",
    "print(downloaded_files)"
   ]
  },
  {
   "cell_type": "code",
   "execution_count": 8,
   "metadata": {},
   "outputs": [],
   "source": [
    "drive.close()"
   ]
  }
 ],
 "metadata": {
  "kernelspec": {
   "display_name": ".venv",
   "language": "python",
   "name": "python3"
  },
  "language_info": {
   "codemirror_mode": {
    "name": "ipython",
    "version": 3
   },
   "file_extension": ".py",
   "mimetype": "text/x-python",
   "name": "python",
   "nbconvert_exporter": "python",
   "pygments_lexer": "ipython3",
   "version": "3.12.4"
  }
 },
 "nbformat": 4,
 "nbformat_minor": 2
}
