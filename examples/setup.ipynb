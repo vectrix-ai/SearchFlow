{
 "cells": [
  {
   "cell_type": "markdown",
   "metadata": {},
   "source": [
    "# SearchFlow Setup, Installation and Configuration\n",
    "\n",
    "### Docker Configuration\n",
    "\n",
    "Build the Docker container from source\n",
    "\n",
    "```docker build --no-cache -t searchflow .```\n",
    "\n",
    "Run the container and attach the enviroment file\n",
    "\n",
    "```docker run -p 8501:8501 --env-file .env.docker searchflow```\n",
    "\n"
   ]
  },
  {
   "cell_type": "markdown",
   "metadata": {},
   "source": [
    "### For local builds with a valid SSL-certificate\n",
    "\n",
    "```bash\n",
    "brew install mkcert\n",
    "mkcert -install\n",
    "mkcert localhost\n",
    "```\n",
    "This will create localhost.pem (certificate) and localhost-key.pem (key) files.\n",
    "Running this code will start FastAPI with a trusted HTTPS connection on localhost.\n"
   ]
  }
 ],
 "metadata": {
  "kernelspec": {
   "display_name": ".venv",
   "language": "python",
   "name": "python3"
  },
  "language_info": {
   "codemirror_mode": {
    "name": "ipython",
    "version": 3
   },
   "file_extension": ".py",
   "mimetype": "text/x-python",
   "name": "python",
   "nbconvert_exporter": "python",
   "pygments_lexer": "ipython3",
   "version": "3.12.5"
  }
 },
 "nbformat": 4,
 "nbformat_minor": 2
}
