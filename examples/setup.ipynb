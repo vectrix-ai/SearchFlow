{
 "cells": [
  {
   "cell_type": "markdown",
   "metadata": {},
   "source": [
    "# Setup 📔\n",
    "This notebook will explain how to setup all required depedencies to run Vectrix. For some components you can use paid or hosted services, but for the sake of this setup we will focuse on open source solutions.\n",
    "\n",
    "## Weaviate Vector Database\n",
    "This is needed to store the embeddings and run the vector search. It's important to use a multi-modal embeddings engine since extracted documents can also contain images and graphs you might want to search on.\n",
    "\n",
    "**The Docker Compose File**\n",
    "```yaml\n",
    "---\n",
    "services:\n",
    "  weaviate:\n",
    "    command:\n",
    "    - --host\n",
    "    - 0.0.0.0\n",
    "    - --port\n",
    "    - '8080'\n",
    "    - --scheme\n",
    "    - http\n",
    "    image: cr.weaviate.io/semitechnologies/weaviate:1.26.0\n",
    "    ports:\n",
    "    - 8080:8080\n",
    "    - 50051:50051\n",
    "    volumes:\n",
    "    - ~/weaviate_data:/var/lib/weaviate\n",
    "    restart: on-failure:0\n",
    "    environment:\n",
    "      SPELLCHECK_INFERENCE_API: 'http://text-spellcheck:8080'\n",
    "      QUERY_DEFAULTS_LIMIT: 25\n",
    "      AUTHENTICATION_ANONYMOUS_ACCESS_ENABLED: 'true'\n",
    "      PERSISTENCE_DATA_PATH: '/var/lib/weaviate'\n",
    "      DEFAULT_VECTORIZER_MODULE: 'text2vec-ollama'\n",
    "      ENABLE_MODULES: 'text2vec-ollama,text-spellcheck,generative-ollama'\n",
    "      CLUSTER_HOSTNAME: 'node1'\n",
    "  text-spellcheck:\n",
    "    image: cr.weaviate.io/semitechnologies/text-spellcheck-model:pyspellchecker-en\n",
    "volumes:\n",
    "  weaviate_data:\n",
    "...\n",
    "```\n",
    "\n",
    "Note that we did not include an Ollama service since we will use the locally installed version of Ollama for this setup."
   ]
  },
  {
   "cell_type": "code",
   "execution_count": null,
   "metadata": {},
   "outputs": [],
   "source": [
    "# First download an embeddings model using ollama\n",
    "!ollama pull mxbai-embed-large:335m\n",
    "\n",
    "# Download the docker-compose file for Weaviate\n",
    "!docker compose --project-name weaviate up -d"
   ]
  },
  {
   "cell_type": "code",
   "execution_count": null,
   "metadata": {},
   "outputs": [],
   "source": [
    "poetry export -f requirements.txt --output requirements.txt --without-hashes"
   ]
  },
  {
   "cell_type": "markdown",
   "metadata": {},
   "source": [
    "## Installing the PostgreSQL Database"
   ]
  },
  {
   "cell_type": "code",
   "execution_count": null,
   "metadata": {},
   "outputs": [],
   "source": [
    "# Pull the postgres image, install the pgvector extension and run the container\n",
    "!docker pull ankane/pgvector\n",
    "!docker run -d --name paginx -e POSTGRES_PASSWORD=mysecretpassword -p 5432:5432 -e PG_EXTENSIONS=\"pgvector\" ankane/pgvector"
   ]
  }
 ],
 "metadata": {
  "language_info": {
   "name": "python"
  }
 },
 "nbformat": 4,
 "nbformat_minor": 2
}
