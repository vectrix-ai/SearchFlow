{
 "cells": [
  {
   "cell_type": "markdown",
   "metadata": {},
   "source": [
    "# Quickstart\n",
    "https://python.langchain.com/docs/get_started/quickstart/\n",
    "\n",
    "In this quickstart we'll show you how to:\n",
    "\n",
    "- Get setup with LangChain, LangSmith and LangServe\n",
    "- Use the most basic and common components of LangChain: prompt templates, models, and output parsers\n",
    "- Use LangChain Expression Language, the protocol that LangChain is built on and which facilitates component chaining\n",
    "- Build a simple application with LangChain\n",
    "- Trace your application with LangSmith\n",
    "- Serve your application with LangServe"
   ]
  },
  {
   "cell_type": "code",
   "execution_count": 1,
   "metadata": {},
   "outputs": [],
   "source": [
    "from IPython.display import display, Markdown\n",
    "\n",
    "from langchain import hub\n",
    "\n",
    "from langchain_core.prompts import ChatPromptTemplate\n",
    "from langchain_core.prompts import MessagesPlaceholder\n",
    "from langchain_core.output_parsers import StrOutputParser\n",
    "from langchain_core.documents import Document\n",
    "from langchain_core.messages import HumanMessage, AIMessage\n",
    "\n",
    "from langchain_community.llms import Ollama\n",
    "from langchain_community.document_loaders import WebBaseLoader\n",
    "from langchain_community.embeddings import OllamaEmbeddings\n",
    "from langchain_community.vectorstores import FAISS\n",
    "\n",
    "from langchain_text_splitters import RecursiveCharacterTextSplitter\n",
    "\n",
    "from langchain.chains.combine_documents import create_stuff_documents_chain\n",
    "from langchain.chains import create_retrieval_chain\n",
    "from langchain.chains import create_history_aware_retriever\n",
    "\n",
    "from langchain.agents import create_openai_functions_agent\n",
    "from langchain.agents import AgentExecutor\n",
    "\n",
    "from langchain.tools.retriever import create_retriever_tool\n",
    "from langchain_community.tools.tavily_search import TavilySearchResults\n",
    "\n",
    "from langchain_openai import ChatOpenAI\n",
    "\n",
    "from dotenv import load_dotenv\n",
    "load_dotenv()\n",
    "\n",
    "llm = Ollama(model=\"llama3:instruct\")"
   ]
  },
  {
   "cell_type": "markdown",
   "metadata": {},
   "source": [
    "# LLM Chain"
   ]
  },
  {
   "cell_type": "code",
   "execution_count": 2,
   "metadata": {},
   "outputs": [
    {
     "data": {
      "text/markdown": [
       "Langsmith, a language model and AI-powered tool, can indeed assist in testing, particularly in the realm of natural language processing (NLP) and text-based applications. Here are some ways Langsmith can help:\n",
       "\n",
       "1. **Automated Testing**: Langsmith can be used to generate test data for NLP models, such as language understanding, sentiment analysis, or named entity recognition. This helps ensure your model is functioning correctly and consistently.\n",
       "2. **Error Detection**: By analyzing input text, Langsmith can identify potential errors in grammar, syntax, or semantic meaning, which can help detect issues in your application's logic.\n",
       "3. **Conversational Flow Testing**: Langsmith can simulate conversations with users, allowing you to test the flow of interactions and detect any inconsistencies or errors in the dialogue.\n",
       "4. **Text Classification**: Langsmith can classify text into predefined categories (e.g., positive/negative sentiment, spam/not spam) to help evaluate the accuracy of your application's text classification capabilities.\n",
       "5. **NLU Benchmarking**: Langsmith provides a benchmark for evaluating NLP models and APIs, enabling you to compare the performance of different models and identify areas for improvement.\n",
       "\n",
       "Some examples of how Langsmith can be used in testing include:\n",
       "\n",
       "* Testing chatbots or virtual assistants: Langsmith can simulate conversations with users, helping you ensure your AI-powered bot responds accurately and consistently.\n",
       "* Evaluating sentiment analysis models: Langsmith can generate text with varying sentiment (positive, negative, neutral) to test the accuracy of your sentiment analysis model.\n",
       "* Developing and testing language translation APIs: Langsmith can provide test data for translating different languages, ensuring your API produces accurate translations.\n",
       "\n",
       "By leveraging Langsmith in your testing process, you can:\n",
       "\n",
       "* Improve the reliability and consistency of your NLP-based applications\n",
       "* Identify potential issues before they impact users\n",
       "* Optimize the performance of your AI-powered systems\n",
       "\n",
       "If you're interested in learning more about how Langsmith can support testing for your project or application, feel free to ask!"
      ],
      "text/plain": [
       "<IPython.core.display.Markdown object>"
      ]
     },
     "metadata": {},
     "output_type": "display_data"
    }
   ],
   "source": [
    "# Once you've installed and initialized the LLM of your choice, we can try using it! \n",
    "# Let's ask it what LangSmith is - this is something that wasn't present in the training data so it shouldn't have a very good response.\n",
    "markdown_text = llm.invoke(\"how can langsmith help with testing?\")\n",
    "display(Markdown(markdown_text))"
   ]
  },
  {
   "cell_type": "code",
   "execution_count": 3,
   "metadata": {},
   "outputs": [
    {
     "data": {
      "text/markdown": [
       "As a world-class technical documentation writer, I'd be delighted to explore the possibilities of Langsmith in testing!\n",
       "\n",
       "Langsmith's AI-powered capabilities can significantly enhance the testing process by:\n",
       "\n",
       "1. **Automated Testing**: Langsmith can generate test scenarios and scripts based on your existing documentation, freeing up your team to focus on higher-level testing tasks.\n",
       "2. **Error Detection**: By analyzing code snippets, Langsmith can identify potential errors or inconsistencies, reducing the likelihood of defects making it into production.\n",
       "3. **Code Review**: Langsmith's AI can review code for best practices, syntax, and semantic accuracy, providing valuable insights to improve coding quality.\n",
       "4. **Test Case Generation**: Langsmith can generate test cases based on your documentation, ensuring that critical scenarios are covered and reducing the risk of missing important tests.\n",
       "5. **Documentation Insights**: By analyzing existing documentation, Langsmith can identify areas where clarification or updates are needed, improving overall documentation quality.\n",
       "\n",
       "To get started with Langsmith in testing, I recommend:\n",
       "\n",
       "1. Identifying specific areas of your software or application that require testing (e.g., API endpoints, UI components).\n",
       "2. Using Langsmith's built-in tools to generate test scenarios and scripts based on your existing documentation.\n",
       "3. Reviewing the generated test cases to ensure they accurately reflect the expected behavior of your system.\n",
       "4. Integrating Langsmith with your existing testing frameworks or tools to streamline the testing process.\n",
       "\n",
       "By leveraging Langsmith in testing, you'll be able to:\n",
       "\n",
       "* Increase testing efficiency\n",
       "* Reduce the risk of errors and defects\n",
       "* Improve overall code quality and maintainability\n",
       "\n",
       "How can I help you get started with Langsmith in testing?"
      ],
      "text/plain": [
       "<IPython.core.display.Markdown object>"
      ]
     },
     "metadata": {},
     "output_type": "display_data"
    }
   ],
   "source": [
    "# We can also guide its response with a prompt template. Prompt templates convert raw user input to better input to the LLM.\n",
    "prompt = ChatPromptTemplate.from_messages([\n",
    "    (\"system\", \"You are a world class technical documentation writer.\"),\n",
    "    (\"user\", \"{input}\")\n",
    "])\n",
    "\n",
    "# We can now combine these into a simple LLM chain:\n",
    "chain = prompt | llm\n",
    "\n",
    "# We can now invoke it and ask the same question. \n",
    "# It still won't know the answer, but it should respond in a more proper tone for a technical writer!\n",
    "display(Markdown(chain.invoke({\"input\": \"how can langsmith help with testing?\"})))"
   ]
  },
  {
   "cell_type": "code",
   "execution_count": 4,
   "metadata": {},
   "outputs": [
    {
     "data": {
      "text/markdown": [
       "What a great question!\n",
       "\n",
       "As a technical documentation writer, I've worked closely with developers and testers to ensure that our software products are not only well-documented but also thoroughly tested.\n",
       "\n",
       "Langsmith, as a testing framework, can help in several ways:\n",
       "\n",
       "1. **Automated testing**: Langsmith allows you to write tests in a human-readable format (like Markdown) rather than traditional programming languages like Java or Python. This makes it easier for non-technical team members to write and maintain tests.\n",
       "2. **Test-driven development**: By using Langsmith, developers can write automated tests alongside their code, ensuring that new features are thoroughly tested before they're released.\n",
       "3. **Easy test maintenance**: When requirements change or bugs need to be fixed, Langsmith's simple syntax makes it easy to update existing tests without needing extensive programming knowledge.\n",
       "4. **Integrations with CI/CD pipelines**: Langsmith can integrate seamlessly with continuous integration and delivery (CI/CD) pipelines, allowing for automated testing and deployment of code changes.\n",
       "\n",
       "Some specific ways Langsmith can help with testing include:\n",
       "\n",
       "* Writing unit tests for individual components or features\n",
       "* Creating acceptance tests to verify that the software meets user requirements\n",
       "* Developing integration tests to ensure that different parts of the system work together correctly\n",
       "* Running regression tests to catch any breaking changes or bugs introduced by new code\n",
       "\n",
       "By leveraging Langsmith, you can write better tests faster and easier than ever before!"
      ],
      "text/plain": [
       "<IPython.core.display.Markdown object>"
      ]
     },
     "metadata": {},
     "output_type": "display_data"
    }
   ],
   "source": [
    "# Let's add a simple output parser to convert the chat message to a string.\n",
    "output_parser = StrOutputParser()\n",
    "\n",
    "# We can now add this to the previous chain:\n",
    "chain = prompt | llm | output_parser\n",
    "\n",
    "# We can now invoke it and ask the same question. The answer will now be a string (rather than a ChatMessage).\n",
    "display(Markdown(chain.invoke({\"input\": \"how can langsmith help with testing?\"})))"
   ]
  },
  {
   "cell_type": "markdown",
   "metadata": {},
   "source": [
    "# Retrieval Chain\n",
    "To properly answer the original question (\"how can langsmith help with testing?\"), we need to provide additional context to the LLM. We can do this via retrieval. Retrieval is useful when you have too much data to pass to the LLM directly. You can then use a retriever to fetch only the most relevant pieces and pass those in.\n",
    "\n",
    "In this process, we will look up relevant documents from a Retriever and then pass them into the prompt. A Retriever can be backed by anything - a SQL table, the internet, etc - but in this instance we will populate a vector store and use that as a retriever. For more information on vectorstores, see this documentation.\n",
    "\n",
    "First, we need to load the data that we want to index. To do this, we will use the WebBaseLoader. This requires installing BeautifulSoup:"
   ]
  },
  {
   "cell_type": "code",
   "execution_count": 5,
   "metadata": {},
   "outputs": [],
   "source": [
    "loader = WebBaseLoader(\"https://docs.smith.langchain.com/user_guide\")\n",
    "docs = loader.load()\n",
    "\n",
    "embeddings = OllamaEmbeddings(model=\"mxbai-embed-large:latest\")\n",
    "\n",
    "\n",
    "# Let's build our index\n",
    "text_splitter = RecursiveCharacterTextSplitter()\n",
    "documents = text_splitter.split_documents(docs)\n",
    "vector = FAISS.from_documents(documents, embeddings)"
   ]
  },
  {
   "cell_type": "code",
   "execution_count": 6,
   "metadata": {},
   "outputs": [
    {
     "name": "stdout",
     "output_type": "stream",
     "text": [
      "According to the context, Langsmith can help with testing by letting you \"visualize\" test results.\n"
     ]
    }
   ],
   "source": [
    "# First, let's set up the chain that takes a question and the retrieved documents and generates an answer.\n",
    "prompt = ChatPromptTemplate.from_template(\"\"\"Answer the following question based only on the provided context:\n",
    "\n",
    "<context>\n",
    "{context}\n",
    "</context>\n",
    "\n",
    "Question: {input}\"\"\")\n",
    "\n",
    "document_chain = create_stuff_documents_chain(llm, prompt)\n",
    "\n",
    "# If we wanted to, we could run this ourselves by passing in documents directly:\n",
    "print(document_chain.invoke({\n",
    "    \"input\": \"how can langsmith help with testing?\",\n",
    "    \"context\": [Document(page_content=\"langsmith can let you visualize test results\")]\n",
    "}))\n"
   ]
  },
  {
   "cell_type": "code",
   "execution_count": 7,
   "metadata": {},
   "outputs": [
    {
     "data": {
      "text/markdown": [
       "Based on the provided context, LangSmith can help with testing in the following ways:\n",
       "\n",
       "1. **Test Driven Approach**: LangSmith allows developers to create datasets, which are collections of inputs and reference outputs, and use these to run tests on their LLM applications.\n",
       "2. **Native Rendering of Chat Messages**: LangSmith provides native rendering of chat messages, functions, and retrieve documents, making it easier to track the performance of and annotate your application across multiple turns.\n",
       "3. **Comparison View**: LangSmith's comparison view allows you to view results for different configurations on the same datapoints side-by-side, helping you diagnose regressions in test scores across multiple revisions of your application.\n",
       "4. **Playground Environment**: The playground environment enables rapid iteration and experimentation, allowing you to quickly test out different prompts and models.\n",
       "5. **Beta Testing**: LangSmith supports beta testing by allowing developers to collect more data on how their LLM applications are performing in real-world scenarios, including capturing feedback and annotating traces.\n",
       "6. **Adding Runs to a Dataset**: Langsmith enables users to add runs as examples to datasets, expanding test coverage on real-world scenarios.\n",
       "\n",
       "Overall, LangSmith provides various features that facilitate testing, experimentation, and evaluation of LLM applications, making it easier to develop, refine, and improve these applications."
      ],
      "text/plain": [
       "<IPython.core.display.Markdown object>"
      ]
     },
     "metadata": {},
     "output_type": "display_data"
    }
   ],
   "source": [
    "# However, we want the documents to first come from the retriever we just set up. \n",
    "retriever = vector.as_retriever()\n",
    "retrieval_chain = create_retrieval_chain(retriever, document_chain)\n",
    "\n",
    "# We can now invoke this chain. This returns a dictionary - the response from the LLM is in the answer key.\n",
    "response = retrieval_chain.invoke({\"input\": \"how can langsmith help with testing?\"})\n",
    "display(Markdown(response[\"answer\"]))\n"
   ]
  },
  {
   "cell_type": "markdown",
   "metadata": {},
   "source": [
    "# Conversation Retrieval Chain\n",
    "\n",
    "The chain we've created so far can only answer single questions. One of the main types of LLM applications that people are building are chat bots. So how do we turn this chain into one that can answer follow up questions?\n",
    "\n",
    "We can still use the create_retrieval_chain function, but we need to change two things:\n",
    "\n",
    "1. The retrieval method should now not just work on the most recent input, but rather should take the whole history into account.\n",
    "2. The final LLM chain should likewise take the whole history into account\n",
    "\n",
    "**Updating Retrieval**\n",
    "\n",
    "In order to update retrieval, we will create a new chain. This chain will take in the most recent input (input) and the conversation history (chat_history) and use an LLM to generate a search query."
   ]
  },
  {
   "cell_type": "code",
   "execution_count": 8,
   "metadata": {},
   "outputs": [
    {
     "data": {
      "text/plain": [
       "[Document(page_content='Skip to main contentLangSmith API DocsSearchGo to AppQuick StartUser GuideTracingEvaluationProduction Monitoring & AutomationsPrompt HubProxyPricingSelf-HostingCookbookUser GuideOn this pageLangSmith User GuideLangSmith is a platform for LLM application development, monitoring, and testing. In this guide, we’ll highlight the breadth of workflows LangSmith supports and how they fit into each stage of the application development lifecycle. We hope this will inform users how to best utilize this powerful platform or give them something to consider if they’re just starting their journey.Prototyping\\u200bPrototyping LLM applications often involves quick experimentation between prompts, model types, retrieval strategy and other parameters.\\nThe ability to rapidly understand how the model is performing — and debug where it is failing — is incredibly important for this phase.Debugging\\u200bWhen developing new LLM applications, we suggest having LangSmith tracing enabled by default.\\nOftentimes, it isn’t necessary to look at every single trace. However, when things go wrong (an unexpected end result, infinite agent loop, slower than expected execution, higher than expected token usage), it’s extremely helpful to debug by looking through the application traces. LangSmith gives clear visibility and debugging information at each step of an LLM sequence, making it much easier to identify and root-cause issues.\\nWe provide native rendering of chat messages, functions, and retrieve documents.Initial Test Set\\u200bWhile many developers still ship an initial version of their application based on “vibe checks”, we’ve seen an increasing number of engineering teams start to adopt a more test driven approach. LangSmith allows developers to create datasets, which are collections of inputs and reference outputs, and use these to run tests on their LLM applications.\\nThese test cases can be uploaded in bulk, created on the fly, or exported from application traces. LangSmith also makes it easy to run custom evaluations (both LLM and heuristic based) to score test results.Comparison View\\u200bWhen prototyping different versions of your applications and making changes, it’s important to see whether or not you’ve regressed with respect to your initial test cases.\\nOftentimes, changes in the prompt, retrieval strategy, or model choice can have huge implications in responses produced by your application.\\nIn order to get a sense for which variant is performing better, it’s useful to be able to view results for different configurations on the same datapoints side-by-side. We’ve invested heavily in a user-friendly comparison view for test runs to track and diagnose regressions in test scores across multiple revisions of your application.Playground\\u200bLangSmith provides a playground environment for rapid iteration and experimentation.\\nThis allows you to quickly test out different prompts and models. You can open the playground from any prompt or model run in your trace.', metadata={'source': 'https://docs.smith.langchain.com/user_guide', 'title': 'LangSmith User Guide | 🦜️🛠️ LangSmith', 'description': 'LangSmith is a platform for LLM application development, monitoring, and testing. In this guide, we’ll highlight the breadth of workflows LangSmith supports and how they fit into each stage of the application development lifecycle. We hope this will inform users how to best utilize this powerful platform or give them something to consider if they’re just starting their journey.', 'language': 'en'}),\n",
       " Document(page_content='LangSmith User Guide | 🦜️🛠️ LangSmith', metadata={'source': 'https://docs.smith.langchain.com/user_guide', 'title': 'LangSmith User Guide | 🦜️🛠️ LangSmith', 'description': 'LangSmith is a platform for LLM application development, monitoring, and testing. In this guide, we’ll highlight the breadth of workflows LangSmith supports and how they fit into each stage of the application development lifecycle. We hope this will inform users how to best utilize this powerful platform or give them something to consider if they’re just starting their journey.', 'language': 'en'}),\n",
       " Document(page_content='meaning that they involve a series of interactions between the user and the application. LangSmith provides a threads view that groups traces from a single conversation together, making it easier to track the performance of and annotate your application across multiple turns.Was this page helpful?PreviousQuick StartNextOverviewPrototypingBeta TestingProductionCommunityDiscordTwitterGitHubDocs CodeLangSmith SDKPythonJS/TSMoreHomepageBlogLangChain Python DocsLangChain JS/TS DocsCopyright © 2024 LangChain, Inc.', metadata={'source': 'https://docs.smith.langchain.com/user_guide', 'title': 'LangSmith User Guide | 🦜️🛠️ LangSmith', 'description': 'LangSmith is a platform for LLM application development, monitoring, and testing. In this guide, we’ll highlight the breadth of workflows LangSmith supports and how they fit into each stage of the application development lifecycle. We hope this will inform users how to best utilize this powerful platform or give them something to consider if they’re just starting their journey.', 'language': 'en'}),\n",
       " Document(page_content=\"Every playground run is logged in the system and can be used to create test cases or compare with other runs.Beta Testing\\u200bBeta testing allows developers to collect more data on how their LLM applications are performing in real-world scenarios. In this phase, it’s important to develop an understanding for the types of inputs the app is performing well or poorly on and how exactly it’s breaking down in those cases. Both feedback collection and run annotation are critical for this workflow. This will help in curation of test cases that can help track regressions/improvements and development of automatic evaluations.Capturing Feedback\\u200bWhen launching your application to an initial set of users, it’s important to gather human feedback on the responses it’s producing. This helps draw attention to the most interesting runs and highlight edge cases that are causing problematic responses. LangSmith allows you to attach feedback scores to logged traces (oftentimes, this is hooked up to a feedback button in your app), then filter on traces that have a specific feedback tag and score. A common workflow is to filter on traces that receive a poor user feedback score, then drill down into problematic points using the detailed trace view.Annotating Traces\\u200bLangSmith also supports sending runs to annotation queues, which allow annotators to closely inspect interesting traces and annotate them with respect to different criteria. Annotators can be PMs, engineers, or even subject matter experts. This allows users to catch regressions across important evaluation criteria.Adding Runs to a Dataset\\u200bAs your application progresses through the beta testing phase, it's essential to continue collecting data to refine and improve its performance. LangSmith enables you to add runs as examples to datasets (from both the project page and within an annotation queue), expanding your test coverage on real-world scenarios. This is a key benefit in having your logging system and your evaluation/testing system in the same platform.Production\\u200bClosely inspecting key data points, growing benchmarking datasets, annotating traces, and drilling down into important data in trace view are workflows you’ll also want to do once your app hits production.However, especially at the production stage, it’s crucial to get a high-level overview of application performance with respect to latency, cost, and feedback scores. This ensures that it's delivering desirable results at scale.Online evaluations and automations allow you to process and score production traces in near real-time.Additionally, threads provide a seamless way to group traces from a single conversation, making it easier to track the performance of your application across multiple turns.Monitoring and A/B Testing\\u200bLangSmith provides monitoring charts that allow you to track key metrics over time. You can expand to view metrics for a given period and drill down into a specific data point to get a trace table for that time period — this is especially handy for debugging production issues.LangSmith also allows for tag and metadata grouping, which allows users to mark different versions of their applications with different identifiers and view how they are performing side-by-side within each chart. This is helpful for A/B testing changes in prompt, model, or retrieval strategy.Automations\\u200bAutomations are a powerful feature in LangSmith that allow you to perform actions on traces in near real-time. This can be used to automatically score traces, send them to annotation queues, or send them to datasets.To define an automation, simply provide a filter condition, a sampling rate, and an action to perform. Automations are particularly helpful for processing traces at production scale.Threads\\u200bMany LLM applications are multi-turn, meaning that they involve a series of interactions between the user and the application. LangSmith provides a threads view that groups traces from a single conversation together, making it easier to\", metadata={'source': 'https://docs.smith.langchain.com/user_guide', 'title': 'LangSmith User Guide | 🦜️🛠️ LangSmith', 'description': 'LangSmith is a platform for LLM application development, monitoring, and testing. In this guide, we’ll highlight the breadth of workflows LangSmith supports and how they fit into each stage of the application development lifecycle. We hope this will inform users how to best utilize this powerful platform or give them something to consider if they’re just starting their journey.', 'language': 'en'})]"
      ]
     },
     "execution_count": 8,
     "metadata": {},
     "output_type": "execute_result"
    }
   ],
   "source": [
    "# First we need a prompt that we can pass into an LLM to generate this search query\n",
    "prompt = ChatPromptTemplate.from_messages([\n",
    "    MessagesPlaceholder(variable_name=\"chat_history\"),\n",
    "    (\"user\", \"{input}\"),\n",
    "    (\"user\", \"Given the above conversation, generate a search query to look up to get information relevant to the conversation\")\n",
    "])\n",
    "retriever_chain = create_history_aware_retriever(llm, retriever, prompt)\n",
    "\n",
    "# We can test this out by passing in an instance where the user asks a follow-up question.\n",
    "chat_history = [HumanMessage(content=\"Can LangSmith help test my LLM applications?\"), AIMessage(content=\"Yes!\")]\n",
    "retriever_chain.invoke({\n",
    "    \"chat_history\": chat_history,\n",
    "    \"input\": \"Tell me how\"\n",
    "})\n"
   ]
  },
  {
   "cell_type": "markdown",
   "metadata": {},
   "source": [
    "You should see that this returns documents about testing in LangSmith. This is because the LLM generated a new query, combining the chat history with the follow-up question.\n",
    "\n",
    "Now that we have this new retriever, we can create a new chain to continue the conversation with these retrieved documents in mind.\n"
   ]
  },
  {
   "cell_type": "code",
   "execution_count": 9,
   "metadata": {},
   "outputs": [
    {
     "data": {
      "text/markdown": [
       "LangSmith is a platform for LLM (Large Language Model) application development, monitoring, and testing. It provides various workflows to support different stages of the application development lifecycle.\n",
       "\n",
       "**Prototyping**: LangSmith allows you to rapidly experiment with different prompts, model types, retrieval strategies, and other parameters. You can quickly test out different scenarios and debug issues by looking at the trace information.\n",
       "\n",
       "**Debugging**: When things go wrong, Langsmith gives you clear visibility and debugging information for each step of an LLM sequence. This makes it easier to identify and root-cause issues.\n",
       "\n",
       "**Initial Test Set**: You can create datasets (collections of inputs and reference outputs) and use them to run tests on your LLM applications. These test cases can be uploaded in bulk, created on the fly, or exported from application traces.\n",
       "\n",
       "**Comparison View**: When prototyping different versions of your applications, Langsmith provides a comparison view to track and diagnose regressions in test scores across multiple revisions of your application.\n",
       "\n",
       "**Playground**: The playground environment allows you to quickly test out different prompts and models. Every playground run is logged in the system and can be used to create test cases or compare with other runs.\n",
       "\n",
       "In addition, Langsmith provides various features for testing and monitoring LLM applications:\n",
       "\n",
       "* **Beta Testing**: Collect more data on how your application is performing in real-world scenarios.\n",
       "* **Capturing Feedback**: Gather human feedback on the responses your application produces.\n",
       "* **Annotating Traces**: Send runs to annotation queues, where annotators can closely inspect interesting traces and annotate them with respect to different criteria.\n",
       "* **Adding Runs to a Dataset**: Expand your test coverage by adding runs as examples to datasets.\n",
       "* **Production Monitoring and A/B Testing**: Track key metrics over time, drill down into specific data points, and perform A/B testing for changes in prompt, model, or retrieval strategy.\n",
       "\n",
       "Langsmith also supports automations, which allow you to perform actions on traces in near real-time. This can be used to automatically score traces, send them to annotation queues, or add them to datasets.\n",
       "\n",
       "Overall, LangSmith provides a comprehensive platform for developing, testing, and monitoring LLM applications."
      ],
      "text/plain": [
       "<IPython.core.display.Markdown object>"
      ]
     },
     "metadata": {},
     "output_type": "display_data"
    }
   ],
   "source": [
    "prompt = ChatPromptTemplate.from_messages([\n",
    "    (\"system\", \"Answer the user's questions based on the below context:\\n\\n{context}\"),\n",
    "    MessagesPlaceholder(variable_name=\"chat_history\"),\n",
    "    (\"user\", \"{input}\"),\n",
    "])\n",
    "document_chain = create_stuff_documents_chain(llm, prompt)\n",
    "\n",
    "retrieval_chain = create_retrieval_chain(retriever_chain, document_chain)\n",
    "\n",
    "# We can now test this out end-to-end:\n",
    "chat_history = [HumanMessage(content=\"Can LangSmith help test my LLM applications?\"), AIMessage(content=\"Yes!\")]\n",
    "response = retrieval_chain.invoke({\n",
    "    \"chat_history\": chat_history,\n",
    "    \"input\": \"Tell me how\"\n",
    "})\n",
    "\n",
    "display(Markdown(response['answer']))"
   ]
  },
  {
   "cell_type": "markdown",
   "metadata": {},
   "source": [
    "# Agent\n",
    "\n",
    "We've so far created examples of chains - where each step is known ahead of time. The final thing we will create is an agent - where the LLM decides what steps to take.\n",
    "\n",
    "**NOTE: for this example we will only show how to create an agent using OpenAI models, as local models are not reliable enough yet.**\n",
    "\n",
    "One of the first things to do when building an agent is to decide what tools it should have access to. For this example, we will give the agent access to two tools:\n",
    "\n",
    "1. The retriever we just created. This will let it easily answer questions about LangSmith\n",
    "2. A search tool. This will let it easily answer questions that require up-to-date information.\n",
    "First, let's set up a tool for the retriever we just created:"
   ]
  },
  {
   "cell_type": "code",
   "execution_count": 10,
   "metadata": {},
   "outputs": [],
   "source": [
    "retriever_tool = create_retriever_tool(\n",
    "    retriever,\n",
    "    \"langsmith_search\",\n",
    "    \"Search for information about LangSmith. For any questions about LangSmith, you must use this tool!\",\n",
    ")\n",
    "\n",
    "# The search tool that we will use is Tavily. This will require an API key (they have generous free tier). \n",
    "# After creating it on their platform, you need to set it as an environment variable export TAVILY_API_KEY=...\n",
    "search = TavilySearchResults()\n",
    "\n",
    "# We can now create a list of the tools we want to work with:\n",
    "tools = [retriever_tool, search]\n",
    "\n",
    "# Now that we have the tools, we can create an agent to use them. \n",
    "# We will go over this pretty quickly - for a deeper dive into what exactly is going on, check out the Agent's Getting Started documentation\n",
    "\n",
    "# Get the prompt to use - you can modify this!\n",
    "prompt = hub.pull(\"hwchase17/openai-functions-agent\")\n",
    "\n",
    "llm = ChatOpenAI(model=\"gpt-3.5-turbo\", temperature=0)\n",
    "agent = create_openai_functions_agent(llm, tools, prompt)\n",
    "agent_executor = AgentExecutor(agent=agent, tools=tools, verbose=True)"
   ]
  },
  {
   "cell_type": "markdown",
   "metadata": {},
   "source": [
    "We can now invoke the agent and see how it responds! We can ask it questions about LangSmith:\n"
   ]
  },
  {
   "cell_type": "code",
   "execution_count": 11,
   "metadata": {},
   "outputs": [
    {
     "name": "stdout",
     "output_type": "stream",
     "text": [
      "\n",
      "\n",
      "\u001b[1m> Entering new AgentExecutor chain...\u001b[0m\n",
      "\u001b[32;1m\u001b[1;3m\n",
      "Invoking: `langsmith_search` with `{'query': 'how can LangSmith help with testing'}`\n",
      "\n",
      "\n",
      "\u001b[0m\u001b[36;1m\u001b[1;3mLangSmith User Guide | 🦜️🛠️ LangSmith\n",
      "\n",
      "meaning that they involve a series of interactions between the user and the application. LangSmith provides a threads view that groups traces from a single conversation together, making it easier to track the performance of and annotate your application across multiple turns.Was this page helpful?PreviousQuick StartNextOverviewPrototypingBeta TestingProductionCommunityDiscordTwitterGitHubDocs CodeLangSmith SDKPythonJS/TSMoreHomepageBlogLangChain Python DocsLangChain JS/TS DocsCopyright © 2024 LangChain, Inc.\n",
      "\n",
      "Skip to main contentLangSmith API DocsSearchGo to AppQuick StartUser GuideTracingEvaluationProduction Monitoring & AutomationsPrompt HubProxyPricingSelf-HostingCookbookUser GuideOn this pageLangSmith User GuideLangSmith is a platform for LLM application development, monitoring, and testing. In this guide, we’ll highlight the breadth of workflows LangSmith supports and how they fit into each stage of the application development lifecycle. We hope this will inform users how to best utilize this powerful platform or give them something to consider if they’re just starting their journey.Prototyping​Prototyping LLM applications often involves quick experimentation between prompts, model types, retrieval strategy and other parameters.\n",
      "The ability to rapidly understand how the model is performing — and debug where it is failing — is incredibly important for this phase.Debugging​When developing new LLM applications, we suggest having LangSmith tracing enabled by default.\n",
      "Oftentimes, it isn’t necessary to look at every single trace. However, when things go wrong (an unexpected end result, infinite agent loop, slower than expected execution, higher than expected token usage), it’s extremely helpful to debug by looking through the application traces. LangSmith gives clear visibility and debugging information at each step of an LLM sequence, making it much easier to identify and root-cause issues.\n",
      "We provide native rendering of chat messages, functions, and retrieve documents.Initial Test Set​While many developers still ship an initial version of their application based on “vibe checks”, we’ve seen an increasing number of engineering teams start to adopt a more test driven approach. LangSmith allows developers to create datasets, which are collections of inputs and reference outputs, and use these to run tests on their LLM applications.\n",
      "These test cases can be uploaded in bulk, created on the fly, or exported from application traces. LangSmith also makes it easy to run custom evaluations (both LLM and heuristic based) to score test results.Comparison View​When prototyping different versions of your applications and making changes, it’s important to see whether or not you’ve regressed with respect to your initial test cases.\n",
      "Oftentimes, changes in the prompt, retrieval strategy, or model choice can have huge implications in responses produced by your application.\n",
      "In order to get a sense for which variant is performing better, it’s useful to be able to view results for different configurations on the same datapoints side-by-side. We’ve invested heavily in a user-friendly comparison view for test runs to track and diagnose regressions in test scores across multiple revisions of your application.Playground​LangSmith provides a playground environment for rapid iteration and experimentation.\n",
      "This allows you to quickly test out different prompts and models. You can open the playground from any prompt or model run in your trace.\n",
      "\n",
      "Every playground run is logged in the system and can be used to create test cases or compare with other runs.Beta Testing​Beta testing allows developers to collect more data on how their LLM applications are performing in real-world scenarios. In this phase, it’s important to develop an understanding for the types of inputs the app is performing well or poorly on and how exactly it’s breaking down in those cases. Both feedback collection and run annotation are critical for this workflow. This will help in curation of test cases that can help track regressions/improvements and development of automatic evaluations.Capturing Feedback​When launching your application to an initial set of users, it’s important to gather human feedback on the responses it’s producing. This helps draw attention to the most interesting runs and highlight edge cases that are causing problematic responses. LangSmith allows you to attach feedback scores to logged traces (oftentimes, this is hooked up to a feedback button in your app), then filter on traces that have a specific feedback tag and score. A common workflow is to filter on traces that receive a poor user feedback score, then drill down into problematic points using the detailed trace view.Annotating Traces​LangSmith also supports sending runs to annotation queues, which allow annotators to closely inspect interesting traces and annotate them with respect to different criteria. Annotators can be PMs, engineers, or even subject matter experts. This allows users to catch regressions across important evaluation criteria.Adding Runs to a Dataset​As your application progresses through the beta testing phase, it's essential to continue collecting data to refine and improve its performance. LangSmith enables you to add runs as examples to datasets (from both the project page and within an annotation queue), expanding your test coverage on real-world scenarios. This is a key benefit in having your logging system and your evaluation/testing system in the same platform.Production​Closely inspecting key data points, growing benchmarking datasets, annotating traces, and drilling down into important data in trace view are workflows you’ll also want to do once your app hits production.However, especially at the production stage, it’s crucial to get a high-level overview of application performance with respect to latency, cost, and feedback scores. This ensures that it's delivering desirable results at scale.Online evaluations and automations allow you to process and score production traces in near real-time.Additionally, threads provide a seamless way to group traces from a single conversation, making it easier to track the performance of your application across multiple turns.Monitoring and A/B Testing​LangSmith provides monitoring charts that allow you to track key metrics over time. You can expand to view metrics for a given period and drill down into a specific data point to get a trace table for that time period — this is especially handy for debugging production issues.LangSmith also allows for tag and metadata grouping, which allows users to mark different versions of their applications with different identifiers and view how they are performing side-by-side within each chart. This is helpful for A/B testing changes in prompt, model, or retrieval strategy.Automations​Automations are a powerful feature in LangSmith that allow you to perform actions on traces in near real-time. This can be used to automatically score traces, send them to annotation queues, or send them to datasets.To define an automation, simply provide a filter condition, a sampling rate, and an action to perform. Automations are particularly helpful for processing traces at production scale.Threads​Many LLM applications are multi-turn, meaning that they involve a series of interactions between the user and the application. LangSmith provides a threads view that groups traces from a single conversation together, making it easier to\u001b[0m\u001b[32;1m\u001b[1;3mLangSmith can help with testing in the following ways:\n",
      "\n",
      "1. **Debugging**: LangSmith provides clear visibility and debugging information at each step of an LLM sequence, making it easier to identify and root-cause issues when things go wrong during testing.\n",
      "\n",
      "2. **Initial Test Set**: Developers can create datasets with collections of inputs and reference outputs to run tests on their LLM applications. LangSmith allows for running custom evaluations to score test results.\n",
      "\n",
      "3. **Comparison View**: It's important to see if there are regressions in test cases when prototyping different versions of applications. LangSmith offers a user-friendly comparison view to track and diagnose regressions in test scores across multiple revisions.\n",
      "\n",
      "4. **Playground**: LangSmith provides a playground environment for rapid iteration and experimentation, allowing developers to test out different prompts and models quickly.\n",
      "\n",
      "5. **Beta Testing**: During beta testing, LangSmith helps in collecting data on how LLM applications perform in real-world scenarios. It supports feedback collection, run annotation, and development of automatic evaluations to track regressions and improvements.\n",
      "\n",
      "6. **Monitoring and A/B Testing**: LangSmith provides monitoring charts to track key metrics over time, allowing for A/B testing changes in prompt, model, or retrieval strategy.\n",
      "\n",
      "7. **Automations**: Automations in LangSmith enable actions to be performed on traces in near real-time, such as automatically scoring traces, sending them to annotation queues, or adding them to datasets.\n",
      "\n",
      "8. **Threads**: LangSmith provides a threads view that groups traces from a single conversation together, making it easier to track the performance of applications across multiple turns during testing.\u001b[0m\n",
      "\n",
      "\u001b[1m> Finished chain.\u001b[0m\n"
     ]
    },
    {
     "data": {
      "text/markdown": [
       "LangSmith can help with testing in the following ways:\n",
       "\n",
       "1. **Debugging**: LangSmith provides clear visibility and debugging information at each step of an LLM sequence, making it easier to identify and root-cause issues when things go wrong during testing.\n",
       "\n",
       "2. **Initial Test Set**: Developers can create datasets with collections of inputs and reference outputs to run tests on their LLM applications. LangSmith allows for running custom evaluations to score test results.\n",
       "\n",
       "3. **Comparison View**: It's important to see if there are regressions in test cases when prototyping different versions of applications. LangSmith offers a user-friendly comparison view to track and diagnose regressions in test scores across multiple revisions.\n",
       "\n",
       "4. **Playground**: LangSmith provides a playground environment for rapid iteration and experimentation, allowing developers to test out different prompts and models quickly.\n",
       "\n",
       "5. **Beta Testing**: During beta testing, LangSmith helps in collecting data on how LLM applications perform in real-world scenarios. It supports feedback collection, run annotation, and development of automatic evaluations to track regressions and improvements.\n",
       "\n",
       "6. **Monitoring and A/B Testing**: LangSmith provides monitoring charts to track key metrics over time, allowing for A/B testing changes in prompt, model, or retrieval strategy.\n",
       "\n",
       "7. **Automations**: Automations in LangSmith enable actions to be performed on traces in near real-time, such as automatically scoring traces, sending them to annotation queues, or adding them to datasets.\n",
       "\n",
       "8. **Threads**: LangSmith provides a threads view that groups traces from a single conversation together, making it easier to track the performance of applications across multiple turns during testing."
      ],
      "text/plain": [
       "<IPython.core.display.Markdown object>"
      ]
     },
     "metadata": {},
     "output_type": "display_data"
    }
   ],
   "source": [
    "# We can now invoke the agent and see how it responds! We can ask it questions about LangSmith:\n",
    "display(Markdown(agent_executor.invoke({\"input\": \"how can langsmith help with testing?\"})['output']))"
   ]
  },
  {
   "cell_type": "markdown",
   "metadata": {},
   "source": [
    "We can ask it about the weather:\n",
    "\n"
   ]
  },
  {
   "cell_type": "code",
   "execution_count": 13,
   "metadata": {},
   "outputs": [
    {
     "name": "stdout",
     "output_type": "stream",
     "text": [
      "\n",
      "\n",
      "\u001b[1m> Entering new AgentExecutor chain...\u001b[0m\n",
      "\u001b[32;1m\u001b[1;3m\n",
      "Invoking: `tavily_search_results_json` with `{'query': 'weather in Antwerp in Celsius'}`\n",
      "\n",
      "\n",
      "\u001b[0m\u001b[33;1m\u001b[1;3m[{'url': 'https://www.weatherapi.com/', 'content': \"{'location': {'name': 'Antwerp', 'region': '', 'country': 'Belgium', 'lat': 51.22, 'lon': 4.42, 'tz_id': 'Europe/Brussels', 'localtime_epoch': 1713905217, 'localtime': '2024-04-23 22:46'}, 'current': {'last_updated_epoch': 1713905100, 'last_updated': '2024-04-23 22:45', 'temp_c': 7.0, 'temp_f': 44.6, 'is_day': 0, 'condition': {'text': 'Light rain', 'icon': '//cdn.weatherapi.com/weather/64x64/night/296.png', 'code': 1183}, 'wind_mph': 5.6, 'wind_kph': 9.0, 'wind_degree': 310, 'wind_dir': 'NW', 'pressure_mb': 1016.0, 'pressure_in': 30.0, 'precip_mm': 0.04, 'precip_in': 0.0, 'humidity': 87, 'cloud': 75, 'feelslike_c': 3.8, 'feelslike_f': 38.9, 'vis_km': 10.0, 'vis_miles': 6.0, 'uv': 1.0, 'gust_mph': 17.3, 'gust_kph': 27.9}}\"}, {'url': 'https://www.timeanddate.com/weather/belgium/antwerp/ext', 'content': 'Antwerp 14 Day Extended Forecast. Weather Today Weather Hourly 14 Day Forecast Yesterday/Past Weather Climate (Averages) Currently: 41 °F. Passing clouds. (Weather station: Antwerp / Deurne, Belgium). See more current weather.'}, {'url': 'https://www.accuweather.com/en/be/antwerp/27046/weather-forecast/27046', 'content': 'Antwerp, Antwerp, Belgium Weather Forecast, with current conditions, wind, air quality, and what to expect for the next 3 days.'}, {'url': 'https://www.weather-atlas.com/en/belgium/antwerp-weather-april', 'content': 'Antwerp observes a slight ascent in average high-temperatures during April, adjusting from a fresh 10.8°C (51.4°F) in March to a mild 15.4°C (59.7°F). The average low-temperature of 6.4°C (43.5°F) is witnessed in Antwerp, Belgium, during April. Humidity The least humid month in Antwerp is April, with an average relative humidity of 73% ...'}, {'url': 'https://www.whereandwhen.net/when/europe/belgium/antwerp/april/', 'content': 'Weather in Antwerp in april 2024. The weather in Antwerp in april comes from statistical datas on the past years. You can view the weather statistics the entire month, but also by using the tabs for the beginning, the middle and the end of the month. ... 23-04-2023 50°F to 59°F. 24-04-2023 49°F to 52°F. 25-04-2023 38°F to 52°F. 26-04-2023 ...'}]\u001b[0m\u001b[32;1m\u001b[1;3mThe current weather in Antwerp, Belgium is 7.0°C with light rain.\u001b[0m\n",
      "\n",
      "\u001b[1m> Finished chain.\u001b[0m\n"
     ]
    },
    {
     "data": {
      "text/markdown": [
       "The current weather in Antwerp, Belgium is 7.0°C with light rain."
      ],
      "text/plain": [
       "<IPython.core.display.Markdown object>"
      ]
     },
     "metadata": {},
     "output_type": "display_data"
    }
   ],
   "source": [
    "display(Markdown(agent_executor.invoke({\"input\": \"what is the weather in Antwerp in celcius?\"})['output']))"
   ]
  },
  {
   "cell_type": "markdown",
   "metadata": {},
   "source": [
    "We can have conversations with it:"
   ]
  },
  {
   "cell_type": "code",
   "execution_count": 15,
   "metadata": {},
   "outputs": [
    {
     "name": "stdout",
     "output_type": "stream",
     "text": [
      "\n",
      "\n",
      "\u001b[1m> Entering new AgentExecutor chain...\u001b[0m\n",
      "\u001b[32;1m\u001b[1;3m\n",
      "Invoking: `langsmith_search` with `{'query': 'LangSmith LLM application testing services'}`\n",
      "\n",
      "\n",
      "\u001b[0m\u001b[36;1m\u001b[1;3mSkip to main contentLangSmith API DocsSearchGo to AppQuick StartUser GuideTracingEvaluationProduction Monitoring & AutomationsPrompt HubProxyPricingSelf-HostingCookbookUser GuideOn this pageLangSmith User GuideLangSmith is a platform for LLM application development, monitoring, and testing. In this guide, we’ll highlight the breadth of workflows LangSmith supports and how they fit into each stage of the application development lifecycle. We hope this will inform users how to best utilize this powerful platform or give them something to consider if they’re just starting their journey.Prototyping​Prototyping LLM applications often involves quick experimentation between prompts, model types, retrieval strategy and other parameters.\n",
      "The ability to rapidly understand how the model is performing — and debug where it is failing — is incredibly important for this phase.Debugging​When developing new LLM applications, we suggest having LangSmith tracing enabled by default.\n",
      "Oftentimes, it isn’t necessary to look at every single trace. However, when things go wrong (an unexpected end result, infinite agent loop, slower than expected execution, higher than expected token usage), it’s extremely helpful to debug by looking through the application traces. LangSmith gives clear visibility and debugging information at each step of an LLM sequence, making it much easier to identify and root-cause issues.\n",
      "We provide native rendering of chat messages, functions, and retrieve documents.Initial Test Set​While many developers still ship an initial version of their application based on “vibe checks”, we’ve seen an increasing number of engineering teams start to adopt a more test driven approach. LangSmith allows developers to create datasets, which are collections of inputs and reference outputs, and use these to run tests on their LLM applications.\n",
      "These test cases can be uploaded in bulk, created on the fly, or exported from application traces. LangSmith also makes it easy to run custom evaluations (both LLM and heuristic based) to score test results.Comparison View​When prototyping different versions of your applications and making changes, it’s important to see whether or not you’ve regressed with respect to your initial test cases.\n",
      "Oftentimes, changes in the prompt, retrieval strategy, or model choice can have huge implications in responses produced by your application.\n",
      "In order to get a sense for which variant is performing better, it’s useful to be able to view results for different configurations on the same datapoints side-by-side. We’ve invested heavily in a user-friendly comparison view for test runs to track and diagnose regressions in test scores across multiple revisions of your application.Playground​LangSmith provides a playground environment for rapid iteration and experimentation.\n",
      "This allows you to quickly test out different prompts and models. You can open the playground from any prompt or model run in your trace.\n",
      "\n",
      "meaning that they involve a series of interactions between the user and the application. LangSmith provides a threads view that groups traces from a single conversation together, making it easier to track the performance of and annotate your application across multiple turns.Was this page helpful?PreviousQuick StartNextOverviewPrototypingBeta TestingProductionCommunityDiscordTwitterGitHubDocs CodeLangSmith SDKPythonJS/TSMoreHomepageBlogLangChain Python DocsLangChain JS/TS DocsCopyright © 2024 LangChain, Inc.\n",
      "\n",
      "LangSmith User Guide | 🦜️🛠️ LangSmith\n",
      "\n",
      "Every playground run is logged in the system and can be used to create test cases or compare with other runs.Beta Testing​Beta testing allows developers to collect more data on how their LLM applications are performing in real-world scenarios. In this phase, it’s important to develop an understanding for the types of inputs the app is performing well or poorly on and how exactly it’s breaking down in those cases. Both feedback collection and run annotation are critical for this workflow. This will help in curation of test cases that can help track regressions/improvements and development of automatic evaluations.Capturing Feedback​When launching your application to an initial set of users, it’s important to gather human feedback on the responses it’s producing. This helps draw attention to the most interesting runs and highlight edge cases that are causing problematic responses. LangSmith allows you to attach feedback scores to logged traces (oftentimes, this is hooked up to a feedback button in your app), then filter on traces that have a specific feedback tag and score. A common workflow is to filter on traces that receive a poor user feedback score, then drill down into problematic points using the detailed trace view.Annotating Traces​LangSmith also supports sending runs to annotation queues, which allow annotators to closely inspect interesting traces and annotate them with respect to different criteria. Annotators can be PMs, engineers, or even subject matter experts. This allows users to catch regressions across important evaluation criteria.Adding Runs to a Dataset​As your application progresses through the beta testing phase, it's essential to continue collecting data to refine and improve its performance. LangSmith enables you to add runs as examples to datasets (from both the project page and within an annotation queue), expanding your test coverage on real-world scenarios. This is a key benefit in having your logging system and your evaluation/testing system in the same platform.Production​Closely inspecting key data points, growing benchmarking datasets, annotating traces, and drilling down into important data in trace view are workflows you’ll also want to do once your app hits production.However, especially at the production stage, it’s crucial to get a high-level overview of application performance with respect to latency, cost, and feedback scores. This ensures that it's delivering desirable results at scale.Online evaluations and automations allow you to process and score production traces in near real-time.Additionally, threads provide a seamless way to group traces from a single conversation, making it easier to track the performance of your application across multiple turns.Monitoring and A/B Testing​LangSmith provides monitoring charts that allow you to track key metrics over time. You can expand to view metrics for a given period and drill down into a specific data point to get a trace table for that time period — this is especially handy for debugging production issues.LangSmith also allows for tag and metadata grouping, which allows users to mark different versions of their applications with different identifiers and view how they are performing side-by-side within each chart. This is helpful for A/B testing changes in prompt, model, or retrieval strategy.Automations​Automations are a powerful feature in LangSmith that allow you to perform actions on traces in near real-time. This can be used to automatically score traces, send them to annotation queues, or send them to datasets.To define an automation, simply provide a filter condition, a sampling rate, and an action to perform. Automations are particularly helpful for processing traces at production scale.Threads​Many LLM applications are multi-turn, meaning that they involve a series of interactions between the user and the application. LangSmith provides a threads view that groups traces from a single conversation together, making it easier to\u001b[0m\u001b[32;1m\u001b[1;3mLangSmith provides a platform for LLM application development, monitoring, and testing. Here are some ways LangSmith can help test your LLM applications:\n",
      "\n",
      "1. Prototyping: LangSmith supports quick experimentation between prompts, model types, retrieval strategies, and other parameters for prototyping LLM applications.\n",
      "\n",
      "2. Debugging: LangSmith offers tracing capabilities to help developers debug issues in their LLM applications, providing clear visibility and debugging information at each step of an LLM sequence.\n",
      "\n",
      "3. Initial Test Set: Developers can create datasets of inputs and reference outputs to run tests on their LLM applications, allowing for custom evaluations to score test results.\n",
      "\n",
      "4. Comparison View: LangSmith provides a comparison view for test runs to track and diagnose regressions in test scores across multiple revisions of an application.\n",
      "\n",
      "5. Playground: LangSmith offers a playground environment for rapid iteration and experimentation, allowing developers to test out different prompts and models quickly.\n",
      "\n",
      "6. Beta Testing: Developers can use LangSmith for beta testing to collect data on how their LLM applications perform in real-world scenarios, capture feedback, annotate traces, and add runs to datasets for refinement and improvement.\n",
      "\n",
      "7. Production Monitoring: LangSmith enables developers to closely inspect key data points, monitor application performance metrics over time, and conduct A/B testing to track changes in prompt, model, or retrieval strategy.\n",
      "\n",
      "8. Automations: LangSmith's automation feature allows developers to perform actions on traces in near real-time, such as automatically scoring traces, sending them to annotation queues, or adding them to datasets.\n",
      "\n",
      "Overall, LangSmith offers a comprehensive set of tools and features to support the testing and development of LLM applications.\u001b[0m\n",
      "\n",
      "\u001b[1m> Finished chain.\u001b[0m\n"
     ]
    },
    {
     "data": {
      "text/markdown": [
       "LangSmith provides a platform for LLM application development, monitoring, and testing. Here are some ways LangSmith can help test your LLM applications:\n",
       "\n",
       "1. Prototyping: LangSmith supports quick experimentation between prompts, model types, retrieval strategies, and other parameters for prototyping LLM applications.\n",
       "\n",
       "2. Debugging: LangSmith offers tracing capabilities to help developers debug issues in their LLM applications, providing clear visibility and debugging information at each step of an LLM sequence.\n",
       "\n",
       "3. Initial Test Set: Developers can create datasets of inputs and reference outputs to run tests on their LLM applications, allowing for custom evaluations to score test results.\n",
       "\n",
       "4. Comparison View: LangSmith provides a comparison view for test runs to track and diagnose regressions in test scores across multiple revisions of an application.\n",
       "\n",
       "5. Playground: LangSmith offers a playground environment for rapid iteration and experimentation, allowing developers to test out different prompts and models quickly.\n",
       "\n",
       "6. Beta Testing: Developers can use LangSmith for beta testing to collect data on how their LLM applications perform in real-world scenarios, capture feedback, annotate traces, and add runs to datasets for refinement and improvement.\n",
       "\n",
       "7. Production Monitoring: LangSmith enables developers to closely inspect key data points, monitor application performance metrics over time, and conduct A/B testing to track changes in prompt, model, or retrieval strategy.\n",
       "\n",
       "8. Automations: LangSmith's automation feature allows developers to perform actions on traces in near real-time, such as automatically scoring traces, sending them to annotation queues, or adding them to datasets.\n",
       "\n",
       "Overall, LangSmith offers a comprehensive set of tools and features to support the testing and development of LLM applications."
      ],
      "text/plain": [
       "<IPython.core.display.Markdown object>"
      ]
     },
     "metadata": {},
     "output_type": "display_data"
    }
   ],
   "source": [
    "chat_history = [HumanMessage(content=\"Can LangSmith help test my LLM applications?\"), AIMessage(content=\"Yes!\")]\n",
    "display(Markdown(agent_executor.invoke({\n",
    "    \"chat_history\": chat_history,\n",
    "    \"input\": \"Tell me how\"\n",
    "})['output']))"
   ]
  },
  {
   "cell_type": "markdown",
   "metadata": {},
   "source": [
    "# Serving with LangServe\n",
    "\n",
    "Now that we've built an application, we need to serve it. That's where LangServe comes in. LangServe helps developers deploy LangChain chains as a REST API. You do not need to use LangServe to use LangChain, but in this guide we'll show how you can deploy your app with LangServe.\n",
    "\n",
    "While the first part of this guide was intended to be run in a Jupyter Notebook, we will now move out of that. We will be creating a Python file and then interacting with it from the command line.\n",
    "\n",
    "Install with:\n",
    "\n",
    "```bash\n",
    "pip install \"langserve[all]\"\n",
    "```\n",
    "\n",
    "## Server\n",
    "To create a server for our application we'll make a serve.py file. This will contain our logic for serving our application. It consists of three things:\n",
    "\n",
    "1. The definition of our chain that we just built above\n",
    "2. Our FastAPI app\n",
    "3. A definition of a route from which to serve the chain, which is done with langserve.add_routes\n",
    "\n",
    "\n",
    "### Playground \n",
    "Every LangServe service comes with a simple built-in UI for configuring and invoking the application with streaming output and visibility into intermediate steps. Head to http://localhost:8000/agent/playground/ to try it out! Pass in the same question as before - \"how can langsmith help with testing?\" - and it should respond same as before.\n",
    "\n",
    "### Client\n",
    "Now let's set up a client for programmatically interacting with our service. We can easily do this with the [langserve.RemoteRunnable](/docs/langserve#client). Using this, we can interact with the served chain as if it were running client-side."
   ]
  },
  {
   "cell_type": "code",
   "execution_count": 17,
   "metadata": {},
   "outputs": [
    {
     "data": {
      "text/markdown": [
       "LangSmith can help with testing in various ways throughout the application development lifecycle. Here are some key ways LangSmith can assist with testing:\n",
       "\n",
       "1. Prototyping: LangSmith supports quick experimentation between prompts, model types, retrieval strategies, and other parameters for LLM applications.\n",
       "2. Debugging: LangSmith provides tracing capabilities to help developers debug issues in LLM applications by offering clear visibility and debugging information at each step of an LLM sequence.\n",
       "3. Initial Test Set: Developers can create datasets of inputs and reference outputs to run tests on LLM applications, allowing for test cases to be uploaded, created, or exported from application traces.\n",
       "4. Comparison View: LangSmith offers a comparison view for test runs to track and diagnose regressions in test scores across multiple revisions of an application.\n",
       "5. Playground: LangSmith provides a playground environment for rapid iteration and experimentation with different prompts and models.\n",
       "6. Beta Testing: Developers can collect data on how LLM applications perform in real-world scenarios, gather feedback, and develop automatic evaluations during beta testing.\n",
       "7. Capturing Feedback: LangSmith allows developers to gather human feedback on application responses and attach feedback scores to logged traces for analysis.\n",
       "8. Annotating Traces: Users can send runs to annotation queues for close inspection and annotation by annotators to catch regressions across important evaluation criteria.\n",
       "9. Production Monitoring: LangSmith enables users to closely inspect key data points, grow benchmarking datasets, and monitor application performance with respect to latency, cost, and feedback scores in production.\n",
       "10. A/B Testing: LangSmith supports A/B testing by providing monitoring charts to track key metrics over time and allowing for tag and metadata grouping to compare different versions of applications.\n",
       "11. Automations: Users can define automations in LangSmith to perform actions on traces in near real-time, such as scoring traces, sending them to annotation queues, or adding them to datasets.\n",
       "12. Threads: LangSmith provides a threads view to group traces from a single conversation together, making it easier to track the performance of multi-turn LLM applications.\n",
       "\n",
       "These features in LangSmith can enhance the testing process and help developers ensure the quality and performance of their LLM applications."
      ],
      "text/plain": [
       "<IPython.core.display.Markdown object>"
      ]
     },
     "metadata": {},
     "output_type": "display_data"
    }
   ],
   "source": [
    "from langserve import RemoteRunnable\n",
    "\n",
    "remote_chain = RemoteRunnable(\"http://localhost:8000/agent/\")\n",
    "display(Markdown(remote_chain.invoke({\n",
    "    \"input\": \"how can langsmith help with testing?\",\n",
    "    \"chat_history\": []  # Providing an empty list as this is the first call\n",
    "})['output']))"
   ]
  }
 ],
 "metadata": {
  "kernelspec": {
   "display_name": ".venv",
   "language": "python",
   "name": "python3"
  },
  "language_info": {
   "codemirror_mode": {
    "name": "ipython",
    "version": 3
   },
   "file_extension": ".py",
   "mimetype": "text/x-python",
   "name": "python",
   "nbconvert_exporter": "python",
   "pygments_lexer": "ipython3",
   "version": "3.12.2"
  }
 },
 "nbformat": 4,
 "nbformat_minor": 2
}
