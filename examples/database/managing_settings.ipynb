{
 "cells": [
  {
   "cell_type": "markdown",
   "metadata": {},
   "source": [
    "# Database Setting\n",
    "Using these functions, the settings of Vectrix can be managed"
   ]
  },
  {
   "cell_type": "code",
   "execution_count": 2,
   "metadata": {},
   "outputs": [],
   "source": [
    "import os\n",
    "from dotenv import load_dotenv\n",
    "load_dotenv()\n",
    "from vectrix.db.postgresql import PromptManager\n",
    "\n",
    "prompt_manager = PromptManager(os.getenv(\"DB_URI\"))"
   ]
  },
  {
   "cell_type": "markdown",
   "metadata": {},
   "source": [
    "### Adding Prompts"
   ]
  },
  {
   "cell_type": "code",
   "execution_count": 11,
   "metadata": {},
   "outputs": [
    {
     "name": "stdout",
     "output_type": "stream",
     "text": [
      "Added new prompt: cite_sources\n"
     ]
    },
    {
     "data": {
      "text/plain": [
       "7"
      ]
     },
     "execution_count": 11,
     "metadata": {},
     "output_type": "execute_result"
    }
   ],
   "source": [
    "prompt  = \"\"\"\n",
    "You are tasked with extracting relevant citations from a list of sources to answer a given question. Your goal is to find the most pertinent information from each source that directly addresses the question.\n",
    "\n",
    "Here is the question you need to answer:\n",
    "<question>\n",
    "{QUESTION}\n",
    "</question>\n",
    "\n",
    "You will be provided with a list of sources. Each source contains the following information:\n",
    "1. Source text\n",
    "2. URL of the source\n",
    "\n",
    "Your task is to:\n",
    "1. Read through each source carefully.\n",
    "2. Identify the most relevant snippet of text (up to 300 characters) that helps answer the question.\n",
    "3. Extract only one snippet per source.\n",
    "4. Format the output as a function call for each relevant snippet found.\n",
    "\n",
    "Important guidelines:\n",
    "- Ensure that each extracted snippet is directly relevant to the question.\n",
    "- Keep the extracted text to a maximum of 300 characters.\n",
    "- Include only one snippet per source.\n",
    "- If a source does not contain relevant information, do not include it in the output.\n",
    "- Do not modify or summarize the text; extract it verbatim from the source.\n",
    "- Ensure that the extracted text is coherent and can stand alone as a piece of information.\n",
    "\n",
    "Now, proceed to analyze the following sources and extract the relevant citations:\n",
    "<sources>\n",
    "{SOURCES}\n",
    "</sources>\n",
    "\"\"\"\n",
    "\n",
    "prompt_manager.add_prompt(\"cite_sources\", prompt)"
   ]
  },
  {
   "cell_type": "markdown",
   "metadata": {},
   "source": [
    "### Listing Prompts"
   ]
  },
  {
   "cell_type": "code",
   "execution_count": 7,
   "metadata": {},
   "outputs": [
    {
     "name": "stdout",
     "output_type": "stream",
     "text": [
      "ID: 2, Name: answer_question_based_on_context, Prompt: \n",
      "You are an AI assistant designed to answer questions based on given context. Your task is to analyze the provided context and answer the question accurately. If the answer is not found in the context, you should respond with \"I don't know\".\n",
      "\n",
      "You will receive input in the following format:\n",
      "\n",
      "<context>\n",
      "{context}\n",
      "</context>\n",
      "\n",
      "This context contains an article with its title, content, and URL.\n",
      "\n",
      "You will also receive a question:\n",
      "\n",
      "<question>\n",
      "{question}\n",
      "</question>\n",
      "\n",
      "To complete this task, follow these steps:\n",
      "\n",
      "1. Carefully read and analyze the provided context.\n",
      "2. Determine if the answer to the question can be found in the context.\n",
      "3. If the answer is in the context:\n",
      "   a. Formulate a clear and concise answer based on the information in the article.\n",
      "   b. Identify the specific quote(s) from the article that support your answer.\n",
      "4. If the answer is not in the context, prepare to respond with \"I don't know\".\n",
      "5. Format your response as a function call using the following structure:\n",
      ", Created: 2024-07-30 09:36:25.165903+00:00, Updated: 2024-07-30 09:36:25.165917+00:00\n",
      "ID: 3, Name: generate_question_alternatives, Prompt: \n",
      "You are tasked with generating alternative formulations of a given question. Your goal is to create three different questions that ask for the same information as the original question, but are phrased differently.\n",
      "\n",
      "Here is the original question:\n",
      "<original_question>\n",
      "{QUESTION}\n",
      "</original_question>\n",
      "\n",
      "To generate alternative questions:\n",
      "1. Analyze the original question to understand its core meaning and intent.\n",
      "2. Create three new questions that seek the same information but use different words, sentence structures, or perspectives.\n",
      "3. Ensure that each alternative question is distinct from the others and from the original question.\n",
      "4. Maintain the same level of formality and tone as the original question.\n",
      "\n",
      "Your output should be a JSON list containing exactly three alternative questions. Each question should be a string within the list.\n",
      ", Created: 2024-07-31 13:20:18.187858+00:00, Updated: 2024-07-31 13:20:18.187868+00:00\n",
      "ID: 4, Name: answer_question, Prompt: \n",
      "You are an AI assistant tasked with answering questions based solely on the provided sources. Your goal is to provide accurate answers using only the information given, without adding any external knowledge or assumptions.\n",
      "\n",
      "Here are the sources you should use to answer the question:\n",
      "\n",
      "<sources>\n",
      "{SOURCES}\n",
      "</sources>\n",
      "\n",
      "Now, here is the question you need to answer:\n",
      "\n",
      "<question>\n",
      "{QUESTION}\n",
      "</question>\n",
      "\n",
      "To answer this question, follow these steps:\n",
      "\n",
      "1. Carefully read through all the provided sources.\n",
      "2. Identify any information in the sources that is relevant to answering the question.\n",
      "3. If you find relevant information, use it to formulate your answer. Make sure your answer is based solely on the information from the sources.\n",
      "4. If you cannot find any relevant information in the sources to answer the question, simply respond with \"I don't know.\"\n",
      "5. Do not use any external knowledge or make any assumptions beyond what is explicitly stated in the sources.\n",
      "\n",
      "Remember, it's crucial to rely only on the information provided in the sources. If the sources do not contain enough information to answer the question confidently, it's better to say \"I don't know\" than to speculate or use external knowledge.\n",
      ", Created: 2024-08-01 15:19:01.447639+00:00, Updated: 2024-08-01 15:19:01.447649+00:00\n",
      "ID: 5, Name: cite_sources, Prompt: \n",
      "You are tasked with extracting relevant citations from a list of sources to answer a given question. Your goal is to find the most pertinent information from each source that directly addresses the question.\n",
      "\n",
      "Here is the question you need to answer:\n",
      "<question>\n",
      "{QUESTION}\n",
      "</question>\n",
      "\n",
      "You will be provided with a list of sources. Each source contains the following information:\n",
      "1. Source text\n",
      "2. URL of the source\n",
      "\n",
      "Your task is to:\n",
      "1. Read through each source carefully.\n",
      "2. Identify the most relevant snippet of text (up to 300 characters) that helps answer the question.\n",
      "3. Extract only one snippet per source.\n",
      "4. Format the output as a function call for each relevant snippet found.\n",
      "\n",
      "The output for each relevant snippet should be formatted as follows:\n",
      "<function_call>\n",
      "{\n",
      "  \"source\": \"Extracted text snippet (max 300 characters)\",\n",
      "  \"url\": \"URL of the source\"\n",
      "}\n",
      "</function_call>\n",
      "\n",
      "Here's an example of how your output should look:\n",
      "\n",
      "<function_call>\n",
      "{\n",
      "  \"source\": \"The Great Barrier Reef is the world's largest coral reef system, stretching for over 2,300 kilometers along the northeast coast of Australia.\",\n",
      "  \"url\": \"https://example.com/great-barrier-reef-info\"\n",
      "}\n",
      "</function_call>\n",
      "\n",
      "Important guidelines:\n",
      "- Ensure that each extracted snippet is directly relevant to the question.\n",
      "- Keep the extracted text to a maximum of 300 characters.\n",
      "- Include only one snippet per source.\n",
      "- If a source does not contain relevant information, do not include it in the output.\n",
      "- Do not modify or summarize the text; extract it verbatim from the source.\n",
      "- Ensure that the extracted text is coherent and can stand alone as a piece of information.\n",
      "\n",
      "Now, proceed to analyze the following sources and extract the relevant citations:\n",
      "\n",
      "<sources>\n",
      "{SOURCES}\n",
      "</sources>\n",
      ", Created: 2024-08-01 15:43:35.488259+00:00, Updated: 2024-08-01 15:43:35.488264+00:00\n",
      "ID: 6, Name: cite_sources, Prompt: \n",
      "You are tasked with extracting relevant citations from a list of sources to answer a given question. Your goal is to find the most pertinent information from each source that directly addresses the question.\n",
      "\n",
      "Here is the question you need to answer:\n",
      "<question>\n",
      "{QUESTION}\n",
      "</question>\n",
      "\n",
      "You will be provided with a list of sources. Each source contains the following information:\n",
      "1. Source text\n",
      "2. URL of the source\n",
      "\n",
      "Your task is to:\n",
      "1. Read through each source carefully.\n",
      "2. Identify the most relevant snippet of text (up to 300 characters) that helps answer the question.\n",
      "3. Extract only one snippet per source.\n",
      "4. Format the output as a function call for each relevant snippet found.\n",
      "\n",
      "Important guidelines:\n",
      "- Ensure that each extracted snippet is directly relevant to the question.\n",
      "- Keep the extracted text to a maximum of 300 characters.\n",
      "- Include only one snippet per source.\n",
      "- If a source does not contain relevant information, do not include it in the output.\n",
      "- Do not modify or summarize the text; extract it verbatim from the source.\n",
      "- Ensure that the extracted text is coherent and can stand alone as a piece of information.\n",
      "\n",
      "Now, proceed to analyze the following sources and extract the relevant citations:\n",
      "<sources>\n",
      "{SOURCES}\n",
      "</sources>\n",
      ", Created: 2024-08-02 14:13:31.604228+00:00, Updated: 2024-08-02 14:13:31.604242+00:00\n"
     ]
    }
   ],
   "source": [
    "all_prompts = prompt_manager.get_all_prompts()\n",
    "for prompt in all_prompts:\n",
    "    print(f\"ID: {prompt.id}, Name: {prompt.name}, Prompt: {prompt.prompt}, Created: {prompt.creation_date}, Updated: {prompt.update_date}\")"
   ]
  },
  {
   "cell_type": "code",
   "execution_count": 13,
   "metadata": {},
   "outputs": [
    {
     "name": "stdout",
     "output_type": "stream",
     "text": [
      "\n",
      "You are tasked with generating alternative formulations of a given question. Your goal is to create three different questions that ask for the same information as the original question, but are phrased differently.\n",
      "\n",
      "Here is the original question:\n",
      "<original_question>\n",
      "{QUESTION}\n",
      "</original_question>\n",
      "\n",
      "To generate alternative questions:\n",
      "1. Analyze the original question to understand its core meaning and intent.\n",
      "2. Create three new questions that seek the same information but use different words, sentence structures, or perspectives.\n",
      "3. Ensure that each alternative question is distinct from the others and from the original question.\n",
      "4. Maintain the same level of formality and tone as the original question.\n",
      "\n",
      "Your output should be a JSON list containing exactly three alternative questions. Each question should be a string within the list.\n",
      "\n"
     ]
    }
   ],
   "source": [
    "print(prompt_manager.get_prompt_by_name('generate_question_alternatives'))"
   ]
  },
  {
   "cell_type": "markdown",
   "metadata": {},
   "source": [
    "## Remove a prompt"
   ]
  },
  {
   "cell_type": "code",
   "execution_count": 9,
   "metadata": {},
   "outputs": [
    {
     "name": "stdout",
     "output_type": "stream",
     "text": [
      "Removed prompt with ID: 5\n"
     ]
    },
    {
     "data": {
      "text/plain": [
       "True"
      ]
     },
     "execution_count": 9,
     "metadata": {},
     "output_type": "execute_result"
    }
   ],
   "source": [
    "prompt_manager.remove_prompt(5)"
   ]
  }
 ],
 "metadata": {
  "kernelspec": {
   "display_name": ".venv",
   "language": "python",
   "name": "python3"
  },
  "language_info": {
   "codemirror_mode": {
    "name": "ipython",
    "version": 3
   },
   "file_extension": ".py",
   "mimetype": "text/x-python",
   "name": "python",
   "nbconvert_exporter": "python",
   "pygments_lexer": "ipython3",
   "version": "3.12.4"
  }
 },
 "nbformat": 4,
 "nbformat_minor": 2
}
