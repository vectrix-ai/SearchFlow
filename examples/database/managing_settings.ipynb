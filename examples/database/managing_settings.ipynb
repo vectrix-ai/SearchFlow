{
 "cells": [
  {
   "cell_type": "markdown",
   "metadata": {},
   "source": [
    "# Database Setting\n",
    "Using these functions, the settings of Vectrix can be managed"
   ]
  },
  {
   "cell_type": "code",
   "execution_count": 1,
   "metadata": {},
   "outputs": [
    {
     "name": "stderr",
     "output_type": "stream",
     "text": [
      "USER_AGENT environment variable not set, consider setting it to identify your requests.\n"
     ]
    }
   ],
   "source": [
    "import os\n",
    "from dotenv import load_dotenv\n",
    "load_dotenv()\n",
    "from vectrix.db.postgresql import PromptManager\n",
    "\n",
    "prompt_manager = PromptManager(os.getenv(\"DB_URI\"))"
   ]
  },
  {
   "cell_type": "markdown",
   "metadata": {},
   "source": [
    "### Adding Prompts"
   ]
  },
  {
   "cell_type": "code",
   "execution_count": 6,
   "metadata": {},
   "outputs": [
    {
     "name": "stdout",
     "output_type": "stream",
     "text": [
      "Added new prompt: answer_question_based_on_context\n"
     ]
    },
    {
     "data": {
      "text/plain": [
       "2"
      ]
     },
     "execution_count": 6,
     "metadata": {},
     "output_type": "execute_result"
    }
   ],
   "source": [
    "prompt  = \"\"\"\n",
    "You are an AI assistant designed to answer questions based on given context. Your task is to analyze the provided context and answer the question accurately. If the answer is not found in the context, you should respond with \"I don't know\".\n",
    "\n",
    "You will receive input in the following format:\n",
    "\n",
    "<context>\n",
    "{context}\n",
    "</context>\n",
    "\n",
    "This context contains an article with its title, content, and URL.\n",
    "\n",
    "You will also receive a question:\n",
    "\n",
    "<question>\n",
    "{question}\n",
    "</question>\n",
    "\n",
    "To complete this task, follow these steps:\n",
    "\n",
    "1. Carefully read and analyze the provided context.\n",
    "2. Determine if the answer to the question can be found in the context.\n",
    "3. If the answer is in the context:\n",
    "   a. Formulate a clear and concise answer based on the information in the article.\n",
    "   b. Identify the specific quote(s) from the article that support your answer.\n",
    "4. If the answer is not in the context, prepare to respond with \"I don't know\".\n",
    "5. Format your response as a function call using the following structure:\n",
    "\"\"\"\n",
    "\n",
    "prompt_manager.add_prompt(\"answer_question_based_on_context\", prompt)"
   ]
  },
  {
   "cell_type": "markdown",
   "metadata": {},
   "source": [
    "### Listing Prompts"
   ]
  },
  {
   "cell_type": "code",
   "execution_count": 7,
   "metadata": {},
   "outputs": [
    {
     "name": "stdout",
     "output_type": "stream",
     "text": [
      "ID: 2, Name: answer_question_based_on_context, Prompt: \n",
      "You are an AI assistant designed to answer questions based on given context. Your task is to analyze the provided context and answer the question accurately. If the answer is not found in the context, you should respond with \"I don't know\".\n",
      "\n",
      "You will receive input in the following format:\n",
      "\n",
      "<context>\n",
      "{context}\n",
      "</context>\n",
      "\n",
      "This context contains an article with its title, content, and URL.\n",
      "\n",
      "You will also receive a question:\n",
      "\n",
      "<question>\n",
      "{question}\n",
      "</question>\n",
      "\n",
      "To complete this task, follow these steps:\n",
      "\n",
      "1. Carefully read and analyze the provided context.\n",
      "2. Determine if the answer to the question can be found in the context.\n",
      "3. If the answer is in the context:\n",
      "   a. Formulate a clear and concise answer based on the information in the article.\n",
      "   b. Identify the specific quote(s) from the article that support your answer.\n",
      "4. If the answer is not in the context, prepare to respond with \"I don't know\".\n",
      "5. Format your response as a function call using the following structure:\n",
      ", Created: 2024-07-30 09:36:25.165903+00:00, Updated: 2024-07-30 09:36:25.165917+00:00\n"
     ]
    }
   ],
   "source": [
    "all_prompts = prompt_manager.get_all_prompts()\n",
    "for prompt in all_prompts:\n",
    "    print(f\"ID: {prompt.id}, Name: {prompt.name}, Prompt: {prompt.prompt}, Created: {prompt.creation_date}, Updated: {prompt.update_date}\")"
   ]
  },
  {
   "cell_type": "code",
   "execution_count": 8,
   "metadata": {},
   "outputs": [
    {
     "name": "stdout",
     "output_type": "stream",
     "text": [
      "\n",
      "You are an AI assistant designed to answer questions based on given context. Your task is to analyze the provided context and answer the question accurately. If the answer is not found in the context, you should respond with \"I don't know\".\n",
      "\n",
      "You will receive input in the following format:\n",
      "\n",
      "<context>\n",
      "{context}\n",
      "</context>\n",
      "\n",
      "This context contains an article with its title, content, and URL.\n",
      "\n",
      "You will also receive a question:\n",
      "\n",
      "<question>\n",
      "{question}\n",
      "</question>\n",
      "\n",
      "To complete this task, follow these steps:\n",
      "\n",
      "1. Carefully read and analyze the provided context.\n",
      "2. Determine if the answer to the question can be found in the context.\n",
      "3. If the answer is in the context:\n",
      "   a. Formulate a clear and concise answer based on the information in the article.\n",
      "   b. Identify the specific quote(s) from the article that support your answer.\n",
      "4. If the answer is not in the context, prepare to respond with \"I don't know\".\n",
      "5. Format your response as a function call using the following structure:\n",
      "\n"
     ]
    }
   ],
   "source": [
    "print(prompt_manager.get_prompt_by_name('answer_question_based_on_context'))"
   ]
  },
  {
   "cell_type": "markdown",
   "metadata": {},
   "source": [
    "## Remove a prompt"
   ]
  },
  {
   "cell_type": "code",
   "execution_count": 4,
   "metadata": {},
   "outputs": [
    {
     "name": "stdout",
     "output_type": "stream",
     "text": [
      "Removed prompt with ID: 1\n"
     ]
    },
    {
     "data": {
      "text/plain": [
       "True"
      ]
     },
     "execution_count": 4,
     "metadata": {},
     "output_type": "execute_result"
    }
   ],
   "source": [
    "prompt_manager.remove_prompt(1)"
   ]
  }
 ],
 "metadata": {
  "kernelspec": {
   "display_name": ".venv",
   "language": "python",
   "name": "python3"
  },
  "language_info": {
   "codemirror_mode": {
    "name": "ipython",
    "version": 3
   },
   "file_extension": ".py",
   "mimetype": "text/x-python",
   "name": "python",
   "nbconvert_exporter": "python",
   "pygments_lexer": "ipython3",
   "version": "3.12.4"
  }
 },
 "nbformat": 4,
 "nbformat_minor": 2
}
